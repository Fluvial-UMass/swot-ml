{
 "cells": [
  {
   "cell_type": "code",
   "execution_count": null,
   "id": "f17513e1-c1dc-46d6-ba1c-2ec0b4127256",
   "metadata": {},
   "outputs": [],
   "source": [
    "import argparse\n",
    "from run import main\n",
    "\n",
    "p = \"./runs/hybrid_ensemble/ssc_tu_flux_q_064_365_20240612_181905\"\n",
    "args = argparse.Namespace(train=None, continue_training=p)\n",
    "\n",
    "main(args)"
   ]
  },
  {
   "cell_type": "code",
   "execution_count": 1,
   "id": "0abca3e8-e7be-4dc4-adfa-89647c86802f",
   "metadata": {},
   "outputs": [],
   "source": [
    "# This is required to run multiple processes on Unity for some reason.\n",
    "from multiprocessing import set_start_method\n",
    "try:\n",
    "    set_start_method('spawn')\n",
    "except: #Throws if already set\n",
    "    pass\n",
    "\n",
    "# Disable CUDA graphs\n",
    "import os\n",
    "os.environ['XLA_FLAGS'] = '--xla_gpu_enable_command_buffer='\n"
   ]
  },
  {
   "cell_type": "code",
   "execution_count": 2,
   "id": "78f5da32-b4cb-4f70-8bb6-46fe21f28cca",
   "metadata": {},
   "outputs": [],
   "source": [
    "%matplotlib widget\n",
    "import sys\n",
    "import pandas as pd\n",
    "import numpy as np\n",
    "import matplotlib.pyplot as plt\n",
    "import jax\n",
    "from pathlib import Path\n",
    "from importlib import reload\n",
    "\n",
    "src = str(Path('../src').resolve())\n",
    "if src not in sys.path:\n",
    "    sys.path.append(src)\n",
    "import config, data, models, train, evaluate"
   ]
  },
  {
   "cell_type": "code",
   "execution_count": 3,
   "id": "0071c1b9-f9f9-47c5-b802-71bd272a4446",
   "metadata": {},
   "outputs": [],
   "source": [
    "reload(config)\n",
    "from config import read_config\n",
    "\n",
    "cfg, cfg_str = read_config(\"../runs/hybrid/config.yml\")"
   ]
  },
  {
   "cell_type": "code",
   "execution_count": 5,
   "id": "56e66fbb-dc27-436f-a43c-88805520867b",
   "metadata": {},
   "outputs": [
    {
     "name": "stdout",
     "output_type": "stream",
     "text": [
      "Dropping static attributes with 0 variance: ['glc_pc_s03', 'glc_pc_s05', 'glc_pc_s07', 'glc_pc_s08', 'glc_pc_s17', 'glc_pc_s19', 'pnv_pc_s03', 'wet_pc_s05', 'wet_pc_s06', 'wet_pc_s07']\n",
      "Using cached basin dataset file.\n"
     ]
    }
   ],
   "source": [
    "reload(data)\n",
    "from data import TAPDataset\n",
    "\n",
    "dataset = TAPDataset(cfg)"
   ]
  },
  {
   "cell_type": "code",
   "execution_count": null,
   "id": "464e3187-acac-4652-9dcc-1b42e4d2f45c",
   "metadata": {},
   "outputs": [],
   "source": []
  },
  {
   "cell_type": "code",
   "execution_count": 6,
   "id": "03370777-70fd-4525-bcf8-4e7bab4114ed",
   "metadata": {},
   "outputs": [
    {
     "name": "stdout",
     "output_type": "stream",
     "text": [
      "Dataloader using 2 parallel CPU worker(s).\n",
      "Batch sharding set to 1 gpu(s)\n"
     ]
    },
    {
     "name": "stderr",
     "output_type": "stream",
     "text": [
      "2024-06-13 18:00:09.600799: W external/xla/xla/service/gpu/nvptx_compiler.cc:718] The NVIDIA driver's CUDA version is 12.2 which is older than the ptxas CUDA version (12.4.131). Because the driver is older than the ptxas version, XLA is disabling parallel compilation, which may slow down compilation. You should update your NVIDIA driver or use the NVIDIA-provided CUDA forward compatibility packages.\n"
     ]
    },
    {
     "data": {
      "application/vnd.jupyter.widget-view+json": {
       "model_id": "ac8344dc891141b893f0dd6e7159b05d",
       "version_major": 2,
       "version_minor": 0
      },
      "text/plain": [
       "Epoch:001:   0%|          | 0/6 [00:13<?, ?it/s]"
      ]
     },
     "metadata": {},
     "output_type": "display_data"
    },
    {
     "name": "stderr",
     "output_type": "stream",
     "text": [
      "CUDA backend failed to initialize: INTERNAL: no supported devices found for platform CUDA (Set TF_CPP_MIN_LOG_LEVEL=0 and rerun for more info.)\n",
      "CUDA backend failed to initialize: INTERNAL: no supported devices found for platform CUDA (Set TF_CPP_MIN_LOG_LEVEL=0 and rerun for more info.)\n"
     ]
    },
    {
     "name": "stdout",
     "output_type": "stream",
     "text": [
      "vanishing gradients detected:\n",
      "\t.tealstm_i.cell.weight_hh: 1\n",
      "\t.tealstm_i.cell.weight_decomp: 1\n",
      "\t.static_embedder.linear.weight: 1\n",
      "\t.static_embedder.linear.bias: 1\n",
      "\t.static_embedder.layernorm.weight: 1\n",
      "\t.static_embedder.layernorm.bias: 1\n",
      "\t.decoder.layers[0].attention_block.attention.query_proj.weight: 1\n",
      "\t.decoder.layers[0].attention_block.attention.key_proj.weight: 1\n"
     ]
    },
    {
     "data": {
      "application/vnd.jupyter.widget-view+json": {
       "model_id": "09ad03a6808543108e5cb0966b34ad2f",
       "version_major": 2,
       "version_minor": 0
      },
      "text/plain": [
       "Epoch:002:   0%|          | 0/6 [00:00<?, ?it/s]"
      ]
     },
     "metadata": {},
     "output_type": "display_data"
    },
    {
     "data": {
      "application/vnd.jupyter.widget-view+json": {
       "model_id": "0071eafcf2594ef5ab4726c9b7219656",
       "version_major": 2,
       "version_minor": 0
      },
      "text/plain": [
       "Epoch:003:   0%|          | 0/6 [00:00<?, ?it/s]"
      ]
     },
     "metadata": {},
     "output_type": "display_data"
    },
    {
     "data": {
      "application/vnd.jupyter.widget-view+json": {
       "model_id": "5940874dde3c4aca909b29c82f82349e",
       "version_major": 2,
       "version_minor": 0
      },
      "text/plain": [
       "Epoch:004:   0%|          | 0/6 [00:00<?, ?it/s]"
      ]
     },
     "metadata": {},
     "output_type": "display_data"
    },
    {
     "name": "stdout",
     "output_type": "stream",
     "text": [
      "Training finished or interrupted. Model state saved.\n"
     ]
    }
   ],
   "source": [
    "from config import set_model_data_args\n",
    "from data import TAPDataLoader\n",
    "\n",
    "reload(train)\n",
    "from train import Trainer\n",
    "\n",
    "cfg = set_model_data_args(cfg, dataset)\n",
    "cfg['batch_size'] = 16\n",
    "\n",
    "dataloader = TAPDataLoader(cfg, dataset)\n",
    "trainer = Trainer(cfg, dataloader)\n",
    "trainer.start_training()"
   ]
  },
  {
   "cell_type": "code",
   "execution_count": null,
   "id": "dfe339df-1e23-4067-9107-a774c6884a2f",
   "metadata": {},
   "outputs": [],
   "source": [
    "# Resume training. Either directly from memory or loading a checkpoint.\n",
    "import optax\n",
    "\n",
    "# trainer.load_state('epoch100')\n",
    "# trainer.load_last_state()\n",
    "\n",
    "more_epochs = 0\n",
    "new_schedule = optax.exponential_decay(0.01, trainer.epoch+more_epochs, 0.001, transition_begin=trainer.epoch)\n",
    "trainer.lr_schedule = new_schedule\n",
    "trainer.num_epochs += more_epochs\n",
    "\n",
    "#Have to make a new dataloader when the last one is interrupted. \n",
    "trainer.dataloader = TAPDataLoader(cfg, dataset) \n",
    "trainer.start_training() "
   ]
  },
  {
   "cell_type": "code",
   "execution_count": null,
   "id": "e582450b-1c95-4d31-b15e-52ac13f850ee",
   "metadata": {},
   "outputs": [],
   "source": [
    "reload(evaluate)\n",
    "from evaluate import predict, get_all_metrics\n",
    "\n",
    "# basin = np.random.choice(dataset.basins).tolist()\n",
    "basin = 'USGS-09367540'\n",
    "\n",
    "cfg['data_subset'] = 'predict'\n",
    "cfg['basin_subset'] =  basin\n",
    "cfg['num_workers'] = 0 # Faster for small runs\n",
    "dataloader = TAPDataLoader(cfg, dataset)\n",
    "\n",
    "results, metrics = predict(trainer.model, dataloader, seed=0, denormalize=True)\n",
    "results['pred'] = results['pred'] * (results['pred']>0) #Clip predictions to 0\n",
    "\n",
    "results = results.reset_index()\n",
    "results = results.sort_values(by='date')\n",
    "results = results.drop(columns=['basin'])\n",
    "results.set_index('date', inplace=True)\n",
    "\n"
   ]
  },
  {
   "cell_type": "code",
   "execution_count": null,
   "id": "4e119cc9-dc63-411f-a3a8-0a17c5865b01",
   "metadata": {},
   "outputs": [],
   "source": [
    "# Plot the true values and predictions\n",
    "fig, ax = plt.subplots(figsize=(12, 6))\n",
    "results['pred'].plot(ax=ax)\n",
    "results['obs'].plot(ax=ax,linestyle='None',marker='.')\n",
    "\n",
    "plt.title(f\"Basin: {basin}\")\n",
    "plt.legend()\n",
    "fig.autofmt_xdate()\n",
    "# plt.ylim([0,20000])\n",
    "plt.show()"
   ]
  },
  {
   "cell_type": "code",
   "execution_count": null,
   "id": "eef13af0-e8dc-4c69-8dc6-dc43db1e762c",
   "metadata": {},
   "outputs": [],
   "source": [
    "basin"
   ]
  },
  {
   "cell_type": "code",
   "execution_count": null,
   "id": "3eca6668-d620-4c06-8dea-00c3539b4268",
   "metadata": {},
   "outputs": [],
   "source": [
    "\"\"\"\n",
    "'USGS-09367540'\n",
    "\"\"\""
   ]
  },
  {
   "cell_type": "code",
   "execution_count": null,
   "id": "58fec15c-904c-4b45-b531-f36c771772c5",
   "metadata": {},
   "outputs": [],
   "source": [
    "results.plot.scatter('obs','pred')\n",
    "plt.gca().axis('square')\n",
    "# plt.xscale('log')\n",
    "# plt.yscale('log')\n",
    "# plt.xlim([0,20])\n",
    "# plt.ylim([0,20])\n",
    "plt.show()"
   ]
  },
  {
   "cell_type": "code",
   "execution_count": null,
   "id": "28fffacb-aba8-4ec7-883d-d972b27810b0",
   "metadata": {},
   "outputs": [],
   "source": [
    "import train\n",
    "from data import TAPDataset, TAPDataLoader\n",
    "\n",
    "state_dir = Path(\"../runs/notebook/20240603_1359/epoch18\")\n",
    "cfg, model, trainer_state, opt_state = train.load_state(state_dir)\n",
    "dataset = TAPDataset(cfg)"
   ]
  },
  {
   "cell_type": "code",
   "execution_count": null,
   "id": "f40c0602-ede9-4ce2-a776-017ca3fd3e5d",
   "metadata": {},
   "outputs": [],
   "source": [
    "reload(evaluate)\n",
    "from evaluate import predict, get_all_metrics\n",
    "\n",
    "cfg['data_subset'] = 'test'\n",
    "cfg['num_workers'] = 4\n",
    "dataloader = TAPDataLoader(cfg, dataset)\n",
    "\n",
    "results = predict(model, dataloader, seed=0, denormalize=True)\n",
    "results['pred'] = results['pred']# * (results['pred']>0) #Clip predictions to 0\n",
    "\n",
    "# results = results.reset_index()\n",
    "# results = results.sort_values(by='date')\n",
    "\n",
    "metrics = get_all_metrics(results['obs'],results['pred'])\n",
    "metrics"
   ]
  },
  {
   "cell_type": "code",
   "execution_count": null,
   "id": "74754f77-4ecb-4e14-b687-e5d3691a809f",
   "metadata": {},
   "outputs": [],
   "source": [
    "%matplotlib widget\n",
    "plt.close('all')\n",
    "plt.scatter(batch['y'][...,-1],pred[...,-1])\n",
    "plt.show()"
   ]
  },
  {
   "cell_type": "code",
   "execution_count": null,
   "id": "2038461e-64ba-4a7e-a688-84b691036809",
   "metadata": {},
   "outputs": [],
   "source": [
    "fig, axes = plt.subplots(1, 3, figsize=(10,3))\n",
    "xd = axes[0].imshow(batch['x_dd'][:,:,0],aspect='auto')\n",
    "fig.colorbar(xd, ax=axes[0])\n",
    "xs = axes[1].imshow(batch['x_s'],aspect='auto')\n",
    "fig.colorbar(xs, ax=axes[1]) "
   ]
  },
  {
   "cell_type": "code",
   "execution_count": null,
   "id": "73b4dcd7-9d86-4b5b-9334-b3bd2ff06494",
   "metadata": {},
   "outputs": [],
   "source": [
    "batch['x_dd'][:,:,0].shape"
   ]
  },
  {
   "cell_type": "code",
   "execution_count": null,
   "id": "902fbb49-01ce-4273-80f7-dec87c7ba3ad",
   "metadata": {},
   "outputs": [],
   "source": [
    "basins[idx_max_err]"
   ]
  },
  {
   "cell_type": "code",
   "execution_count": null,
   "id": "6128b624-a3ce-4670-8149-37b2b739d882",
   "metadata": {},
   "outputs": [],
   "source": [
    "positional_encoding = trainer.model.d_encoder.embedder.positional_encoding\n",
    "\n",
    "plt.figure(figsize=(10, 8))\n",
    "plt.imshow(positional_encoding, cmap='viridis')\n",
    "plt.xlabel('Embedding Dimension')\n",
    "plt.ylabel('Position')\n",
    "plt.title('Positional Encodings')\n",
    "plt.show()"
   ]
  }
 ],
 "metadata": {
  "kernelspec": {
   "display_name": "Python [conda env:.conda-tss-ml]",
   "language": "python",
   "name": "conda-env-.conda-tss-ml-py"
  },
  "language_info": {
   "codemirror_mode": {
    "name": "ipython",
    "version": 3
   },
   "file_extension": ".py",
   "mimetype": "text/x-python",
   "name": "python",
   "nbconvert_exporter": "python",
   "pygments_lexer": "ipython3",
   "version": "3.10.14"
  }
 },
 "nbformat": 4,
 "nbformat_minor": 5
}
