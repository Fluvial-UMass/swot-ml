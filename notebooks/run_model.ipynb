{
 "cells": [
  {
   "cell_type": "code",
   "execution_count": 1,
   "id": "0abca3e8-e7be-4dc4-adfa-89647c86802f",
   "metadata": {},
   "outputs": [],
   "source": [
    "# This is required to run multiple processes on Unity for some reason.\n",
    "from multiprocessing import set_start_method\n",
    "set_start_method('spawn', force=True)\n",
    "\n",
    "\n",
    "import os\n",
    "# os.environ['XLA_PYTHON_CLIENT_ALLOCATOR'] = 'platform'\n",
    "os.environ['XLA_FLAGS'] = '--xla_gpu_enable_command_buffer='\n",
    "os.environ['XLA_PYTHON_CLIENT_MEM_FRACTION'] = '0.7'\n",
    "# os.environ['JAX_PLATFORMS'] = 'cpu'"
   ]
  },
  {
   "cell_type": "code",
   "execution_count": 2,
   "id": "78f5da32-b4cb-4f70-8bb6-46fe21f28cca",
   "metadata": {},
   "outputs": [],
   "source": [
    "%matplotlib widget\n",
    "import sys\n",
    "import pandas as pd\n",
    "import numpy as np\n",
    "import matplotlib.pyplot as plt\n",
    "import jax\n",
    "from pathlib import Path\n",
    "from importlib import reload\n",
    "\n",
    "src = str(Path('../src').resolve())\n",
    "if src not in sys.path:\n",
    "    sys.path.append(src)\n",
    "import config, data, models, train, evaluate"
   ]
  },
  {
   "cell_type": "code",
   "execution_count": 3,
   "id": "0071c1b9-f9f9-47c5-b802-71bd272a4446",
   "metadata": {},
   "outputs": [],
   "source": [
    "# reload(config)\n",
    "from config import read_config\n",
    "\n",
    "cfg, cfg_str = read_config(\"../runs/swotq/64.yml\")\n",
    "cfg['num_workers'] = 1\n",
    "cfg['log'] = True\n",
    "cfg['quiet'] = False\n"
   ]
  },
  {
   "cell_type": "code",
   "execution_count": 7,
   "id": "6402a68d-fd5e-4966-8dba-df9353c897ac",
   "metadata": {},
   "outputs": [
    {
     "data": {
      "text/plain": [
       "{'dynamic': {'era5': ['snow_cover',\n",
       "   'snowfall_sum',\n",
       "   'snowmelt_sum',\n",
       "   'surface_runoff_sum',\n",
       "   'surface_solar_radiation_downwards_sum',\n",
       "   'surface_thermal_radiation_downwards_sum',\n",
       "   'temperature_2m',\n",
       "   'total_evaporation_sum',\n",
       "   'total_precipitation_sum'],\n",
       "  'swot': ['d_wse',\n",
       "   'wse_u',\n",
       "   'wse_r_u',\n",
       "   'slope',\n",
       "   'slope_u',\n",
       "   'slope_r_u',\n",
       "   'd_width',\n",
       "   'width_u',\n",
       "   'area_total',\n",
       "   'area_tot_u',\n",
       "   'area_detct',\n",
       "   'area_det_u',\n",
       "   'layovr_val',\n",
       "   'loc_offset',\n",
       "   'xtrk_dist',\n",
       "   'reach_q',\n",
       "   'reach_q_b',\n",
       "   'ice_clim_f',\n",
       "   'partial_f',\n",
       "   'obs_frac_n',\n",
       "   'xovr_cal_q',\n",
       "   'dark_frac']},\n",
       " 'static': None,\n",
       " 'target': ['usgs_q']}"
      ]
     },
     "execution_count": 7,
     "metadata": {},
     "output_type": "execute_result"
    }
   ],
   "source": [
    "cfg['features']"
   ]
  },
  {
   "cell_type": "code",
   "execution_count": 6,
   "id": "56e66fbb-dc27-436f-a43c-88805520867b",
   "metadata": {},
   "outputs": [
    {
     "name": "stderr",
     "output_type": "stream",
     "text": [
      "/work/pi_kandread_umass_edu/tss-ml/src/data/hydrodata.py:174: UserWarning: Dropping numerical attributes with 0 variance or NaN values: ['wet_pc_s05', 'wet_pc_s07', 'wet_pc_s06', 'pnv_pc_s03', 'aspect', 'order', 'glc_pc_s05', 'area', 'glc_pc_s17', 'glc_pc_s19', 'glc_pc_s08', 'glc_pc_s03', 'glc_pc_s07', 'n_bas_up', 'pnv_pc_s01']\n",
      "  warnings.warn(f\"Dropping numerical attributes with 0 variance or NaN values: {cols_to_drop}\", UserWarning)\n"
     ]
    },
    {
     "name": "stdout",
     "output_type": "stream",
     "text": [
      "Data Hash: 1ca0e55e1aa8432bfbef9a5ec6ec8de304b398b2e778daed268198f86cd228a5\n"
     ]
    },
    {
     "data": {
      "application/vnd.jupyter.widget-view+json": {
       "model_id": "b5f1655330bb468d8ecf49cf9207ac0a",
       "version_major": 2,
       "version_minor": 0
      },
      "text/plain": [
       "Loading Basins:   0%|          | 0/10 [00:00<?, ?it/s]"
      ]
     },
     "metadata": {},
     "output_type": "display_data"
    },
    {
     "data": {
      "application/vnd.jupyter.widget-view+json": {
       "model_id": "d692208fa40f457293370e959aa6bc8a",
       "version_major": 2,
       "version_minor": 0
      },
      "text/plain": [
       "Updating Indices:   0%|          | 0/10 [00:00<?, ?it/s]"
      ]
     },
     "metadata": {},
     "output_type": "display_data"
    }
   ],
   "source": [
    "reload(data)\n",
    "from data import HydroDataset\n",
    "\n",
    "dataset = HydroDataset(cfg)"
   ]
  },
  {
   "cell_type": "code",
   "execution_count": 8,
   "id": "03370777-70fd-4525-bcf8-4e7bab4114ed",
   "metadata": {},
   "outputs": [
    {
     "name": "stdout",
     "output_type": "stream",
     "text": [
      "Dataloader using 1 parallel CPU worker(s).\n",
      "Batch sharding set to 1 gpu(s)\n",
      "Logging at ../runs/notebook/20240903_183431\n"
     ]
    },
    {
     "name": "stderr",
     "output_type": "stream",
     "text": [
      "2024-09-03 18:34:31.190629: W external/xla/xla/service/gpu/nvptx_compiler.cc:836] The NVIDIA driver's CUDA version is 12.2 which is older than the PTX compiler version (12.6.20). Because the driver is older than the PTX compiler version, XLA is disabling parallel compilation, which may slow down compilation. You should update your NVIDIA driver or use the NVIDIA-provided CUDA forward compatibility packages.\n"
     ]
    },
    {
     "name": "stdout",
     "output_type": "stream",
     "text": [
      "Model contains 185,409 parameters, using 724.25KB memory.\n"
     ]
    },
    {
     "name": "stderr",
     "output_type": "stream",
     "text": [
      "Epoch:001:   0%|          | 0/199 [00:00<?, ?it/s]2024-09-03 18:34:49.449809: W external/xla/xla/service/gpu/nvptx_compiler.cc:836] The NVIDIA driver's CUDA version is 12.2 which is older than the PTX compiler version (12.6.20). Because the driver is older than the PTX compiler version, XLA is disabling parallel compilation, which may slow down compilation. You should update your NVIDIA driver or use the NVIDIA-provided CUDA forward compatibility packages.\n",
      "/home/tlanghorst_umass_edu/.conda/envs/tss-ml/lib/python3.10/site-packages/jax/_src/core.py:691: FutureWarning: unhashable type: <class 'jax._src.interpreters.ad.JVPTracer'>. Attempting to hash a tracer will lead to an error in a future JAX release.\n",
      "  warnings.warn(\n",
      "/home/tlanghorst_umass_edu/.conda/envs/tss-ml/lib/python3.10/site-packages/jax/_src/core.py:691: FutureWarning: unhashable type: <class 'jax._src.interpreters.ad.JVPTracer'>. Attempting to hash a tracer will lead to an error in a future JAX release.\n",
      "  warnings.warn(\n",
      "Epoch:001: 100%|██████████| 199/199 [01:38<00:00,  2.01it/s, Loss:0.1573]\n",
      "Epoch:002:   0%|          | 0/199 [00:00<?, ?it/s]/home/tlanghorst_umass_edu/.conda/envs/tss-ml/lib/python3.10/site-packages/jax/_src/core.py:691: FutureWarning: unhashable type: <class 'jax._src.interpreters.ad.JVPTracer'>. Attempting to hash a tracer will lead to an error in a future JAX release.\n",
      "  warnings.warn(\n",
      "/home/tlanghorst_umass_edu/.conda/envs/tss-ml/lib/python3.10/site-packages/jax/_src/core.py:691: FutureWarning: unhashable type: <class 'jax._src.interpreters.ad.JVPTracer'>. Attempting to hash a tracer will lead to an error in a future JAX release.\n",
      "  warnings.warn(\n",
      "Epoch:002: 100%|██████████| 199/199 [01:04<00:00,  3.08it/s, Loss:0.1692]\n",
      "Epoch:003:   0%|          | 0/199 [00:00<?, ?it/s]/home/tlanghorst_umass_edu/.conda/envs/tss-ml/lib/python3.10/site-packages/jax/_src/core.py:691: FutureWarning: unhashable type: <class 'jax._src.interpreters.ad.JVPTracer'>. Attempting to hash a tracer will lead to an error in a future JAX release.\n",
      "  warnings.warn(\n",
      "/home/tlanghorst_umass_edu/.conda/envs/tss-ml/lib/python3.10/site-packages/jax/_src/core.py:691: FutureWarning: unhashable type: <class 'jax._src.interpreters.ad.JVPTracer'>. Attempting to hash a tracer will lead to an error in a future JAX release.\n",
      "  warnings.warn(\n",
      "Epoch:003: 100%|██████████| 199/199 [01:04<00:00,  3.09it/s, Loss:0.2231]\n",
      "Epoch:004:   0%|          | 0/199 [00:00<?, ?it/s]/home/tlanghorst_umass_edu/.conda/envs/tss-ml/lib/python3.10/site-packages/jax/_src/core.py:691: FutureWarning: unhashable type: <class 'jax._src.interpreters.ad.JVPTracer'>. Attempting to hash a tracer will lead to an error in a future JAX release.\n",
      "  warnings.warn(\n",
      "/home/tlanghorst_umass_edu/.conda/envs/tss-ml/lib/python3.10/site-packages/jax/_src/core.py:691: FutureWarning: unhashable type: <class 'jax._src.interpreters.ad.JVPTracer'>. Attempting to hash a tracer will lead to an error in a future JAX release.\n",
      "  warnings.warn(\n",
      "Epoch:004: 100%|██████████| 199/199 [01:04<00:00,  3.08it/s, Loss:0.1623]\n",
      "Epoch:005:   0%|          | 0/199 [00:00<?, ?it/s]/home/tlanghorst_umass_edu/.conda/envs/tss-ml/lib/python3.10/site-packages/jax/_src/core.py:691: FutureWarning: unhashable type: <class 'jax._src.interpreters.ad.JVPTracer'>. Attempting to hash a tracer will lead to an error in a future JAX release.\n",
      "  warnings.warn(\n",
      "/home/tlanghorst_umass_edu/.conda/envs/tss-ml/lib/python3.10/site-packages/jax/_src/core.py:691: FutureWarning: unhashable type: <class 'jax._src.interpreters.ad.JVPTracer'>. Attempting to hash a tracer will lead to an error in a future JAX release.\n",
      "  warnings.warn(\n",
      "Epoch:005: 100%|██████████| 199/199 [01:04<00:00,  3.08it/s, Loss:0.0626]\n",
      "Epoch:006:   0%|          | 0/199 [00:00<?, ?it/s]/home/tlanghorst_umass_edu/.conda/envs/tss-ml/lib/python3.10/site-packages/jax/_src/core.py:691: FutureWarning: unhashable type: <class 'jax._src.interpreters.ad.JVPTracer'>. Attempting to hash a tracer will lead to an error in a future JAX release.\n",
      "  warnings.warn(\n",
      "/home/tlanghorst_umass_edu/.conda/envs/tss-ml/lib/python3.10/site-packages/jax/_src/core.py:691: FutureWarning: unhashable type: <class 'jax._src.interpreters.ad.JVPTracer'>. Attempting to hash a tracer will lead to an error in a future JAX release.\n",
      "  warnings.warn(\n",
      "Epoch:006:   0%|          | 0/199 [00:03<?, ?it/s]\n",
      "Process Process-1:\n",
      "\n",
      "KeyboardInterrupt\n",
      "\n",
      "Traceback (most recent call last):\n",
      "  File \"/home/tlanghorst_umass_edu/.conda/envs/tss-ml/lib/python3.10/multiprocessing/process.py\", line 317, in _bootstrap\n",
      "    util._exit_function()\n",
      "  File \"/home/tlanghorst_umass_edu/.conda/envs/tss-ml/lib/python3.10/multiprocessing/util.py\", line 360, in _exit_function\n",
      "    _run_finalizers()\n",
      "  File \"/home/tlanghorst_umass_edu/.conda/envs/tss-ml/lib/python3.10/multiprocessing/util.py\", line 300, in _run_finalizers\n",
      "    finalizer()\n",
      "  File \"/home/tlanghorst_umass_edu/.conda/envs/tss-ml/lib/python3.10/multiprocessing/util.py\", line 224, in __call__\n",
      "    res = self._callback(*self._args, **self._kwargs)\n",
      "  File \"/home/tlanghorst_umass_edu/.conda/envs/tss-ml/lib/python3.10/multiprocessing/queues.py\", line 199, in _finalize_join\n",
      "    thread.join()\n",
      "  File \"/home/tlanghorst_umass_edu/.conda/envs/tss-ml/lib/python3.10/threading.py\", line 1096, in join\n",
      "    self._wait_for_tstate_lock()\n",
      "  File \"/home/tlanghorst_umass_edu/.conda/envs/tss-ml/lib/python3.10/threading.py\", line 1116, in _wait_for_tstate_lock\n",
      "    if lock.acquire(block, timeout):\n",
      "KeyboardInterrupt\n"
     ]
    }
   ],
   "source": [
    "# reload(config)\n",
    "from config import set_model_data_args\n",
    "from data import HydroDataLoader\n",
    "\n",
    "reload(train)\n",
    "from train import Trainer\n",
    "\n",
    "cfg = set_model_data_args(cfg, dataset)\n",
    "\n",
    "dataloader = HydroDataLoader(cfg, dataset)\n",
    "trainer = Trainer(cfg, dataloader)\n",
    "trainer.start_training()"
   ]
  },
  {
   "cell_type": "code",
   "execution_count": null,
   "id": "63f00dfd-c35c-45ca-8b38-aad930946696",
   "metadata": {},
   "outputs": [],
   "source": []
  },
  {
   "cell_type": "code",
   "execution_count": null,
   "id": "f83e1943-ec6b-44d4-a542-83311eafeae7",
   "metadata": {},
   "outputs": [],
   "source": [
    "plt.close('all')\n",
    "plt.imshow(batch['swot'][3])"
   ]
  },
  {
   "cell_type": "code",
   "execution_count": null,
   "id": "2ce34d68-104e-41ae-a08f-b97d4be939a3",
   "metadata": {},
   "outputs": [],
   "source": [
    "list(dataset.scale.keys())"
   ]
  },
  {
   "cell_type": "code",
   "execution_count": null,
   "id": "ead6208f-ecda-4466-b4b1-2ae09040b9fe",
   "metadata": {},
   "outputs": [],
   "source": [
    "batch['swot'][3,8,:]"
   ]
  },
  {
   "cell_type": "code",
   "execution_count": null,
   "id": "9b96437c-3c04-4bf6-b81d-79f8e1c0e3d0",
   "metadata": {},
   "outputs": [],
   "source": []
  },
  {
   "cell_type": "code",
   "execution_count": null,
   "id": "60a8ec90-751a-4f59-88aa-b2f46d38640c",
   "metadata": {},
   "outputs": [],
   "source": [
    "alt_cfg = cfg.copy()\n",
    "alt_cfg['batch_size'] = 1\n",
    "dataloader = TAPDataLoader(alt_cfg, dataset)\n",
    "\n",
    "for basin, date, batch in dataloader:\n",
    "    break\n",
    "    \n",
    "single_data = {k: v[0,...] for k, v in batch.items()}"
   ]
  },
  {
   "cell_type": "code",
   "execution_count": null,
   "id": "49c69c59-83f0-42b7-882b-e67a7984682b",
   "metadata": {},
   "outputs": [],
   "source": [
    "trainer.model(single_data, jax.random.PRNGKey(0))"
   ]
  },
  {
   "cell_type": "code",
   "execution_count": null,
   "id": "c12b45c4-7740-49f0-974d-45218c94f481",
   "metadata": {},
   "outputs": [],
   "source": [
    "batch['y'][0,...].shape"
   ]
  },
  {
   "cell_type": "code",
   "execution_count": null,
   "id": "7527bb63-5901-44bb-bb6e-39a21530ab12",
   "metadata": {},
   "outputs": [],
   "source": []
  },
  {
   "cell_type": "code",
   "execution_count": null,
   "id": "853acf07-80fd-42e5-9cd8-a8de38c46a5a",
   "metadata": {},
   "outputs": [],
   "source": []
  },
  {
   "cell_type": "code",
   "execution_count": null,
   "id": "dfe339df-1e23-4067-9107-a774c6884a2f",
   "metadata": {},
   "outputs": [],
   "source": [
    "# Resume training. Either directly from memory or loading a checkpoint.\n",
    "import optax\n",
    "\n",
    "# trainer.load_state('epoch100')\n",
    "# trainer.load_last_state()\n",
    "\n",
    "more_epochs = 0\n",
    "new_schedule = optax.exponential_decay(0.01, trainer.epoch+more_epochs, 0.001, transition_begin=trainer.epoch)\n",
    "trainer.lr_schedule = new_schedule\n",
    "trainer.num_epochs += more_epochs\n",
    "\n",
    "#Have to make a new dataloader when the last one is interrupted. \n",
    "trainer.dataloader = TAPDataLoader(cfg, dataset) \n",
    "trainer.start_training() "
   ]
  },
  {
   "cell_type": "code",
   "execution_count": null,
   "id": "1098369f-f97c-4f4b-a543-7da1a73cc4d9",
   "metadata": {},
   "outputs": [],
   "source": []
  },
  {
   "cell_type": "code",
   "execution_count": null,
   "id": "e582450b-1c95-4d31-b15e-52ac13f850ee",
   "metadata": {},
   "outputs": [],
   "source": [
    "reload(evaluate)\n",
    "from evaluate import predict, get_all_metrics\n",
    "\n",
    "# basin = np.random.choice(dataset.basins).tolist()\n",
    "basin = 'USGS-09367540'\n",
    "\n",
    "cfg['data_subset'] = 'predict'\n",
    "cfg['basin_subset'] =  basin\n",
    "cfg['num_workers'] = 0 # Faster for small runs\n",
    "dataloader = TAPDataLoader(cfg, dataset)\n",
    "\n",
    "results = predict(trainer.model, dataloader, seed=0, denormalize=True)\n",
    "results['pred'] = results['pred'] * (results['pred']>0) #Clip predictions to 0\n",
    "\n",
    "results = results.reset_index()\n",
    "results = results.sort_values(by='date')\n",
    "results = results.drop(columns=['basin'], axis=1, level=0)\n",
    "results.set_index('date', inplace=True)\n"
   ]
  },
  {
   "cell_type": "code",
   "execution_count": null,
   "id": "4e119cc9-dc63-411f-a3a8-0a17c5865b01",
   "metadata": {},
   "outputs": [],
   "source": [
    "feature = 'usgs_q'\n",
    "\n",
    "# Plot the true values and predictions\n",
    "fig, ax = plt.subplots(figsize=(12, 6))\n",
    "results['pred'][feature].plot(ax=ax)\n",
    "results['obs'][feature].plot(ax=ax,linestyle='None',marker='.')\n",
    "\n",
    "plt.title(f\"Basin: {basin}\")\n",
    "plt.legend()\n",
    "fig.autofmt_xdate()\n",
    "# plt.ylim([0,20000])\n",
    "plt.show()"
   ]
  },
  {
   "cell_type": "code",
   "execution_count": null,
   "id": "eef13af0-e8dc-4c69-8dc6-dc43db1e762c",
   "metadata": {},
   "outputs": [],
   "source": [
    "basin"
   ]
  },
  {
   "cell_type": "code",
   "execution_count": null,
   "id": "3eca6668-d620-4c06-8dea-00c3539b4268",
   "metadata": {},
   "outputs": [],
   "source": [
    "\"\"\"\n",
    "'USGS-09367540'\n",
    "\"\"\""
   ]
  },
  {
   "cell_type": "code",
   "execution_count": null,
   "id": "58fec15c-904c-4b45-b531-f36c771772c5",
   "metadata": {},
   "outputs": [],
   "source": [
    "results.plot.scatter('obs','pred')\n",
    "plt.gca().axis('square')\n",
    "# plt.xscale('log')\n",
    "# plt.yscale('log')\n",
    "# plt.xlim([0,20])\n",
    "# plt.ylim([0,20])\n",
    "plt.show()"
   ]
  },
  {
   "cell_type": "code",
   "execution_count": null,
   "id": "28fffacb-aba8-4ec7-883d-d972b27810b0",
   "metadata": {},
   "outputs": [],
   "source": [
    "import train\n",
    "from data import TAPDataset, TAPDataLoader\n",
    "\n",
    "state_dir = Path(\"../runs/notebook/20240603_1359/epoch18\")\n",
    "cfg, model, trainer_state, opt_state = train.load_state(state_dir)\n",
    "dataset = TAPDataset(cfg)"
   ]
  },
  {
   "cell_type": "code",
   "execution_count": null,
   "id": "f40c0602-ede9-4ce2-a776-017ca3fd3e5d",
   "metadata": {},
   "outputs": [],
   "source": [
    "reload(evaluate)\n",
    "from evaluate import predict, get_all_metrics\n",
    "\n",
    "cfg['data_subset'] = 'test'\n",
    "cfg['num_workers'] = 4\n",
    "dataloader = TAPDataLoader(cfg, dataset)\n",
    "\n",
    "results = predict(model, dataloader, seed=0, denormalize=True)\n",
    "results['pred'] = results['pred']# * (results['pred']>0) #Clip predictions to 0\n",
    "\n",
    "# results = results.reset_index()\n",
    "# results = results.sort_values(by='date')\n",
    "\n",
    "metrics = get_all_metrics(results['obs'],results['pred'])\n",
    "metrics"
   ]
  },
  {
   "cell_type": "code",
   "execution_count": null,
   "id": "74754f77-4ecb-4e14-b687-e5d3691a809f",
   "metadata": {},
   "outputs": [],
   "source": [
    "%matplotlib widget\n",
    "plt.close('all')\n",
    "plt.scatter(batch['y'][...,-1],pred[...,-1])\n",
    "plt.show()"
   ]
  },
  {
   "cell_type": "code",
   "execution_count": null,
   "id": "2038461e-64ba-4a7e-a688-84b691036809",
   "metadata": {},
   "outputs": [],
   "source": [
    "fig, axes = plt.subplots(1, 3, figsize=(10,3))\n",
    "xd = axes[0].imshow(batch['x_dd'][:,:,0],aspect='auto')\n",
    "fig.colorbar(xd, ax=axes[0])\n",
    "xs = axes[1].imshow(batch['x_s'],aspect='auto')\n",
    "fig.colorbar(xs, ax=axes[1]) "
   ]
  },
  {
   "cell_type": "code",
   "execution_count": null,
   "id": "73b4dcd7-9d86-4b5b-9334-b3bd2ff06494",
   "metadata": {},
   "outputs": [],
   "source": [
    "batch['x_dd'][:,:,0].shape"
   ]
  },
  {
   "cell_type": "code",
   "execution_count": null,
   "id": "902fbb49-01ce-4273-80f7-dec87c7ba3ad",
   "metadata": {},
   "outputs": [],
   "source": [
    "basins[idx_max_err]"
   ]
  },
  {
   "cell_type": "code",
   "execution_count": null,
   "id": "6128b624-a3ce-4670-8149-37b2b739d882",
   "metadata": {},
   "outputs": [],
   "source": [
    "positional_encoding = trainer.model.d_encoder.embedder.positional_encoding\n",
    "\n",
    "plt.figure(figsize=(10, 8))\n",
    "plt.imshow(positional_encoding, cmap='viridis')\n",
    "plt.xlabel('Embedding Dimension')\n",
    "plt.ylabel('Position')\n",
    "plt.title('Positional Encodings')\n",
    "plt.show()"
   ]
  }
 ],
 "metadata": {
  "kernelspec": {
   "display_name": "Python [conda env:.conda-tss-ml]",
   "language": "python",
   "name": "conda-env-.conda-tss-ml-py"
  },
  "language_info": {
   "codemirror_mode": {
    "name": "ipython",
    "version": 3
   },
   "file_extension": ".py",
   "mimetype": "text/x-python",
   "name": "python",
   "nbconvert_exporter": "python",
   "pygments_lexer": "ipython3",
   "version": "3.10.14"
  }
 },
 "nbformat": 4,
 "nbformat_minor": 5
}
