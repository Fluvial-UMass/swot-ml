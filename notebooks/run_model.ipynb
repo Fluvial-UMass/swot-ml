{
 "cells": [
  {
   "cell_type": "code",
   "execution_count": 1,
   "id": "ec7f3b20-c939-47af-b8e3-a90c27e17996",
   "metadata": {},
   "outputs": [],
   "source": [
    "import os\n",
    "os.environ['JAX_PLATFORMS'] = 'cpu'\n",
    "\n",
    "# This is required to run multiple processes with JAX.\n",
    "from multiprocessing import set_start_method\n",
    "set_start_method('spawn', force=True)"
   ]
  },
  {
   "cell_type": "code",
   "execution_count": 2,
   "id": "d57f684e-e5b4-4f47-a612-6fc700313fd9",
   "metadata": {},
   "outputs": [],
   "source": [
    "import sys\n",
    "import numpy as np\n",
    "import pandas as pd\n",
    "import matplotlib.pyplot as plt\n",
    "import jax\n",
    "import jax.numpy as jnp\n",
    "from tqdm import tqdm\n",
    "from pathlib import Path\n",
    "\n",
    "src_path = Path(\"/nas/cee-water/cjgleason/ted/swot-ml/src\")\n",
    "if str(src_path) not in sys.path:\n",
    "    sys.path.insert(0, str(src_path))\n",
    "from config import Config"
   ]
  },
  {
   "cell_type": "code",
   "execution_count": 3,
   "id": "c824aac6-9cdc-4a31-bcde-19106ec2c1b1",
   "metadata": {},
   "outputs": [],
   "source": [
    "# cfg = cp.read_config('/nas/cee-water/cjgleason/ted/swot-ml/runs/_examples/pydantic_config.yml')\n",
    "cfg = Config.from_file('/nas/cee-water/cjgleason/ted/swot-ml/runs/global_short/toy.yml')"
   ]
  },
  {
   "cell_type": "code",
   "execution_count": 4,
   "id": "c709a172-baa4-456d-bd64-f1852679f3e9",
   "metadata": {},
   "outputs": [
    {
     "name": "stdout",
     "output_type": "stream",
     "text": [
      "Loading static attributes\n",
      "Loading dynamic data\n",
      "Data Hash: bddb984b0ab5b1647d1c9d72603106889c19bb856fb902eab49668b4f5e5f7da\n",
      "Using cached basin dataset.\n"
     ]
    },
    {
     "data": {
      "application/vnd.jupyter.widget-view+json": {
       "model_id": "ba7728aa11da4f4f9fa39f5d7566260f",
       "version_major": 2,
       "version_minor": 0
      },
      "text/plain": [
       "Updating Indices:   0%|          | 0/10 [00:00<?, ?it/s]"
      ]
     },
     "metadata": {},
     "output_type": "display_data"
    },
    {
     "name": "stderr",
     "output_type": "stream",
     "text": [
      "ERROR:2025-06-30 18:36:12,715:jax._src.xla_bridge:444: Jax plugin configuration error: Exception when calling jax_plugins.xla_cuda12.initialize()\n",
      "Traceback (most recent call last):\n",
      "  File \"/nas/cee-water/cjgleason/ted/swot-ml/.venv/lib/python3.11/site-packages/jax/_src/xla_bridge.py\", line 442, in discover_pjrt_plugins\n",
      "    plugin_module.initialize()\n",
      "  File \"/nas/cee-water/cjgleason/ted/swot-ml/.venv/lib/python3.11/site-packages/jax_plugins/xla_cuda12/__init__.py\", line 324, in initialize\n",
      "    _check_cuda_versions(raise_on_first_error=True)\n",
      "  File \"/nas/cee-water/cjgleason/ted/swot-ml/.venv/lib/python3.11/site-packages/jax_plugins/xla_cuda12/__init__.py\", line 281, in _check_cuda_versions\n",
      "    local_device_count = cuda_versions.cuda_device_count()\n",
      "                         ^^^^^^^^^^^^^^^^^^^^^^^^^^^^^^^^^\n",
      "RuntimeError: jaxlib/cuda/versions_helpers.cc:113: operation cuInit(0) failed: Unknown CUDA error 303; cuGetErrorName failed. This probably means that JAX was unable to load the CUDA libraries.\n"
     ]
    },
    {
     "name": "stdout",
     "output_type": "stream",
     "text": [
      "Dataloader using 1 parallel CPU worker(s).\n",
      "Batch sharding set to 1 cpu(s)\n"
     ]
    }
   ],
   "source": [
    "import data\n",
    "cfg.log = False\n",
    "cfg.quiet = False\n",
    "dataset = data.HydroDataset(cfg)\n",
    "dataloader = data.HydroDataLoader(cfg, dataset)"
   ]
  },
  {
   "cell_type": "raw",
   "id": "a835bac5-78dd-40ab-9d99-043fa03a5a9b",
   "metadata": {},
   "source": [
    "from tqdm import tqdm\n",
    "import xarray as xr\n",
    "\n",
    "for basin, date in tqdm(dataset.sequence_indices):\n",
    "    basins_da = xr.DataArray([basin], dims=\"sample\")\n",
    "    sequenced_dates = dataset.date_ranges[date]\n",
    "    \n",
    "    # Convert to xarray-friendly formats\n",
    "    sequenced_dates_da = xr.DataArray([sequenced_dates], dims=[\"sample\", \"time\"])\n",
    "    ds = dataset.x_d.sel(basin=basins_da, date=sequenced_dates_da)"
   ]
  },
  {
   "cell_type": "raw",
   "id": "3ffab005-83fe-450f-a3f6-98872fcf1a83",
   "metadata": {},
   "source": [
    "[b in dataset.x_s.basin.to_numpy() for b in dataset.train_basins]"
   ]
  },
  {
   "cell_type": "code",
   "execution_count": 9,
   "id": "1ea85534-5e48-4d75-b328-9b420db107d7",
   "metadata": {},
   "outputs": [
    {
     "data": {
      "text/plain": [
       "False"
      ]
     },
     "execution_count": 9,
     "metadata": {},
     "output_type": "execute_result"
    }
   ],
   "source": [
    "getattr(cfg,'graph_matrix', False)"
   ]
  },
  {
   "cell_type": "code",
   "execution_count": 5,
   "id": "63268fe6-e398-4566-a15c-ecf406d87ee6",
   "metadata": {},
   "outputs": [
    {
     "name": "stdout",
     "output_type": "stream",
     "text": [
      "Model contains 7,393 parameters, using 28.88KB memory.\n"
     ]
    },
    {
     "data": {
      "application/vnd.jupyter.widget-view+json": {
       "model_id": "b7717709f1e44364ad9b06746b4022ed",
       "version_major": 2,
       "version_minor": 0
      },
      "text/plain": [
       "Epoch:001:   0%|          | 0/106 [00:03<?, ?it/s]"
      ]
     },
     "metadata": {},
     "output_type": "display_data"
    },
    {
     "name": "stdout",
     "output_type": "stream",
     "text": [
      "2025-06-30 18:36:30,767 - INFO - Epoch: 1, Loss: 1.0770\n",
      "2025-06-30 18:36:30,767 - INFO - vanishing gradients detected:\n",
      "\t.decoders['swot'].head_proj.linear.weight: 55\n",
      "\t.decoders['swot'].head_proj.linear.bias: 56\n",
      "\t.decoders['swot'].head_proj.layernorm.weight: 57\n",
      "\t.decoders['swot'].head_proj.layernorm.bias: 57\n",
      "\t.decoders['swot'].layers[0].attention_block.attention.query_proj.weight: 56\n",
      "\t.decoders['swot'].layers[0].attention_block.attention.key_proj.weight: 55\n"
     ]
    },
    {
     "data": {
      "application/vnd.jupyter.widget-view+json": {
       "model_id": "8dfd35a5031d467ab0b1da838fd63bba",
       "version_major": 2,
       "version_minor": 0
      },
      "text/plain": [
       "Epoch:002:   0%|          | 0/106 [00:02<?, ?it/s]"
      ]
     },
     "metadata": {},
     "output_type": "display_data"
    },
    {
     "name": "stdout",
     "output_type": "stream",
     "text": [
      "2025-06-30 18:36:45,399 - INFO - Epoch: 2, Loss: 0.5191\n",
      "2025-06-30 18:36:45,399 - INFO - vanishing gradients detected:\n",
      "\t.decoders['swot'].head_proj.linear.weight: 57\n",
      "\t.decoders['swot'].head_proj.linear.bias: 57\n",
      "\t.decoders['swot'].head_proj.layernorm.weight: 58\n",
      "\t.decoders['swot'].head_proj.layernorm.bias: 58\n",
      "\t.decoders['swot'].layers[0].attention_block.attention.query_proj.weight: 57\n",
      "\t.decoders['swot'].layers[0].attention_block.attention.key_proj.weight: 57\n"
     ]
    },
    {
     "data": {
      "application/vnd.jupyter.widget-view+json": {
       "model_id": "431c98fa880a463082e4913cf8f6aede",
       "version_major": 2,
       "version_minor": 0
      },
      "text/plain": [
       "Epoch:003:   0%|          | 0/106 [00:02<?, ?it/s]"
      ]
     },
     "metadata": {},
     "output_type": "display_data"
    },
    {
     "name": "stdout",
     "output_type": "stream",
     "text": [
      "2025-06-30 18:36:54,937 - INFO - Epoch: 3, Loss: 0.4601\n",
      "2025-06-30 18:36:54,938 - INFO - vanishing gradients detected:\n",
      "\t.decoders['swot'].head_proj.linear.weight: 60\n",
      "\t.decoders['swot'].head_proj.linear.bias: 61\n",
      "\t.decoders['swot'].head_proj.layernorm.weight: 62\n",
      "\t.decoders['swot'].head_proj.layernorm.bias: 62\n",
      "\t.decoders['swot'].layers[0].attention_block.attention.query_proj.weight: 61\n",
      "\t.decoders['swot'].layers[0].attention_block.attention.key_proj.weight: 60\n"
     ]
    },
    {
     "data": {
      "application/vnd.jupyter.widget-view+json": {
       "model_id": "e54feb1393b24559aaaafb029cfd0b96",
       "version_major": 2,
       "version_minor": 0
      },
      "text/plain": [
       "Epoch:004:   0%|          | 0/106 [00:03<?, ?it/s]"
      ]
     },
     "metadata": {},
     "output_type": "display_data"
    },
    {
     "name": "stdout",
     "output_type": "stream",
     "text": [
      "2025-06-30 18:37:14,973 - INFO - Epoch: 4, Loss: 0.4371\n",
      "2025-06-30 18:37:14,973 - INFO - vanishing gradients detected:\n",
      "\t.decoders['swot'].head_proj.linear.weight: 58\n",
      "\t.decoders['swot'].head_proj.linear.bias: 58\n",
      "\t.decoders['swot'].head_proj.layernorm.weight: 58\n",
      "\t.decoders['swot'].head_proj.layernorm.bias: 58\n",
      "\t.decoders['swot'].layers[0].attention_block.attention.query_proj.weight: 58\n",
      "\t.decoders['swot'].layers[0].attention_block.attention.key_proj.weight: 58\n"
     ]
    },
    {
     "data": {
      "application/vnd.jupyter.widget-view+json": {
       "model_id": "dc92b3901cb44094b978c5034ef3ef97",
       "version_major": 2,
       "version_minor": 0
      },
      "text/plain": [
       "Epoch:005:   0%|          | 0/106 [00:05<?, ?it/s]"
      ]
     },
     "metadata": {},
     "output_type": "display_data"
    },
    {
     "name": "stdout",
     "output_type": "stream",
     "text": [
      "2025-06-30 18:37:26,598 - INFO - Epoch: 5, Loss: 0.4266\n",
      "2025-06-30 18:37:26,599 - INFO - vanishing gradients detected:\n",
      "\t.decoders['swot'].head_proj.linear.weight: 59\n",
      "\t.decoders['swot'].head_proj.linear.bias: 59\n",
      "\t.decoders['swot'].head_proj.layernorm.weight: 60\n",
      "\t.decoders['swot'].head_proj.layernorm.bias: 60\n",
      "\t.decoders['swot'].layers[0].attention_block.attention.query_proj.weight: 59\n",
      "\t.decoders['swot'].layers[0].attention_block.attention.key_proj.weight: 59\n"
     ]
    },
    {
     "data": {
      "application/vnd.jupyter.widget-view+json": {
       "model_id": "26384027d3ea49f9a25a667961e7749f",
       "version_major": 2,
       "version_minor": 0
      },
      "text/plain": [
       "Epoch:006:   0%|          | 0/106 [00:02<?, ?it/s]"
      ]
     },
     "metadata": {},
     "output_type": "display_data"
    },
    {
     "name": "stdout",
     "output_type": "stream",
     "text": [
      "2025-06-30 18:37:36,161 - INFO - Epoch: 6, Loss: 0.4221\n",
      "2025-06-30 18:37:36,161 - INFO - vanishing gradients detected:\n",
      "\t.decoders['swot'].head_proj.linear.weight: 55\n",
      "\t.decoders['swot'].head_proj.linear.bias: 55\n",
      "\t.decoders['swot'].head_proj.layernorm.weight: 57\n",
      "\t.decoders['swot'].head_proj.layernorm.bias: 56\n",
      "\t.decoders['swot'].layers[0].attention_block.attention.query_proj.weight: 55\n",
      "\t.decoders['swot'].layers[0].attention_block.attention.key_proj.weight: 55\n"
     ]
    },
    {
     "data": {
      "application/vnd.jupyter.widget-view+json": {
       "model_id": "efd3a84ef7df4d42aff47512b1fa327b",
       "version_major": 2,
       "version_minor": 0
      },
      "text/plain": [
       "Epoch:007:   0%|          | 0/106 [00:18<?, ?it/s]"
      ]
     },
     "metadata": {},
     "output_type": "display_data"
    },
    {
     "name": "stdout",
     "output_type": "stream",
     "text": [
      "2025-06-30 18:38:00,987 - INFO - Epoch: 7, Loss: 0.4195\n",
      "2025-06-30 18:38:00,987 - INFO - vanishing gradients detected:\n",
      "\t.decoders['swot'].head_proj.layernorm.weight: 57\n",
      "\t.decoders['swot'].head_proj.layernorm.bias: 57\n",
      "\t.decoders['swot'].head_proj.linear.weight: 56\n",
      "\t.decoders['swot'].head_proj.linear.bias: 56\n",
      "\t.decoders['swot'].layers[0].attention_block.attention.query_proj.weight: 56\n",
      "\t.decoders['swot'].layers[0].attention_block.attention.key_proj.weight: 56\n"
     ]
    },
    {
     "data": {
      "application/vnd.jupyter.widget-view+json": {
       "model_id": "7b2a584e9c1c448ea8fbbe63adae9c8f",
       "version_major": 2,
       "version_minor": 0
      },
      "text/plain": [
       "Epoch:008:   0%|          | 0/106 [00:02<?, ?it/s]"
      ]
     },
     "metadata": {},
     "output_type": "display_data"
    },
    {
     "name": "stdout",
     "output_type": "stream",
     "text": [
      "2025-06-30 18:38:09,849 - INFO - Epoch: 8, Loss: 0.4172\n",
      "2025-06-30 18:38:09,850 - INFO - vanishing gradients detected:\n",
      "\t.decoders['swot'].head_proj.linear.weight: 57\n",
      "\t.decoders['swot'].head_proj.linear.bias: 57\n",
      "\t.decoders['swot'].head_proj.layernorm.weight: 58\n",
      "\t.decoders['swot'].head_proj.layernorm.bias: 57\n",
      "\t.decoders['swot'].layers[0].attention_block.attention.query_proj.weight: 57\n",
      "\t.decoders['swot'].layers[0].attention_block.attention.key_proj.weight: 57\n"
     ]
    },
    {
     "data": {
      "application/vnd.jupyter.widget-view+json": {
       "model_id": "19b1a02e99954a10b272c6cf8feb6a2e",
       "version_major": 2,
       "version_minor": 0
      },
      "text/plain": [
       "Epoch:009:   0%|          | 0/106 [00:02<?, ?it/s]"
      ]
     },
     "metadata": {},
     "output_type": "display_data"
    },
    {
     "name": "stdout",
     "output_type": "stream",
     "text": [
      "2025-06-30 18:38:29,208 - INFO - Epoch: 9, Loss: 0.4163\n",
      "2025-06-30 18:38:29,209 - INFO - vanishing gradients detected:\n",
      "\t.decoders['swot'].head_proj.linear.weight: 60\n",
      "\t.decoders['swot'].head_proj.linear.bias: 60\n",
      "\t.decoders['swot'].head_proj.layernorm.weight: 62\n",
      "\t.decoders['swot'].head_proj.layernorm.bias: 61\n",
      "\t.decoders['swot'].layers[0].attention_block.attention.query_proj.weight: 60\n",
      "\t.decoders['swot'].layers[0].attention_block.attention.key_proj.weight: 60\n"
     ]
    },
    {
     "data": {
      "application/vnd.jupyter.widget-view+json": {
       "model_id": "ccf4bf632cfa4f38b2852b9d9b50b366",
       "version_major": 2,
       "version_minor": 0
      },
      "text/plain": [
       "Epoch:010:   0%|          | 0/106 [00:04<?, ?it/s]"
      ]
     },
     "metadata": {},
     "output_type": "display_data"
    },
    {
     "name": "stdout",
     "output_type": "stream",
     "text": [
      "2025-06-30 18:38:39,753 - INFO - Epoch: 10, Loss: 0.4172\n",
      "2025-06-30 18:38:39,754 - INFO - vanishing gradients detected:\n",
      "\t.decoders['swot'].head_proj.linear.weight: 57\n",
      "\t.decoders['swot'].head_proj.linear.bias: 57\n",
      "\t.decoders['swot'].head_proj.layernorm.weight: 58\n",
      "\t.decoders['swot'].head_proj.layernorm.bias: 58\n",
      "\t.decoders['swot'].layers[0].attention_block.attention.query_proj.weight: 57\n",
      "\t.decoders['swot'].layers[0].attention_block.attention.key_proj.weight: 57\n",
      "2025-06-30 18:38:39,754 - INFO - ~~~ training done ~~~\n"
     ]
    }
   ],
   "source": [
    "import train\n",
    "trainer = train.Trainer(cfg, dataloader)\n",
    "trainer.start_training()"
   ]
  }
 ],
 "metadata": {
  "kernelspec": {
   "display_name": "swot-ml",
   "language": "python",
   "name": "swot-ml"
  },
  "language_info": {
   "codemirror_mode": {
    "name": "ipython",
    "version": 3
   },
   "file_extension": ".py",
   "mimetype": "text/x-python",
   "name": "python",
   "nbconvert_exporter": "python",
   "pygments_lexer": "ipython3",
   "version": "3.11.12"
  }
 },
 "nbformat": 4,
 "nbformat_minor": 5
}
