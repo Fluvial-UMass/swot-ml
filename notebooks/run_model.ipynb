{
 "cells": [
  {
   "cell_type": "code",
   "execution_count": 1,
   "id": "0abca3e8-e7be-4dc4-adfa-89647c86802f",
   "metadata": {},
   "outputs": [],
   "source": [
    "# This is required to run multiple processes on Unity for some reason.\n",
    "from multiprocessing import set_start_method\n",
    "set_start_method('spawn', force=True)\n",
    "\n",
    "\n",
    "import os\n",
    "# os.environ['XLA_PYTHON_CLIENT_ALLOCATOR'] = 'platform'\n",
    "os.environ['XLA_FLAGS'] = '--xla_gpu_enable_command_buffer='\n",
    "os.environ['XLA_PYTHON_CLIENT_MEM_FRACTION'] = '0.7'\n",
    "# os.environ['JAX_PLATFORMS'] = 'cpu'"
   ]
  },
  {
   "cell_type": "code",
   "execution_count": 2,
   "id": "78f5da32-b4cb-4f70-8bb6-46fe21f28cca",
   "metadata": {},
   "outputs": [],
   "source": [
    "%matplotlib widget\n",
    "import sys\n",
    "import pandas as pd\n",
    "import numpy as np\n",
    "import matplotlib.pyplot as plt\n",
    "import jax\n",
    "from pathlib import Path\n",
    "from importlib import reload\n",
    "\n",
    "src = str(Path('../src').resolve())\n",
    "if src not in sys.path:\n",
    "    sys.path.append(src)\n",
    "import config, data, models, train, evaluate"
   ]
  },
  {
   "cell_type": "code",
   "execution_count": 3,
   "id": "0071c1b9-f9f9-47c5-b802-71bd272a4446",
   "metadata": {},
   "outputs": [],
   "source": [
    "# reload(config)\n",
    "from config import read_config\n",
    "\n",
    "cfg, cfg_str = read_config(\"../runs/flexible_hybrid_96/no_static.yml\")\n",
    "cfg['num_workers'] = 1\n",
    "cfg['log'] = True\n",
    "cfg['quiet'] = False\n"
   ]
  },
  {
   "cell_type": "code",
   "execution_count": 4,
   "id": "56e66fbb-dc27-436f-a43c-88805520867b",
   "metadata": {},
   "outputs": [
    {
     "name": "stdout",
     "output_type": "stream",
     "text": [
      "Data Hash: 46252a743d4ef5afea50e4d30b0ce2c4e58dbefecfdfdcd32ac38ab0945f9aaf\n"
     ]
    },
    {
     "data": {
      "application/vnd.jupyter.widget-view+json": {
       "model_id": "3515557c86ca4d44864e511da081ba8a",
       "version_major": 2,
       "version_minor": 0
      },
      "text/plain": [
       "Loading Basins:   0%|          | 0/10 [00:00<?, ?it/s]"
      ]
     },
     "metadata": {},
     "output_type": "display_data"
    },
    {
     "data": {
      "application/vnd.jupyter.widget-view+json": {
       "model_id": "ae94d3661b7e493ba90528b963bd06ed",
       "version_major": 2,
       "version_minor": 0
      },
      "text/plain": [
       "Updating Indices:   0%|          | 0/10 [00:00<?, ?it/s]"
      ]
     },
     "metadata": {},
     "output_type": "display_data"
    }
   ],
   "source": [
    "reload(data)\n",
    "from data import HydroDataset\n",
    "\n",
    "dataset = HydroDataset(cfg)"
   ]
  },
  {
   "cell_type": "code",
   "execution_count": null,
   "id": "03370777-70fd-4525-bcf8-4e7bab4114ed",
   "metadata": {},
   "outputs": [],
   "source": [
    "# reload(config)\n",
    "from config import set_model_data_args\n",
    "from data import HydroDataLoader\n",
    "\n",
    "reload(train)\n",
    "from train import Trainer\n",
    "\n",
    "cfg = set_model_data_args(cfg, dataset)\n",
    "\n",
    "dataloader = HydroDataLoader(cfg, dataset)\n",
    "trainer = Trainer(cfg, dataloader)\n",
    "trainer.start_training()"
   ]
  },
  {
   "cell_type": "code",
   "execution_count": 9,
   "id": "d92dd79d-2e0c-49c5-9f53-00b145061fb5",
   "metadata": {},
   "outputs": [
    {
     "data": {
      "text/plain": [
       "np.datetime64('2014-01-01')"
      ]
     },
     "execution_count": 9,
     "metadata": {},
     "output_type": "execute_result"
    }
   ],
   "source": [
    "# date=slice(None, self.cfg['split_time'])\n"
   ]
  },
  {
   "cell_type": "code",
   "execution_count": 17,
   "id": "384aa526-095c-4cd0-a087-44fe59a700d7",
   "metadata": {},
   "outputs": [
    {
     "data": {
      "text/plain": [
       "['USGS-09402500',\n",
       " 'USGS-09404120',\n",
       " 'USGS-09404200',\n",
       " 'USGS-09427520',\n",
       " 'USGS-09429490',\n",
       " 'USGS-09429500',\n",
       " 'USGS-09058030',\n",
       " 'USGS-09067005',\n",
       " 'USGS-09069000',\n",
       " 'USGS-09070500']"
      ]
     },
     "execution_count": 17,
     "metadata": {},
     "output_type": "execute_result"
    }
   ],
   "source": []
  },
  {
   "cell_type": "code",
   "execution_count": 10,
   "id": "63f00dfd-c35c-45ca-8b38-aad930946696",
   "metadata": {},
   "outputs": [],
   "source": [
    "ds = dataset.x_d"
   ]
  },
  {
   "cell_type": "code",
   "execution_count": 43,
   "id": "43ad31c3-e274-4eeb-aa65-5cc683213405",
   "metadata": {},
   "outputs": [
    {
     "data": {
      "text/plain": [
       "np.datetime64('2022-12-31')"
      ]
     },
     "execution_count": 43,
     "metadata": {},
     "output_type": "execute_result"
    }
   ],
   "source": []
  },
  {
   "cell_type": "code",
   "execution_count": 45,
   "id": "a770785f-a43a-4484-9fd8-f69363311819",
   "metadata": {},
   "outputs": [
    {
     "data": {
      "text/html": [
       "<div><svg style=\"position: absolute; width: 0; height: 0; overflow: hidden\">\n",
       "<defs>\n",
       "<symbol id=\"icon-database\" viewBox=\"0 0 32 32\">\n",
       "<path d=\"M16 0c-8.837 0-16 2.239-16 5v4c0 2.761 7.163 5 16 5s16-2.239 16-5v-4c0-2.761-7.163-5-16-5z\"></path>\n",
       "<path d=\"M16 17c-8.837 0-16-2.239-16-5v6c0 2.761 7.163 5 16 5s16-2.239 16-5v-6c0 2.761-7.163 5-16 5z\"></path>\n",
       "<path d=\"M16 26c-8.837 0-16-2.239-16-5v6c0 2.761 7.163 5 16 5s16-2.239 16-5v-6c0 2.761-7.163 5-16 5z\"></path>\n",
       "</symbol>\n",
       "<symbol id=\"icon-file-text2\" viewBox=\"0 0 32 32\">\n",
       "<path d=\"M28.681 7.159c-0.694-0.947-1.662-2.053-2.724-3.116s-2.169-2.030-3.116-2.724c-1.612-1.182-2.393-1.319-2.841-1.319h-15.5c-1.378 0-2.5 1.121-2.5 2.5v27c0 1.378 1.122 2.5 2.5 2.5h23c1.378 0 2.5-1.122 2.5-2.5v-19.5c0-0.448-0.137-1.23-1.319-2.841zM24.543 5.457c0.959 0.959 1.712 1.825 2.268 2.543h-4.811v-4.811c0.718 0.556 1.584 1.309 2.543 2.268zM28 29.5c0 0.271-0.229 0.5-0.5 0.5h-23c-0.271 0-0.5-0.229-0.5-0.5v-27c0-0.271 0.229-0.5 0.5-0.5 0 0 15.499-0 15.5 0v7c0 0.552 0.448 1 1 1h7v19.5z\"></path>\n",
       "<path d=\"M23 26h-14c-0.552 0-1-0.448-1-1s0.448-1 1-1h14c0.552 0 1 0.448 1 1s-0.448 1-1 1z\"></path>\n",
       "<path d=\"M23 22h-14c-0.552 0-1-0.448-1-1s0.448-1 1-1h14c0.552 0 1 0.448 1 1s-0.448 1-1 1z\"></path>\n",
       "<path d=\"M23 18h-14c-0.552 0-1-0.448-1-1s0.448-1 1-1h14c0.552 0 1 0.448 1 1s-0.448 1-1 1z\"></path>\n",
       "</symbol>\n",
       "</defs>\n",
       "</svg>\n",
       "<style>/* CSS stylesheet for displaying xarray objects in jupyterlab.\n",
       " *\n",
       " */\n",
       "\n",
       ":root {\n",
       "  --xr-font-color0: var(--jp-content-font-color0, rgba(0, 0, 0, 1));\n",
       "  --xr-font-color2: var(--jp-content-font-color2, rgba(0, 0, 0, 0.54));\n",
       "  --xr-font-color3: var(--jp-content-font-color3, rgba(0, 0, 0, 0.38));\n",
       "  --xr-border-color: var(--jp-border-color2, #e0e0e0);\n",
       "  --xr-disabled-color: var(--jp-layout-color3, #bdbdbd);\n",
       "  --xr-background-color: var(--jp-layout-color0, white);\n",
       "  --xr-background-color-row-even: var(--jp-layout-color1, white);\n",
       "  --xr-background-color-row-odd: var(--jp-layout-color2, #eeeeee);\n",
       "}\n",
       "\n",
       "html[theme=dark],\n",
       "html[data-theme=dark],\n",
       "body[data-theme=dark],\n",
       "body.vscode-dark {\n",
       "  --xr-font-color0: rgba(255, 255, 255, 1);\n",
       "  --xr-font-color2: rgba(255, 255, 255, 0.54);\n",
       "  --xr-font-color3: rgba(255, 255, 255, 0.38);\n",
       "  --xr-border-color: #1F1F1F;\n",
       "  --xr-disabled-color: #515151;\n",
       "  --xr-background-color: #111111;\n",
       "  --xr-background-color-row-even: #111111;\n",
       "  --xr-background-color-row-odd: #313131;\n",
       "}\n",
       "\n",
       ".xr-wrap {\n",
       "  display: block !important;\n",
       "  min-width: 300px;\n",
       "  max-width: 700px;\n",
       "}\n",
       "\n",
       ".xr-text-repr-fallback {\n",
       "  /* fallback to plain text repr when CSS is not injected (untrusted notebook) */\n",
       "  display: none;\n",
       "}\n",
       "\n",
       ".xr-header {\n",
       "  padding-top: 6px;\n",
       "  padding-bottom: 6px;\n",
       "  margin-bottom: 4px;\n",
       "  border-bottom: solid 1px var(--xr-border-color);\n",
       "}\n",
       "\n",
       ".xr-header > div,\n",
       ".xr-header > ul {\n",
       "  display: inline;\n",
       "  margin-top: 0;\n",
       "  margin-bottom: 0;\n",
       "}\n",
       "\n",
       ".xr-obj-type,\n",
       ".xr-array-name {\n",
       "  margin-left: 2px;\n",
       "  margin-right: 10px;\n",
       "}\n",
       "\n",
       ".xr-obj-type {\n",
       "  color: var(--xr-font-color2);\n",
       "}\n",
       "\n",
       ".xr-sections {\n",
       "  padding-left: 0 !important;\n",
       "  display: grid;\n",
       "  grid-template-columns: 150px auto auto 1fr 20px 20px;\n",
       "}\n",
       "\n",
       ".xr-section-item {\n",
       "  display: contents;\n",
       "}\n",
       "\n",
       ".xr-section-item input {\n",
       "  display: none;\n",
       "}\n",
       "\n",
       ".xr-section-item input + label {\n",
       "  color: var(--xr-disabled-color);\n",
       "}\n",
       "\n",
       ".xr-section-item input:enabled + label {\n",
       "  cursor: pointer;\n",
       "  color: var(--xr-font-color2);\n",
       "}\n",
       "\n",
       ".xr-section-item input:enabled + label:hover {\n",
       "  color: var(--xr-font-color0);\n",
       "}\n",
       "\n",
       ".xr-section-summary {\n",
       "  grid-column: 1;\n",
       "  color: var(--xr-font-color2);\n",
       "  font-weight: 500;\n",
       "}\n",
       "\n",
       ".xr-section-summary > span {\n",
       "  display: inline-block;\n",
       "  padding-left: 0.5em;\n",
       "}\n",
       "\n",
       ".xr-section-summary-in:disabled + label {\n",
       "  color: var(--xr-font-color2);\n",
       "}\n",
       "\n",
       ".xr-section-summary-in + label:before {\n",
       "  display: inline-block;\n",
       "  content: '►';\n",
       "  font-size: 11px;\n",
       "  width: 15px;\n",
       "  text-align: center;\n",
       "}\n",
       "\n",
       ".xr-section-summary-in:disabled + label:before {\n",
       "  color: var(--xr-disabled-color);\n",
       "}\n",
       "\n",
       ".xr-section-summary-in:checked + label:before {\n",
       "  content: '▼';\n",
       "}\n",
       "\n",
       ".xr-section-summary-in:checked + label > span {\n",
       "  display: none;\n",
       "}\n",
       "\n",
       ".xr-section-summary,\n",
       ".xr-section-inline-details {\n",
       "  padding-top: 4px;\n",
       "  padding-bottom: 4px;\n",
       "}\n",
       "\n",
       ".xr-section-inline-details {\n",
       "  grid-column: 2 / -1;\n",
       "}\n",
       "\n",
       ".xr-section-details {\n",
       "  display: none;\n",
       "  grid-column: 1 / -1;\n",
       "  margin-bottom: 5px;\n",
       "}\n",
       "\n",
       ".xr-section-summary-in:checked ~ .xr-section-details {\n",
       "  display: contents;\n",
       "}\n",
       "\n",
       ".xr-array-wrap {\n",
       "  grid-column: 1 / -1;\n",
       "  display: grid;\n",
       "  grid-template-columns: 20px auto;\n",
       "}\n",
       "\n",
       ".xr-array-wrap > label {\n",
       "  grid-column: 1;\n",
       "  vertical-align: top;\n",
       "}\n",
       "\n",
       ".xr-preview {\n",
       "  color: var(--xr-font-color3);\n",
       "}\n",
       "\n",
       ".xr-array-preview,\n",
       ".xr-array-data {\n",
       "  padding: 0 5px !important;\n",
       "  grid-column: 2;\n",
       "}\n",
       "\n",
       ".xr-array-data,\n",
       ".xr-array-in:checked ~ .xr-array-preview {\n",
       "  display: none;\n",
       "}\n",
       "\n",
       ".xr-array-in:checked ~ .xr-array-data,\n",
       ".xr-array-preview {\n",
       "  display: inline-block;\n",
       "}\n",
       "\n",
       ".xr-dim-list {\n",
       "  display: inline-block !important;\n",
       "  list-style: none;\n",
       "  padding: 0 !important;\n",
       "  margin: 0;\n",
       "}\n",
       "\n",
       ".xr-dim-list li {\n",
       "  display: inline-block;\n",
       "  padding: 0;\n",
       "  margin: 0;\n",
       "}\n",
       "\n",
       ".xr-dim-list:before {\n",
       "  content: '(';\n",
       "}\n",
       "\n",
       ".xr-dim-list:after {\n",
       "  content: ')';\n",
       "}\n",
       "\n",
       ".xr-dim-list li:not(:last-child):after {\n",
       "  content: ',';\n",
       "  padding-right: 5px;\n",
       "}\n",
       "\n",
       ".xr-has-index {\n",
       "  font-weight: bold;\n",
       "}\n",
       "\n",
       ".xr-var-list,\n",
       ".xr-var-item {\n",
       "  display: contents;\n",
       "}\n",
       "\n",
       ".xr-var-item > div,\n",
       ".xr-var-item label,\n",
       ".xr-var-item > .xr-var-name span {\n",
       "  background-color: var(--xr-background-color-row-even);\n",
       "  margin-bottom: 0;\n",
       "}\n",
       "\n",
       ".xr-var-item > .xr-var-name:hover span {\n",
       "  padding-right: 5px;\n",
       "}\n",
       "\n",
       ".xr-var-list > li:nth-child(odd) > div,\n",
       ".xr-var-list > li:nth-child(odd) > label,\n",
       ".xr-var-list > li:nth-child(odd) > .xr-var-name span {\n",
       "  background-color: var(--xr-background-color-row-odd);\n",
       "}\n",
       "\n",
       ".xr-var-name {\n",
       "  grid-column: 1;\n",
       "}\n",
       "\n",
       ".xr-var-dims {\n",
       "  grid-column: 2;\n",
       "}\n",
       "\n",
       ".xr-var-dtype {\n",
       "  grid-column: 3;\n",
       "  text-align: right;\n",
       "  color: var(--xr-font-color2);\n",
       "}\n",
       "\n",
       ".xr-var-preview {\n",
       "  grid-column: 4;\n",
       "}\n",
       "\n",
       ".xr-index-preview {\n",
       "  grid-column: 2 / 5;\n",
       "  color: var(--xr-font-color2);\n",
       "}\n",
       "\n",
       ".xr-var-name,\n",
       ".xr-var-dims,\n",
       ".xr-var-dtype,\n",
       ".xr-preview,\n",
       ".xr-attrs dt {\n",
       "  white-space: nowrap;\n",
       "  overflow: hidden;\n",
       "  text-overflow: ellipsis;\n",
       "  padding-right: 10px;\n",
       "}\n",
       "\n",
       ".xr-var-name:hover,\n",
       ".xr-var-dims:hover,\n",
       ".xr-var-dtype:hover,\n",
       ".xr-attrs dt:hover {\n",
       "  overflow: visible;\n",
       "  width: auto;\n",
       "  z-index: 1;\n",
       "}\n",
       "\n",
       ".xr-var-attrs,\n",
       ".xr-var-data,\n",
       ".xr-index-data {\n",
       "  display: none;\n",
       "  background-color: var(--xr-background-color) !important;\n",
       "  padding-bottom: 5px !important;\n",
       "}\n",
       "\n",
       ".xr-var-attrs-in:checked ~ .xr-var-attrs,\n",
       ".xr-var-data-in:checked ~ .xr-var-data,\n",
       ".xr-index-data-in:checked ~ .xr-index-data {\n",
       "  display: block;\n",
       "}\n",
       "\n",
       ".xr-var-data > table {\n",
       "  float: right;\n",
       "}\n",
       "\n",
       ".xr-var-name span,\n",
       ".xr-var-data,\n",
       ".xr-index-name div,\n",
       ".xr-index-data,\n",
       ".xr-attrs {\n",
       "  padding-left: 25px !important;\n",
       "}\n",
       "\n",
       ".xr-attrs,\n",
       ".xr-var-attrs,\n",
       ".xr-var-data,\n",
       ".xr-index-data {\n",
       "  grid-column: 1 / -1;\n",
       "}\n",
       "\n",
       "dl.xr-attrs {\n",
       "  padding: 0;\n",
       "  margin: 0;\n",
       "  display: grid;\n",
       "  grid-template-columns: 125px auto;\n",
       "}\n",
       "\n",
       ".xr-attrs dt,\n",
       ".xr-attrs dd {\n",
       "  padding: 0;\n",
       "  margin: 0;\n",
       "  float: left;\n",
       "  padding-right: 10px;\n",
       "  width: auto;\n",
       "}\n",
       "\n",
       ".xr-attrs dt {\n",
       "  font-weight: normal;\n",
       "  grid-column: 1;\n",
       "}\n",
       "\n",
       ".xr-attrs dt:hover span {\n",
       "  display: inline-block;\n",
       "  background: var(--xr-background-color);\n",
       "  padding-right: 10px;\n",
       "}\n",
       "\n",
       ".xr-attrs dd {\n",
       "  grid-column: 2;\n",
       "  white-space: pre-wrap;\n",
       "  word-break: break-all;\n",
       "}\n",
       "\n",
       ".xr-icon-database,\n",
       ".xr-icon-file-text2,\n",
       ".xr-no-icon {\n",
       "  display: inline-block;\n",
       "  vertical-align: middle;\n",
       "  width: 1em;\n",
       "  height: 1.5em !important;\n",
       "  stroke-width: 0;\n",
       "  stroke: currentColor;\n",
       "  fill: currentColor;\n",
       "}\n",
       "</style><pre class='xr-text-repr-fallback'>&lt;xarray.DataArray &#x27;date&#x27; (date: 15706)&gt; Size: 16kB\n",
       "array([ True,  True,  True, ...,  True,  True,  True])\n",
       "Coordinates:\n",
       "  * date     (date) datetime64[ns] 126kB 1980-01-01 1980-01-02 ... 2022-12-31</pre><div class='xr-wrap' style='display:none'><div class='xr-header'><div class='xr-obj-type'>xarray.DataArray</div><div class='xr-array-name'>'date'</div><ul class='xr-dim-list'><li><span class='xr-has-index'>date</span>: 15706</li></ul></div><ul class='xr-sections'><li class='xr-section-item'><div class='xr-array-wrap'><input id='section-5461b142-e153-421a-af9b-6a793494d5a0' class='xr-array-in' type='checkbox' checked><label for='section-5461b142-e153-421a-af9b-6a793494d5a0' title='Show/hide data repr'><svg class='icon xr-icon-database'><use xlink:href='#icon-database'></use></svg></label><div class='xr-array-preview xr-preview'><span>True True True True True True True ... True True True True True True</span></div><div class='xr-array-data'><pre>array([ True,  True,  True, ...,  True,  True,  True])</pre></div></div></li><li class='xr-section-item'><input id='section-56cea822-b97f-4f5b-bd5e-61e898d5a45a' class='xr-section-summary-in' type='checkbox'  checked><label for='section-56cea822-b97f-4f5b-bd5e-61e898d5a45a' class='xr-section-summary' >Coordinates: <span>(1)</span></label><div class='xr-section-inline-details'></div><div class='xr-section-details'><ul class='xr-var-list'><li class='xr-var-item'><div class='xr-var-name'><span class='xr-has-index'>date</span></div><div class='xr-var-dims'>(date)</div><div class='xr-var-dtype'>datetime64[ns]</div><div class='xr-var-preview xr-preview'>1980-01-01 ... 2022-12-31</div><input id='attrs-4cbcbb0f-c50d-478c-889b-85779428e71e' class='xr-var-attrs-in' type='checkbox' disabled><label for='attrs-4cbcbb0f-c50d-478c-889b-85779428e71e' title='Show/Hide attributes'><svg class='icon xr-icon-file-text2'><use xlink:href='#icon-file-text2'></use></svg></label><input id='data-3a2c01e1-c76a-4cef-854b-4a8202a14083' class='xr-var-data-in' type='checkbox'><label for='data-3a2c01e1-c76a-4cef-854b-4a8202a14083' title='Show/Hide data repr'><svg class='icon xr-icon-database'><use xlink:href='#icon-database'></use></svg></label><div class='xr-var-attrs'><dl class='xr-attrs'></dl></div><div class='xr-var-data'><pre>array([&#x27;1980-01-01T00:00:00.000000000&#x27;, &#x27;1980-01-02T00:00:00.000000000&#x27;,\n",
       "       &#x27;1980-01-03T00:00:00.000000000&#x27;, ..., &#x27;2022-12-29T00:00:00.000000000&#x27;,\n",
       "       &#x27;2022-12-30T00:00:00.000000000&#x27;, &#x27;2022-12-31T00:00:00.000000000&#x27;],\n",
       "      dtype=&#x27;datetime64[ns]&#x27;)</pre></div></li></ul></div></li><li class='xr-section-item'><input id='section-07996822-d507-423c-927d-6c9c68b01ddc' class='xr-section-summary-in' type='checkbox'  ><label for='section-07996822-d507-423c-927d-6c9c68b01ddc' class='xr-section-summary' >Indexes: <span>(1)</span></label><div class='xr-section-inline-details'></div><div class='xr-section-details'><ul class='xr-var-list'><li class='xr-var-item'><div class='xr-index-name'><div>date</div></div><div class='xr-index-preview'>PandasIndex</div><div></div><input id='index-eb014c4e-f934-41dd-8d57-be830d04df61' class='xr-index-data-in' type='checkbox'/><label for='index-eb014c4e-f934-41dd-8d57-be830d04df61' title='Show/Hide index repr'><svg class='icon xr-icon-database'><use xlink:href='#icon-database'></use></svg></label><div class='xr-index-data'><pre>PandasIndex(DatetimeIndex([&#x27;1980-01-01&#x27;, &#x27;1980-01-02&#x27;, &#x27;1980-01-03&#x27;, &#x27;1980-01-04&#x27;,\n",
       "               &#x27;1980-01-05&#x27;, &#x27;1980-01-06&#x27;, &#x27;1980-01-07&#x27;, &#x27;1980-01-08&#x27;,\n",
       "               &#x27;1980-01-09&#x27;, &#x27;1980-01-10&#x27;,\n",
       "               ...\n",
       "               &#x27;2022-12-22&#x27;, &#x27;2022-12-23&#x27;, &#x27;2022-12-24&#x27;, &#x27;2022-12-25&#x27;,\n",
       "               &#x27;2022-12-26&#x27;, &#x27;2022-12-27&#x27;, &#x27;2022-12-28&#x27;, &#x27;2022-12-29&#x27;,\n",
       "               &#x27;2022-12-30&#x27;, &#x27;2022-12-31&#x27;],\n",
       "              dtype=&#x27;datetime64[ns]&#x27;, name=&#x27;date&#x27;, length=15706, freq=None))</pre></div></li></ul></div></li><li class='xr-section-item'><input id='section-8987135f-40d7-4c29-956d-01f08d79ea13' class='xr-section-summary-in' type='checkbox' disabled ><label for='section-8987135f-40d7-4c29-956d-01f08d79ea13' class='xr-section-summary'  title='Expand/collapse section'>Attributes: <span>(0)</span></label><div class='xr-section-inline-details'></div><div class='xr-section-details'><dl class='xr-attrs'></dl></div></li></ul></div></div>"
      ],
      "text/plain": [
       "<xarray.DataArray 'date' (date: 15706)> Size: 16kB\n",
       "array([ True,  True,  True, ...,  True,  True,  True])\n",
       "Coordinates:\n",
       "  * date     (date) datetime64[ns] 126kB 1980-01-01 1980-01-02 ... 2022-12-31"
      ]
     },
     "execution_count": 45,
     "metadata": {},
     "output_type": "execute_result"
    }
   ],
   "source": [
    "ds['date'] <= np.datetime64(cfg['time_slice'].stop)"
   ]
  },
  {
   "cell_type": "code",
   "execution_count": null,
   "id": "362bc803-029b-4273-a2e7-3e673cf8b366",
   "metadata": {},
   "outputs": [],
   "source": []
  },
  {
   "cell_type": "code",
   "execution_count": null,
   "id": "f83e1943-ec6b-44d4-a542-83311eafeae7",
   "metadata": {},
   "outputs": [],
   "source": [
    "plt.close('all')\n",
    "plt.imshow(batch['swot'][3])"
   ]
  },
  {
   "cell_type": "code",
   "execution_count": null,
   "id": "2ce34d68-104e-41ae-a08f-b97d4be939a3",
   "metadata": {},
   "outputs": [],
   "source": [
    "list(dataset.scale.keys())"
   ]
  },
  {
   "cell_type": "code",
   "execution_count": null,
   "id": "ead6208f-ecda-4466-b4b1-2ae09040b9fe",
   "metadata": {},
   "outputs": [],
   "source": [
    "batch['swot'][3,8,:]"
   ]
  },
  {
   "cell_type": "code",
   "execution_count": null,
   "id": "9b96437c-3c04-4bf6-b81d-79f8e1c0e3d0",
   "metadata": {},
   "outputs": [],
   "source": []
  },
  {
   "cell_type": "code",
   "execution_count": null,
   "id": "60a8ec90-751a-4f59-88aa-b2f46d38640c",
   "metadata": {},
   "outputs": [],
   "source": [
    "alt_cfg = cfg.copy()\n",
    "alt_cfg['batch_size'] = 1\n",
    "dataloader = TAPDataLoader(alt_cfg, dataset)\n",
    "\n",
    "for basin, date, batch in dataloader:\n",
    "    break\n",
    "    \n",
    "single_data = {k: v[0,...] for k, v in batch.items()}"
   ]
  },
  {
   "cell_type": "code",
   "execution_count": null,
   "id": "49c69c59-83f0-42b7-882b-e67a7984682b",
   "metadata": {},
   "outputs": [],
   "source": [
    "trainer.model(single_data, jax.random.PRNGKey(0))"
   ]
  },
  {
   "cell_type": "code",
   "execution_count": null,
   "id": "c12b45c4-7740-49f0-974d-45218c94f481",
   "metadata": {},
   "outputs": [],
   "source": [
    "batch['y'][0,...].shape"
   ]
  },
  {
   "cell_type": "code",
   "execution_count": null,
   "id": "7527bb63-5901-44bb-bb6e-39a21530ab12",
   "metadata": {},
   "outputs": [],
   "source": []
  },
  {
   "cell_type": "code",
   "execution_count": null,
   "id": "853acf07-80fd-42e5-9cd8-a8de38c46a5a",
   "metadata": {},
   "outputs": [],
   "source": []
  },
  {
   "cell_type": "code",
   "execution_count": null,
   "id": "dfe339df-1e23-4067-9107-a774c6884a2f",
   "metadata": {},
   "outputs": [],
   "source": [
    "# Resume training. Either directly from memory or loading a checkpoint.\n",
    "import optax\n",
    "\n",
    "# trainer.load_state('epoch100')\n",
    "# trainer.load_last_state()\n",
    "\n",
    "more_epochs = 0\n",
    "new_schedule = optax.exponential_decay(0.01, trainer.epoch+more_epochs, 0.001, transition_begin=trainer.epoch)\n",
    "trainer.lr_schedule = new_schedule\n",
    "trainer.num_epochs += more_epochs\n",
    "\n",
    "#Have to make a new dataloader when the last one is interrupted. \n",
    "trainer.dataloader = TAPDataLoader(cfg, dataset) \n",
    "trainer.start_training() "
   ]
  },
  {
   "cell_type": "code",
   "execution_count": null,
   "id": "1098369f-f97c-4f4b-a543-7da1a73cc4d9",
   "metadata": {},
   "outputs": [],
   "source": []
  },
  {
   "cell_type": "code",
   "execution_count": null,
   "id": "e582450b-1c95-4d31-b15e-52ac13f850ee",
   "metadata": {},
   "outputs": [],
   "source": [
    "reload(evaluate)\n",
    "from evaluate import predict, get_all_metrics\n",
    "\n",
    "# basin = np.random.choice(dataset.basins).tolist()\n",
    "basin = 'USGS-09367540'\n",
    "\n",
    "cfg['data_subset'] = 'predict'\n",
    "cfg['basin_subset'] =  basin\n",
    "cfg['num_workers'] = 0 # Faster for small runs\n",
    "dataloader = TAPDataLoader(cfg, dataset)\n",
    "\n",
    "results = predict(trainer.model, dataloader, seed=0, denormalize=True)\n",
    "results['pred'] = results['pred'] * (results['pred']>0) #Clip predictions to 0\n",
    "\n",
    "results = results.reset_index()\n",
    "results = results.sort_values(by='date')\n",
    "results = results.drop(columns=['basin'], axis=1, level=0)\n",
    "results.set_index('date', inplace=True)\n"
   ]
  },
  {
   "cell_type": "code",
   "execution_count": null,
   "id": "4e119cc9-dc63-411f-a3a8-0a17c5865b01",
   "metadata": {},
   "outputs": [],
   "source": [
    "feature = 'usgs_q'\n",
    "\n",
    "# Plot the true values and predictions\n",
    "fig, ax = plt.subplots(figsize=(12, 6))\n",
    "results['pred'][feature].plot(ax=ax)\n",
    "results['obs'][feature].plot(ax=ax,linestyle='None',marker='.')\n",
    "\n",
    "plt.title(f\"Basin: {basin}\")\n",
    "plt.legend()\n",
    "fig.autofmt_xdate()\n",
    "# plt.ylim([0,20000])\n",
    "plt.show()"
   ]
  },
  {
   "cell_type": "code",
   "execution_count": null,
   "id": "eef13af0-e8dc-4c69-8dc6-dc43db1e762c",
   "metadata": {},
   "outputs": [],
   "source": [
    "basin"
   ]
  },
  {
   "cell_type": "code",
   "execution_count": null,
   "id": "3eca6668-d620-4c06-8dea-00c3539b4268",
   "metadata": {},
   "outputs": [],
   "source": [
    "\"\"\"\n",
    "'USGS-09367540'\n",
    "\"\"\""
   ]
  },
  {
   "cell_type": "code",
   "execution_count": null,
   "id": "58fec15c-904c-4b45-b531-f36c771772c5",
   "metadata": {},
   "outputs": [],
   "source": [
    "results.plot.scatter('obs','pred')\n",
    "plt.gca().axis('square')\n",
    "# plt.xscale('log')\n",
    "# plt.yscale('log')\n",
    "# plt.xlim([0,20])\n",
    "# plt.ylim([0,20])\n",
    "plt.show()"
   ]
  },
  {
   "cell_type": "code",
   "execution_count": null,
   "id": "28fffacb-aba8-4ec7-883d-d972b27810b0",
   "metadata": {},
   "outputs": [],
   "source": [
    "import train\n",
    "from data import TAPDataset, TAPDataLoader\n",
    "\n",
    "state_dir = Path(\"../runs/notebook/20240603_1359/epoch18\")\n",
    "cfg, model, trainer_state, opt_state = train.load_state(state_dir)\n",
    "dataset = TAPDataset(cfg)"
   ]
  },
  {
   "cell_type": "code",
   "execution_count": null,
   "id": "f40c0602-ede9-4ce2-a776-017ca3fd3e5d",
   "metadata": {},
   "outputs": [],
   "source": [
    "reload(evaluate)\n",
    "from evaluate import predict, get_all_metrics\n",
    "\n",
    "cfg['data_subset'] = 'test'\n",
    "cfg['num_workers'] = 4\n",
    "dataloader = TAPDataLoader(cfg, dataset)\n",
    "\n",
    "results = predict(model, dataloader, seed=0, denormalize=True)\n",
    "results['pred'] = results['pred']# * (results['pred']>0) #Clip predictions to 0\n",
    "\n",
    "# results = results.reset_index()\n",
    "# results = results.sort_values(by='date')\n",
    "\n",
    "metrics = get_all_metrics(results['obs'],results['pred'])\n",
    "metrics"
   ]
  },
  {
   "cell_type": "code",
   "execution_count": null,
   "id": "74754f77-4ecb-4e14-b687-e5d3691a809f",
   "metadata": {},
   "outputs": [],
   "source": [
    "%matplotlib widget\n",
    "plt.close('all')\n",
    "plt.scatter(batch['y'][...,-1],pred[...,-1])\n",
    "plt.show()"
   ]
  },
  {
   "cell_type": "code",
   "execution_count": null,
   "id": "2038461e-64ba-4a7e-a688-84b691036809",
   "metadata": {},
   "outputs": [],
   "source": [
    "fig, axes = plt.subplots(1, 3, figsize=(10,3))\n",
    "xd = axes[0].imshow(batch['x_dd'][:,:,0],aspect='auto')\n",
    "fig.colorbar(xd, ax=axes[0])\n",
    "xs = axes[1].imshow(batch['x_s'],aspect='auto')\n",
    "fig.colorbar(xs, ax=axes[1]) "
   ]
  },
  {
   "cell_type": "code",
   "execution_count": null,
   "id": "73b4dcd7-9d86-4b5b-9334-b3bd2ff06494",
   "metadata": {},
   "outputs": [],
   "source": [
    "batch['x_dd'][:,:,0].shape"
   ]
  },
  {
   "cell_type": "code",
   "execution_count": null,
   "id": "902fbb49-01ce-4273-80f7-dec87c7ba3ad",
   "metadata": {},
   "outputs": [],
   "source": [
    "basins[idx_max_err]"
   ]
  },
  {
   "cell_type": "code",
   "execution_count": null,
   "id": "6128b624-a3ce-4670-8149-37b2b739d882",
   "metadata": {},
   "outputs": [],
   "source": [
    "positional_encoding = trainer.model.d_encoder.embedder.positional_encoding\n",
    "\n",
    "plt.figure(figsize=(10, 8))\n",
    "plt.imshow(positional_encoding, cmap='viridis')\n",
    "plt.xlabel('Embedding Dimension')\n",
    "plt.ylabel('Position')\n",
    "plt.title('Positional Encodings')\n",
    "plt.show()"
   ]
  }
 ],
 "metadata": {
  "kernelspec": {
   "display_name": "Python [conda env:.conda-tss-ml]",
   "language": "python",
   "name": "conda-env-.conda-tss-ml-py"
  },
  "language_info": {
   "codemirror_mode": {
    "name": "ipython",
    "version": 3
   },
   "file_extension": ".py",
   "mimetype": "text/x-python",
   "name": "python",
   "nbconvert_exporter": "python",
   "pygments_lexer": "ipython3",
   "version": "3.10.14"
  }
 },
 "nbformat": 4,
 "nbformat_minor": 5
}
