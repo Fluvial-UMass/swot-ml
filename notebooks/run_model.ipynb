{
 "cells": [
  {
   "cell_type": "code",
   "execution_count": null,
   "id": "2123e6de-162c-47bd-9117-0b586a1bc702",
   "metadata": {},
   "outputs": [],
   "source": []
  },
  {
   "cell_type": "code",
   "execution_count": null,
   "id": "324508d0-8b3f-4bb1-9683-b91186f5e0ef",
   "metadata": {},
   "outputs": [],
   "source": []
  },
  {
   "cell_type": "code",
   "execution_count": null,
   "id": "743115db-1f9b-4054-8e43-42aaf45f24be",
   "metadata": {},
   "outputs": [],
   "source": []
  },
  {
   "cell_type": "code",
   "execution_count": 1,
   "id": "0abca3e8-e7be-4dc4-adfa-89647c86802f",
   "metadata": {},
   "outputs": [],
   "source": [
    "# This is required to run multiple processes on Unity for some reason.\n",
    "from multiprocessing import set_start_method\n",
    "set_start_method('spawn', force=True)\n",
    "\n",
    "\n",
    "import os\n",
    "os.environ['XLA_FLAGS'] = '--xla_gpu_enable_command_buffer='\n",
    "os.environ['XLA_PYTHON_CLIENT_MEM_FRACTION'] = '0.7'\n",
    "# os.environ['JAX_PLATFORMS'] = 'cpu'"
   ]
  },
  {
   "cell_type": "code",
   "execution_count": 2,
   "id": "78f5da32-b4cb-4f70-8bb6-46fe21f28cca",
   "metadata": {},
   "outputs": [],
   "source": [
    "%matplotlib widget\n",
    "import sys\n",
    "import pandas as pd\n",
    "import numpy as np\n",
    "import matplotlib.pyplot as plt\n",
    "import jax\n",
    "import jax.numpy as jnp\n",
    "from tqdm.auto import tqdm\n",
    "from pathlib import Path\n",
    "from importlib import reload\n",
    "\n",
    "src = str(Path('../src').resolve())\n",
    "if src not in sys.path:\n",
    "    sys.path.append(src)\n",
    "import config, data, models, train, evaluate"
   ]
  },
  {
   "cell_type": "code",
   "execution_count": 4,
   "id": "0071c1b9-f9f9-47c5-b802-71bd272a4446",
   "metadata": {},
   "outputs": [],
   "source": [
    "# reload(config)\n",
    "from config import read_config\n",
    "\n",
    "cfg, cfg_str = read_config(\"../runs/Flex_TEALSTM/all_data.yml\")\n",
    "cfg['num_workers'] = 1\n",
    "cfg['log'] = False\n",
    "cfg['quiet'] = False\n",
    "# cfg['batch_size'] = 256\n"
   ]
  },
  {
   "cell_type": "code",
   "execution_count": 5,
   "id": "56e66fbb-dc27-436f-a43c-88805520867b",
   "metadata": {},
   "outputs": [
    {
     "name": "stdout",
     "output_type": "stream",
     "text": [
      "Data Hash: 81fdef3f716995354366489caf2cd711a73c299452f099ba372f49ff79067ad9\n",
      "Using cached basin dataset file.\n"
     ]
    },
    {
     "data": {
      "application/vnd.jupyter.widget-view+json": {
       "model_id": "c210797278ab4afb8af90be38d230c2f",
       "version_major": 2,
       "version_minor": 0
      },
      "text/plain": [
       "Updating Indices:   0%|          | 0/504 [00:00<?, ?it/s]"
      ]
     },
     "metadata": {},
     "output_type": "display_data"
    }
   ],
   "source": [
    "reload(data)\n",
    "from data import HydroDataset\n",
    "\n",
    "dataset = HydroDataset(cfg)"
   ]
  },
  {
   "cell_type": "code",
   "execution_count": 6,
   "id": "27c1877e-1ebd-4888-931b-2c1389c5b19b",
   "metadata": {},
   "outputs": [
    {
     "name": "stdout",
     "output_type": "stream",
     "text": [
      "Dataloader using 1 parallel CPU worker(s).\n",
      "Batch sharding set to 1 gpu(s)\n"
     ]
    }
   ],
   "source": [
    "# reload(config)\n",
    "from config import set_model_data_args\n",
    "from data import HydroDataLoader\n",
    "\n",
    "cfg = set_model_data_args(cfg, dataset)\n",
    "\n",
    "dataloader = HydroDataLoader(cfg, dataset)"
   ]
  },
  {
   "cell_type": "code",
   "execution_count": 7,
   "id": "cf4d9f92-ff5a-4c4f-9b51-45f611a4246c",
   "metadata": {},
   "outputs": [
    {
     "name": "stdout",
     "output_type": "stream",
     "text": [
      "Model contains 376,899 parameters, using 1.44MB memory.\n"
     ]
    }
   ],
   "source": [
    "reload(train)\n",
    "from train import Trainer\n",
    "\n",
    "trainer = Trainer(cfg, dataloader)\n",
    "# trainer.start_training()"
   ]
  },
  {
   "cell_type": "code",
   "execution_count": 38,
   "id": "ef1936ef-1f3c-49ae-a36a-5749d726e224",
   "metadata": {},
   "outputs": [
    {
     "name": "stdout",
     "output_type": "stream",
     "text": [
      "Loading model state from /work/pi_kandread_umass_edu/tss-ml/runs/Flex_TEALSTM/all_data_20241105_181617/epoch050\n",
      "Model contains 376,899 parameters, using 1.44MB memory.\n",
      "Data Hash: 56fb4cb1c9ed67b117f1b80e1685b0410ac31624e2abeca9185b6c5c1f61fb51\n",
      "Using cached basin dataset file.\n"
     ]
    },
    {
     "data": {
      "application/vnd.jupyter.widget-view+json": {
       "model_id": "95281969e1e441a2892dcb3ef8675840",
       "version_major": 2,
       "version_minor": 0
      },
      "text/plain": [
       "Updating Indices:   0%|          | 0/504 [00:00<?, ?it/s]"
      ]
     },
     "metadata": {},
     "output_type": "display_data"
    },
    {
     "data": {
      "application/vnd.jupyter.widget-view+json": {
       "model_id": "924e085ca7984ccebc32ba6afa19c28e",
       "version_major": 2,
       "version_minor": 0
      },
      "text/plain": [
       "Updating Indices:   0%|          | 0/126 [00:00<?, ?it/s]"
      ]
     },
     "metadata": {},
     "output_type": "display_data"
    },
    {
     "name": "stdout",
     "output_type": "stream",
     "text": [
      "Dataloader using 2 parallel CPU worker(s).\n",
      "Batch sharding set to 1 gpu(s)\n"
     ]
    },
    {
     "data": {
      "application/vnd.jupyter.widget-view+json": {
       "model_id": "d99f9a992b374c00bb752def76ed050b",
       "version_major": 2,
       "version_minor": 0
      },
      "text/plain": [
       "  0%|          | 0/35486 [01:04<?, ?it/s]"
      ]
     },
     "metadata": {},
     "output_type": "display_data"
    },
    {
     "ename": "KeyboardInterrupt",
     "evalue": "",
     "output_type": "error",
     "traceback": [
      "\u001b[0;31m---------------------------------------------------------------------------\u001b[0m",
      "\u001b[0;31mKeyboardInterrupt\u001b[0m                         Traceback (most recent call last)",
      "Cell \u001b[0;32mIn[38], line 9\u001b[0m\n\u001b[1;32m      6\u001b[0m dataset\u001b[38;5;241m.\u001b[39mupdate_indices(\u001b[38;5;124m'\u001b[39m\u001b[38;5;124mtest\u001b[39m\u001b[38;5;124m'\u001b[39m)\n\u001b[1;32m      7\u001b[0m dataloader \u001b[38;5;241m=\u001b[39m HydroDataLoader(cfg, dataset)\n\u001b[0;32m----> 9\u001b[0m results \u001b[38;5;241m=\u001b[39m \u001b[43mevaluate\u001b[49m\u001b[38;5;241;43m.\u001b[39;49m\u001b[43mpredict\u001b[49m\u001b[43m(\u001b[49m\u001b[43mmodel\u001b[49m\u001b[43m,\u001b[49m\u001b[43m \u001b[49m\u001b[43mdataloader\u001b[49m\u001b[43m,\u001b[49m\u001b[43m \u001b[49m\u001b[43mreturn_dt\u001b[49m\u001b[38;5;241;43m=\u001b[39;49m\u001b[38;5;28;43;01mTrue\u001b[39;49;00m\u001b[43m,\u001b[49m\u001b[43m \u001b[49m\u001b[43mquiet\u001b[49m\u001b[38;5;241;43m=\u001b[39;49m\u001b[38;5;28;43;01mFalse\u001b[39;49;00m\u001b[43m,\u001b[49m\u001b[43m \u001b[49m\u001b[43mdenormalize\u001b[49m\u001b[38;5;241;43m=\u001b[39;49m\u001b[38;5;28;43;01mTrue\u001b[39;49;00m\u001b[43m)\u001b[49m\n\u001b[1;32m     10\u001b[0m \u001b[38;5;28mlen\u001b[39m(results)\n",
      "File \u001b[0;32m/work/pi_kandread_umass_edu/tss-ml/src/evaluate/inference.py:83\u001b[0m, in \u001b[0;36mpredict\u001b[0;34m(model, dataloader, return_dt, quiet, denormalize)\u001b[0m\n\u001b[1;32m     80\u001b[0m \u001b[38;5;28;01mif\u001b[39;00m return_dt: dt_list \u001b[38;5;241m=\u001b[39m []\n\u001b[1;32m     82\u001b[0m \u001b[38;5;66;03m# Iterate through the dataset,make predictions and collect data in lists.\u001b[39;00m\n\u001b[0;32m---> 83\u001b[0m \u001b[43m\u001b[49m\u001b[38;5;28;43;01mfor\u001b[39;49;00m\u001b[43m \u001b[49m\u001b[43miter_out\u001b[49m\u001b[43m \u001b[49m\u001b[38;5;129;43;01min\u001b[39;49;00m\u001b[43m \u001b[49m\u001b[43mmodel_iterate\u001b[49m\u001b[43m(\u001b[49m\u001b[43mmodel\u001b[49m\u001b[43m,\u001b[49m\u001b[43m \u001b[49m\u001b[43mdataloader\u001b[49m\u001b[43m,\u001b[49m\u001b[43m \u001b[49m\u001b[43mreturn_dt\u001b[49m\u001b[43m,\u001b[49m\u001b[43m \u001b[49m\u001b[43mquiet\u001b[49m\u001b[43m,\u001b[49m\u001b[43m \u001b[49m\u001b[43mdenormalize\u001b[49m\u001b[43m)\u001b[49m\u001b[43m:\u001b[49m\n\u001b[1;32m     84\u001b[0m \u001b[43m    \u001b[49m\u001b[43mbasins\u001b[49m\u001b[38;5;241;43m.\u001b[39;49m\u001b[43mextend\u001b[49m\u001b[43m(\u001b[49m\u001b[43miter_out\u001b[49m\u001b[43m[\u001b[49m\u001b[38;5;241;43m0\u001b[39;49m\u001b[43m]\u001b[49m\u001b[43m)\u001b[49m\n\u001b[1;32m     85\u001b[0m \u001b[43m    \u001b[49m\u001b[43mdates\u001b[49m\u001b[38;5;241;43m.\u001b[39;49m\u001b[43mextend\u001b[49m\u001b[43m(\u001b[49m\u001b[43miter_out\u001b[49m\u001b[43m[\u001b[49m\u001b[38;5;241;43m1\u001b[39;49m\u001b[43m]\u001b[49m\u001b[43m)\u001b[49m\n",
      "File \u001b[0;32m/work/pi_kandread_umass_edu/tss-ml/src/evaluate/inference.py:56\u001b[0m, in \u001b[0;36mmodel_iterate\u001b[0;34m(model, dataloader, return_dt, quiet, denormalize)\u001b[0m\n\u001b[1;32m     54\u001b[0m inference_mode \u001b[38;5;241m=\u001b[39m dataloader\u001b[38;5;241m.\u001b[39mdataset\u001b[38;5;241m.\u001b[39minference_mode\n\u001b[1;32m     55\u001b[0m \u001b[38;5;28;01mfor\u001b[39;00m basin, date, batch \u001b[38;5;129;01min\u001b[39;00m tqdm(dataloader, disable\u001b[38;5;241m=\u001b[39mquiet):\n\u001b[0;32m---> 56\u001b[0m     y_pred \u001b[38;5;241m=\u001b[39m \u001b[43m_model_map\u001b[49m\u001b[43m(\u001b[49m\u001b[43mmodel\u001b[49m\u001b[43m,\u001b[49m\u001b[43m \u001b[49m\u001b[43mbatch\u001b[49m\u001b[43m,\u001b[49m\u001b[43m \u001b[49m\u001b[43mkeys\u001b[49m\u001b[43m)\u001b[49m\n\u001b[1;32m     57\u001b[0m     \u001b[38;5;28;01mif\u001b[39;00m \u001b[38;5;129;01mnot\u001b[39;00m inference_mode: \n\u001b[1;32m     58\u001b[0m         y \u001b[38;5;241m=\u001b[39m batch[\u001b[38;5;124m'\u001b[39m\u001b[38;5;124my\u001b[39m\u001b[38;5;124m'\u001b[39m][:,\u001b[38;5;241m-\u001b[39m\u001b[38;5;241m1\u001b[39m,:]\n",
      "    \u001b[0;31m[... skipping hidden 3 frame]\u001b[0m\n",
      "File \u001b[0;32m~/.conda/envs/tss-ml/lib/python3.12/site-packages/equinox/_module.py:935\u001b[0m, in \u001b[0;36m_unflatten_module\u001b[0;34m(cls, aux, dynamic_field_values)\u001b[0m\n\u001b[1;32m    925\u001b[0m     aux \u001b[38;5;241m=\u001b[39m _FlattenedData(\n\u001b[1;32m    926\u001b[0m         \u001b[38;5;28mtuple\u001b[39m(dynamic_field_names),\n\u001b[1;32m    927\u001b[0m         \u001b[38;5;28mtuple\u001b[39m(static_field_names),\n\u001b[0;32m   (...)\u001b[0m\n\u001b[1;32m    930\u001b[0m         \u001b[38;5;28mtuple\u001b[39m(wrapper_field_values),\n\u001b[1;32m    931\u001b[0m     )\n\u001b[1;32m    932\u001b[0m     \u001b[38;5;28;01mreturn\u001b[39;00m \u001b[38;5;28mtuple\u001b[39m(dynamic_field_values), aux\n\u001b[0;32m--> 935\u001b[0m \u001b[38;5;28;01mdef\u001b[39;00m \u001b[38;5;21m_unflatten_module\u001b[39m(\u001b[38;5;28mcls\u001b[39m: \u001b[38;5;28mtype\u001b[39m[\u001b[38;5;124m\"\u001b[39m\u001b[38;5;124mModule\u001b[39m\u001b[38;5;124m\"\u001b[39m], aux: _FlattenedData, dynamic_field_values):\n\u001b[1;32m    936\u001b[0m     \u001b[38;5;66;03m# This doesn't go via `__init__`. A user may have done something nontrivial there,\u001b[39;00m\n\u001b[1;32m    937\u001b[0m     \u001b[38;5;66;03m# and the field values may be dummy values as used in various places throughout JAX.\u001b[39;00m\n\u001b[1;32m    938\u001b[0m     \u001b[38;5;66;03m# See also\u001b[39;00m\n\u001b[1;32m    939\u001b[0m     \u001b[38;5;66;03m# https://jax.readthedocs.io/en/latest/pytrees.html#custom-pytrees-and-initialization,\u001b[39;00m\n\u001b[1;32m    940\u001b[0m     \u001b[38;5;66;03m# which was (I believe) inspired by Equinox's approach here.\u001b[39;00m\n\u001b[1;32m    941\u001b[0m     module \u001b[38;5;241m=\u001b[39m \u001b[38;5;28mobject\u001b[39m\u001b[38;5;241m.\u001b[39m\u001b[38;5;21m__new__\u001b[39m(\u001b[38;5;28mcls\u001b[39m)\n\u001b[1;32m    942\u001b[0m     \u001b[38;5;28;01mfor\u001b[39;00m name, value \u001b[38;5;129;01min\u001b[39;00m \u001b[38;5;28mzip\u001b[39m(aux\u001b[38;5;241m.\u001b[39mdynamic_field_names, dynamic_field_values):\n",
      "\u001b[0;31mKeyboardInterrupt\u001b[0m: "
     ]
    }
   ],
   "source": [
    "cfg, model, trainer_state, opt_state, _  = train.load_last_state(Path('/work/pi_kandread_umass_edu/tss-ml/runs/Flex_TEALSTM/all_data_20241105_181617'))\n",
    "cfg['log'] = False\n",
    "cfg['exclude_target_from_index'] = None\n",
    "cfg['quiet'] = False\n",
    "dataset = HydroDataset(cfg)\n",
    "dataset.update_indices('test')\n",
    "dataloader = HydroDataLoader(cfg, dataset)\n",
    "\n",
    "results = evaluate.predict(model, dataloader, return_dt=True, quiet=False, denormalize=True)\n",
    "len(results)"
   ]
  },
  {
   "cell_type": "code",
   "execution_count": null,
   "id": "49becb1a-114b-47a1-8690-d76aaa5d9887",
   "metadata": {},
   "outputs": [],
   "source": [
    "results"
   ]
  },
  {
   "cell_type": "code",
   "execution_count": 35,
   "id": "84cb163b-483b-43b2-b9ff-61d9a8432267",
   "metadata": {},
   "outputs": [
    {
     "data": {
      "text/plain": [
       "Index(['USGS-02342881', 'USGS-09379500', 'USGS-07258000', 'USGS-07344350',\n",
       "       'USGS-03374100', 'USGS-04192500', 'USGS-07250550', 'USGS-02089500',\n",
       "       'USGS-05586100', 'USGS-06934500',\n",
       "       ...\n",
       "       'USGS-01049265', 'USGS-14321000', 'USGS-08022040', 'USGS-05484500',\n",
       "       'USGS-06090800', 'USGS-07348500', 'USGS-02375500', 'USGS-12170300',\n",
       "       'USGS-02225000', 'USGS-08049500'],\n",
       "      dtype='object', name='basin', length=126)"
      ]
     },
     "execution_count": 35,
     "metadata": {},
     "output_type": "execute_result"
    }
   ],
   "source": [
    "results.index.get_level_values('basin').unique()"
   ]
  },
  {
   "cell_type": "code",
   "execution_count": 37,
   "id": "7d0d705e-56a3-4b78-a09e-77abbedaef0d",
   "metadata": {},
   "outputs": [
    {
     "data": {
      "text/html": [
       "<div>\n",
       "<style scoped>\n",
       "    .dataframe tbody tr th:only-of-type {\n",
       "        vertical-align: middle;\n",
       "    }\n",
       "\n",
       "    .dataframe tbody tr th {\n",
       "        vertical-align: top;\n",
       "    }\n",
       "\n",
       "    .dataframe thead tr th {\n",
       "        text-align: left;\n",
       "    }\n",
       "\n",
       "    .dataframe thead tr:last-of-type th {\n",
       "        text-align: right;\n",
       "    }\n",
       "</style>\n",
       "<table border=\"1\" class=\"dataframe\">\n",
       "  <thead>\n",
       "    <tr>\n",
       "      <th></th>\n",
       "      <th>Type</th>\n",
       "      <th colspan=\"3\" halign=\"left\">obs</th>\n",
       "      <th colspan=\"3\" halign=\"left\">pred</th>\n",
       "      <th colspan=\"2\" halign=\"left\">dt</th>\n",
       "    </tr>\n",
       "    <tr>\n",
       "      <th></th>\n",
       "      <th>Feature</th>\n",
       "      <th>ssc</th>\n",
       "      <th>flux</th>\n",
       "      <th>usgs_q</th>\n",
       "      <th>ssc</th>\n",
       "      <th>flux</th>\n",
       "      <th>usgs_q</th>\n",
       "      <th>era5</th>\n",
       "      <th>landsat</th>\n",
       "    </tr>\n",
       "    <tr>\n",
       "      <th>basin</th>\n",
       "      <th>date</th>\n",
       "      <th></th>\n",
       "      <th></th>\n",
       "      <th></th>\n",
       "      <th></th>\n",
       "      <th></th>\n",
       "      <th></th>\n",
       "      <th></th>\n",
       "      <th></th>\n",
       "    </tr>\n",
       "  </thead>\n",
       "  <tbody>\n",
       "    <tr>\n",
       "      <th>USGS-02342881</th>\n",
       "      <th>2008-04-07</th>\n",
       "      <td>8.000000</td>\n",
       "      <td>NaN</td>\n",
       "      <td>NaN</td>\n",
       "      <td>6.500932</td>\n",
       "      <td>106.486687</td>\n",
       "      <td>170.454849</td>\n",
       "      <td>0</td>\n",
       "      <td>4</td>\n",
       "    </tr>\n",
       "    <tr>\n",
       "      <th>USGS-09379500</th>\n",
       "      <th>1990-06-21</th>\n",
       "      <td>461.000092</td>\n",
       "      <td>2030.000366</td>\n",
       "      <td>40.209927</td>\n",
       "      <td>945.776062</td>\n",
       "      <td>6093.820801</td>\n",
       "      <td>65.676521</td>\n",
       "      <td>0</td>\n",
       "      <td>9</td>\n",
       "    </tr>\n",
       "    <tr>\n",
       "      <th>USGS-07258000</th>\n",
       "      <th>1982-09-14</th>\n",
       "      <td>15.999999</td>\n",
       "      <td>NaN</td>\n",
       "      <td>NaN</td>\n",
       "      <td>11.135518</td>\n",
       "      <td>353.135834</td>\n",
       "      <td>354.905975</td>\n",
       "      <td>0</td>\n",
       "      <td>366</td>\n",
       "    </tr>\n",
       "    <tr>\n",
       "      <th>USGS-07344350</th>\n",
       "      <th>1984-09-11</th>\n",
       "      <td>33.000004</td>\n",
       "      <td>NaN</td>\n",
       "      <td>NaN</td>\n",
       "      <td>27.593639</td>\n",
       "      <td>170.127121</td>\n",
       "      <td>72.581039</td>\n",
       "      <td>0</td>\n",
       "      <td>9</td>\n",
       "    </tr>\n",
       "    <tr>\n",
       "      <th>USGS-03374100</th>\n",
       "      <th>2011-05-18</th>\n",
       "      <td>132.999985</td>\n",
       "      <td>6999.998535</td>\n",
       "      <td>597.485535</td>\n",
       "      <td>85.348129</td>\n",
       "      <td>19989.179688</td>\n",
       "      <td>1967.580444</td>\n",
       "      <td>0</td>\n",
       "      <td>7</td>\n",
       "    </tr>\n",
       "    <tr>\n",
       "      <th>...</th>\n",
       "      <th>...</th>\n",
       "      <td>...</td>\n",
       "      <td>...</td>\n",
       "      <td>...</td>\n",
       "      <td>...</td>\n",
       "      <td>...</td>\n",
       "      <td>...</td>\n",
       "      <td>...</td>\n",
       "      <td>...</td>\n",
       "    </tr>\n",
       "    <tr>\n",
       "      <th>USGS-09260000</th>\n",
       "      <th>2001-07-09</th>\n",
       "      <td>9.000000</td>\n",
       "      <td>NaN</td>\n",
       "      <td>NaN</td>\n",
       "      <td>48.597797</td>\n",
       "      <td>28.821409</td>\n",
       "      <td>6.182716</td>\n",
       "      <td>0</td>\n",
       "      <td>20</td>\n",
       "    </tr>\n",
       "    <tr>\n",
       "      <th>USGS-01567000</th>\n",
       "      <th>2016-02-05</th>\n",
       "      <td>85.000015</td>\n",
       "      <td>NaN</td>\n",
       "      <td>611.643982</td>\n",
       "      <td>83.945328</td>\n",
       "      <td>14058.512695</td>\n",
       "      <td>1385.651978</td>\n",
       "      <td>0</td>\n",
       "      <td>12</td>\n",
       "    </tr>\n",
       "    <tr>\n",
       "      <th>USGS-05586100</th>\n",
       "      <th>2008-06-01</th>\n",
       "      <td>352.999969</td>\n",
       "      <td>NaN</td>\n",
       "      <td>773.049866</td>\n",
       "      <td>181.221252</td>\n",
       "      <td>11554.757812</td>\n",
       "      <td>543.344971</td>\n",
       "      <td>0</td>\n",
       "      <td>0</td>\n",
       "    </tr>\n",
       "    <tr>\n",
       "      <th>USGS-01198550</th>\n",
       "      <th>1989-04-17</th>\n",
       "      <td>154.000015</td>\n",
       "      <td>NaN</td>\n",
       "      <td>NaN</td>\n",
       "      <td>76.125435</td>\n",
       "      <td>485.406860</td>\n",
       "      <td>126.301071</td>\n",
       "      <td>0</td>\n",
       "      <td>76</td>\n",
       "    </tr>\n",
       "    <tr>\n",
       "      <th>USGS-04192500</th>\n",
       "      <th>2020-05-20</th>\n",
       "      <td>258.999969</td>\n",
       "      <td>39099.984375</td>\n",
       "      <td>1560.258179</td>\n",
       "      <td>345.981384</td>\n",
       "      <td>81495.867188</td>\n",
       "      <td>1891.595459</td>\n",
       "      <td>0</td>\n",
       "      <td>7</td>\n",
       "    </tr>\n",
       "  </tbody>\n",
       "</table>\n",
       "<p>27008 rows × 8 columns</p>\n",
       "</div>"
      ],
      "text/plain": [
       "Type                             obs                                   pred  \\\n",
       "Feature                          ssc          flux       usgs_q         ssc   \n",
       "basin         date                                                            \n",
       "USGS-02342881 2008-04-07    8.000000           NaN          NaN    6.500932   \n",
       "USGS-09379500 1990-06-21  461.000092   2030.000366    40.209927  945.776062   \n",
       "USGS-07258000 1982-09-14   15.999999           NaN          NaN   11.135518   \n",
       "USGS-07344350 1984-09-11   33.000004           NaN          NaN   27.593639   \n",
       "USGS-03374100 2011-05-18  132.999985   6999.998535   597.485535   85.348129   \n",
       "...                              ...           ...          ...         ...   \n",
       "USGS-09260000 2001-07-09    9.000000           NaN          NaN   48.597797   \n",
       "USGS-01567000 2016-02-05   85.000015           NaN   611.643982   83.945328   \n",
       "USGS-05586100 2008-06-01  352.999969           NaN   773.049866  181.221252   \n",
       "USGS-01198550 1989-04-17  154.000015           NaN          NaN   76.125435   \n",
       "USGS-04192500 2020-05-20  258.999969  39099.984375  1560.258179  345.981384   \n",
       "\n",
       "Type                                                  dt          \n",
       "Feature                           flux       usgs_q era5 landsat  \n",
       "basin         date                                                \n",
       "USGS-02342881 2008-04-07    106.486687   170.454849    0       4  \n",
       "USGS-09379500 1990-06-21   6093.820801    65.676521    0       9  \n",
       "USGS-07258000 1982-09-14    353.135834   354.905975    0     366  \n",
       "USGS-07344350 1984-09-11    170.127121    72.581039    0       9  \n",
       "USGS-03374100 2011-05-18  19989.179688  1967.580444    0       7  \n",
       "...                                ...          ...  ...     ...  \n",
       "USGS-09260000 2001-07-09     28.821409     6.182716    0      20  \n",
       "USGS-01567000 2016-02-05  14058.512695  1385.651978    0      12  \n",
       "USGS-05586100 2008-06-01  11554.757812   543.344971    0       0  \n",
       "USGS-01198550 1989-04-17    485.406860   126.301071    0      76  \n",
       "USGS-04192500 2020-05-20  81495.867188  1891.595459    0       7  \n",
       "\n",
       "[27008 rows x 8 columns]"
      ]
     },
     "execution_count": 37,
     "metadata": {},
     "output_type": "execute_result"
    }
   ],
   "source": [
    "results"
   ]
  },
  {
   "cell_type": "code",
   "execution_count": 15,
   "id": "d4959010-fcdd-4471-bca5-ede84d2255b3",
   "metadata": {},
   "outputs": [
    {
     "name": "stdout",
     "output_type": "stream",
     "text": [
      "Dataloader using 1 parallel CPU worker(s).\n",
      "Batch sharding set to 1 gpu(s)\n"
     ]
    },
    {
     "data": {
      "application/vnd.jupyter.widget-view+json": {
       "model_id": "f2e7acef27e94964a50536a78fb19fd1",
       "version_major": 2,
       "version_minor": 0
      },
      "text/plain": [
       "  0%|          | 0/3735 [00:08<?, ?it/s]"
      ]
     },
     "metadata": {},
     "output_type": "display_data"
    },
    {
     "name": "stderr",
     "output_type": "stream",
     "text": [
      "/home/tlanghorst_umass_edu/.conda/envs/tss-ml/lib/python3.12/site-packages/jax/_src/core.py:700: FutureWarning: unhashable type: <class 'jax._src.interpreters.ad.JVPTracer'>. Attempting to hash a tracer will lead to an error in a future JAX release.\n",
      "  warnings.warn(\n"
     ]
    }
   ],
   "source": [
    "key = jax.random.PRNGKey(0)\n",
    "batch_keys = jax.random.split(key, cfg['batch_size'])\n",
    "\n",
    "dataloader = HydroDataLoader(cfg, dataset)\n",
    "for basin, date, batch in tqdm(dataloader):\n",
    "    batch = trainer.dataloader.shard_batch(batch)\n",
    "    \n",
    "    loss, grads, new_model, new_opt_state = train.step.make_step(\n",
    "        trainer.model, \n",
    "        batch,\n",
    "        batch_keys,\n",
    "        trainer.opt_state, \n",
    "        trainer.optim, \n",
    "        trainer.filter_spec, \n",
    "        trainer.dataloader.dataset.denormalize_target,\n",
    "        **trainer.cfg['step_kwargs']\n",
    "    )\n",
    "    \n",
    "    if np.isnan(loss):\n",
    "        break\n",
    "    else:\n",
    "        trainer.model = new_model\n",
    "        trainer.opt_state = new_opt_state"
   ]
  },
  {
   "cell_type": "code",
   "execution_count": 17,
   "id": "ec54d61f-6e24-4297-907e-cea49249e087",
   "metadata": {},
   "outputs": [
    {
     "data": {
      "text/plain": [
       "np.False_"
      ]
     },
     "execution_count": 17,
     "metadata": {},
     "output_type": "execute_result"
    }
   ],
   "source": [
    "np.isnan(loss)"
   ]
  },
  {
   "cell_type": "code",
   "execution_count": null,
   "id": "2b067844-69c3-4b4c-a21c-b82fd3a280b2",
   "metadata": {},
   "outputs": [],
   "source": [
    "batch = trainer.dataloader.shard_batch(batch)\n",
    "batch['dynamic_dt']['era5'].device"
   ]
  },
  {
   "cell_type": "code",
   "execution_count": null,
   "id": "74c58f61-8deb-47d5-9292-250bf9975d1b",
   "metadata": {},
   "outputs": [],
   "source": [
    "cell = trainer.model.encoders['landsat'].cell\n",
    "cell"
   ]
  },
  {
   "cell_type": "code",
   "execution_count": null,
   "id": "9e9514fe-722f-429d-964c-a6a04edd5ce7",
   "metadata": {},
   "outputs": [],
   "source": [
    "cfg['model_args']['"
   ]
  },
  {
   "cell_type": "code",
   "execution_count": null,
   "id": "50411606-c7eb-4687-a1fe-78dab075e01e",
   "metadata": {},
   "outputs": [],
   "source": [
    "x_d = batch['dynamic']['landsat'][0]\n",
    "x_s = batch['static'][0]\n",
    "static_bias = trainer.model.static_embedder(x_s, key)\n",
    "\n",
    "h_0 = jnp.zeros(cfg['model_args']['hidden_size'])\n",
    "dt = 1\n",
    "\n",
    "time_weight = cell.time_distance(dt, static_bias)\n",
    "time_weight.shape"
   ]
  },
  {
   "cell_type": "code",
   "execution_count": null,
   "id": "0a478967-8350-4605-886d-18946287b953",
   "metadata": {},
   "outputs": [],
   "source": [
    "# lax.scan \n",
    "for x in x_d:\n",
    "    if jnp.all(~jnp.isnan(x)):\n",
    "        break\n",
    "x"
   ]
  },
  {
   "cell_type": "code",
   "execution_count": null,
   "id": "fcfc3b82-e3a9-4a85-9f50-db606a1f1051",
   "metadata": {},
   "outputs": [],
   "source": [
    "gates = jnp.dot(x, cell.weight_ih.T) + jnp.dot(h_0, cell.weight_hh.T) + cell.bias\n",
    "f, g, o = jnp.split(gates, 3, axis=-1)\n",
    "i = jax.nn.sigmoid(cell.input_linear(static_bias))\n",
    "\n",
    "f = jax.nn.sigmoid(f) * time_weight"
   ]
  },
  {
   "cell_type": "code",
   "execution_count": null,
   "id": "783a2436-723e-474e-9090-124f90bb43d2",
   "metadata": {},
   "outputs": [],
   "source": []
  },
  {
   "cell_type": "code",
   "execution_count": null,
   "id": "2dd4f805-3b08-4aa2-a46b-e8e0d4f4d355",
   "metadata": {},
   "outputs": [],
   "source": []
  },
  {
   "cell_type": "code",
   "execution_count": null,
   "id": "04ee9536-1909-4781-8398-709d49fb56b7",
   "metadata": {},
   "outputs": [],
   "source": [
    "import jax.numpy as jnp\n",
    "\n",
    "params = jnp.split(trainer.model.encoders['landsat'].cell.decay_weights, 2, axis=0)"
   ]
  },
  {
   "cell_type": "code",
   "execution_count": null,
   "id": "1b4a9d7f-0e0b-42e7-86d7-d99ed934ed1e",
   "metadata": {},
   "outputs": [],
   "source": [
    "params[0,:].shape"
   ]
  },
  {
   "cell_type": "code",
   "execution_count": null,
   "id": "20d6db3c-a139-46b7-a37d-3a40eeb9a392",
   "metadata": {},
   "outputs": [],
   "source": [
    "trainer.model.encoders['landsat'].cell"
   ]
  },
  {
   "cell_type": "code",
   "execution_count": null,
   "id": "d1fff38f-099f-43ca-9432-27ad20d30a1a",
   "metadata": {},
   "outputs": [],
   "source": [
    "batch = dataloader.shard_batch(batch)\n",
    "\n",
    "batch['dynamic_dt']['landsat'].device"
   ]
  },
  {
   "cell_type": "code",
   "execution_count": null,
   "id": "b39a8a7d-6f1c-422d-abff-7ddd0b2f17f6",
   "metadata": {},
   "outputs": [],
   "source": [
    "first_values.shape"
   ]
  },
  {
   "cell_type": "code",
   "execution_count": null,
   "id": "d6675cff-0279-4b4d-ad48-ffc7df9c1f8e",
   "metadata": {},
   "outputs": [],
   "source": [
    "last_valid_index.shape"
   ]
  },
  {
   "cell_type": "code",
   "execution_count": null,
   "id": "2de22ea8-a248-44e4-a941-61917dcad7a5",
   "metadata": {},
   "outputs": [],
   "source": [
    "x_d = batch['dynamic']['landsat']\n",
    "# x_s = batch['static'][0]\n",
    "\n",
    "\n",
    "\n",
    "valid_mask = np.all(~np.isnan(x_d),axis=2)\n",
    "\n",
    "# valid_mask[0] = True\n",
    "\n",
    "indices = np.arange(valid_mask.shape[1])\n",
    "                  \n",
    "valid_indices = np.where(valid_mask, indices, -1)\n",
    "\n",
    "\n",
    "last_valid_index = np.maximum.accumulate(valid_indices, axis=1) \n",
    "\n",
    "first_values = valid_mask[:,0].astype(int)[:, None]\n",
    "dt = np.concat([first_values, np.diff(last_valid_index, axis=1)],axis=1)\n",
    "\n",
    "\n",
    "dt[1]\n"
   ]
  },
  {
   "cell_type": "code",
   "execution_count": null,
   "id": "2e6f273d-fccc-47f7-9784-513608c87784",
   "metadata": {},
   "outputs": [],
   "source": [
    "dt[0]"
   ]
  },
  {
   "cell_type": "code",
   "execution_count": null,
   "id": "bec05af6-60d2-4a0c-836b-b53b6221c414",
   "metadata": {},
   "outputs": [],
   "source": [
    "plt.close('all')\n",
    "plt.imshow(dt)#,aspect='auto')"
   ]
  },
  {
   "cell_type": "code",
   "execution_count": null,
   "id": "e02a0827-d5b7-426f-a821-102df9763b84",
   "metadata": {},
   "outputs": [],
   "source": []
  },
  {
   "cell_type": "code",
   "execution_count": null,
   "id": "a769053f-3acc-4289-b769-31691a37dacc",
   "metadata": {},
   "outputs": [],
   "source": []
  },
  {
   "cell_type": "code",
   "execution_count": null,
   "id": "77dbda38-5554-479d-828d-977bd295faa8",
   "metadata": {},
   "outputs": [],
   "source": []
  },
  {
   "cell_type": "code",
   "execution_count": null,
   "id": "60a8ec90-751a-4f59-88aa-b2f46d38640c",
   "metadata": {},
   "outputs": [],
   "source": [
    "alt_cfg = cfg.copy()\n",
    "alt_cfg['batch_size'] = 1\n",
    "dataloader = TAPDataLoader(alt_cfg, dataset)\n",
    "\n",
    "for basin, date, batch in dataloader:\n",
    "    break\n",
    "    \n",
    "single_data = {k: v[0,...] for k, v in batch.items()}"
   ]
  },
  {
   "cell_type": "code",
   "execution_count": null,
   "id": "49c69c59-83f0-42b7-882b-e67a7984682b",
   "metadata": {},
   "outputs": [],
   "source": [
    "trainer.model(single_data, jax.random.PRNGKey(0))"
   ]
  },
  {
   "cell_type": "code",
   "execution_count": null,
   "id": "c12b45c4-7740-49f0-974d-45218c94f481",
   "metadata": {},
   "outputs": [],
   "source": [
    "batch['y'][0,...].shape"
   ]
  },
  {
   "cell_type": "code",
   "execution_count": null,
   "id": "7527bb63-5901-44bb-bb6e-39a21530ab12",
   "metadata": {},
   "outputs": [],
   "source": []
  },
  {
   "cell_type": "code",
   "execution_count": null,
   "id": "853acf07-80fd-42e5-9cd8-a8de38c46a5a",
   "metadata": {},
   "outputs": [],
   "source": []
  },
  {
   "cell_type": "code",
   "execution_count": null,
   "id": "dfe339df-1e23-4067-9107-a774c6884a2f",
   "metadata": {},
   "outputs": [],
   "source": [
    "# Resume training. Either directly from memory or loading a checkpoint.\n",
    "import optax\n",
    "\n",
    "# trainer.load_state('epoch100')\n",
    "# trainer.load_last_state()\n",
    "\n",
    "more_epochs = 0\n",
    "new_schedule = optax.exponential_decay(0.01, trainer.epoch+more_epochs, 0.001, transition_begin=trainer.epoch)\n",
    "trainer.lr_schedule = new_schedule\n",
    "trainer.num_epochs += more_epochs\n",
    "\n",
    "#Have to make a new dataloader when the last one is interrupted. \n",
    "trainer.dataloader = TAPDataLoader(cfg, dataset) \n",
    "trainer.start_training() "
   ]
  },
  {
   "cell_type": "code",
   "execution_count": null,
   "id": "1098369f-f97c-4f4b-a543-7da1a73cc4d9",
   "metadata": {},
   "outputs": [],
   "source": []
  },
  {
   "cell_type": "code",
   "execution_count": null,
   "id": "e582450b-1c95-4d31-b15e-52ac13f850ee",
   "metadata": {},
   "outputs": [],
   "source": [
    "reload(evaluate)\n",
    "from evaluate import predict, get_all_metrics\n",
    "\n",
    "# basin = np.random.choice(dataset.basins).tolist()\n",
    "basin = 'USGS-09367540'\n",
    "\n",
    "cfg['data_subset'] = 'predict'\n",
    "cfg['basin_subset'] =  basin\n",
    "cfg['num_workers'] = 0 # Faster for small runs\n",
    "dataloader = TAPDataLoader(cfg, dataset)\n",
    "\n",
    "results = predict(trainer.model, dataloader, seed=0, denormalize=True)\n",
    "results['pred'] = results['pred'] * (results['pred']>0) #Clip predictions to 0\n",
    "\n",
    "results = results.reset_index()\n",
    "results = results.sort_values(by='date')\n",
    "results = results.drop(columns=['basin'], axis=1, level=0)\n",
    "results.set_index('date', inplace=True)\n"
   ]
  },
  {
   "cell_type": "code",
   "execution_count": null,
   "id": "4e119cc9-dc63-411f-a3a8-0a17c5865b01",
   "metadata": {},
   "outputs": [],
   "source": [
    "feature = 'usgs_q'\n",
    "\n",
    "# Plot the true values and predictions\n",
    "fig, ax = plt.subplots(figsize=(12, 6))\n",
    "results['pred'][feature].plot(ax=ax)\n",
    "results['obs'][feature].plot(ax=ax,linestyle='None',marker='.')\n",
    "\n",
    "plt.title(f\"Basin: {basin}\")\n",
    "plt.legend()\n",
    "fig.autofmt_xdate()\n",
    "# plt.ylim([0,20000])\n",
    "plt.show()"
   ]
  },
  {
   "cell_type": "code",
   "execution_count": null,
   "id": "eef13af0-e8dc-4c69-8dc6-dc43db1e762c",
   "metadata": {},
   "outputs": [],
   "source": [
    "basin"
   ]
  },
  {
   "cell_type": "code",
   "execution_count": null,
   "id": "3eca6668-d620-4c06-8dea-00c3539b4268",
   "metadata": {},
   "outputs": [],
   "source": [
    "\"\"\"\n",
    "'USGS-09367540'\n",
    "\"\"\""
   ]
  },
  {
   "cell_type": "code",
   "execution_count": null,
   "id": "58fec15c-904c-4b45-b531-f36c771772c5",
   "metadata": {},
   "outputs": [],
   "source": [
    "results.plot.scatter('obs','pred')\n",
    "plt.gca().axis('square')\n",
    "# plt.xscale('log')\n",
    "# plt.yscale('log')\n",
    "# plt.xlim([0,20])\n",
    "# plt.ylim([0,20])\n",
    "plt.show()"
   ]
  },
  {
   "cell_type": "code",
   "execution_count": null,
   "id": "28fffacb-aba8-4ec7-883d-d972b27810b0",
   "metadata": {},
   "outputs": [],
   "source": [
    "import train\n",
    "from data import TAPDataset, TAPDataLoader\n",
    "\n",
    "state_dir = Path(\"../runs/notebook/20240603_1359/epoch18\")\n",
    "cfg, model, trainer_state, opt_state = train.load_state(state_dir)\n",
    "dataset = TAPDataset(cfg)"
   ]
  },
  {
   "cell_type": "code",
   "execution_count": null,
   "id": "f40c0602-ede9-4ce2-a776-017ca3fd3e5d",
   "metadata": {},
   "outputs": [],
   "source": [
    "reload(evaluate)\n",
    "from evaluate import predict, get_all_metrics\n",
    "\n",
    "cfg['data_subset'] = 'test'\n",
    "cfg['num_workers'] = 4\n",
    "dataloader = TAPDataLoader(cfg, dataset)\n",
    "\n",
    "results = predict(model, dataloader, seed=0, denormalize=True)\n",
    "results['pred'] = results['pred']# * (results['pred']>0) #Clip predictions to 0\n",
    "\n",
    "# results = results.reset_index()\n",
    "# results = results.sort_values(by='date')\n",
    "\n",
    "metrics = get_all_metrics(results['obs'],results['pred'])\n",
    "metrics"
   ]
  },
  {
   "cell_type": "code",
   "execution_count": null,
   "id": "74754f77-4ecb-4e14-b687-e5d3691a809f",
   "metadata": {},
   "outputs": [],
   "source": [
    "%matplotlib widget\n",
    "plt.close('all')\n",
    "plt.scatter(batch['y'][...,-1],pred[...,-1])\n",
    "plt.show()"
   ]
  },
  {
   "cell_type": "code",
   "execution_count": null,
   "id": "2038461e-64ba-4a7e-a688-84b691036809",
   "metadata": {},
   "outputs": [],
   "source": [
    "fig, axes = plt.subplots(1, 3, figsize=(10,3))\n",
    "xd = axes[0].imshow(batch['x_dd'][:,:,0],aspect='auto')\n",
    "fig.colorbar(xd, ax=axes[0])\n",
    "xs = axes[1].imshow(batch['x_s'],aspect='auto')\n",
    "fig.colorbar(xs, ax=axes[1]) "
   ]
  },
  {
   "cell_type": "code",
   "execution_count": null,
   "id": "73b4dcd7-9d86-4b5b-9334-b3bd2ff06494",
   "metadata": {},
   "outputs": [],
   "source": [
    "batch['x_dd'][:,:,0].shape"
   ]
  },
  {
   "cell_type": "code",
   "execution_count": null,
   "id": "902fbb49-01ce-4273-80f7-dec87c7ba3ad",
   "metadata": {},
   "outputs": [],
   "source": [
    "basins[idx_max_err]"
   ]
  },
  {
   "cell_type": "code",
   "execution_count": null,
   "id": "6128b624-a3ce-4670-8149-37b2b739d882",
   "metadata": {},
   "outputs": [],
   "source": [
    "positional_encoding = trainer.model.d_encoder.embedder.positional_encoding\n",
    "\n",
    "plt.figure(figsize=(10, 8))\n",
    "plt.imshow(positional_encoding, cmap='viridis')\n",
    "plt.xlabel('Embedding Dimension')\n",
    "plt.ylabel('Position')\n",
    "plt.title('Positional Encodings')\n",
    "plt.show()"
   ]
  }
 ],
 "metadata": {
  "kernelspec": {
   "display_name": "Python [conda env:.conda-tss-ml]",
   "language": "python",
   "name": "conda-env-.conda-tss-ml-py"
  },
  "language_info": {
   "codemirror_mode": {
    "name": "ipython",
    "version": 3
   },
   "file_extension": ".py",
   "mimetype": "text/x-python",
   "name": "python",
   "nbconvert_exporter": "python",
   "pygments_lexer": "ipython3",
   "version": "3.12.7"
  }
 },
 "nbformat": 4,
 "nbformat_minor": 5
}
