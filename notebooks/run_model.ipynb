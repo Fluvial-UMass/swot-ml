{
 "cells": [
  {
   "cell_type": "code",
   "execution_count": 14,
   "id": "00f156cd-dc0a-40cf-b5aa-d0179c4bda43",
   "metadata": {},
   "outputs": [
    {
     "name": "stdout",
     "output_type": "stream",
     "text": [
      "daily\n",
      "['test']\n"
     ]
    }
   ],
   "source": [
    "all_vars = {\"daily\":0, 'test':2}\n",
    "source = list(all_vars.keys())[0]\n",
    "crosses = list(all_vars.keys())[1:]\n",
    "\n",
    "print(source)\n",
    "print(crosses)"
   ]
  },
  {
   "cell_type": "code",
   "execution_count": 15,
   "id": "daefb6ad-0969-4065-b660-a6384b2e5b00",
   "metadata": {},
   "outputs": [
    {
     "name": "stdout",
     "output_type": "stream",
     "text": [
      "what!\n"
     ]
    }
   ],
   "source": [
    "if len(crosses)>0:\n",
    "    print('what!')"
   ]
  },
  {
   "cell_type": "code",
   "execution_count": 1,
   "id": "0abca3e8-e7be-4dc4-adfa-89647c86802f",
   "metadata": {},
   "outputs": [],
   "source": [
    "# This is required to run multiple processes on Unity for some reason.\n",
    "from multiprocessing import set_start_method\n",
    "set_start_method('spawn', force=True)\n",
    "\n",
    "\n",
    "import os\n",
    "os.environ['XLA_FLAGS'] = '--xla_gpu_enable_command_buffer='\n",
    "os.environ['XLA_PYTHON_CLIENT_MEM_FRACTION'] = '0.7'\n",
    "# os.environ['JAX_PLATFORMS'] = 'cpu'"
   ]
  },
  {
   "cell_type": "code",
   "execution_count": 2,
   "id": "78f5da32-b4cb-4f70-8bb6-46fe21f28cca",
   "metadata": {},
   "outputs": [],
   "source": [
    "%matplotlib widget\n",
    "import sys\n",
    "import pandas as pd\n",
    "import numpy as np\n",
    "import matplotlib.pyplot as plt\n",
    "import jax\n",
    "from pathlib import Path\n",
    "from importlib import reload\n",
    "\n",
    "src = str(Path('../src').resolve())\n",
    "if src not in sys.path:\n",
    "    sys.path.append(src)\n",
    "import config, data, models, train, evaluate"
   ]
  },
  {
   "cell_type": "code",
   "execution_count": 3,
   "id": "0071c1b9-f9f9-47c5-b802-71bd272a4446",
   "metadata": {},
   "outputs": [],
   "source": [
    "reload(config)\n",
    "from config import read_config\n",
    "\n",
    "cfg, cfg_str = read_config(\"../runs/ablation_study/climate_only.yml\")\n",
    "cfg['num_workers'] = 1\n",
    "cfg['log'] = False\n",
    "cfg['quiet'] = False\n"
   ]
  },
  {
   "cell_type": "code",
   "execution_count": 4,
   "id": "56e66fbb-dc27-436f-a43c-88805520867b",
   "metadata": {},
   "outputs": [
    {
     "name": "stdout",
     "output_type": "stream",
     "text": [
      "Dropping static attributes with 0 variance: ['glc_pc_s03', 'glc_pc_s05', 'glc_pc_s07', 'glc_pc_s08', 'glc_pc_s17', 'glc_pc_s19', 'pnv_pc_s03', 'wet_pc_s05', 'wet_pc_s06', 'wet_pc_s07']\n",
      "Data Hash: d71f6f4af45ee7e672753ffd75b8df08c99d737b97edb87e714724472cc9fd59\n",
      "Using cached basin dataset file.\n"
     ]
    },
    {
     "data": {
      "application/vnd.jupyter.widget-view+json": {
       "model_id": "4fb0652cac78420bac127ba366995969",
       "version_major": 2,
       "version_minor": 0
      },
      "text/plain": [
       "Updating Indices:   0%|          | 0/512 [00:00<?, ?it/s]"
      ]
     },
     "metadata": {},
     "output_type": "display_data"
    }
   ],
   "source": [
    "reload(data)\n",
    "from data import TAPDataset\n",
    "\n",
    "dataset = TAPDataset(cfg)"
   ]
  },
  {
   "cell_type": "code",
   "execution_count": 5,
   "id": "03370777-70fd-4525-bcf8-4e7bab4114ed",
   "metadata": {},
   "outputs": [
    {
     "name": "stdout",
     "output_type": "stream",
     "text": [
      "Dataloader using 1 parallel CPU worker(s).\n",
      "Batch sharding set to 1 gpu(s)\n"
     ]
    },
    {
     "name": "stderr",
     "output_type": "stream",
     "text": [
      "2024-08-14 16:43:05.721752: W external/xla/xla/service/gpu/nvptx_compiler.cc:765] The NVIDIA driver's CUDA version is 12.2 which is older than the ptxas CUDA version (12.4.131). Because the driver is older than the ptxas version, XLA is disabling parallel compilation, which may slow down compilation. You should update your NVIDIA driver or use the NVIDIA-provided CUDA forward compatibility packages.\n"
     ]
    },
    {
     "ename": "ZeroDivisionError",
     "evalue": "float division by zero",
     "output_type": "error",
     "traceback": [
      "\u001b[0;31m---------------------------------------------------------------------------\u001b[0m",
      "\u001b[0;31mZeroDivisionError\u001b[0m                         Traceback (most recent call last)",
      "Cell \u001b[0;32mIn[5], line 11\u001b[0m\n\u001b[1;32m      8\u001b[0m cfg \u001b[38;5;241m=\u001b[39m set_model_data_args(cfg, dataset)\n\u001b[1;32m     10\u001b[0m dataloader \u001b[38;5;241m=\u001b[39m TAPDataLoader(cfg, dataset)\n\u001b[0;32m---> 11\u001b[0m trainer \u001b[38;5;241m=\u001b[39m \u001b[43mTrainer\u001b[49m\u001b[43m(\u001b[49m\u001b[43mcfg\u001b[49m\u001b[43m,\u001b[49m\u001b[43m \u001b[49m\u001b[43mdataloader\u001b[49m\u001b[43m)\u001b[49m\n\u001b[1;32m     12\u001b[0m trainer\u001b[38;5;241m.\u001b[39mstart_training()\n",
      "File \u001b[0;32m/work/pi_kandread_umass_edu/tss-ml/src/train/trainer.py:72\u001b[0m, in \u001b[0;36mTrainer.__init__\u001b[0;34m(self, cfg, dataloader, log_parent, log_dir, continue_from)\u001b[0m\n\u001b[1;32m     70\u001b[0m     \u001b[38;5;28mself\u001b[39m\u001b[38;5;241m.\u001b[39mload_last_state(continue_from)\n\u001b[1;32m     71\u001b[0m \u001b[38;5;28;01melse\u001b[39;00m:\n\u001b[0;32m---> 72\u001b[0m     \u001b[38;5;28mself\u001b[39m\u001b[38;5;241m.\u001b[39mmodel \u001b[38;5;241m=\u001b[39m \u001b[43mmodels\u001b[49m\u001b[38;5;241;43m.\u001b[39;49m\u001b[43mmake\u001b[49m\u001b[43m(\u001b[49m\u001b[43mcfg\u001b[49m\u001b[43m)\u001b[49m\n\u001b[1;32m     73\u001b[0m     \u001b[38;5;28mself\u001b[39m\u001b[38;5;241m.\u001b[39mloss_list \u001b[38;5;241m=\u001b[39m []\n\u001b[1;32m     74\u001b[0m     \u001b[38;5;28mself\u001b[39m\u001b[38;5;241m.\u001b[39mepoch \u001b[38;5;241m=\u001b[39m \u001b[38;5;241m0\u001b[39m\n",
      "File \u001b[0;32m/work/pi_kandread_umass_edu/tss-ml/src/models/__init__.py:33\u001b[0m, in \u001b[0;36mmake\u001b[0;34m(cfg)\u001b[0m\n\u001b[1;32m     30\u001b[0m \u001b[38;5;28;01melse\u001b[39;00m:\n\u001b[1;32m     31\u001b[0m     \u001b[38;5;28;01mraise\u001b[39;00m \u001b[38;5;167;01mValueError\u001b[39;00m(\u001b[38;5;124mf\u001b[39m\u001b[38;5;124m\"\u001b[39m\u001b[38;5;132;01m{\u001b[39;00mcfg[\u001b[38;5;124m'\u001b[39m\u001b[38;5;124mmodel\u001b[39m\u001b[38;5;124m'\u001b[39m]\u001b[38;5;132;01m}\u001b[39;00m\u001b[38;5;124m is not a valid model name. Check /src/models/__init__.py for model config.\u001b[39m\u001b[38;5;124m\"\u001b[39m)\n\u001b[0;32m---> 33\u001b[0m model \u001b[38;5;241m=\u001b[39m \u001b[43mmodel_fn\u001b[49m\u001b[43m(\u001b[49m\u001b[38;5;241;43m*\u001b[39;49m\u001b[38;5;241;43m*\u001b[39;49m\u001b[43mcfg\u001b[49m\u001b[43m[\u001b[49m\u001b[38;5;124;43m'\u001b[39;49m\u001b[38;5;124;43mmodel_args\u001b[39;49m\u001b[38;5;124;43m'\u001b[39;49m\u001b[43m]\u001b[49m\u001b[43m)\u001b[49m\n\u001b[1;32m     34\u001b[0m num_params, memory_bytes \u001b[38;5;241m=\u001b[39m count_parameters(model)\n\u001b[1;32m     35\u001b[0m size, unit \u001b[38;5;241m=\u001b[39m human_readable_size(memory_bytes)\n",
      "File \u001b[0;32m~/.conda/envs/tss-ml/lib/python3.10/site-packages/equinox/_module.py:548\u001b[0m, in \u001b[0;36m_ModuleMeta.__call__\u001b[0;34m(cls, *args, **kwargs)\u001b[0m\n\u001b[1;32m    546\u001b[0m initable_cls \u001b[38;5;241m=\u001b[39m _make_initable(\u001b[38;5;28mcls\u001b[39m, \u001b[38;5;28mcls\u001b[39m\u001b[38;5;241m.\u001b[39m\u001b[38;5;21m__init__\u001b[39m, post_init, wraps\u001b[38;5;241m=\u001b[39m\u001b[38;5;28;01mFalse\u001b[39;00m)\n\u001b[1;32m    547\u001b[0m \u001b[38;5;66;03m# [Step 2] Instantiate the class as normal.\u001b[39;00m\n\u001b[0;32m--> 548\u001b[0m \u001b[38;5;28mself\u001b[39m \u001b[38;5;241m=\u001b[39m \u001b[38;5;28;43msuper\u001b[39;49m\u001b[43m(\u001b[49m\u001b[43m_ModuleMeta\u001b[49m\u001b[43m,\u001b[49m\u001b[43m \u001b[49m\u001b[43minitable_cls\u001b[49m\u001b[43m)\u001b[49m\u001b[38;5;241;43m.\u001b[39;49m\u001b[38;5;21;43m__call__\u001b[39;49m\u001b[43m(\u001b[49m\u001b[38;5;241;43m*\u001b[39;49m\u001b[43margs\u001b[49m\u001b[43m,\u001b[49m\u001b[43m \u001b[49m\u001b[38;5;241;43m*\u001b[39;49m\u001b[38;5;241;43m*\u001b[39;49m\u001b[43mkwargs\u001b[49m\u001b[43m)\u001b[49m\n\u001b[1;32m    549\u001b[0m \u001b[38;5;28;01massert\u001b[39;00m \u001b[38;5;129;01mnot\u001b[39;00m _is_abstract(\u001b[38;5;28mcls\u001b[39m)\n\u001b[1;32m    550\u001b[0m \u001b[38;5;66;03m# [Step 3] Check that all fields are occupied.\u001b[39;00m\n",
      "    \u001b[0;31m[... skipping hidden 2 frame]\u001b[0m\n",
      "File \u001b[0;32m/work/pi_kandread_umass_edu/tss-ml/src/models/hybrid.py:26\u001b[0m, in \u001b[0;36mHybrid.__init__\u001b[0;34m(self, target, daily_in_size, irregular_in_size, static_in_size, hidden_size, num_layers, num_heads, seed, dropout)\u001b[0m\n\u001b[1;32m     24\u001b[0m \u001b[38;5;28mself\u001b[39m\u001b[38;5;241m.\u001b[39mstatic_embedder \u001b[38;5;241m=\u001b[39m StaticEmbedder(static_in_size, hidden_size, dropout, keys[\u001b[38;5;241m0\u001b[39m])\n\u001b[1;32m     25\u001b[0m \u001b[38;5;28mself\u001b[39m\u001b[38;5;241m.\u001b[39mealstm_d \u001b[38;5;241m=\u001b[39m EALSTM(daily_in_size, hidden_size, hidden_size, \u001b[38;5;28;01mNone\u001b[39;00m, dropout, return_all\u001b[38;5;241m=\u001b[39m\u001b[38;5;28;01mTrue\u001b[39;00m, key\u001b[38;5;241m=\u001b[39mkeys[\u001b[38;5;241m1\u001b[39m])\n\u001b[0;32m---> 26\u001b[0m \u001b[38;5;28mself\u001b[39m\u001b[38;5;241m.\u001b[39mtealstm_i \u001b[38;5;241m=\u001b[39m \u001b[43mTEALSTM\u001b[49m\u001b[43m(\u001b[49m\u001b[43mirregular_in_size\u001b[49m\u001b[43m,\u001b[49m\u001b[43m \u001b[49m\u001b[43mhidden_size\u001b[49m\u001b[43m,\u001b[49m\u001b[43m \u001b[49m\u001b[43mhidden_size\u001b[49m\u001b[43m,\u001b[49m\u001b[43m \u001b[49m\u001b[38;5;28;43;01mNone\u001b[39;49;00m\u001b[43m,\u001b[49m\u001b[43m \u001b[49m\u001b[43mdropout\u001b[49m\u001b[43m,\u001b[49m\u001b[43m \u001b[49m\u001b[43mreturn_all\u001b[49m\u001b[38;5;241;43m=\u001b[39;49m\u001b[38;5;28;43;01mTrue\u001b[39;49;00m\u001b[43m,\u001b[49m\u001b[43m \u001b[49m\u001b[43mkey\u001b[49m\u001b[38;5;241;43m=\u001b[39;49m\u001b[43mkeys\u001b[49m\u001b[43m[\u001b[49m\u001b[38;5;241;43m2\u001b[39;49m\u001b[43m]\u001b[49m\u001b[43m)\u001b[49m\n\u001b[1;32m     28\u001b[0m \u001b[38;5;28mself\u001b[39m\u001b[38;5;241m.\u001b[39mdecoder \u001b[38;5;241m=\u001b[39m CrossAttnDecoder(hidden_size, hidden_size, num_layers, num_heads, dropout, keys[\u001b[38;5;241m3\u001b[39m])\n\u001b[1;32m     29\u001b[0m \u001b[38;5;28mself\u001b[39m\u001b[38;5;241m.\u001b[39mhead \u001b[38;5;241m=\u001b[39m eqx\u001b[38;5;241m.\u001b[39mnn\u001b[38;5;241m.\u001b[39mLinear(in_features\u001b[38;5;241m=\u001b[39mhidden_size, out_features\u001b[38;5;241m=\u001b[39m\u001b[38;5;28mlen\u001b[39m(target), key\u001b[38;5;241m=\u001b[39mkeys[\u001b[38;5;241m4\u001b[39m])\n",
      "File \u001b[0;32m~/.conda/envs/tss-ml/lib/python3.10/site-packages/equinox/_module.py:548\u001b[0m, in \u001b[0;36m_ModuleMeta.__call__\u001b[0;34m(cls, *args, **kwargs)\u001b[0m\n\u001b[1;32m    546\u001b[0m initable_cls \u001b[38;5;241m=\u001b[39m _make_initable(\u001b[38;5;28mcls\u001b[39m, \u001b[38;5;28mcls\u001b[39m\u001b[38;5;241m.\u001b[39m\u001b[38;5;21m__init__\u001b[39m, post_init, wraps\u001b[38;5;241m=\u001b[39m\u001b[38;5;28;01mFalse\u001b[39;00m)\n\u001b[1;32m    547\u001b[0m \u001b[38;5;66;03m# [Step 2] Instantiate the class as normal.\u001b[39;00m\n\u001b[0;32m--> 548\u001b[0m \u001b[38;5;28mself\u001b[39m \u001b[38;5;241m=\u001b[39m \u001b[38;5;28;43msuper\u001b[39;49m\u001b[43m(\u001b[49m\u001b[43m_ModuleMeta\u001b[49m\u001b[43m,\u001b[49m\u001b[43m \u001b[49m\u001b[43minitable_cls\u001b[49m\u001b[43m)\u001b[49m\u001b[38;5;241;43m.\u001b[39;49m\u001b[38;5;21;43m__call__\u001b[39;49m\u001b[43m(\u001b[49m\u001b[38;5;241;43m*\u001b[39;49m\u001b[43margs\u001b[49m\u001b[43m,\u001b[49m\u001b[43m \u001b[49m\u001b[38;5;241;43m*\u001b[39;49m\u001b[38;5;241;43m*\u001b[39;49m\u001b[43mkwargs\u001b[49m\u001b[43m)\u001b[49m\n\u001b[1;32m    549\u001b[0m \u001b[38;5;28;01massert\u001b[39;00m \u001b[38;5;129;01mnot\u001b[39;00m _is_abstract(\u001b[38;5;28mcls\u001b[39m)\n\u001b[1;32m    550\u001b[0m \u001b[38;5;66;03m# [Step 3] Check that all fields are occupied.\u001b[39;00m\n",
      "    \u001b[0;31m[... skipping hidden 2 frame]\u001b[0m\n",
      "File \u001b[0;32m/work/pi_kandread_umass_edu/tss-ml/src/models/lstm.py:261\u001b[0m, in \u001b[0;36mTEALSTM.__init__\u001b[0;34m(self, dynamic_in_size, static_in_size, hidden_size, dense_size, dropout, return_all, key)\u001b[0m\n\u001b[1;32m    259\u001b[0m \u001b[38;5;28;01mdef\u001b[39;00m \u001b[38;5;21m__init__\u001b[39m(\u001b[38;5;28mself\u001b[39m, dynamic_in_size, static_in_size, hidden_size,  dense_size, dropout, return_all\u001b[38;5;241m=\u001b[39m\u001b[38;5;28;01mFalse\u001b[39;00m, \u001b[38;5;241m*\u001b[39m, key):\n\u001b[1;32m    260\u001b[0m     \u001b[38;5;28msuper\u001b[39m()\u001b[38;5;241m.\u001b[39m\u001b[38;5;21m__init__\u001b[39m(dynamic_in_size, hidden_size, dense_size, dropout, key\u001b[38;5;241m=\u001b[39mkey)\n\u001b[0;32m--> 261\u001b[0m     \u001b[38;5;28mself\u001b[39m\u001b[38;5;241m.\u001b[39mcell \u001b[38;5;241m=\u001b[39m \u001b[43mTEALSTMCell\u001b[49m\u001b[43m(\u001b[49m\u001b[43mdynamic_in_size\u001b[49m\u001b[43m,\u001b[49m\u001b[43m \u001b[49m\u001b[43mstatic_in_size\u001b[49m\u001b[43m,\u001b[49m\u001b[43m \u001b[49m\u001b[43mhidden_size\u001b[49m\u001b[43m,\u001b[49m\u001b[43m \u001b[49m\u001b[43mkey\u001b[49m\u001b[38;5;241;43m=\u001b[39;49m\u001b[43mkey\u001b[49m\u001b[43m)\u001b[49m\n\u001b[1;32m    262\u001b[0m     \u001b[38;5;28mself\u001b[39m\u001b[38;5;241m.\u001b[39mreturn_all \u001b[38;5;241m=\u001b[39m return_all\n",
      "File \u001b[0;32m~/.conda/envs/tss-ml/lib/python3.10/site-packages/equinox/_module.py:548\u001b[0m, in \u001b[0;36m_ModuleMeta.__call__\u001b[0;34m(cls, *args, **kwargs)\u001b[0m\n\u001b[1;32m    546\u001b[0m initable_cls \u001b[38;5;241m=\u001b[39m _make_initable(\u001b[38;5;28mcls\u001b[39m, \u001b[38;5;28mcls\u001b[39m\u001b[38;5;241m.\u001b[39m\u001b[38;5;21m__init__\u001b[39m, post_init, wraps\u001b[38;5;241m=\u001b[39m\u001b[38;5;28;01mFalse\u001b[39;00m)\n\u001b[1;32m    547\u001b[0m \u001b[38;5;66;03m# [Step 2] Instantiate the class as normal.\u001b[39;00m\n\u001b[0;32m--> 548\u001b[0m \u001b[38;5;28mself\u001b[39m \u001b[38;5;241m=\u001b[39m \u001b[38;5;28;43msuper\u001b[39;49m\u001b[43m(\u001b[49m\u001b[43m_ModuleMeta\u001b[49m\u001b[43m,\u001b[49m\u001b[43m \u001b[49m\u001b[43minitable_cls\u001b[49m\u001b[43m)\u001b[49m\u001b[38;5;241;43m.\u001b[39;49m\u001b[38;5;21;43m__call__\u001b[39;49m\u001b[43m(\u001b[49m\u001b[38;5;241;43m*\u001b[39;49m\u001b[43margs\u001b[49m\u001b[43m,\u001b[49m\u001b[43m \u001b[49m\u001b[38;5;241;43m*\u001b[39;49m\u001b[38;5;241;43m*\u001b[39;49m\u001b[43mkwargs\u001b[49m\u001b[43m)\u001b[49m\n\u001b[1;32m    549\u001b[0m \u001b[38;5;28;01massert\u001b[39;00m \u001b[38;5;129;01mnot\u001b[39;00m _is_abstract(\u001b[38;5;28mcls\u001b[39m)\n\u001b[1;32m    550\u001b[0m \u001b[38;5;66;03m# [Step 3] Check that all fields are occupied.\u001b[39;00m\n",
      "    \u001b[0;31m[... skipping hidden 2 frame]\u001b[0m\n",
      "File \u001b[0;32m/work/pi_kandread_umass_edu/tss-ml/src/models/lstm.py:184\u001b[0m, in \u001b[0;36mTEALSTMCell.__init__\u001b[0;34m(self, dynamic_in_size, static_in_size, hidden_size, key)\u001b[0m\n\u001b[1;32m    182\u001b[0m \u001b[38;5;28;01mdef\u001b[39;00m \u001b[38;5;21m__init__\u001b[39m(\u001b[38;5;28mself\u001b[39m, dynamic_in_size, static_in_size, hidden_size, \u001b[38;5;241m*\u001b[39m, key):\n\u001b[1;32m    183\u001b[0m     wkey, bkey, ikey, dkey \u001b[38;5;241m=\u001b[39m jrandom\u001b[38;5;241m.\u001b[39msplit(key, \u001b[38;5;241m4\u001b[39m)\n\u001b[0;32m--> 184\u001b[0m     \u001b[38;5;28mself\u001b[39m\u001b[38;5;241m.\u001b[39mweight_ih \u001b[38;5;241m=\u001b[39m \u001b[43mjax\u001b[49m\u001b[38;5;241;43m.\u001b[39;49m\u001b[43mnn\u001b[49m\u001b[38;5;241;43m.\u001b[39;49m\u001b[43minitializers\u001b[49m\u001b[38;5;241;43m.\u001b[39;49m\u001b[43mglorot_normal\u001b[49m\u001b[43m(\u001b[49m\u001b[43m)\u001b[49m\u001b[43m(\u001b[49m\u001b[43mwkey\u001b[49m\u001b[43m,\u001b[49m\u001b[43m \u001b[49m\u001b[43m(\u001b[49m\u001b[38;5;241;43m3\u001b[39;49m\u001b[43m \u001b[49m\u001b[38;5;241;43m*\u001b[39;49m\u001b[43m \u001b[49m\u001b[43mhidden_size\u001b[49m\u001b[43m,\u001b[49m\u001b[43m \u001b[49m\u001b[43mdynamic_in_size\u001b[49m\u001b[43m)\u001b[49m\u001b[43m)\u001b[49m\n\u001b[1;32m    185\u001b[0m     \u001b[38;5;28mself\u001b[39m\u001b[38;5;241m.\u001b[39mweight_hh \u001b[38;5;241m=\u001b[39m jax\u001b[38;5;241m.\u001b[39mnn\u001b[38;5;241m.\u001b[39minitializers\u001b[38;5;241m.\u001b[39mglorot_normal()(wkey, (\u001b[38;5;241m3\u001b[39m \u001b[38;5;241m*\u001b[39m hidden_size, hidden_size))\n\u001b[1;32m    186\u001b[0m     \u001b[38;5;28mself\u001b[39m\u001b[38;5;241m.\u001b[39mbias \u001b[38;5;241m=\u001b[39m jax\u001b[38;5;241m.\u001b[39mnn\u001b[38;5;241m.\u001b[39minitializers\u001b[38;5;241m.\u001b[39mzeros(bkey, (\u001b[38;5;241m3\u001b[39m \u001b[38;5;241m*\u001b[39m hidden_size,))\n",
      "File \u001b[0;32m~/.conda/envs/tss-ml/lib/python3.10/site-packages/jax/_src/nn/initializers.py:322\u001b[0m, in \u001b[0;36mvariance_scaling.<locals>.init\u001b[0;34m(key, shape, dtype)\u001b[0m\n\u001b[1;32m    320\u001b[0m dtype \u001b[38;5;241m=\u001b[39m dtypes\u001b[38;5;241m.\u001b[39mcanonicalize_dtype(dtype)\n\u001b[1;32m    321\u001b[0m named_shape \u001b[38;5;241m=\u001b[39m core\u001b[38;5;241m.\u001b[39mas_named_shape(shape)\n\u001b[0;32m--> 322\u001b[0m fan_in, fan_out \u001b[38;5;241m=\u001b[39m \u001b[43m_compute_fans\u001b[49m\u001b[43m(\u001b[49m\u001b[43mnamed_shape\u001b[49m\u001b[43m,\u001b[49m\u001b[43m \u001b[49m\u001b[43min_axis\u001b[49m\u001b[43m,\u001b[49m\u001b[43m \u001b[49m\u001b[43mout_axis\u001b[49m\u001b[43m,\u001b[49m\u001b[43m \u001b[49m\u001b[43mbatch_axis\u001b[49m\u001b[43m)\u001b[49m\n\u001b[1;32m    323\u001b[0m \u001b[38;5;28;01mif\u001b[39;00m mode \u001b[38;5;241m==\u001b[39m \u001b[38;5;124m\"\u001b[39m\u001b[38;5;124mfan_in\u001b[39m\u001b[38;5;124m\"\u001b[39m: denominator \u001b[38;5;241m=\u001b[39m fan_in\n\u001b[1;32m    324\u001b[0m \u001b[38;5;28;01melif\u001b[39;00m mode \u001b[38;5;241m==\u001b[39m \u001b[38;5;124m\"\u001b[39m\u001b[38;5;124mfan_out\u001b[39m\u001b[38;5;124m\"\u001b[39m: denominator \u001b[38;5;241m=\u001b[39m fan_out\n",
      "File \u001b[0;32m~/.conda/envs/tss-ml/lib/python3.10/site-packages/jax/_src/nn/initializers.py:228\u001b[0m, in \u001b[0;36m_compute_fans\u001b[0;34m(shape, in_axis, out_axis, batch_axis)\u001b[0m\n\u001b[1;32m    226\u001b[0m \u001b[38;5;28;01melse\u001b[39;00m:\n\u001b[1;32m    227\u001b[0m   batch_size \u001b[38;5;241m=\u001b[39m math\u001b[38;5;241m.\u001b[39mprod([shape[i] \u001b[38;5;28;01mfor\u001b[39;00m i \u001b[38;5;129;01min\u001b[39;00m batch_axis])\n\u001b[0;32m--> 228\u001b[0m receptive_field_size \u001b[38;5;241m=\u001b[39m \u001b[43mshape\u001b[49m\u001b[38;5;241;43m.\u001b[39;49m\u001b[43mtotal\u001b[49m\u001b[43m \u001b[49m\u001b[38;5;241;43m/\u001b[39;49m\u001b[43m \u001b[49m\u001b[43min_size\u001b[49m\u001b[43m \u001b[49m\u001b[38;5;241;43m/\u001b[39;49m\u001b[43m \u001b[49m\u001b[43mout_size\u001b[49m \u001b[38;5;241m/\u001b[39m batch_size\n\u001b[1;32m    229\u001b[0m fan_in \u001b[38;5;241m=\u001b[39m in_size \u001b[38;5;241m*\u001b[39m receptive_field_size\n\u001b[1;32m    230\u001b[0m fan_out \u001b[38;5;241m=\u001b[39m out_size \u001b[38;5;241m*\u001b[39m receptive_field_size\n",
      "\u001b[0;31mZeroDivisionError\u001b[0m: float division by zero"
     ]
    }
   ],
   "source": [
    "reload(config)\n",
    "from config import set_model_data_args\n",
    "from data import TAPDataLoader\n",
    "\n",
    "reload(train)\n",
    "from train import Trainer\n",
    "\n",
    "cfg = set_model_data_args(cfg, dataset)\n",
    "\n",
    "dataloader = TAPDataLoader(cfg, dataset)\n",
    "trainer = Trainer(cfg, dataloader)\n",
    "trainer.start_training()"
   ]
  },
  {
   "cell_type": "code",
   "execution_count": null,
   "id": "dfe339df-1e23-4067-9107-a774c6884a2f",
   "metadata": {},
   "outputs": [],
   "source": [
    "# Resume training. Either directly from memory or loading a checkpoint.\n",
    "import optax\n",
    "\n",
    "# trainer.load_state('epoch100')\n",
    "# trainer.load_last_state()\n",
    "\n",
    "more_epochs = 0\n",
    "new_schedule = optax.exponential_decay(0.01, trainer.epoch+more_epochs, 0.001, transition_begin=trainer.epoch)\n",
    "trainer.lr_schedule = new_schedule\n",
    "trainer.num_epochs += more_epochs\n",
    "\n",
    "#Have to make a new dataloader when the last one is interrupted. \n",
    "trainer.dataloader = TAPDataLoader(cfg, dataset) \n",
    "trainer.start_training() "
   ]
  },
  {
   "cell_type": "code",
   "execution_count": null,
   "id": "e582450b-1c95-4d31-b15e-52ac13f850ee",
   "metadata": {},
   "outputs": [],
   "source": [
    "reload(evaluate)\n",
    "from evaluate import predict, get_all_metrics\n",
    "\n",
    "# basin = np.random.choice(dataset.basins).tolist()\n",
    "basin = 'USGS-09367540'\n",
    "\n",
    "cfg['data_subset'] = 'predict'\n",
    "cfg['basin_subset'] =  basin\n",
    "cfg['num_workers'] = 0 # Faster for small runs\n",
    "dataloader = TAPDataLoader(cfg, dataset)\n",
    "\n",
    "results = predict(trainer.model, dataloader, seed=0, denormalize=True)\n",
    "results['pred'] = results['pred'] * (results['pred']>0) #Clip predictions to 0\n",
    "\n",
    "results = results.reset_index()\n",
    "results = results.sort_values(by='date')\n",
    "results = results.drop(columns=['basin'], axis=1, level=0)\n",
    "results.set_index('date', inplace=True)\n"
   ]
  },
  {
   "cell_type": "code",
   "execution_count": null,
   "id": "4e119cc9-dc63-411f-a3a8-0a17c5865b01",
   "metadata": {},
   "outputs": [],
   "source": [
    "feature = 'usgs_q'\n",
    "\n",
    "# Plot the true values and predictions\n",
    "fig, ax = plt.subplots(figsize=(12, 6))\n",
    "results['pred'][feature].plot(ax=ax)\n",
    "results['obs'][feature].plot(ax=ax,linestyle='None',marker='.')\n",
    "\n",
    "plt.title(f\"Basin: {basin}\")\n",
    "plt.legend()\n",
    "fig.autofmt_xdate()\n",
    "# plt.ylim([0,20000])\n",
    "plt.show()"
   ]
  },
  {
   "cell_type": "code",
   "execution_count": null,
   "id": "eef13af0-e8dc-4c69-8dc6-dc43db1e762c",
   "metadata": {},
   "outputs": [],
   "source": [
    "basin"
   ]
  },
  {
   "cell_type": "code",
   "execution_count": null,
   "id": "3eca6668-d620-4c06-8dea-00c3539b4268",
   "metadata": {},
   "outputs": [],
   "source": [
    "\"\"\"\n",
    "'USGS-09367540'\n",
    "\"\"\""
   ]
  },
  {
   "cell_type": "code",
   "execution_count": null,
   "id": "58fec15c-904c-4b45-b531-f36c771772c5",
   "metadata": {},
   "outputs": [],
   "source": [
    "results.plot.scatter('obs','pred')\n",
    "plt.gca().axis('square')\n",
    "# plt.xscale('log')\n",
    "# plt.yscale('log')\n",
    "# plt.xlim([0,20])\n",
    "# plt.ylim([0,20])\n",
    "plt.show()"
   ]
  },
  {
   "cell_type": "code",
   "execution_count": null,
   "id": "28fffacb-aba8-4ec7-883d-d972b27810b0",
   "metadata": {},
   "outputs": [],
   "source": [
    "import train\n",
    "from data import TAPDataset, TAPDataLoader\n",
    "\n",
    "state_dir = Path(\"../runs/notebook/20240603_1359/epoch18\")\n",
    "cfg, model, trainer_state, opt_state = train.load_state(state_dir)\n",
    "dataset = TAPDataset(cfg)"
   ]
  },
  {
   "cell_type": "code",
   "execution_count": null,
   "id": "f40c0602-ede9-4ce2-a776-017ca3fd3e5d",
   "metadata": {},
   "outputs": [],
   "source": [
    "reload(evaluate)\n",
    "from evaluate import predict, get_all_metrics\n",
    "\n",
    "cfg['data_subset'] = 'test'\n",
    "cfg['num_workers'] = 4\n",
    "dataloader = TAPDataLoader(cfg, dataset)\n",
    "\n",
    "results = predict(model, dataloader, seed=0, denormalize=True)\n",
    "results['pred'] = results['pred']# * (results['pred']>0) #Clip predictions to 0\n",
    "\n",
    "# results = results.reset_index()\n",
    "# results = results.sort_values(by='date')\n",
    "\n",
    "metrics = get_all_metrics(results['obs'],results['pred'])\n",
    "metrics"
   ]
  },
  {
   "cell_type": "code",
   "execution_count": null,
   "id": "74754f77-4ecb-4e14-b687-e5d3691a809f",
   "metadata": {},
   "outputs": [],
   "source": [
    "%matplotlib widget\n",
    "plt.close('all')\n",
    "plt.scatter(batch['y'][...,-1],pred[...,-1])\n",
    "plt.show()"
   ]
  },
  {
   "cell_type": "code",
   "execution_count": null,
   "id": "2038461e-64ba-4a7e-a688-84b691036809",
   "metadata": {},
   "outputs": [],
   "source": [
    "fig, axes = plt.subplots(1, 3, figsize=(10,3))\n",
    "xd = axes[0].imshow(batch['x_dd'][:,:,0],aspect='auto')\n",
    "fig.colorbar(xd, ax=axes[0])\n",
    "xs = axes[1].imshow(batch['x_s'],aspect='auto')\n",
    "fig.colorbar(xs, ax=axes[1]) "
   ]
  },
  {
   "cell_type": "code",
   "execution_count": null,
   "id": "73b4dcd7-9d86-4b5b-9334-b3bd2ff06494",
   "metadata": {},
   "outputs": [],
   "source": [
    "batch['x_dd'][:,:,0].shape"
   ]
  },
  {
   "cell_type": "code",
   "execution_count": null,
   "id": "902fbb49-01ce-4273-80f7-dec87c7ba3ad",
   "metadata": {},
   "outputs": [],
   "source": [
    "basins[idx_max_err]"
   ]
  },
  {
   "cell_type": "code",
   "execution_count": null,
   "id": "6128b624-a3ce-4670-8149-37b2b739d882",
   "metadata": {},
   "outputs": [],
   "source": [
    "positional_encoding = trainer.model.d_encoder.embedder.positional_encoding\n",
    "\n",
    "plt.figure(figsize=(10, 8))\n",
    "plt.imshow(positional_encoding, cmap='viridis')\n",
    "plt.xlabel('Embedding Dimension')\n",
    "plt.ylabel('Position')\n",
    "plt.title('Positional Encodings')\n",
    "plt.show()"
   ]
  }
 ],
 "metadata": {
  "kernelspec": {
   "display_name": "Python [conda env:.conda-tss-ml]",
   "language": "python",
   "name": "conda-env-.conda-tss-ml-py"
  },
  "language_info": {
   "codemirror_mode": {
    "name": "ipython",
    "version": 3
   },
   "file_extension": ".py",
   "mimetype": "text/x-python",
   "name": "python",
   "nbconvert_exporter": "python",
   "pygments_lexer": "ipython3",
   "version": "3.10.14"
  }
 },
 "nbformat": 4,
 "nbformat_minor": 5
}
