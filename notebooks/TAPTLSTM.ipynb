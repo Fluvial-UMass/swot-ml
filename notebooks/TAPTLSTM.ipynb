{
 "cells": [
  {
   "cell_type": "code",
   "execution_count": 1,
   "id": "d4c2f660-7607-4db7-975e-791971031c47",
   "metadata": {},
   "outputs": [],
   "source": [
    "# This is required to run multiple processes on Unity for some reason.\n",
    "from multiprocessing import set_start_method\n",
    "try:\n",
    "    set_start_method('spawn')\n",
    "except:\n",
    "    pass\n",
    "\n",
    "import sys\n",
    "import pandas as pd\n",
    "import numpy as np\n",
    "import matplotlib.pyplot as plt\n",
    "import jax\n",
    "from pathlib import Path\n",
    "\n",
    "src = str(Path('../src').resolve())\n",
    "if src not in sys.path:\n",
    "    sys.path.append(src)\n",
    "\n",
    "from data import TAPDataset, TAPDataLoader \n",
    "from models import TAPLSTM, EALSTM, LSTM\n",
    "from train import Trainer"
   ]
  },
  {
   "cell_type": "code",
   "execution_count": 2,
   "id": "1f020388-58f0-4da9-933a-6a02129cd624",
   "metadata": {},
   "outputs": [],
   "source": [
    "from config import read_config\n",
    "cfg_path = Path(\"../runs/example_config.yml\")\n",
    "cfg, cfg_str = read_config(cfg_path)\n",
    "cfg['quiet'] = False"
   ]
  },
  {
   "cell_type": "code",
   "execution_count": null,
   "id": "70b471c7-14d2-43cc-a948-7bc3d9f387de",
   "metadata": {},
   "outputs": [],
   "source": [
    "from config import format_config\n",
    "cfg = {\n",
    "    # Data\n",
    "    \"data_dir\": \"/work/pi_kandread_umass_edu/tss-ml/data/wqp\",\n",
    "    \"basin_file\": \"metadata/site_lists/sites_test.txt\",  # relative to data_dir\n",
    "    \"features\": {\"daily\": [\"grfr_q\"],\n",
    "                 \"irregular\": [\"Blue\", \"Green\", \"Red\", \"Nir\", \"Swir1\", \"Swir2\"],\n",
    "                 \"static\": None, # All are used when None\n",
    "                 \"target\": \"turbidity\"},\n",
    "    \"time_slice\": [\"1979-01-01\", \"2018-12-31\"], \n",
    "    \"split_time\": \"2010-01-01\",\n",
    "    \"sequence_length\": 30,\n",
    "    \"log_norm_cols\": [\"turbidity\",\"grfr_q\"],\n",
    "    \"clip_target_to_zero\": True,\n",
    "    \n",
    "    # DataLoader\n",
    "    \"shuffle\": True,\n",
    "    \"batch_size\": 32,\n",
    "    \"data_subset\": \"train\",\n",
    "    \"num_workers\": 1,\n",
    "    \"pin_memory\": True, \n",
    "    \n",
    "    # Model\n",
    "    \"model\": \"taplstm\",\n",
    "    \"model_args\": {\"hidden_size\": 64,\n",
    "                   \"dropout\": 0.4,\n",
    "                   \"seed\": 0}, \n",
    "    \n",
    "    # Trainer\n",
    "    \"num_epochs\": 10,\n",
    "    \"learning_rate\": 0.01,\n",
    "    \"decay_rate\": 0.01,\n",
    "    \"step_kwargs\":{\"loss\": \"mse\",\n",
    "                   \"max_grad_norm\": 2}, \n",
    "    \n",
    "    # Misc\n",
    "    \"quiet\": True  # Use to declutter the slurm output (removes tqdm)\n",
    "}\n",
    "cfg = format_config(cfg)\n",
    "cfg"
   ]
  },
  {
   "cell_type": "code",
   "execution_count": 3,
   "id": "56e66fbb-dc27-436f-a43c-88805520867b",
   "metadata": {},
   "outputs": [
    {
     "name": "stdout",
     "output_type": "stream",
     "text": [
      "Dropping static attributes with 0 variance: ['glc_pc_s03', 'glc_pc_s05', 'glc_pc_s07', 'glc_pc_s08', 'glc_pc_s17', 'glc_pc_s19', 'pnv_pc_s03', 'wet_pc_s05', 'wet_pc_s06', 'wet_pc_s07']\n"
     ]
    },
    {
     "data": {
      "application/vnd.jupyter.widget-view+json": {
       "model_id": "814dc0ffba6f44caad44b8cd89e00dc7",
       "version_major": 2,
       "version_minor": 0
      },
      "text/plain": [
       "Loading Basins:   0%|          | 0/10 [00:00<?, ?it/s]"
      ]
     },
     "metadata": {},
     "output_type": "display_data"
    }
   ],
   "source": [
    "dataset = TAPDataset(cfg)"
   ]
  },
  {
   "cell_type": "code",
   "execution_count": 4,
   "id": "03370777-70fd-4525-bcf8-4e7bab4114ed",
   "metadata": {},
   "outputs": [
    {
     "name": "stdout",
     "output_type": "stream",
     "text": [
      "Dataloader using 1 parallel CPU worker(s).\n",
      "Batch sharding set to 1 cpu(s)\n"
     ]
    },
    {
     "data": {
      "application/vnd.jupyter.widget-view+json": {
       "model_id": "c848fc8c7b174c8fa627528300752071",
       "version_major": 2,
       "version_minor": 0
      },
      "text/plain": [
       "Epoch:001:   0%|          | 0/335 [00:04<?, ?it/s]"
      ]
     },
     "metadata": {},
     "output_type": "display_data"
    },
    {
     "data": {
      "application/vnd.jupyter.widget-view+json": {
       "model_id": "af7e07d4b1ae42329d332a1f5b13758c",
       "version_major": 2,
       "version_minor": 0
      },
      "text/plain": [
       "Epoch:002:   0%|          | 0/335 [00:00<?, ?it/s]"
      ]
     },
     "metadata": {},
     "output_type": "display_data"
    },
    {
     "data": {
      "application/vnd.jupyter.widget-view+json": {
       "model_id": "e344e4f3e70f4fc0ba38cb52be78caf6",
       "version_major": 2,
       "version_minor": 0
      },
      "text/plain": [
       "Epoch:003:   0%|          | 0/335 [00:00<?, ?it/s]"
      ]
     },
     "metadata": {},
     "output_type": "display_data"
    },
    {
     "data": {
      "application/vnd.jupyter.widget-view+json": {
       "model_id": "653a21e366eb47f3a38c56723413da8a",
       "version_major": 2,
       "version_minor": 0
      },
      "text/plain": [
       "Epoch:004:   0%|          | 0/335 [00:00<?, ?it/s]"
      ]
     },
     "metadata": {},
     "output_type": "display_data"
    },
    {
     "data": {
      "application/vnd.jupyter.widget-view+json": {
       "model_id": "0e3c2dd4310645b7bacaf72470025557",
       "version_major": 2,
       "version_minor": 0
      },
      "text/plain": [
       "Epoch:005:   0%|          | 0/335 [00:00<?, ?it/s]"
      ]
     },
     "metadata": {},
     "output_type": "display_data"
    },
    {
     "data": {
      "application/vnd.jupyter.widget-view+json": {
       "model_id": "ce3098efd4234a539b5e40c08365a3e3",
       "version_major": 2,
       "version_minor": 0
      },
      "text/plain": [
       "Epoch:006:   0%|          | 0/335 [00:00<?, ?it/s]"
      ]
     },
     "metadata": {},
     "output_type": "display_data"
    },
    {
     "data": {
      "application/vnd.jupyter.widget-view+json": {
       "model_id": "f1c324a264ba4a74b3a84fc22e04432a",
       "version_major": 2,
       "version_minor": 0
      },
      "text/plain": [
       "Epoch:007:   0%|          | 0/335 [00:00<?, ?it/s]"
      ]
     },
     "metadata": {},
     "output_type": "display_data"
    },
    {
     "data": {
      "application/vnd.jupyter.widget-view+json": {
       "model_id": "1cb54f7c3e5e4e91a5da4c192c5d3127",
       "version_major": 2,
       "version_minor": 0
      },
      "text/plain": [
       "Epoch:008:   0%|          | 0/335 [00:00<?, ?it/s]"
      ]
     },
     "metadata": {},
     "output_type": "display_data"
    },
    {
     "data": {
      "application/vnd.jupyter.widget-view+json": {
       "model_id": "32f0e1cc63c8449d82aa4f062faf5d57",
       "version_major": 2,
       "version_minor": 0
      },
      "text/plain": [
       "Epoch:009:   0%|          | 0/335 [00:00<?, ?it/s]"
      ]
     },
     "metadata": {},
     "output_type": "display_data"
    },
    {
     "data": {
      "application/vnd.jupyter.widget-view+json": {
       "model_id": "bf2e7242c2f1428ca675d3a86902f427",
       "version_major": 2,
       "version_minor": 0
      },
      "text/plain": [
       "Epoch:010:   0%|          | 0/335 [00:00<?, ?it/s]"
      ]
     },
     "metadata": {},
     "output_type": "display_data"
    },
    {
     "name": "stdout",
     "output_type": "stream",
     "text": [
      "Training finished or interrupted. Model state saved.\n"
     ]
    },
    {
     "data": {
      "image/png": "[encoded data removed]",
      "text/plain": [
       "<Figure size 640x480 with 1 Axes>"
      ]
     },
     "metadata": {},
     "output_type": "display_data"
    }
   ],
   "source": [
    "# Model config is a bit more dynamic\n",
    "model_name = cfg['model'].lower()\n",
    "if model_name == 'taplstm':\n",
    "    model_fn = TAPLSTM\n",
    "    cfg['model_args']['daily_in_size'] = len(dataset.daily_features)\n",
    "    cfg['model_args']['irregular_in_size'] = len(dataset.irregular_features)\n",
    "    cfg['model_args']['static_in_size'] = len(dataset.static_features)\n",
    "elif model_name == 'ealstm':\n",
    "    model_fn = EALSTM\n",
    "    cfg['model_args']['dynamic_in_size'] = len(dataset.daily_features)\n",
    "    cfg['model_args']['static_in_size'] = len(dataset.static_features)\n",
    "elif model_name == 'tealstm':\n",
    "    model_fn = TEALSTM\n",
    "    cfg['model_args']['dynamic_in_size'] = len(dataset.irregular_features)\n",
    "    cfg['model_args']['static_in_size'] = len(dataset.static_features)\n",
    "else:\n",
    "    raise ValueError(\"Please provide a valid model name (taplstm, ealstm, tealstm)\")\n",
    "\n",
    "dataloader = TAPDataLoader(cfg, dataset)\n",
    "trainer = Trainer(cfg, dataloader, model_fn)\n",
    "trainer.start_training()\n"
   ]
  },
  {
   "cell_type": "code",
   "execution_count": null,
   "id": "dfe339df-1e23-4067-9107-a774c6884a2f",
   "metadata": {},
   "outputs": [],
   "source": [
    "import optax\n",
    "\n",
    "more_epochs = 150\n",
    "\n",
    "trainer.load_state('epoch100')\n",
    "loader_args['data_subset'] = 'train'\n",
    "trainer.dataloader = TAPDataLoader(dataset, **loader_args)\n",
    "trainer.lr_schedule = optax.exponential_decay(0.01, trainer.epoch+more_epochs, 0.001, transition_begin=trainer.epoch)\n",
    "trainer.num_epochs += more_epochs\n",
    "trainer.freeze_components('tealstm_i',True)\n",
    "trainer.start_training() "
   ]
  },
  {
   "cell_type": "code",
   "execution_count": null,
   "id": "e0777957-11f3-49db-b4a4-67d729527ece",
   "metadata": {},
   "outputs": [],
   "source": [
    "lr_schedule = optax.exponential_decay(0.01, trainer.epoch+num_epochs, 0.001, transition_begin=trainer.epoch)\n",
    "x = np.linspace(0,num_epochs*2)\n",
    "y = lr_schedule(x)\n",
    "plt.plot(x,y)"
   ]
  },
  {
   "cell_type": "code",
   "execution_count": null,
   "id": "7f9ca8c8-9369-4020-8b90-a935d979b87d",
   "metadata": {},
   "outputs": [],
   "source": [
    "importlib.reload(evaluate)\n",
    "from evaluate import predict, get_all_metrics\n",
    "\n",
    "basin = np.random.choice(basin_list).tolist()\n",
    "\n",
    "loader_args['data_subset'] = 'test'\n",
    "loader_args['basin_subset'] =  basin\n",
    "loader_args['num_workers'] = 0 # Faster for small runs\n",
    "dataloader = TAPDataLoader(dataset, **loader_args)\n",
    "\n",
    "results = predict(trainer.model, dataloader, denormalize=True)\n",
    "results['pred'] = results['pred'] * (results['pred']>0) #Clip predictions to 0\n",
    "metrics = get_all_metrics(results['obs'],results['pred'])\n",
    "metrics"
   ]
  },
  {
   "cell_type": "code",
   "execution_count": null,
   "id": "4e35e0e8-6279-4f8b-9559-24f543f7bda6",
   "metadata": {},
   "outputs": [],
   "source": [
    "results"
   ]
  },
  {
   "cell_type": "code",
   "execution_count": null,
   "id": "4e119cc9-dc63-411f-a3a8-0a17c5865b01",
   "metadata": {},
   "outputs": [],
   "source": [
    "# Plot the true values and predictions\n",
    "fig, ax = plt.subplots(figsize=(12, 6))\n",
    "results['pred'].plot(ax=ax)\n",
    "results['obs'].plot(ax=ax,linestyle='None',marker='.')\n",
    "\n",
    "metrics = get_all_metrics(results['obs'],results['pred'])\n",
    "\n",
    "plt.title(f\"Basin: {basin}, KGE: {metrics['kge']:0.4f}\")\n",
    "plt.legend()\n",
    "plt.ylim([0,500])\n",
    "plt.show()"
   ]
  },
  {
   "cell_type": "code",
   "execution_count": null,
   "id": "58fec15c-904c-4b45-b531-f36c771772c5",
   "metadata": {},
   "outputs": [],
   "source": [
    "results.plot.scatter('obs','pred')\n",
    "plt.gca().axis('square')\n",
    "plt.xlim([0,20])\n",
    "plt.ylim([0,20])\n",
    "plt.show()"
   ]
  },
  {
   "cell_type": "code",
   "execution_count": null,
   "id": "a2dcf4b4-1d1b-49e1-af29-91faeb56590e",
   "metadata": {},
   "outputs": [],
   "source": []
  },
  {
   "cell_type": "code",
   "execution_count": null,
   "id": "3d973e14-3b94-4f55-b971-e7aebf7887e3",
   "metadata": {},
   "outputs": [],
   "source": []
  },
  {
   "cell_type": "code",
   "execution_count": null,
   "id": "cabe46d7-39ac-421b-94bd-cf015c31e282",
   "metadata": {},
   "outputs": [],
   "source": [
    "from train import make_step\n",
    "from tqdm.notebook import trange\n",
    "\n",
    "# See if we can recreate the error... \n",
    "data = trainer.load_state(\"exceptions/epoch130_exception0\")\n",
    "for i in trange(1000):\n",
    "    make_step(trainer.model, data['batch'], trainer.opt_state, trainer.optim,\n",
    "              trainer.filter_spec, loss_name=\"mse\", max_grad_norm=None, l2_weight=None)"
   ]
  },
  {
   "cell_type": "code",
   "execution_count": null,
   "id": "73b4dcd7-9d86-4b5b-9334-b3bd2ff06494",
   "metadata": {},
   "outputs": [],
   "source": []
  }
 ],
 "metadata": {
  "kernelspec": {
   "display_name": "Python [conda env:.conda-tss-ml]",
   "language": "python",
   "name": "conda-env-.conda-tss-ml-py"
  },
  "language_info": {
   "codemirror_mode": {
    "name": "ipython",
    "version": 3
   },
   "file_extension": ".py",
   "mimetype": "text/x-python",
   "name": "python",
   "nbconvert_exporter": "python",
   "pygments_lexer": "ipython3",
   "version": "3.10.14"
  }
 },
 "nbformat": 4,
 "nbformat_minor": 5
}
