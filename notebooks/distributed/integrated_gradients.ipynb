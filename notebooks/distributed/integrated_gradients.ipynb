{
 "cells": [
  {
   "cell_type": "code",
   "execution_count": 1,
   "id": "0abca3e8-e7be-4dc4-adfa-89647c86802f",
   "metadata": {},
   "outputs": [],
   "source": [
    "# import os\n",
    "# os.environ['JAX_PLATFORMS'] = 'cpu'\n",
    "\n",
    "from multiprocessing import set_start_method\n",
    "set_start_method('spawn', force=True)"
   ]
  },
  {
   "cell_type": "code",
   "execution_count": 2,
   "id": "78f5da32-b4cb-4f70-8bb6-46fe21f28cca",
   "metadata": {},
   "outputs": [],
   "source": [
    "import sys\n",
    "import pandas as pd\n",
    "import numpy as np\n",
    "import matplotlib.pyplot as plt\n",
    "import jax\n",
    "from pathlib import Path\n",
    "from importlib import reload\n",
    "\n",
    "import config, data, models, train, evaluate"
   ]
  },
  {
   "cell_type": "code",
   "execution_count": 3,
   "id": "0071c1b9-f9f9-47c5-b802-71bd272a4446",
   "metadata": {},
   "outputs": [],
   "source": [
    "run_dir = Path(\"/nas/cee-water/cjgleason/ted/swot-ml/runs/Ohio/masked_assimilation/e5_sr_sl_gs_20250819_134746\")\n",
    "\n",
    "fig_dir = run_dir / \"figures\" / \"feature_importance\"\n",
    "fig_dir.mkdir(exist_ok=True, parents=True)"
   ]
  },
  {
   "cell_type": "code",
   "execution_count": 4,
   "id": "7c460596-8319-40c6-ba1e-a88f1398dc62",
   "metadata": {},
   "outputs": [
    {
     "name": "stdout",
     "output_type": "stream",
     "text": [
      "Model contains 33,149 parameters, using 129.49KB memory.\n",
      "Creating new Trainer instance...\n",
      "Logging at /nas/cee-water/cjgleason/ted/swot-ml/runs/Ohio/masked_assimilation/e5_sr_sl_gs_20250819_134746\n"
     ]
    }
   ],
   "source": [
    "trainer = train.Trainer.load_last_checkpoint(run_dir)\n",
    "cfg = trainer.cfg"
   ]
  },
  {
   "cell_type": "code",
   "execution_count": 5,
   "id": "56e66fbb-dc27-436f-a43c-88805520867b",
   "metadata": {},
   "outputs": [
    {
     "name": "stdout",
     "output_type": "stream",
     "text": [
      "Loading graph network file\n",
      "Loading static attributes\n",
      "Loading dynamic data\n",
      "Data Hash: b276fccb0bccc2e09f7b6b931938fb863d54fd920d2264a01fc69e18b2108215\n",
      "Using cached basin dataset.\n",
      "Dataloader using 1 parallel CPU worker(s).\n",
      "Batch sharding set to 1 gpu(s)\n"
     ]
    }
   ],
   "source": [
    "cfg.quiet = False\n",
    "dataset = data.HydroDataset(cfg)\n",
    "dataloader = data.HydroDataLoader(cfg, dataset)"
   ]
  },
  {
   "cell_type": "code",
   "execution_count": null,
   "id": "96b4c252-6607-4a9b-9c52-43a0c9b2087e",
   "metadata": {},
   "outputs": [],
   "source": []
  },
  {
   "cell_type": "code",
   "execution_count": 6,
   "id": "d0f55144-def9-4724-a975-d23cc7feac68",
   "metadata": {},
   "outputs": [],
   "source": [
    "model = trainer.model\n",
    "target = 'discharge'\n",
    "max_iter = 10"
   ]
  },
  {
   "cell_type": "code",
   "execution_count": 7,
   "id": "e823f768-5080-4a79-9d80-ce8c0cbd8516",
   "metadata": {},
   "outputs": [
    {
     "data": {
      "application/vnd.jupyter.widget-view+json": {
       "model_id": "6e9eb49253f94ea7b0fd7c1d60257c9e",
       "version_major": 2,
       "version_minor": 0
      },
      "text/plain": [
       "Calculating IG for discharge:   0%|          | 0/10 [00:07<?, ?it/s]"
      ]
     },
     "metadata": {},
     "output_type": "display_data"
    },
    {
     "ename": "TypeError",
     "evalue": "Indexer must have integer or boolean type, got indexer with type float32 at position 0, indexer value Traced<ShapedArray(float32[1961])>with<DynamicJaxprTrace>",
     "output_type": "error",
     "traceback": [
      "\u001b[31m---------------------------------------------------------------------------\u001b[39m",
      "\u001b[31mTypeError\u001b[39m                                 Traceback (most recent call last)",
      "\u001b[36mCell\u001b[39m\u001b[36m \u001b[39m\u001b[32mIn[7]\u001b[39m\u001b[32m, line 1\u001b[39m\n\u001b[32m----> \u001b[39m\u001b[32m1\u001b[39m df = \u001b[43mevaluate\u001b[49m\u001b[43m.\u001b[49m\u001b[43mget_intgrads_df\u001b[49m\u001b[43m(\u001b[49m\u001b[43mcfg\u001b[49m\u001b[43m,\u001b[49m\u001b[43m \u001b[49m\u001b[43mmodel\u001b[49m\u001b[43m,\u001b[49m\u001b[43m \u001b[49m\u001b[43mdataloader\u001b[49m\u001b[43m,\u001b[49m\u001b[43m \u001b[49m\u001b[43mtarget\u001b[49m\u001b[43m,\u001b[49m\u001b[43m \u001b[49m\u001b[43mmax_iter\u001b[49m\u001b[43m=\u001b[49m\u001b[43mmax_iter\u001b[49m\u001b[43m)\u001b[49m\n\u001b[32m      2\u001b[39m df\n",
      "\u001b[36mFile \u001b[39m\u001b[32m/nas/cee-water/cjgleason/ted/swot-ml/src/evaluate/attribution.py:179\u001b[39m, in \u001b[36mget_intgrads_df\u001b[39m\u001b[34m(cfg, model, dataloader, target, m_steps, max_iter)\u001b[39m\n\u001b[32m    176\u001b[39m y_denorm = dataloader.dataset.denormalize(batch_preds, target)\n\u001b[32m    178\u001b[39m \u001b[38;5;66;03m# Calculate Integrated Gradients Attributions\u001b[39;00m\n\u001b[32m--> \u001b[39m\u001b[32m179\u001b[39m batch_ig_attributions = \u001b[43m_get_batch_ig\u001b[49m\u001b[43m(\u001b[49m\u001b[43mmodel\u001b[49m\u001b[43m,\u001b[49m\u001b[43m \u001b[49m\u001b[43mbatch\u001b[49m\u001b[43m,\u001b[49m\u001b[43m \u001b[49m\u001b[43mtarget_idx\u001b[49m\u001b[43m,\u001b[49m\u001b[43m \u001b[49m\u001b[43mm_steps\u001b[49m\u001b[43m)\u001b[49m\n\u001b[32m    181\u001b[39m \u001b[38;5;66;03m# Store results (use device_get to move from JAX arrays to host)\u001b[39;00m\n\u001b[32m    182\u001b[39m results[\u001b[33m\"\u001b[39m\u001b[33mbasin\u001b[39m\u001b[33m\"\u001b[39m].extend(\u001b[38;5;28mlist\u001b[39m(basin))\n",
      "    \u001b[31m[... skipping hidden 19 frame]\u001b[39m\n",
      "\u001b[36mFile \u001b[39m\u001b[32m/nas/cee-water/cjgleason/ted/swot-ml/src/evaluate/attribution.py:79\u001b[39m, in \u001b[36m_get_batch_ig\u001b[39m\u001b[34m(model, batch, target_idx, m_steps)\u001b[39m\n\u001b[32m     74\u001b[39m \u001b[38;5;66;03m# Vmap the single calculation over the batch\u001b[39;00m\n\u001b[32m     75\u001b[39m batched_ig_fn = jax.vmap(\n\u001b[32m     76\u001b[39m     _calculate_ig_single,\n\u001b[32m     77\u001b[39m     in_axes=(\u001b[38;5;28;01mNone\u001b[39;00m, data_axes_spec, data_axes_spec, \u001b[38;5;28;01mNone\u001b[39;00m, \u001b[38;5;28;01mNone\u001b[39;00m),\n\u001b[32m     78\u001b[39m )\n\u001b[32m---> \u001b[39m\u001b[32m79\u001b[39m batch_ig_attribs_tree = \u001b[43mbatched_ig_fn\u001b[49m\u001b[43m(\u001b[49m\n\u001b[32m     80\u001b[39m \u001b[43m    \u001b[49m\u001b[43mmodel\u001b[49m\u001b[43m,\u001b[49m\n\u001b[32m     81\u001b[39m \u001b[43m    \u001b[49m\u001b[43mbatch\u001b[49m\u001b[43m,\u001b[49m\n\u001b[32m     82\u001b[39m \u001b[43m    \u001b[49m\u001b[43mbaseline\u001b[49m\u001b[43m,\u001b[49m\n\u001b[32m     83\u001b[39m \u001b[43m    \u001b[49m\u001b[43mtarget_idx\u001b[49m\u001b[43m,\u001b[49m\n\u001b[32m     84\u001b[39m \u001b[43m    \u001b[49m\u001b[43mm_steps\u001b[49m\u001b[43m,\u001b[49m\n\u001b[32m     85\u001b[39m \u001b[43m\u001b[49m\u001b[43m)\u001b[49m\n\u001b[32m     87\u001b[39m \u001b[38;5;66;03m# Extract and concatenate dynamic features from the last time step\u001b[39;00m\n\u001b[32m     88\u001b[39m feat_imp_list = []\n",
      "    \u001b[31m[... skipping hidden 7 frame]\u001b[39m\n",
      "\u001b[36mFile \u001b[39m\u001b[32m/nas/cee-water/cjgleason/ted/swot-ml/src/evaluate/attribution.py:37\u001b[39m, in \u001b[36m_calculate_ig_single\u001b[39m\u001b[34m(model, single_input_tree, baseline_tree, target_idx, m_steps)\u001b[39m\n\u001b[32m     25\u001b[39m interpolated_inputs = jax.vmap(\n\u001b[32m     26\u001b[39m     \u001b[38;5;28;01mlambda\u001b[39;00m alpha: jax.tree.map(\n\u001b[32m     27\u001b[39m         \u001b[38;5;28;01mlambda\u001b[39;00m x, b: b + alpha * (x - b),\n\u001b[32m   (...)\u001b[39m\u001b[32m     30\u001b[39m     )\n\u001b[32m     31\u001b[39m )(alphas)\n\u001b[32m     33\u001b[39m \u001b[38;5;66;03m# Calculate gradients at each interpolated step\u001b[39;00m\n\u001b[32m     34\u001b[39m \u001b[38;5;66;03m# Pytree leaves become shape (m_steps+1, *original_shape)\u001b[39;00m\n\u001b[32m     35\u001b[39m \u001b[38;5;66;03m# static_keys = [\"graph\"]\u001b[39;00m\n\u001b[32m     36\u001b[39m \u001b[38;5;66;03m# data_axes_spec = {key: (None if key in static_keys else 0) for key in interpolated_inputs}\u001b[39;00m\n\u001b[32m---> \u001b[39m\u001b[32m37\u001b[39m interpolated_grads = \u001b[43mjax\u001b[49m\u001b[43m.\u001b[49m\u001b[43mvmap\u001b[49m\u001b[43m(\u001b[49m\u001b[43mgrad_target_output_fn\u001b[49m\u001b[43m)\u001b[49m\u001b[43m(\u001b[49m\u001b[43minterpolated_inputs\u001b[49m\u001b[43m)\u001b[49m\n\u001b[32m     39\u001b[39m \u001b[38;5;66;03m# Average grads using trapezoidal rule approximation\u001b[39;00m\n\u001b[32m     40\u001b[39m \u001b[38;5;28;01mdef\u001b[39;00m\u001b[38;5;250m \u001b[39m\u001b[34mtrapezoid_avg\u001b[39m(g):\n",
      "    \u001b[31m[... skipping hidden 26 frame]\u001b[39m\n",
      "\u001b[36mFile \u001b[39m\u001b[32m/nas/cee-water/cjgleason/ted/swot-ml/src/evaluate/attribution.py:19\u001b[39m, in \u001b[36m_calculate_ig_single.<locals>.grad_target_output_fn\u001b[39m\u001b[34m(interpolated_input)\u001b[39m\n\u001b[32m     17\u001b[39m \u001b[38;5;129m@eqx\u001b[39m.filter_grad\n\u001b[32m     18\u001b[39m \u001b[38;5;28;01mdef\u001b[39;00m\u001b[38;5;250m \u001b[39m\u001b[34mgrad_target_output_fn\u001b[39m(interpolated_input):\n\u001b[32m---> \u001b[39m\u001b[32m19\u001b[39m     pred = \u001b[43mmodel\u001b[49m\u001b[43m(\u001b[49m\u001b[43minterpolated_input\u001b[49m\u001b[43m,\u001b[49m\u001b[43m \u001b[49m\u001b[43mkey\u001b[49m\u001b[43m=\u001b[49m\u001b[43mkey\u001b[49m\u001b[43m)\u001b[49m\n\u001b[32m     20\u001b[39m     \u001b[38;5;28;01mreturn\u001b[39;00m pred[target_idx]\n",
      "\u001b[36mFile \u001b[39m\u001b[32m/nas/cee-water/cjgleason/ted/swot-ml/src/models/graph_transformer.py:215\u001b[39m, in \u001b[36mST_GATransformer.__call__\u001b[39m\u001b[34m(self, data, key)\u001b[39m\n\u001b[32m    213\u001b[39m scan_keys = jrandom.split(key, \u001b[38;5;28mself\u001b[39m.seq_length)\n\u001b[32m    214\u001b[39m scan_inputs = (dense_emb_norm, obs_memories, scan_keys)\n\u001b[32m--> \u001b[39m\u001b[32m215\u001b[39m final_state, accumulated_outputs = \u001b[43mjax\u001b[49m\u001b[43m.\u001b[49m\u001b[43mlax\u001b[49m\u001b[43m.\u001b[49m\u001b[43mscan\u001b[49m\u001b[43m(\u001b[49m\n\u001b[32m    216\u001b[39m \u001b[43m    \u001b[49m\u001b[43mprocess_one_timestep\u001b[49m\u001b[43m,\u001b[49m\u001b[43m \u001b[49m\u001b[43minitial_state\u001b[49m\u001b[43m,\u001b[49m\u001b[43m \u001b[49m\u001b[43mscan_inputs\u001b[49m\n\u001b[32m    217\u001b[39m \u001b[43m\u001b[49m\u001b[43m)\u001b[49m\n\u001b[32m    218\u001b[39m final_h, final_c = final_state\n\u001b[32m    219\u001b[39m all_h, fwd_w, rev_w, z, r, assim = accumulated_outputs\n",
      "    \u001b[31m[... skipping hidden 18 frame]\u001b[39m\n",
      "\u001b[36mFile \u001b[39m\u001b[32m/nas/cee-water/cjgleason/ted/swot-ml/src/models/graph_transformer.py:189\u001b[39m, in \u001b[36mST_GATransformer.__call__.<locals>.process_one_timestep\u001b[39m\u001b[34m(state_prev, scan_slice)\u001b[39m\n\u001b[32m    186\u001b[39m dense_input, step_obs_memory, step_key = scan_slice\n\u001b[32m    188\u001b[39m \u001b[38;5;66;03m# Recurrent update\u001b[39;00m\n\u001b[32m--> \u001b[39m\u001b[32m189\u001b[39m (h_new, c_new), (trace_data) = \u001b[38;5;28;43mself\u001b[39;49m\u001b[43m.\u001b[49m\u001b[43mspat_temp_lstm\u001b[49m\u001b[43m(\u001b[49m\n\u001b[32m    190\u001b[39m \u001b[43m    \u001b[49m\u001b[43mdense_input\u001b[49m\u001b[43m,\u001b[49m\n\u001b[32m    191\u001b[39m \u001b[43m    \u001b[49m\u001b[43mstate_prev\u001b[49m\u001b[43m,\u001b[49m\n\u001b[32m    192\u001b[39m \u001b[43m    \u001b[49m\u001b[43mdata\u001b[49m\u001b[43m[\u001b[49m\u001b[33;43m\"\u001b[39;49m\u001b[33;43mgraph\u001b[39;49m\u001b[33;43m\"\u001b[39;49m\u001b[43m]\u001b[49m\u001b[43m.\u001b[49m\u001b[43mnode_features\u001b[49m\u001b[43m,\u001b[49m\n\u001b[32m    193\u001b[39m \u001b[43m    \u001b[49m\u001b[43mdata\u001b[49m\u001b[43m[\u001b[49m\u001b[33;43m\"\u001b[39;49m\u001b[33;43mgraph\u001b[39;49m\u001b[33;43m\"\u001b[39;49m\u001b[43m]\u001b[49m\u001b[43m.\u001b[49m\u001b[43medge_index\u001b[49m\u001b[43m,\u001b[49m\n\u001b[32m    194\u001b[39m \u001b[43m    \u001b[49m\u001b[43mdata\u001b[49m\u001b[43m[\u001b[49m\u001b[33;43m\"\u001b[39;49m\u001b[33;43mgraph\u001b[39;49m\u001b[33;43m\"\u001b[39;49m\u001b[43m]\u001b[49m\u001b[43m.\u001b[49m\u001b[43medge_features\u001b[49m\u001b[43m,\u001b[49m\n\u001b[32m    195\u001b[39m \u001b[43m    \u001b[49m\u001b[43mkey\u001b[49m\u001b[43m=\u001b[49m\u001b[43mstep_key\u001b[49m\u001b[43m,\u001b[49m\n\u001b[32m    196\u001b[39m \u001b[43m\u001b[49m\u001b[43m)\u001b[49m\n\u001b[32m    198\u001b[39m \u001b[38;5;28;01mif\u001b[39;00m step_obs_memory \u001b[38;5;129;01mis\u001b[39;00m \u001b[38;5;129;01mnot\u001b[39;00m \u001b[38;5;28;01mNone\u001b[39;00m:\n\u001b[32m    199\u001b[39m     h_new, assim_trace = assimilate(h_new, step_obs_memory)\n",
      "\u001b[36mFile \u001b[39m\u001b[32m/nas/cee-water/cjgleason/ted/swot-ml/src/models/layers/graph_attn.py:311\u001b[39m, in \u001b[36mSpatioTemporalLSTMCell.__call__\u001b[39m\u001b[34m(self, x_t, state, node_features, edge_index, edge_features, key)\u001b[39m\n\u001b[32m    308\u001b[39m h_candidate, c_new = jax.vmap(\u001b[38;5;28mself\u001b[39m.lstm_cell)(x_t, (h_prev, c_prev))\n\u001b[32m    310\u001b[39m \u001b[38;5;66;03m# Propagate the freshly updated hidden states spatially.\u001b[39;00m\n\u001b[32m--> \u001b[39m\u001b[32m311\u001b[39m gat_out, fwd_w, rev_w, z, r = \u001b[38;5;28;43mself\u001b[39;49m\u001b[43m.\u001b[49m\u001b[43mgat\u001b[49m\u001b[43m(\u001b[49m\n\u001b[32m    312\u001b[39m \u001b[43m    \u001b[49m\u001b[43mh_candidate\u001b[49m\u001b[43m,\u001b[49m\n\u001b[32m    313\u001b[39m \u001b[43m    \u001b[49m\u001b[43mnode_features\u001b[49m\u001b[43m,\u001b[49m\n\u001b[32m    314\u001b[39m \u001b[43m    \u001b[49m\u001b[43medge_index\u001b[49m\u001b[43m=\u001b[49m\u001b[43medge_index\u001b[49m\u001b[43m,\u001b[49m\n\u001b[32m    315\u001b[39m \u001b[43m    \u001b[49m\u001b[43medge_features\u001b[49m\u001b[43m=\u001b[49m\u001b[43medge_features\u001b[49m\u001b[43m,\u001b[49m\n\u001b[32m    316\u001b[39m \u001b[43m\u001b[49m\u001b[43m)\u001b[49m\n\u001b[32m    317\u001b[39m h_new = \u001b[38;5;28mself\u001b[39m.dropout(gat_out, key=key)\n\u001b[32m    319\u001b[39m \u001b[38;5;66;03m# The new state and a tuple of all traceable weights/gates\u001b[39;00m\n",
      "\u001b[36mFile \u001b[39m\u001b[32m/nas/cee-water/cjgleason/ted/swot-ml/src/models/layers/graph_attn.py:223\u001b[39m, in \u001b[36mMultiHeadStackedGAT.__call__\u001b[39m\u001b[34m(self, x, x_s, edge_index, edge_features)\u001b[39m\n\u001b[32m    221\u001b[39m \u001b[38;5;28;01mfor\u001b[39;00m layer \u001b[38;5;129;01min\u001b[39;00m \u001b[38;5;28mself\u001b[39m.fwd_layers:\n\u001b[32m    222\u001b[39m     h_norm = jax.vmap(\u001b[38;5;28mself\u001b[39m.norm)(h_fwd)\n\u001b[32m--> \u001b[39m\u001b[32m223\u001b[39m     fwd_messages, fwd_w = \u001b[43mlayer\u001b[49m\u001b[43m(\u001b[49m\u001b[43mh_norm\u001b[49m\u001b[43m,\u001b[49m\u001b[43m \u001b[49m\u001b[43mx_s\u001b[49m\u001b[43m,\u001b[49m\u001b[43m \u001b[49m\u001b[43medge_index\u001b[49m\u001b[43m,\u001b[49m\u001b[43m \u001b[49m\u001b[43medge_features\u001b[49m\u001b[43m)\u001b[49m\n\u001b[32m    224\u001b[39m     h_fwd = h_fwd + fwd_messages\n\u001b[32m    225\u001b[39m     fwd_ws.append(fwd_w)\n",
      "\u001b[36mFile \u001b[39m\u001b[32m/nas/cee-water/cjgleason/ted/swot-ml/src/models/layers/graph_attn.py:60\u001b[39m, in \u001b[36mMultiHeadFwdAttentionLayer.__call__\u001b[39m\u001b[34m(self, h, x_s, edge_index, edge_features)\u001b[39m\n\u001b[32m     57\u001b[39m src, dest = edge_index\n\u001b[32m     59\u001b[39m \u001b[38;5;66;03m# 1. Prepare inputs for the fused MLP\u001b[39;00m\n\u001b[32m---> \u001b[39m\u001b[32m60\u001b[39m h_src = \u001b[43mh\u001b[49m\u001b[43m[\u001b[49m\u001b[43msrc\u001b[49m\u001b[43m]\u001b[49m\n\u001b[32m     61\u001b[39m h_dest = h[dest]\n\u001b[32m     62\u001b[39m mlp_input = jnp.concatenate([h_src, h_dest, x_s[src], x_s[dest], edge_features], axis=-\u001b[32m1\u001b[39m)\n",
      "\u001b[36mFile \u001b[39m\u001b[32m/nas/cee-water/cjgleason/ted/swot-ml/.venv/lib/python3.11/site-packages/jax/_src/numpy/array_methods.py:1060\u001b[39m, in \u001b[36m_forward_operator_to_aval.<locals>.op\u001b[39m\u001b[34m(self, *args)\u001b[39m\n\u001b[32m   1059\u001b[39m \u001b[38;5;28;01mdef\u001b[39;00m\u001b[38;5;250m \u001b[39m\u001b[34mop\u001b[39m(\u001b[38;5;28mself\u001b[39m, *args):\n\u001b[32m-> \u001b[39m\u001b[32m1060\u001b[39m   \u001b[38;5;28;01mreturn\u001b[39;00m \u001b[38;5;28;43mgetattr\u001b[39;49m\u001b[43m(\u001b[49m\u001b[38;5;28;43mself\u001b[39;49m\u001b[43m.\u001b[49m\u001b[43maval\u001b[49m\u001b[43m,\u001b[49m\u001b[43m \u001b[49m\u001b[33;43mf\u001b[39;49m\u001b[33;43m\"\u001b[39;49m\u001b[33;43m_\u001b[39;49m\u001b[38;5;132;43;01m{\u001b[39;49;00m\u001b[43mname\u001b[49m\u001b[38;5;132;43;01m}\u001b[39;49;00m\u001b[33;43m\"\u001b[39;49m\u001b[43m)\u001b[49m\u001b[43m(\u001b[49m\u001b[38;5;28;43mself\u001b[39;49m\u001b[43m,\u001b[49m\u001b[43m \u001b[49m\u001b[43m*\u001b[49m\u001b[43margs\u001b[49m\u001b[43m)\u001b[49m\n",
      "\u001b[36mFile \u001b[39m\u001b[32m/nas/cee-water/cjgleason/ted/swot-ml/.venv/lib/python3.11/site-packages/jax/_src/numpy/array_methods.py:652\u001b[39m, in \u001b[36m_getitem\u001b[39m\u001b[34m(self, item)\u001b[39m\n\u001b[32m    651\u001b[39m \u001b[38;5;28;01mdef\u001b[39;00m\u001b[38;5;250m \u001b[39m\u001b[34m_getitem\u001b[39m(\u001b[38;5;28mself\u001b[39m, item):\n\u001b[32m--> \u001b[39m\u001b[32m652\u001b[39m   \u001b[38;5;28;01mreturn\u001b[39;00m \u001b[43mindexing\u001b[49m\u001b[43m.\u001b[49m\u001b[43mrewriting_take\u001b[49m\u001b[43m(\u001b[49m\u001b[38;5;28;43mself\u001b[39;49m\u001b[43m,\u001b[49m\u001b[43m \u001b[49m\u001b[43mitem\u001b[49m\u001b[43m)\u001b[49m\n",
      "\u001b[36mFile \u001b[39m\u001b[32m/nas/cee-water/cjgleason/ted/swot-ml/.venv/lib/python3.11/site-packages/jax/_src/numpy/indexing.py:633\u001b[39m, in \u001b[36mrewriting_take\u001b[39m\u001b[34m(arr, idx, indices_are_sorted, unique_indices, mode, fill_value, out_sharding)\u001b[39m\n\u001b[32m    630\u001b[39m       \u001b[38;5;28;01mreturn\u001b[39;00m lax.dynamic_index_in_dim(arr, idx, keepdims=\u001b[38;5;28;01mFalse\u001b[39;00m)\n\u001b[32m    632\u001b[39m treedef, static_idx, dynamic_idx = split_index_for_jit(idx, arr.shape)\n\u001b[32m--> \u001b[39m\u001b[32m633\u001b[39m \u001b[38;5;28;01mreturn\u001b[39;00m \u001b[43m_gather\u001b[49m\u001b[43m(\u001b[49m\u001b[43marr\u001b[49m\u001b[43m,\u001b[49m\u001b[43m \u001b[49m\u001b[43mtreedef\u001b[49m\u001b[43m,\u001b[49m\u001b[43m \u001b[49m\u001b[43mstatic_idx\u001b[49m\u001b[43m,\u001b[49m\u001b[43m \u001b[49m\u001b[43mdynamic_idx\u001b[49m\u001b[43m,\u001b[49m\u001b[43m \u001b[49m\u001b[43mindices_are_sorted\u001b[49m\u001b[43m,\u001b[49m\n\u001b[32m    634\u001b[39m \u001b[43m               \u001b[49m\u001b[43munique_indices\u001b[49m\u001b[43m,\u001b[49m\u001b[43m \u001b[49m\u001b[43mmode\u001b[49m\u001b[43m,\u001b[49m\u001b[43m \u001b[49m\u001b[43mfill_value\u001b[49m\u001b[43m,\u001b[49m\u001b[43m \u001b[49m\u001b[43mout_sharding\u001b[49m\u001b[43m)\u001b[49m\n",
      "\u001b[36mFile \u001b[39m\u001b[32m/nas/cee-water/cjgleason/ted/swot-ml/.venv/lib/python3.11/site-packages/jax/_src/numpy/indexing.py:642\u001b[39m, in \u001b[36m_gather\u001b[39m\u001b[34m(arr, treedef, static_idx, dynamic_idx, indices_are_sorted, unique_indices, mode, fill_value, out_sharding)\u001b[39m\n\u001b[32m    639\u001b[39m \u001b[38;5;28;01mdef\u001b[39;00m\u001b[38;5;250m \u001b[39m\u001b[34m_gather\u001b[39m(arr, treedef, static_idx, dynamic_idx, indices_are_sorted,\n\u001b[32m    640\u001b[39m             unique_indices, mode, fill_value, out_sharding):\n\u001b[32m    641\u001b[39m   idx = merge_static_and_dynamic_indices(treedef, static_idx, dynamic_idx)\n\u001b[32m--> \u001b[39m\u001b[32m642\u001b[39m   indexer = \u001b[43mindex_to_gather\u001b[49m\u001b[43m(\u001b[49m\u001b[43mnp\u001b[49m\u001b[43m.\u001b[49m\u001b[43mshape\u001b[49m\u001b[43m(\u001b[49m\u001b[43marr\u001b[49m\u001b[43m)\u001b[49m\u001b[43m,\u001b[49m\u001b[43m \u001b[49m\u001b[43midx\u001b[49m\u001b[43m)\u001b[49m  \u001b[38;5;66;03m# shared with _scatter_update\u001b[39;00m\n\u001b[32m    643\u001b[39m   y = arr\n\u001b[32m    645\u001b[39m   \u001b[38;5;28;01mif\u001b[39;00m fill_value \u001b[38;5;129;01mis\u001b[39;00m \u001b[38;5;129;01mnot\u001b[39;00m \u001b[38;5;28;01mNone\u001b[39;00m:\n",
      "\u001b[36mFile \u001b[39m\u001b[32m/nas/cee-water/cjgleason/ted/swot-ml/.venv/lib/python3.11/site-packages/jax/_src/numpy/indexing.py:774\u001b[39m, in \u001b[36mindex_to_gather\u001b[39m\u001b[34m(x_shape, idx, normalize_indices)\u001b[39m\n\u001b[32m    771\u001b[39m   i, val, aval = float_indices[\u001b[32m0\u001b[39m]\n\u001b[32m    772\u001b[39m   msg = (\u001b[33m\"\u001b[39m\u001b[33mIndexer must have integer or boolean type, got indexer \u001b[39m\u001b[33m\"\u001b[39m\n\u001b[32m    773\u001b[39m          \u001b[33m\"\u001b[39m\u001b[33mwith type \u001b[39m\u001b[38;5;132;01m{}\u001b[39;00m\u001b[33m at position \u001b[39m\u001b[38;5;132;01m{}\u001b[39;00m\u001b[33m, indexer value \u001b[39m\u001b[38;5;132;01m{}\u001b[39;00m\u001b[33m\"\u001b[39m)\n\u001b[32m--> \u001b[39m\u001b[32m774\u001b[39m   \u001b[38;5;28;01mraise\u001b[39;00m \u001b[38;5;167;01mTypeError\u001b[39;00m(msg.format(aval.dtype.name, i, val))\n\u001b[32m    776\u001b[39m \u001b[38;5;66;03m# Check whether advanced indices are contiguous. We must do this before\u001b[39;00m\n\u001b[32m    777\u001b[39m \u001b[38;5;66;03m# removing ellipses (https://github.com/jax-ml/jax/issues/25109)\u001b[39;00m\n\u001b[32m    778\u001b[39m \u001b[38;5;66;03m# If advanced idexing axes do not appear contiguously, NumPy semantics\u001b[39;00m\n\u001b[32m    779\u001b[39m \u001b[38;5;66;03m# move the advanced axes to the front.\u001b[39;00m\n\u001b[32m    780\u001b[39m is_advanced, = np.nonzero([\u001b[38;5;28misinstance\u001b[39m(e, (\u001b[38;5;28mint\u001b[39m, np.integer, Array, np.ndarray))\n\u001b[32m    781\u001b[39m                            \u001b[38;5;129;01mor\u001b[39;00m lax_numpy.isscalar(e) \u001b[38;5;28;01mfor\u001b[39;00m e \u001b[38;5;129;01min\u001b[39;00m idx])\n",
      "\u001b[31mTypeError\u001b[39m: Indexer must have integer or boolean type, got indexer with type float32 at position 0, indexer value Traced<ShapedArray(float32[1961])>with<DynamicJaxprTrace>"
     ]
    }
   ],
   "source": [
    "df = evaluate.get_intgrads_df(cfg, model, dataloader, target, max_iter=max_iter)\n",
    "df"
   ]
  },
  {
   "cell_type": "code",
   "execution_count": null,
   "id": "df16b254-8251-49dc-af69-8d2412028f1a",
   "metadata": {},
   "outputs": [],
   "source": []
  },
  {
   "cell_type": "code",
   "execution_count": 8,
   "id": "dac92720-d5c1-4c5a-8c4b-e4c3cc892cec",
   "metadata": {},
   "outputs": [
    {
     "data": {
      "text/plain": [
       "dict_keys(['dynamic', 'static', 'graph', 'y'])"
      ]
     },
     "execution_count": 8,
     "metadata": {},
     "output_type": "execute_result"
    }
   ],
   "source": [
    "for basin, date, batch in dataloader:\n",
    "    break\n",
    "batch.keys()"
   ]
  },
  {
   "cell_type": "code",
   "execution_count": 14,
   "id": "c8386bc9-87e5-4682-96db-403d03669da6",
   "metadata": {},
   "outputs": [
    {
     "data": {
      "text/plain": [
       "dict_keys(['era5', 'swot_r', 'swot_l', 'glow'])"
      ]
     },
     "execution_count": 14,
     "metadata": {},
     "output_type": "execute_result"
    }
   ],
   "source": [
    "batch['dynamic'].keys()"
   ]
  },
  {
   "cell_type": "code",
   "execution_count": 20,
   "id": "4c976f24-303e-49de-85fa-6c99b26fce7a",
   "metadata": {},
   "outputs": [
    {
     "name": "stdout",
     "output_type": "stream",
     "text": [
      "(90, 1962, 20)\n",
      "(90, 1962, 1)\n"
     ]
    }
   ],
   "source": [
    "def get_single(b):\n",
    "    single = {}\n",
    "    for k, v in b.items():\n",
    "        if isinstance(v, dict):\n",
    "            single[k] = {kk: vv[0,...] for kk, vv in v.items()}\n",
    "        elif k == 'graph':\n",
    "            single[k] = v\n",
    "        else:\n",
    "            single[k] = v[0,...]\n",
    "\n",
    "    return single\n",
    "\n",
    "single = get_single(batch)\n",
    "\n",
    "\n",
    "print(single['dynamic']['era5'].shape)\n",
    "print(single['y'].shape)"
   ]
  },
  {
   "cell_type": "code",
   "execution_count": 21,
   "id": "301612e6-98c6-4962-a355-6e3b3f16dc00",
   "metadata": {},
   "outputs": [
    {
     "data": {
      "text/plain": [
       "Array([[[ 1.9637854 ],\n",
       "        [ 3.375012  ],\n",
       "        [-0.17155433],\n",
       "        ...,\n",
       "        [-1.2903222 ],\n",
       "        [-2.5174625 ],\n",
       "        [-2.4821103 ]],\n",
       "\n",
       "       [[ 5.3253927 ],\n",
       "        [ 6.0375004 ],\n",
       "        [-0.01480161],\n",
       "        ...,\n",
       "        [-1.2726734 ],\n",
       "        [-2.3978026 ],\n",
       "        [-2.397909  ]],\n",
       "\n",
       "       [[ 5.6072664 ],\n",
       "        [ 5.9878926 ],\n",
       "        [-0.8873311 ],\n",
       "        ...,\n",
       "        [-0.04824136],\n",
       "        [-2.2399478 ],\n",
       "        [-2.315516  ]],\n",
       "\n",
       "       ...,\n",
       "\n",
       "       [[ 6.004189  ],\n",
       "        [ 6.0954647 ],\n",
       "        [-0.475321  ],\n",
       "        ...,\n",
       "        [-0.00909531],\n",
       "        [-0.9732019 ],\n",
       "        [-1.1797688 ]],\n",
       "\n",
       "       [[ 5.970257  ],\n",
       "        [ 6.029078  ],\n",
       "        [-0.57309586],\n",
       "        ...,\n",
       "        [-0.05207691],\n",
       "        [-1.0274509 ],\n",
       "        [-1.2709379 ]],\n",
       "\n",
       "       [[ 5.951088  ],\n",
       "        [ 6.0028963 ],\n",
       "        [-0.64526165],\n",
       "        ...,\n",
       "        [-0.09896851],\n",
       "        [-1.1272274 ],\n",
       "        [-1.3353819 ]]], dtype=float32)"
      ]
     },
     "execution_count": 21,
     "metadata": {},
     "output_type": "execute_result"
    }
   ],
   "source": [
    "key = jax.random.PRNGKey(0)\n",
    "model(single, key)"
   ]
  },
  {
   "cell_type": "code",
   "execution_count": 9,
   "id": "8fa5153f-12ea-4e9b-b64f-b521fc543854",
   "metadata": {},
   "outputs": [],
   "source": [
    "import jax\n",
    "import jax.numpy as jnp\n",
    "import equinox as eqx\n",
    "\n",
    "\n",
    "def _calculate_ig_single(model, single_input_tree, baseline_tree, target_idx, m_steps):\n",
    "    \"\"\"Core Integrated Gradients calculation for one sequence.\"\"\"\n",
    "    key = jax.random.PRNGKey(0)\n",
    "\n",
    "    @eqx.filter_grad\n",
    "    def grad_target_output_fn(interpolated_input):\n",
    "        pred = model(interpolated_input, key=key)\n",
    "        return pred[target_idx]\n",
    "\n",
    "    alphas = jnp.linspace(start=0.0, stop=1.0, num=m_steps + 1)\n",
    "\n",
    "    # Interpolate inputs: Pytree leaves become shape (m_steps+1, *original_shape)\n",
    "    interpolated_inputs = jax.vmap(\n",
    "        lambda alpha: jax.tree.map(\n",
    "            lambda x, b: b + alpha * (x - b),\n",
    "            single_input_tree,\n",
    "            baseline_tree,\n",
    "        )\n",
    "    )(alphas)\n",
    "\n",
    "    # Calculate gradients at each interpolated step\n",
    "    # Pytree leaves become shape (m_steps+1, *original_shape)\n",
    "    static_keys = [\"graph\"]\n",
    "    data_axes_spec = {key: (None if key in static_keys else 0) for key in interpolated_inputs}\n",
    "    interpolated_grads = jax.vmap(grad_target_output_fn, in_axes=(data_axes_spec,))(interpolated_inputs)\n",
    "\n",
    "    # Average grads using trapezoidal rule approximation\n",
    "    def trapezoid_avg(g):\n",
    "        integral_approx = jnp.sum(g[1:] + g[:-1], axis=0) / 2.0\n",
    "        return integral_approx / m_steps\n",
    "\n",
    "    avg_grads = jax.tree.map(trapezoid_avg, interpolated_grads)\n",
    "\n",
    "    # Calculate diff and final attribution: (input - baseline) * avg_grads\n",
    "    input_diff = jax.tree.map(\n",
    "        lambda x, b: x - b,\n",
    "        single_input_tree,\n",
    "        baseline_tree,\n",
    "    )\n",
    "    ig_attribs = jax.tree.map(\n",
    "        lambda diff, avg_grad: diff * avg_grad,\n",
    "        input_diff,\n",
    "        avg_grads,\n",
    "    )\n",
    "\n",
    "    return ig_attribs\n",
    "\n",
    "\n"
   ]
  },
  {
   "cell_type": "code",
   "execution_count": 12,
   "id": "3865897f-8f3d-4037-b549-8477225cb490",
   "metadata": {},
   "outputs": [
    {
     "name": "stderr",
     "output_type": "stream",
     "text": [
      "Calculating IG for discharge:   0%|          | 0/50 [00:20<?, ?it/s]\n"
     ]
    },
    {
     "ename": "ValueError",
     "evalue": "Incompatible shapes for broadcasting: shapes=[(1962, 1), (1962, 16), (11, 16)]",
     "output_type": "error",
     "traceback": [
      "\u001b[31m---------------------------------------------------------------------------\u001b[39m",
      "\u001b[31mTypeError\u001b[39m                                 Traceback (most recent call last)",
      "\u001b[36mFile \u001b[39m\u001b[32m/nas/cee-water/cjgleason/ted/swot-ml/.venv/lib/python3.11/site-packages/jax/_src/lax/lax.py:218\u001b[39m, in \u001b[36m_broadcast_shapes_uncached\u001b[39m\u001b[34m(*shapes)\u001b[39m\n\u001b[32m    217\u001b[39m \u001b[38;5;28;01mtry\u001b[39;00m:\n\u001b[32m--> \u001b[39m\u001b[32m218\u001b[39m   \u001b[38;5;28;01mreturn\u001b[39;00m \u001b[43m_try_broadcast_shapes\u001b[49m\u001b[43m(\u001b[49m\u001b[43m*\u001b[49m\u001b[43mrank_promoted_shapes\u001b[49m\u001b[43m,\u001b[49m\u001b[43m \u001b[49m\u001b[43mname\u001b[49m\u001b[43m=\u001b[49m\u001b[33;43m'\u001b[39;49m\u001b[33;43mbroadcast_shapes\u001b[39;49m\u001b[33;43m'\u001b[39;49m\u001b[43m)\u001b[49m\n\u001b[32m    219\u001b[39m \u001b[38;5;28;01mexcept\u001b[39;00m \u001b[38;5;167;01mTypeError\u001b[39;00m \u001b[38;5;28;01mas\u001b[39;00m err:\n\u001b[32m    220\u001b[39m   \u001b[38;5;66;03m# Raise ValueError here for backward compatibility.\u001b[39;00m\n",
      "\u001b[36mFile \u001b[39m\u001b[32m/nas/cee-water/cjgleason/ted/swot-ml/.venv/lib/python3.11/site-packages/jax/_src/lax/lax.py:135\u001b[39m, in \u001b[36m_try_broadcast_shapes\u001b[39m\u001b[34m(name, *shapes)\u001b[39m\n\u001b[32m    134\u001b[39m     \u001b[38;5;28;01melse\u001b[39;00m:\n\u001b[32m--> \u001b[39m\u001b[32m135\u001b[39m       \u001b[38;5;28;01mraise\u001b[39;00m \u001b[38;5;167;01mTypeError\u001b[39;00m(\u001b[33mf\u001b[39m\u001b[33m'\u001b[39m\u001b[38;5;132;01m{\u001b[39;00mname\u001b[38;5;132;01m}\u001b[39;00m\u001b[33m got incompatible shapes for broadcasting: \u001b[39m\u001b[33m'\u001b[39m\n\u001b[32m    136\u001b[39m                       \u001b[33mf\u001b[39m\u001b[33m'\u001b[39m\u001b[38;5;132;01m{\u001b[39;00m\u001b[33m\"\u001b[39m\u001b[33m, \u001b[39m\u001b[33m\"\u001b[39m.join(\u001b[38;5;28mmap\u001b[39m(\u001b[38;5;28mstr\u001b[39m,\u001b[38;5;250m \u001b[39m\u001b[38;5;28mmap\u001b[39m(\u001b[38;5;28mtuple\u001b[39m,\u001b[38;5;250m \u001b[39mshapes)))\u001b[38;5;132;01m}\u001b[39;00m\u001b[33m.\u001b[39m\u001b[33m'\u001b[39m)\n\u001b[32m    137\u001b[39m \u001b[38;5;28;01mreturn\u001b[39;00m \u001b[38;5;28mtuple\u001b[39m(result_shape)\n",
      "\u001b[31mTypeError\u001b[39m: broadcast_shapes got incompatible shapes for broadcasting: (1962, 1), (1962, 16), (11, 16).",
      "\nThe above exception was the direct cause of the following exception:\n",
      "\u001b[31mValueError\u001b[39m                                Traceback (most recent call last)",
      "    \u001b[31m[... skipping hidden 1 frame]\u001b[39m\n",
      "\u001b[36mFile \u001b[39m\u001b[32m/nas/cee-water/cjgleason/ted/swot-ml/.venv/lib/python3.11/site-packages/jax/_src/util.py:337\u001b[39m, in \u001b[36mcache.<locals>.wrap.<locals>.wrapper\u001b[39m\u001b[34m(*args, **kwargs)\u001b[39m\n\u001b[32m    336\u001b[39m   \u001b[38;5;28;01mreturn\u001b[39;00m f(*args, **kwargs)\n\u001b[32m--> \u001b[39m\u001b[32m337\u001b[39m \u001b[38;5;28;01mreturn\u001b[39;00m \u001b[43mcached\u001b[49m\u001b[43m(\u001b[49m\u001b[43mconfig\u001b[49m\u001b[43m.\u001b[49m\u001b[43mtrace_context\u001b[49m\u001b[43m(\u001b[49m\u001b[43m)\u001b[49m\u001b[43m \u001b[49m\u001b[38;5;28;43;01mif\u001b[39;49;00m\u001b[43m \u001b[49m\u001b[43mtrace_context_in_key\u001b[49m\u001b[43m \u001b[49m\u001b[38;5;28;43;01melse\u001b[39;49;00m\u001b[43m \u001b[49m\u001b[43m_ignore\u001b[49m\u001b[43m(\u001b[49m\u001b[43m)\u001b[49m\u001b[43m,\u001b[49m\n\u001b[32m    338\u001b[39m \u001b[43m              \u001b[49m\u001b[43m*\u001b[49m\u001b[43margs\u001b[49m\u001b[43m,\u001b[49m\u001b[43m \u001b[49m\u001b[43m*\u001b[49m\u001b[43m*\u001b[49m\u001b[43mkwargs\u001b[49m\u001b[43m)\u001b[49m\n",
      "\u001b[36mFile \u001b[39m\u001b[32m/nas/cee-water/cjgleason/ted/swot-ml/.venv/lib/python3.11/site-packages/jax/_src/util.py:331\u001b[39m, in \u001b[36mcache.<locals>.wrap.<locals>.cached\u001b[39m\u001b[34m(_, *args, **kwargs)\u001b[39m\n\u001b[32m    329\u001b[39m \u001b[38;5;129m@functools\u001b[39m.lru_cache(max_size)\n\u001b[32m    330\u001b[39m \u001b[38;5;28;01mdef\u001b[39;00m\u001b[38;5;250m \u001b[39m\u001b[34mcached\u001b[39m(_, *args, **kwargs):\n\u001b[32m--> \u001b[39m\u001b[32m331\u001b[39m   \u001b[38;5;28;01mreturn\u001b[39;00m \u001b[43mf\u001b[49m\u001b[43m(\u001b[49m\u001b[43m*\u001b[49m\u001b[43margs\u001b[49m\u001b[43m,\u001b[49m\u001b[43m \u001b[49m\u001b[43m*\u001b[49m\u001b[43m*\u001b[49m\u001b[43mkwargs\u001b[49m\u001b[43m)\u001b[49m\n",
      "\u001b[36mFile \u001b[39m\u001b[32m/nas/cee-water/cjgleason/ted/swot-ml/.venv/lib/python3.11/site-packages/jax/_src/lax/lax.py:202\u001b[39m, in \u001b[36m_broadcast_shapes_cached\u001b[39m\u001b[34m(*shapes)\u001b[39m\n\u001b[32m    200\u001b[39m \u001b[38;5;129m@cache\u001b[39m()\n\u001b[32m    201\u001b[39m \u001b[38;5;28;01mdef\u001b[39;00m\u001b[38;5;250m \u001b[39m\u001b[34m_broadcast_shapes_cached\u001b[39m(*shapes: \u001b[38;5;28mtuple\u001b[39m[\u001b[38;5;28mint\u001b[39m, ...]) -> \u001b[38;5;28mtuple\u001b[39m[\u001b[38;5;28mint\u001b[39m, ...]:\n\u001b[32m--> \u001b[39m\u001b[32m202\u001b[39m   \u001b[38;5;28;01mreturn\u001b[39;00m \u001b[43m_broadcast_shapes_uncached\u001b[49m\u001b[43m(\u001b[49m\u001b[43m*\u001b[49m\u001b[43mshapes\u001b[49m\u001b[43m)\u001b[49m\n",
      "\u001b[36mFile \u001b[39m\u001b[32m/nas/cee-water/cjgleason/ted/swot-ml/.venv/lib/python3.11/site-packages/jax/_src/lax/lax.py:221\u001b[39m, in \u001b[36m_broadcast_shapes_uncached\u001b[39m\u001b[34m(*shapes)\u001b[39m\n\u001b[32m    219\u001b[39m \u001b[38;5;28;01mexcept\u001b[39;00m \u001b[38;5;167;01mTypeError\u001b[39;00m \u001b[38;5;28;01mas\u001b[39;00m err:\n\u001b[32m    220\u001b[39m   \u001b[38;5;66;03m# Raise ValueError here for backward compatibility.\u001b[39;00m\n\u001b[32m--> \u001b[39m\u001b[32m221\u001b[39m   \u001b[38;5;28;01mraise\u001b[39;00m \u001b[38;5;167;01mValueError\u001b[39;00m(\u001b[33mf\u001b[39m\u001b[33m\"\u001b[39m\u001b[33mIncompatible shapes for broadcasting: shapes=\u001b[39m\u001b[38;5;132;01m{\u001b[39;00m\u001b[38;5;28mlist\u001b[39m(shapes)\u001b[38;5;132;01m}\u001b[39;00m\u001b[33m\"\u001b[39m) \u001b[38;5;28;01mfrom\u001b[39;00m\u001b[38;5;250m \u001b[39m\u001b[34;01merr\u001b[39;00m\n",
      "\u001b[31mValueError\u001b[39m: Incompatible shapes for broadcasting: shapes=[(1962, 1), (1962, 16), (11, 16)]",
      "\nDuring handling of the above exception, another exception occurred:\n",
      "\u001b[31mTypeError\u001b[39m                                 Traceback (most recent call last)",
      "    \u001b[31m[... skipping hidden 1 frame]\u001b[39m\n",
      "\u001b[36mFile \u001b[39m\u001b[32m/nas/cee-water/cjgleason/ted/swot-ml/.venv/lib/python3.11/site-packages/jax/_src/lax/lax.py:135\u001b[39m, in \u001b[36m_try_broadcast_shapes\u001b[39m\u001b[34m(name, *shapes)\u001b[39m\n\u001b[32m    134\u001b[39m     \u001b[38;5;28;01melse\u001b[39;00m:\n\u001b[32m--> \u001b[39m\u001b[32m135\u001b[39m       \u001b[38;5;28;01mraise\u001b[39;00m \u001b[38;5;167;01mTypeError\u001b[39;00m(\u001b[33mf\u001b[39m\u001b[33m'\u001b[39m\u001b[38;5;132;01m{\u001b[39;00mname\u001b[38;5;132;01m}\u001b[39;00m\u001b[33m got incompatible shapes for broadcasting: \u001b[39m\u001b[33m'\u001b[39m\n\u001b[32m    136\u001b[39m                       \u001b[33mf\u001b[39m\u001b[33m'\u001b[39m\u001b[38;5;132;01m{\u001b[39;00m\u001b[33m\"\u001b[39m\u001b[33m, \u001b[39m\u001b[33m\"\u001b[39m.join(\u001b[38;5;28mmap\u001b[39m(\u001b[38;5;28mstr\u001b[39m,\u001b[38;5;250m \u001b[39m\u001b[38;5;28mmap\u001b[39m(\u001b[38;5;28mtuple\u001b[39m,\u001b[38;5;250m \u001b[39mshapes)))\u001b[38;5;132;01m}\u001b[39;00m\u001b[33m.\u001b[39m\u001b[33m'\u001b[39m)\n\u001b[32m    137\u001b[39m \u001b[38;5;28;01mreturn\u001b[39;00m \u001b[38;5;28mtuple\u001b[39m(result_shape)\n",
      "\u001b[31mTypeError\u001b[39m: broadcast_shapes got incompatible shapes for broadcasting: (1962, 1), (1962, 16), (11, 16).",
      "\nThe above exception was the direct cause of the following exception:\n",
      "\u001b[31mValueError\u001b[39m                                Traceback (most recent call last)",
      "\u001b[36mCell\u001b[39m\u001b[36m \u001b[39m\u001b[32mIn[12]\u001b[39m\u001b[32m, line 47\u001b[39m\n\u001b[32m     44\u001b[39m y_denorm = dataloader.dataset.denormalize(batch_preds, target)\n\u001b[32m     46\u001b[39m \u001b[38;5;66;03m# Calculate Integrated Gradients Attributions\u001b[39;00m\n\u001b[32m---> \u001b[39m\u001b[32m47\u001b[39m batch_ig_attributions = \u001b[43m_get_batch_ig\u001b[49m\u001b[43m(\u001b[49m\u001b[43mmodel\u001b[49m\u001b[43m,\u001b[49m\u001b[43m \u001b[49m\u001b[43mbatch\u001b[49m\u001b[43m,\u001b[49m\u001b[43m \u001b[49m\u001b[43mtarget_idx\u001b[49m\u001b[43m,\u001b[49m\u001b[43m \u001b[49m\u001b[43mm_steps\u001b[49m\u001b[43m)\u001b[49m\n\u001b[32m     49\u001b[39m \u001b[38;5;66;03m# Store results (use device_get to move from JAX arrays to host)\u001b[39;00m\n\u001b[32m     50\u001b[39m results[\u001b[33m\"\u001b[39m\u001b[33mbasin\u001b[39m\u001b[33m\"\u001b[39m].extend(\u001b[38;5;28mlist\u001b[39m(basin))\n",
      "    \u001b[31m[... skipping hidden 19 frame]\u001b[39m\n",
      "\u001b[36mCell\u001b[39m\u001b[36m \u001b[39m\u001b[32mIn[9]\u001b[39m\u001b[32m, line 72\u001b[39m, in \u001b[36m_get_batch_ig\u001b[39m\u001b[34m(model, batch, target_idx, m_steps)\u001b[39m\n\u001b[32m     67\u001b[39m \u001b[38;5;66;03m# Vmap the single calculation over the batch\u001b[39;00m\n\u001b[32m     68\u001b[39m batched_ig_fn = jax.vmap(\n\u001b[32m     69\u001b[39m     _calculate_ig_single,\n\u001b[32m     70\u001b[39m     in_axes=(\u001b[38;5;28;01mNone\u001b[39;00m, data_axes_spec, data_axes_spec, \u001b[38;5;28;01mNone\u001b[39;00m, \u001b[38;5;28;01mNone\u001b[39;00m),\n\u001b[32m     71\u001b[39m )\n\u001b[32m---> \u001b[39m\u001b[32m72\u001b[39m batch_ig_attribs_tree = \u001b[43mbatched_ig_fn\u001b[49m\u001b[43m(\u001b[49m\n\u001b[32m     73\u001b[39m \u001b[43m    \u001b[49m\u001b[43mmodel\u001b[49m\u001b[43m,\u001b[49m\n\u001b[32m     74\u001b[39m \u001b[43m    \u001b[49m\u001b[43mbatch\u001b[49m\u001b[43m,\u001b[49m\n\u001b[32m     75\u001b[39m \u001b[43m    \u001b[49m\u001b[43mbaseline\u001b[49m\u001b[43m,\u001b[49m\n\u001b[32m     76\u001b[39m \u001b[43m    \u001b[49m\u001b[43mtarget_idx\u001b[49m\u001b[43m,\u001b[49m\n\u001b[32m     77\u001b[39m \u001b[43m    \u001b[49m\u001b[43mm_steps\u001b[49m\u001b[43m,\u001b[49m\n\u001b[32m     78\u001b[39m \u001b[43m\u001b[49m\u001b[43m)\u001b[49m\n\u001b[32m     80\u001b[39m \u001b[38;5;66;03m# Extract and concatenate dynamic features from the last time step\u001b[39;00m\n\u001b[32m     81\u001b[39m feat_imp_list = []\n",
      "    \u001b[31m[... skipping hidden 7 frame]\u001b[39m\n",
      "\u001b[36mCell\u001b[39m\u001b[36m \u001b[39m\u001b[32mIn[9]\u001b[39m\u001b[32m, line 30\u001b[39m, in \u001b[36m_calculate_ig_single\u001b[39m\u001b[34m(model, single_input_tree, baseline_tree, target_idx, m_steps)\u001b[39m\n\u001b[32m     28\u001b[39m static_keys = [\u001b[33m\"\u001b[39m\u001b[33mgraph\u001b[39m\u001b[33m\"\u001b[39m]\n\u001b[32m     29\u001b[39m data_axes_spec = {key: (\u001b[38;5;28;01mNone\u001b[39;00m \u001b[38;5;28;01mif\u001b[39;00m key \u001b[38;5;129;01min\u001b[39;00m static_keys \u001b[38;5;28;01melse\u001b[39;00m \u001b[32m0\u001b[39m) \u001b[38;5;28;01mfor\u001b[39;00m key \u001b[38;5;129;01min\u001b[39;00m interpolated_inputs}\n\u001b[32m---> \u001b[39m\u001b[32m30\u001b[39m interpolated_grads = \u001b[43mjax\u001b[49m\u001b[43m.\u001b[49m\u001b[43mvmap\u001b[49m\u001b[43m(\u001b[49m\u001b[43mgrad_target_output_fn\u001b[49m\u001b[43m,\u001b[49m\u001b[43m \u001b[49m\u001b[43min_axes\u001b[49m\u001b[43m=\u001b[49m\u001b[43m(\u001b[49m\u001b[43mdata_axes_spec\u001b[49m\u001b[43m,\u001b[49m\u001b[43m)\u001b[49m\u001b[43m)\u001b[49m\u001b[43m(\u001b[49m\u001b[43minterpolated_inputs\u001b[49m\u001b[43m)\u001b[49m\n\u001b[32m     32\u001b[39m \u001b[38;5;66;03m# Average grads using trapezoidal rule approximation\u001b[39;00m\n\u001b[32m     33\u001b[39m \u001b[38;5;28;01mdef\u001b[39;00m\u001b[38;5;250m \u001b[39m\u001b[34mtrapezoid_avg\u001b[39m(g):\n",
      "    \u001b[31m[... skipping hidden 26 frame]\u001b[39m\n",
      "\u001b[36mCell\u001b[39m\u001b[36m \u001b[39m\u001b[32mIn[9]\u001b[39m\u001b[32m, line 12\u001b[39m, in \u001b[36m_calculate_ig_single.<locals>.grad_target_output_fn\u001b[39m\u001b[34m(interpolated_input)\u001b[39m\n\u001b[32m     10\u001b[39m \u001b[38;5;129m@eqx\u001b[39m.filter_grad\n\u001b[32m     11\u001b[39m \u001b[38;5;28;01mdef\u001b[39;00m\u001b[38;5;250m \u001b[39m\u001b[34mgrad_target_output_fn\u001b[39m(interpolated_input):\n\u001b[32m---> \u001b[39m\u001b[32m12\u001b[39m     pred = \u001b[43mmodel\u001b[49m\u001b[43m(\u001b[49m\u001b[43minterpolated_input\u001b[49m\u001b[43m,\u001b[49m\u001b[43m \u001b[49m\u001b[43mkey\u001b[49m\u001b[43m=\u001b[49m\u001b[43mkey\u001b[49m\u001b[43m)\u001b[49m\n\u001b[32m     13\u001b[39m     \u001b[38;5;28;01mreturn\u001b[39;00m pred[target_idx]\n",
      "\u001b[36mFile \u001b[39m\u001b[32m/nas/cee-water/cjgleason/ted/swot-ml/src/models/graph_transformer.py:162\u001b[39m, in \u001b[36mST_GATransformer.__call__\u001b[39m\u001b[34m(self, data, key)\u001b[39m\n\u001b[32m    152\u001b[39m         \u001b[38;5;28;01mreturn\u001b[39;00m new_memory, new_memory  \u001b[38;5;66;03m# carry + collect for whole sequence\u001b[39;00m\n\u001b[32m    154\u001b[39m     initial_obs_memory = {\n\u001b[32m    155\u001b[39m         name: (\n\u001b[32m    156\u001b[39m             jnp.zeros((num_locations, \u001b[38;5;28mself\u001b[39m.hidden_size)),   \u001b[38;5;66;03m# last_obs\u001b[39;00m\n\u001b[32m   (...)\u001b[39m\u001b[32m    160\u001b[39m         \u001b[38;5;28;01mfor\u001b[39;00m name \u001b[38;5;129;01min\u001b[39;00m \u001b[38;5;28mself\u001b[39m.sparse_sources\n\u001b[32m    161\u001b[39m     }\n\u001b[32m--> \u001b[39m\u001b[32m162\u001b[39m     _, obs_memories = \u001b[43mjax\u001b[49m\u001b[43m.\u001b[49m\u001b[43mlax\u001b[49m\u001b[43m.\u001b[49m\u001b[43mscan\u001b[49m\u001b[43m(\u001b[49m\u001b[43mmemory_step\u001b[49m\u001b[43m,\u001b[49m\u001b[43m \u001b[49m\u001b[43minitial_obs_memory\u001b[49m\u001b[43m,\u001b[49m\u001b[43m \u001b[49m\u001b[43mobs_emb\u001b[49m\u001b[43m)\u001b[49m\n\u001b[32m    163\u001b[39m \u001b[38;5;28;01melse\u001b[39;00m:\n\u001b[32m    164\u001b[39m     obs_memories = \u001b[38;5;28;01mNone\u001b[39;00m\n",
      "    \u001b[31m[... skipping hidden 10 frame]\u001b[39m\n",
      "\u001b[36mFile \u001b[39m\u001b[32m/nas/cee-water/cjgleason/ted/swot-ml/src/models/graph_transformer.py:145\u001b[39m, in \u001b[36mST_GATransformer.__call__.<locals>.memory_step\u001b[39m\u001b[34m(prev_memory, updates_masks)\u001b[39m\n\u001b[32m    142\u001b[39m prev_obs, prev_stale, prev_seen = prev_memory[name]\n\u001b[32m    144\u001b[39m \u001b[38;5;66;03m# Reset if new obs, otherwise carry forward + increment staleness\u001b[39;00m\n\u001b[32m--> \u001b[39m\u001b[32m145\u001b[39m updated_obs = \u001b[43mjnp\u001b[49m\u001b[43m.\u001b[49m\u001b[43mwhere\u001b[49m\u001b[43m(\u001b[49m\u001b[43mmask_t\u001b[49m\u001b[43m,\u001b[49m\u001b[43m \u001b[49m\u001b[43mupdate_emb_t\u001b[49m\u001b[43m,\u001b[49m\u001b[43m \u001b[49m\u001b[43mprev_obs\u001b[49m\u001b[43m)\u001b[49m\n\u001b[32m    146\u001b[39m updated_staleness = jnp.where(mask_t.squeeze(axis=-\u001b[32m1\u001b[39m), \u001b[32m0.0\u001b[39m, prev_stale + \u001b[32m1.0\u001b[39m)\n\u001b[32m    148\u001b[39m \u001b[38;5;66;03m# Update seen flag. Once true, it stays true.\u001b[39;00m\n",
      "\u001b[36mFile \u001b[39m\u001b[32m/nas/cee-water/cjgleason/ted/swot-ml/.venv/lib/python3.11/site-packages/jax/_src/numpy/lax_numpy.py:2858\u001b[39m, in \u001b[36mwhere\u001b[39m\u001b[34m(condition, x, y, size, fill_value)\u001b[39m\n\u001b[32m   2854\u001b[39m \u001b[38;5;28;01mif\u001b[39;00m x \u001b[38;5;129;01mis\u001b[39;00m \u001b[38;5;28;01mNone\u001b[39;00m \u001b[38;5;129;01mor\u001b[39;00m y \u001b[38;5;129;01mis\u001b[39;00m \u001b[38;5;28;01mNone\u001b[39;00m:\n\u001b[32m   2855\u001b[39m   \u001b[38;5;28;01mraise\u001b[39;00m \u001b[38;5;167;01mValueError\u001b[39;00m(\u001b[33m\"\u001b[39m\u001b[33mEither both or neither of the x and y arguments \u001b[39m\u001b[33m\"\u001b[39m\n\u001b[32m   2856\u001b[39m                    \u001b[33m\"\u001b[39m\u001b[33mshould be provided to jax.numpy.where, got \u001b[39m\u001b[33m\"\u001b[39m\n\u001b[32m   2857\u001b[39m                    \u001b[33mf\u001b[39m\u001b[33m\"\u001b[39m\u001b[38;5;132;01m{\u001b[39;00mx\u001b[38;5;132;01m}\u001b[39;00m\u001b[33m and \u001b[39m\u001b[38;5;132;01m{\u001b[39;00my\u001b[38;5;132;01m}\u001b[39;00m\u001b[33m.\u001b[39m\u001b[33m\"\u001b[39m)\n\u001b[32m-> \u001b[39m\u001b[32m2858\u001b[39m \u001b[38;5;28;01mreturn\u001b[39;00m \u001b[43mutil\u001b[49m\u001b[43m.\u001b[49m\u001b[43m_where\u001b[49m\u001b[43m(\u001b[49m\u001b[43mcondition\u001b[49m\u001b[43m,\u001b[49m\u001b[43m \u001b[49m\u001b[43mx\u001b[49m\u001b[43m,\u001b[49m\u001b[43m \u001b[49m\u001b[43my\u001b[49m\u001b[43m)\u001b[49m\n",
      "    \u001b[31m[... skipping hidden 14 frame]\u001b[39m\n",
      "\u001b[36mFile \u001b[39m\u001b[32m/nas/cee-water/cjgleason/ted/swot-ml/.venv/lib/python3.11/site-packages/jax/_src/numpy/util.py:300\u001b[39m, in \u001b[36m_where\u001b[39m\u001b[34m(condition, x, y)\u001b[39m\n\u001b[32m    298\u001b[39m   x_arr, y_arr = _broadcast_arrays(x, y)\n\u001b[32m    299\u001b[39m \u001b[38;5;28;01melse\u001b[39;00m:\n\u001b[32m--> \u001b[39m\u001b[32m300\u001b[39m   condition, x_arr, y_arr = \u001b[43m_broadcast_arrays\u001b[49m\u001b[43m(\u001b[49m\u001b[43mcondition\u001b[49m\u001b[43m,\u001b[49m\u001b[43m \u001b[49m\u001b[43mx\u001b[49m\u001b[43m,\u001b[49m\u001b[43m \u001b[49m\u001b[43my\u001b[49m\u001b[43m)\u001b[49m\n\u001b[32m    301\u001b[39m \u001b[38;5;28;01mtry\u001b[39;00m:\n\u001b[32m    302\u001b[39m   is_always_empty = core.is_empty_shape(x_arr.shape)\n",
      "    \u001b[31m[... skipping hidden 14 frame]\u001b[39m\n",
      "\u001b[36mFile \u001b[39m\u001b[32m/nas/cee-water/cjgleason/ted/swot-ml/.venv/lib/python3.11/site-packages/jax/_src/numpy/util.py:254\u001b[39m, in \u001b[36m_broadcast_arrays\u001b[39m\u001b[34m(*args)\u001b[39m\n\u001b[32m    252\u001b[39m \u001b[38;5;28;01mif\u001b[39;00m \u001b[38;5;129;01mnot\u001b[39;00m shapes \u001b[38;5;129;01mor\u001b[39;00m \u001b[38;5;28mall\u001b[39m(core.definitely_equal_shape(shapes[\u001b[32m0\u001b[39m], s) \u001b[38;5;28;01mfor\u001b[39;00m s \u001b[38;5;129;01min\u001b[39;00m shapes):\n\u001b[32m    253\u001b[39m   \u001b[38;5;28;01mreturn\u001b[39;00m [lax.asarray(arg) \u001b[38;5;28;01mfor\u001b[39;00m arg \u001b[38;5;129;01min\u001b[39;00m args]\n\u001b[32m--> \u001b[39m\u001b[32m254\u001b[39m result_shape = \u001b[43mlax\u001b[49m\u001b[43m.\u001b[49m\u001b[43mbroadcast_shapes\u001b[49m\u001b[43m(\u001b[49m\u001b[43m*\u001b[49m\u001b[43mshapes\u001b[49m\u001b[43m)\u001b[49m\n\u001b[32m    255\u001b[39m result_sharding = lax.broadcast_shardings(*avals)\n\u001b[32m    256\u001b[39m \u001b[38;5;28;01mreturn\u001b[39;00m [_broadcast_to(arg, result_shape, result_sharding) \u001b[38;5;28;01mfor\u001b[39;00m arg \u001b[38;5;129;01min\u001b[39;00m args]\n",
      "    \u001b[31m[... skipping hidden 1 frame]\u001b[39m\n",
      "\u001b[36mFile \u001b[39m\u001b[32m/nas/cee-water/cjgleason/ted/swot-ml/.venv/lib/python3.11/site-packages/jax/_src/lax/lax.py:221\u001b[39m, in \u001b[36m_broadcast_shapes_uncached\u001b[39m\u001b[34m(*shapes)\u001b[39m\n\u001b[32m    218\u001b[39m   \u001b[38;5;28;01mreturn\u001b[39;00m _try_broadcast_shapes(*rank_promoted_shapes, name=\u001b[33m'\u001b[39m\u001b[33mbroadcast_shapes\u001b[39m\u001b[33m'\u001b[39m)\n\u001b[32m    219\u001b[39m \u001b[38;5;28;01mexcept\u001b[39;00m \u001b[38;5;167;01mTypeError\u001b[39;00m \u001b[38;5;28;01mas\u001b[39;00m err:\n\u001b[32m    220\u001b[39m   \u001b[38;5;66;03m# Raise ValueError here for backward compatibility.\u001b[39;00m\n\u001b[32m--> \u001b[39m\u001b[32m221\u001b[39m   \u001b[38;5;28;01mraise\u001b[39;00m \u001b[38;5;167;01mValueError\u001b[39;00m(\u001b[33mf\u001b[39m\u001b[33m\"\u001b[39m\u001b[33mIncompatible shapes for broadcasting: shapes=\u001b[39m\u001b[38;5;132;01m{\u001b[39;00m\u001b[38;5;28mlist\u001b[39m(shapes)\u001b[38;5;132;01m}\u001b[39;00m\u001b[33m\"\u001b[39m) \u001b[38;5;28;01mfrom\u001b[39;00m\u001b[38;5;250m \u001b[39m\u001b[34;01merr\u001b[39;00m\n",
      "\u001b[31mValueError\u001b[39m: Incompatible shapes for broadcasting: shapes=[(1962, 1), (1962, 16), (11, 16)]"
     ]
    }
   ],
   "source": [
    "from tqdm import tqdm\n",
    "\n",
    "target = 'discharge'\n",
    "m_steps = 10\n",
    "max_iter = 50\n",
    "\n",
    "\n",
    "# Set model to inference mode (no dropout)\n",
    "model = eqx.nn.inference_mode(model)\n",
    "\n",
    "targets = cfg.features.target\n",
    "target_idx = targets.index(target)\n",
    "\n",
    "baseline = jax.tree.map(jnp.zeros_like, batch)\n",
    "if 'graph' in baseline.keys():\n",
    "    baseline['graph'] = batch['graph']\n",
    "\n",
    "# Create an in_axes pytree that matches the batch structure.\n",
    "# Use `None` for static keys and `0` for keys to be batched over.\n",
    "# TODO: If we start training with mixes of different basins we will need to fix this.\n",
    "static_keys = [\"graph\"]\n",
    "data_axes_spec = {key: (None if key in static_keys else 0) for key in batch}\n",
    "# Vmap the single calculation over the batch\n",
    "batched_ig_fn = jax.vmap(\n",
    "    _calculate_ig_single,\n",
    "    in_axes=(None, data_axes_spec, data_axes_spec, None, None),\n",
    ")\n",
    "batch_ig_attribs_tree = batched_ig_fn(\n",
    "    model,\n",
    "    batch,\n",
    "    baseline,\n",
    "    target_idx,\n",
    "    m_steps,\n",
    ")"
   ]
  },
  {
   "cell_type": "code",
   "execution_count": null,
   "id": "8902fed3-421c-483e-b24d-c92354c878f8",
   "metadata": {},
   "outputs": [],
   "source": []
  },
  {
   "cell_type": "code",
   "execution_count": null,
   "id": "e83b0766-399a-4a22-8d6c-d3b08269fb74",
   "metadata": {},
   "outputs": [],
   "source": []
  },
  {
   "cell_type": "code",
   "execution_count": null,
   "id": "850c69d4-6b1f-480d-a44b-9c947de6e73c",
   "metadata": {},
   "outputs": [],
   "source": []
  },
  {
   "cell_type": "code",
   "execution_count": null,
   "id": "c9d1fcdc-67b1-46b2-b24c-c38540ac2d20",
   "metadata": {},
   "outputs": [],
   "source": []
  },
  {
   "cell_type": "code",
   "execution_count": null,
   "id": "a237e066-7b30-43f9-bec6-69cdb5a81a7f",
   "metadata": {},
   "outputs": [],
   "source": []
  },
  {
   "cell_type": "code",
   "execution_count": null,
   "id": "aadd3edf-e602-4630-91ff-9ff1719d87c1",
   "metadata": {},
   "outputs": [],
   "source": []
  },
  {
   "cell_type": "code",
   "execution_count": 11,
   "id": "d00ae884-cc4a-41ad-bce3-5c56688d513d",
   "metadata": {},
   "outputs": [
    {
     "data": {
      "text/plain": [
       "dict_keys(['dynamic', 'static', 'graph', 'y'])"
      ]
     },
     "execution_count": 11,
     "metadata": {},
     "output_type": "execute_result"
    }
   ],
   "source": [
    "batch.keys()"
   ]
  },
  {
   "cell_type": "code",
   "execution_count": 18,
   "id": "9d33ecb2-00ed-490f-9247-8d00a210fda9",
   "metadata": {},
   "outputs": [
    {
     "data": {
      "text/plain": [
       "({'dynamic': 0, 'static': 0, 'graph': None, 'y': 0}, 0)"
      ]
     },
     "execution_count": 18,
     "metadata": {},
     "output_type": "execute_result"
    }
   ],
   "source": [
    "static_keys = [\"graph\"]\n",
    "in_axes_data = {k: (None if k in static_keys else 0) for k in batch}\n",
    "in_axes_keys = 0\n",
    "(in_axes_data, in_axes_keys)"
   ]
  },
  {
   "cell_type": "code",
   "execution_count": 10,
   "id": "dc6e8377-22d7-45a3-a35a-5707021b6220",
   "metadata": {},
   "outputs": [
    {
     "name": "stdout",
     "output_type": "stream",
     "text": [
      "(90, 1962, 1)\n"
     ]
    }
   ],
   "source": [
    "import jax\n",
    "\n",
    "def test_fn(batch):\n",
    "    print(batch['y'].shape)\n",
    "\n",
    "static_keys = [\"graph\"]\n",
    "axes_spec = {key: (None if key in static_keys else 0) for key in batch}\n",
    "jax.vmap(test_fn, in_axes=(axes_spec,))(batch)"
   ]
  },
  {
   "cell_type": "code",
   "execution_count": 11,
   "id": "a58f51d5-89c8-4dac-9b8f-7281042a6900",
   "metadata": {},
   "outputs": [],
   "source": [
    "import jax\n",
    "import jax.numpy as jnp\n",
    "\n",
    "baseline = jax.tree.map(jnp.zeros_like, batch)\n",
    "if 'graph' in baseline.keys():\n",
    "    baseline['graph'] = batch['graph']\n",
    "\n"
   ]
  },
  {
   "cell_type": "code",
   "execution_count": 13,
   "id": "6da19eb8-ac2b-4249-a92f-7c83e7a856c0",
   "metadata": {},
   "outputs": [],
   "source": [
    "alphas = jnp.linspace(start=0.0, stop=1.0, num=10 + 1)\n",
    "\n",
    "# Interpolate inputs: Pytree leaves become shape (m_steps+1, *original_shape)\n",
    "interpolated_inputs = jax.vmap(\n",
    "    lambda alpha: jax.tree.map(\n",
    "        lambda x, b: b + alpha * (x - b),\n",
    "        batch,\n",
    "        baseline,\n",
    "    )\n",
    ")(alphas)"
   ]
  },
  {
   "cell_type": "code",
   "execution_count": 16,
   "id": "6b40e110-daf1-44f5-8d7f-22d8d71d9b54",
   "metadata": {},
   "outputs": [
    {
     "data": {
      "text/plain": [
       "(11, 16, 90, 1962, 1)"
      ]
     },
     "execution_count": 16,
     "metadata": {},
     "output_type": "execute_result"
    }
   ],
   "source": [
    "interpolated_inputs['y'].shape"
   ]
  },
  {
   "cell_type": "code",
   "execution_count": 14,
   "id": "f5078302-e857-4c38-9178-7ba94682d534",
   "metadata": {},
   "outputs": [
    {
     "data": {
      "text/plain": [
       "GraphData(edge_index=array([[   1,    2,    3, ..., 1959, 1960, 1961],\n",
       "       [   0,    0,    1, ..., 1957, 1959, 1959]], dtype=int32), edge_features=array([[-1.1752551],\n",
       "       [-1.1686114],\n",
       "       [-0.8497144],\n",
       "       ...,\n",
       "       [-0.5972544],\n",
       "       [-0.1454836],\n",
       "       [-0.1454836]], dtype=float32), node_features=array([[ 9.49360817,  8.59906121,  9.53725847, ..., 11.79588306,\n",
       "        -1.81860692, -1.91744996],\n",
       "       [ 9.48582837,  8.60398514,  9.53403527, ..., 11.79588306,\n",
       "        -1.81860692,  1.03641061],\n",
       "       [-0.30431284, -0.31547071, -0.30267431, ..., 11.79588306,\n",
       "        -1.81860692,  1.03641061],\n",
       "       ...,\n",
       "       [-0.29283699, -0.24314263, -0.2676474 , ..., -0.08477534,\n",
       "        -0.59581502, -0.73590573],\n",
       "       [-0.29952549, -0.28103475, -0.28692021, ..., -0.08477534,\n",
       "        -0.59581502, -0.73590573],\n",
       "       [-0.29998211, -0.29098784, -0.29161852, ..., -0.08477534,\n",
       "        -0.59581502, -0.73590573]]))"
      ]
     },
     "execution_count": 14,
     "metadata": {},
     "output_type": "execute_result"
    }
   ],
   "source": [
    "if 'graph' in baseline.keys():\n",
    "    baseline['graph'] = batch['graph']\n",
    "\n",
    "baseline['graph']"
   ]
  },
  {
   "cell_type": "code",
   "execution_count": 11,
   "id": "74ad2b03-38d1-42be-8529-236f33988da4",
   "metadata": {},
   "outputs": [],
   "source": []
  }
 ],
 "metadata": {
  "kernelspec": {
   "display_name": "swot-ml",
   "language": "python",
   "name": "swot-ml"
  },
  "language_info": {
   "codemirror_mode": {
    "name": "ipython",
    "version": 3
   },
   "file_extension": ".py",
   "mimetype": "text/x-python",
   "name": "python",
   "nbconvert_exporter": "python",
   "pygments_lexer": "ipython3",
   "version": "3.11.12"
  }
 },
 "nbformat": 4,
 "nbformat_minor": 5
}
