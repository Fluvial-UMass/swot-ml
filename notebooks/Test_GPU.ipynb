{
 "cells": [
  {
   "cell_type": "code",
   "execution_count": 3,
   "id": "5e2848a0-c19e-455e-9833-76b83b1c7a59",
   "metadata": {},
   "outputs": [
    {
     "name": "stdout",
     "output_type": "stream",
     "text": [
      "0.9720348011363636\n"
     ]
    }
   ],
   "source": [
    "import GPUtil\n",
    "import time\n",
    "from tqdm.auto import trange\n",
    "import matplotlib.pyplot as plt\n",
    "\n",
    "gpu = GPUtil.getGPUs()\n",
    "print(gpu[0].memoryUsed / gpu[0].memoryTotal)"
   ]
  }
 ],
 "metadata": {
  "kernelspec": {
   "display_name": "Python [conda env:.conda-tss-ml]",
   "language": "python",
   "name": "conda-env-.conda-tss-ml-py"
  },
  "language_info": {
   "codemirror_mode": {
    "name": "ipython",
    "version": 3
   },
   "file_extension": ".py",
   "mimetype": "text/x-python",
   "name": "python",
   "nbconvert_exporter": "python",
   "pygments_lexer": "ipython3",
   "version": "3.10.14"
  }
 },
 "nbformat": 4,
 "nbformat_minor": 5
}
