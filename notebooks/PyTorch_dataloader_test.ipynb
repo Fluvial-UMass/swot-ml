{
 "cells": [
  {
   "cell_type": "code",
   "execution_count": 1,
   "id": "587f032d-0ead-4e71-8330-4cc7c7b319c0",
   "metadata": {},
   "outputs": [],
   "source": [
    "import xarray as xr\n",
    "import pandas as pd\n",
    "import numpy as np\n",
    "\n",
    "# Define the parameters\n",
    "basins = ['A', 'B', 'C']\n",
    "dates = pd.date_range('2022-01-01', periods=10, freq='D')\n",
    "features = ['temp', 'precip', 'flow']\n",
    "\n",
    "# Create random data\n",
    "np.random.seed(0)\n",
    "data = np.random.rand(len(basins), len(dates), len(features))\n",
    "\n",
    "# Create the xarray Dataset\n",
    "x_d = xr.DataArray(data, \n",
    "                   coords={'basin': basins, 'date': dates, 'feature': features},\n",
    "                   dims=['basin', 'date', 'feature'])\n",
    "\n",
    "# To make it more realistic, let's add some static data for each basin\n",
    "static_features = ['elevation', 'area']\n",
    "static_data = np.random.rand(len(basins), len(static_features))\n",
    "\n",
    "x_s = xr.DataArray(static_data, \n",
    "                   coords={'basin': basins, 'static_feature': static_features},\n",
    "                   dims=['basin', 'static_feature'])\n",
    "\n",
    "print(x_d)\n",
    "print(x_s)"
   ]
  },
  {
   "cell_type": "code",
   "execution_count": 2,
   "id": "5be83639-e291-4b8d-86e3-c4012423fb85",
   "metadata": {},
   "outputs": [
    {
     "name": "stdout",
     "output_type": "stream",
     "text": [
      "<xarray.DataArray (sample: 2, time: 3, feature: 3)> Size: 144B\n",
      "array([[[0.5488135 , 0.71518937, 0.60276338],\n",
      "        [0.54488318, 0.4236548 , 0.64589411],\n",
      "        [0.43758721, 0.891773  , 0.96366276]],\n",
      "\n",
      "       [[0.09609841, 0.97645947, 0.4686512 ],\n",
      "        [0.97676109, 0.60484552, 0.73926358],\n",
      "        [0.03918779, 0.28280696, 0.12019656]]])\n",
      "Coordinates:\n",
      "    basin    (sample) <U1 8B 'A' 'C'\n",
      "    date     (sample, time) datetime64[ns] 48B 2022-01-01 ... 2022-01-06\n",
      "  * feature  (feature) <U6 72B 'temp' 'precip' 'flow'\n",
      "Dimensions without coordinates: sample, time\n"
     ]
    }
   ],
   "source": [
    "# Example indices\n",
    "indices = [0, 2]  # Corresponds to basins 'A' and 'C'\n",
    "selected_basins = basins[indices]\n",
    "selected_dates = [pd.date_range('2022-01-01', periods=3, freq='D'), pd.date_range('2022-01-04', periods=3, freq='D')]\n",
    "\n",
    "# Convert to xarray-friendly formats\n",
    "basins_da = xr.DataArray(selected_basins, dims=\"sample\")\n",
    "sequence_dates_da = xr.DataArray(selected_dates, dims=[\"sample\", \"time\"])\n",
    "\n",
    "# Fetch data\n",
    "selected_data = x_d.sel(basin=basins_da, date=sequence_dates_da)\n",
    "\n",
    "# Transpose to get the correct shape: [batch_size, seq_length, n_features]\n",
    "selected_data = selected_data.transpose(\"sample\", \"time\", \"feature\")\n",
    "\n",
    "print(selected_data)\n"
   ]
  },
  {
   "cell_type": "code",
   "execution_count": 8,
   "id": "0164fa92-2231-40fc-8899-23ebe8c6a7c9",
   "metadata": {},
   "outputs": [
    {
     "data": {
      "text/plain": [
       "array([[[0.5488135 , 0.71518937, 0.60276338],\n",
       "        [0.54488318, 0.4236548 , 0.64589411],\n",
       "        [0.43758721, 0.891773  , 0.96366276]],\n",
       "\n",
       "       [[0.09609841, 0.97645947, 0.4686512 ],\n",
       "        [0.97676109, 0.60484552, 0.73926358],\n",
       "        [0.03918779, 0.28280696, 0.12019656]]])"
      ]
     },
     "execution_count": 8,
     "metadata": {},
     "output_type": "execute_result"
    }
   ],
   "source": [
    "selected_data.data"
   ]
  },
  {
   "cell_type": "code",
   "execution_count": null,
   "id": "7a2e8624-425b-4490-8f20-17e979a9e7d4",
   "metadata": {},
   "outputs": [],
   "source": []
  },
  {
   "cell_type": "code",
   "execution_count": null,
   "id": "629aa1a3-53bf-4430-8413-c42c0e37d1ca",
   "metadata": {},
   "outputs": [],
   "source": []
  },
  {
   "cell_type": "code",
   "execution_count": null,
   "id": "28e07146-2282-4635-8f6f-4691fb9f38d0",
   "metadata": {},
   "outputs": [],
   "source": []
  },
  {
   "cell_type": "code",
   "execution_count": null,
   "id": "41ff5bc1-9a67-4222-8f14-5b5203ec146d",
   "metadata": {},
   "outputs": [],
   "source": []
  }
 ],
 "metadata": {
  "kernelspec": {
   "display_name": "Python [conda env:.conda-tss-ml]",
   "language": "python",
   "name": "conda-env-.conda-tss-ml-py"
  },
  "language_info": {
   "codemirror_mode": {
    "name": "ipython",
    "version": 3
   },
   "file_extension": ".py",
   "mimetype": "text/x-python",
   "name": "python",
   "nbconvert_exporter": "python",
   "pygments_lexer": "ipython3",
   "version": "3.10.14"
  }
 },
 "nbformat": 4,
 "nbformat_minor": 5
}
