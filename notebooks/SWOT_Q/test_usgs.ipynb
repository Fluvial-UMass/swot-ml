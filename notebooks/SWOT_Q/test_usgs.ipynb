{
 "cells": [
  {
   "cell_type": "code",
   "execution_count": 1,
   "id": "1bf5b20f-830c-40e3-bca8-7f3b9546f9ec",
   "metadata": {},
   "outputs": [],
   "source": [
    "import dataretrieval.nwis as nwis"
   ]
  },
  {
   "cell_type": "code",
   "execution_count": 9,
   "id": "d047ae97-e1b9-4a99-bf6b-dd6f7f8600be",
   "metadata": {},
   "outputs": [
    {
     "data": {
      "text/html": [
       "<div>\n",
       "<style scoped>\n",
       "    .dataframe tbody tr th:only-of-type {\n",
       "        vertical-align: middle;\n",
       "    }\n",
       "\n",
       "    .dataframe tbody tr th {\n",
       "        vertical-align: top;\n",
       "    }\n",
       "\n",
       "    .dataframe thead th {\n",
       "        text-align: right;\n",
       "    }\n",
       "</style>\n",
       "<table border=\"1\" class=\"dataframe\">\n",
       "  <thead>\n",
       "    <tr style=\"text-align: right;\">\n",
       "      <th></th>\n",
       "      <th>site_no</th>\n",
       "      <th>00060_Mean</th>\n",
       "      <th>00060_Mean_cd</th>\n",
       "      <th>00065_Mean</th>\n",
       "      <th>00065_Mean_cd</th>\n",
       "    </tr>\n",
       "    <tr>\n",
       "      <th>datetime</th>\n",
       "      <th></th>\n",
       "      <th></th>\n",
       "      <th></th>\n",
       "      <th></th>\n",
       "      <th></th>\n",
       "    </tr>\n",
       "  </thead>\n",
       "  <tbody>\n",
       "    <tr>\n",
       "      <th>2017-12-31 00:00:00+00:00</th>\n",
       "      <td>03339000</td>\n",
       "      <td>137.0</td>\n",
       "      <td>A, e</td>\n",
       "      <td>2.52</td>\n",
       "      <td>A</td>\n",
       "    </tr>\n",
       "    <tr>\n",
       "      <th>2018-01-01 00:00:00+00:00</th>\n",
       "      <td>03339000</td>\n",
       "      <td>142.0</td>\n",
       "      <td>A, e</td>\n",
       "      <td>2.77</td>\n",
       "      <td>A</td>\n",
       "    </tr>\n",
       "    <tr>\n",
       "      <th>2018-01-02 00:00:00+00:00</th>\n",
       "      <td>03339000</td>\n",
       "      <td>156.0</td>\n",
       "      <td>A, e</td>\n",
       "      <td>2.73</td>\n",
       "      <td>A</td>\n",
       "    </tr>\n",
       "    <tr>\n",
       "      <th>2018-01-03 00:00:00+00:00</th>\n",
       "      <td>03339000</td>\n",
       "      <td>173.0</td>\n",
       "      <td>A, e</td>\n",
       "      <td>2.71</td>\n",
       "      <td>A</td>\n",
       "    </tr>\n",
       "    <tr>\n",
       "      <th>2018-01-04 00:00:00+00:00</th>\n",
       "      <td>03339000</td>\n",
       "      <td>180.0</td>\n",
       "      <td>A, e</td>\n",
       "      <td>2.74</td>\n",
       "      <td>A</td>\n",
       "    </tr>\n",
       "    <tr>\n",
       "      <th>...</th>\n",
       "      <td>...</td>\n",
       "      <td>...</td>\n",
       "      <td>...</td>\n",
       "      <td>...</td>\n",
       "      <td>...</td>\n",
       "    </tr>\n",
       "    <tr>\n",
       "      <th>2024-06-20 00:00:00+00:00</th>\n",
       "      <td>03339000</td>\n",
       "      <td>571.0</td>\n",
       "      <td>P</td>\n",
       "      <td>3.59</td>\n",
       "      <td>P</td>\n",
       "    </tr>\n",
       "    <tr>\n",
       "      <th>2024-06-21 00:00:00+00:00</th>\n",
       "      <td>03339000</td>\n",
       "      <td>539.0</td>\n",
       "      <td>P</td>\n",
       "      <td>3.52</td>\n",
       "      <td>P</td>\n",
       "    </tr>\n",
       "    <tr>\n",
       "      <th>2024-06-22 00:00:00+00:00</th>\n",
       "      <td>03339000</td>\n",
       "      <td>470.0</td>\n",
       "      <td>P</td>\n",
       "      <td>3.36</td>\n",
       "      <td>P</td>\n",
       "    </tr>\n",
       "    <tr>\n",
       "      <th>2024-06-23 00:00:00+00:00</th>\n",
       "      <td>03339000</td>\n",
       "      <td>473.0</td>\n",
       "      <td>P</td>\n",
       "      <td>3.37</td>\n",
       "      <td>P</td>\n",
       "    </tr>\n",
       "    <tr>\n",
       "      <th>2024-06-24 00:00:00+00:00</th>\n",
       "      <td>03339000</td>\n",
       "      <td>460.0</td>\n",
       "      <td>P</td>\n",
       "      <td>3.34</td>\n",
       "      <td>P</td>\n",
       "    </tr>\n",
       "  </tbody>\n",
       "</table>\n",
       "<p>2368 rows × 5 columns</p>\n",
       "</div>"
      ],
      "text/plain": [
       "                            site_no  00060_Mean 00060_Mean_cd  00065_Mean  \\\n",
       "datetime                                                                    \n",
       "2017-12-31 00:00:00+00:00  03339000       137.0          A, e        2.52   \n",
       "2018-01-01 00:00:00+00:00  03339000       142.0          A, e        2.77   \n",
       "2018-01-02 00:00:00+00:00  03339000       156.0          A, e        2.73   \n",
       "2018-01-03 00:00:00+00:00  03339000       173.0          A, e        2.71   \n",
       "2018-01-04 00:00:00+00:00  03339000       180.0          A, e        2.74   \n",
       "...                             ...         ...           ...         ...   \n",
       "2024-06-20 00:00:00+00:00  03339000       571.0             P        3.59   \n",
       "2024-06-21 00:00:00+00:00  03339000       539.0             P        3.52   \n",
       "2024-06-22 00:00:00+00:00  03339000       470.0             P        3.36   \n",
       "2024-06-23 00:00:00+00:00  03339000       473.0             P        3.37   \n",
       "2024-06-24 00:00:00+00:00  03339000       460.0             P        3.34   \n",
       "\n",
       "                          00065_Mean_cd  \n",
       "datetime                                 \n",
       "2017-12-31 00:00:00+00:00             A  \n",
       "2018-01-01 00:00:00+00:00             A  \n",
       "2018-01-02 00:00:00+00:00             A  \n",
       "2018-01-03 00:00:00+00:00             A  \n",
       "2018-01-04 00:00:00+00:00             A  \n",
       "...                                 ...  \n",
       "2024-06-20 00:00:00+00:00             P  \n",
       "2024-06-21 00:00:00+00:00             P  \n",
       "2024-06-22 00:00:00+00:00             P  \n",
       "2024-06-23 00:00:00+00:00             P  \n",
       "2024-06-24 00:00:00+00:00             P  \n",
       "\n",
       "[2368 rows x 5 columns]"
      ]
     },
     "execution_count": 9,
     "metadata": {},
     "output_type": "execute_result"
    }
   ],
   "source": [
    "gage = nwis.get_record(sites='03339000', service='dv', start='2017-12-31', parameterCd=['00060','00065'])\n",
    "gage"
   ]
  },
  {
   "cell_type": "code",
   "execution_count": 13,
   "id": "94a991a7-20bb-46e5-9785-c29384928427",
   "metadata": {},
   "outputs": [
    {
     "data": {
      "text/plain": [
       "[<matplotlib.lines.Line2D at 0x7f9f953de620>]"
      ]
     },
     "execution_count": 13,
     "metadata": {},
     "output_type": "execute_result"
    },
    {
     "data": {
      "image/png": "[encoded data removed]",
      "text/plain": [
       "<Figure size 640x480 with 1 Axes>"
      ]
     },
     "metadata": {},
     "output_type": "display_data"
    }
   ],
   "source": [
    "import matplotlib.pyplot as plt\n",
    "plt.plot(gage['00060_Mean'])"
   ]
  }
 ],
 "metadata": {
  "kernelspec": {
   "display_name": "Python [conda env:.conda-tss-ml]",
   "language": "python",
   "name": "conda-env-.conda-tss-ml-py"
  },
  "language_info": {
   "codemirror_mode": {
    "name": "ipython",
    "version": 3
   },
   "file_extension": ".py",
   "mimetype": "text/x-python",
   "name": "python",
   "nbconvert_exporter": "python",
   "pygments_lexer": "ipython3",
   "version": "3.10.14"
  }
 },
 "nbformat": 4,
 "nbformat_minor": 5
}
