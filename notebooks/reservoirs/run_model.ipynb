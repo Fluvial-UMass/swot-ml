{
 "cells": [
  {
   "cell_type": "code",
   "execution_count": 1,
   "id": "ec7f3b20-c939-47af-b8e3-a90c27e17996",
   "metadata": {},
   "outputs": [],
   "source": [
    "import os\n",
    "os.environ['JAX_PLATFORMS'] = 'cpu'\n",
    "\n",
    "# This is required to run multiple processes with JAX.\n",
    "from multiprocessing import set_start_method\n",
    "set_start_method('spawn', force=True)"
   ]
  },
  {
   "cell_type": "code",
   "execution_count": 2,
   "id": "d57f684e-e5b4-4f47-a612-6fc700313fd9",
   "metadata": {},
   "outputs": [],
   "source": [
    "import sys\n",
    "import numpy as np\n",
    "import pandas as pd\n",
    "import matplotlib.pyplot as plt\n",
    "import jax\n",
    "import jax.numpy as jnp\n",
    "from tqdm import tqdm\n",
    "from pathlib import Path\n",
    "\n",
    "# jax.config.update(\"jax_debug_nans\", True)\n",
    "\n",
    "from config import Config"
   ]
  },
  {
   "cell_type": "code",
   "execution_count": null,
   "id": "c824aac6-9cdc-4a31-bcde-19106ec2c1b1",
   "metadata": {},
   "outputs": [],
   "source": [
    "cfg = Config.from_file(\"/nas/cee-water/cjgleason/ted/swot-ml/runs/reservoirs/e5.yml\")"
   ]
  },
  {
   "cell_type": "code",
   "execution_count": 5,
   "id": "c709a172-baa4-456d-bd64-f1852679f3e9",
   "metadata": {},
   "outputs": [
    {
     "name": "stdout",
     "output_type": "stream",
     "text": [
      "Loading graph network file\n",
      "Loading static attributes\n",
      "Loading dynamic data\n",
      "Data Hash: 6b4776391d600d71baf58187379f9cff82407f551d2911e96118668dd32b43df\n",
      "No matching cached dataset.\n"
     ]
    },
    {
     "name": "stderr",
     "output_type": "stream",
     "text": [
      "Loading Basins: 100%|██████████| 1962/1962 [30:53<00:00,  1.06it/s]\n"
     ]
    },
    {
     "name": "stdout",
     "output_type": "stream",
     "text": [
      "Dataloader using 1 parallel CPU worker(s).\n",
      "Batch sharding set to 1 cpu(s)\n"
     ]
    }
   ],
   "source": [
    "import data\n",
    "cfg.log = False\n",
    "cfg.quiet = False\n",
    "cfg.num_epochs = 2\n",
    "dataset = data.HydroDataset(cfg)\n",
    "dataloader = data.HydroDataLoader(cfg, dataset)"
   ]
  },
  {
   "cell_type": "code",
   "execution_count": 5,
   "id": "63464f8d-5681-47aa-aea2-ee41991c88c9",
   "metadata": {},
   "outputs": [
    {
     "name": "stdout",
     "output_type": "stream",
     "text": [
      "Model contains 29,565 parameters, using 115.49KB memory.\n"
     ]
    },
    {
     "name": "stderr",
     "output_type": "stream",
     "text": [
      "Epoch:001: 100%|██████████| 108/108 [08:27<00:00,  4.70s/it, Loss:0.5774]"
     ]
    },
    {
     "name": "stdout",
     "output_type": "stream",
     "text": [
      "2025-08-18 20:07:52,326 - INFO - Epoch: 1, Loss: 0.6132\n"
     ]
    },
    {
     "name": "stderr",
     "output_type": "stream",
     "text": [
      "\n",
      "Validating Epoch:001: 100%|██████████| 108/108 [09:57<00:00,  5.53s/it]"
     ]
    },
    {
     "name": "stdout",
     "output_type": "stream",
     "text": [
      "2025-08-18 20:17:49,841 - INFO - Epoch: 1, Validation Loss: 0.1815\n",
      "2025-08-18 20:17:49,842 - INFO - EarlyStopper: Patience reset. New best loss 0.1815. Improvement was 0.00%.\n"
     ]
    },
    {
     "name": "stderr",
     "output_type": "stream",
     "text": [
      "\n",
      "Epoch:002: 100%|██████████| 108/108 [07:32<00:00,  4.19s/it, Loss:0.5770]"
     ]
    },
    {
     "name": "stdout",
     "output_type": "stream",
     "text": [
      "2025-08-18 20:25:22,316 - INFO - Epoch: 2, Loss: 0.6032\n"
     ]
    },
    {
     "name": "stderr",
     "output_type": "stream",
     "text": [
      "\n",
      "Validating Epoch:002: 100%|██████████| 108/108 [09:17<00:00,  5.16s/it]"
     ]
    },
    {
     "name": "stdout",
     "output_type": "stream",
     "text": [
      "2025-08-18 20:34:39,947 - INFO - Epoch: 2, Validation Loss: 0.1812\n",
      "2025-08-18 20:34:39,949 - INFO - EarlyStopper: Patience 1/5. Improvement was 0.14%.\n",
      "2025-08-18 20:34:39,950 - INFO - ~~~ training done ~~~\n"
     ]
    },
    {
     "name": "stderr",
     "output_type": "stream",
     "text": [
      "\n"
     ]
    }
   ],
   "source": [
    "import train\n",
    "trainer = train.Trainer(cfg, dataloader)\n",
    "trainer.start_training()"
   ]
  },
  {
   "cell_type": "code",
   "execution_count": null,
   "id": "23eac86e-d27a-4f25-ac62-d2f99e3a80eb",
   "metadata": {},
   "outputs": [],
   "source": []
  },
  {
   "cell_type": "code",
   "execution_count": null,
   "id": "8a554486-cff4-4afa-8ef4-59fe6ec2ffeb",
   "metadata": {},
   "outputs": [],
   "source": []
  },
  {
   "cell_type": "code",
   "execution_count": null,
   "id": "cf5c9163-8ae8-4a4e-b4b9-688c64d18740",
   "metadata": {},
   "outputs": [],
   "source": []
  },
  {
   "cell_type": "code",
   "execution_count": 14,
   "id": "11b799c6-ecc6-4281-86dd-0760eb20246c",
   "metadata": {},
   "outputs": [
    {
     "data": {
      "text/plain": [
       "(16, 30, 1962, 1)"
      ]
     },
     "execution_count": 14,
     "metadata": {},
     "output_type": "execute_result"
    }
   ],
   "source": [
    "for basin, date, batch in dataloader:\n",
    "    break\n",
    "batch['y'].shape"
   ]
  },
  {
   "cell_type": "code",
   "execution_count": 20,
   "id": "5d1e58d9-60fe-4301-80e8-7dbb9a31ba25",
   "metadata": {},
   "outputs": [
    {
     "data": {
      "text/plain": [
       "(16, 30, 1962, 1)"
      ]
     },
     "execution_count": 20,
     "metadata": {},
     "output_type": "execute_result"
    }
   ],
   "source": [
    "batch['y'].shape"
   ]
  },
  {
   "cell_type": "code",
   "execution_count": 21,
   "id": "9b683e33-5b7a-47d1-b0a6-a38220835ab7",
   "metadata": {},
   "outputs": [],
   "source": [
    "import equinox as eqx\n",
    "\n",
    "data = batch\n",
    "keys = jax.random.split(jax.random.PRNGKey(0), cfg.batch_size)\n",
    "\n",
    "static_keys = [\"graph\"]\n",
    "in_axes_data = {k: (None if k in static_keys and k in data else 0) for k in data}\n",
    "in_axes_keys = 0\n",
    "y_pred = jax.vmap(trainer.model, in_axes=(in_axes_data, in_axes_keys))(data, keys)"
   ]
  },
  {
   "cell_type": "code",
   "execution_count": 26,
   "id": "f8e7462e-3bc8-4a4b-b932-c0961e0eba35",
   "metadata": {},
   "outputs": [
    {
     "data": {
      "text/plain": [
       "(16, 30, 1962)"
      ]
     },
     "execution_count": 26,
     "metadata": {},
     "output_type": "execute_result"
    }
   ],
   "source": [
    "y_pred = y_pred[...,-1]    \n",
    "y_pred.shape"
   ]
  },
  {
   "cell_type": "code",
   "execution_count": 25,
   "id": "59c5b9b8-3f89-4869-9255-e3ecf86aabae",
   "metadata": {},
   "outputs": [
    {
     "data": {
      "text/plain": [
       "(16, 30, 1962)"
      ]
     },
     "execution_count": 25,
     "metadata": {},
     "output_type": "execute_result"
    }
   ],
   "source": [
    "y = batch['y'][...,-1]\n",
    "y.shape"
   ]
  },
  {
   "cell_type": "code",
   "execution_count": 31,
   "id": "7e656582-46a7-450e-b0d7-71872c59145f",
   "metadata": {},
   "outputs": [],
   "source": [
    "mask = ~jnp.isnan(y)\n",
    "masked_y = jnp.where(mask, y, 0)\n",
    "masked_y_pred = jnp.where(mask, y_pred, 0)"
   ]
  },
  {
   "cell_type": "code",
   "execution_count": 52,
   "id": "bbdc7f7a-2341-4601-9abf-0a2ae4cb80e4",
   "metadata": {},
   "outputs": [
    {
     "data": {
      "text/plain": [
       "Array([[ 0.      ,  0.      ,  0.      , ..., 76.15781 ,  0.      ,\n",
       "         0.      ],\n",
       "       [ 0.      ,  0.      ,  0.      , ..., 50.950108,  0.      ,\n",
       "         0.      ],\n",
       "       [ 0.      ,  0.      ,  0.      , ..., 26.99347 ,  0.      ,\n",
       "         0.      ],\n",
       "       ...,\n",
       "       [ 0.      ,  0.      ,  0.      , ..., 48.004665,  0.      ,\n",
       "         0.      ],\n",
       "       [ 0.      ,  0.      ,  0.      , ..., 23.192217,  0.      ,\n",
       "         0.      ],\n",
       "       [ 0.      ,  0.      ,  0.      , ..., 30.40829 ,  0.      ,\n",
       "         0.      ]], dtype=float32)"
      ]
     },
     "execution_count": 52,
     "metadata": {},
     "output_type": "execute_result"
    }
   ],
   "source": []
  },
  {
   "cell_type": "code",
   "execution_count": 70,
   "id": "04f55d15-0cf3-4d4c-a534-06670f13fc7b",
   "metadata": {},
   "outputs": [
    {
     "data": {
      "text/plain": [
       "Array(41.677998, dtype=float32)"
      ]
     },
     "execution_count": 70,
     "metadata": {},
     "output_type": "execute_result"
    }
   ],
   "source": [
    "seq_len = masked_y.shape[1]\n",
    "weights = jax.nn.sigmoid(jnp.linspace(-10, 10, seq_len))\n",
    "\n",
    "sq_error = jnp.square(masked_y - masked_y_pred) * mask * weights[None, :, None]\n",
    "std_y = jnp.std(masked_y, axis=1, where=mask.astype(bool))  # Per-basin standard deviation\n",
    "se_sum = jnp.sum(sq_error, axis=1)  # Sum of squared errors per basin\n",
    "denom = jnp.square(jnp.nan_to_num(std_y) + 0.1)  # Denominator with epsilon for stability\n",
    "\n",
    "jnp.mean(se_sum / denom)"
   ]
  },
  {
   "cell_type": "code",
   "execution_count": 72,
   "id": "d950ab9a-0dc9-4dc1-9de2-b91dbaee24c4",
   "metadata": {},
   "outputs": [
    {
     "data": {
      "text/plain": [
       "False"
      ]
     },
     "execution_count": 72,
     "metadata": {},
     "output_type": "execute_result"
    }
   ],
   "source": [
    "\"test\" in [\"test1\", \"test2\"]"
   ]
  },
  {
   "cell_type": "code",
   "execution_count": 64,
   "id": "d9a76472-16f6-4ed5-92dc-61b80f383064",
   "metadata": {},
   "outputs": [
    {
     "data": {
      "text/plain": [
       "Array([[0.        , 0.        , 0.        , ..., 0.47595596, 0.        ,\n",
       "        0.        ],\n",
       "       [0.        , 0.        , 0.        , ..., 0.38656533, 0.        ,\n",
       "        0.        ],\n",
       "       [0.        , 0.        , 0.        , ..., 0.54881686, 0.        ,\n",
       "        0.        ],\n",
       "       ...,\n",
       "       [0.        , 0.        , 0.        , ..., 0.366854  , 0.        ,\n",
       "        0.        ],\n",
       "       [0.        , 0.        , 0.        , ..., 0.6478458 , 0.        ,\n",
       "        0.        ],\n",
       "       [0.        , 0.        , 0.        , ..., 0.49915627, 0.        ,\n",
       "        0.        ]], dtype=float32)"
      ]
     },
     "execution_count": 64,
     "metadata": {},
     "output_type": "execute_result"
    }
   ],
   "source": [
    "jnp.nan_to_num(std_y)"
   ]
  },
  {
   "cell_type": "code",
   "execution_count": null,
   "id": "7c17313d-4814-4c9f-8bfa-ebfa719669ff",
   "metadata": {},
   "outputs": [],
   "source": [
    "import geopandas as gpd\n",
    "proj_dir = Path(\"/nas/cee-water/cjgleason/ted/swot-ml/data/distributed\")\n",
    "metadata_dir = proj_dir / \"metadata\"\n",
    "basins = gpd.read_file(metadata_dir / 'matchups.geojson').set_index(\"HYBAS_ID\")\n",
    "basins.index = basins.index.astype(str)\n",
    "basins"
   ]
  },
  {
   "cell_type": "code",
   "execution_count": null,
   "id": "c0b8b163-67fa-4f5a-8245-6d498396162f",
   "metadata": {},
   "outputs": [],
   "source": [
    "import evaluate\n",
    "pred = evaluate.predict(trainer.model, dataloader, denormalize=False)"
   ]
  },
  {
   "cell_type": "code",
   "execution_count": null,
   "id": "547b3b7a-56d6-455c-bd06-6f78ff7db3b8",
   "metadata": {},
   "outputs": [],
   "source": [
    "pred"
   ]
  },
  {
   "cell_type": "code",
   "execution_count": null,
   "id": "db6652aa-fbdd-43d9-847b-8be56ed6ab03",
   "metadata": {},
   "outputs": [],
   "source": [
    "x = pred.xs('2021-02-08', level='date')\n",
    "\n",
    "\n",
    "x['pred']['discharge']"
   ]
  },
  {
   "cell_type": "code",
   "execution_count": null,
   "id": "5213e45b-2a20-4731-bdc2-d897ff524cd3",
   "metadata": {},
   "outputs": [],
   "source": [
    "x['pred']['discharge'].hist()"
   ]
  },
  {
   "cell_type": "code",
   "execution_count": null,
   "id": "6a9a3e33-e2dd-43da-aa37-47a9c2b072cf",
   "metadata": {},
   "outputs": [],
   "source": [
    "basins_pred = basins.merge(x['pred']['discharge'], left_index=True, right_index=True)\n",
    "basins_pred.plot('discharge')"
   ]
  },
  {
   "cell_type": "code",
   "execution_count": null,
   "id": "0a4d1311-4b5f-4e5a-a8f3-9da086c8d47e",
   "metadata": {},
   "outputs": [],
   "source": [
    "plt.scatter(x['obs']['discharge'], x['pred']['discharge'])\n",
    "# plt.plot([0,500], [0,500], 'r--')"
   ]
  },
  {
   "cell_type": "code",
   "execution_count": null,
   "id": "970e9b0a-5238-4c94-ae85-5ba8d33d78b2",
   "metadata": {},
   "outputs": [],
   "source": []
  }
 ],
 "metadata": {
  "kernelspec": {
   "display_name": "swot-ml",
   "language": "python",
   "name": "swot-ml"
  },
  "language_info": {
   "codemirror_mode": {
    "name": "ipython",
    "version": 3
   },
   "file_extension": ".py",
   "mimetype": "text/x-python",
   "name": "python",
   "nbconvert_exporter": "python",
   "pygments_lexer": "ipython3",
   "version": "3.11.12"
  }
 },
 "nbformat": 4,
 "nbformat_minor": 5
}
