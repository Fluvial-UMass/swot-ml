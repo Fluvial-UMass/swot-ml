{
 "cells": [
  {
   "cell_type": "raw",
   "id": "d6fd14a5-8fc1-4268-bedc-6ba1f678bf5e",
   "metadata": {
    "tags": []
   },
   "source": [
    "from pathlib import Path\n",
    "from netCDF4 import Dataset\n",
    "\n",
    "\n",
    "# Open the NetCDF file\n",
    "file_path = Path('/work/pi_kandread_umass_edu/tss-ml/data/NA_WQP/time_series/USGS-01015000.nc')\n",
    "dataset = Dataset(file_path, 'r')\n",
    "\n",
    "# Print all available variables\n",
    "print(\"Available variables in the NetCDF file:\")\n",
    "for var_name in dataset.variables.keys():\n",
    "    print(var_name)\n",
    "\n",
    "# # Close the dataset\n",
    "# dataset.close()"
   ]
  },
  {
   "cell_type": "code",
   "execution_count": null,
   "id": "d6896bf3-c906-4666-a989-86d65caf7a07",
   "metadata": {},
   "outputs": [],
   "source": [
    "# This is required to run multiple processes on Unity for some reason.\n",
    "from multiprocessing import set_start_method\n",
    "try:\n",
    "    set_start_method('spawn')\n",
    "except: #Throws if already set\n",
    "    pass\n",
    "\n",
    "# Disable CUDA graphs\n",
    "import os\n",
    "os.environ['XLA_FLAGS'] = '--xla_gpu_enable_command_buffer='"
   ]
  },
  {
   "cell_type": "code",
   "execution_count": null,
   "id": "4f9dee3e-38f2-4425-a709-0d216b941d66",
   "metadata": {},
   "outputs": [],
   "source": [
    "%matplotlib widget\n",
    "import sys\n",
    "import pandas as pd\n",
    "import numpy as np\n",
    "import matplotlib.pyplot as plt\n",
    "import jax\n",
    "import pickle\n",
    "from pathlib import Path\n",
    "from importlib import reload\n",
    "\n",
    "src = str(Path('../src').resolve())\n",
    "if src not in sys.path:\n",
    "    sys.path.append(src)\n",
    "\n",
    "from train import load_last_state\n",
    "from data import TAPDataset, TAPDataLoader\n",
    "from evaluate import *"
   ]
  },
  {
   "cell_type": "code",
   "execution_count": null,
   "id": "cd672693-9d15-4349-b8be-17cc150e044c",
   "metadata": {},
   "outputs": [
    {
     "ename": "NotADirectoryError",
     "evalue": "[Errno 20] Not a directory: '../runs/fusion/6_head_6_layer.yml'",
     "output_type": "error",
     "traceback": [
      "\u001b[0;31m---------------------------------------------------------------------------\u001b[0m",
      "\u001b[0;31mNotADirectoryError\u001b[0m                        Traceback (most recent call last)",
      "Cell \u001b[0;32mIn[3], line 6\u001b[0m\n\u001b[1;32m      3\u001b[0m \u001b[38;5;28;01mfrom\u001b[39;00m \u001b[38;5;21;01mdata\u001b[39;00m \u001b[38;5;28;01mimport\u001b[39;00m TAPDataset, TAPDataLoader\n\u001b[1;32m      5\u001b[0m run_dir \u001b[38;5;241m=\u001b[39m Path(\u001b[38;5;124m\"\u001b[39m\u001b[38;5;124m../runs/fusion/6_head_6_layer.yml\u001b[39m\u001b[38;5;124m\"\u001b[39m)\n\u001b[0;32m----> 6\u001b[0m cfg, model, trainer_state, opt_state, _ \u001b[38;5;241m=\u001b[39m \u001b[43mload_last_state\u001b[49m\u001b[43m(\u001b[49m\u001b[43mrun_dir\u001b[49m\u001b[43m)\u001b[49m\n\u001b[1;32m      7\u001b[0m cfg[\u001b[38;5;124m'\u001b[39m\u001b[38;5;124mquiet\u001b[39m\u001b[38;5;124m'\u001b[39m] \u001b[38;5;241m=\u001b[39m \u001b[38;5;28;01mFalse\u001b[39;00m\n\u001b[1;32m      9\u001b[0m fig_dir \u001b[38;5;241m=\u001b[39m run_dir \u001b[38;5;241m/\u001b[39m \u001b[38;5;124m\"\u001b[39m\u001b[38;5;124mfigures\u001b[39m\u001b[38;5;124m\"\u001b[39m\n",
      "File \u001b[0;32m/work/pi_kandread_umass_edu/tss-ml/src/train/trainer.py:325\u001b[0m, in \u001b[0;36mload_last_state\u001b[0;34m(log_dir)\u001b[0m\n\u001b[1;32m    324\u001b[0m \u001b[38;5;28;01mdef\u001b[39;00m \u001b[38;5;21mload_last_state\u001b[39m(log_dir):\n\u001b[0;32m--> 325\u001b[0m     save_dir \u001b[38;5;241m=\u001b[39m \u001b[43m_last_epoch_dir\u001b[49m\u001b[43m(\u001b[49m\u001b[43mlog_dir\u001b[49m\u001b[43m)\u001b[49m\n\u001b[1;32m    326\u001b[0m     \u001b[38;5;28;01mreturn\u001b[39;00m load_state(save_dir)\n",
      "File \u001b[0;32m/work/pi_kandread_umass_edu/tss-ml/src/train/trainer.py:317\u001b[0m, in \u001b[0;36m_last_epoch_dir\u001b[0;34m(log_dir)\u001b[0m\n\u001b[1;32m    315\u001b[0m \u001b[38;5;28;01mdef\u001b[39;00m \u001b[38;5;21m_last_epoch_dir\u001b[39m(log_dir):\n\u001b[1;32m    316\u001b[0m     epoch_regex \u001b[38;5;241m=\u001b[39m re\u001b[38;5;241m.\u001b[39mcompile(\u001b[38;5;124mr\u001b[39m\u001b[38;5;124m\"\u001b[39m\u001b[38;5;124mepoch(\u001b[39m\u001b[38;5;124m\\\u001b[39m\u001b[38;5;124md+)\u001b[39m\u001b[38;5;124m\"\u001b[39m)\n\u001b[0;32m--> 317\u001b[0m     dirs \u001b[38;5;241m=\u001b[39m \u001b[43mos\u001b[49m\u001b[38;5;241;43m.\u001b[39;49m\u001b[43mlistdir\u001b[49m\u001b[43m(\u001b[49m\u001b[43mlog_dir\u001b[49m\u001b[43m)\u001b[49m\n\u001b[1;32m    318\u001b[0m     matches \u001b[38;5;241m=\u001b[39m [epoch_regex\u001b[38;5;241m.\u001b[39mmatch(d) \u001b[38;5;28;01mfor\u001b[39;00m d \u001b[38;5;129;01min\u001b[39;00m dirs]\n\u001b[1;32m    319\u001b[0m     epoch_strs \u001b[38;5;241m=\u001b[39m [m\u001b[38;5;241m.\u001b[39mgroup(\u001b[38;5;241m1\u001b[39m) \u001b[38;5;28;01mfor\u001b[39;00m m \u001b[38;5;129;01min\u001b[39;00m matches \u001b[38;5;28;01mif\u001b[39;00m \u001b[38;5;28misinstance\u001b[39m(m, re\u001b[38;5;241m.\u001b[39mMatch)]\n",
      "\u001b[0;31mNotADirectoryError\u001b[0m: [Errno 20] Not a directory: '../runs/fusion/6_head_6_layer.yml'"
     ]
    }
   ],
   "source": [
    "import data\n",
    "reload(data)\n",
    "from data import TAPDataset, TAPDataLoader\n",
    "\n",
    "run_dir = Path(\"../runs/hybrid_multitarget_0.5d_064_030/6_head_6_layer_all_sat_all_target_20240620_150312/flux_finetune_20240626_131838\")\n",
    "cfg, model, trainer_state, opt_state, _ = load_last_state(run_dir)\n",
    "cfg['quiet'] = False\n",
    "\n",
    "fig_dir = run_dir / \"figures\"\n",
    "fig_dir.mkdir(exist_ok=True)\n",
    "\n",
    "ts_dir = fig_dir / \"timeseries\"\n",
    "ts_dir.mkdir(exist_ok=True)\n",
    "    \n",
    "dataset = TAPDataset(cfg)\n"
   ]
  },
  {
   "cell_type": "code",
   "execution_count": null,
   "id": "c231e872-c9b8-4b97-b626-d56b7a1142bf",
   "metadata": {},
   "outputs": [],
   "source": [
    "cfg['data_subset'] = 'test'\n",
    "cfg['num_workers'] = 1\n",
    "cfg['basin_subset'] = None\n",
    "cfg['batch_size'] = 1048\n",
    "dataloader = TAPDataLoader(cfg, dataset)\n",
    "\n",
    "results = predict(model, dataloader, seed=0, denormalize=True, return_dt=True)\n",
    "bulk_metrics = get_all_metrics(results, False)\n",
    "basin_metrics = get_basin_metrics(results, True)\n",
    "\n",
    "with open(run_dir / f\"{cfg['data_subset']}_data.pkl\", 'wb') as f:\n",
    "    pickle.dump((results, bulk_metrics, basin_metrics), f)"
   ]
  },
  {
   "cell_type": "code",
   "execution_count": null,
   "id": "23dd83fb-3623-43df-848c-2c2be30d6286",
   "metadata": {},
   "outputs": [],
   "source": [
    "with open(run_dir / \"test_data.pkl\", 'rb') as f:\n",
    "    results, bulk_metrics, basin_metrics = pickle.load(f)"
   ]
  },
  {
   "cell_type": "code",
   "execution_count": null,
   "id": "ce8feed3-8951-4f7a-a2a4-e5b9f2f549f2",
   "metadata": {},
   "outputs": [],
   "source": [
    "model"
   ]
  },
  {
   "cell_type": "code",
   "execution_count": null,
   "id": "15f54081-a2da-4778-9c17-7b149fb1dfca",
   "metadata": {},
   "outputs": [],
   "source": [
    "basin_metrics['flux']['MAPE'].median()"
   ]
  },
  {
   "cell_type": "code",
   "execution_count": null,
   "id": "72214a6f-a130-4606-b671-71293a639905",
   "metadata": {},
   "outputs": [],
   "source": [
    "reload(evaluate)\n",
    "from evaluate import mosaic_scatter\n",
    "\n",
    "plt.close('all')\n",
    "fig = mosaic_scatter(cfg, results, bulk_metrics, str(run_dir))\n",
    "\n",
    "plt.show()\n",
    "# fig.savefig(fig_dir / f\"epoch{trainer_state['epoch']:03d}_{cfg['data_subset']}_density_scatter.png\",  dpi=300)\n"
   ]
  },
  {
   "cell_type": "code",
   "execution_count": null,
   "id": "968bd731-4a60-46ca-af92-6df8dfd648b8",
   "metadata": {},
   "outputs": [],
   "source": [
    "reload(evaluate)\n",
    "from evaluate import *\n",
    "\n",
    "metric_args = {\n",
    "    'nBias':{'range':[-1,1]},\n",
    "    'rRMSE':{'range':[0,500]},\n",
    "    'KGE':{'range':[-2,1]},\n",
    "    'NSE':{'range':[-5,1]},\n",
    "    'Agreement':{'range':[0,1]}}\n",
    "\n",
    "plt.close('all')\n",
    "\n",
    "figs = basin_metric_histograms(basin_metrics, metric_args)\n",
    "\n",
    "# for target, fig in figs.items():\n",
    "    # fig.show()\n",
    "    # fig.savefig(fig_dir / f\"epoch{trainer_state['epoch']:03d}_{cfg['data_subset']}_{target}_metrics_hist.png\",  dpi=300)\n",
    "    "
   ]
  },
  {
   "cell_type": "code",
   "execution_count": null,
   "id": "6f6d5b78-1e76-483c-9b32-9dbd3000cb23",
   "metadata": {},
   "outputs": [],
   "source": [
    "import matplotlib.gridspec as gridspec\n",
    "\n",
    "def timeseries_plot(results, feature):\n",
    "    pred = results['pred'][feature]\n",
    "    obs = results['obs'][feature]\n",
    "    joint = results[[('obs',feature),('pred',feature)]]\n",
    "    joint = joint.dropna()\n",
    "    \n",
    "    if len(joint) < 2:\n",
    "        return\n",
    "           \n",
    "    # Create a figure\n",
    "    fig = plt.figure(figsize=(10, 4))\n",
    "    gs = gridspec.GridSpec(1, 3, width_ratios=[1, 0.2, 2])\n",
    "    axes = [fig.add_subplot(gs[0, 0]), fig.add_subplot(gs[0, 2])]\n",
    "    \n",
    "    min_val = joint.min().min()\n",
    "    max_val = joint.max().max()\n",
    "\n",
    "    axes[0].loglog(obs, pred, linestyle='None',marker='.', alpha=0.2)\n",
    "    axes[0].plot([min_val, max_val], [min_val, max_val], 'r--')\n",
    "\n",
    "    # Setting axes to be square and equal range\n",
    "    axes[0].axis('square')\n",
    "    axes[0].set_xlabel(f\"Observed {feature}\")\n",
    "    axes[0].set_ylabel(f\"Predicted {feature}\")\n",
    "\n",
    "    axes[0].set_title(f\"Basin: {basin}\")\n",
    "\n",
    "\n",
    "    axes[1].plot(pred)\n",
    "    axes[1].plot(obs, linestyle='None',marker='.',alpha=0.5)\n",
    "    axes[1].set_title(f\"{feature}\")\n",
    "    # axes[1].set_ylim([0,40000])\n",
    "\n",
    "    textstr = '\\n'.join([f\"{key}: {basin_metrics.loc[basin][feature][key]:0.2f}\" for key in ['rRMSE','KGE','NSE','Agreement']])\n",
    "    props = dict(boxstyle='round', facecolor='white', alpha=0.5)\n",
    "    axes[1].text(0.98, 0.97, textstr, transform=axes[1].transAxes, fontsize=10,\n",
    "            va='top', ha='right', bbox=props)\n",
    "\n",
    "    fig.suptitle(str(run_dir))\n",
    "    fig.tight_layout()\n",
    "    fig.autofmt_xdate()\n",
    "    \n",
    "    return fig"
   ]
  },
  {
   "cell_type": "code",
   "execution_count": null,
   "id": "89f6ca77-8608-4ef7-9ce3-835d3de68121",
   "metadata": {},
   "outputs": [],
   "source": [
    "len(list(basin_dataset.all_basins))"
   ]
  },
  {
   "cell_type": "code",
   "execution_count": null,
   "id": "d5e4ca3e-8936-4f5c-9e94-a3f42caf095c",
   "metadata": {},
   "outputs": [],
   "source": [
    "import evaluate\n",
    "reload(evaluate)\n",
    "from evaluate import predict, get_all_metrics\n",
    "\n",
    "basin = np.random.choice(dataset.test_basins).tolist()\n",
    "# basin = 'USGS-09367540'\n",
    "# basin = 'USGS-06109500' #no flux but nice seasonality\n",
    "# basin = 'USGS-08332010' #Nice flux temporal distribution and seasonality\n",
    "\n",
    "cfg['data_subset'] = 'predict'\n",
    "cfg['basin_subset'] =  basin\n",
    "cfg['num_workers'] = 1 # Faster for small runs\n",
    "basin_dataset = TAPDataset(cfg)\n",
    "dataloader = TAPDataLoader(cfg, basin_dataset)\n",
    "\n",
    "results = predict(model, dataloader, seed=0, denormalize=True, return_dt=True)\n",
    "results['pred'] = results['pred'] * (results['pred']>0) #Clip predictions to 0\n",
    "\n",
    "results = results.reset_index()\n",
    "results = results.sort_values(by='date')\n",
    "results = results.drop('basin', axis=1, level=0)\n",
    "results.set_index('date', inplace=True)\n",
    "\n",
    "plt.close('all')\n",
    "features = results.columns.get_level_values('Feature').unique()\n",
    "\n",
    "figs = []\n",
    "for feature in features:\n",
    "    fig = timeseries_plot(results, feature)\n",
    "    if fig is None:\n",
    "        continue\n",
    "    # fig.savefig(ts_dir / f\"epoch{trainer_state['epoch']:03d}_{cfg['data_subset']}_{basin}_{feature}_timeseries.png\",  dpi=300)\n",
    "    figs.append(fig)\n",
    "if len(figs)==0:\n",
    "    print(\"No data in basin and period\")"
   ]
  },
  {
   "cell_type": "code",
   "execution_count": null,
   "id": "990071cf-e940-46c8-9080-6e4e17f9f7f0",
   "metadata": {},
   "outputs": [],
   "source": [
    "for basin, date, batch in dataloader:\n",
    "    break\n",
    "batch['x_s']"
   ]
  },
  {
   "cell_type": "code",
   "execution_count": null,
   "id": "98770a2a-58ce-4ae8-aa56-348c43957ca4",
   "metadata": {},
   "outputs": [],
   "source": [
    "key = jax.random.PRNGKey(0)\n",
    "keys = jax.random.split(key, batch['x_s'].shape[0])\n",
    "\n",
    "embedded = jax.vmap(model.static_embedder)(batch['x_s'], keys)"
   ]
  },
  {
   "cell_type": "code",
   "execution_count": null,
   "id": "ac173b7f-bce7-4f90-a0ba-c2abb65d5768",
   "metadata": {},
   "outputs": [],
   "source": [
    "plt.close('all')\n",
    "plt.imshow(embedded[0,...],aspect='auto')"
   ]
  },
  {
   "cell_type": "code",
   "execution_count": null,
   "id": "d983b68a-7ca5-4e26-9d9d-b2e165e91497",
   "metadata": {},
   "outputs": [],
   "source": [
    "plt.close('all')\n",
    "plt.plot(model.head.weight.T, label=cfg['features']['target'])\n",
    "plt.legend()\n"
   ]
  },
  {
   "cell_type": "code",
   "execution_count": null,
   "id": "a907626a-fed0-49bc-8d2b-16161e886372",
   "metadata": {},
   "outputs": [],
   "source": []
  },
  {
   "cell_type": "code",
   "execution_count": null,
   "id": "4c64d58a-5d7f-4732-9bea-4ab93b6d24b9",
   "metadata": {},
   "outputs": [],
   "source": []
  },
  {
   "cell_type": "code",
   "execution_count": null,
   "id": "a4ebffc9-01c1-45f9-bebe-77accade1349",
   "metadata": {},
   "outputs": [],
   "source": []
  },
  {
   "cell_type": "code",
   "execution_count": null,
   "id": "7e43e9eb-56d2-45b4-9797-9fd4b5057e65",
   "metadata": {},
   "outputs": [],
   "source": []
  },
  {
   "cell_type": "code",
   "execution_count": null,
   "id": "01b285d0-f8f7-49fe-ab76-66d2f4910c85",
   "metadata": {},
   "outputs": [],
   "source": []
  },
  {
   "cell_type": "code",
   "execution_count": null,
   "id": "af3e538a-c2f9-49b8-8e03-0dfc1c1572de",
   "metadata": {},
   "outputs": [],
   "source": [
    "from train import Trainer, make_step\n",
    "\n",
    "cfg['data_subset'] = 'test'\n",
    "cfg['num_workers'] = 2\n",
    "cfg['basin_subset'] = None\n",
    "cfg['log'] = False\n",
    "cfg['quiet'] = False\n",
    "dataloader = TAPDataLoader(cfg, dataset)\n",
    "trainer = Trainer(cfg, dataloader)\n",
    "\n",
    "step_kwargs = cfg['step_kwargs']\n",
    "step_kwargs['max_grad_norm'] = None\n",
    "\n",
    "for basin, date, batch in dataloader:\n",
    "    break\n",
    "\n",
    "key = jax.random.PRNGKey(0)\n",
    "batch_keys = jax.random.split(key, len(basin))\n",
    "\n",
    "loss, grads, model, opt_state = make_step(\n",
    "    model, \n",
    "    batch,\n",
    "    batch_keys,\n",
    "    opt_state, \n",
    "    trainer.optim, \n",
    "    trainer.filter_spec, \n",
    "    **step_kwargs\n",
    "    )"
   ]
  },
  {
   "cell_type": "code",
   "execution_count": null,
   "id": "5134838b-9849-4e49-97ba-42e88deec25c",
   "metadata": {},
   "outputs": [],
   "source": []
  },
  {
   "cell_type": "code",
   "execution_count": null,
   "id": "0190fe76-6531-43dd-9ed5-c56256d64c92",
   "metadata": {},
   "outputs": [],
   "source": [
    "key = jax.random.PRNGKey(0)\n",
    "keys = keys = jax.random.split(key, num=batch['x_s'].shape[0])\n",
    "embedded = jax.vmap(model.static_embedder)(batch['x_s'],keys)\n",
    "\n",
    "plt.close('all')\n",
    "plt.imshow(embedded[0,...])"
   ]
  },
  {
   "cell_type": "code",
   "execution_count": null,
   "id": "961e4e83-d56f-4427-90ad-5b080e5ba407",
   "metadata": {},
   "outputs": [],
   "source": [
    "plt.close('all')\n",
    "plt.hist(model.static_embedder.layernorm.weight)\n",
    "plt.show()"
   ]
  },
  {
   "cell_type": "code",
   "execution_count": null,
   "id": "250c5e56-778d-4a69-b0d1-54d267dbab87",
   "metadata": {},
   "outputs": [],
   "source": [
    "model"
   ]
  },
  {
   "cell_type": "code",
   "execution_count": null,
   "id": "6a497dd0-659b-4fa1-8e4f-a31ef60d8063",
   "metadata": {},
   "outputs": [],
   "source": [
    "model.decoder.pooler"
   ]
  },
  {
   "cell_type": "code",
   "execution_count": null,
   "id": "6365de25-8c2a-4e10-b519-7bd656f659f2",
   "metadata": {},
   "outputs": [],
   "source": [
    "model.static_embedder.linear.weight.shape"
   ]
  },
  {
   "cell_type": "code",
   "execution_count": null,
   "id": "c47a0bcf-90dd-41ac-97da-6ab279fb48d1",
   "metadata": {},
   "outputs": [],
   "source": []
  },
  {
   "cell_type": "code",
   "execution_count": null,
   "id": "89b65f57-18b3-4fb1-9223-decf31470448",
   "metadata": {},
   "outputs": [],
   "source": [
    "mat_plot =  model.static_embedder.linear.weight.T\n",
    "labels = dataset.attributes_scale.keys()\n",
    "plot_umap(mat_plot, 16, labels)\n"
   ]
  },
  {
   "cell_type": "code",
   "execution_count": null,
   "id": "ef67e7f8-e974-4c72-9610-eaf45fd3d549",
   "metadata": {},
   "outputs": [],
   "source": [
    "import umap\n",
    "\n",
    "def plot_umap(mat, neighbors, labels=[], components=2):\n",
    "    reducer = umap.UMAP(n_neighbors=neighbors, n_components=components, metric='euclidean')\n",
    "    embedding_nd = reducer.fit_transform(mat)\n",
    "\n",
    "    # Plot using matplotlib\n",
    "    plt.close('all')\n",
    "    fig, ax = plt.subplots(figsize=(6,6))\n",
    "    \n",
    "    c = embedding_nd[:,2] if components>=2 else None\n",
    "    ax.scatter(embedding_nd[:, 0], embedding_nd[:, 1], c=c)\n",
    "    ax.set_title('2D Projection of Embeddings')\n",
    "\n",
    "    for xy, label in zip(embedding_nd, labels):\n",
    "        ax.text(xy[0], xy[1], label)\n",
    "        \n",
    "    return fig, embedding_nd\n"
   ]
  },
  {
   "cell_type": "code",
   "execution_count": null,
   "id": "8b6dd152-d0c8-42f9-9b18-1796908dfdbe",
   "metadata": {},
   "outputs": [],
   "source": [
    "import equinox as eqx\n",
    "\n",
    "model = eqx.nn.inference_mode(model)\n",
    "key = jax.random.PRNGKey(0)\n",
    "basins = []\n",
    "embeddings = []\n",
    "for basin in dataset.train_basins:\n",
    "    basins.append(basin)\n",
    "    static_data = dataset.x_s[basin]\n",
    "    # embeddings.append(model.tealstm_i.cell.input_linear(static_data).flatten())\n",
    "    embeddings.append(model.static_embedder(static_data, key).flatten())\n",
    "embeddings = np.stack(embeddings)"
   ]
  },
  {
   "cell_type": "code",
   "execution_count": null,
   "id": "df17135f-fcdb-4419-83a3-03d3901df875",
   "metadata": {},
   "outputs": [],
   "source": []
  },
  {
   "cell_type": "code",
   "execution_count": null,
   "id": "ab123a7d-36bf-48c3-82a8-488fb2e29f0b",
   "metadata": {},
   "outputs": [],
   "source": [
    "from sklearn.preprocessing import MinMaxScaler\n",
    "\n",
    "fig, embedding_nd = plot_umap(embeddings, 64, [], 3)\n",
    "\n",
    "# Normalize the UMAP embeddings to the range [0, 1]\n",
    "scaler = MinMaxScaler()\n",
    "embedding_nd_norm = scaler.fit_transform(embedding_nd)"
   ]
  },
  {
   "cell_type": "code",
   "execution_count": null,
   "id": "9d587a3e-9ec1-42d4-bec1-38e98fc0bd23",
   "metadata": {},
   "outputs": [],
   "source": [
    "embeddings_mag = np.sqrt(np.mean(embedding_nd**2,axis=1))\n",
    "# embeddings_mag"
   ]
  },
  {
   "cell_type": "code",
   "execution_count": null,
   "id": "a4beaa15-4c61-4f72-a04e-7b77e169f0d7",
   "metadata": {},
   "outputs": [],
   "source": [
    "import geopandas as gpd\n",
    "wqp_locs = gpd.read_file(\"/work/pi_kandread_umass_edu/tss-ml/data/NA_WQP/metadata/wqp_sites.shp\")\n",
    "wqp_locs = wqp_locs[[(loc in basins) for loc in wqp_locs.LocationID]]\n",
    "wqp_locs = wqp_locs.set_index('LocationID')"
   ]
  },
  {
   "cell_type": "code",
   "execution_count": null,
   "id": "93d438f8-6aa3-44cb-8794-7796f125e6d3",
   "metadata": {},
   "outputs": [],
   "source": [
    "columns = [f\"UMAP{i:d}\" for i in range(embedding_nd.shape[1])]\n",
    "df = pd.DataFrame(embedding_nd, columns=columns)\n",
    "df.index = basins\n",
    "\n",
    "gdf_embeddings = wqp_locs.merge(df,left_index=True, right_index=True)"
   ]
  },
  {
   "cell_type": "code",
   "execution_count": null,
   "id": "70435546-eecc-4e25-8002-4dc323fe9129",
   "metadata": {},
   "outputs": [],
   "source": [
    "col = 'UMAP2'\n",
    "gdf_embeddings.plot(col)\n",
    "plt.title(col)"
   ]
  },
  {
   "cell_type": "code",
   "execution_count": null,
   "id": "37933c93-bca2-4e68-abb8-567c592b698d",
   "metadata": {},
   "outputs": [],
   "source": [
    "embed_dir = fig_dir / \"embeddings\"\n",
    "embed_dir.mkdir(exist_ok=True)\n",
    "gdf_embeddings.to_file(embed_dir / \"sites_umap.shp\")"
   ]
  },
  {
   "cell_type": "code",
   "execution_count": null,
   "id": "890d5e8e-6d90-4994-acc9-1aadef16789e",
   "metadata": {},
   "outputs": [],
   "source": [
    "plt.close('all')\n",
    "# plt.imshow(model.tealstm_i.cell.input_linear.weight,aspect='auto')\n",
    "plt.plot(model.tealstm_i.cell.input_linear.bias)"
   ]
  },
  {
   "cell_type": "code",
   "execution_count": null,
   "id": "7a3e9c9a-6a77-4382-963e-2f5917270ccf",
   "metadata": {},
   "outputs": [],
   "source": [
    "\n",
    "ms = 'USGS-07289000'\n",
    "ms_t = 'USGS-07288955'\n",
    "\n",
    "oh = 'USGS-03612600'\n",
    "oh_t = 'USGS-03438500'\n",
    "\n",
    "embedder = lambda b: model.tealstm_i.cell.input_linear(dataset.x_s[b])\n",
    "# embedder = lambda b: model.static_embedder(dataset.x_s[b], key)\n",
    "plt.close('all')\n",
    "# plt.plot(embedder(ms))\n",
    "# plt.plot(embedder(oh))\n",
    "\n",
    "plt.plot(embedder(ms) - embedder(ms_t))\n",
    "plt.plot(embedder(oh)- embedder(oh_t))\n",
    "\n"
   ]
  },
  {
   "cell_type": "code",
   "execution_count": null,
   "id": "4640b17a-55f1-4499-b1d6-2c8f5804d0c2",
   "metadata": {},
   "outputs": [],
   "source": []
  },
  {
   "cell_type": "code",
   "execution_count": null,
   "id": "6d7825aa-28f9-499c-ad08-b5dfe2f32cf8",
   "metadata": {},
   "outputs": [],
   "source": []
  },
  {
   "cell_type": "code",
   "execution_count": null,
   "id": "ffea73c7-e4e4-421d-b729-acb4dc60e1a4",
   "metadata": {},
   "outputs": [],
   "source": []
  },
  {
   "cell_type": "code",
   "execution_count": null,
   "id": "b4010864-b03b-4380-963c-270358914974",
   "metadata": {},
   "outputs": [],
   "source": []
  },
  {
   "cell_type": "code",
   "execution_count": null,
   "id": "a9478c24-fd40-4679-9859-6bc3549a9feb",
   "metadata": {},
   "outputs": [],
   "source": [
    "mat_plot =  model.ealstm_d.cell.weight_ih[0:64,:].T\n",
    "labels = cfg['features']['daily']\n",
    "plot_umap(mat_plot, 8, labels)\n"
   ]
  },
  {
   "cell_type": "code",
   "execution_count": null,
   "id": "ee188765-3429-4c8d-971b-af18248a29bf",
   "metadata": {},
   "outputs": [],
   "source": [
    "static_sums = np.sum(np.abs(embedded),axis=0)\n",
    "sorted_ids = np.argsort(-static_sums)\n",
    "\n",
    "static_features = list(dataset.attributes_scale.keys())\n",
    "for i in range(25):\n",
    "    idx = sorted_ids[i]\n",
    "    print(f\"{static_features[idx]}: {static_sums[idx]}\")"
   ]
  },
  {
   "cell_type": "code",
   "execution_count": null,
   "id": "39abdc04-9931-414b-967a-52d4c7236515",
   "metadata": {},
   "outputs": [],
   "source": [
    "plt.figure()\n",
    "plt.hist(static_sums)"
   ]
  },
  {
   "cell_type": "code",
   "execution_count": null,
   "id": "14f332d3-d0e6-4feb-a48e-d36abfa032d8",
   "metadata": {},
   "outputs": [],
   "source": []
  },
  {
   "cell_type": "code",
   "execution_count": null,
   "id": "52bc61e0-3fb4-4e0a-b4c4-2a63dc972b53",
   "metadata": {},
   "outputs": [],
   "source": [
    "plt.close('all')\n",
    "plt.imshow(static_embeddings, aspect='auto')\n",
    "plt.show()"
   ]
  },
  {
   "cell_type": "code",
   "execution_count": null,
   "id": "0b23eaa7-8eda-40a8-8b9b-ca2b1ee48842",
   "metadata": {},
   "outputs": [],
   "source": [
    "model.decoder.layers[0].attention_block.attention"
   ]
  },
  {
   "cell_type": "code",
   "execution_count": null,
   "id": "ca0589a2-2d9d-4d55-a202-9270d6f72af6",
   "metadata": {},
   "outputs": [],
   "source": [
    "plt.close('all')\n",
    "\n",
    "fig, ax = plt.subplots(figsize=(6,6))\n",
    "\n",
    "x = results['obs']\n",
    "y = results['pred']\n",
    "z = []\n",
    "\n",
    "dt_max = 10\n",
    "for dt in range(dt_max+1):\n",
    "    if dt < dt_max:\n",
    "        mask = np.abs(results['dt']) == dt\n",
    "    else:\n",
    "        mask = np.abs(results['dt']) >= dt\n",
    "    metrics = get_all_metrics(x[mask], y[mask])\n",
    "    z.append(metrics['lNSE'])\n",
    "\n",
    "ax.plot(z)\n",
    "\n",
    "xticks = range(0,dt_max+1,2)\n",
    "xtick_labels = ax.get_xticklabels()\n",
    "new_labels = [\"≥\" + str(int(tick)) if tick == dt_max else str(int(tick)) for tick in xticks]\n",
    "ax.set_xticks(xticks)\n",
    "ax.set_xticklabels(new_labels)\n",
    "\n",
    "plt.show()"
   ]
  },
  {
   "cell_type": "code",
   "execution_count": null,
   "id": "eedfab50-94bd-42f6-9e7d-820fbb67b927",
   "metadata": {},
   "outputs": [],
   "source": []
  },
  {
   "cell_type": "code",
   "execution_count": null,
   "id": "fc082e3b-b0dd-4b7c-ad22-39be6843c015",
   "metadata": {},
   "outputs": [],
   "source": []
  }
 ],
 "metadata": {
  "kernelspec": {
   "display_name": "Python [conda env:.conda-tss-ml]",
   "language": "python",
   "name": "conda-env-.conda-tss-ml-py"
  },
  "language_info": {
   "codemirror_mode": {
    "name": "ipython",
    "version": 3
   },
   "file_extension": ".py",
   "mimetype": "text/x-python",
   "name": "python",
   "nbconvert_exporter": "python",
   "pygments_lexer": "ipython3",
   "version": "3.10.14"
  }
 },
 "nbformat": 4,
 "nbformat_minor": 5
}
