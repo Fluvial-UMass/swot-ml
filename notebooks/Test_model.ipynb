{
 "cells": [
  {
   "cell_type": "raw",
   "id": "d005173a-c81c-42d3-8ccf-f8efb1f0ddf5",
   "metadata": {
    "tags": []
   },
   "source": [
    "from pathlib import Path\n",
    "from netCDF4 import Dataset\n",
    "\n",
    "\n",
    "# Open the NetCDF file\n",
    "file_path = Path('/work/pi_kandread_umass_edu/tss-ml/data/NA_WQP/time_series/USGS-01015000.nc')\n",
    "dataset = Dataset(file_path, 'r')\n",
    "\n",
    "# Print all available variables\n",
    "print(\"Available variables in the NetCDF file:\")\n",
    "for var_name in dataset.variables.keys():\n",
    "    print(var_name)\n",
    "\n",
    "# # Close the dataset\n",
    "# dataset.close()"
   ]
  },
  {
   "cell_type": "code",
   "execution_count": 1,
   "id": "d6896bf3-c906-4666-a989-86d65caf7a07",
   "metadata": {},
   "outputs": [],
   "source": [
    "# This is required to run multiple processes on Unity for some reason.\n",
    "from multiprocessing import set_start_method\n",
    "\n",
    "set_start_method('spawn', force=True)\n",
    "\n",
    "import os\n",
    "os.environ['XLA_FLAGS'] = '--xla_gpu_enable_command_buffer='\n",
    "os.environ['XLA_PYTHON_CLIENT_MEM_FRACTION'] = '0.7'\n",
    "# os.environ['JAX_PLATFORMS'] = 'cpu'"
   ]
  },
  {
   "cell_type": "code",
   "execution_count": 2,
   "id": "4f9dee3e-38f2-4425-a709-0d216b941d66",
   "metadata": {},
   "outputs": [],
   "source": [
    "%matplotlib widget\n",
    "import sys\n",
    "import pandas as pd\n",
    "import numpy as np\n",
    "import matplotlib.pyplot as plt\n",
    "import jax\n",
    "import pickle\n",
    "from pathlib import Path\n",
    "from importlib import reload\n",
    "\n",
    "src = str(Path('../src').resolve())\n",
    "if src not in sys.path:\n",
    "    sys.path.append(src)\n",
    "\n",
    "from train import load_last_state\n",
    "from data import HydroDataset, HydroDataLoader\n",
    "from evaluate import *"
   ]
  },
  {
   "cell_type": "code",
   "execution_count": 3,
   "id": "cd672693-9d15-4349-b8be-17cc150e044c",
   "metadata": {},
   "outputs": [
    {
     "name": "stdout",
     "output_type": "stream",
     "text": [
      "Loading model state from ../runs/notebook/20240903_183431/epoch005\n"
     ]
    },
    {
     "name": "stderr",
     "output_type": "stream",
     "text": [
      "2024-09-03 18:48:20.125861: W external/xla/xla/service/gpu/nvptx_compiler.cc:836] The NVIDIA driver's CUDA version is 12.2 which is older than the PTX compiler version (12.6.20). Because the driver is older than the PTX compiler version, XLA is disabling parallel compilation, which may slow down compilation. You should update your NVIDIA driver or use the NVIDIA-provided CUDA forward compatibility packages.\n"
     ]
    },
    {
     "name": "stdout",
     "output_type": "stream",
     "text": [
      "Model contains 185,409 parameters, using 724.25KB memory.\n"
     ]
    },
    {
     "name": "stderr",
     "output_type": "stream",
     "text": [
      "/work/pi_kandread_umass_edu/tss-ml/src/data/hydrodata.py:174: UserWarning: Dropping numerical attributes with 0 variance or NaN values: ['wet_pc_s05', 'glc_pc_s03', 'wet_pc_s06', 'wet_pc_s07', 'order', 'n_bas_up', 'pnv_pc_s03', 'glc_pc_s17', 'pnv_pc_s01', 'glc_pc_s07', 'glc_pc_s05', 'glc_pc_s08', 'glc_pc_s19', 'area', 'aspect']\n",
      "  warnings.warn(f\"Dropping numerical attributes with 0 variance or NaN values: {cols_to_drop}\", UserWarning)\n"
     ]
    },
    {
     "name": "stdout",
     "output_type": "stream",
     "text": [
      "Data Hash: 1ca0e55e1aa8432bfbef9a5ec6ec8de304b398b2e778daed268198f86cd228a5\n",
      "Using cached basin dataset file.\n"
     ]
    },
    {
     "data": {
      "application/vnd.jupyter.widget-view+json": {
       "model_id": "1e09c9f0a1a84b449b04b721c88c4061",
       "version_major": 2,
       "version_minor": 0
      },
      "text/plain": [
       "Updating Indices:   0%|          | 0/10 [00:00<?, ?it/s]"
      ]
     },
     "metadata": {},
     "output_type": "display_data"
    }
   ],
   "source": [
    "run_dir = Path(\"../runs/notebook/20240903_183431\")\n",
    "cfg, model, trainer_state, opt_state, _ = load_last_state(run_dir)\n",
    "\n",
    "cfg['quiet'] = False\n",
    "\n",
    "fig_dir = run_dir / \"figures\"\n",
    "fig_dir.mkdir(exist_ok=True)\n",
    "\n",
    "dataset = HydroDataset(cfg)"
   ]
  },
  {
   "cell_type": "raw",
   "id": "a3c00f25-4131-4338-a1a2-10cba515edb4",
   "metadata": {},
   "source": [
    "dataloader = TAPDataLoader(cfg, dataset)\n",
    "\n",
    "for basin, date, batch in dataloader:\n",
    "    break\n",
    "    \n",
    "batch['dynamic'].keys()"
   ]
  },
  {
   "cell_type": "code",
   "execution_count": 5,
   "id": "c231e872-c9b8-4b97-b626-d56b7a1142bf",
   "metadata": {
    "tags": []
   },
   "outputs": [
    {
     "data": {
      "application/vnd.jupyter.widget-view+json": {
       "model_id": "993794c3b87240809369bb64f6c36337",
       "version_major": 2,
       "version_minor": 0
      },
      "text/plain": [
       "Updating Indices:   0%|          | 0/10 [00:00<?, ?it/s]"
      ]
     },
     "metadata": {},
     "output_type": "display_data"
    },
    {
     "name": "stdout",
     "output_type": "stream",
     "text": [
      "Dataloader using 1 parallel CPU worker(s).\n",
      "Batch sharding set to 1 gpu(s)\n"
     ]
    },
    {
     "data": {
      "application/vnd.jupyter.widget-view+json": {
       "model_id": "5b47bfc1fa01455db2e9d1094467cf4e",
       "version_major": 2,
       "version_minor": 0
      },
      "text/plain": [
       "  0%|          | 0/24 [00:06<?, ?it/s]"
      ]
     },
     "metadata": {},
     "output_type": "display_data"
    },
    {
     "name": "stderr",
     "output_type": "stream",
     "text": [
      "2024-09-03 18:49:58.853793: W external/xla/xla/service/gpu/nvptx_compiler.cc:836] The NVIDIA driver's CUDA version is 12.2 which is older than the PTX compiler version (12.6.20). Because the driver is older than the PTX compiler version, XLA is disabling parallel compilation, which may slow down compilation. You should update your NVIDIA driver or use the NVIDIA-provided CUDA forward compatibility packages.\n",
      "/home/tlanghorst_umass_edu/.conda/envs/tss-ml/lib/python3.10/site-packages/jax/_src/core.py:691: FutureWarning: unhashable type: <class 'jax._src.interpreters.partial_eval.DynamicJaxprTracer'>. Attempting to hash a tracer will lead to an error in a future JAX release.\n",
      "  warnings.warn(\n",
      "/home/tlanghorst_umass_edu/.conda/envs/tss-ml/lib/python3.10/site-packages/jax/_src/core.py:691: FutureWarning: unhashable type: <class 'jax._src.interpreters.partial_eval.DynamicJaxprTracer'>. Attempting to hash a tracer will lead to an error in a future JAX release.\n",
      "  warnings.warn(\n"
     ]
    },
    {
     "name": "stdout",
     "output_type": "stream",
     "text": [
      "Bulk Metrics\n",
      "USGS_Q\n",
      "num_obs: 181.0000\n",
      "R2: -0.1251\n",
      "MAPE: 0.6323\n",
      "nBias: 0.4580\n",
      "RE: 0.8603\n",
      "MAE: 75.6858\n",
      "RMSE: 131.6643\n",
      "rRMSE: 209.1397\n",
      "KGE: 0.0992\n",
      "NSE: -2.2647\n",
      "Agreement: 0.2638\n",
      "\n",
      "\n",
      "Basin Metrics\n",
      "USGS_Q\n",
      "num_obs: 21.0000\n",
      "R2: -0.2766\n",
      "MAPE: 0.5894\n",
      "nBias: 0.4412\n",
      "RE: 0.8786\n",
      "MAE: 44.1089\n",
      "RMSE: 60.9899\n",
      "rRMSE: 120.9749\n",
      "KGE: 0.1512\n",
      "NSE: -3.9752\n",
      "Agreement: 0.2544\n",
      "\n",
      "\n"
     ]
    }
   ],
   "source": [
    "cfg = dataset.cfg\n",
    "cfg['num_workers'] = 1\n",
    "cfg['basin_subset'] = None\n",
    "cfg['batch_size'] = 64\n",
    "\n",
    "\n",
    "def save_results(data_subset):\n",
    "    dataset.update_indices(data_subset)\n",
    "    dataloader = HydroDataLoader(cfg, dataset)\n",
    "    results = predict(model, dataloader, return_dt=True)\n",
    "    \n",
    "    same_day_obs = results['dt']['swot'] == 0\n",
    "    results = results[same_day_obs]\n",
    "    \n",
    "    bulk_metrics = get_all_metrics(results, True)\n",
    "    basin_metrics = get_basin_metrics(results, True)\n",
    "    with open(run_dir / f\"{data_subset}_data.pkl\", 'wb') as f:\n",
    "        pickle.dump((results, bulk_metrics, basin_metrics), f)\n",
    "\n",
    "    return results, bulk_metrics, basin_metrics\n",
    "\n",
    "results, bulk_metrics, basin_metrics = save_results('test')\n",
    "# save_results('train')"
   ]
  },
  {
   "cell_type": "code",
   "execution_count": 4,
   "id": "23dd83fb-3623-43df-848c-2c2be30d6286",
   "metadata": {
    "tags": []
   },
   "outputs": [],
   "source": [
    "with open(run_dir / \"test_data.pkl\", 'rb') as f:\n",
    "    results, bulk_metrics, basin_metrics = pickle.load(f)"
   ]
  },
  {
   "cell_type": "code",
   "execution_count": 6,
   "id": "72214a6f-a130-4606-b671-71293a639905",
   "metadata": {},
   "outputs": [
    {
     "data": {
      "application/vnd.jupyter.widget-view+json": {
       "model_id": "d61a0be645144501864fadfe92985fbf",
       "version_major": 2,
       "version_minor": 0
      },
      "image/png": "[encoded data removed]",
      "text/html": [
       "\n",
       "            <div style=\"display: inline-block;\">\n",
       "                <div class=\"jupyter-widgets widget-label\" style=\"text-align: center;\">\n",
       "                    Figure\n",
       "                </div>\n",
       "                <img src='data:image/png;base64,iVBORw0KGgoAAAANSUhEUgAAASwAAAGQCAYAAAAUdV17AAAAOXRFWHRTb2Z0d2FyZQBNYXRwbG90bGliIHZlcnNpb24zLjkuMiwgaHR0cHM6Ly9tYXRwbG90bGliLm9yZy8hTgPZAAAACXBIWXMAAA9hAAAPYQGoP6dpAABlt0lEQVR4nO3dd1hT1/8H8HcSCCBLEdlTBFRUQBSLioqiiIqWOtA6cNtWq5U6W6vWqtTtt2rd1TprHai0DhQHVVFcOKqiKDgRR2XKTM7vD365EpJAkJEEPq/nuY/m3HPPPTckn5x77rnn8hhjDIQQogH4qq4AIYQoiwIWIURjUMAihGgMCliEEI1BAYsQojEoYBFCNAYFLEKIxqCApSY6deqEZs2aqWTfPB4PEyZMUMm+CSmPCgWsVatWwdjYGAUFBZVVnypx69Yt8Hg8xMXFVUn5Fy5cwNy5c5GWllYl5aubvn37okePHgCA6OhojBw5Ei4uLqhTpw4aNmyI0aNHIyUlRe62Fy5cQPv27VGnTh1YWFhg4sSJyMrKkspz+fJlTJgwAW5ubtDX14ednR0GDBiA+/fvl1qvgoICNG3aFDweD0uXLpVZLxaLsXjxYjg6OkJXVxctWrTA7t275Za1evVqNGnSBDo6OrC2tkZYWBiys7M/usyNGzeiY8eOMDc3h46ODhwdHTFixAgkJyeXekzyxMXF4auvvoKXlxe0tbXB4/EU5k1PT8e0adPg7OwMPT092NvbY9SoUXjy5IlUvoiICAQEBMDKygo6OjqwsbFBv379cPv27VLr8vDhQ+jq6oLH4+HKlStS62JiYtC7d2/Y2tpCV1cXFhYW6N69O86fPy9TTlRUFEaNGoVmzZpBIBDAwcFB/g5ZBQQEBLB+/fpVpIhqER4ezszMzJhYLK6S8pcsWcIAsKSkpI8uo2PHjszNza3yKlUOANj48eOVypufn88MDQ3Z6tWrGWOMeXl5MUdHRzZt2jS2ceNGNnPmTGZoaMjMzc1ZSkqK1LbXr19nurq6zNPTk61du5Z9//33TEdHh3Xv3l0qX9++fZmFhQX7+uuv2caNG9lPP/3EzM3Nmb6+Prt165bCui1btozp6+szAGzJkiUy62fMmMEAsDFjxrANGzawnj17MgBs9+7dUvmmTZvGALB+/fqxtWvXsq+//pppaWmxbt26fXSZX375JQsNDWVLly5lmzdvZrNmzWLm5ubM1NSUPX/+vPQ3vYQ5c+YwbW1t5uXlxVxcXJiir7FIJGKtW7dm+vr6bOrUqWzjxo1s+vTpzNDQkFlbW7OMjAwu748//shCQkLYzz//zDZt2sTmz5/PGjZsyPT09Fh8fLzCugQFBXHv+eXLl6XWbdy4kfXp04fNnz+fbdq0iS1ZsoS5u7szPp/Pjh49KpU3NDSU6erqsrZt2zIbGxtmb28vd38fHbCys7OZrq4u27Jli8I8WVlZH1t8pfL19WWhoaFVVn5tCljR0dFSx3r27FkmEomk8pw9e5YBYN9//71UemBgILO0tGTp6elc2saNGxkAdvz4cS7t/PnzLC8vT2rb+/fvMx0dHTZ48GC59UpNTWXGxsZs3rx5cgPWs2fPmLa2ttRxisVi5uvry2xsbFhhYSFjjLEXL14wLS0tNnToUKntV61axQCww4cPl7tMRa5cucIAsPDw8FLzlfTy5Uv2/v17xhhj48ePVxiwzp8/zwBwPy4Sv/32GwPADhw4UOZ+tLS02Lhx4+SuP3bsGBMKhWzWrFlyA5Y82dnZzNzcnAUEBEilP3/+nOXn5zPGGOvZs6fCgPXRp4TR0dHIy8tDYGAgAGDr1q3g8Xg4e/YsvvrqK5iZmcHGxgYAMHz4cLlNvLlz58o0ZyX9KQcPHkSzZs2go6MDNzc3HDt2TCpfZmYmvvnmGzg4OEBHRwdmZmbo2rUrrl27JpUvLS0NFy5cQM+ePQEAycnJ3CnDhg0b4OTkBB0dHbRu3RqXL1+WqeOpU6fg6+sLfX191K1bF3369MHdu3eljmHq1KkAAEdHR/B4PPB4PKmm/o4dO+Dl5QU9PT2YmJhg4MCBePr0qdz39erVq2jbti309PTg6OiIdevWyeR59eoVRo0aBXNzc+jq6sLd3R2///67TL7s7Gx8++23sLW1hY6ODlxdXbF06VIwJW4fnT9/Pvh8PlatWiWV/vfff6Np06bc37NDhw7g86U/Rh06dICJiYnU+5SRkYETJ05gyJAhMDIy4tKHDRsGAwMD/Pnnn1xa27ZtIRQKpcp0dnaGm5ubVJnFzZgxA66urhgyZIjc9YcOHUJBQQG++uorLo3H4+HLL7/Es2fPEBsbCwCIjY1FYWEhBg4cKLW95PUff/xR7jIVkbyH5e1KMDc3h56eXpn5MjIyuPzFWVpaAkCZZZiZmaFOnTpy61dQUIBJkyZh0qRJcHJyUrLmQJ06ddCgQQOZMq2srKCtrV3m9lpK76mEI0eOwMvLS+bN+Oqrr9CgQQPMnj1b7jm/Ms6dO4cDBw7gq6++gqGhIX755Rf07dsXT548Qf369QEAX3zxBfbt24cJEyagadOmePv2Lc6dO4e7d++iZcuWXFnHjx8Hj8dDt27dpPaxa9cuZGZmYty4ceDxeFi8eDE+++wzPHr0iHvjTp48icDAQDRs2BBz585FTk4OVq1ahXbt2uHatWtwcHDAZ599hvv372P37t1YsWIFTE1NAQANGjQAACxYsAA//PADBgwYgNGjR+P169dYtWoVOnTogOvXr6Nu3bpcnd69e4cePXpgwIABGDRoEP788098+eWXEAqFGDlyJAAgJycHnTp1QmJiIiZMmABHR0fs3bsXw4cPR1paGiZNmgQAYIyhd+/eOH36NEaNGgUPDw8cP34cU6dOxfPnz7FixQqF7/+sWbOwcOFCrF+/HmPGjJFad+TIEfTq1avUv19WVhaysrK49wIo6kcsLCxEq1atpPIKhUJ4eHjg+vXrpZbJGENqairc3Nxk1sXFxeH333/HuXPnFPbnXL9+Hfr6+mjSpIlUure3N7e+ffv2yMvLAyD7Za5Tpw6Aoh+U8pZZ3Nu3byESifDkyRPMmzcPANClS5dSj/1jtWrVCvr6+vjhhx9gYmICV1dXJCYmYtq0aWjdujX8/f1ltklLS0NBQQFevnyJlStXIiMjQ279Vq5ciXfv3mHWrFk4cOBAqfXIyMhAfn4+3rx5g23btuH27dv47rvvPu6gymzDKWBnZ8fmzJnDvd6yZQsDwNq3by/TFA4NDZXbxJszZ45McxYAEwqFLDExkUu7ceMGA8BWrVrFpRkbGyt1GjN06FDWsWNH7nVSUhIDwOrXr8/+++8/Lv3QoUMMAIuMjOTSPDw8mJmZGXv79q1UXfh8Phs2bBiXpuiUMDk5mQkEArZgwQKp9Fu3bjEtLS2p9I4dOzIAbNmyZVxaXl4eVwdJc3nlypUMANuxYweXLz8/n/n4+DADAwOuX+LgwYMMAJs/f77Uvvv168d4PJ7U+4tip4Tffvst4/P5bOvWrTLv5aNHjxgAdvr0aZl1xf30008MAIuOjubS9u7dywCwmJgYmfz9+/dnFhYWpZa5fft2BoBt3rxZKl0sFjNvb282aNAgxtiHv2/JU8KePXuyhg0bypSbnZ3NALAZM2Ywxhi7evUqA8B++uknqXzHjh1jAJiBgUG5yyxOR0eHAeA+g7/88kupx12W0k4JGWPsr7/+YpaWltw+AbCAgACWmZkpN7+rqyuXz8DAgM2aNUvmlD8lJYUZGhqy9evXM8Y+fPcVnRIGBARwZQqFQjZu3DiWk5OjsM6Vfkp4+/ZtPHnyhDvNKm7MmDEQCAQfUyzH399fqpnZokULGBkZ4dGjR1xa3bp1cenSJbx48UJhOWKxGMeOHZNbz5CQENSrV4977evrCwDcPlJSUhAfH4/hw4fDxMREqi5du3bFkSNHyjyOAwcOQCwWY8CAAXjz5g23WFhYwNnZGadPn5bKr6WlhXHjxnGvhUIhxo0bh1evXnG/7EeOHIGFhQUGDRrE5dPW1uautp09e5bLJxAIMHHiRKl9fPvtt2CM4ejRo1LpjDFMmDAB//vf/7Bjxw6EhobKHM/ff/8NY2NjmVZDcTExMfjxxx8xYMAAdO7cmUvPyckBAOjo6Mhso6ury62X5969exg/fjx8fHxk6rV161bcunULixYtUri9ZP+K9l28fi1btkSbNm2waNEibNmyBcnJyTh69CjGjRsHbW1tqXoqW2ZxR48exZEjR7Bs2TLY2dl99FmIsho0aABPT08sWLAABw8exNy5c/HPP/9gxIgRcvNv2bIFx44dw6+//oomTZogJycHIpFIKs/06dO5q8HK+PnnnxEVFYXNmzfjk08+QX5+PgoLCz/qeD7qlPDvv/+Gubm5TPMeKOrHqSg7OzuZtHr16uHdu3fc68WLFyM0NBS2trbw8vJCjx49MGzYMDRs2JDLc/nyZbx+/VpuwCq5D0nwkuzj8ePHAABXV1eZbZs0aYLjx48jOzsb+vr6Co/jwYMHYIzB2dlZ7vqS5+xWVlYy5bm4uAAo6nv75JNP8PjxYzg7O8v0G0lOSyT1fvz4MaysrGBoaFhqPolt27YhKysLa9eulQqGxf3999/o1q0btLTkf2zu3buH4OBgNGvWDJs2bZJaJznFkpxyFZebm6uwP+Xly5fo2bMnjI2NsW/fPqkfw4yMDMycORNTp06Fra2t3O2L71/RvovXDwD279+PkJAQ7jRcIBAgLCwMZ8+eRUJCwkeVKeHn5wcACAwMRJ8+fdCsWTMYGBhUyTi4R48ewc/PD9u2bUPfvn0BAH369IGDgwOGDx+Oo0ePcn3QEj4+Ptz/Bw4cyH1eJMNELl68iO3btyM6OlrmM6iIh4cH9/8hQ4agZcuWGD58OPbt21fuY/qoFtaRI0fQvXt3uf0F8v5IivoVSkZuCUUtNFass3jAgAF49OgRVq1aBSsrKyxZsgRubm5SLYcjR47AwcEBTZs2/ah9VJRYLAaPx8OxY8dw4sQJmWX9+vWVtq+KateuHczNzbF69Wr8999/Muvfv3+PM2fOcOOvSnr69Cm6desGY2NjHDlyRCZQSjp65Y3PSklJgZWVlUx6eno6AgMDkZaWhmPHjsnkWbp0KfLz8xESEoLk5GQkJyfj2bNnAIp+eJKTk5Gfn8/t/+XLlzJ/X0l9ipdtbW2Nc+fO4f79+4iJicGzZ8+wePFiPH36lPsBKW+Z8jg5OcHT0xM7d+4sNd/H2rp1K3Jzc2X6HHv37g0AcsdDFVevXj107txZqn7Tpk2Dr68vHB0duff8zZs3AIqOu+T4rpKEQiF69+6NAwcOlNqqVqTcAavkVTdl1KtXT+6VhpK/8uVlaWmJr776CgcPHkRSUhLq16+PBQsWcOv//vtvhV+wstjb2wOA1C+qxL1792Bqasq1hhQFZCcnJzDG4OjoCH9/f5nlk08+kcr/4sULmVMEyWBJyRUle3t7PHjwAGKxWKZOxettb2+PFy9eIDMzs9R8Eo0aNUJUVBRevHiB7t27y2x36tQpqavCxb19+xbdunVDXl4ejh8/zgWn4po1awYtLS2ZwYX5+fmIj4+X+hUGilopQUFBuH//Pv766y+5PzpPnjzBu3fv4ObmBkdHRzg6OnKn9gsXLoSjoyPu3LkDoOhX/v379zJXGS9dusStL8nZ2Rm+vr6wsLDAnTt3kJKSItVR/TFllpSTk4P09PQy832M1NRUMMZkGgaSgd7KnJaVrN+TJ08QExPDvd+Ojo7cVfLevXujRYsWSpXJGJP5jClDKmC9f/8e9+7d4yImUPQBLx41o6KiAEDmqltpnJyckJ6ejps3b3JpKSkpiIiIKHeFgaKWWck/spmZGaysrLgmempqKq5du1auwFqcpaUlPDw88Pvvv0sF29u3byMqKkoqEEoCV8mg/Nlnn0EgEODHH3+U+RVmjOHt27dSaYWFhVKtrvz8fKxfvx4NGjSAl5cXAKBHjx54+fIl9uzZI7XdqlWrYGBggI4dO3L5RCIRVq9eLbWPFStWgMfjyQ08LVq0wJEjR3D37l0EBQVJ/QIeOXIErVq1krkqnJ2djR49euD58+c4cuSIwtNfY2Nj+Pv7Y8eOHVIf1O3btyMrKwv9+/fn0kQiEUJCQhAbG4u9e/dKnaYUN3HiREREREgtkvdv+PDhiIiI4Loo+vTpA21tbfz666/c9owxrFu3DtbW1mjbtq3cfQBFLeVp06ahTp06+OKLL7h0ZcssLCyU6s6QiIuLw61bt+R2rVQGFxcXMMakhowA4Ebie3p6cmmvXr2S2T45ORnR0dFS9duwYYPMe/71118DKGrxFm+NySszLS0N+/fvh62tLczMzMp9TFKdEXFxcfDz88OcOXMwd+5cAEV9Hh07dsSZM2cAFLVa2rdvD2NjY6V3MnDgQEyfPh3BwcGYOHEi3r9/j7Vr18LFxUVm3JQyMjMzuVsH3N3dYWBggJMnT+Ly5ctYtmwZgKIvmK6uLtdn8DGWLFmCwMBA+Pj4YNSoUdywBmNjY+79AcAFk++//x4DBw6EtrY2goKC4OTkhPnz52PmzJlITk7Gp59+CkNDQyQlJSEiIgJjx47FlClTuHKsrKywaNEiJCcnw8XFBXv27EF8fDw2bNjA9XeNHTsW69evx/Dhw3H16lU4ODhg3759OH/+PFauXMmdigUFBcHPzw/ff/89kpOT4e7ujqioKBw6dAjffPONwrEzn3zyCQ4dOoQePXqgX79+OHjwILS1tXHkyBG5HbWDBw9GXFwcRo4cibt370q1NgwMDPDpp59yrxcsWIC2bduiY8eOGDt2LJ49e4Zly5ahW7du6N69O5fv22+/xeHDhxEUFIT//vsPO3bskNqnZKxVy5YtpYawAODGv7m5uUnt28bGBt988w2WLFmCgoICtG7dGgcPHsQ///yDnTt3SnURTJo0Cbm5ufDw8EBBQQF27drFDZ0o3vepbJlZWVmwtbVFSEgId7vRrVu3sGXLFhgbG+OHH36Q+7dQ5PHjx9i+fTsAcC3W+fPnAyhqOQ8dOhRAUdBeunQpxo0bh+vXr8PNzQ3Xrl3Dpk2b4ObmhuDgYK7M5s2bo0uXLvDw8EC9evXw4MEDbN68GQUFBfj555+5fPIaKpIf6o4dO0oFt8DAQNjY2KBNmzYwMzPDkydPsGXLFrx48ULqBxcAbt68icOHDwMAEhMTkZ6ezh2Tu7s7goKCijIWv2R4+vRpBkBquAIAbliAWCxmZmZmbPHixTKXG8u6tBkVFcWaNWvGhEIhc3V1ZTt27FA4rEHecAV7e3tutHpeXh6bOnUqc3d3Z4aGhkxfX5+5u7uzX3/9lcvfr18/1qNHD5lyFF32luy7+LEzxtjJkydZu3btmJ6eHjMyMmJBQUHszp07Mtv+9NNPzNramvH5fJkhDvv372ft27dn+vr6TF9fnzVu3JiNHz+eJSQkcHkkI92vXLnCfHx8mK6uLrO3t5cZpcxY0ajuESNGMFNTUyYUClnz5s3l3nGQmZnJJk+ezKysrJi2tjZzdnZmS5YskblFSd57fujQIaalpcVCQkLY7du3GQAWFxcnsw97e3upS+bFF3mXpv/55x/Wtm1bpquryxo0aMDGjx8vdYuI5L1QVGbJz0tJpf19RSIRW7hwIbO3t2dCoZC5ublJDQ+R2LJlC3N3d2f6+vrM0NCQdenShZ06dUru/pQpMy8vj02aNIm1aNGCGRkZMW1tbWZvb89GjRr1UXdHSL6n8pbiQ3gYKxqNP3LkSObo6MiEQiGztLRkY8aMYa9fv5bKN2fOHNaqVStWr149pqWlxaysrNjAgQPZzZs3y6yPou/+6tWrWfv27ZmpqSnT0tJiDRo0YEFBQXKHtkjKkLcUv0uFx5jyvcxxcXFo06YN/v33X7l9CuqisLAQ9evXR3h4uNQoZPJxFi9ejOXLlyMlJaXUG20JqWrl7nRfuHChWgcrAPjvv/8wefJkqSYv+XgODg5c3xchqlSuFhYhpOq8fv1a4VAfoGhIQPFBzLURBSxC1ISDg0OpQ32KX/yqrT765mdCSOXauXNnqYMpi99KVltRC4sQojFoTndCiMaggEUI0RgUsAghGoMCFiFEY1DAIoRoDApYhBCNQQGLEKIxKGARQjQGBSxCiMaggEUI0RgUsAghGoMCFiFEY1DAIoRoDApYhBCNQQGLEKIxKGARQjQGBSxCiMaggEUI0RgUsAghGoMCFiFEY1DAIoRoDApYhBCNQQGLEKIxKGARQjQGBSxCiMaggEUI0RgUsAghGoMCFpFLLBajWbNmWLBggaqrUikKCgpga2uLX3/9VdVVIRVAAYvItXv3bjx9+hQTJkyotDITEhIwefJktG3bFrq6uuDxeEhOTpabNzc3F+Hh4WjatCnq1KkDa2tr9O/fH//++69UvpSUFMyYMQN+fn4wNDQEj8fDmTNnZMrT1tZGWFgYFixYgNzc3Eo7JlK9KGARuZYsWYKBAwfC2Ni40sqMjY3FL7/8gszMTDRp0qTUvIMHD8bs2bPRqVMn/PLLLxg3bhxiYmLg4+ODx48fc/kSEhKwaNEiPH/+HM2bNy+1zBEjRuDNmzfYtWtXpRwPUQFGSAnXrl1jANjJkycrtdy3b9+yjIwMxhhjS5YsYQBYUlKSTL5nz54xAGzKlClS6adOnWIA2PLly7m0jIwM9vbtW8YYY3v37mUA2OnTpxXWoVevXszX17fiB0NUglpYCgwfPhwODg4y6XPnzgWPx5NKO3HiBNq3b4+6devCwMAArq6u+O6776TyPH78GL1794a+vj7MzMwwefJkHD9+XOYU5sGDB+jbty8sLCygq6sLGxsbDBw4EOnp6eWq/8GDB9GsWTPo6uqiWbNmiIiIUHhM8rYVCoXo0KGD3GNPTEzE8OHDUbduXRgbG2PEiBF4//59meWamJjA0NCwzHyZmZkAAHNzc6l0S0tLAICenh6XZmhoCBMTkzLLlOjatSvOnTuH//77T+ltiPrQUnUFNN2///6LXr16oUWLFpg3bx50dHSQmJiI8+fPc3mys7PRuXNnpKSkYNKkSbCwsMCuXbtw+vRpqbLy8/MREBCAvLw8fP3117CwsMDz58/x119/IS0tTenTs6ioKPTt2xdNmzZFeHg43r59ixEjRsDGxkap7S9cuIBmzZpBW1tb7voBAwbA0dER4eHhuHbtGjZt2gQzMzMsWrRIqfLL4uTkBBsbGyxbtgyurq7w9PTEixcvMG3aNDg6OmLgwIEfXbaXlxcYY7hw4QJ69epVKfUl1YcCVgWdOHEC+fn5OHr0KExNTeXmWb9+PR49eoSDBw+iT58+AIBx48bB09NTKt+dO3eQlJSEvXv3ol+/flz67Nmzy1Wn6dOnw9zcHOfOneOCXMeOHdGtWzfY29uXuf29e/fQpk0bhes9PT2xefNm7vXbt2+xefPmSgtY2tra2L9/Pz7//HP07t2bS/fy8sKFCxdQt27djy67YcOGAIreawpYmodOCStI8uU5dOgQxGKx3DzHjh2DtbW11JdPV1cXY8aMkconCS7Hjx9X6hRLnpSUFMTHxyM0NFSqRda1a1c0bdpUqTLevn2LevXqKVz/xRdfSL329fXF27dvkZGR8VF1lqdevXrw8PDAjBkzcPDgQSxduhTJycno379/ha7ySY7rzZs3lVVVUo0oYFVQSEgI2rVrh9GjR8Pc3BwDBw7En3/+KRW8Hj9+DCcnJ5m+r0aNGkm9dnR0RFhYGDZt2gRTU1MEBARgzZo15eq/klxBc3Z2llnn6uqqdDmMMYXr7OzspF5LgsC7d++ULr806enp8PX1hY+PD8LDw9GnTx98++232L9/P86dO4ctW7Z8dNmS4yr5tyCagQKWAoo+0CKRSOq1np4eYmJicPLkSQwdOhQ3b95ESEgIunbtKpNXGcuWLcPNmzfx3XffIScnBxMnToSbmxuePXv2UcfxMerXr19q8BEIBHLTSwty5bF//36kpqZKtUiBotNaIyMjqf7B8pIcl6LTd6LeKGApUK9ePaSlpcmkFx8DJMHn89GlSxcsX74cd+7cwYIFC3Dq1CmuU93e3h4PHz6U+UInJibK3Xfz5s0xa9YsxMTE4J9//sHz58+xbt06peot6aN68OCBzLqEhASlymjcuDGSkpKUylsVUlNTAcj+ODDGIBKJUFhY+NFlS46rrHFgRD1RwFLAyckJ6enpuHnzJpeWkpKCiIgIqXzyLo97eHgAAPLy8gAAAQEBeP78OQ4fPszlyc3NxcaNG6W2y8jIkPkyNm/eHHw+nyurLJaWlvDw8MDvv/8udSp54sQJ3LlzR6kyfHx8cPv2baX3WdlcXFwAAH/88YdU+uHDh5GdnS1zsaI8rl69Ch6PBx8fnwrVkagGXSVUYODAgZg+fTqCg4MxceJEvH//HmvXroWLiwuuXbvG5Zs3bx5iYmLQs2dP2Nvb49WrV/j1119hY2OD9u3bAyi6Irh69WoMGjQIkyZNgqWlJXbu3AldXV0AH04/T506hQkTJqB///5wcXFBYWEhtm/fDoFAgL59+ypd9/DwcPTs2RPt27fHyJEj8d9//2HVqlVwc3NDVlZWmdv36dMHP/30E86ePYtu3bqV520rVXp6OlatWgUA3Gnd6tWrUbduXdStW5e7DSgoKAhubm6YN28eHj9+jE8++QSJiYlYvXo1LC0tMWrUKKly58+fDwDcbTvbt2/HuXPnAACzZs2SynvixAm0a9cO9evXr7TjItVIlaNW1V1UVBRr1qwZEwqFzNXVle3YsYPNmTOHFX/boqOjWZ8+fZiVlRUTCoXMysqKDRo0iN2/f1+qrEePHrGePXsyPT091qBBA/btt9+y/fv3MwDs4sWLXJ6RI0cyJycnpqury0xMTJifn99HjTjfv38/a9KkCdPR0WFNmzZlBw4cYKGhocze3l6p7Vu0aMFGjRollSY59tevX0ulb9myReGo9eKSkpIYALlLyXr9999/bPLkyczFxYXp6OgwU1NTNnDgQPbo0SOZchWVWfLjnZaWxoRCIdu0aZNS7wFRPxSwVGjFihUMAHv27Fm17K88AWvbtm3M0NCQvXv3rkrrVJ1WrFjBLC0t2fv371VdFfKRqA+rmuTk5Ei9zs3Nxfr16+Hs7Axra2sV1UqxwYMHw87ODmvWrFF1VSpFQUEBli9fjlmzZknd2kM0C/VhVZPPPvsMdnZ28PDwQHp6Onbs2IF79+5h586dSpeRnp4uE/hKsrCwqGhVARRd+bx9+3allKUOtLW18eTJE1VXg1QQBaxqEhAQgE2bNmHnzp0QiURo2rQp/vjjD4SEhChdxqRJk/D777+XmodV0lgoQtQRj9EnXGPcuXMHL168KDWPv79/NdWGkOpHAYsQojGo050QojHUsg9LLBbjxYsX3BzdhNREjDFkZmbCysoKfD61HZShlgHrxYsXsLW1VXU1CKkWT58+VXpyxdpOLQOWZBrdp0+fwsjISMW1IaQSHT0KDBkCNG+OjJ07Ydu0qVLTRpMiahmwJKeBRkZGFLBIzREZCQwdChQWAs7OwP/PWU/dHsqjE2dCqkNkJNC3L1BQAAwYAOzcCWipZXtBrVHAIqSqUbCqNBSwCKlKR45QsKpE9M4RUpWcnABTU8DXl4JVJaB3j5Cq5OoKXLwIWFlRsKoEdEpISGWLjASioj68trOjYFVJ6F0kpDJJOtj5fODCBaBlS1XXqEahFhYhlaX41cA+fYAWLVRdoxqHAhYhlYGGLlQLCliEVBQFq2pDAYuQirh8mYJVNaJ3lpCK8PQsClhiMQWrakDvLiEVoaUFbN/+4f+kStEpISHlFRkJjBtX1KoCigIVBatqQe8yIeVRvIPdywsYO1bVNapVqIVFiLJKXg0cOVLVNap1KGARogwauqAWKGARUhYKVmqDAhYhpXnzBhg0iIKVmqB3npDSmJoWBal9+4AtWyhYqRi9+4TIk58PCIVF/+/Tp2ghKkenhISUFBkJuLkBjx6puiakBApYhBQn6WBPTAR++UXVtSElUMAiRKLk1cClS1VdI1ICBSxCABq6oCEoYBFCwUpjUMAitZtYDMybR8FKQ1DAIrUbnw8cPQrMnEnBSgNQwCK109OnH/5vagosXEjBSgNQwCK1T2Qk4OwMbNig6pqQcqKARWoXSQd7Xh5w+jTAmKprRMqBAhapPUpeDdy+HeDxVF0rUg4UsEjtQEMXagQKWKTmo2BVY1DAIjXftWsUrGoI+suRmm/2bKBJE+CzzyhYabgq++s5ODjAyMgIfD4f9erVw+nTp6tqV4TI+uefoqfa1KlT1LE+YICqa0QqQZX+3Fy4cAEGBgZVuQtCZEn6rHx9i/5fp46qa0QqCfVhkZqleAe7qemHWUNJjSA3YMXExCAoKAhWVlbg8Xg4ePCgTJ41a9bAwcEBurq6aNOmDeLi4qTW83g8dOzYEa1bt8bOnTurpPKESKGrgTWe3ICVnZ0Nd3d3rFmzRu5Ge/bsQVhYGObMmYNr167B3d0dAQEBePXqFZfn3LlzuHr1Kg4fPoyFCxfi5s2bVXMEhAAUrGoLVgYALCIiQirN29ubjR8/nnstEomYlZUVCw8Pl1vGlClT2JYtWxTuIzc3l6Wnp3PL06dPGQCWnp5eVvUIYSwykjFtbcYAxgYMYKygQNU1Ukp6ejp9zsup3H1Y+fn5uHr1Kvz9/bk0Pp8Pf39/xMbGAihqoWVmZgIAsrKycOrUKbi5uSksMzw8HMbGxtxia2tb3mqR2szKCjAwoJZVLVDuv+ybN28gEolgbm4ulW5ubo579+4BAFJTUxEcHAwAEIlEGDNmDFq3bq2wzJkzZyIsLIx7nZGRQUGLKK9lS+DSJcDRkYJVDVclf92GDRvixo0bSufX0dGBjo5OVVSF1FR//QXUrw/4+BS9dnZWbX1ItSh3wDI1NYVAIEBqaqpUempqKiwsLCqtYoQoJOlg19Utalk1aaLqGpFqUu4+LKFQCC8vL0RHR3NpYrEY0dHR8JH82hFSVYpfDQwMpJZVLSO3hZWVlYXExETudVJSEuLj42FiYgI7OzuEhYUhNDQUrVq1gre3N1auXIns7GyMGDGi2ipOaiEaukDkXTo8ffo0AyCzhIaGcnlWrVrF7OzsmFAoZN7e3uzixYuVdumSLvcSGYcPa+TQhdLQ57z8eIyp3xyxGRkZMDY2Rnp6OoyMjFRdHaJq588Dfn41rmVFn/Py0/y/Oqn5vLyALl0AI6MaE6zIx6G/PFF/urpARERRoKJgVavRbA1EPUVGAjNmfHiqja4uBStCLSyihopfDWzeHBg8WNU1ImqCWlhEvZQcuhASouoaETVCAYuoDxpnRcpAAYuoBwpWRAkUsIjqvXhRFKQoWJEy0KeCqJ6VFbB+PXDsGLBtGwUrohCNdCeqIxIBAsGH14wVPZKrlqDPefnRKSFRjcjIohHsL19+SKtFwYp8HApYpPpJOthv3ABWrFB1bYgGoYBFqlfJq4ELFqi6RkSDUMAi1YeGLpAKooBFqgcFK1IJKGCRqldYCEyfTsGKVBgFLFL1tLSA48eBsDAKVqRCKGCRqvPq1Yf/29oCy5ZRsCIVQgGLVI3IyKIHm+7dq+qakBqEAhapfJIO9vfvgUOHVF0bUoNQwCKVq+TVwK1bVV0jUoNQwCKVh4YukCpGAYtUDgpWpBpQwCKVIzqaghWpcvSpIpVjxQrA3R0YOpSCFaky1MIiH+/iRSA/v+j/PB4wYgQFK1KlKGCRjxMZCXToAAwc+CFoEVLFKGCR8ivewa6tDfDpY0SqB33SSPnQ1UCiQhSwiPIoWBEVo4BFlEPBiqgB+sQR5RgaFvVXBQdTsCIqQ586opxOnYDYWKBpUwpWRGXolJAo9vffwO3bH163aEHBiqgUBSwiX2Rk0emfnx+QlKTq2hACgAIWkad4B3vnzkWzhRKiBihgEWl0NZCoMQpY5AMKVkTNUcAiRc6epWBF1F6VBKy0tDS0atUKHh4eaNasGTZu3FgVuyGVqWVLoHVrClZErfEYY6yyCxWJRMjLy0OdOnWQnZ2NZs2a4cqVK6hfv75S22dkZMDY2Bjp6ekwMjKq7OoRRbKyAF1dClbVhD7n5VclLSyBQIA6deoAAPLy8sAYQxXERVJRkZHA4sUfXhsYULAiak1uwIqJiUFQUBCsrKzA4/Fw8OBBmTxr1qyBg4MDdHV10aZNG8TFxUmtT0tLg7u7O2xsbDB16lSYmppWyQGQjyTpYJ8+HZDz9yVEHckNWNnZ2XB3d8eaNWvkbrRnzx6EhYVhzpw5uHbtGtzd3REQEIBXxZ70W7duXdy4cQNJSUnYtWsXUlNTq+YISPmVvBrYq5eqa0SIclgZALCIiAipNG9vbzZ+/HjutUgkYlZWViw8PFxuGV9++SXbu3evwn3k5uay9PR0bnn69CkDwNLT08uqHimvw4cZ09ZmDGBswADGCgpUXaNaKz09nT7n5VTuPqz8/HxcvXoV/v7+XBqfz4e/vz9iY2MBAKmpqcjMzAQApKenIyYmBq6urgrLDA8Ph7GxMbfY0sjqqkHjrIiGK3fAevPmDUQiEczNzaXSzc3N8fLlSwDA48eP4evrC3d3d/j6+uLrr79G8+bNFZY5c+ZMpKenc8vTp0/LWy1SluRkoF8/ClZEo1XJJ9bb2xvx8fFK59fR0YGOjk5VVIVIODgUXRGMjQV27KBgRTRSuVtYpqamEAgEMp3oqampsLCwqLSKkUpSfDjJpEnA7t0UrIjGKnfAEgqF8PLyQnR0NJcmFosRHR0NHx+fSq0cqaDISMDXF0hL+5DG46msOoRUlNyf2qysLCQmJnKvk5KSEB8fDxMTE9jZ2SEsLAyhoaFo1aoVvL29sXLlSmRnZ2PEiBHVVnFShuId7CtWAD/+qOoaEVJx8i4dnj59mgGQWUJDQ7k8q1atYnZ2dkwoFDJvb2928eLFSrt0SZd7K4iGLmgE+pyXX5XcS1hRdI9VBdDQBY1Bn/Pyo+llahIKVqSGo4BVU+TlAV9/TcGK1GgUsGoKHR3g+HFgwgQKVqTGooCl6d69+/B/V1dg1SoKVqTGooClySIji0awR0WpuiaEVAsKWJpK0sGekVF0CkhILUABSxOVvBq4ebOqa0RItaCApWlo6AKpxShgaRIKVqSWo4ClSfbto2BFajX6xGuSzZsBb29g3DgKVqRWohaWurt2DRCLi/6vpQWMH0/BitRaFLDUWWQk8MknwOjRH4IWIbUYBSx1VbyDPTubAhYhoIClnuhqICFyUcBSNxSsCFGIApY6KSVYZWe8x84F+/FZ/eEY7z0Dl4/HQw3nXiSkStFPtzqR9FOVCFaRa49j08ydyMnKBRMzZF9PwneBC+DSygnTt30Nu8bWKqw0IdWHWljqpE8f4J9/ZE4DV3+9Ge8zcsDERS0qsagosCVeT8LBVUdVUlVCVIEClqodPQo8evThdZs2Mn1WYrH8Uz8en8cFL0JqAwpYVSTp9hPcPndXpp+JiV6C5Z0FY4VFfVZ9+gB+fmDPHoDlRoOJs6TyF5YSkJiYITMrRyb9fuobXH38nPq4SI1DfViV7OGNZGz/cS/OH4wDALi2dkLovIHw6mIOvN8AvN8DoBA4IQRGJYBXUAjWyhSMNwBIywZ4BoD+GBTqDkbkradYfSYW4nq60ErLBa94/OEVnRqein+C3IURGDGoHQr1eFh9JhYn7z0EADS3MsfEzm3R3skePHqAKqkB6DFflWj/ir+w7tvfIdDiQ1RY1DLiC/hwb5uOBbuSIRDwAIiAqCzwRqeAVwCw3oZgayykfjryRQL03TcAD9/VBQ8A8gphEPcSRheeg5cnAg+AuK4+Cl2swRoYQyDgI9MUyLIRQMDnQfT/p5ACHg8ixtCzmSuW9etR3W8HKYOmfs5ViVpYlSj+zG0A4IIVUNQKato6G2D/nyYVrAzA1pjL/BXS84R4+K4ugKIn2EJHC5m+NsjytoDZ0VRAVwesgTH32HmRmCHfgM/9X0L0/79FsY+eVP7BEqICFLCqCWM8ICa7RLCyALSUP1VjOloQNTQHv7AKK0qIGqOAVcWYFh833jrjxQ5XDGh1HU7Or8EaCVGw2hIXcs1xK8cEvgYv0Vz3HcrqZtJ+mQ3ta88BPV2IHMwBbUH1HAQhaoICViUKHNUFt2Lu4n1mDsQ8HkSO5hA5WeLqGwH4/zEci3VFlx534fbZM8SkmuOtSBc8MFx8bwZHYSb6101Cc710mOrlIMjlFSLvm0HA54GfkgXjM0+gl/AOjAeAAYKHKRA5WULkaA6etgB1swTINBUgV1QISa+kgMcDj8fDqHatVPq+EFJZqNO9kmVnvMeh1cew9c9Y5No2QNvUuzDJy8Rf9m0AAPqNM2DS96XMdnwwiAEss0uHuckkQNgOCalvsPpMLO6O3AVevhi8EuOxGAB+ExsMnROCz3p5gvGBHXE3sOn8ZeQWFCKkVQuMadcKFsaG1XDkpLw0+XOuKtTCqmT6RnXw+Xef4Ym+HjJ278WPV7ZDm4nwsk49XGngAujKH1clLroeiPeGS8DTcQAANLZogNUDe6Pr59vlbqOlJUDXti4YOuATLu2LDt4Y9oknCkQiGOvpVu7BEaJiFLCqiMvdOATFbYM2E+GUVQtcr++k1HblGi/FAwQC2X6sOkJtANrKl0OIhqCR7pWssKAQVyctQNCGeVyw+slzEET8/w8shaV3lOvydWTSdOoIwefLBjImEkPPgFpRpPaggFWJbsbcwUrrILT45QdoMzFOGbngJ/cQiHh87gqgTb4TfLX9oCfQAw8fgpCpsD6+aDgSlnoWMuUu+Ps7NGrZEEDRQFS+gA+BlgBBXwZg0Mzgajk2QtQBdbpXol+6fIsvT62ANhjOwAbh8IZITweFTlbQMjHAwpWhaO3hAB6PhxxRLqJensKNtFvoaNYe7U0/gYCnuPXFGMPVEzexb3kkbJwtMXDGpzC1rl+NR0cqm6Z+zlWJAlYl+qF3OFwjt8MGmQiHN8S8Dw1Y4wZG2JdKj5QnH2jq51yVqNO9MjAGBsDB9SXi39ph+wV9qWAlNtRDXj0DFBaKoKVFgz0J+VjUwqogdvgwsGYh2EZzQHgXAJAQr4ffF1ng8jVziFytIbYwAQCYNzDCyM/boWunptASUPdhbadJn3N1Qd+aioiMBPoFgxd1CVh7gUtu1DwX7cdro6Bjc4jN63Hpr95kIPx/R/Hl1B2qqC0hGo8C1sf6/wdG8ArEYL0NgPF1uVUCAcPdZDMI+GIUv0FQ0pZNSEyt5soSUjNQH9bHKPZ0G9bHCmx1HfmzLtCceYRUqiprYQUHB6NevXro169fVe1CNYoFq/RPe+PZMieFU8QwMUUsQipTlQWsSZMmYdu2bVVVvGpkZwNjxgAFBbji54PW/Vph6WNXZBZqQ/q+ZB56tn+CBvWFRa/+P27x+TwIBHyMGNS22qtOSE1QZQGrU6dOMDSsYbME6OsDR44gMqA9ho7uAZFAgL9eOaJDbH+sSGqJzEJt5Ih1wTOYjCbeB7F740TMnBQIM1MjCAR8fBrogT83jcWIQe1UfSSEaCS5ASsmJgZBQUGwsrICj8fDwYMHZfKsWbMGDg4O0NXVRZs2bRAXF1fVdVWdzMwP/2/ZEvPG9UU+/8NblyUSYt2TFvjk/EBMfTgTPIMvwOMbQEvAR2CXZti9YQyO7P4a34zzR4P6NSyIE1KN5Aas7OxsuLu7Y82aNXI32rNnD8LCwjBnzhxcu3YN7u7uCAgIwKtXr6q0sioRGQk0bAjExpaZNZ8JUMhkr2NoCfjQ0xVWRe0IqVXkBqzAwEDMnz8fwcHyb6xdvnw5xowZgxEjRqBp06ZYt24d6tSpg99++61KK1vtJB3sb94Amz/cVmOorQOBnGlg+ODBUFt2tgVCSOUodx9Wfn4+rl69Cn9//w+F8Pnw9/dHrBKtEHny8vKQkZEhtahcsauBGDAAWLeOW7Xetx86WzkDKJqGWMDjQYvHx2Dnlpjp2VlVNSakxiv3OKw3b95AJBLB3NxcKt3c3Bz37t3jXvv7++PGjRvIzs6GjY0N9u7dCx8fH7llhoeH48cffyxvVapOyWC1c6fU4+OdjRtgnW8/3H2Xig33LqKuUA9jm3wCyzp0ewUhVanKBo6ePHlS6bwzZ85EWFgY9zojIwO2trZVUa2ylRGsimtSzxwrfPpUcwUJqb3KHbBMTU0hEAiQmip9e0lqaiosLGQnn1OGjo4OdHRU3/fz+ukbiH4Ih0WJYJX9Pg+nzyWgsbMFGjmaqbqahNRa5Q5YQqEQXl5eiI6OxqeffgoAEIvFiI6OxoQJEyq7ftXi9bO3+OPnCPy94ST4BRb4jO+O3PqdEZT0GjHXH2PXgUvIfp8PAPD9pBFGDGpHgYsQFZAbsLKyspCYmMi9TkpKQnx8PExMTGBnZ4ewsDCEhoaiVatW8Pb2xsqVK5GdnY0RI0ZUW8Ury7MHKfjJbRSSxQYQixlEPAH2MGfwNp/G3sQ3gJ4QxSfguRD3EP9cTMT8mX3QwcdFdRUnpBaSG7CuXLkCPz8/7rWkfyk0NBRbt25FSEgIXr9+jdmzZ+Ply5fw8PDAsWPHZDriNUH29j+wuuAYDqIRNqAFdx+NmM8H0xUWPfyvGJGYQcDn4WHyawpYhFQzuQGrU6dOKGtevwkTJmjsKSAnMhLO4dPAB0MD5IAPQP5TA0soz6O4CCGVpvbOh/X/VwP5hYXcAyPExQNRKQGbiVn5nh9ICKkUtTNgFRu6IOrbDzF9xkPM40OgVfR2CLT4QH4h7HiAQMDnngko+delkTkC/NxUVn1CaqvaN4FfiXFWgp07MVtLCw9vJGP7j3tx4VAcPunVCkPn9IeTuwNevcnErv2XcOjYDTg3NMPoIe25R3URQqpX7XsIxfbtQGgo0L+/3EGhokIRBHKebFMoEkPA51GgIpWGHkJRfrWvhTV0KGBrC7RvL3cEu7xgBYCeckOIGqgd38KoKODlyw+vO3VSeLsNIUR91fyAFRkJ9OoF+PkVTRNDCNFYNTtgFe9gb9ECqFtX1TUihFRAzQ1Y5Zh1gRCiGWpmwKJgRUiNVPMC1vHjFKwIqaFq3je5aVPAzg7w8qJgRUgNU/O+zba2wPnzQP36FKwIqWFqxilhZCTw558fXpubU7AipAbS/G+1pINdLAasrYF29FRlQmoqzW5hFb8a2Lcv0KaNqmtECKlCmhuwaOgCIbWOZgYsClaE1EqaF7Bu3KBgRUgtpXnf9BYtgNGjgbdvKVgRUsto3redxwPWrAFEIgpWhNQymnFKGBkJhIQA+UUPMwWPR8GKkFpI/b/1xTvYfXyAb75RdY0IISqi3i2so0elO9g1/TmIhJAKUe8W1pAhQGEhXQ0khABQ9xYWBStCSDFqGQUkTx7L6NULWLsWeP9exTUipPJlZGQA+PB5J2VTy4CVmZkJALD966+iaWIIqcEyMzNhbGys6mpoBLV8kKpYLMaLFy9gaGio0geXZmRkwNbWFk+fPq0xD7qkY1IfjDFkZmbCysoKfL56986oC7VsYfH5fNjY2Ki6GhwjIyON+iIog45JPVDLqnworBNCNAYFLEKIxqCAVQodHR3MmTMHOjo6qq5KpaFjIppMLTvdCSFEHmphEUI0BgUsQojGoIBFCNEYFLAIIRqDAhYhRGNQwKqA4OBg1KtXD/369VN1VSpFWloaWrVqBQ8PDzRr1gwbN25UdZUqhYODA1q0aAEPDw/4+fmpujqkAmhYQwWcOXMGmZmZ+P3337Fv3z5VV6fCRCIR8vLyUKdOHWRnZ6NZs2a4cuUK6mv4DegODg64ffs2DAwMVF0VUkHUwqqATp06wdDQUNXVqDQCgQB16tQBAOTl5YExRlOfELVSawNWTEwMgoKCYGVlBR6Ph4MHD8rkWbNmDRwcHKCrq4s2bdogLi6u+itaDpVxTGlpaXB3d4eNjQ2mTp0KU1PTaqq9fJVxTDweDx07dkTr1q2xc+fOaqo5qQq1NmBlZ2fD3d0da9askbt+z549CAsLw5w5c3Dt2jW4u7sjICAAr169quaaKq8yjqlu3bq4ceMGkpKSsGvXLqSmplZX9eWqjGM6d+4crl69isOHD2PhwoW4efNmdVWfVDZGGAAWEREhlebt7c3Gjx/PvRaJRMzKyoqFh4dL5Tt9+jTr27dvdVSzXCpyTBJffvkl27t3b1VWs1wq45imTJnCtmzZUoW1JFWp1rawSpOfn4+rV6/C39+fS+Pz+fD390dsbKwKa/bxlDmm1NRUbrbX9PR0xMTEwNXVVSX1VYYyx5Sdnc0dU1ZWFk6dOgU3NzeV1JdUnFpO4Kdqb968gUgkgrm5uVS6ubk57t27x7329/fHjRs3kJ2dDRsbG+zduxc+Pj7VXV2lKHNMjx8/xtixY7nO9q+//hrNmzdXRXWVoswxpaamIjg4GEDRVdAxY8agdevW1V5XUjkoYFXAyZMnVV2FSuXt7Y34+HhVV6NSNWzYEDdu3FB1NUgloVNCOUxNTSEQCGQ6nFNTU2FhYaGiWlUMHROpCShgySEUCuHl5YXo6GguTSwWIzo6Wm1P+cpCx0Rqglp7SpiVlYXExETudVJSEuLj42FiYgI7OzuEhYUhNDQUrVq1gre3N1auXIns7GyMGDFChbUuHR2TZhwTqQBVX6ZUldOnTzMAMktoaCiXZ9WqVczOzo4JhULm7e3NLl68qLoKK4GOSTOOiXw8upeQEKIxqA+LEKIxKGARQjQGBSxCiMaggEUI0RgUsAghGoMCFiFEY1DAIoRoDApYhBCNQQFLAzk4OGDlypWqrkalqWnHQ6oOBSw18/TpU4wcORJWVlYQCoWwt7fHpEmT8PbtW1VXjRCVq7U3P6ujR48ewcfHBy4uLti9ezccHR3x77//YurUqTh69CguXrwIExOTaq+XSCQCj8cDn0+/b8Xl5uYiPz9f4XqhUAhdXd1qrFHNR59ANTJ+/HgIhUJERUWhY8eOsLOzQ2BgIE6ePInnz5/j+++/5/JmZmZi0KBB0NfXh7W1tdRDGhhjmDt3Luzs7KCjowMrKytMnDiRW5+Xl4cpU6bA2toa+vr6aNOmDc6cOcOt37p1K+rWrYvDhw+jadOm0NHRwaZNm6Crq4u0tDSpOk+aNAmdO3fmXp87dw6+vr7Q09ODra0tJk6ciOzsbG79q1evEBQUBD09PTg6OmrsU2xyc3PhaG8AY2NjhYujoyNyc3NVXdWaRcU3X5P/9/btW8bj8djChQvlrh8zZgyrV68eE4vFzN7enhkaGrLw8HCWkJDAfvnlFyYQCFhUVBRjjLG9e/cyIyMjduTIEfb48WN26dIltmHDBq6s0aNHs7Zt27KYmBiWmJjIlixZwnR0dNj9+/cZY4xt2bKFaWtrs7Zt27Lz58+ze/fusaysLGZubs42bdrElVNYWCiVlpiYyPT19dmKFSvY/fv32fnz55mnpycbPnw4t01gYCBzd3dnsbGx7MqVK6xt27ZMT0+PrVixorLf0iqVnp7OALD7V2zYywQ7meX+FRsGgKWnp6u6qjUKBSw1cfHiRblPhZFYvnw5A8BSU1OZvb096969u9T6kJAQFhgYyBhjbNmyZczFxYXl5+fLlPP48WMmEAjY8+fPpdK7dOnCZs6cyRgrClgAWHx8vFSeSZMmsc6dO3Ovjx8/znR0dNi7d+8YY4yNGjWKjR07Vmqbf/75h/H5fJaTk8MSEhIYABYXF8etv3v3LgOgsQEr6Z4le/PcWmZJumdJAasK0CmhmmFKzvZTckZNHx8f3L17FwDQv39/5OTkoGHDhhgzZgwiIiJQWFgIALh16xZEIhFcXFxgYGDALWfPnsXDhw+58oRCIVq0aCG1j8GDB+PMmTN48eIFAGDnzp3o2bMn6tatCwC4ceMGtm7dKlVuQEAAxGIxkpKScPfuXWhpacHLy4srs3Hjxtz2mug9EylcqltwcDDq1auHfv36Vfu+qwsFLDXRqFEj8Hg8LuiUdPfuXdSrVw8NGjQosyxbW1skJCTg119/hZ6eHr766it06NABBQUFyMrKgkAgwNWrVxEfH88td+/exf/+9z+uDD09PfB4PKlyW7duDScnJ/zxxx/IyclBREQEBg8ezK3PysrCuHHjpMq9ceMGHjx4ACcnp498Z9RbHuMhV86Sx3hlb1zJJk2ahG3btlX7fqsTXSVUE/Xr10fXrl3x66+/YvLkydDT0+PWvXz5Ejt37sSwYcO4IHLx4kWp7S9evIgmTZpwr/X09BAUFISgoCCMHz8ejRs3xq1bt+Dp6QmRSIRXr17B19e33PUcPHgwdu7cCRsbG/D5fPTs2ZNb17JlS9y5cweNGjWSu23jxo1RWFiIq1evco/aSkhIkOnI1yTvxQLwxbK/++/F1R+wOnXqJHXxpCaiFpYaWb16NfLy8hAQEICYmBg8ffoUx44dQ9euXWFtbY0FCxZwec+fP4/Fixfj/v37WLNmDfbu3YtJkyYBKLrKt3nzZty+fRuPHj3Cjh07oKenB3t7e7i4uGDw4MEYNmwYDhw4gKSkJMTFxSE8PBx///13mXUcPHgwrl27hgULFqBfv37Q0dHh1k2fPh0XLlzAhAkTEB8fjwcPHuDQoUOYMGECAMDV1RXdu3fHuHHjcOnSJVy9ehWjR4+WCs6aJo9pIVfOksfK1xaIiYlBUFAQrKyswOPxcPDgQZk8a9asgYODA3R1ddGmTRvExcVV0lFoDgpYasTZ2RlXrlxBw4YNMWDAADg5OWHs2LHw8/NDbGys1Bisb7/9FleuXIGnpyfmz5+P5cuXIyAgAABQt25dbNy4Ee3atUOLFi1w8uRJREZGon79+gCALVu2YNiwYfj222/h6uqKTz/9FJcvX4adnV2ZdWzUqBG8vb1x8+ZNqdNBAGjRogXOnj2L+/fvw9fXF56enpg9ezasrKy4PFu2bIGVlRU6duyIzz77DGPHjoWZmVllvH0qkc20kc2Echbt8pWTnQ13d3ep4SnF7dmzB2FhYZgzZw6uXbsGd3d3BAQE4NWrV5VxGBqD5nQn5CNkZGTA2NgYe280Rh1Dgcz695ki9He/h6dPn8LIyIhL19HRkWqVysPj8RAREYFPP/2US2vTpg1at26N1atXAyh6nJmtrS2+/vprzJgxg8t35swZrF69Gvv27avgEaonamERUgHZYh2FC1B0AaT4YNLw8PBy7yM/Px9Xr16Fv78/l8bn8+Hv74/Y2NhKOxZNQJ3uhFRAHtMCXyz7NZJcJZTXwiqvN2/eQCQSwdzcXCrd3Nwc9+7d4177+/vjxo0byM7Oho2NDfbu3VvjHihLAYuQCngv1gGTE7ByxEWniUZGRlIBqyqdPHmyWvajShSwCKmAHAUBK1cs26/1sUxNTSEQCJCamiqVnpqaCgsLi0rbjyagPixCKiCXCeQOa8hllRewhEIhvLy8EB0dzaWJxWJER0dX6ynfX3/9BVdXVzg7O2PTpk3Vtt/iqIVFSAXkiHQgFskOYcgTla8tkJWVhcTERO51UlIS4uPjYWJiAjs7O4SFhSE0NBStWrWCt7c3Vq5ciezsbIwYMaLCx6CMwsJChIWF4fTp0zA2NoaXlxeCg4O5oTLVhQIWIRWQJ9YC5HW6i8s3WujKlSvw8/PjXoeFhQEAQkNDsXXrVoSEhOD169eYPXs2Xr58CQ8PDxw7dkymI76qxMXFwc3NDdbW1gCAwMBAREVFYdCgQdWyfwk6JSSkAnJFQuTIWXJFQqW2z8zMxDfffIPQ0FDo6urCx8cHcXFxYEUzqWDr1q1c3gkTJuDx48fIy8vDpUuX0KZNG6X2ocwoeqD0kfQvXrzgghUAWFtb4/nz50rtvzJRwCKkAvLEAuSJteQsyvVhjR49GidOnMD27dtx69YtdOvWDf7+/gqDwfnz51FQUCCTfufOHZlOeYmyRtEDmjOSngIWIRWQI9ZGjkjOIi771pycnBzs378fixcvRocOHdCoUSPMnTsXjRo1wtq1a2Xyi8VijB8/Hp9//jlEog/T1yQkJKBz5874/fff5e4nMDAQ8+fPR3BwsMK6LF++HGPGjMGIESPQtGlTrFu3DnXq1MFvv/0GALCyspIKos+fP5e65aq6UMAipAIKxFrIl7MU/H+/VuvWrdG0aVO5rZvCwkKIRCKZed/19PRw7tw5mfx8Ph9HjhzB9evXMWzYMIjFYjx8+BCdO3fGp59+imnTpn3UMSgzkt7b2xu3b9/G8+fPkZWVhaNHj3L3rlYn6nQnpAJyRVoQiWS/RgUiMQDg8uXLCgeOGhoawsfHBz/99BOaNGkCc3Nz7N69G7GxsQqn6LGyssKpU6fg6+uLzz//HLGxsfD395fbIlOWMiPptbS0sGzZMvj5+UEsFmPatGnVfoUQoIBFSIXkiQRyA1ahSLkZR7dv346RI0fC2toaAoEALVu2xKBBg3D16lWF29jZ2WH79u3o2LEjGjZsiM2bN8tMtlgVevfujd69e1f5fkpDp4SEVEC+SKBwUYaTkxPOnj2LrKwsPH36FHFxcSgoKEDDhg0VbpOamoqxY8ciKCgI79+/x+TJkyt0DJo0kp4CFiEVkC/SUriUh76+PiwtLfHu3TscP34cffr0kZvvzZs36NKlC5o0aYIDBw4gOjoae/bswZQpUz76GJQdSU8j3QnRcIUiAZic1pRIyRbW8ePHwRiDq6srEhMTMXXqVDRu3FjuCHaxWIzAwEDY29tjz5490NLSQtOmTXHixAl07twZ1tbWcltbZY2iB1DmSHoa6U5IDZAvFkAgL2ApOQ4rPT0dM2fOxLNnz2BiYoK+fftiwYIF0NaWHRbB5/OxcOFC+Pr6Qij8MDDV3d0dJ0+eVPiAkrJG0QMocyQ9jXQnpAYQifgKF2X07dsXn3/+OaysrJCWloajR4/il19+Ufi4t65du8oMgwAAT09P2NjYyN2Gz+ejV69esLS0BABERETIjKIHimY6lSyS1xI00p2QGqCgkI+CQoGcRbmv1qJFi7B27VqsXr0ad+/exaJFi7B48WKsWrVKbn4a6U4I+WhiMU/hoowLFy6gT58+6NmzJxwcHNCvXz9069ZN7hNxaKQ7BSxCKkRcKIBIziIuLOrDKm2kOwC0bdsW0dHRuH//PoCip2efO3cOgYGBMnlppDt1uhNSIWIRDyiUbU2JRUVppY10B4AZM2YgIyMDjRs3hkAggEgkwoIFC2QeoSZBI90JIR+Niflgcp78LC9Nnj///BM7d+7Erl274Obmhvj4eHzzzTewsrJCaGio3G1q80h3tQpYjDG8evUK79+/V3iVhFQPPp8PY2Nj1KtXT9VVUWuskAcmp4UlL02eqVOnYsaMGRg4cCAAoHnz5nj8+DHCw8MVBqziI90vX76MyZMnK+ykV4YmjXRXm4AVGxuL2NhYZGRkqLoqpBgLCwt07doVTk5Oqq6KWuKJeOCJZIOTvDR53r9/Dz5fujUmEAggFovl5i8+0n3v3r24f/8+OnXqBB0dHSxdurT8BwDpke6Sh7dKRrpPmDDho8qsKmoRsM6dO4eTJ0+iZcuWaN68OYyNjauliUsUE4vFePXqFS5duoTdu3djyJAhcHBwUHW11E+h/D4suWlyBAUFYcGCBbCzs4ObmxuuX7+O5cuXY+TIkTJ5VTnSXW0wFSsoKGDh4eHsyJEjqq4KkaOwsJCtW7eO7dixQ9VVUSvp6ekMALNbPJ85rFoqs9gtns8AsPT09FLLycjIYJMmTWJ2dnZMV1eXNWzYkH3//fcsLy9Pbv6oqCiWk5Mjk37t2jX29OlTuducPn2aAZBZQkNDpfKtWrWK2dnZMaFQyLy9vdnFixel1kdGRjIXFxfWqFEjtnHjxlKPq6rwGFNtZ9GjR4+wbds2fPnll9U2oT4pn4sXLyIqKgrfffcdtLTUolGuchkZGTA2Nob9zwvAlzPyXJybi8czvkd6enq1PUi1KhUWFqJp06ZS9xJeuHCh2q8UqnwcVnZ2NgBQ564aMzExgVgsRk5OjqqronZ4IsVLTVL8XkIDAwPuXsLqpvKAJWnglex4JOpD8rdRcWNcLfEKeQoXZTg4OEjdwydZxo8fX2l1pKfmVJPhw4dzf0BtbW04Ojpi2rRpyM3N5fIkJydj1KhRcHR0hJ6eHpycnDBnzhzk5+dXSh3OnDmDli1bQkdHB40aNZK5YbSk3NxcDB8+HM2bN4eWlhZ31aW4c+fOoV27dqhfvz709PTQuHFjrFixolLqS6oXrxDgy1l4hcptf/nyZaSkpHDLiRMnAAD9+/eXm5/uJVRz3bt3R0pKCh49eoQVK1Zg/fr1mDNnDrf+3r17EIvFWL9+Pf7991+sWLEC69atw3fffVfhfSclJaFnz57w8/PjBvSNHj0ax48fV7iNSCSCnp4eJk6cKHWrQ3H6+vqYMGECYmJicPfuXcyaNQuzZs3Chg0bKlxnUr0qekrYoEEDWFhYcMtff/0FJycndOzYUSYv3UuoJsMaSqOjo8MNXrO1tYW/vz9OnDiBRYsWASgKaN27d+fyN2zYEAkJCVi7du1Hj0uRWLduHRwdHbFs2TIAQJMmTXDu3DmsWLFC4X1U+vr63G0S58+fR1pamkweT09PeHp6cq8dHBxw4MAB/PPPPxg7dmyF6kyqF08sPzjx5A+jKlV+fj527NiBsLAwucN6JPcSdujQAcOGDcP27duRlJRUafcSzpw5U2pfiu4lNDY2xtGjR/HDDz981P4qQu1bWMXdvn0bFy5ckJq8TJ709HSYmJhIpfF4vDJP50qS3KdVXEBAAPdHrCzXr1/HhQsX5P6qEvVWVgurrJufizt48CDS0tIwfPhwhXkk9xKeO3cOn3/+OTp37lyl9xK+fPkSgPS9hB4eHvj222/pXkJ5/vrrLxgYGKCwsBB5eXng8/lYvXq1wvyJiYlYtWqVTOvK1dUVxsbG5dr3y5cv5f4RMzIykJOTAz09vXKVV5KNjQ1ev36NwsJCzJ07F6NHj65QeaT68QsBvpzJRdn/92GVdfNzcZs3b0ZgYGCZp1q1+V5CtW9hSfqPLl26hNDQUIwYMQJ9+/aVm/f58+fo3r07+vfvjzFjxkitu3fvXqnn8AYGBtzyxRdfVOoxKPLPP//gypUrWLduHVauXIndu3dXy35J5amsYQ2PHz/GyZMnlfrRqs1PzVH7Fpa+vj73UMnffvsN7u7u2Lx5M0aNGiWV78WLF/Dz80Pbtm0/qvM6Pj6e+7/kF9HCwkLuH9HIyKjCrSsAcHR0BFB0w2tqairmzp1b7XNkk4rhFQI8OS0sZa8SSmzZsgVmZmbo2bNnqfnoXkINwufz8d133yEsLAyff/45FzSeP38OPz8/eHl5YcuWLR81pkvek3Z9fHxw5MgRqbQTJ05IPfqosojFYuTl5VV6uaRq8cVFS0msHJ3uYrEYW7ZsQWhoaKl3EtC9hBpwSlhS//79IRAIuE7M58+fo1OnTrCzs8PSpUvx+vVrvHz5kusslGjcuDEiIiLKta8vvvgCjx49wrRp03Dv3j38+uuv+PPPP6U+FKtXr0aXLl2ktrtz5w7i4+Px33//IT09HfHx8VItuDVr1iAyMhIPHjzAgwcPsHnzZixduhRDhgwp57tBVI0n+v9WVsmlHKeEJ0+exJMnT+Te8Fyc5Kk5+/fvl/vUHEVjt65cuSJ1ZTosLAyenp6YPXs2lyckJARLly7F7Nmz4eHhgfj4eKmn5qgLjWphAUVXKyZMmIDFixfjyy+/xIkTJ5CYmIjExESZp4YUH5mdkJCA9PT0cu3L0dERf//9NyZPnoz//e9/sLGxwaZNm6SGNLx58wYPHz6U2q5Hjx54/Pgx91ryQZHURywWY+bMmUhKSoKWlhacnJywaNEijBs3rlz1I6rHLwTkNehZOU4Ju3XrpvRdBF27dpWbXnyYTEmdOnVSqvwJEyao3SlgSSq/+fnmzZs4cOAAZs2aRTfWqqnExERufFBNuJG3MkhufnYfthACoezNz6L8XNzY9l2NuflZXWjcKSEh6oRfyBQuNQ09qp4QDccXFS0lsRo2W4O6PKqeWliEVABPJL91xRPVrBYWTS9DSA0g9wphOWZrAIqudA8ZMoSbvaN58+a4cuVKpdWRppchhACoeB/Wu3fv0K5dO2hra+Po0aO4c+cOli1bpnBCS5peRo0pMx8WAC7PxYsXpdLz8vJQv3598Hg8nDlzhks/e/YsOnfuDBMTE9SpUwfOzs4IDQ3l5tA6c+aM3EnVeDyezPiu0vz777/o27cvN0nbypUrZfKsXbsWLVq0gJGREYyMjODj44OjR49K5dmwYQM6deoEIyMj8Hg8uTNAyKPML/fdu3fRu3dvGBsbQ19fH61bt8aTJ0+UPsbaji9iChdlLFq0CLa2ttiyZQu8vb3h6OiIbt26yX1KEU0vo+YBCyh7PiwJyR+9uIiICBgYGEil3blzB927d0erVq0QExODW7duYdWqVRAKhVIfAqDog1B8crWUlBSYmZkpXff379+jYcOG+PnnnxXek2VjY4Off/4ZV69exZUrV9C5c2f06dMH//77r1Q53bt3L9ccX8r8cj98+BDt27dH48aNcebMGdy8eRM//PADdOXMUU7k4xUwhQtQ9mwNhw8fRqtWrdC/f3+YmZnB09MTGzdulJuXHlUP1T8158aNG2zOnDmsoKBAZl1oaCjr06ePVNpnn33GPD09pdIAsFmzZjEjIyP2/v17Lr1r167shx9+YADY6dOnGWOMrVixgjk4OJRaJ8lTRt69e/dRxySPvb09W7FihVJ569WrxzZt2lShek2fPp21b9++1DwhISFsyJAhZZb14MEDNmfOnDKfAFObSJ6a095vLuvU9WeZpb3fXKWemqOjo8N0dHTYzJkz2bVr19j69euZrq4u27p1q8JtHj9+zOzs7FhISAizs7Njw4YNY2KxWKl6A2ARERFSac+fP2cA2IULF6TSp06dyry9vbnXhw4dYs7OzszJyYmtX79eqf1VNrVvYRVX2nxYXl5ecHBwwP79+wEAT548QUxMDIYOHSqVz8LCAikpKYiJialQXSSnjcnJyRUqpziRSIQ//vgD2dnZFb5fsaxfbrFYjL///hsuLi4ICAiAmZkZ2rRpo7BDlsjHLxQrXJQhFovRsmVLLFy4EJ6enhg7dizGjBmDdevWKdxGMr2M5H7C6pxe5v79+0hMTFTZRJNqH7Ak82Hp6uqiefPmePXqFaZOnSo378iRI7lz7q1bt6JHjx5o0KCBVJ7+/ftj0KBB6NixIywtLREcHIzVq1fLfeK0jY2N1LQzbm5u3Lo6derA1dUV2traFT7GW7duwcDAADo6Ovjiiy8QERGBpk2bVqjMR48eYe3atXB2dsbx48fx5ZdfYuLEiVw/x6tXr5CVlYWff/4Z3bt3R1RUFIKDg/HZZ5/h7NmzFT6m2oJXKFa4KMPS0lLmb92kSZNS+xFpehk15ufnh7Vr1yI7OxsrVqyAlpaWwvmwhgwZghkzZuDRo0fYunUrfvnlF5k8AoEAW7Zswfz583Hq1ClcunQJCxcuxKJFixAXFwdLS0su7z///ANDQ0PudfHg5O3tjXv37lXKMbq6uiI+Ph7p6enYt28fQkNDcfbs2QoFLbFYjFatWmHhwoUAiu41u337NtatW4fQ0FDuUeh9+vThPvAeHh64cOEC1q1bR7OfKolXyMCDbAc7T8mrhO3atUNCQoJU2v3792Fvby83f22fXkbtW1iS+bDc3d3x22+/4dKlS9i8ebPcvPXr10evXr0watQo5ObmIjAwUGG51tbWGDp0KFavXo1///0Xubm5Ms1wR0dHNGrUiFsUfYgqSigUolGjRvDy8kJ4eDjc3d3xv//9r0JllvXLbWpqyk1PoigPKRu/UAR+gZylULmh7pMnT8bFixexcOFCJCYmYteuXdiwYYPcx3yVNr3Mli1bFD55KSsrS2rGEMn0MsX/zmFhYdi4cSN+//133L17F19++aVaTi+j9i2s4hTNh1XcyJEj0aNHD0yfPh0CgZyZ1eSoV68eLC0tuYe6qlplzI1V1i+3UChE69aty/XrTuQoZPInv1JyWEPr1q0RERGBmTNnYt68eXB0dMTKlSsxePBgmbyS6WV8fX3lTi9TsvtD4sqVK/Dz8+Neh4WFAQBCQ0O55xyEhITg9evXmD17Nl6+fAkPDw+aXqYy9O/fH1OnTsWaNWswZcoUmfXdu3fH69evFd4hv379esTHxyM4OBhOTk7Izc3Ftm3b8O+//2LVqlVSeV+9eiUz5qt+/frQ1tZGXFwchg0bhujoaKkRwMXl5+fjzp073P+fP3+O+Ph4GBgYcBMGzpw5E4GBgbCzs0NmZiZ27dqFM2fOSD1KTDK/l2QStlu3bsHQ0BB2dnbcwza6dOmC4OBgrgk/efJktG3bFgsXLsSAAQMQFxeHDRs2SM3GOnXqVISEhKBDhw7w8/PDsWPHEBkZKTVmjZSOV1gIHpP9YeSJlB/q3qtXL/Tq1UupvLV9ehm1PyUsqfh8WPJaRDweD6ampgqfrOPt7Y2srCx88cUXcHNzQ8eOHXHx4kUcPHhQpt/G1dUVlpaWUsvVq1cBFI2NSkhIkDvqWOLFixfcxGkpKSlYunQpPD09pebtfvXqFYYNGwZXV1d06dIFly9fxvHjx6U+mOvWrYOnpyc3T32HDh3g6emJw4cPc3kePnyIN2/ecK8lv9y7d+9Gs2bN8NNPP8n8cgcHB2PdunVYvHgxmjdvjk2bNmH//v1o3769wmMi0ira6U7Kh+bDImWi+bBkSebD8nf8Glp8HZn1heI8nExaRfNhVTKNa2ERolbyCxQvNQzNh0WIphOJ5U9+Ja5Zp4Q0HxYhNUEtaWHRfFiE1ABMVAhWKGdR8irh3LlzZWYEady4caXWkebDIoQAAFh+vsJFWW5ublIzgpw7d05hXpoPS41J5sOS9+j48ePHg8fjYfjw4TLrYmNjIRAI5D5FNzk5WeFcVyXn01KmbiWX4vcbfuyvZ1paGsaPHw9LS0vo6OjAxcVF6oGumZmZ+Oabb2Bvbw89PT20bdsWly9fVrrupPIUFOSiID9HdinILXvj/6elpQULCwtuMTU1lZuP5sNS84AFFM1z9ccffyAnJ4dLy83Nxa5du7in1pa0efNmfP3114iJicGLFy/k5jl58qTMXFdeXl5K1+t///uf1LZPnz6FiYmJzMMsy/PrCRQNMO3atSuSk5Oxb98+JCQkYOPGjVLN8dGjR+PEiRPYvn07bt26hW7dusHf318lTfTaSigUwsLCAv8UHsLpwn0yyz+Fh2BkZARvb+9S58MCgAcPHsDKygoNGzbE4MGDFd4aRfNhacBVwpYtW+Lhw4c4cOAAN+jxwIEDsLOzg6Ojo0z+rKws7NmzB1euXMHLly+xdetWuRPf1a9fv0J3ohsbG8PY2Jh7ffDgQbx7907m3ivJr6eyfvvtN/z333+4cOECd7O1g4MDtz4nJwf79+/HoUOH0KFDBwBFLbnIyEisXbsW8+fP/+hjIsrT1dVFUlISN0utPEKhsMzJENu0aYOtW7fC1dUVKSkp+PHHH+Hr64vbt29L3XgvYWVlhVOnTsHX1xeff/45YmNj4e/vj7Vr1370sbx58wYikUjmNhxzc3PuBn8tLS0sW7YMfn5+EIvFmDZtWrVfIQQ0oIUFFN0fWHw20d9++03hTZl//vknGjduDFdXVwwZMgS//fab0k/VlZCcNpbnFpXNmzfD399f5j48ZX89JQ4fPgwfHx+MHz8e5ubmaNasGRYuXMidAhQWFkIkEsl8EfT09MpsvZHKpaury01tLW9RZubWwMBA9O/fHy1atEBAQACOHDmCtLQ0/Pnnnwq3ofmw1NyQIUNw7tw5PH78GI8fP8b58+cxZMgQuXk3b97MrevevTvS09Plzu/Utm1bqbmuik+lrK2tDVdXV9SpU0ep+r148QJHjx6VuuUG+PDreezYMaxduxZJSUnw9fVFZmamwrIePXqEffv2QSQS4ciRI/jhhx+wbNkyruVkaGgIHx8f/PTTT3jx4gVEIhF27NiB2NhYpKSkKFVfor7q1q0LFxcX7r5ReWg+LDXXoEED9OzZE1u3bgVjDD179pTbMZmQkIC4uDhEREQAKGrGhoSEYPPmzejUqZNU3j179qBJkyZy92dtbV2uua5+//131K1bl5tLSKL49DYtWrRAmzZtYG9vjz///BOjRo2SW5ZYLIaZmRk2bNgAgUAALy8vPH/+HEuWLOHmst++fTtGjhwJa2trCAQCtGzZEoMGDeLucySaKysrCw8fPpSZKVeits+HpREBCyg6LZS8eYo6MDdv3ozCwkKpqxeMMejo6GD16tVSfU62trbcjAkVwRjDb7/9hqFDhyq84VpCmV9PS0tLaGtrS02N06RJE7x8+RL5+fkQCoVwcnLC2bNnkZ2djYyMDFhaWiIkJAQNGzas8PGQ6jVlyhQEBQXB3t4eL168wJw5cyAQCDBo0CCZvKXNh9W5c2dYW1vLbW1lZWVJfeYk82GZmJhwF67CwsIQGhqKVq1awdvbGytXrqT5sCqie/fuyM/PB4/Hk3t1orCwENu2bcOyZcvQrVs3qXWffvopdu/eLXd4REWdPXsWiYmJCltMxZX16wkUzWO1a9cuiMVi8PlFZ+z379+HpaWlTEDU19eHvr4+3r17h+PHj2Px4sUVOxhS7Z49e4ZBgwbh7du3aNCgAdq3b4+LFy/KnduK5sOCZj01Jz09XeopJH369GGhoaGMMcYiIiKYUChkaWlpMuVMmzaNtWrVijHGWFJSEgPATp48yVJSUqSWnJwcxhhjz549Y66uruzSpUtl1n/IkCGsTZs2ctd9++237MyZMywpKYmdP3+e+fv7M1NTU/bq1Ssuz9ChQ9mMGTO410+ePGGGhoZswoQJLCEhgf3111/MzMyMzZ8/n8tz7NgxdvToUfbo0SMWFRXF3N3dWZs2bVh+fn6Z9f0Y9NQcoi40poUFoNRpOiRX6Yqf9kn07dsXixcvxs2bN7kyio85kdi9ezcGDhyIgoICJCQk4P3796XWJz09Hfv371c4nbEyv55PnjzhWlJA0anq8ePHMXnyZLRo0QLW1taYNGkSpk+fLrXfmTNn4tmzZzAxMUHfvn2xYMGCSnkgBiHqjObDImWi+bCIutCIYQ2EEAJQwCKEaBAKWIQQjUEBixCiMWpFwNq6dSvq1q2r6moQQipI4wOWg4MDN9eUQCCAlZUVRo0ahXfv3nF5QkJCcP/+/WqvW2kzOJbljz/+AI/Hk7ndBwDu3r2L3r17w9jYGPr6+mjdujU9rZnUChofsABg3rx5SElJwZMnT7Bz507ExMRg4sSJ3Ho9PT2YmZlVa50qMoNjcnIypkyZAl9fX5l1Dx8+RPv27dG4cWOcOXMGN2/exA8//KDUzACEaDq1DlidOnXCxIkTMW3aNJiYmMDCwgJz586VyWdoaAgLCwtYW1vDz88PoaGhuHbtGre+5Cnhw4cP0adPH5ibm8PAwACtW7fGyZMnpcr89ddf4ezsDF1dXZibm6Nfv37lqntZMzgqIhKJMHjwYPz4449y7w38/vvv0aNHDyxevBienp5wcnJC7969qz0gE6IKah2wgKKZEPT19XHp0iUsXrwY8+bNw4kTJxTmf/78OSIjI9GmTRuFebKystCjRw9ER0fj+vXr6N69O4KCgrjTqitXrmDixImYN28eEhIScOzYMW6yPKAoAJY2/5AyMzgqMm/ePJiZmcm9N1EsFuPvv/+Gi4sLAgICYGZmhjZt2ih8qAAhNY3aB6wWLVpgzpw5cHZ2xrBhw9CqVStER0dL5Zk+fToMDAygp6cHGxsb8Hg8LF++XGGZ7u7uGDduHJo1awZnZ2f89NNPcHJy4h79/uTJE+jr66NXr16wt7eHp6en1CmmsbExXF1dFZZf2gyOL1++VLjduXPnsHnzZmzcuFHu+levXiErKws///wzunfvjqioKAQHB+Ozzz6TO+cXITWNRgSs4iwtLWX6gaZOnYr4+HjcvHmTC2Y9e/aUmqi/uKysLEyZMgVNmjRB3bp1YWBggLt373ItrK5du8Le3h4NGzbE0KFDsXPnTqn7CoODg8s1X5YyMjMzMXToUGzcuLHUhxAAQJ8+fTB58mR4eHhgxowZ6NWrF9atW1ep9SFEHan9zXslb+jl8XjcF1fC1NSUm9vK2dkZK1euhI+PD06fPi33JucpU6bgxIkTWLp0KRo1agQ9PT3069ePm5/b0NAQ165dw5kzZxAVFYXZs2dj7ty5uHz5slLDIz5mBseHDx8iOTkZQUFBXJrkOLW0tJCQkABbW1tuDqTimjRpQtMjk1pB7VtYH0My+V3xJ+0Ud/78eQwfPhzBwcFo3rw5LCwskJycLJVHS0sL/v7+3CwPycnJOHXqlFL7Lz6Do4RkBkcfHx+52zRu3Bi3bt1CfHw8t/Tu3Rt+fn6Ij4+Hra0thEIhWrdujYSEBKlt79+/LzOXPCE1kdq3sJSRmZmJly9fgjGGp0+fYtq0aWjQoAHatm0rN7+zszMOHDiAoKAg8Hg8/PDDD1Kttr/++guPHj1Chw4dUK9ePRw5cgRisZjrt4qIiMDMmTNLPS1UZgbHYcOGwdraGuHh4dDV1UWzZs2kypC05oqnT506FSEhIejQoQP8/Pxw7NgxREZGluuBGYRoqhoRsGbPno3Zs2cDKJr/vXXr1oiKilL4GKLly5dj5MiRaNu2LUxNTTF9+nRkZGRw6+vWrYsDBw5g7ty5yM3NhbOzM3bv3s09JDU9PV2mlVOSMjM4lpwLSxnBwcFYt24dwsPDMXHiRLi6umL//v1o3759ucohRBPRfFikTDQfFlEXNbIPixBSM1HAIoRojP8Do3uyagf9zHoAAAAASUVORK5CYII=' width=300.0/>\n",
       "            </div>\n",
       "        "
      ],
      "text/plain": [
       "Canvas(toolbar=Toolbar(toolitems=[('Home', 'Reset original view', 'home', 'home'), ('Back', 'Back to previous …"
      ]
     },
     "metadata": {},
     "output_type": "display_data"
    }
   ],
   "source": [
    "from evaluate import mosaic_scatter\n",
    "\n",
    "plt.close('all')\n",
    "fig = mosaic_scatter(cfg, results, bulk_metrics, str(run_dir))\n",
    "\n",
    "plt.show()\n",
    "# fig.savefig(fig_dir / f\"{cfg['data_subset']}_density_scatter.png\",  dpi=300)\n"
   ]
  },
  {
   "cell_type": "code",
   "execution_count": 7,
   "id": "968bd731-4a60-46ca-af92-6df8dfd648b8",
   "metadata": {},
   "outputs": [
    {
     "data": {
      "application/vnd.jupyter.widget-view+json": {
       "model_id": "3bc4bc4ae6b34f6a8f77831e96064295",
       "version_major": 2,
       "version_minor": 0
      },
      "image/png": "[encoded data removed]",
      "text/html": [
       "\n",
       "            <div style=\"display: inline-block;\">\n",
       "                <div class=\"jupyter-widgets widget-label\" style=\"text-align: center;\">\n",
       "                    Figure\n",
       "                </div>\n",
       "                <img src='data:image/png;base64,iVBORw0KGgoAAAANSUhEUgAAA4QAAAGQCAYAAAD2lq6fAAAAOXRFWHRTb2Z0d2FyZQBNYXRwbG90bGliIHZlcnNpb24zLjkuMiwgaHR0cHM6Ly9tYXRwbG90bGliLm9yZy8hTgPZAAAACXBIWXMAAA9hAAAPYQGoP6dpAACPo0lEQVR4nOzdeVhU1f8H8PewDZsgxo7K6r6hKITmjqLhVhq4r7mllaGplEqmJi6ZpeaWW+ZeaqWmGYqmoSRqioqKYigJroAgAsL5/eFv5us4AwwwMAPzfj3PPDrnnnvv584wn7nnzrnnSIQQAkRERERERKR3DLQdABEREREREWkHG4RERERERER6ig1CIiIiIiIiPcUGIRERERERkZ5ig5CIiIiIiEhPsUFIRERERESkp9ggJCIiIiIi0lNsEBIREREREekpNgiJiEirPvvsM0gkEjx48EDl8saNG6NDhw7y5/fv38eHH36I+vXrw8zMDPb29vD19cW0adOQmZmptP6ff/6J4OBguLi4wMTEBNbW1vDz88Pnn3+O1NRUhboFBQX4/vvv4efnhxo1aqBatWqoW7cuhg4dilOnTpX42PLy8vDNN9+gVatWqFatGiwtLdGqVSssW7YMz58/L/H2iIiINM1I2wEQERGp69GjR2jZsiUyMjIwcuRI1K9fHw8fPsSFCxewcuVKjB8/HpaWlvL6s2bNwpw5c+Dh4YHhw4fDw8MDz549Q2xsLL788kts2rQJN27ckNf/4IMPsGLFCvTu3RuDBg2CkZERrl69it9++w0eHh54/fXX1Y41KysLQUFBOHbsGHr06IHhw4fDwMAABw8exAcffIC9e/fi119/hbm5uUZfIyIiopJgg5CIiCqNdevWISkpCSdPnkTr1q0VlmVkZMDExET+fMeOHZgzZw6Cg4OxefNmhWUA8NVXX+Grr76SP09NTcW3336L0aNHY82aNQp1ly5divv375co1tDQUBw7dgzLli3DxIkT5eXjx4/HihUrMHHiRHz88cdYsWJFibZLRESkSewySkRElcaNGzdgaGio8pc6KysrmJqayp/PmjULtra2WLdunVJjEACsra3x2WefyZ8nJiZCCIE2bdoo1ZVIJLC3t1c7zjt37mDdunXo1KmTQmNQZsKECejYsSPWrFmD5ORktbdLRESkaWwQEhFRpeHq6or8/Hxs3ry5yHrXrl3DtWvX0KdPH4UupMVtGwB27dqFp0+flinO3377Dfn5+Rg6dGihdYYOHYrnz5/j4MGDZdoXERFRWbBBSERElcbIkSNhZ2eH4cOHo0GDBhg/fjy2bduG9PR0hXrx8fEAXgxI8zIhBB48eKDwkA3u4uTkhKFDh2L//v2oWbMm3n77bXz55ZfybZXE5cuXAQDNmjUrtI5smawuERGRNrBBSERElYaDgwP++ecfjBs3Do8fP8aqVaswcOBA2NvbY86cORBCAHhxPyEApV8H09PTYWdnp/A4f/68fPmGDRuwfPlyuLu7Y8+ePZgyZQoaNGiAzp07l6hr55MnTwAA1apVK7SObJmsLhERkTawQUhERDpPIpHI/+/k5ISVK1fi7t27uHr1Kr755hvY2dlh1qxZWLduHYD/NbZenYbC0tIShw8fxuHDh/Hxxx8r7cfAwAATJkxAbGwsHjx4gJ9//hndu3fHkSNH0L9/f7XjVaexJ1tWknsTiYiINI0NQiIi0irZQDDZ2dkqlz99+lRhsBgZiUSCunXr4v3338fx48dhYGCALVu2AADq168PAIiLi1NYx8jICAEBAQgICEDDhg2LjOu1115Dr169cODAAbRv3x4nTpzAv//+q9YxybZ94cKFQuvIlnl4eKi1TSIiovLABiEREWmVbDCXq1evKi17+vQpbt++La9TGA8PD9jY2ODu3bsAgHr16qFOnTrYu3cvsrKyyhxjy5YtAUC+/eJ0794dhoaGRQ5+8/3338PExAS9e/cuc3xERESlxQYhERFpVefOnWFiYoKVK1eioKBAYdmaNWvw/PlzdO/eHQBw+vRplQ28mJgYPHz4EPXq1ZOXffbZZ3jw4AFGjx6NvLw8pXVk9xvKpKSkqBzgJTc3F5GRkTAwMICXl5dax1SzZk2MGjUKf/zxB1auXKm0fNWqVThy5AjGjh2L1157Ta1tEhERlQeJePUbkYiIqILNmzcPM2bMQJs2bdCrVy+Ym5vjr7/+wrZt29C1a1f89ttvMDAwwMSJE7Flyxa89dZb8PHxgYmJCa5cuYL169cjJycHUVFR8PPzk2/3k08+wfz58+Hp6Yn+/fvD3d0dWVlZiIuLw7Zt2yCRSHDu3Dl4enrizJkz8PX1RadOndC5c2c4Ojri3r172LZtG/755x9MmjRJYSL74mRlZeHNN9/E8ePH0atXL3Tr1g0AcOjQIfz888/o1KkTDhw4AKlUqvHXk4iISF1sEBIRkU7YsmULli9fjosXL+L58+dwd3fHgAEDMG3aNHmj6eLFi9i8eTMiIyNx69YtZGRkwM7ODm+88QbCwsLQvHlzpe0eO3YMy5cvx8mTJ/HgwQOYmZmhbt26CAoKwrhx4+Do6AjgxSAvGzZswIEDB3Dp0iWkpqbC1NQUjRs3xsiRIzFq1CiFwW3UkZeXh2+//RabN2/GlStX5PMbDhs2DOvXr4eBATvqEBGRdrFBSEREVEEyMjLQvn173LhxA8ePH4e3t7e2QyIiIj3HBiEREVEFSklJQevWrfHs2TNER0cXO2AOERFReWKDkIiIqARSUlKKXG5mZgZra+sKioaIiKhs2CAkIiIqgeLuIxw2bBg2btxYMcEQERGVkZG2AyAiIqpMDh8+XORyZ2fnCoqEiIio7PgLIRERERERkZ7ieNdERERERER6ig1CIiIiIiIiPcUGIRERERERkZ5ig5CIiIiIiEhPsUFIRERERESkp9ggJCIiIiIi0lNsEBIREREREekpNgiJiIiIiIj0FBuEREREREREeooNQiIiIiIiIj3FBiEREREREZGeYoOQiIiIiIhIT7FBSEREREREpKfYICQiIiIiItJTbBASERERERHpKTYIiYiIiIiI9BQbhERERERERHqKDUIiIiIiIiI9xQYhERERERGRnmKDkIiIiIiISE+xQahHMjMzYW9vjy1btmg7FCrGqlWrULt2beTk5Gg7FKIiffbZZ5BIJBW+34KCAjRu3Bjz5s2r8H2TagcPHoSlpSXu37+v7VCIytXChQtRv359FBQUaDsUKkf9+/dHcHCwtsOoEGwQasnGjRshkUjkDyMjI7i4uGD48OFITk5WqFtQUICNGzeiV69eqFWrFiwsLNC4cWPMnTsXz549U3ufX3/9NapVq4b+/ftr+nBKJDk5GcHBwahevTqsrKzQu3dv3Lx5s9j1nj59ihUrVqBr165wcnJCtWrV0Lx5c6xcuRL5+flK9e/evYsxY8bA3d0dZmZm8PT0RGhoKB4+fFgeh6WWvLw8zJ49Gx4eHpBKpfDw8MDcuXPx/PlzhXrDhw9Hbm4uVq9eraVISZ+5ubkp5CdTU1PUqVMHH3/8MR49eqTt8AAA27Ztw+3btzFx4sQK2V9OTg6mTZsGZ2dnmJmZwc/PD4cPHy7Vtrp06QKJRFJs7CdOnJC/Bw8ePCjVvjRl+fLlaNCgAaRSKVxcXBAaGoqsrCyFOt26dYOXlxfmz5+vpShJ18guGMkexsbGcHNzwwcffIC0tDSl+rLcExAQoHJ7a9eulW/rzJkzCstOnDiB7t27w8XFBaampqhduzZ69uyJrVu3KtR7OZ5XH+PGjSv2mDIyMrBgwQJMmzYNBgblfxq9Y8cODB48GHXq1IFEIkGHDh1U1vv7778xceJENGrUCBYWFqhduzaCg4Nx7do1lfWvXLmCbt26wdLSEjVq1MCQIUPUvpiTmZmJSZMmoWbNmpBKpWjQoAFWrlypVK9Dhw6FvtbGxsZqvwaalpqaihEjRsDe3h5mZmZo0aIFdu3apVRv2rRp+Omnn/DPP/9oIcoKJkgrNmzYIACIzz//XGzevFmsXbtWjBo1ShgaGgpPT0+RnZ0tr/vkyRMBQLz++uti7ty5Ys2aNWLEiBHCwMBAdOjQQRQUFBS7v9zcXGFnZye++OKL8jysYj158kTUqVNH2NvbiwULFoglS5aIWrVqiZo1a4oHDx4Uue7FixeFRCIRAQEBYuHChWLVqlXirbfeEgDE0KFDlfbj6uoqbG1txaxZs8TatWvFxIkThbGxsfD29hb5+fnleZiFCg4OFhKJRIwaNUqsXLlSDBs2TAAQo0ePVqo7depU4erqqtb7S6RJrq6uwtvbW2zevFmen8aNGyeMjIxEq1atFOrm5eUp5KuK0qxZMzFmzJgK21///v2FkZGRmDJlili9erXw9/cXRkZG4s8//yzRdn766SdhYWEhAIgJEyYUWi8/P194e3vL696/f7+sh1BqU6dOFQBEv379xMqVK8X7778vjIyMRNeuXZXqfvvtt8Lc3FxkZGRoIVLSNeHh4QKAWLlypdi8ebNYtWqVeOeddwQA0aZNG6X6rq6uwtTUVBgYGIi7d+8qLW/fvr0wNTUVAMTff/8tL9+5c6eQSCSiefPmYsGCBWLNmjUiLCxMtGnTRnTo0EFhGwBEly5d5Pnt5cfp06eLPaavvvpKWFlZVVjea9++vbC0tBQdO3YUNjY2on379irr9e3bVzg6Oor3339frF27VsyZM0c4ODgICwsLcfHiRYW6t2/fFra2tsLT01N8/fXXYt68ecLGxkY0a9ZM5OTkFBnP8+fPRevWrYWJiYn46KOPxLfffit69+4tAIh58+Yp1P3999+VXuNVq1YJAOLNN98s0+tSWunp6cLLy0tUq1ZNzJgxQyxfvly0a9dOABBbtmxRqu/r6yuGDBmihUgrFhuEWiJrEL6c0IQQYtq0aQKA2LFjh7wsJydHnDx5Umkbs2fPFgDE4cOHi93f7t27BQCRkJBQ9uDLYMGCBQKAiImJkZdduXJFGBoairCwsCLXvX//voiLi1MqHzFihAAgrl+/Li/bsmWLACD27dunUHfWrFkCgDh79mwZj6TkYmJiBAAxc+ZMhfLJkycLiUQi/vnnH4XyM2fOCAAiMjKyIsMkEq6uriIoKEipfMqUKQKAuHbtmhai+p+zZ88KAOKPP/6okP2dPn1aABCLFi2Sl2VnZwtPT0/h7++v9nays7OFm5ub+Pzzz4ttEK5cuVK89tpr4sMPP9Rqg/C///4TRkZGSidEy5YtEwDEL7/8olCempoqDA0Nxbp16yoyTNIxmZmZQoj/NQhf/fsNCQkRAJQaYK6urqJz587CyspKLF26VGHZ7du3hYGBgejbt6/S+VPDhg1Fo0aNVDZmUlNTFZ4X99krTtOmTcXgwYNLvX5JJSUlyS9iN2rUqNAG4cmTJ5WO/9q1a0IqlYpBgwYplI8fP16YmZmJf//9V152+PBhAUCsXr26yHh27twpACh9xvv27StMTU2VXu9Xbd68udDGV0VYuHCh0rlVfn6+aNWqlXB0dFR6DRcvXiwsLCzEkydPKjrUCsUuozqmbdu2AIAbN27Iy0xMTNC6dWulum+99RaAFz/7F2fv3r1wc3ODp6enQvnw4cNhaWmJpKQk9OjRA5aWlnBxccGKFSsAABcvXkSnTp1gYWEBV1dXpa4XslhfjrcoP/74I1q1aoVWrVrJy+rXr4/OnTtj586dRa5ra2uLRo0aKZWreh0yMjIAAA4ODgp1nZycAABmZmZqxfuyqKgoSCQS7Ny5E/PmzUPNmjVhamqKzp07IyEhQaHu06dPER8fr9DN688//wQApS67/fv3hxACO3bsUCj38fFBjRo18PPPP5c4VqJXybpuJSQkYPjw4ahevTqsra0xYsQIPH36VK1tODo6AgCMjIyUtvuyDRs2oFOnTrC3t4dUKkXDhg1Vdic6c+YMAgMDYWtrCzMzM7i7u2PkyJHFxrF3716YmJigXbt2Ko/x2rVrGDx4MKytrWFnZ4eZM2dCCIHbt2+jd+/esLKygqOjI7788kulbSclJSE+Pl6h7Mcff4ShoSHGjBkjLzM1NcWoUaMQHR2N27dvFxsz8OK+o4KCAkyZMqXIeo8ePcKMGTPw+eefo3r16mptuzC3bt2CRCLB4sWLsWbNGnh6ekIqlaJVq1b4+++/Ferm5eUhPj4ed+/elZdFR0fj+fPnKvMWAGzfvl2h3N7eHk2bNmXe0iOyz93ly5cxcOBA2NjY4I033ihyHVXnOjKmpqZ4++23lc43tm3bBhsbGwQGBiqtc+PGDbRq1QomJiZKy+zt7UtyOEVKTEzEhQsXlLq0vvw5W7FiBTw8PGBubo6uXbvi9u3bEEJgzpw5qFmzJszMzNC7d2+l7vfp6emIj49Henq6QnmtWrXU6praunVrpeOvU6cOGjVqpHSe+NNPP6FHjx6oXbu2vCwgIAB169Yt9lysqHOZZ8+eFfvZ37p1KywsLNC7d+9ij0mVknyXPXjwAPHx8Qrlf/75J+zs7NCpUyd5mYGBAYKDg5GSkoJjx44pbKNLly7Iysoq9S0ClQUbhDrm1q1bAAAbG5ti66akpAB40VAqzl9//YUWLVqoXJafn4/u3bujVq1aWLhwIdzc3DBx4kRs3LgR3bp1Q8uWLbFgwQJUq1YNQ4cORWJiosL6nTt3RufOnYuNoaCgABcuXEDLli2Vlvn6+uLGjRt48uRJsdt5larXoV27djAwMMCHH36IU6dO4c6dOzhw4ADmzZuHPn36oH79+iXej0xERAT27NmDKVOmICwsDKdOncKgQYMU6sTExKBBgwZYvny5vEw2QMyrjVFzc3MAQGxsrNK+WrRogZMnT5Y6VqJXBQcH48mTJ5g/fz6Cg4OxceNGzJ49W6leXl4eHjx4gAcPHuDOnTv49ddfsWTJErRr1w7u7u5F7mPlypVwdXXFJ598gi+//BK1atXCe++9J7/QBAD37t1D165dcevWLUyfPh3Lli3DoEGDcOrUqWKP4a+//kLjxo0LvQclJCQEBQUFiIiIgJ+fH+bOnYulS5eiS5cucHFxwYIFC+Dl5YUpU6bg+PHjCusOHToUDRo0UCg7d+4c6tatCysrK4VyX19fAMD58+eLjTkpKQkRERFYsGBBsRekZs6cCUdHR4wdO7bY7apr69atWLRoEcaOHYu5c+fi1q1bePvtt5GXlyevk5ycjAYNGiAsLExeVpq85ePjg7/++ktjsVPl8M477+Dp06f44osvMHr06CLrFneuM3DgQMTExCg0GLdu3Yp+/fqp/Ny7uroiMjISd+7cUSvWZ8+eyfPby4/c3Nwi15P9XRd2PrVlyxZ8++23eP/99zF58mQcO3YMwcHBmDFjBg4ePIhp06ZhzJgx+PXXX5UuDO3ZswcNGjTAnj171DoGdQghkJqaqnB+lJycjHv37hV6Lnbu3Lkit5mTkwNDQ0OlxmdROUHm/v37OHz4MPr06QMLC4uSHIoSdb7LZPc+x8TEKMSvKgcXFn/Dhg1hZmZW5c/FjIqvQuUpPT0dDx48wLNnz3D69GnMnj0bUqkUPXr0KHbdhQsXwsrKCt27dy+y3vPnz3Hjxo1Cr8Y8e/YMgwcPlp8EDBw4EM7Ozhg5ciS2bduGkJAQAC+uktSvXx+bNm3CZ599VrIDxYur3jk5OfJf6V4mK/vvv/9Qr149tbeZm5uLpUuXwt3dXeFXx4YNG2LNmjWYMmUK/P395eXDhg3Dd999V+LYX/bs2TOcP39engxtbGzw4YcfIi4uDo0bNy50PdlxnTx5UuGEWna17dXBhADAw8MDmzdvLlO8RC9r3rw51q1bJ3/+8OFDrFu3DgsWLFCo9/vvv8POzk6hrE2bNti9e3ex+zh27JjCF+7EiRPRrVs3LFmyBBMmTADw4sTq8ePH+P333xVOTObOnVvs9uPj4+Hn51focl9fX/mATGPGjIGbmxsmT56M+fPnY9q0aQCAAQMGwNnZGevXr1f6pfFVd+/eLTZvFWfy5Mlo3rx5sYN6XbhwAatXr8aBAwdgaGhY7HbVlZSUhOvXr8tPwOvVq4fevXvj0KFDRX7fvJy3OnbsKC8vLm89ePAA9+7d0+ivM6TbmjVrprIXEQD5r2FZWVk4cuQIVqxYATs7u0I/e506dYKjoyO2bduGGTNm4MqVKzh//jy+/vprlYPQTZs2DaNGjYKnpyfatGmDN954A127dkXr1q1V/rq2bt06hTwos23btiI/o7LeA4VdFEtOTsb169dhbW0N4MUF9/nz5yM7OxtnzpyR9664f/8+tmzZgpUrV0IqlRa6v7LasmULkpOT8fnnn8vLZD0ACstpsnO1wuKqV68e8vPzcerUKYVfgovKCTI7duzA8+fPlS6il4a632WvqlevHv744w/8+++/cHV1lZcXFr+RkRFq1aqFy5cvlzlmXcYGoZa92u3Azc0NP/zwA2rWrFnkel988QX++OMPfPvtt8V2KXr06BGEEEX+6vjuu+/K/1+9enXUq1cPCQkJCsPt1qtXD9WrV1dKxrIrfcXJzs4GAJVJxtTUVKGOuiZOnIjLly9j//79Ct3YAMDFxQW+vr5488034erqij///BPffPMNbG1tsXjx4hLt52UjRoxQuDIm6/py8+ZNeYOwQ4cOEEIorCeLY8qUKTA3N4ePjw9Onz6NTz/9FEZGRiqP3cbGBtnZ2Xj69Kn86hVRWbw6il7btm2xZ88eZGRkKPwCJvtlDXhxRfWff/7BokWL0KtXL/zxxx9F/sr18rL09HTk5eWhffv2OHToENLT02FtbS3PW/v27UOzZs1KNOLcw4cP1c5nhoaGaNmyJe7cuYNRo0bJy2V57tV8FhUVpbS97OzsMuWto0eP4qeffsLp06eLrAcAH3zwAbp3746uXbsWW7ckQkJCFF6zl/OWjJubm1LeatGiBfz8/LBgwQK4uLigY8eOuHLlCsaPHw9jY+NC8xbworsWG4T6o6gROl+90NukSRNs2LCh0O81Q0NDBAcHyxuEW7ZsQa1atdC2bVuVDcKRI0fCxcUFS5YswdGjR3H06FHMmTNHflH11dtuevfurXKU3yZNmhR5jA8fPoSRkREsLS1VLn/nnXfkjUEA8gtXgwcPVjhH8fPzw7Zt25CcnAwPDw8AL27hGT58eJH7L4n4+HhMmDAB/v7+GDZsmLxc3XOxwhqEAwcOxOeff46RI0dixYoVqFOnDn7//Xd8++23CttXZevWrbCzs0OXLl1KfVwy6nyXffbZZ0o/YLz77rtYtWoVgoOD8dVXX8HBwQE7d+6U/zJbWE7T9kjP5Y0NQi1bsWIF6tati/T0dKxfvx7Hjx8v9mrRjh07MGPGDIwaNQrjx49Xe1+vftHLmJqaKv0SYG1tjZo1ayrdG2RtbY3Hjx8XuZ/s7GylPvCOjo7yk0RVc+vJps8oyb19ixYtwtq1azFnzhy8+eabCstOnjyJHj164NSpU/JfH/r06QMrKyvMnj0bI0eORMOGDdXe18te7nMP/O/kp7jXxdTUFPv370dwcDD69u0L4EVCXrhwIebNm6fyC0b2nmljnjeqmor6+325QWhra6twwSooKAj16tVDv3798N133+H9998vdB8nT55EeHg4oqOjle7pkDUI27dvj759+2L27Nn46quv0KFDB/Tp0wcDBw5U64p5YflM1TFaW1vD1NRUqXu9tbW1WtPQmJmZlTpvPX/+HB988AGGDBmi0ItBlR07duCvv/5CXFxcsTGVVGnzFvDifqOQkBD5/Z2GhoYIDQ3FsWPHcPXqVaX6zFv6qaiu5D/99BOsrKxw//59fPPNN0hMTCz2+37gwIH45ptv8M8//2Dr1q3o379/kX9TgYGBCAwMxNOnTxEbG4sdO3Zg1apV6NGjB+Lj4xUuTtSsWbPQqS3KQlXuAV7cB6iqXJ3PX2mkpKQgKCgI1tbW8nugZcp6Lubo6IhffvkFQ4YMkV+4srKywrJlyzBs2LBCG8s3b95EdHQ0Jk6cqHQBvzTU/S57VdOmTbF161aMGzcObdq0kR/T0qVLMX78+ELPxap6PuM9hFrm6+uLgIAA9O3bF7/88gsaN26MgQMHIjMzU2X9w4cPY+jQoQgKCsKqVavU2keNGjUgkUgKTTyFdUsqrLyoEzHgxUmNk5OTwkMWh1QqVRiwQEZW5uzsXOS2ZTZu3Ihp06Zh3LhxmDFjhtLy1atXw8HBQamPfK9evSCEKNP9LaV9XQCgUaNGiIuLQ1xcHP7880/8999/GD16NB48eIC6desq1X/8+DHMzc1LNQgOkSpl+fuV3Sv86n13L7tx4wY6d+6MBw8eYMmSJdi/fz8OHz6Mjz76CADkEzlLJBL8+OOP8hOE5ORkjBw5Ej4+PoXmP5nXXnutyBMpVcdYluN2cnIqdd76/vvvcfXqVYwdOxa3bt2SPwDgyZMnuHXrlrzR/PHHH+Odd96BiYmJvJ5srrbbt2+r1TW1MGU5fhcXF5w4cQLXrl3D8ePHcefOHSxcuBC3b98uNG8B6t3fTlVHUd9T7dq1Q0BAAAYMGIDDhw/DzMwMgwYNKnJidz8/P3h6emLSpElITEzEwIED1YrD3Nwcbdu2xfLlyzFjxgw8fvwYv/32W4mPR5XXXnsNz58/L3S8A02fT5VGeno6unfvjrS0NBw8eFApP8nOyQrLabJztaK0a9cON2/exLlz53DixAkkJyfj9ddfBwCVOQGAvDuxJrqLAmV7Tfv164f//vsPMTExiI6Oxr///iv/pbawnFbV8xl/IdQhhoaGmD9/Pjp27Ijly5dj+vTpCstPnz6Nt956Cy1btsTOnTvVvsJiZGQET09PpcFgyktgYKDK0ZgMDAzQpEkTpclkgRfH5uHhgWrVqhW7/Z9//hnvvvsu3n77bYVBKl6WmpqqcrJ62QAKr04EX5EkEonCaKkHDhxAQUGByquViYmJSgNcEGmL7HNTVIPt119/RU5ODn755ReFK7hHjx5VWf/111/H66+/jnnz5mHr1q0YNGgQtm/frtDt81X169evsHwGAN7e3jh69KhSt1pZF1Bvb+9C101KSkJeXp78SvTLvv/+e3z//ffYs2cP+vTpg9u3b2Pr1q0q78Nq0aIFmjVrptYANuWlTp06qFOnDgDg8uXLuHv3rsoubomJibC1tVXqeUIEAJaWlggPD8eIESOwc+fOIu/ZGzBgAObOnYsGDRoU+TkrjOyisKrGT2nIBqRLTExE06ZNNbJNTXr27Bl69uyJa9eu4Y8//lDZE8rFxQV2dnYqz8ViYmLUfp0NDQ0V6v7xxx8AlG+Fktm6dSs8PT3lDUdtMzExUei1UVj8z58/x+3bt9GrV68Kja+i8RdCHdOhQwf4+vpi6dKl8p/ugRdTKgQFBcHNzQ379u0r8S9G/v7+Kj/8mvDqtBNOTk4ICAhQeMj069cPf//9t0IsV69exZEjR/DOO+8obDc+Ph5JSUkKZcePH0f//v3Rrl07bNmypdChmOvWrYvU1FSl+4G2bdsG4MXNyOVJ1bQTqmRnZ2PmzJlwcnLCgAEDlJafPXtW5ZQjRNrw66+/AngxeERhZFdtX75Km56ejg0bNijUe/z4sdKVXNnJhaquTC/z9/dHXFxcsfVKQ9W0E/369UN+fj7WrFkjL8vJycGGDRvg5+en0B3s1fX79++PPXv2KD2AF/cV79mzR36fkap6skG9vv/+e3z11VcaP96XqZp2QpWCggJMnToV5ubmKu8bi42NVRjMi+hVgwYNQs2aNYsdAOTdd99FeHi4yiliXhYZGamy/MCBAwCU72EsLdnfdXmcTxU27YS68vPzERISgujoaOzatavIz2Dfvn2xb98+hSlzIiMjce3aNYVzMXVzwv3797FgwQI0bdpUZYPw3LlzuHLlitq/8mqKqmknVLl+/bq8e/GrvxBevnwZz549q/LnYvyFUAfJug1t3LgR48aNw5MnTxAYGIjHjx/j448/xv79+xXqe3p6Fvvl27t3b2zevBnXrl0r9Of80pJ1I1NncJn33nsPa9euRVBQEKZMmQJjY2MsWbIEDg4OmDx5skLdBg0aoH379vJG3b///otevXpBIpGgX79+2LVrl0L9pk2byq/YTZw4ERs2bEDPnj3x/vvvw9XVFceOHcO2bdvQpUsXhREKN27ciBEjRmDDhg0au6E7JiYGHTt2RHh4uMINzcHBwXB2dkbDhg2RkZGB9evX4+bNm9i/f7/Sr6OxsbF49OhRqefqISqL5ORk/PDDDwBejOb7zz//YPXq1bC1tS3y/sGuXbvCxMQEPXv2xNixY5GZmYm1a9fC3t5e4aRi06ZN+Pbbb/HWW2/B09MTT548wdq1a2FlZaV0T/CrevfujTlz5uDYsWMaH3xl6NChOHbsmEJj1c/PD++88w7CwsJw7949eHl5YdOmTbh165bSSIWvrl+/fv1Cp7lxd3dHnz595M9f/r+M7BfB7t27K3RZioqKUpljykI27cSwYcOwceNGefmHH36IZ8+ewdvbG3l5edi6dStiYmKwadMmpft47t27hwsXLshHkyVSxdjYGB9++CE+/vhjHDx4EN26dVNZz9XVVa2/7969e8Pd3R09e/aEp6cnsrKy8Mcff+DXX39Fq1at0LNnT4X6165dk+e3lzk4OBQ54ImHhwcaN26MP/74Q605U0tiz549Ks9Fjh8/Lu+mf//+fWRlZckH/GrXrp18pNbJkyfjl19+Qc+ePfHo0SOl4xs8eLD8/5988gl27dqFjh074sMPP0RmZiYWLVqEJk2aYMSIEfJ6heWE9u3bw9/fH15eXkhJScGaNWuQmZmJffv2qbxQv2XLFgBFdxcdPnw4Nm3ahMTERLi5uan3ohVj+fLlmD17No4ePYoOHTrIyxs2bIh33nkHtWvXRmJiIlauXIkaNWqovBXr8OHDMDc318hAOLqMDUId9Pbbb8PT0xOLFy/G6NGj8fDhQ/lVnFe7kQIvplIorkHYs2dP2NraYufOnSrvuaso1apVQ1RUFD766CPMnTsXBQUF6NChA7766qtiuxclJibKr5ypOtkIDw+XNwjr1auH2NhYzJgxAz/88ANSUlLg7OyMKVOmKM1TI+v+pmoIZk1r2bIlNmzYgNWrV8PMzAxt27bF1q1bVXbR2LVrF2rXrq0weSpRRTl//jyGDBkC4EV3b1tbW7z99tuYM2cOXFxcCl2vXr16+PHHHzFjxgxMmTIFjo6OGD9+POzs7BROoNq3b4+YmBhs374dqampsLa2hq+vL7Zs2VLsPIc+Pj5o2rQpdu7cqfEGYWG+//57zJw5E5s3b8bjx4/RtGlT7Nu3r9gpK8pLReat5s2bY+nSpfJeGb6+voiMjFSYhkJm9+7dkEqlCiNUE6kyZswYzJ07FxEREYU2CNX13Xff4eeff8bOnTvx33//QQgBDw8PfPrpp5g2bZrSLTaHDx9WeWtL+/btiz3xHzlyJGbNmoXs7OwKub//yJEjSuctM2fOBPDivEeWg2QXj3799Vd5b46XvdwgrFWrFo4dO4bQ0FBMnz4dJiYmCAoKwpdffqnWoF4+Pj7YtWsXkpOTYWVlhS5dushHdX1VQUEBtm/fjhYtWhT5S21mZibMzMyKHTlfE5o1a4YNGzbI52gMDg7G7NmzVY6KvGvXLrz99ttq3dJUmUlEedzRSjppzpw52LBhA65fv67R+a0qu+DgYNy6dUth4lJty8nJgZubG6ZPn44PP/xQ2+EQ6ZzNmzdjwoQJSEpKqpATCF0zdepUbNu2DQkJCeU6j1lJNW/eXH6Rj6gqSk9Ph4eHBxYuXKgwlQ2VjYODA4YOHYpFixZpOxS58+fPo0WLFjh79myp7mGtTHgPoR756KOPkJmZie3bt2s7FJ0hhEBUVJRak2FXpA0bNsDY2LjIeZ2I9NmgQYNQu3btQgeWquqOHj2KmTNn6lRj8ODBg7h+/TrCwsK0HQpRubG2tsbUqVOxaNGiIkdJJfVdunQJ2dnZmDZtmrZDURAREYF+/fpV+cYgwF8IiYiIiIiI9BZ/ISQiIiIiItJTxTYIjx8/jp49e8LZ2RkSiQR79+4tdqNRUVFo0aIFpFIpvLy8FEYmklmxYgXc3NxgamoKPz8/nbp/i4h0F3MSEeka5iUiqsyKbRBmZWWhWbNmat+nkZiYiKCgIHTs2BHnz5/HpEmT8O677+LQoUPyOjt27EBoaCjCw8Nx9uxZNGvWDIGBgbh3717pj4SI9AJzEhHpGuYlIqrMSnQPoUQiwZ49e1TOlSQzbdo07N+/H3FxcfKy/v37Iy0tDQcPHgTwYk6nVq1aYfny5QBeDElbq1YtvP/++yqnVSAiUoU5iYh0DfMSEVU2Gp+HMDo6GgEBAQplgYGBmDRpEoAXExzHxsYqjEJmYGCAgIAAREdHF7rdnJwc5OTkyJ8XFBTg0aNHeO211yCRSDR7EESkUUIIPHnyBM7OzionrS1PzElE9Cpt5iSAeYmIlGkzL2m8QZiSkgIHBweFMgcHB2RkZCA7OxuPHz9Gfn6+yjrx8fGFbnf+/PlKE3MSUeVy+/Zt1KxZs0L3yZxERIXRRk4CmJeIqHDayEsabxCWl7CwMISGhsqfp6eno3bt2rh9+zasrKy0GBlR5XX5v3QErz6FiLebwMPOotz2E3crFaO7t0K1atXKbR8VjTmJqPyVV46qijkJYF4iqijlkZu0mZc03iB0dHREamqqQllqaiqsrKxgZmYGQ0NDGBoaqqzj6OhY6HalUqnKCXitrKyY5IhKyfKJgIHUHE09nNDYxbrc96eNLkvMSUSVV3nnKG11o2ReIqrcyjM3aSMvabyDqr+/PyIjIxXKDh8+DH9/fwCAiYkJfHx8FOoUFBQgMjJSXoeISFOYk4hI1zAvEZEuKbZBmJmZifPnz+P8+fMAXgyVfP78eSQlJQF40T1h6NCh8vrjxo3DzZs3MXXqVMTHx+Pbb7/Fzp078dFHH8nrhIaGYu3atdi0aROuXLmC8ePHIysrCyNGjNDw4RFRVcOcRES6hnmJiCqzYruMnjlzBh07dpQ/l/VNHzZsGDZu3Ii7d+/KEx4AuLu7Y//+/fjoo4/w9ddfo2bNmvjuu+8QGBgorxMSEoL79+9j1qxZSElJgbe3Nw4ePKh08zQR0auYk4hI1zAvEVFlVqJ5CHVJRkYGrK2tkZ6ezn7xRKUUl5yOHstOYN/7b5TrPYSn4m/Dv0HtKv15ZU4i0rzyylH6kJMA5iWi8lIeuUmbeaniJ98hIiIiIiIincAGIRERERERkZ5ig5CIiIiIiEhPsUFIRERERESkp9ggJCIiIiIi0lPFTjtBREREVJGS07LxOCsXCfcytR0KEVGVxwYhERER6YzktGwEfHkM2Xn5AAAzY0PYWJhoOSoioqqLDUIiIiLSGY+zcpGdl4+lId7wsreEjYUJXKqbaTssIr0j+6WelFW13gtsEBIREZHO8bK31Ohk9ESkvld/qSdlVan3AhuEpDd4pUtZVbvCRURERGX36i/1pKwq9V5gg5D0Aq90Fa4qXeEiIiIizeEv9fqBDULSC7zSVbiqdIWLiIiIiEqGDULSK7zSRURERET0P5yYnoiIiIiISE+xQUhERERERKSn2CAkIiIiIiLSU2wQEhERERER6Sk2CImIiIiIiPSUWg3CFStWwM3NDaampvDz80NMTEyhdTt06ACJRKL0CAoKktcZPny40vJu3bqV/WiISG8wLxHpvuS0bMQlp5fokXAvU9thlwpzEhFVVsVOO7Fjxw6EhoZi1apV8PPzw9KlSxEYGIirV6/C3t5eqf7u3buRm5srf/7w4UM0a9YM77zzjkK9bt26YcOGDfLnUqm0LMdBRHqEeYlI9yWnZSPgy2PIzssv8bpmxoawsTAph6jKB3MSEVVmxTYIlyxZgtGjR2PEiBEAgFWrVmH//v1Yv349pk+frlS/Ro0aCs+3b98Oc3NzpSQnlUrh6OhYltiJSE8xLxHpvsdZucjOy8fSEG942VuWaF0bCxO4VDcrp8g0jzmJiCqzIhuEubm5iI2NRVhYmLzMwMAAAQEBiI6OVmsH69atQ//+/WFhYaFQHhUVBXt7e9jY2KBTp06YO3cuXnvttUK3k5OTg5ycHPnzjIwMtfZPRFWLruQl5iQi9XjZW6Kxi7W2wyg3upKTAOal0kpOy8bjrNziK+qRytp1m0qnyAbhgwcPkJ+fDwcHB4VyBwcHxMfHF7vxmJgYxMXFYd26dQrl3bp1w9tvvw13d3fcuHEDn3zyCbp3747o6GgYGhqq3Nb8+fMxe/bsYvdJRFWbruQl5iQiAnQnJwHMS6VRlq7NVV1l67pNpVdsl9GyWLduHZo0aQJfX1+F8v79+8v/36RJEzRt2hSenp6IiopC586dVW4rLCwMoaGh8ucZGRmoVatW+QRORFWWpvIScxIRaQLPlbSrLF2bq7rK1nWbSq/IBqGtrS0MDQ2RmpqqUJ6amlpsn/asrCxs374dn3/+ebFBeHh4wNbWFgkJCYUmOalUypupiUhn8hJzEhEBupOTAOalsqjqXZuJilLktBMmJibw8fFBZGSkvKygoACRkZHw9/cvcsO7du1CTk4OBg8eXGwQd+7cwcOHD+Hk5KRm2ESKihvanH3hqw7mJSLSJcxJRFTZFdtlNDQ0FMOGDUPLli3h6+uLpUuXIisrSz6S1tChQ+Hi4oL58+crrLdu3Tr06dNH6ebnzMxMzJ49G3379oWjoyNu3LiBqVOnwsvLC4GBgRo8NNIX6vb/Z1/4qoN5iYh0CXMSEVVmxTYIQ0JCcP/+fcyaNQspKSnw9vbGwYMH5TdPJyUlwcBA8YfGq1ev4sSJE/j999+VtmdoaIgLFy5g06ZNSEtLg7OzM7p27Yo5c+awmwOVirr9/9kXvupgXiIiXcKcRESVmUQIIbQdRGlkZGTA2toa6enpsLKy0nY4pEVxyenosewE9r3/Bvv/66hT8bfh36B2lf68MicRKdLl3KwPOQlgXlKHLv+dkn7RZl4q8h5CIiIiIiIiqrrYICQiIiIiItJT5ToPIREREeme5LRsPM7KLdd9cHRnIqLKgQ1CIiIiPaLuyMyawNGdiYh0HxuEREREekTdkZk1gaM7ExHpPjYIiYiI9JCXvSVHVSQiIjYIiYiIiKhyKuv9sLzXlYgNQiIiIiKqhDR1PyzvdSV9xwYhEREREVU6mroflve6kr5jg5CIiIiIKi3eD0tUNpyYnoiIiIiISE+xQUhERERERKSn2CAkIiIiIiLSU7yHkHROSYeQ5pDRRERERESlwwYh6ZTSDiHNIaOJiNTzsAxzthERUdXDBiHplNIOIc0ho4mIipeclo1xm2N5EY2IiOTYICSdxCGkiYg0T3bRbdNIX15EIyIiAGoOKrNixQq4ubnB1NQUfn5+iImJKbTuxo0bIZFIFB6mpqYKdYQQmDVrFpycnGBmZoaAgABcv369bEdCRHqFeYmo9F7jr4Max5xERJVVsQ3CHTt2IDQ0FOHh4Th79iyaNWuGwMBA3Lt3r9B1rKyscPfuXfnj33//VVi+cOFCfPPNN1i1ahVOnz4NCwsLBAYG4tmzZ2U/IiKq8piXiEiXMCcRUWVWbINwyZIlGD16NEaMGIGGDRti1apVMDc3x/r16wtdRyKRwNHRUf5wcHCQLxNCYOnSpZgxYwZ69+6Npk2b4vvvv8d///2HvXv3auSgiKhqY14iIl3CnERElVmRDcLc3FzExsYiICDgfysYGCAgIADR0dGFrpeZmQlXV1fUqlULvXv3xqVLl+TLEhMTkZKSorBNa2tr+Pn5FblNIiKAeYmIdAtzEhFVdkUOKvPgwQPk5+crXLUCAAcHB8THx6tcp169eli/fj2aNm2K9PR0LF68GK1bt8alS5dQs2ZNpKSkyLfx6jZly1TJyclBTk6O/HlGRkbRR0ZEVZKu5CXmJCICdCcnAVUvLxU3LzHnISbSDI2PMurv7w9/f3/589atW6NBgwZYvXo15syZU+rtzp8/H7Nnz9ZEiESkZ8ojLzEnEVFp8VypeOrOS8wpVIjKrsgGoa2tLQwNDZGamqpQnpqaCkdHR7V2YGxsjObNmyMhIQEA5OulpqbCyclJYZve3t6FbicsLAyhoaHy5xkZGahVq5ZaMRBR1aEreYk5iYgA3clJQNXKS+rOS8x5iInKrsh7CE1MTODj44PIyEh5WUFBASIjIxWubBUlPz8fFy9elCc0d3d3ODo6KmwzIyMDp0+fLnKbUqkUVlZWCg8i0j+6kpeYk4gI0J2cBFTNvCSbl7iwBxuDRGVXbJfR0NBQDBs2DC1btoSvry+WLl2KrKwsjBgxAgAwdOhQuLi4YP78+QCAzz//HK+//jq8vLyQlpaGRYsW4d9//8W7774L4MWoWpMmTcLcuXNRp04duLu7Y+bMmXB2dkafPn3K70iJqMpgXiIiXcKcRESVWbENwpCQENy/fx+zZs1CSkoKvL29cfDgQfmNzklJSTAw+N8PjY8fP8bo0aORkpICGxsb+Pj44K+//kLDhg3ldaZOnYqsrCyMGTMGaWlpeOONN3Dw4EGlSVmJiFRhXiIiXcKcRESVmUQIIbQdRGlkZGTA2toa6enpVaJLBL0Ql5yOHstOYN/7b6Cxi7W2wyENORV/G/4NalfpzytzEpWX4kZaLImEe5mYtOO83udYfchJQOXOSzwfIH2jzbyk8VFGiYiISDPUHWmxJDgqIxERvYwNQlKgySvRpcE5hYiI/kfdkRZLgqMyEhHRy9ggJLnyuBJdGrx6TUSkSDbSIhERkaaxQUhy5XElujR49ZqIiIiIqGKwQUhKeCWaiIiIiEg/FDkxPREREREREVVdbBASERERERHpKXYZJSIiIqJyUdrRyznqOFHFYYOQiIiIiDSurKOXc9RxoorBBiERERERaVxZRy/nqONEFYMNQiIiIiIqNxy9nEi3cVAZIiIiIiIiPcVfCImIiMoZB9YgIiJdxQYhERFROeLAGkREpMvYICQiIipHHFiDiIh0GRuEREREFYADaxARkS7ioDJERERERER6ir8QakFpBxcobxy8gIiIiIhIv6jVIFyxYgUWLVqElJQUNGvWDMuWLYOvr6/KumvXrsX333+PuLg4AICPjw+++OILhfrDhw/Hpk2bFNYLDAzEwYMHS3sclUZZBxcobxy8gCoL5iUi0iXMSURUWRXbINyxYwdCQ0OxatUq+Pn5YenSpQgMDMTVq1dhb2+vVD8qKgoDBgxA69atYWpqigULFqBr1664dOkSXFxc5PW6deuGDRs2yJ9LpVINHZJuK+vgAuWNgxdQZcC8RES6hDmJiCqzYhuES5YswejRozFixAgAwKpVq7B//36sX78e06dPV6q/ZcsWheffffcdfvrpJ0RGRmLo0KHycqlUCkdHx7LGX2lxcAGi0mNeIiJdwpxERJVZkYPK5ObmIjY2FgEBAf9bwcAAAQEBiI6OVmsHT58+RV5eHmrUqKFQHhUVBXt7e9SrVw/jx4/Hw4cPSxE+Eekb5iUi0iXMSURU2RX5C+GDBw+Qn58PBwcHhXIHBwfEx8ertYNp06bB2dlZIVF269YNb7/9Ntzd3XHjxg188skn6N69O6Kjo2FoaKhyOzk5OcjJyZE/z8jIUGv/RFS16EpeYk4iIkB3chKgnbxU1EB5HKyOqHIo11FGIyIisH37dkRFRcHU1FRe3r9/f/n/mzRpgqZNm8LT0xNRUVHo3Lmzym3Nnz8fs2fPLs9wiUgPaCovMScRkSZU5nMldQbK42B1RLqvyAahra0tDA0NkZqaqlCemppabJ/2xYsXIyIiAn/88QeaNm1aZF0PDw/Y2toiISGh0CQXFhaG0NBQ+fOMjAzUqlWryO0SUdWjK3mJOYmIAN3JSUDF5yV1BsrjYHVEuq/IBqGJiQl8fHwQGRmJPn36AAAKCgoQGRmJiRMnFrrewoULMW/ePBw6dAgtW7YsNog7d+7g4cOHcHJyKrSOVCrl6FpEpDN5iTmp8tHWHLDsNle16UpOArSXlzhQHlHlVmyX0dDQUAwbNgwtW7aEr68vli5diqysLPlIWkOHDoWLiwvmz58PAFiwYAFmzZqFrVu3ws3NDSkpKQAAS0tLWFpaIjMzE7Nnz0bfvn3h6OiIGzduYOrUqfDy8kJgYGA5HioRVRXMS1RS2p4Dlt3mqjbmJCKqzIptEIaEhOD+/fuYNWsWUlJS4O3tjYMHD8pvnk5KSoKBwf8GK125ciVyc3PRr18/he2Eh4fjs88+g6GhIS5cuIBNmzYhLS0Nzs7O6Nq1K+bMmcOr7USkFuYlKiltzwHLbnNVG3MSEVVmEiGE0HYQpZGRkQFra2ukp6fDyspK2+GoLS45HT2WncC+999g9wrSG6fib8O/Qe1K93kticqak/QFcy+9TB9yElD+eYmfKyLN0WZeKnIeQiIiIiIiIqq62CAkIiIiIiLSU2wQEhERERER6Sk2CImIiIiIiPQUG4RERERERER6qthpJ6oibU1ODHCCYiIiIiIi0h161yDU9uTEACcoJiIiIiIi3aB3DUJtT04McIJiIiIi0k0l6UXFXk9EVYPeNQhlvOwtOYkqERER0f8rTS8q9noiqvz0tkFIRESVV0nvBecvGUTFK00vKvZ6Iqr82CAkIqJKpbT3gvOXDCL1sBcVkX5hg5CIiCqV0t4Lzl8yiIiIlLFBSERElRJ/xSAiIio7TkxPRERERESkp9ggJCIiIiIi0lNsEBIREREREekpNgiJiIiIiIj0FBuEREREREREekqtBuGKFSvg5uYGU1NT+Pn5ISYmpsj6u3btQv369WFqaoomTZrgwIEDCsuFEJg1axacnJxgZmaGgIAAXL9+vfRHQUR6h3mJiHQJcxIRVVbFNgh37NiB0NBQhIeH4+zZs2jWrBkCAwNx7949lfX/+usvDBgwAKNGjcK5c+fQp08f9OnTB3FxcfI6CxcuxDfffINVq1bh9OnTsLCwQGBgIJ49e6a5IyOiKot5iYh0CXMSEVVqohi+vr5iwoQJ8uf5+fnC2dlZzJ8/X2X94OBgERQUpFDm5+cnxo4dK4QQoqCgQDg6OopFixbJl6elpQmpVCq2bdtWXDhy6enpAoBIT09Xex0hhLh4J024TtsnLt5JK9F6RFR60VeSSvV5LYwu5qXS5iQqOeZxKit9yElClDwv8bNFpD2azkslUeTE9Lm5uYiNjUVYWJi8zMDAAAEBAYiOjla5TnR0NEJDQxXKAgMDsXfvXgBAYmIiUlJSEBAQIF9ubW0NPz8/REdHo3///iq3m5OTg5ycHPnz9PR0AMDf1+7AwrJaUYeh4Ob9LBTkPEXmkwxkZEjUXo+ISi8r8wmAF12gykpX8pKmchKVHPM4lVVVzElA2fMSP1tE2qPJvFRSRTYIHzx4gPz8fDg4OCiUOzg4ID4+XuU6KSkpKuunpKTIl8vKCqujyvz58zF79myl8oBWjYo6hEL5Ly3VakRUBg8fPoS1tXWZtqEreUnTOYlKjnmcyqoq5SRAc3mJny0i7dFEXiqpIhuEuiQsLEzhalpaWhpcXV2RlJRU4S9aRcvIyECtWrVw+/ZtWFlZaTuccsVjrZrS09NRu3Zt1KhRQ9uhaAxzkn787fJYq6aqmJOAqpWXKvPfI2PXjsocO6DdvFRkg9DW1haGhoZITU1VKE9NTYWjo6PKdRwdHYusL/s3NTUVTk5OCnW8vb0LjUUqlUIqlSqVW1tbV8o3vTSsrKx4rFWQPh2rgUHZZ7rRlbzEnKRff7s81qqpKuUkoGrmpcr898jYtaMyxw5oJi+VeJ9FLTQxMYGPjw8iIyPlZQUFBYiMjIS/v7/Kdfz9/RXqA8Dhw4fl9d3d3eHo6KhQJyMjA6dPny50m0REMsxLRKRLmJOIqNIrbtSZ7du3C6lUKjZu3CguX74sxowZI6pXry5SUlKEEEIMGTJETJ8+XV7/5MmTwsjISCxevFhcuXJFhIeHC2NjY3Hx4kV5nYiICFG9enXx888/iwsXLojevXsLd3d3kZ2drfZoOPo0oh+PtWrisZaeLuYlvp9VE4+1atKHnFQex1mRGLt2MHbt0Wb8xTYIhRBi2bJlonbt2sLExET4+vqKU6dOyZe1b99eDBs2TKH+zp07Rd26dYWJiYlo1KiR2L9/v8LygoICMXPmTOHg4CCkUqno3LmzuHr1aokCf/bsmQgPDxfPnj0r0XqVEY+1auKxlo2u5SW+n1UTj7Vq0oecJETlfk8Zu3Ywdu3RZvwSIbQwtikRERERERFpXcXftUhEREREREQ6gQ1CIiIiIiIiPcUGIRERERERkZ5ig5CIiIiIiEhPVZoG4bx589C6dWuYm5ujevXqaq0jhMCsWbPg5OQEMzMzBAQE4Pr16+UbqAY8evQIgwYNgpWVFapXr45Ro0YhMzOzyHU6dOgAiUSi8Bg3blwFRVwyK1asgJubG0xNTeHn54eYmJgi6+/atQv169eHqakpmjRpggMHDlRQpGVXkmPduHGj0ntoampagdGWzvHjx9GzZ084OztDIpFg7969xa4TFRWFFi1aQCqVwsvLCxs3biz3OMsD81LVyEvMSapV1pwE6Hdekinp33VFKO59USc/liYXacL8+fPRqlUrVKtWDfb29ujTpw+uXr2qUOfZs2eYMGECXnvtNVhaWqJv375ITU1VqJOUlISgoCCYm5vD3t4eH3/8MZ4/f16usa9cuRJNmzaVT9ju7++P3377TefjViUiIgISiQSTJk2Sl+ly/J999plSHq1fv77uxV7h45qW0qxZs8SSJUtEaGiosLa2VmudiIgIYW1tLfbu3Sv++ecf0atXrxLP4aMN3bp1E82aNROnTp0Sf/75p/Dy8hIDBgwocp327duL0aNHi7t378ofujgPy/bt24WJiYlYv369uHTpkhg9erSoXr26SE1NVVn/5MmTwtDQUCxcuFBcvnxZzJgxQ2muJl1V0mPdsGGDsLKyUngPZXNY6bIDBw6ITz/9VOzevVsAEHv27Cmy/s2bN4W5ubkIDQ0Vly9fFsuWLROGhobi4MGDFROwBjEvVf68xJxU9XKSEPqdl4Qo+XtdUYp7X9TJj6XJRZoQGBgoNmzYIOLi4sT58+fFm2++KWrXri0yMzPldcaNGydq1aolIiMjxZkzZ8Trr78uWrduLV/+/Plz0bhxYxEQECDOnTsnDhw4IGxtbUVYWFi5xv7LL7+I/fv3i2vXromrV6+KTz75RBgbG4u4uDidjvtVMTExws3NTTRt2lR8+OGH8nJdjj88PFw0atRIIY/ev39f52KvNA1CmQ0bNqh14lVQUCAcHR3FokWL5GVpaWlCKpWKbdu2lWOEZXP58mUBQPz999/yst9++01IJBKRnJxc6Hrt27dX+HDoKl9fXzFhwgT58/z8fOHs7Czmz5+vsn5wcLAICgpSKPPz8xNjx44t1zg1oaTHqu7fti5T58Rr6tSpolGjRgplISEhIjAwsBwjK1/MS6pVhrzEnFS1c5IQ+pmXSvpea8Or74s6+bG0uag83Lt3TwAQx44dk8dqbGwsdu3aJa9z5coVAUBER0cLIV40iA0MDBQurKxcuVJYWVmJnJycCo3fxsZGfPfdd5Um7idPnog6deqIw4cPK3y36Hr84eHholmzZiqX6VLslabLaEklJiYiJSUFAQEB8jJra2v4+fkhOjpai5EVLTo6GtWrV0fLli3lZQEBATAwMMDp06eLXHfLli2wtbVF48aNERYWhqdPn5Z3uCWSm5uL2NhYhffEwMAAAQEBhb4n0dHRCvUBIDAwUKffQ6B0xwoAmZmZcHV1Ra1atdC7d29cunSpIsKtUJX1PdUE5iXdykvMScxJMpX1fVWltO+1tqmTH8uSizQtPT0dAFCjRg0AQGxsLPLy8hTir1+/PmrXrq0Qf5MmTeDg4CCvExgYiIyMjAr7bOXn52P79u3IysqCv79/pYl7woQJCAoKUvqcVob4r1+/DmdnZ3h4eGDQoEFISkrSudiNNLYlHZOSkgIACi+g7LlsmS5KSUmBvb29QpmRkRFq1KhRZNwDBw6Eq6srnJ2dceHCBUybNg1Xr17F7t27yztktT148AD5+fkq35P4+HiV66SkpFS69xAo3bHWq1cP69evR9OmTZGeno7FixejdevWuHTpEmrWrFkRYVeIwt7TjIwMZGdnw8zMTEuRlT/mJd3KS8xJzEkyVSkvlea91gXq5MfS5iJNKygowKRJk9CmTRs0btxYHpuJiYnS/eSvxq/q+GTLytPFixfh7++PZ8+ewdLSEnv27EHDhg1x/vx5nY4bALZv346zZ8/i77//Vlqm66+7n58fNm7ciHr16uHu3buYPXs22rZti7i4OJ2KXasNwunTp2PBggVF1rly5YrCzZeVlbrHWlpjxoyR/79JkyZwcnJC586dcePGDXh6epZ6u1Rx/P394e/vL3/eunVrNGjQAKtXr8acOXO0GJl+YV5SxLykv5iTiFSbMGEC4uLicOLECW2HorZ69erh/PnzSE9Px48//ohhw4bh2LFj2g6rWLdv38aHH36Iw4cPV5pBrV7WvXt3+f+bNm0KPz8/uLq6YufOnTp1oUmrDcLJkydj+PDhRdbx8PAo1bYdHR0BAKmpqXBycpKXp6amwtvbu1TbLAt1j9XR0RH37t1TKH/+/DkePXokPyZ1+Pn5AQASEhJ05sTL1tYWhoaGSqMnpaamFnpsjo6OJaqvK0pzrK8yNjZG8+bNkZCQUB4hak1h76mVlZVOJEfmJUVVOS8xJzEnyeh6XioJTbzX2qBOftRULiqLiRMnYt++fTh+/LjCL+WOjo7Izc1FWlqawi8+L7/ujo6OSqO9yt6n8o7fxMQEXl5eAAAfHx/8/fff+PrrrxESEqLTccfGxuLevXto0aKFvCw/Px/Hjx/H8uXLcejQIZ2O/1XVq1dH3bp1kZCQgC5duuhM7Fq9h9DOzg7169cv8mFiYlKqbbu7u8PR0RGRkZHysoyMDJw+fVrhimdFUfdY/f39kZaWhtjYWPm6R44cQUFBgfxkSh3nz58HAIWkqm0mJibw8fFReE8KCgoQGRlZ6Hvi7++vUB8ADh8+rJX3sCRKc6yvys/Px8WLF3XqPdQEXX9PmZf0Jy8xJzEnyVTW91UVTbzX2qBOftRULioNIQQmTpyIPXv24MiRI3B3d1dY7uPjA2NjY4X4r169iqSkJIX4L168qNCoPXz4MKysrNCwYcNyjf9VBQUFyMnJ0fm4O3fujIsXL+L8+fPyR8uWLTFo0CD5/3U5/ldlZmbixo0bcHJy0q3XXmPD05Szf//9V5w7d07Mnj1bWFpainPnzolz586JJ0+eyOvUq1dP7N69W/48IiJCVK9eXfz888/iwoULonfv3pVmePfmzZuL06dPixMnTog6deooDKl8584dUa9ePXH69GkhhBAJCQni888/F2fOnBGJiYni559/Fh4eHqJdu3baOoRCbd++XUilUrFx40Zx+fJlMWbMGFG9enX56ElDhgwR06dPl9c/efKkMDIyEosXLxZXrlwR4eHhlWqI95Ic6+zZs8WhQ4fEjRs3RGxsrOjfv78wNTUVly5d0tYhqOXJkyfyzyMAsWTJEnHu3Dnx77//CiGEmD59uhgyZIi8vmx4948//lhcuXJFrFixotIO7868VPnzEnNS1ctJQuh3XhKi+PdaW4p7X9TJj8XlovIyfvx4YW1tLaKiohSmEHj69Km8zrhx40Tt2rXFkSNHxJkzZ4S/v7/w9/eXL5dNIdC1a1dx/vx5cfDgQWFnZ1fu0x9Mnz5dHDt2TCQmJooLFy6I6dOnC4lEIn7//Xedjrswr45grcvxT548WURFRYnExERx8uRJERAQIGxtbcW9e/d0KvZK0yAcNmyYAKD0OHr0qLwOALFhwwb584KCAjFz5kzh4OAgpFKp6Ny5s7h69WrFB19CDx8+FAMGDBCWlpbCyspKjBgxQuEEMzExUeHYk5KSRLt27USNGjWEVCoVXl5e4uOPP9a5+b5kli1bJmrXri1MTEyEr6+vOHXqlHxZ+/btxbBhwxTq79y5U9StW1eYmJiIRo0aif3791dwxKVXkmOdNGmSvK6Dg4N48803xdmzZ7UQdckcPXpU5WdTdmzDhg0T7du3V1rH29tbmJiYCA8PD4XPbWXCvFQ18hJz0gtVJScJod95Saao91pbintf1MmPxeWi8qIq7lfze3Z2tnjvvfeEjY2NMDc3F2+99Za4e/euwnZu3bolunfvLszMzIStra2YPHmyyMvLK9fYR44cKVxdXYWJiYmws7MTnTt3ljcGdTnuwrzaINTl+ENCQoSTk5MwMTERLi4uIiQkRCQkJOhc7BIhhNDc741ERERERERUWVTZeQiJiIiIiIioaGwQEhERERER6Sk2CImIiIiIiPQUG4RERERERER6ig1CIiIiIiIiPcUGIRERERERkZ5ig5CIiIiIiEhPsUFIRERERESkp9ggJCIiIiIi0lNsEBIREREREekpNgiJiIiIiIj0FBuEREREREREeooNQiIiIiIiIj3FBiEREREREZGeYoOQiIiIiIhIT7FBSEREREREpKfYICQiIiIiItJTbBCSgtu3b8PU1BQnT57Udij0/1atWoXatWsjJydH26EQVYiCggI0btwY8+bN03YoVIyDBw/C0tIS9+/f13YoRFUa86LuuXz5MoyMjBAXF6ftUMqMDcIKtHHjRkgkEpw5c0ahPD09Hb6+vjA1NcXBgwcVll24cAEjRoyAu7s7TE1NYWlpCW9vb0ydOhU3b95UqDt8+HBIJBKVD1NTU7Vi/Pzzz+Hn54c2bdqU7WDVlJycjODgYFSvXh1WVlbo3bu30nEV5vfff8eoUaPQuHFjGBoaws3NTWW9W7duFfq6bN++XYNHUzJ5eXmYPXs2PDw8IJVK4eHhgblz5+L58+cK9YYPH47c3FysXr1aS5FSVSPLRaampkhOTlZa3qFDBzRu3FihLDc3F19//TWaN28OKysrVK9eHY0aNcKYMWMQHx+vtO3CHqdOnSo2vm3btuH27duYOHFi2Q+2lI4fP45evXqhVq1aMDU1haOjI7p161aii2Xbt29HixYtYGpqCjs7O4waNQoPHjxQqpeeno6pU6eiTp06MDMzg6urK0aNGoWkpCRNHlKJLV++HA0aNIBUKoWLiwtCQ0ORlZWlUKdbt27w8vLC/PnztRQlVZRvv/0WEokEfn5+2g6l0jtw4AA+++yzEq1T0XkxJycH06ZNg7OzM8zMzODn54fDhw+rte7u3bsREhICDw8PmJubo169epg8eTLS0tKU6rq5uan8rhg3bpyGj6hk1MnfDRs2RFBQEGbNmqWlKDXHSNsB6LuMjAx07doVFy5cwJ49e9CtWzf5srVr12L8+PGwtbXFoEGDUL9+fTx//hxxcXH4/vvvsXTpUmRnZ8PQ0FC+jlQqxXfffae0n5frFOb+/fvYtGkTNm3apJmDK0ZmZiY6duyI9PR0fPLJJzA2NsZXX32F9u3b4/z583jttdeKXH/r1q3YsWMHWrRoAWdn52L3N2DAALz55psKZf7+/mU6hrIYPHgwdu3ahZEjR6Jly5Y4deoUZs6ciaSkJKxZs0Zez9TUFMOGDcOSJUvw/vvvQyKRaC1mqlpycnIQERGBZcuWFVu3b9+++O233zBgwACMHj0aeXl5iI+Px759+9C6dWvUr19fof7nn38Od3d3pe14eXkVu69Fixahf//+sLa2Vv9gNOzatWswMDDAuHHj4OjoiMePH+OHH35Au3btsH//foVcrcrKlSvx3nvvoXPnzliyZAnu3LmDr7/+GmfOnMHp06flF+kKCgrQpUsXXL58Ge+99x7q1q2LhIQEfPvttzh06BCuXLmCatWqVcQhK5g2bRoWLlyIfv364cMPP8Tly5exbNkyXLp0CYcOHVKoO3bsWEyZMgWzZ8/WSqxUMbZs2QI3NzfExMQgISFBrc8yqXbgwAGsWLGiRI3Cis6Lw4cPx48//ohJkyahTp062LhxI958800cPXoUb7zxRpHrjhkzBs7Ozhg8eDBq166NixcvYvny5Thw4ADOnj0LMzMzhfre3t6YPHmyQlndunU1fkzqUjd/A8C4cePw5ptv4saNG/D09NRazGUmqMJs2LBBABB///23EEKIjIwM8frrrwsTExOxb98+hbonT54UhoaGol27diIjI0NpW9nZ2WLGjBni+fPn8rJhw4YJCwuLUse3ZMkSYWZmJp48eVLqbZTEggULBAARExMjL7ty5YowNDQUYWFhxa6fnJwscnNzhRBCBAUFCVdXV5X1EhMTBQCxaNEijcStCTExMQKAmDlzpkL55MmThUQiEf/8849C+ZkzZwQAERkZWZFhUhUly0Xe3t5CKpWK5ORkheXt27cXjRo1kj+X/b3OmzdPaVvPnz8XDx48UNq2LM+V1NmzZwUA8ccff5Rq/fKUlZUlHBwcRGBgYJH1cnJyRPXq1UW7du1EQUGBvPzXX38VAMQ333wjLzt58qQAIJYvX66wjfXr1wsAYvfu3Zo9CDX8999/wsjISAwZMkShfNmyZQKA+OWXXxTKU1NThaGhoVi3bl1FhkkV6ObNm/K/Rzs7O/HZZ59pfB+ZmZka36aumjBhgijJKXhF58XTp08rnTdlZ2cLT09P4e/vX+z6R48eVSrbtGmTACDWrl2rUO7q6iqCgoLKHLOmlCR/CyFEbm6usLGxUTqfq2zYZVRLMjMz0a1bN5w9exY//fQTgoKCFJbPnj0bEokEW7ZsUXnF1dTUFHPmzFHrlz917d27F35+frC0tFQol3Ufu3DhAtq3bw9zc3N4eXnhxx9/BAAcO3YMfn5+MDMzQ7169fDHH38obTs+Pl6p+9OPP/6IVq1aoVWrVvKy+vXro3Pnzti5c2ex8To7O8PY2LhEx5iVlYXc3NwSraNKVFQUJBIJdu7ciXnz5qFmzZowNTVF586dkZCQoFD36dOniI+PV+hq8OeffwIA+vfvr1C3f//+EEJgx44dCuU+Pj6oUaMGfv755zLHTiTzySefID8/HxEREUXWu3HjBgCo7EpuaGhY7K/5JbF3716YmJigXbt2CuWfffYZJBIJrl27hsGDB8Pa2hp2dnaYOXMmhBC4ffs2evfuDSsrKzg6OuLLL79U2nZSUpJC99aSMjc3h52dncpuTy+Li4tDWloaQkJCFH7R79GjBywtLRW6qmdkZAAAHBwcFLbh5OQEAEpX0tUh6ya/ePFirFmzBp6enpBKpWjVqhX+/vtvhbqyX3rv3r0rL4uOjsbz589V5icASl3t7e3t0bRpU+anKmzLli2wsbFBUFAQ+vXrhy1btqis9/DhQwwZMkTerXzYsGH4559/IJFIsHHjRnm94cOHw9LSEjdu3MCbb76JatWqYdCgQQBe/Gq+dOlSNGrUCKampnBwcMDYsWPx+PFjpf399ttvaNu2LSwsLFCtWjUEBQXh0qVLCnVk+0pKSpJ/Bl1cXLBixQoAwMWLF9GpUydYWFjA1dUVW7duVdpPWloaJk2ahFq1akEqlcLLywsLFixAQUGBvI66n7vhw4fL9/1yF8miVHRe/PHHH2FoaIgxY8bIy0xNTTFq1ChER0fj9u3bRcbboUMHpbK33noLAHDlyhWV6+Tm5ip1SS8tiUSCiRMnYu/evWjcuDGkUikaNWqkdFsWoHx+WpL8DQDGxsbo0KFDpc9/bBBqQVZWFrp3746///4bu3btQo8ePRSWP336FEeOHEGHDh1Qs2bNEm//wYMHSg/ZSUdh8vLy8Pfff6NFixYqlz9+/Bg9evSAn58fFi5cCKlUiv79+2PHjh3o378/3nzzTURERCArKwv9+vXDkydPFNZv0KABhg4dKn9eUFCACxcuoGXLlkr78vX1xY0bN5S2UVazZ8+GpaUlTE1N0apVK/z+++9l3mZERAT27NmDKVOmICwsDKdOnZJ/qcnExMSgQYMGWL58ubxMNkDMqyd75ubmAIDY2FilfbVo0YKD/ZBGubu7Y+jQoVi7di3++++/Quu5uroCeHFS+Oo9roVJT09XykMPHz4sdr2//voLjRs3LvRiT0hICAoKChAREQE/Pz/MnTsXS5cuRZcuXeDi4oIFCxbAy8sLU6ZMwfHjxxXWHTp0KBo0aKBW/DIZGRl48OAB4uPj8cknnyAuLg6dO3cucp3CPt+ysnPnzslPJFu2bAkLCwvMnDkTR44cQXJyMo4dO4apU6eiVatWCAgIKFG8L9u6dSsWLVqEsWPHYu7cubh16xbefvtt5OXlyeskJyejQYMGCAsLKzb+ovKTj48P/vrrr1LHSrpty5YtePvtt2FiYoIBAwbg+vXrShcXCgoK0LNnT2zbtg3Dhg3DvHnzcPfuXQwbNkzlNp8/f47AwEDY29tj8eLF6Nu3L4AXXZA//vhjtGnTBl9//TVGjBiBLVu2IDAwUOFvd/PmzQgKCoKlpSUWLFiAmTNn4vLly3jjjTdw69YthX3l5+eje/fuqFWrFhYuXAg3NzdMnDgRGzduRLdu3dCyZUssWLAA1apVw9ChQ5GYmChf9+nTp2jfvj1++OEHDB06FN988w3atGmDsLAwhIaGKh1XcZ+7sWPHokuXLvJjkD2KUtF58dy5c6hbty6srKwUyn19fQEA58+fLzJeVVJSUgAAtra2SsuOHDkCc3NzWFpaws3NDV9//XWJt/+qEydO4L333kP//v2xcOFCPHv2DH379lX6Hnr1/LQk+VvGx8cHcXFxxZ5r6zQt/0KpV2RdqVxdXYWxsbHYu3evynr//POPACAmTZqktOzhw4fi/v378kdOTo582bBhwwQAlY/iujglJCQIAGLZsmVKy9q3by8AiK1bt8rL4uPjBQBhYGAgTp06JS8/dOiQACA2bNigsA0Aon379vLn9+/fFwDE559/rrS/FStWCAAiPj6+yJhfVlSX0X///Vd07dpVrFy5Uvzyyy9i6dKlonbt2sLAwECpq666jh49KgCIBg0aKLwHX3/9tQAgLl68qFQ3PDxcXvbTTz8JAGLz5s0K2121apUAIBo3bqy0zzFjxggzM7NSxUv0spe7dd64cUMYGRmJDz74QL781S6jBQUF8jzg4OAgBgwYIFasWCH+/fffQret6iGVSouNrWbNmqJv375K5eHh4QKAGDNmjLzs+fPnombNmkIikYiIiAh5+ePHj4WZmZkYNmyYwjZkx1ASgYGB8vhNTEzE2LFjRXZ2dpHr3L9/X0gkEjFq1CiFclneBKDQzXbfvn3CyclJKWeXtvu+rJv8a6+9Jh49eiQv//nnnwUA8euvvyrVffm1io2NFQDEnDlzFLZ78OBBAUBYWloq7fOLL74QAERqamqpYibdJbtl4fDhw0KIF/mgZs2a4sMPP1SoJ/teW7p0qbwsPz9fdOrUSem8QHa+Mn36dIVt/PnnnwKA2LJli0K57G9PVv7kyRNRvXp1MXr0aIV6KSkpwtraWqFctq8vvvhCXibLERKJRGzfvl1eLvuMvvx9PWfOHGFhYSGuXbumsK/p06cLQ0NDkZSUJIQo2eeupF1GKzovNmrUSHTq1Elpf5cuXRIAxKpVq9SOXWbUqFHC0NBQ6XXs2bOnWLBggdi7d69Yt26daNu2rQAgpk6dWuJ9yMjydUJCgrxMdm796nmuqvPTkuRvIYTYunWrACBOnz5d6pi1jYPKaEFqaipMTU1Rq1YtlctlVxhe7boJAB4eHkhPT5c/37VrF/r16yd/bmpqil9//VVpPVVXZF4mu2JiY2OjcrmlpaVC96F69eqhevXqcHFxURhxTPb/V0cKFUIoPM/OzgbwYhCcV8lu1pXVKavatWsrDYIwZMgQNGzYEJMnT1bqrlsSI0aMgImJifx527ZtAbw4ftkojR06dFA6/jfffBOurq6YMmUKzM3N4ePjg9OnT+PTTz+FkZGRymO3sbFBdnY2nj59Kr9ST1RWHh4eGDJkCNasWYPp06fLuyq+TCKR4NChQ1i8eDF++OEHbNu2Ddu2bcOECRMQHByM1atXo3r16grrrFixQmlQAHW6uD98+LDQPAQA7777rsL2WrZsiTt37mDUqFHy8urVq6NevXpKeSgqKqrY/b8qIiICkydPxu3bt7Fp0ybk5uYW+yupra0tgoODsWnTJjRo0ABvvfUWkpOT8f7778PY2Bh5eXkKn3E7Ozs0b94cEydORKNGjXD+/HksXLgQI0aMwK5du0ocs0xISIjCa/lyfpJxc3NTyk8tWrSAn58fFixYABcXF3Ts2BFXrlzB+PHjYWxsXGh+Al70ULG3ty91zKR7tmzZAgcHB3Ts2BHAi3wQEhKCH374AV9++aX8c33w4EEYGxtj9OjR8nUNDAwwYcIEHDlyROW2x48fr/B8165dsLa2RpcuXRRus/Dx8YGlpSWOHj2KgQMH4vDhw0hLS8OAAQMU6hkaGsLPzw9Hjx5V2tfLuUOWIxISEhAcHCwvl53bvPwZ2bVrF9q2bQsbGxuFfQUEBCAiIgLHjx9X6BmkzueupCo6L2ZnZ2v0/Gzr1q1Yt26dfDTll/3yyy8Kz0eMGIHu3bvLB9IrTU854MX78/IgL02bNoWVlVWx56clzd+AYv6rrNgg1ILVq1cjNDQU3bp1w59//ol69eopLJfdM5iZmam07s8//4y8vDz8888/mDJlitJyQ0PDMnUxevWDIVOzZk2lPu7W1tZKjVrZ6Feq+vq/TPZTvKq59Z49e6ZQpzzUqFEDI0aMQEREBO7cuVPqhFO7dm2F57KkUNzxm5qaYv/+/QgODpZ3k5FKpVi4cCHmzZun8mKA7L3hKKOkaTNmzMDmzZsRERFRaFcdqVSKTz/9FJ9++inu3r2LY8eO4euvv8bOnTthbGyMH374QaG+r6+vyi7h6igsDwHKnzlra2uYmpoqXfSytrYutotqbm4uHj16pFBmZ2en0HD19vaW/3/w4MFo0aKFfPS9oqxevRrZ2dmYMmWKPFcPHjwYnp6e2L17t/wzfvPmTXTs2BHff/+9PBf07t0bbm5uGD58OH777Td07969yH0VprT5CQB++uknhISEYOTIkQBefLeEhobi2LFjuHr1qlJ95qeqKT8/H9u3b0fHjh0VulH6+fnhyy+/RGRkJLp27QoA+Pfff+Hk5KR0wbKw0UiNjIyUvnuvX7+O9PT0Qi8q3Lt3T14PADp16qSy3qtdHWVTB7zM2tq60HOblz8j169fx4ULF5TWfzUmmbJ87opSUXkReHH+panzsz///BOjRo1CYGCgWnMoSiQSfPTRRzh06BCioqIwePBgtff1sldfE+DFe6HO+6Bu/papCvmPDUItaNiwIQ4cOIDOnTujS5cuOHnypELDysvLq9CJLtu3bw/gRSLVJNmgEIV9UAq7sl9YeVGJC3jRIJNKpQoDGcjIytSZSqIsZK/5o0ePSt0gLO3xA0CjRo0QFxeHy5cv4/Hjx2jYsCHMzMzw0Ucfyd/nlz1+/Bjm5ubl2lAm/eTh4YHBgwfLfyUsjpOTE/r374++ffuiUaNG2LlzJzZu3KiRvPTaa68V+YWt6jNX2s/hX3/9Jf/VQyYxMbHQOU1NTEzQq1cvREREIDs7u8jPorW1NX7++WckJSXh1q1bcHV1haurK1q3bg07Ozv5L6obN27Es2fPlO4l79WrFwDg5MmTpW4QliU/ubi44MSJE7h+/TpSUlJQp04dODo6wtnZWeVw8LL3rLjeKFS5HDlyBHfv3sX27dtVztu7ZcsWeYOwpKRSKQwMFIeyKCgogL29faGD1sgaZbJ7uDZv3gxHR0eleq/morKcw8imhpk6darKuur2hFDnc1eYisyLwIscr2qO2pKen/3zzz/o1asXGjdujB9//FHt74iXz89KqyzHr27+lqkK+Y8NQi3x9fXF3r17ERQUhC5duuDPP/+UJzoLCwt06NABx44dQ3JyMlxcXMo9ntq1a8PMzEzhCmB5MjAwQJMmTXDmzBmlZadPn4aHh0e5z2cl6zZQ2FW/iiCRSNCoUSP58wMHDqCgoEDlr7yJiYklHhCDSF0zZszADz/8gAULFqi9jrGxMZo2bYrr16/jwYMHKk/MSqp+/foVloeaNWumNNFycceQnZ0NIQSePHmi1sWZ2rVry69Up6WlITY2Vv5LIPDiFgIhBPLz8xXWkw1Aoe4gPuWlTp068i5ely9fxt27dzF8+HCleomJibC1tdVqPiXN27JlC+zt7eWjYr5s9+7d2LNnD1atWgUzMzO4urri6NGjSrc1vDrydlE8PT3xxx9/oE2bNkV+vmRdAe3t7cvUK0rdmDIzMzW6n5L+klSReRF40TPi6NGjyMjIUPi19fTp0/Llxblx4wa6desGe3t7HDhwQGXPp8LowvkZUHz+lklMTISBgYFW504sK44yqkWdO3fGtm3bkJCQgG7duimMTjRr1izk5+dj8ODBKruOluVKkyrGxsZo2bKlygaaJqiadqJfv374+++/FfZ59epVHDlyBO+8806x66vr/v37SmXJyclYv349mjZtqvKeKU1SNe2EKtnZ2Zg5cyacnJwwYMAApeVnz55F69atyytM0nOenp4YPHgwVq9eLR8NTub69esqP39paWmIjo6GjY2Nxr64/f39ERcXp7K7Ulm9Ory6jY0NAgICFB6ye2Re7QYGvDjen376CbVq1VLo0qbudBZhYWF4/vw5PvroI3lZ3bp1IYRQmmpn27ZtAIDmzZuX7CBLSNW0E6oUFBRg6tSpMDc3x7hx45SWx8bGwt/fv7zCJC3Izs7G7t270aNHD/Tr10/pMXHiRDx58kR+D5hsFNC1a9fKt1FQUKCyMVmY4OBg5OfnY86cOUrLnj9/Lp/yJTAwEFZWVvjiiy8URh6VUfW9X1rBwcGIjo5WGosAeJETSnPRxsLCQr6+OioyLwIvzs/y8/OxZs0aeVlOTg42bNgAPz8/hV5tqtZPSUlB165dYWBggEOHDhX6/fDo0SOVF8MiIiJgYmKi1IOjPKh7fqkqf8vExsaiUaNG8tumKiP+Qqhlb731FtauXYuRI0eiV69eOHjwIExNTdG2bVssX74c77//PurUqYNBgwahfv36yM3NxbVr17BlyxaYmJgoXc1+/vy50r08L+9LloRU6d27Nz799FOlK0Ka0KBBA7Rv317h5uX33nsPa9euRVBQEKZMmQJjY2MsWbIEDg4OmDx5crHrX7hwQf5FlJCQgPT0dMydOxfAiyv/PXv2BABMnToVN27cQOfOneHs7Ixbt25h9erVyMrKUrpfauPGjRgxYgQ2bNig8ip4acTExKBjx44IDw/HZ599Ji8PDg6Gs7MzGjZsiIyMDKxfvx43b97E/v37lX4djY2NxaNHj9C7d2+NxESkyqefforNmzfj6tWrCr9c//PPPxg4cCC6d++Otm3bokaNGkhOTsamTZvw33//YenSpUrdc3777TeVjaTWrVvDw8Oj0Bh69+6NOXPm4NixY6XuilaYoUOH4tixY2pdUOvevTtq1qwJPz8/2NvbIykpCRs2bMB///2nNE+oqu1GREQgLi4Ofn5+MDIywt69e/H7779j7ty5CnOvDh8+HIsXL8bYsWNx7tw5NGrUCGfPnsV3332HRo0ayefuAl4M/qAql5SFbNqJYcOGKcwT9+GHH+LZs2fw9vZGXl4etm7dipiYGGzatEnp3px79+7hwoULmDBhgkZiIt3wyy+/4MmTJ/Luy696/fXXYWdnhy1btiAkJAR9+vSBr68vJk+ejISEBNSvXx+//PKLvNufOr+KtW/fHmPHjsX8+fNx/vx5dO3aFcbGxrh+/Tp27dqFr7/+Gv369YOVlRVWrlyJIUOGoEWLFujfvz/s7OyQlJSE/fv3o02bNgpTPZXFxx9/jF9++QU9evTA8OHD4ePjg6ysLFy8eBE//vgjbt26VeKugj4+PgCADz74AIGBgTA0NFSa9/NlFZ0X/fz88M477yAsLAz37t2Dl5cXNm3ahFu3bmHdunXFrt+tWzfcvHkTU6dOxYkTJ3DixAn5MgcHB/m0G7/88gvmzp2Lfv36wd3dHY8ePcLWrVsRFxeHL774QuEc99atW3B3d1fKVWWl6vxS3fwNvGjAHjt2DO+9957GYtKKihrOlBSHen/V4sWLBQDRo0cPkZeXJy8/d+6cGDp0qKhdu7YwMTERFhYWomnTpmLy5MkKw+kKUfS0EwBEYmJikfGlpqYKIyMjpakQXh2CXsbV1VUEBQUplQMQEyZMUCp7eVhfmdu3b4t+/foJKysrYWlpKXr06CGuX7+ucpuvrl/U8PYvD6u8detW0a5dO2FnZyeMjIyEra2teOutt0RsbKzSfpYtWyYAiIMHDyote5lsKoldu3YplMuGnX55eG1V004IIcSCBQtE/fr1hampqbCxsRG9evUS586dU7m/adOmidq1a4uCgoIi4yJSR1G5SJZHXv7Mp6amioiICNG+fXvh5OQkjIyMhI2NjejUqZP48ccfVW67sMerU9Ko0rRpU6Uhv2XDq9+/f18pXgsLC6VtqMpbJZl2Yvny5eKNN94Qtra2wsjISNjZ2YmePXuK48ePq9zXq9vdt2+f8PX1FdWqVRPm5ubi9ddfFzt37lS5rzt37oiRI0cKd3d3YWJiIpycnMTo0aOVjvXXX39Va8h3WR5atGiR0rJXc5GqaSeEePE+NmvWTFhYWIhq1aqJzp07iyNHjqjc38qVK4W5ubnIyMgoMi6qXHr27ClMTU1FVlZWoXWGDx8ujI2N5cPw379/XwwcOFBUq1ZNWFtbi+HDh4uTJ08KAArTOxT2uZVZs2aN8PHxEWZmZqJatWqiSZMmYurUqeK///5TqHf06FERGBgorK2thampqfD09BTDhw8XZ86cKXZfJTm3efLkiQgLCxNeXl7CxMRE2NraitatW4vFixeL3NxcIUTJPnfPnz8X77//vrCzsxMSiUStvFTReTE7O1tMmTJFODo6CqlUKlq1aqXy3EjV+kV9B7x8LnfmzBnRs2dP4eLiIkxMTISlpaV44403VObKixcvqpyqRBVV56FCvHhvX811qs4vS5K/f/vtNwFA5blrZSIRQsN9D6lSGzVqFK5du4Y///xT26FoRXBwMG7duoWYmBhthyKXk5MDNzc3TJ8+HR9++KG2wyEqd5s3b8aECROQlJSkdPO+Pps6dar8NgNVQ8JrS/PmzdGhQwd89dVX2g6FdNDevXvx1ltv4cSJE2jTpo22w6m09D0vfvvtt/IeXw4ODtoOR65Pnz6QSCTYs2ePtkMpE95DSArCw8Px999/4+TJk9oOpcIJIRAVFSXvdqorNmzYAGNjY5X37RBVRYMGDULt2rVLdO+RPjh69ChmzpypU43BgwcP4vr16wgLC9N2KKQDXp2fLT8/H8uWLYOVlRVatGihpaiqBn3Pi0ePHsUHH3ygU43BK1euYN++fSrvea1s+AshEREREZXZu+++i+zsbPj7+yMnJwe7d+/GX3/9hS+++IIXDYh0GBuERERERFRmW7duxZdffomEhAQ8e/YMXl5eGD9+PCZOnKjt0IioCMV2GT1+/Dh69uwJZ2dnSCQS7N27t9iNRkVFoUWLFpBKpfDy8lI5GtCKFSvg5uYGU1NT+Pn56dQ9W0Sku5iTiEjXMC+9MHDgQMTGxiI9PR05OTm4dOkSG4NElUCxDcKsrCw0a9ZM7T7LiYmJCAoKQseOHXH+/HlMmjQJ7777rsL8LTt27EBoaCjCw8Nx9uxZNGvWDIGBgSrnfSIiehlzEhHpGuYlIqrMStRlVDaKTp8+fQqtM23aNOzfvx9xcXHysv79+yMtLQ0HDx4E8GJ+k1atWsnniCkoKECtWrXw/vvvY/r06aU8FCLSN8xJRKRrmJeIqLLR+MT00dHRCAgIUCgLDAzEpEmTAAC5ubmIjY1VuLnYwMAAAQEBiI6OLnS7OTk5yMnJkT8vKCjAo0eP8Nprr6k12SkRaY8QAk+ePIGzszMMDCp2cGPmJCJ6lTZzEsC8RETKtJmXNN4gTElJURoS1sHBARkZGcjOzsbjx4+Rn5+vsk58fHyh250/fz5mz56t6XCJqALdvn0bNWvWrNB9MicRUWG0kZMA5iUiKpw28pLGG4TlJSwsDKGhofLn6enpqF27Nm7fvg0rKystRkakXy7/l47g1acQ8XYTeNhZqLVO3K1UjO7eCtWqVSvn6CoOcxKRdpUmF8lUxZwEMC8Rlaey5Bx1aDMvabxB6OjoiNTUVIWy1NRUWFlZwczMDIaGhjA0NFRZx9HRsdDtSqVSlZPxWllZMckRVSDLJwIGUnM09XBCYxfrEq2rjS5LzElEVVNZcpGMtrpRMi8RVT6ayDnq0EZe0ngHVX9/f0RGRiqUHT58GP7+/gAAExMT+Pj4KNQpKChAZGSkvA4RkaYwJxGRrmFeIiJdUmyDMDMzE+fPn8f58+cBvBgq+fz580hKSgLwonvC0KFD5fXHjRuHmzdvYurUqYiPj8e3336LnTt34qOPPpLXCQ0Nxdq1a7Fp0yZcuXIF48ePR1ZWFkaMGKHhwyOiqoY5iYh0DfMSEVVmxXYZPXPmDDp27Ch/LuubPmzYMGzcuBF3796VJzwAcHd3x/79+/HRRx/h66+/Rs2aNfHdd98hMDBQXickJAT379/HrFmzkJKSAm9vbxw8eFDp5mkiolcxJxGRrmFeIqLKrETzEOqSjIwMWFtbIz09nf3iiSpQXHI6eiw7gX3vv6F2H/pT8bfh36B2lf68MicRVazS5CIZfchJAPMSkSaVJeeoQ5t5qeIn3yEiIiIiIiKdwAYhERERERGRnmKDkIiIiIiISE+xQUhERERERKSn2CAkIiIiIiLSU8VOO0FEuiM5LRuPs3K1GkPCvUyt7p+IiEif6cK5gD6qyuc/bBASVRLJadkI+PIYsvPytR0KzIwNYWNhou0wiIiI9IounQvoo6p6/sMGIVEl8TgrF9l5+Vga4g0ve0utxmJjYQKX6mZajYGIiEjf6NK5gD6qquc/bBASVTJe9pblMiEqERERVQ48FyBN4qAyREREREREeooNQiIiIiIiIj3FBiEREREREZGeYoOQiIiIiIhIT7FBSEREREREpKfYICQiIiIiItJTbBASERERERHpKTYIiYiIiIiI9BQbhERERERERHpKrQbhihUr4ObmBlNTU/j5+SEmJqbQuh06dIBEIlF6BAUFyesMHz5caXm3bt3KfjREVdjDrFxth6BTmJeISJcwJ5E6ktOyEZecXupHwr1MbR8CVUFGxVXYsWMHQkNDsWrVKvj5+WHp0qUIDAzE1atXYW9vr1R/9+7dyM3934nrw4cP0axZM7zzzjsK9bp164YNGzbIn0ul0rIcB1GVlpyWjXGbY2FmbAgbCxNth6N1zEtEpEuYk0gdyWnZCPjyGLLz8su0HZ4LkKYV2yBcsmQJRo8ejREjRgAAVq1ahf3792P9+vWYPn26Uv0aNWooPN++fTvMzc2VkpxUKoWjo2NZYifSG4+zcpGdl49NI33hUt1M2+FoHfMSEekS5iRSh+y7fGmIN7zsLUu9HRsLE54LkEYV2SDMzc1FbGwswsLC5GUGBgYICAhAdHS0WjtYt24d+vfvDwsLC4XyqKgo2Nvbw8bGBp06dcLcuXPx2muvFbqdnJwc5OTkyJ9nZGSotX+iquQ1XhHUmbzEnEREgO7kJIB5qbLwsrdEYxdrbYdBJFfkPYQPHjxAfn4+HBwcFModHByQkpJS7MZjYmIQFxeHd999V6G8W7du+P777xEZGYkFCxbg2LFj6N69O/LzC/8Jff78+bC2tpY/atWqVez+iajq0ZW8xJxERIDu5CSAeYmISqfYLqNlsW7dOjRp0gS+vr4K5f3795f/v0mTJmjatCk8PT0RFRWFzp07q9xWWFgYQkND5c8zMjKY6IioxDSVl5iTiEgTeK5ERNpW5C+Etra2MDQ0RGpqqkJ5ampqsX3as7KysH37dowaNarYIDw8PGBra4uEhIRC60ilUlhZWSk8iEj/6EpeYk4iIkB3chLAvEREpVNkg9DExAQ+Pj6IjIyUlxUUFCAyMhL+/v5FbnjXrl3IycnB4MGDiw3izp07ePjwIZycnNQMm4j0FfMSEekS5iQiquyKnYcwNDQUa9euxaZNm3DlyhWMHz8eWVlZ8pG0hg4dqnAjtcy6devQp08fpZufMzMz8fHHH+PUqVO4desWIiMj0bt3b3h5eSEwMFBDh0VEVRnzEhHpEuYkIqrMir2HMCQkBPfv38esWbOQkpICb29vHDx4UH7zdFJSEgwMFNuVV69exYkTJ/D7778rbc/Q0BAXLlzApk2bkJaWBmdnZ3Tt2hVz5szh/DpEpBbmJSLSJcxJRFSZSYQQQttBlEZGRgasra2Rnp7OPvJU5cUlp6PHshPY9/4blXKo6lPxt+HfoHaV/rwyJxFVrLLkRX3ISQDzkq6p7N/lVL60mZeK7TJKREREREREVRMbhERERERERHqqXOchJKL/SU7LxuOs3FKtm3AvU8PREJEuK0u+0BfMi1TRyvq55N8s6So2CIkqQHJaNgK+PIbsvPxSb8PM2BA2FiYajIqIdJEm8oW+YF6kiqKpzyX/ZkkXsUFIVAEeZ+UiOy8fS0O84WVvWapt2FiYwKW6mYYjIyJdo4l8oS+YF6miaOpzyb9Z0kVsEBJVIC97S44sRkRqYb4g0j38XFJVxEFliIiIiIiI9BQbhERERERERHqKDUIiIiIiIiI9xQYhERERERGRnmKDkIiIiIiISE+xQUhERERERKSn2CAkIiIiIiLSU2wQEhERERER6SlOTE9UjpLTsvE4KxcJ9zK1HQoREVGVJ/ve1TR+j1NVxgYhUTlJTstGwJfHkJ2XDwAwMzaEjYWJlqMiIiKqml793tU0fo9TVcUGIVE5eZyVi+y8fCwN8YaXvSVsLEzgUt1M22ERERFVSa9+72oav8epqlLrHsIVK1bAzc0Npqam8PPzQ0xMTKF1N27cCIlEovAwNTVVqCOEwKxZs+Dk5AQzMzMEBATg+vXrZTsSIh3lZW+Jxi7W/BLRMOYlItIlzEm6Q/a9q+kHv8epqiq2Qbhjxw6EhoYiPDwcZ8+eRbNmzRAYGIh79+4Vuo6VlRXu3r0rf/z7778KyxcuXIhvvvkGq1atwunTp2FhYYHAwEA8e/as7EdERFUe8xIR6RLmJCKqzIptEC5ZsgSjR4/GiBEj0LBhQ6xatQrm5uZYv359oetIJBI4OjrKHw4ODvJlQggsXboUM2bMQO/evdG0aVN8//33+O+//7B3716NHBQRVW3MS0SkS5iTiKgyK7JBmJubi9jYWAQEBPxvBQMDBAQEIDo6utD1MjMz4erqilq1aqF37964dOmSfFliYiJSUlIUtmltbQ0/P78it0lEBDAvEZFuYU4iosquyAbhgwcPkJ+fr3DVCgAcHByQkpKicp169eph/fr1+Pnnn/HDDz+goKAArVu3xp07dwBAvl5JtgkAOTk5yMjIUHgQkf7RlbzEnEREgO7kJIB5iYhKR+MT0/v7+2Po0KHw9vZG+/btsXv3btjZ2WH16tVl2u78+fNhbW0tf9SqVUtDERNRVVceeYk5iYhKi+dKRKRLimwQ2trawtDQEKmpqQrlqampcHR0VGsHxsbGaN68ORISEgBAvl5JtxkWFob09HT54/bt22rtn4iqFl3JS8xJRAToTk4CmJeIqHSKbBCamJjAx8cHkZGR8rKCggJERkbC399frR3k5+fj4sWLcHJyAgC4u7vD0dFRYZsZGRk4ffp0kduUSqWwsrJSeBCR/tGVvMScRESA7uQkgHmJiEqn2InpQ0NDMWzYMLRs2RK+vr5YunQpsrKyMGLECADA0KFD4eLigvnz5wMAPv/8c7z++uvw8vJCWloaFi1ahH///RfvvvsugBejak2aNAlz585FnTp14O7ujpkzZ8LZ2Rl9+vQpvyMloiqDeYmIdAlzEhFVZsU2CENCQnD//n3MmjULKSkp8Pb2xsGDB+U3OiclJcHA4H8/ND5+/BijR49GSkoKbGxs4OPjg7/++gsNGzaU15k6dSqysrIwZswYpKWl4Y033sDBgweVJmUlIlKFeYmIdAlzEhFVZhIhhNB2EKWRkZEBa2trpKens0sE6ZzktGz8nfgIk3acx77330BjF2tth6RVp+Jvw79B7Sr9eWVOIk2JS05Hj2UnmDvKkT7kJKDq56XktGw8zsqVP0+4l8nvXaq0tJmXiv2FkIhKJjktGwFfHkN2Xj7MjA1hY2Gi7ZCIiIiqlJe/a1/G712ikmODkEjDHmflIjsvH0tDvNHKvQZcqptpOyQiIqIq5eXvWi97S3m5jYUJv3eJSogNQqJy4mVvyS8lIiKicuRlb8nuoURlpPGJ6YmIiIiIiKhyYIOQiIiIiIhIT7FBSEREREREpKfYICQiIiIiItJTbBASERERERHpKTYIiYiIiIiI9BQbhERERERERHqKDUIiIiIiIiI9xQYhERERERGRnjLSdgBEmpaclo3HWbla23/CvUyt7ZuISkbb+UIV5hAqb7r4d19S/JwQaQ4bhFSlJKdlI+DLY8jOy9dqHGbGhrCxMNFqDERUNF3JF6owh1B50eW/+5Li54RIM9ggpCrlcVYusvPysTTEG172llqLw8bCBC7VzbS2fyIqnq7kC1WYQ6i86PLffUnxc0KkGWwQUpXkZW+Jxi7W2g6DiCoB5gvSR/y7JyIZDipDRERERESkp9ggJCIiIiIi0lNqNQhXrFgBNzc3mJqaws/PDzExMYXWXbt2Ldq2bQsbGxvY2NggICBAqf7w4cMhkUgUHt26dSvbkRCRXmFeIiJdwpxERJVVsQ3CHTt2IDQ0FOHh4Th79iyaNWuGwMBA3Lt3T2X9qKgoDBgwAEePHkV0dDRq1aqFrl27Ijk5WaFet27dcPfuXflj27ZtmjkiIqrymJeISJcwJxFRZVZsg3DJkiUYPXo0RowYgYYNG2LVqlUwNzfH+vXrVdbfsmUL3nvvPXh7e6N+/fr47rvvUFBQgMjISIV6UqkUjo6O8oeNjY1mjoiIqjzmJSLSJcxJRFSZFdkgzM3NRWxsLAICAv63goEBAgICEB0drdYOnj59iry8PNSoUUOhPCoqCvb29qhXrx7Gjx+Phw8fliJ8ItI3zEtEpEuYk4iosity2okHDx4gPz8fDg4OCuUODg6Ij49XawfTpk2Ds7OzQqLs1q0b3n77bbi7u+PGjRv45JNP0L17d0RHR8PQ0FDldnJycpCTkyN/npGRodb+iahq0ZW8xJxERIDu5CSAeYmISqdc5yGMiIjA9u3bERUVBVNTU3l5//795f9v0qQJmjZtCk9PT0RFRaFz584qtzV//nzMnj27PMMlIj2gqbzEnEREmsBzJSLStiK7jNra2sLQ0BCpqakK5ampqXB0dCxyw4sXL0ZERAR+//13NG3atMi6Hh4esLW1RUJCQqF1wsLCkJ6eLn/cvn27yG0SUdWkK3mJOYmIAN3JSQDzEhGVTpG/EJqYmMDHxweRkZHo06cPAMhvep44cWKh6y1cuBDz5s3DoUOH0LJly2KDuHPnDh4+fAgnJ6dC60ilUkil0mK3RZVfclo2HmfllmrdhHuZGo6GdI2u5CXmJCICdCcnAYXnpcv/pcPyiQDA70kiUlZsl9HQ0FAMGzYMLVu2hK+vL5YuXYqsrCyMGDECADB06FC4uLhg/vz5AIAFCxZg1qxZ2Lp1K9zc3JCSkgIAsLS0hKWlJTIzMzF79mz07dsXjo6OuHHjBqZOnQovLy8EBgaW46FSZZCclo2AL48hOy+/1NswMzaEjYWJBqMiXcO8RES6RNdzUvDqUzCQmsuf83uSiF5WbIMwJCQE9+/fx6xZs5CSkgJvb28cPHhQfvN0UlISDAz+1/N05cqVyM3NRb9+/RS2Ex4ejs8++wyGhoa4cOECNm3ahLS0NDg7O6Nr166YM2cOr7YTHmflIjsvH0tDvOFlb1mqbdhYmMClupmGIyNdwrxERLpE13NSxNtN0NTjf78s8nuSiF4mEUIIbQdRGhkZGbC2tkZ6ejqsrKy0HQ5pSFxyOnosO4F977+Bxi7W2g6HNORU/G34N6hdpT+vzEmVD/ON/tKHnAT8Ly9FX0nC6/VraTscIiqCNvNSsRPTExERERERUdXEBiEREREREZGeYoOQiIiIiIhIT7FBSEREREREpKfYICQiIiIiItJTbBASERERERHpKTYIiYiIiIiI9BQbhERERERERHqKDUIiIiIiIiI9ZaTtAIiS07LxOCsXAJBwL1PL0RARERER6Q82CEmrktOyEfDlMWTn5cvLzIwNYWNhosWoiIiIiIj0AxuEpFWPs3KRnZePpSHe8LK3BADYWJjApbqZliMjIiIiIqr62CAkneBlb4nGLtbaDoOIiIiISK9wUBkiIiIiIiI9xQYhERERERGRnmKDkIiIiIiISE+xQUhERERERKSn2CAkIiIiIiLSU2o1CFesWAE3NzeYmprCz88PMTExRdbftWsX6tevD1NTUzRp0gQHDhxQWC6EwKxZs+Dk5AQzMzMEBATg+vXrpT8KItI7zEtEpEuYk4iosiq2Qbhjxw6EhoYiPDwcZ8+eRbNmzRAYGIh79+6prP/XX39hwIABGDVqFM6dO4c+ffqgT58+iIuLk9dZuHAhvvnmG6xatQqnT5+GhYUFAgMD8ezZM80dGRFVWcxLRKRLmJOIqFITxfD19RUTJkyQP8/PzxfOzs5i/vz5KusHBweLoKAghTI/Pz8xduxYIYQQBQUFwtHRUSxatEi+PC0tTUilUrFt27biwpFLT08XAER6erra65DuuXgnTbhO2ycu3knTdihUjqKvJGn086qLeYk5qfJh/tFf+pCThPhfXoq+klSSwyEiLdB0XiqJIiemz83NRWxsLMLCwuRlBgYGCAgIQHR0tMp1oqOjERoaqlAWGBiIvXv3AgASExORkpKCgIAA+XJra2v4+fkhOjoa/fv3V7ndnJwc5OTkyJ+np6cDAP6+dgcWltWKOgzSYTfvZ6Eg5ykyn2QgI0Oi7XConGRlPgHwogtUWelKXmJOqvyYf/RXVcxJQOF5KSvzCTIyMkp1fERUMTSZl0qqyAbhgwcPkJ+fDwcHB4VyBwcHxMfHq1wnJSVFZf2UlBT5cllZYXVUmT9/PmbPnq1UHtCqUVGHQJWE/1JtR0AV4eHDh7C2ti7TNnQlLzEnVR3MP/qrKuUkgHmJqCrQRF4qqSIbhLokLCxM4WpaWloaXF1dkZSUVOEvWmWWkZGBWrVq4fbt27CystJ2OJUKX7vSS09PR+3atVGjRg1th6IxzEmaw89W6fB1K72qmJOAqpWXKvPfN2PXjsocO6DdvFRkg9DW1haGhoZITU1VKE9NTYWjo6PKdRwdHYusL/s3NTUVTk5OCnW8vb0LjUUqlUIqlSqVW1tbV8o3XdusrKz4upUSX7vSMzAo+0w3upKXmJM0j5+t0uHrVnpVKScBVTMvVea/b8auHZU5dkAzeanE+yxqoYmJCXx8fBAZGSkvKygoQGRkJPz9/VWu4+/vr1AfAA4fPiyv7+7uDkdHR4U6GRkZOH36dKHbJCKSYV4iIl3CnERElV5xo85s375dSKVSsXHjRnH58mUxZswYUb16dZGSkiKEEGLIkCFi+vTp8vonT54URkZGYvHixeLKlSsiPDxcGBsbi4sXL8rrREREiOrVq4uff/5ZXLhwQfTu3Vu4u7uL7OxstUfD4Yh+pcPXrfT42pWepl87XcxL/PsoPb52pcPXrfT0ISeVx3FWJMauHYxde7QZf7ENQiGEWLZsmahdu7YwMTERvr6+4tSpU/Jl7du3F8OGDVOov3PnTlG3bl1hYmIiGjVqJPbv36+wvKCgQMycOVM4ODgIqVQqOnfuLK5evVqiwJ89eybCw8PFs2fPSrSevuPrVnp87UqvPF47XctL/PsoPb52pcPXrfT0IScJUbn/Rhi7djB27dFm/BIhtDC2KREREREREWldxd+1SERERERERDqBDUIiIiIiIiI9xQYhERERERGRnmKDkIiIiIiISE9V+gbhrVu3MGrUKLi7u8PMzAyenp4IDw9Hbm6utkOrFObNm4fWrVvD3Nwc1atX13Y4OmvFihVwc3ODqakp/Pz8EBMTo+2QKoXjx4+jZ8+ecHZ2hkQiwd69e7UdUoVgXio95iT1MS+VXFXMSSX9O9i1axfq168PU1NTNGnSBAcOHKigSJWVJPa1a9eibdu2sLGxgY2NDQICArT6N1/az9/27dshkUjQp0+f8g2wCCWNPS0tDRMmTICTkxOkUinq1q2rtb+bksa+dOlS1KtXD2ZmZqhVqxY++ugjPHv2rIKi/Z/S5J6oqCi0aNECUqkUXl5e2LhxY7nFV+kbhPHx8SgoKMDq1atx6dIlfPXVV1i1ahU++eQTbYdWKeTm5uKdd97B+PHjtR2KztqxYwdCQ0MRHh6Os2fPolmzZggMDMS9e/e0HZrOy8rKQrNmzbBixQpth1KhmJdKjzlJPcxLpVPVclJJ/w7++usvDBgwAKNGjcK5c+fQp08f9OnTB3FxcRUcecljj4qKwoABA3D06FFER0ejVq1a6Nq1K5KTkys48tJ//m7duoUpU6agbdu2FRSpspLGnpubiy5duuDWrVv48ccfcfXqVaxduxYuLi4VHHnJY9+6dSumT5+O8PBwXLlyBevWrcOOHTu08l1c0tyTmJiIoKAgdOzYEefPn8ekSZPw7rvv4tChQ+UTYIVPdFEBFi5cKNzd3bUdRqWyYcMGYW1tre0wdJKvr6+YMGGC/Hl+fr5wdnYW8+fP12JUlQ8AsWfPHm2HoTXMSyXDnFQ05qWyqwo5qaR/B8HBwSIoKEihzM/PT4wdO7Zc41SlrH/Dz58/F9WqVRObNm0qrxALVZrYnz9/Llq3bi2+++47MWzYMNG7d+8KiFRZSWNfuXKl8PDwELm5uRUVYqFKGvuECRNEp06dFMpCQ0NFmzZtyjXO4qiTe6ZOnSoaNWqkUBYSEiICAwPLJaZK/wuhKunp6ahRo4a2w6AqIDc3F7GxsQgICJCXGRgYICAgANHR0VqMjCob5iXSFOYlAkr3dxAdHa1QHwACAwMr/O9GE3/DT58+RV5eXoXn1dLG/vnnn8Pe3h6jRo2qiDBVKk3sv/zyC/z9/TFhwgQ4ODigcePG+OKLL5Cfn19RYQMoXeytW7dGbGysvFvpzZs3ceDAAbz55psVEnNZVPRn1ahctqpFCQkJWLZsGRYvXqztUKgKePDgAfLz8+Hg4KBQ7uDggPj4eC1FRZUN8xJpEvMSAaX7O0hJSVFZPyUlpdziVEUTf8PTpk2Ds7Oz0klzeStN7CdOnMC6detw/vz5CoiwcKWJ/ebNmzhy5AgGDRqEAwcOICEhAe+99x7y8vIQHh5eEWEDKF3sAwcOxIMHD/DGG29ACIHnz59j3LhxleL2jcI+qxkZGcjOzoaZmZlG96ezvxBOnz4dEomkyMerfwDJycno1q0b3nnnHYwePVpLkWtfaV47Iioe81LpMCcRkSZFRERg+/bt2LNnD0xNTbUdTpGePHmCIUOGYO3atbC1tdV2OCVWUFAAe3t7rFmzBj4+PggJCcGnn36KVatWaTu0YkVFReGLL77At99+i7Nnz2L37t3Yv38/5syZo+3QdI7O/kI4efJkDB8+vMg6Hh4e8v//999/6NixI1q3bo01a9aUc3S6raSvHRXO1tYWhoaGSE1NVShPTU2Fo6OjlqIibWFeKh3mJM1iXiKgdH8Hjo6OOvF3U5a/4cWLFyMiIgJ//PEHmjZtWp5hqlTS2G/cuIFbt26hZ8+e8rKCggIAgJGREa5evQpPT8/yDfr/leZ1d3JygrGxMQwNDeVlDRo0QEpKCnJzc2FiYlKuMcuUJvaZM2diyJAhePfddwEATZo0QVZWFsaMGYNPP/0UBgY6+7tYoZ9VKysrjf86COhwg9DOzg52dnZq1U1OTkbHjh3h4+ODDRs26PQbXBFK8tpR0UxMTODj44PIyEj5ENEFBQWIjIzExIkTtRscVTjmpdJhTtIs5iUCSvd34O/vj8jI/2vv/l0aWcMojr+LOhExYCVYRCEREWwsRAkWKfwf7EI6C7GwEVIIo2BARAQR61ipiKWCP1hSKXZTBAxaBCIB7SwGbBTPLZabXa9yswlkJrvv9wPTDBM4mbx5hkOYyXezuLhY23d5eWmSyWQAiX9qdg1vbGyYXC5nzs/PzcTEREBpP2o0++joqCkWix/2LS8vG9/3zfb2tonFYkHENsY0d96np6fN/v6+eX9/r13H7u/vzcDAQGBl0Jjmsr+8vHy69v5bbH8826V9JZPJT3/t0dLvakseVROgarWq4eFhzczMqFqt6vHxsbahvkqlIs/ztLq6qt7eXnmeJ8/z5Pt+2NHaxuHhoSKRiPb29nR7e6u5uTn19fXp6ekp7Ghtz/f92poyxmhra0ue56lSqYQdraWYS81jJv0e5lJz/raZVG8dpNNpZbPZ2vFXV1fq7OzU5uamSqWSXNdVV1eXisVi22dfX1+X4zg6Pj7+MFPDmA2NZv+vMJ8y2mj2h4cHRaNRLSws6O7uTicnJ+rv79fa2lrbZ3ddV9FoVAcHByqXy7q4uFAikdDs7Gzg2evNnmw2q3Q6XTu+XC6rp6dHS0tLKpVK2t3dVUdHh87OzlqS748vhPl8XsaYLzfUl8lkvjx3hUIh7GhtZWdnR4ODg3IcR5OTk7q5uQk70h+hUCh8ub4ymUzY0VqKudQ8ZtLvYy417m+cSf+3DlKp1Kf3dnR0pJGRETmOo7GxMZ2engac+KdGsg8NDX352bmuG3xwNX7efxVmIZQaz359fa2pqSlFIhHF43Hlcjm9vb0FnPqHRrK/vr5qZWVFiURC3d3disVimp+f1/Pzc+C5682eTCajVCr16TXj4+NyHEfxeFz5fL5l+b5Jbf6bKQAAAACgJey9qQUAAAAALEchBAAAAABLUQgBAAAAwFIUQgAAAACwFIUQAAAAACxFIQQAAAAAS1EIAQAAAMBSFEIAAAAAsBSFEAAAAAAsRSEEAAAAAEtRCAEAAADAUhRCAAAAALAUhRAAAAAALEUhBAAAAABLUQgBAAAAwFIUQgAAAACwFIUQAAAAACz1D4dvGvpOEwS6AAAAAElFTkSuQmCC' width=900.0/>\n",
       "            </div>\n",
       "        "
      ],
      "text/plain": [
       "Canvas(toolbar=Toolbar(toolitems=[('Home', 'Reset original view', 'home', 'home'), ('Back', 'Back to previous …"
      ]
     },
     "metadata": {},
     "output_type": "display_data"
    }
   ],
   "source": [
    "from evaluate import basin_metric_histograms\n",
    "\n",
    "metric_args = {\n",
    "    'R2': {'range':[-1,1]},\n",
    "    'nBias':{'range':[-1,1]},\n",
    "    'rRMSE':{'range':[0,500]},\n",
    "    'KGE':{'range':[-2,1]},\n",
    "    'NSE':{'range':[-2,1]},\n",
    "    'Agreement':{'range':[0,1]}}\n",
    "\n",
    "figs = basin_metric_histograms(basin_metrics, metric_args)\n",
    "\n",
    "# for target, fig in figs.items():\n",
    "#     fig.savefig(fig_dir / f\"epoch{trainer_state['epoch']:03d}_{cfg['data_subset']}_{target}_metrics_hist.png\",  dpi=300)\n",
    "    "
   ]
  },
  {
   "cell_type": "code",
   "execution_count": null,
   "id": "6f6d5b78-1e76-483c-9b32-9dbd3000cb23",
   "metadata": {},
   "outputs": [],
   "source": [
    "import matplotlib.gridspec as gridspec\n",
    "\n",
    "def timeseries_plot(results, feature):\n",
    "    pred = results['pred'][feature]\n",
    "    obs = results['obs'][feature]\n",
    "    joint = results[[('obs',feature),('pred',feature)]]\n",
    "    joint = joint.dropna()\n",
    "    \n",
    "    if len(joint) < 2:\n",
    "        return\n",
    "           \n",
    "    # Create a figure\n",
    "    fig = plt.figure(figsize=(10, 4))\n",
    "    gs = gridspec.GridSpec(1, 3, width_ratios=[1, 0.2, 2])\n",
    "    axes = [fig.add_subplot(gs[0, 0]), fig.add_subplot(gs[0, 2])]\n",
    "    \n",
    "    min_val = joint.min().min()\n",
    "    max_val = joint.max().max()\n",
    "\n",
    "    axes[0].loglog(obs, pred, linestyle='None',marker='.', alpha=0.2)\n",
    "    axes[0].plot([min_val, max_val], [min_val, max_val], 'r--')\n",
    "\n",
    "    # Setting axes to be square and equal range\n",
    "    axes[0].axis('square')\n",
    "    axes[0].set_xlabel(f\"Observed {feature}\")\n",
    "    axes[0].set_ylabel(f\"Predicted {feature}\")\n",
    "\n",
    "    axes[0].set_title(f\"Basin: {basin}\")\n",
    "\n",
    "\n",
    "    axes[1].plot(pred)\n",
    "    axes[1].plot(obs, linestyle='None',marker='.',alpha=0.5)\n",
    "    axes[1].set_title(f\"{feature}\")\n",
    "    # axes[1].set_ylim([0,40000])\n",
    "\n",
    "    textstr = '\\n'.join([f\"{key}: {basin_metrics.loc[basin][feature][key]:0.2f}\" for key in ['rRMSE','KGE','NSE','Agreement']])\n",
    "    props = dict(boxstyle='round', facecolor='white', alpha=0.5)\n",
    "    axes[1].text(0.98, 0.97, textstr, transform=axes[1].transAxes, fontsize=10,\n",
    "            va='top', ha='right', bbox=props)\n",
    "\n",
    "    fig.suptitle(str(run_dir))\n",
    "    fig.tight_layout()\n",
    "    fig.autofmt_xdate()\n",
    "    \n",
    "    return fig"
   ]
  },
  {
   "cell_type": "code",
   "execution_count": null,
   "id": "a5148390-05cc-429d-ab56-a25ea365d2de",
   "metadata": {},
   "outputs": [],
   "source": []
  },
  {
   "cell_type": "code",
   "execution_count": null,
   "id": "d5e4ca3e-8936-4f5c-9e94-a3f42caf095c",
   "metadata": {},
   "outputs": [],
   "source": [
    "import evaluate\n",
    "reload(evaluate)\n",
    "from evaluate import predict, get_all_metrics\n",
    "\n",
    "basin = np.random.choice(dataset.test_basins).tolist()\n",
    "# basin = 'USGS-12340500' #Extreme range in flux. \n",
    "# basin = 'USGS-06452000' \n",
    "\n",
    "if basin not in basin_metrics.index:\n",
    "    raise ValueError('Basin not in testing set')\n",
    "\n",
    "cfg['data_subset'] = 'predict'\n",
    "cfg['basin_subset'] =  basin\n",
    "cfg['num_workers'] = 0 # Faster for small runs\n",
    "cfg['timeout'] = 0\n",
    "basin_dataset = TAPDataset(cfg)\n",
    "dataloader = TAPDataLoader(cfg, basin_dataset)\n",
    "\n",
    "results = predict(model, dataloader)\n",
    "results['pred'] = results['pred'] * (results['pred']>0) #Clip predictions to 0\n",
    "\n",
    "results = results.reset_index()\n",
    "results = results.sort_values(by='date')\n",
    "results = results.drop('basin', axis=1, level=0)\n",
    "results.set_index('date', inplace=True)\n",
    "\n",
    "plt.close('all')\n",
    "features = results.columns.get_level_values('Feature').unique()\n",
    "\n",
    "ts_dir = fig_dir / \"timeseries\"\n",
    "ts_dir.mkdir(exist_ok=True)\n",
    "\n",
    "figs = []\n",
    "for feature in features:\n",
    "    fig = timeseries_plot(results, feature)\n",
    "    if fig is None:\n",
    "        continue\n",
    "    # fig.savefig(ts_dir / f\"epoch{trainer_state['epoch']:03d}_{cfg['data_subset']}_{basin}_{feature}_timeseries.png\",  dpi=300)\n",
    "    figs.append(fig)\n",
    "if len(figs)==0:\n",
    "    print(\"No data in basin and period\")"
   ]
  },
  {
   "cell_type": "code",
   "execution_count": 8,
   "id": "d9fb6f88-213d-411e-9d42-68fb9b6311cf",
   "metadata": {},
   "outputs": [
    {
     "data": {
      "text/plain": [
       "False"
      ]
     },
     "execution_count": 8,
     "metadata": {},
     "output_type": "execute_result"
    }
   ],
   "source": [
    "dataset.inference_mode"
   ]
  },
  {
   "cell_type": "code",
   "execution_count": 6,
   "id": "485a99ef-2d46-4664-8f59-b7839fcf67e2",
   "metadata": {},
   "outputs": [
    {
     "name": "stdout",
     "output_type": "stream",
     "text": [
      "Dataloader using 1 parallel CPU worker(s).\n",
      "Batch sharding set to 1 gpu(s)\n"
     ]
    },
    {
     "data": {
      "application/vnd.jupyter.widget-view+json": {
       "model_id": "37c4286d917043ad979239d87c23e0db",
       "version_major": 2,
       "version_minor": 0
      },
      "text/plain": [
       "  0%|          | 0/364 [00:28<?, ?it/s]"
      ]
     },
     "metadata": {},
     "output_type": "display_data"
    },
    {
     "name": "stderr",
     "output_type": "stream",
     "text": [
      "2024-08-30 13:22:33.423269: W external/xla/xla/service/gpu/nvptx_compiler.cc:836] The NVIDIA driver's CUDA version is 12.2 which is older than the PTX compiler version (12.6.20). Because the driver is older than the PTX compiler version, XLA is disabling parallel compilation, which may slow down compilation. You should update your NVIDIA driver or use the NVIDIA-provided CUDA forward compatibility packages.\n",
      "/home/tlanghorst_umass_edu/.conda/envs/tss-ml/lib/python3.10/site-packages/jax/_src/core.py:691: FutureWarning: unhashable type: <class 'jax._src.interpreters.partial_eval.DynamicJaxprTracer'>. Attempting to hash a tracer will lead to an error in a future JAX release.\n",
      "  warnings.warn(\n",
      "/home/tlanghorst_umass_edu/.conda/envs/tss-ml/lib/python3.10/site-packages/jax/_src/core.py:691: FutureWarning: unhashable type: <class 'jax._src.interpreters.partial_eval.DynamicJaxprTracer'>. Attempting to hash a tracer will lead to an error in a future JAX release.\n",
      "  warnings.warn(\n"
     ]
    },
    {
     "data": {
      "application/vnd.jupyter.widget-view+json": {
       "model_id": "7d7af1d2a27d4750a2cdf0e444bb6a2e",
       "version_major": 2,
       "version_minor": 0
      },
      "text/plain": [
       "  0%|          | 0/364 [00:00<?, ?it/s]"
      ]
     },
     "metadata": {},
     "output_type": "display_data"
    },
    {
     "ename": "IndexError",
     "evalue": "list index out of range",
     "output_type": "error",
     "traceback": [
      "\u001b[0;31m---------------------------------------------------------------------------\u001b[0m",
      "\u001b[0;31mValueError\u001b[0m                                Traceback (most recent call last)",
      "File \u001b[0;32m~/.conda/envs/tss-ml/lib/python3.10/site-packages/matplotlib/animation.py:223\u001b[0m, in \u001b[0;36mAbstractMovieWriter.saving\u001b[0;34m(self, fig, outfile, dpi, *args, **kwargs)\u001b[0m\n\u001b[1;32m    222\u001b[0m \u001b[38;5;28;01mtry\u001b[39;00m:\n\u001b[0;32m--> 223\u001b[0m     \u001b[38;5;28;01myield\u001b[39;00m \u001b[38;5;28mself\u001b[39m\n\u001b[1;32m    224\u001b[0m \u001b[38;5;28;01mfinally\u001b[39;00m:\n",
      "File \u001b[0;32m~/.conda/envs/tss-ml/lib/python3.10/site-packages/matplotlib/animation.py:1089\u001b[0m, in \u001b[0;36mAnimation.save\u001b[0;34m(self, filename, writer, fps, dpi, codec, bitrate, extra_args, metadata, extra_anim, savefig_kwargs, progress_callback)\u001b[0m\n\u001b[1;32m   1088\u001b[0m         frame_number \u001b[38;5;241m+\u001b[39m\u001b[38;5;241m=\u001b[39m \u001b[38;5;241m1\u001b[39m\n\u001b[0;32m-> 1089\u001b[0m \u001b[43mwriter\u001b[49m\u001b[38;5;241;43m.\u001b[39;49m\u001b[43mgrab_frame\u001b[49m\u001b[43m(\u001b[49m\u001b[38;5;241;43m*\u001b[39;49m\u001b[38;5;241;43m*\u001b[39;49m\u001b[43msavefig_kwargs\u001b[49m\u001b[43m)\u001b[49m\n",
      "File \u001b[0;32m~/.conda/envs/tss-ml/lib/python3.10/site-packages/matplotlib/animation.py:489\u001b[0m, in \u001b[0;36mPillowWriter.grab_frame\u001b[0;34m(self, **savefig_kwargs)\u001b[0m\n\u001b[1;32m    488\u001b[0m buf \u001b[38;5;241m=\u001b[39m BytesIO()\n\u001b[0;32m--> 489\u001b[0m \u001b[38;5;28;43mself\u001b[39;49m\u001b[38;5;241;43m.\u001b[39;49m\u001b[43mfig\u001b[49m\u001b[38;5;241;43m.\u001b[39;49m\u001b[43msavefig\u001b[49m\u001b[43m(\u001b[49m\n\u001b[1;32m    490\u001b[0m \u001b[43m    \u001b[49m\u001b[43mbuf\u001b[49m\u001b[43m,\u001b[49m\u001b[43m \u001b[49m\u001b[38;5;241;43m*\u001b[39;49m\u001b[38;5;241;43m*\u001b[39;49m\u001b[43m{\u001b[49m\u001b[38;5;241;43m*\u001b[39;49m\u001b[38;5;241;43m*\u001b[39;49m\u001b[43msavefig_kwargs\u001b[49m\u001b[43m,\u001b[49m\u001b[43m \u001b[49m\u001b[38;5;124;43m\"\u001b[39;49m\u001b[38;5;124;43mformat\u001b[39;49m\u001b[38;5;124;43m\"\u001b[39;49m\u001b[43m:\u001b[49m\u001b[43m \u001b[49m\u001b[38;5;124;43m\"\u001b[39;49m\u001b[38;5;124;43mrgba\u001b[39;49m\u001b[38;5;124;43m\"\u001b[39;49m\u001b[43m,\u001b[49m\u001b[43m \u001b[49m\u001b[38;5;124;43m\"\u001b[39;49m\u001b[38;5;124;43mdpi\u001b[39;49m\u001b[38;5;124;43m\"\u001b[39;49m\u001b[43m:\u001b[49m\u001b[43m \u001b[49m\u001b[38;5;28;43mself\u001b[39;49m\u001b[38;5;241;43m.\u001b[39;49m\u001b[43mdpi\u001b[49m\u001b[43m}\u001b[49m\u001b[43m)\u001b[49m\n\u001b[1;32m    491\u001b[0m \u001b[38;5;28mself\u001b[39m\u001b[38;5;241m.\u001b[39m_frames\u001b[38;5;241m.\u001b[39mappend(Image\u001b[38;5;241m.\u001b[39mfrombuffer(\n\u001b[1;32m    492\u001b[0m     \u001b[38;5;124m\"\u001b[39m\u001b[38;5;124mRGBA\u001b[39m\u001b[38;5;124m\"\u001b[39m, \u001b[38;5;28mself\u001b[39m\u001b[38;5;241m.\u001b[39mframe_size, buf\u001b[38;5;241m.\u001b[39mgetbuffer(), \u001b[38;5;124m\"\u001b[39m\u001b[38;5;124mraw\u001b[39m\u001b[38;5;124m\"\u001b[39m, \u001b[38;5;124m\"\u001b[39m\u001b[38;5;124mRGBA\u001b[39m\u001b[38;5;124m\"\u001b[39m, \u001b[38;5;241m0\u001b[39m, \u001b[38;5;241m1\u001b[39m))\n",
      "File \u001b[0;32m~/.conda/envs/tss-ml/lib/python3.10/site-packages/matplotlib/figure.py:3395\u001b[0m, in \u001b[0;36mFigure.savefig\u001b[0;34m(self, fname, transparent, **kwargs)\u001b[0m\n\u001b[1;32m   3394\u001b[0m         _recursively_make_axes_transparent(stack, ax)\n\u001b[0;32m-> 3395\u001b[0m \u001b[38;5;28;43mself\u001b[39;49m\u001b[38;5;241;43m.\u001b[39;49m\u001b[43mcanvas\u001b[49m\u001b[38;5;241;43m.\u001b[39;49m\u001b[43mprint_figure\u001b[49m\u001b[43m(\u001b[49m\u001b[43mfname\u001b[49m\u001b[43m,\u001b[49m\u001b[43m \u001b[49m\u001b[38;5;241;43m*\u001b[39;49m\u001b[38;5;241;43m*\u001b[39;49m\u001b[43mkwargs\u001b[49m\u001b[43m)\u001b[49m\n",
      "File \u001b[0;32m~/.conda/envs/tss-ml/lib/python3.10/site-packages/matplotlib/backend_bases.py:2175\u001b[0m, in \u001b[0;36mFigureCanvasBase.print_figure\u001b[0;34m(self, filename, dpi, facecolor, edgecolor, orientation, format, bbox_inches, pad_inches, bbox_extra_artists, backend, **kwargs)\u001b[0m\n\u001b[1;32m   2174\u001b[0m     \u001b[38;5;28;01mwith\u001b[39;00m \u001b[38;5;28mgetattr\u001b[39m(renderer, \u001b[38;5;124m\"\u001b[39m\u001b[38;5;124m_draw_disabled\u001b[39m\u001b[38;5;124m\"\u001b[39m, nullcontext)():\n\u001b[0;32m-> 2175\u001b[0m         \u001b[38;5;28;43mself\u001b[39;49m\u001b[38;5;241;43m.\u001b[39;49m\u001b[43mfigure\u001b[49m\u001b[38;5;241;43m.\u001b[39;49m\u001b[43mdraw\u001b[49m\u001b[43m(\u001b[49m\u001b[43mrenderer\u001b[49m\u001b[43m)\u001b[49m\n\u001b[1;32m   2176\u001b[0m \u001b[38;5;28;01mif\u001b[39;00m bbox_inches:\n",
      "File \u001b[0;32m~/.conda/envs/tss-ml/lib/python3.10/site-packages/matplotlib/artist.py:95\u001b[0m, in \u001b[0;36m_finalize_rasterization.<locals>.draw_wrapper\u001b[0;34m(artist, renderer, *args, **kwargs)\u001b[0m\n\u001b[1;32m     93\u001b[0m \u001b[38;5;129m@wraps\u001b[39m(draw)\n\u001b[1;32m     94\u001b[0m \u001b[38;5;28;01mdef\u001b[39;00m \u001b[38;5;21mdraw_wrapper\u001b[39m(artist, renderer, \u001b[38;5;241m*\u001b[39margs, \u001b[38;5;241m*\u001b[39m\u001b[38;5;241m*\u001b[39mkwargs):\n\u001b[0;32m---> 95\u001b[0m     result \u001b[38;5;241m=\u001b[39m \u001b[43mdraw\u001b[49m\u001b[43m(\u001b[49m\u001b[43martist\u001b[49m\u001b[43m,\u001b[49m\u001b[43m \u001b[49m\u001b[43mrenderer\u001b[49m\u001b[43m,\u001b[49m\u001b[43m \u001b[49m\u001b[38;5;241;43m*\u001b[39;49m\u001b[43margs\u001b[49m\u001b[43m,\u001b[49m\u001b[43m \u001b[49m\u001b[38;5;241;43m*\u001b[39;49m\u001b[38;5;241;43m*\u001b[39;49m\u001b[43mkwargs\u001b[49m\u001b[43m)\u001b[49m\n\u001b[1;32m     96\u001b[0m     \u001b[38;5;28;01mif\u001b[39;00m renderer\u001b[38;5;241m.\u001b[39m_rasterizing:\n",
      "File \u001b[0;32m~/.conda/envs/tss-ml/lib/python3.10/site-packages/matplotlib/artist.py:72\u001b[0m, in \u001b[0;36mallow_rasterization.<locals>.draw_wrapper\u001b[0;34m(artist, renderer)\u001b[0m\n\u001b[1;32m     70\u001b[0m         renderer\u001b[38;5;241m.\u001b[39mstart_filter()\n\u001b[0;32m---> 72\u001b[0m     \u001b[38;5;28;01mreturn\u001b[39;00m \u001b[43mdraw\u001b[49m\u001b[43m(\u001b[49m\u001b[43martist\u001b[49m\u001b[43m,\u001b[49m\u001b[43m \u001b[49m\u001b[43mrenderer\u001b[49m\u001b[43m)\u001b[49m\n\u001b[1;32m     73\u001b[0m \u001b[38;5;28;01mfinally\u001b[39;00m:\n",
      "File \u001b[0;32m~/.conda/envs/tss-ml/lib/python3.10/site-packages/matplotlib/figure.py:3162\u001b[0m, in \u001b[0;36mFigure.draw\u001b[0;34m(self, renderer)\u001b[0m\n\u001b[1;32m   3161\u001b[0m \u001b[38;5;28mself\u001b[39m\u001b[38;5;241m.\u001b[39mpatch\u001b[38;5;241m.\u001b[39mdraw(renderer)\n\u001b[0;32m-> 3162\u001b[0m \u001b[43mmimage\u001b[49m\u001b[38;5;241;43m.\u001b[39;49m\u001b[43m_draw_list_compositing_images\u001b[49m\u001b[43m(\u001b[49m\n\u001b[1;32m   3163\u001b[0m \u001b[43m    \u001b[49m\u001b[43mrenderer\u001b[49m\u001b[43m,\u001b[49m\u001b[43m \u001b[49m\u001b[38;5;28;43mself\u001b[39;49m\u001b[43m,\u001b[49m\u001b[43m \u001b[49m\u001b[43martists\u001b[49m\u001b[43m,\u001b[49m\u001b[43m \u001b[49m\u001b[38;5;28;43mself\u001b[39;49m\u001b[38;5;241;43m.\u001b[39;49m\u001b[43msuppressComposite\u001b[49m\u001b[43m)\u001b[49m\n\u001b[1;32m   3165\u001b[0m renderer\u001b[38;5;241m.\u001b[39mclose_group(\u001b[38;5;124m'\u001b[39m\u001b[38;5;124mfigure\u001b[39m\u001b[38;5;124m'\u001b[39m)\n",
      "File \u001b[0;32m~/.conda/envs/tss-ml/lib/python3.10/site-packages/matplotlib/image.py:132\u001b[0m, in \u001b[0;36m_draw_list_compositing_images\u001b[0;34m(renderer, parent, artists, suppress_composite)\u001b[0m\n\u001b[1;32m    131\u001b[0m     \u001b[38;5;28;01mfor\u001b[39;00m a \u001b[38;5;129;01min\u001b[39;00m artists:\n\u001b[0;32m--> 132\u001b[0m         \u001b[43ma\u001b[49m\u001b[38;5;241;43m.\u001b[39;49m\u001b[43mdraw\u001b[49m\u001b[43m(\u001b[49m\u001b[43mrenderer\u001b[49m\u001b[43m)\u001b[49m\n\u001b[1;32m    133\u001b[0m \u001b[38;5;28;01melse\u001b[39;00m:\n\u001b[1;32m    134\u001b[0m     \u001b[38;5;66;03m# Composite any adjacent images together\u001b[39;00m\n",
      "File \u001b[0;32m~/.conda/envs/tss-ml/lib/python3.10/site-packages/matplotlib/artist.py:72\u001b[0m, in \u001b[0;36mallow_rasterization.<locals>.draw_wrapper\u001b[0;34m(artist, renderer)\u001b[0m\n\u001b[1;32m     70\u001b[0m         renderer\u001b[38;5;241m.\u001b[39mstart_filter()\n\u001b[0;32m---> 72\u001b[0m     \u001b[38;5;28;01mreturn\u001b[39;00m \u001b[43mdraw\u001b[49m\u001b[43m(\u001b[49m\u001b[43martist\u001b[49m\u001b[43m,\u001b[49m\u001b[43m \u001b[49m\u001b[43mrenderer\u001b[49m\u001b[43m)\u001b[49m\n\u001b[1;32m     73\u001b[0m \u001b[38;5;28;01mfinally\u001b[39;00m:\n",
      "File \u001b[0;32m~/.conda/envs/tss-ml/lib/python3.10/site-packages/matplotlib/axes/_base.py:3137\u001b[0m, in \u001b[0;36m_AxesBase.draw\u001b[0;34m(self, renderer)\u001b[0m\n\u001b[1;32m   3135\u001b[0m     _draw_rasterized(\u001b[38;5;28mself\u001b[39m\u001b[38;5;241m.\u001b[39mfigure, artists_rasterized, renderer)\n\u001b[0;32m-> 3137\u001b[0m \u001b[43mmimage\u001b[49m\u001b[38;5;241;43m.\u001b[39;49m\u001b[43m_draw_list_compositing_images\u001b[49m\u001b[43m(\u001b[49m\n\u001b[1;32m   3138\u001b[0m \u001b[43m    \u001b[49m\u001b[43mrenderer\u001b[49m\u001b[43m,\u001b[49m\u001b[43m \u001b[49m\u001b[38;5;28;43mself\u001b[39;49m\u001b[43m,\u001b[49m\u001b[43m \u001b[49m\u001b[43martists\u001b[49m\u001b[43m,\u001b[49m\u001b[43m \u001b[49m\u001b[38;5;28;43mself\u001b[39;49m\u001b[38;5;241;43m.\u001b[39;49m\u001b[43mfigure\u001b[49m\u001b[38;5;241;43m.\u001b[39;49m\u001b[43msuppressComposite\u001b[49m\u001b[43m)\u001b[49m\n\u001b[1;32m   3140\u001b[0m renderer\u001b[38;5;241m.\u001b[39mclose_group(\u001b[38;5;124m'\u001b[39m\u001b[38;5;124maxes\u001b[39m\u001b[38;5;124m'\u001b[39m)\n",
      "File \u001b[0;32m~/.conda/envs/tss-ml/lib/python3.10/site-packages/matplotlib/image.py:132\u001b[0m, in \u001b[0;36m_draw_list_compositing_images\u001b[0;34m(renderer, parent, artists, suppress_composite)\u001b[0m\n\u001b[1;32m    131\u001b[0m     \u001b[38;5;28;01mfor\u001b[39;00m a \u001b[38;5;129;01min\u001b[39;00m artists:\n\u001b[0;32m--> 132\u001b[0m         \u001b[43ma\u001b[49m\u001b[38;5;241;43m.\u001b[39;49m\u001b[43mdraw\u001b[49m\u001b[43m(\u001b[49m\u001b[43mrenderer\u001b[49m\u001b[43m)\u001b[49m\n\u001b[1;32m    133\u001b[0m \u001b[38;5;28;01melse\u001b[39;00m:\n\u001b[1;32m    134\u001b[0m     \u001b[38;5;66;03m# Composite any adjacent images together\u001b[39;00m\n",
      "File \u001b[0;32m~/.conda/envs/tss-ml/lib/python3.10/site-packages/matplotlib/artist.py:72\u001b[0m, in \u001b[0;36mallow_rasterization.<locals>.draw_wrapper\u001b[0;34m(artist, renderer)\u001b[0m\n\u001b[1;32m     70\u001b[0m         renderer\u001b[38;5;241m.\u001b[39mstart_filter()\n\u001b[0;32m---> 72\u001b[0m     \u001b[38;5;28;01mreturn\u001b[39;00m \u001b[43mdraw\u001b[49m\u001b[43m(\u001b[49m\u001b[43martist\u001b[49m\u001b[43m,\u001b[49m\u001b[43m \u001b[49m\u001b[43mrenderer\u001b[49m\u001b[43m)\u001b[49m\n\u001b[1;32m     73\u001b[0m \u001b[38;5;28;01mfinally\u001b[39;00m:\n",
      "File \u001b[0;32m~/.conda/envs/tss-ml/lib/python3.10/site-packages/matplotlib/collections.py:1005\u001b[0m, in \u001b[0;36m_CollectionWithSizes.draw\u001b[0;34m(self, renderer)\u001b[0m\n\u001b[1;32m   1004\u001b[0m \u001b[38;5;28mself\u001b[39m\u001b[38;5;241m.\u001b[39mset_sizes(\u001b[38;5;28mself\u001b[39m\u001b[38;5;241m.\u001b[39m_sizes, \u001b[38;5;28mself\u001b[39m\u001b[38;5;241m.\u001b[39mfigure\u001b[38;5;241m.\u001b[39mdpi)\n\u001b[0;32m-> 1005\u001b[0m \u001b[38;5;28;43msuper\u001b[39;49m\u001b[43m(\u001b[49m\u001b[43m)\u001b[49m\u001b[38;5;241;43m.\u001b[39;49m\u001b[43mdraw\u001b[49m\u001b[43m(\u001b[49m\u001b[43mrenderer\u001b[49m\u001b[43m)\u001b[49m\n",
      "File \u001b[0;32m~/.conda/envs/tss-ml/lib/python3.10/site-packages/matplotlib/artist.py:72\u001b[0m, in \u001b[0;36mallow_rasterization.<locals>.draw_wrapper\u001b[0;34m(artist, renderer)\u001b[0m\n\u001b[1;32m     70\u001b[0m         renderer\u001b[38;5;241m.\u001b[39mstart_filter()\n\u001b[0;32m---> 72\u001b[0m     \u001b[38;5;28;01mreturn\u001b[39;00m \u001b[43mdraw\u001b[49m\u001b[43m(\u001b[49m\u001b[43martist\u001b[49m\u001b[43m,\u001b[49m\u001b[43m \u001b[49m\u001b[43mrenderer\u001b[49m\u001b[43m)\u001b[49m\n\u001b[1;32m     73\u001b[0m \u001b[38;5;28;01mfinally\u001b[39;00m:\n",
      "File \u001b[0;32m~/.conda/envs/tss-ml/lib/python3.10/site-packages/matplotlib/collections.py:355\u001b[0m, in \u001b[0;36mCollection.draw\u001b[0;34m(self, renderer)\u001b[0m\n\u001b[1;32m    353\u001b[0m renderer\u001b[38;5;241m.\u001b[39mopen_group(\u001b[38;5;28mself\u001b[39m\u001b[38;5;241m.\u001b[39m\u001b[38;5;18m__class__\u001b[39m\u001b[38;5;241m.\u001b[39m\u001b[38;5;18m__name__\u001b[39m, \u001b[38;5;28mself\u001b[39m\u001b[38;5;241m.\u001b[39mget_gid())\n\u001b[0;32m--> 355\u001b[0m \u001b[38;5;28;43mself\u001b[39;49m\u001b[38;5;241;43m.\u001b[39;49m\u001b[43mupdate_scalarmappable\u001b[49m\u001b[43m(\u001b[49m\u001b[43m)\u001b[49m\n\u001b[1;32m    357\u001b[0m transform, offset_trf, offsets, paths \u001b[38;5;241m=\u001b[39m \u001b[38;5;28mself\u001b[39m\u001b[38;5;241m.\u001b[39m_prepare_points()\n",
      "File \u001b[0;32m~/.conda/envs/tss-ml/lib/python3.10/site-packages/matplotlib/collections.py:910\u001b[0m, in \u001b[0;36mCollection.update_scalarmappable\u001b[0;34m(self)\u001b[0m\n\u001b[1;32m    909\u001b[0m \u001b[38;5;28;01mif\u001b[39;00m \u001b[38;5;28mself\u001b[39m\u001b[38;5;241m.\u001b[39m_alpha\u001b[38;5;241m.\u001b[39msize \u001b[38;5;241m!=\u001b[39m \u001b[38;5;28mself\u001b[39m\u001b[38;5;241m.\u001b[39m_A\u001b[38;5;241m.\u001b[39msize:\n\u001b[0;32m--> 910\u001b[0m     \u001b[38;5;28;01mraise\u001b[39;00m \u001b[38;5;167;01mValueError\u001b[39;00m(\n\u001b[1;32m    911\u001b[0m         \u001b[38;5;124mf\u001b[39m\u001b[38;5;124m'\u001b[39m\u001b[38;5;124mData array shape, \u001b[39m\u001b[38;5;132;01m{\u001b[39;00m\u001b[38;5;28mself\u001b[39m\u001b[38;5;241m.\u001b[39m_A\u001b[38;5;241m.\u001b[39mshape\u001b[38;5;132;01m}\u001b[39;00m\u001b[38;5;124m \u001b[39m\u001b[38;5;124m'\u001b[39m\n\u001b[1;32m    912\u001b[0m         \u001b[38;5;124m'\u001b[39m\u001b[38;5;124mis incompatible with alpha array shape, \u001b[39m\u001b[38;5;124m'\u001b[39m\n\u001b[1;32m    913\u001b[0m         \u001b[38;5;124mf\u001b[39m\u001b[38;5;124m'\u001b[39m\u001b[38;5;132;01m{\u001b[39;00m\u001b[38;5;28mself\u001b[39m\u001b[38;5;241m.\u001b[39m_alpha\u001b[38;5;241m.\u001b[39mshape\u001b[38;5;132;01m}\u001b[39;00m\u001b[38;5;124m. \u001b[39m\u001b[38;5;124m'\u001b[39m\n\u001b[1;32m    914\u001b[0m         \u001b[38;5;124m'\u001b[39m\u001b[38;5;124mThis can occur with the deprecated \u001b[39m\u001b[38;5;124m'\u001b[39m\n\u001b[1;32m    915\u001b[0m         \u001b[38;5;124m'\u001b[39m\u001b[38;5;124mbehavior of the \u001b[39m\u001b[38;5;124m\"\u001b[39m\u001b[38;5;124mflat\u001b[39m\u001b[38;5;124m\"\u001b[39m\u001b[38;5;124m shading option, \u001b[39m\u001b[38;5;124m'\u001b[39m\n\u001b[1;32m    916\u001b[0m         \u001b[38;5;124m'\u001b[39m\u001b[38;5;124min which a row and/or column of the data \u001b[39m\u001b[38;5;124m'\u001b[39m\n\u001b[1;32m    917\u001b[0m         \u001b[38;5;124m'\u001b[39m\u001b[38;5;124marray is dropped.\u001b[39m\u001b[38;5;124m'\u001b[39m)\n\u001b[1;32m    918\u001b[0m \u001b[38;5;66;03m# pcolormesh, scatter, maybe others flatten their _A\u001b[39;00m\n",
      "\u001b[0;31mValueError\u001b[0m: Data array shape, (2,) is incompatible with alpha array shape, (2, 2). This can occur with the deprecated behavior of the \"flat\" shading option, in which a row and/or column of the data array is dropped.",
      "\nDuring handling of the above exception, another exception occurred:\n",
      "\u001b[0;31mIndexError\u001b[0m                                Traceback (most recent call last)",
      "Cell \u001b[0;32mIn[6], line 24\u001b[0m\n\u001b[1;32m     22\u001b[0m \u001b[38;5;28;01mimport\u001b[39;00m \u001b[38;5;21;01mmatplotlib\u001b[39;00m\u001b[38;5;21;01m.\u001b[39;00m\u001b[38;5;21;01manimation\u001b[39;00m \u001b[38;5;28;01mas\u001b[39;00m \u001b[38;5;21;01manimation\u001b[39;00m\n\u001b[1;32m     23\u001b[0m writer \u001b[38;5;241m=\u001b[39m animation\u001b[38;5;241m.\u001b[39mPillowWriter(fps\u001b[38;5;241m=\u001b[39m\u001b[38;5;241m10\u001b[39m, bitrate\u001b[38;5;241m=\u001b[39m\u001b[38;5;241m1800\u001b[39m)\n\u001b[0;32m---> 24\u001b[0m \u001b[43mani\u001b[49m\u001b[38;5;241;43m.\u001b[39;49m\u001b[43msave\u001b[49m\u001b[43m(\u001b[49m\u001b[43mfig_dir\u001b[49m\u001b[43m \u001b[49m\u001b[38;5;241;43m/\u001b[39;49m\u001b[43m \u001b[49m\u001b[38;5;124;43mf\u001b[39;49m\u001b[38;5;124;43m'\u001b[39;49m\u001b[38;5;132;43;01m{\u001b[39;49;00m\u001b[43mtarget\u001b[49m\u001b[38;5;132;43;01m}\u001b[39;49;00m\u001b[38;5;124;43m_dt0.gif\u001b[39;49m\u001b[38;5;124;43m'\u001b[39;49m\u001b[43m,\u001b[49m\u001b[43m \u001b[49m\u001b[43mwriter\u001b[49m\u001b[38;5;241;43m=\u001b[39;49m\u001b[43mwriter\u001b[49m\u001b[43m)\u001b[49m\n",
      "File \u001b[0;32m~/.conda/envs/tss-ml/lib/python3.10/site-packages/matplotlib/animation.py:1069\u001b[0m, in \u001b[0;36mAnimation.save\u001b[0;34m(self, filename, writer, fps, dpi, codec, bitrate, extra_args, metadata, extra_anim, savefig_kwargs, progress_callback)\u001b[0m\n\u001b[1;32m   1065\u001b[0m savefig_kwargs[\u001b[38;5;124m'\u001b[39m\u001b[38;5;124mtransparent\u001b[39m\u001b[38;5;124m'\u001b[39m] \u001b[38;5;241m=\u001b[39m \u001b[38;5;28;01mFalse\u001b[39;00m   \u001b[38;5;66;03m# just to be safe!\u001b[39;00m\n\u001b[1;32m   1066\u001b[0m \u001b[38;5;66;03m# canvas._is_saving = True makes the draw_event animation-starting\u001b[39;00m\n\u001b[1;32m   1067\u001b[0m \u001b[38;5;66;03m# callback a no-op; canvas.manager = None prevents resizing the GUI\u001b[39;00m\n\u001b[1;32m   1068\u001b[0m \u001b[38;5;66;03m# widget (both are likewise done in savefig()).\u001b[39;00m\n\u001b[0;32m-> 1069\u001b[0m \u001b[38;5;28;01mwith\u001b[39;00m writer\u001b[38;5;241m.\u001b[39msaving(\u001b[38;5;28mself\u001b[39m\u001b[38;5;241m.\u001b[39m_fig, filename, dpi), \\\n\u001b[1;32m   1070\u001b[0m      cbook\u001b[38;5;241m.\u001b[39m_setattr_cm(\u001b[38;5;28mself\u001b[39m\u001b[38;5;241m.\u001b[39m_fig\u001b[38;5;241m.\u001b[39mcanvas, _is_saving\u001b[38;5;241m=\u001b[39m\u001b[38;5;28;01mTrue\u001b[39;00m, manager\u001b[38;5;241m=\u001b[39m\u001b[38;5;28;01mNone\u001b[39;00m):\n\u001b[1;32m   1071\u001b[0m     \u001b[38;5;28;01mfor\u001b[39;00m anim \u001b[38;5;129;01min\u001b[39;00m all_anim:\n\u001b[1;32m   1072\u001b[0m         anim\u001b[38;5;241m.\u001b[39m_init_draw()  \u001b[38;5;66;03m# Clear the initial frame\u001b[39;00m\n",
      "File \u001b[0;32m~/.conda/envs/tss-ml/lib/python3.10/contextlib.py:153\u001b[0m, in \u001b[0;36m_GeneratorContextManager.__exit__\u001b[0;34m(self, typ, value, traceback)\u001b[0m\n\u001b[1;32m    151\u001b[0m     value \u001b[38;5;241m=\u001b[39m typ()\n\u001b[1;32m    152\u001b[0m \u001b[38;5;28;01mtry\u001b[39;00m:\n\u001b[0;32m--> 153\u001b[0m     \u001b[38;5;28;43mself\u001b[39;49m\u001b[38;5;241;43m.\u001b[39;49m\u001b[43mgen\u001b[49m\u001b[38;5;241;43m.\u001b[39;49m\u001b[43mthrow\u001b[49m\u001b[43m(\u001b[49m\u001b[43mtyp\u001b[49m\u001b[43m,\u001b[49m\u001b[43m \u001b[49m\u001b[43mvalue\u001b[49m\u001b[43m,\u001b[49m\u001b[43m \u001b[49m\u001b[43mtraceback\u001b[49m\u001b[43m)\u001b[49m\n\u001b[1;32m    154\u001b[0m \u001b[38;5;28;01mexcept\u001b[39;00m \u001b[38;5;167;01mStopIteration\u001b[39;00m \u001b[38;5;28;01mas\u001b[39;00m exc:\n\u001b[1;32m    155\u001b[0m     \u001b[38;5;66;03m# Suppress StopIteration *unless* it's the same exception that\u001b[39;00m\n\u001b[1;32m    156\u001b[0m     \u001b[38;5;66;03m# was passed to throw().  This prevents a StopIteration\u001b[39;00m\n\u001b[1;32m    157\u001b[0m     \u001b[38;5;66;03m# raised inside the \"with\" statement from being suppressed.\u001b[39;00m\n\u001b[1;32m    158\u001b[0m     \u001b[38;5;28;01mreturn\u001b[39;00m exc \u001b[38;5;129;01mis\u001b[39;00m \u001b[38;5;129;01mnot\u001b[39;00m value\n",
      "File \u001b[0;32m~/.conda/envs/tss-ml/lib/python3.10/site-packages/matplotlib/animation.py:225\u001b[0m, in \u001b[0;36mAbstractMovieWriter.saving\u001b[0;34m(self, fig, outfile, dpi, *args, **kwargs)\u001b[0m\n\u001b[1;32m    223\u001b[0m     \u001b[38;5;28;01myield\u001b[39;00m \u001b[38;5;28mself\u001b[39m\n\u001b[1;32m    224\u001b[0m \u001b[38;5;28;01mfinally\u001b[39;00m:\n\u001b[0;32m--> 225\u001b[0m     \u001b[38;5;28;43mself\u001b[39;49m\u001b[38;5;241;43m.\u001b[39;49m\u001b[43mfinish\u001b[49m\u001b[43m(\u001b[49m\u001b[43m)\u001b[49m\n",
      "File \u001b[0;32m~/.conda/envs/tss-ml/lib/python3.10/site-packages/matplotlib/animation.py:495\u001b[0m, in \u001b[0;36mPillowWriter.finish\u001b[0;34m(self)\u001b[0m\n\u001b[1;32m    494\u001b[0m \u001b[38;5;28;01mdef\u001b[39;00m \u001b[38;5;21mfinish\u001b[39m(\u001b[38;5;28mself\u001b[39m):\n\u001b[0;32m--> 495\u001b[0m     \u001b[38;5;28;43mself\u001b[39;49m\u001b[38;5;241;43m.\u001b[39;49m\u001b[43m_frames\u001b[49m\u001b[43m[\u001b[49m\u001b[38;5;241;43m0\u001b[39;49m\u001b[43m]\u001b[49m\u001b[38;5;241m.\u001b[39msave(\n\u001b[1;32m    496\u001b[0m         \u001b[38;5;28mself\u001b[39m\u001b[38;5;241m.\u001b[39moutfile, save_all\u001b[38;5;241m=\u001b[39m\u001b[38;5;28;01mTrue\u001b[39;00m, append_images\u001b[38;5;241m=\u001b[39m\u001b[38;5;28mself\u001b[39m\u001b[38;5;241m.\u001b[39m_frames[\u001b[38;5;241m1\u001b[39m:],\n\u001b[1;32m    497\u001b[0m         duration\u001b[38;5;241m=\u001b[39m\u001b[38;5;28mint\u001b[39m(\u001b[38;5;241m1000\u001b[39m \u001b[38;5;241m/\u001b[39m \u001b[38;5;28mself\u001b[39m\u001b[38;5;241m.\u001b[39mfps), loop\u001b[38;5;241m=\u001b[39m\u001b[38;5;241m0\u001b[39m)\n",
      "\u001b[0;31mIndexError\u001b[0m: list index out of range"
     ]
    },
    {
     "ename": "ValueError",
     "evalue": "Data array shape, (2,) is incompatible with alpha array shape, (2, 2). This can occur with the deprecated behavior of the \"flat\" shading option, in which a row and/or column of the data array is dropped.",
     "output_type": "error",
     "traceback": [
      "\u001b[0;31m---------------------------------------------------------------------------\u001b[0m",
      "\u001b[0;31mValueError\u001b[0m                                Traceback (most recent call last)",
      "File \u001b[0;32m~/.conda/envs/tss-ml/lib/python3.10/site-packages/IPython/core/formatters.py:977\u001b[0m, in \u001b[0;36mMimeBundleFormatter.__call__\u001b[0;34m(self, obj, include, exclude)\u001b[0m\n\u001b[1;32m    974\u001b[0m     method \u001b[38;5;241m=\u001b[39m get_real_method(obj, \u001b[38;5;28mself\u001b[39m\u001b[38;5;241m.\u001b[39mprint_method)\n\u001b[1;32m    976\u001b[0m     \u001b[38;5;28;01mif\u001b[39;00m method \u001b[38;5;129;01mis\u001b[39;00m \u001b[38;5;129;01mnot\u001b[39;00m \u001b[38;5;28;01mNone\u001b[39;00m:\n\u001b[0;32m--> 977\u001b[0m         \u001b[38;5;28;01mreturn\u001b[39;00m \u001b[43mmethod\u001b[49m\u001b[43m(\u001b[49m\u001b[43minclude\u001b[49m\u001b[38;5;241;43m=\u001b[39;49m\u001b[43minclude\u001b[49m\u001b[43m,\u001b[49m\u001b[43m \u001b[49m\u001b[43mexclude\u001b[49m\u001b[38;5;241;43m=\u001b[39;49m\u001b[43mexclude\u001b[49m\u001b[43m)\u001b[49m\n\u001b[1;32m    978\u001b[0m     \u001b[38;5;28;01mreturn\u001b[39;00m \u001b[38;5;28;01mNone\u001b[39;00m\n\u001b[1;32m    979\u001b[0m \u001b[38;5;28;01melse\u001b[39;00m:\n",
      "File \u001b[0;32m~/.conda/envs/tss-ml/lib/python3.10/site-packages/ipympl/backend_nbagg.py:336\u001b[0m, in \u001b[0;36mCanvas._repr_mimebundle_\u001b[0;34m(self, **kwargs)\u001b[0m\n\u001b[1;32m    333\u001b[0m     plaintext \u001b[38;5;241m=\u001b[39m plaintext[:\u001b[38;5;241m110\u001b[39m] \u001b[38;5;241m+\u001b[39m \u001b[38;5;124m'\u001b[39m\u001b[38;5;124m…\u001b[39m\u001b[38;5;124m'\u001b[39m\n\u001b[1;32m    335\u001b[0m buf \u001b[38;5;241m=\u001b[39m io\u001b[38;5;241m.\u001b[39mBytesIO()\n\u001b[0;32m--> 336\u001b[0m \u001b[38;5;28;43mself\u001b[39;49m\u001b[38;5;241;43m.\u001b[39;49m\u001b[43mfigure\u001b[49m\u001b[38;5;241;43m.\u001b[39;49m\u001b[43msavefig\u001b[49m\u001b[43m(\u001b[49m\u001b[43mbuf\u001b[49m\u001b[43m,\u001b[49m\u001b[43m \u001b[49m\u001b[38;5;28;43mformat\u001b[39;49m\u001b[38;5;241;43m=\u001b[39;49m\u001b[38;5;124;43m'\u001b[39;49m\u001b[38;5;124;43mpng\u001b[39;49m\u001b[38;5;124;43m'\u001b[39;49m\u001b[43m,\u001b[49m\u001b[43m \u001b[49m\u001b[43mdpi\u001b[49m\u001b[38;5;241;43m=\u001b[39;49m\u001b[38;5;124;43m'\u001b[39;49m\u001b[38;5;124;43mfigure\u001b[39;49m\u001b[38;5;124;43m'\u001b[39;49m\u001b[43m)\u001b[49m\n\u001b[1;32m    338\u001b[0m base64_image \u001b[38;5;241m=\u001b[39m b64encode(buf\u001b[38;5;241m.\u001b[39mgetvalue())\u001b[38;5;241m.\u001b[39mdecode(\u001b[38;5;124m'\u001b[39m\u001b[38;5;124mutf-8\u001b[39m\u001b[38;5;124m'\u001b[39m)\n\u001b[1;32m    339\u001b[0m \u001b[38;5;28mself\u001b[39m\u001b[38;5;241m.\u001b[39m_data_url \u001b[38;5;241m=\u001b[39m \u001b[38;5;124mf\u001b[39m\u001b[38;5;124m'\u001b[39m\u001b[38;5;124mdata:image/png;base64,\u001b[39m\u001b[38;5;132;01m{\u001b[39;00mbase64_image\u001b[38;5;132;01m}\u001b[39;00m\u001b[38;5;124m'\u001b[39m\n",
      "File \u001b[0;32m~/.conda/envs/tss-ml/lib/python3.10/site-packages/matplotlib/figure.py:3395\u001b[0m, in \u001b[0;36mFigure.savefig\u001b[0;34m(self, fname, transparent, **kwargs)\u001b[0m\n\u001b[1;32m   3393\u001b[0m     \u001b[38;5;28;01mfor\u001b[39;00m ax \u001b[38;5;129;01min\u001b[39;00m \u001b[38;5;28mself\u001b[39m\u001b[38;5;241m.\u001b[39maxes:\n\u001b[1;32m   3394\u001b[0m         _recursively_make_axes_transparent(stack, ax)\n\u001b[0;32m-> 3395\u001b[0m \u001b[38;5;28;43mself\u001b[39;49m\u001b[38;5;241;43m.\u001b[39;49m\u001b[43mcanvas\u001b[49m\u001b[38;5;241;43m.\u001b[39;49m\u001b[43mprint_figure\u001b[49m\u001b[43m(\u001b[49m\u001b[43mfname\u001b[49m\u001b[43m,\u001b[49m\u001b[43m \u001b[49m\u001b[38;5;241;43m*\u001b[39;49m\u001b[38;5;241;43m*\u001b[39;49m\u001b[43mkwargs\u001b[49m\u001b[43m)\u001b[49m\n",
      "File \u001b[0;32m~/.conda/envs/tss-ml/lib/python3.10/site-packages/matplotlib/backend_bases.py:2175\u001b[0m, in \u001b[0;36mFigureCanvasBase.print_figure\u001b[0;34m(self, filename, dpi, facecolor, edgecolor, orientation, format, bbox_inches, pad_inches, bbox_extra_artists, backend, **kwargs)\u001b[0m\n\u001b[1;32m   2172\u001b[0m     \u001b[38;5;66;03m# we do this instead of `self.figure.draw_without_rendering`\u001b[39;00m\n\u001b[1;32m   2173\u001b[0m     \u001b[38;5;66;03m# so that we can inject the orientation\u001b[39;00m\n\u001b[1;32m   2174\u001b[0m     \u001b[38;5;28;01mwith\u001b[39;00m \u001b[38;5;28mgetattr\u001b[39m(renderer, \u001b[38;5;124m\"\u001b[39m\u001b[38;5;124m_draw_disabled\u001b[39m\u001b[38;5;124m\"\u001b[39m, nullcontext)():\n\u001b[0;32m-> 2175\u001b[0m         \u001b[38;5;28;43mself\u001b[39;49m\u001b[38;5;241;43m.\u001b[39;49m\u001b[43mfigure\u001b[49m\u001b[38;5;241;43m.\u001b[39;49m\u001b[43mdraw\u001b[49m\u001b[43m(\u001b[49m\u001b[43mrenderer\u001b[49m\u001b[43m)\u001b[49m\n\u001b[1;32m   2176\u001b[0m \u001b[38;5;28;01mif\u001b[39;00m bbox_inches:\n\u001b[1;32m   2177\u001b[0m     \u001b[38;5;28;01mif\u001b[39;00m bbox_inches \u001b[38;5;241m==\u001b[39m \u001b[38;5;124m\"\u001b[39m\u001b[38;5;124mtight\u001b[39m\u001b[38;5;124m\"\u001b[39m:\n",
      "File \u001b[0;32m~/.conda/envs/tss-ml/lib/python3.10/site-packages/matplotlib/artist.py:95\u001b[0m, in \u001b[0;36m_finalize_rasterization.<locals>.draw_wrapper\u001b[0;34m(artist, renderer, *args, **kwargs)\u001b[0m\n\u001b[1;32m     93\u001b[0m \u001b[38;5;129m@wraps\u001b[39m(draw)\n\u001b[1;32m     94\u001b[0m \u001b[38;5;28;01mdef\u001b[39;00m \u001b[38;5;21mdraw_wrapper\u001b[39m(artist, renderer, \u001b[38;5;241m*\u001b[39margs, \u001b[38;5;241m*\u001b[39m\u001b[38;5;241m*\u001b[39mkwargs):\n\u001b[0;32m---> 95\u001b[0m     result \u001b[38;5;241m=\u001b[39m \u001b[43mdraw\u001b[49m\u001b[43m(\u001b[49m\u001b[43martist\u001b[49m\u001b[43m,\u001b[49m\u001b[43m \u001b[49m\u001b[43mrenderer\u001b[49m\u001b[43m,\u001b[49m\u001b[43m \u001b[49m\u001b[38;5;241;43m*\u001b[39;49m\u001b[43margs\u001b[49m\u001b[43m,\u001b[49m\u001b[43m \u001b[49m\u001b[38;5;241;43m*\u001b[39;49m\u001b[38;5;241;43m*\u001b[39;49m\u001b[43mkwargs\u001b[49m\u001b[43m)\u001b[49m\n\u001b[1;32m     96\u001b[0m     \u001b[38;5;28;01mif\u001b[39;00m renderer\u001b[38;5;241m.\u001b[39m_rasterizing:\n\u001b[1;32m     97\u001b[0m         renderer\u001b[38;5;241m.\u001b[39mstop_rasterizing()\n",
      "File \u001b[0;32m~/.conda/envs/tss-ml/lib/python3.10/site-packages/matplotlib/artist.py:72\u001b[0m, in \u001b[0;36mallow_rasterization.<locals>.draw_wrapper\u001b[0;34m(artist, renderer)\u001b[0m\n\u001b[1;32m     69\u001b[0m     \u001b[38;5;28;01mif\u001b[39;00m artist\u001b[38;5;241m.\u001b[39mget_agg_filter() \u001b[38;5;129;01mis\u001b[39;00m \u001b[38;5;129;01mnot\u001b[39;00m \u001b[38;5;28;01mNone\u001b[39;00m:\n\u001b[1;32m     70\u001b[0m         renderer\u001b[38;5;241m.\u001b[39mstart_filter()\n\u001b[0;32m---> 72\u001b[0m     \u001b[38;5;28;01mreturn\u001b[39;00m \u001b[43mdraw\u001b[49m\u001b[43m(\u001b[49m\u001b[43martist\u001b[49m\u001b[43m,\u001b[49m\u001b[43m \u001b[49m\u001b[43mrenderer\u001b[49m\u001b[43m)\u001b[49m\n\u001b[1;32m     73\u001b[0m \u001b[38;5;28;01mfinally\u001b[39;00m:\n\u001b[1;32m     74\u001b[0m     \u001b[38;5;28;01mif\u001b[39;00m artist\u001b[38;5;241m.\u001b[39mget_agg_filter() \u001b[38;5;129;01mis\u001b[39;00m \u001b[38;5;129;01mnot\u001b[39;00m \u001b[38;5;28;01mNone\u001b[39;00m:\n",
      "File \u001b[0;32m~/.conda/envs/tss-ml/lib/python3.10/site-packages/matplotlib/figure.py:3162\u001b[0m, in \u001b[0;36mFigure.draw\u001b[0;34m(self, renderer)\u001b[0m\n\u001b[1;32m   3159\u001b[0m             \u001b[38;5;66;03m# ValueError can occur when resizing a window.\u001b[39;00m\n\u001b[1;32m   3161\u001b[0m     \u001b[38;5;28mself\u001b[39m\u001b[38;5;241m.\u001b[39mpatch\u001b[38;5;241m.\u001b[39mdraw(renderer)\n\u001b[0;32m-> 3162\u001b[0m     \u001b[43mmimage\u001b[49m\u001b[38;5;241;43m.\u001b[39;49m\u001b[43m_draw_list_compositing_images\u001b[49m\u001b[43m(\u001b[49m\n\u001b[1;32m   3163\u001b[0m \u001b[43m        \u001b[49m\u001b[43mrenderer\u001b[49m\u001b[43m,\u001b[49m\u001b[43m \u001b[49m\u001b[38;5;28;43mself\u001b[39;49m\u001b[43m,\u001b[49m\u001b[43m \u001b[49m\u001b[43martists\u001b[49m\u001b[43m,\u001b[49m\u001b[43m \u001b[49m\u001b[38;5;28;43mself\u001b[39;49m\u001b[38;5;241;43m.\u001b[39;49m\u001b[43msuppressComposite\u001b[49m\u001b[43m)\u001b[49m\n\u001b[1;32m   3165\u001b[0m     renderer\u001b[38;5;241m.\u001b[39mclose_group(\u001b[38;5;124m'\u001b[39m\u001b[38;5;124mfigure\u001b[39m\u001b[38;5;124m'\u001b[39m)\n\u001b[1;32m   3166\u001b[0m \u001b[38;5;28;01mfinally\u001b[39;00m:\n",
      "File \u001b[0;32m~/.conda/envs/tss-ml/lib/python3.10/site-packages/matplotlib/image.py:132\u001b[0m, in \u001b[0;36m_draw_list_compositing_images\u001b[0;34m(renderer, parent, artists, suppress_composite)\u001b[0m\n\u001b[1;32m    130\u001b[0m \u001b[38;5;28;01mif\u001b[39;00m not_composite \u001b[38;5;129;01mor\u001b[39;00m \u001b[38;5;129;01mnot\u001b[39;00m has_images:\n\u001b[1;32m    131\u001b[0m     \u001b[38;5;28;01mfor\u001b[39;00m a \u001b[38;5;129;01min\u001b[39;00m artists:\n\u001b[0;32m--> 132\u001b[0m         \u001b[43ma\u001b[49m\u001b[38;5;241;43m.\u001b[39;49m\u001b[43mdraw\u001b[49m\u001b[43m(\u001b[49m\u001b[43mrenderer\u001b[49m\u001b[43m)\u001b[49m\n\u001b[1;32m    133\u001b[0m \u001b[38;5;28;01melse\u001b[39;00m:\n\u001b[1;32m    134\u001b[0m     \u001b[38;5;66;03m# Composite any adjacent images together\u001b[39;00m\n\u001b[1;32m    135\u001b[0m     image_group \u001b[38;5;241m=\u001b[39m []\n",
      "File \u001b[0;32m~/.conda/envs/tss-ml/lib/python3.10/site-packages/matplotlib/artist.py:72\u001b[0m, in \u001b[0;36mallow_rasterization.<locals>.draw_wrapper\u001b[0;34m(artist, renderer)\u001b[0m\n\u001b[1;32m     69\u001b[0m     \u001b[38;5;28;01mif\u001b[39;00m artist\u001b[38;5;241m.\u001b[39mget_agg_filter() \u001b[38;5;129;01mis\u001b[39;00m \u001b[38;5;129;01mnot\u001b[39;00m \u001b[38;5;28;01mNone\u001b[39;00m:\n\u001b[1;32m     70\u001b[0m         renderer\u001b[38;5;241m.\u001b[39mstart_filter()\n\u001b[0;32m---> 72\u001b[0m     \u001b[38;5;28;01mreturn\u001b[39;00m \u001b[43mdraw\u001b[49m\u001b[43m(\u001b[49m\u001b[43martist\u001b[49m\u001b[43m,\u001b[49m\u001b[43m \u001b[49m\u001b[43mrenderer\u001b[49m\u001b[43m)\u001b[49m\n\u001b[1;32m     73\u001b[0m \u001b[38;5;28;01mfinally\u001b[39;00m:\n\u001b[1;32m     74\u001b[0m     \u001b[38;5;28;01mif\u001b[39;00m artist\u001b[38;5;241m.\u001b[39mget_agg_filter() \u001b[38;5;129;01mis\u001b[39;00m \u001b[38;5;129;01mnot\u001b[39;00m \u001b[38;5;28;01mNone\u001b[39;00m:\n",
      "File \u001b[0;32m~/.conda/envs/tss-ml/lib/python3.10/site-packages/matplotlib/axes/_base.py:3137\u001b[0m, in \u001b[0;36m_AxesBase.draw\u001b[0;34m(self, renderer)\u001b[0m\n\u001b[1;32m   3134\u001b[0m \u001b[38;5;28;01mif\u001b[39;00m artists_rasterized:\n\u001b[1;32m   3135\u001b[0m     _draw_rasterized(\u001b[38;5;28mself\u001b[39m\u001b[38;5;241m.\u001b[39mfigure, artists_rasterized, renderer)\n\u001b[0;32m-> 3137\u001b[0m \u001b[43mmimage\u001b[49m\u001b[38;5;241;43m.\u001b[39;49m\u001b[43m_draw_list_compositing_images\u001b[49m\u001b[43m(\u001b[49m\n\u001b[1;32m   3138\u001b[0m \u001b[43m    \u001b[49m\u001b[43mrenderer\u001b[49m\u001b[43m,\u001b[49m\u001b[43m \u001b[49m\u001b[38;5;28;43mself\u001b[39;49m\u001b[43m,\u001b[49m\u001b[43m \u001b[49m\u001b[43martists\u001b[49m\u001b[43m,\u001b[49m\u001b[43m \u001b[49m\u001b[38;5;28;43mself\u001b[39;49m\u001b[38;5;241;43m.\u001b[39;49m\u001b[43mfigure\u001b[49m\u001b[38;5;241;43m.\u001b[39;49m\u001b[43msuppressComposite\u001b[49m\u001b[43m)\u001b[49m\n\u001b[1;32m   3140\u001b[0m renderer\u001b[38;5;241m.\u001b[39mclose_group(\u001b[38;5;124m'\u001b[39m\u001b[38;5;124maxes\u001b[39m\u001b[38;5;124m'\u001b[39m)\n\u001b[1;32m   3141\u001b[0m \u001b[38;5;28mself\u001b[39m\u001b[38;5;241m.\u001b[39mstale \u001b[38;5;241m=\u001b[39m \u001b[38;5;28;01mFalse\u001b[39;00m\n",
      "File \u001b[0;32m~/.conda/envs/tss-ml/lib/python3.10/site-packages/matplotlib/image.py:132\u001b[0m, in \u001b[0;36m_draw_list_compositing_images\u001b[0;34m(renderer, parent, artists, suppress_composite)\u001b[0m\n\u001b[1;32m    130\u001b[0m \u001b[38;5;28;01mif\u001b[39;00m not_composite \u001b[38;5;129;01mor\u001b[39;00m \u001b[38;5;129;01mnot\u001b[39;00m has_images:\n\u001b[1;32m    131\u001b[0m     \u001b[38;5;28;01mfor\u001b[39;00m a \u001b[38;5;129;01min\u001b[39;00m artists:\n\u001b[0;32m--> 132\u001b[0m         \u001b[43ma\u001b[49m\u001b[38;5;241;43m.\u001b[39;49m\u001b[43mdraw\u001b[49m\u001b[43m(\u001b[49m\u001b[43mrenderer\u001b[49m\u001b[43m)\u001b[49m\n\u001b[1;32m    133\u001b[0m \u001b[38;5;28;01melse\u001b[39;00m:\n\u001b[1;32m    134\u001b[0m     \u001b[38;5;66;03m# Composite any adjacent images together\u001b[39;00m\n\u001b[1;32m    135\u001b[0m     image_group \u001b[38;5;241m=\u001b[39m []\n",
      "File \u001b[0;32m~/.conda/envs/tss-ml/lib/python3.10/site-packages/matplotlib/artist.py:72\u001b[0m, in \u001b[0;36mallow_rasterization.<locals>.draw_wrapper\u001b[0;34m(artist, renderer)\u001b[0m\n\u001b[1;32m     69\u001b[0m     \u001b[38;5;28;01mif\u001b[39;00m artist\u001b[38;5;241m.\u001b[39mget_agg_filter() \u001b[38;5;129;01mis\u001b[39;00m \u001b[38;5;129;01mnot\u001b[39;00m \u001b[38;5;28;01mNone\u001b[39;00m:\n\u001b[1;32m     70\u001b[0m         renderer\u001b[38;5;241m.\u001b[39mstart_filter()\n\u001b[0;32m---> 72\u001b[0m     \u001b[38;5;28;01mreturn\u001b[39;00m \u001b[43mdraw\u001b[49m\u001b[43m(\u001b[49m\u001b[43martist\u001b[49m\u001b[43m,\u001b[49m\u001b[43m \u001b[49m\u001b[43mrenderer\u001b[49m\u001b[43m)\u001b[49m\n\u001b[1;32m     73\u001b[0m \u001b[38;5;28;01mfinally\u001b[39;00m:\n\u001b[1;32m     74\u001b[0m     \u001b[38;5;28;01mif\u001b[39;00m artist\u001b[38;5;241m.\u001b[39mget_agg_filter() \u001b[38;5;129;01mis\u001b[39;00m \u001b[38;5;129;01mnot\u001b[39;00m \u001b[38;5;28;01mNone\u001b[39;00m:\n",
      "File \u001b[0;32m~/.conda/envs/tss-ml/lib/python3.10/site-packages/matplotlib/collections.py:1005\u001b[0m, in \u001b[0;36m_CollectionWithSizes.draw\u001b[0;34m(self, renderer)\u001b[0m\n\u001b[1;32m   1002\u001b[0m \u001b[38;5;129m@artist\u001b[39m\u001b[38;5;241m.\u001b[39mallow_rasterization\n\u001b[1;32m   1003\u001b[0m \u001b[38;5;28;01mdef\u001b[39;00m \u001b[38;5;21mdraw\u001b[39m(\u001b[38;5;28mself\u001b[39m, renderer):\n\u001b[1;32m   1004\u001b[0m     \u001b[38;5;28mself\u001b[39m\u001b[38;5;241m.\u001b[39mset_sizes(\u001b[38;5;28mself\u001b[39m\u001b[38;5;241m.\u001b[39m_sizes, \u001b[38;5;28mself\u001b[39m\u001b[38;5;241m.\u001b[39mfigure\u001b[38;5;241m.\u001b[39mdpi)\n\u001b[0;32m-> 1005\u001b[0m     \u001b[38;5;28;43msuper\u001b[39;49m\u001b[43m(\u001b[49m\u001b[43m)\u001b[49m\u001b[38;5;241;43m.\u001b[39;49m\u001b[43mdraw\u001b[49m\u001b[43m(\u001b[49m\u001b[43mrenderer\u001b[49m\u001b[43m)\u001b[49m\n",
      "File \u001b[0;32m~/.conda/envs/tss-ml/lib/python3.10/site-packages/matplotlib/artist.py:72\u001b[0m, in \u001b[0;36mallow_rasterization.<locals>.draw_wrapper\u001b[0;34m(artist, renderer)\u001b[0m\n\u001b[1;32m     69\u001b[0m     \u001b[38;5;28;01mif\u001b[39;00m artist\u001b[38;5;241m.\u001b[39mget_agg_filter() \u001b[38;5;129;01mis\u001b[39;00m \u001b[38;5;129;01mnot\u001b[39;00m \u001b[38;5;28;01mNone\u001b[39;00m:\n\u001b[1;32m     70\u001b[0m         renderer\u001b[38;5;241m.\u001b[39mstart_filter()\n\u001b[0;32m---> 72\u001b[0m     \u001b[38;5;28;01mreturn\u001b[39;00m \u001b[43mdraw\u001b[49m\u001b[43m(\u001b[49m\u001b[43martist\u001b[49m\u001b[43m,\u001b[49m\u001b[43m \u001b[49m\u001b[43mrenderer\u001b[49m\u001b[43m)\u001b[49m\n\u001b[1;32m     73\u001b[0m \u001b[38;5;28;01mfinally\u001b[39;00m:\n\u001b[1;32m     74\u001b[0m     \u001b[38;5;28;01mif\u001b[39;00m artist\u001b[38;5;241m.\u001b[39mget_agg_filter() \u001b[38;5;129;01mis\u001b[39;00m \u001b[38;5;129;01mnot\u001b[39;00m \u001b[38;5;28;01mNone\u001b[39;00m:\n",
      "File \u001b[0;32m~/.conda/envs/tss-ml/lib/python3.10/site-packages/matplotlib/collections.py:355\u001b[0m, in \u001b[0;36mCollection.draw\u001b[0;34m(self, renderer)\u001b[0m\n\u001b[1;32m    352\u001b[0m     \u001b[38;5;28;01mreturn\u001b[39;00m\n\u001b[1;32m    353\u001b[0m renderer\u001b[38;5;241m.\u001b[39mopen_group(\u001b[38;5;28mself\u001b[39m\u001b[38;5;241m.\u001b[39m\u001b[38;5;18m__class__\u001b[39m\u001b[38;5;241m.\u001b[39m\u001b[38;5;18m__name__\u001b[39m, \u001b[38;5;28mself\u001b[39m\u001b[38;5;241m.\u001b[39mget_gid())\n\u001b[0;32m--> 355\u001b[0m \u001b[38;5;28;43mself\u001b[39;49m\u001b[38;5;241;43m.\u001b[39;49m\u001b[43mupdate_scalarmappable\u001b[49m\u001b[43m(\u001b[49m\u001b[43m)\u001b[49m\n\u001b[1;32m    357\u001b[0m transform, offset_trf, offsets, paths \u001b[38;5;241m=\u001b[39m \u001b[38;5;28mself\u001b[39m\u001b[38;5;241m.\u001b[39m_prepare_points()\n\u001b[1;32m    359\u001b[0m gc \u001b[38;5;241m=\u001b[39m renderer\u001b[38;5;241m.\u001b[39mnew_gc()\n",
      "File \u001b[0;32m~/.conda/envs/tss-ml/lib/python3.10/site-packages/matplotlib/collections.py:910\u001b[0m, in \u001b[0;36mCollection.update_scalarmappable\u001b[0;34m(self)\u001b[0m\n\u001b[1;32m    908\u001b[0m \u001b[38;5;28;01mif\u001b[39;00m np\u001b[38;5;241m.\u001b[39miterable(\u001b[38;5;28mself\u001b[39m\u001b[38;5;241m.\u001b[39m_alpha):\n\u001b[1;32m    909\u001b[0m     \u001b[38;5;28;01mif\u001b[39;00m \u001b[38;5;28mself\u001b[39m\u001b[38;5;241m.\u001b[39m_alpha\u001b[38;5;241m.\u001b[39msize \u001b[38;5;241m!=\u001b[39m \u001b[38;5;28mself\u001b[39m\u001b[38;5;241m.\u001b[39m_A\u001b[38;5;241m.\u001b[39msize:\n\u001b[0;32m--> 910\u001b[0m         \u001b[38;5;28;01mraise\u001b[39;00m \u001b[38;5;167;01mValueError\u001b[39;00m(\n\u001b[1;32m    911\u001b[0m             \u001b[38;5;124mf\u001b[39m\u001b[38;5;124m'\u001b[39m\u001b[38;5;124mData array shape, \u001b[39m\u001b[38;5;132;01m{\u001b[39;00m\u001b[38;5;28mself\u001b[39m\u001b[38;5;241m.\u001b[39m_A\u001b[38;5;241m.\u001b[39mshape\u001b[38;5;132;01m}\u001b[39;00m\u001b[38;5;124m \u001b[39m\u001b[38;5;124m'\u001b[39m\n\u001b[1;32m    912\u001b[0m             \u001b[38;5;124m'\u001b[39m\u001b[38;5;124mis incompatible with alpha array shape, \u001b[39m\u001b[38;5;124m'\u001b[39m\n\u001b[1;32m    913\u001b[0m             \u001b[38;5;124mf\u001b[39m\u001b[38;5;124m'\u001b[39m\u001b[38;5;132;01m{\u001b[39;00m\u001b[38;5;28mself\u001b[39m\u001b[38;5;241m.\u001b[39m_alpha\u001b[38;5;241m.\u001b[39mshape\u001b[38;5;132;01m}\u001b[39;00m\u001b[38;5;124m. \u001b[39m\u001b[38;5;124m'\u001b[39m\n\u001b[1;32m    914\u001b[0m             \u001b[38;5;124m'\u001b[39m\u001b[38;5;124mThis can occur with the deprecated \u001b[39m\u001b[38;5;124m'\u001b[39m\n\u001b[1;32m    915\u001b[0m             \u001b[38;5;124m'\u001b[39m\u001b[38;5;124mbehavior of the \u001b[39m\u001b[38;5;124m\"\u001b[39m\u001b[38;5;124mflat\u001b[39m\u001b[38;5;124m\"\u001b[39m\u001b[38;5;124m shading option, \u001b[39m\u001b[38;5;124m'\u001b[39m\n\u001b[1;32m    916\u001b[0m             \u001b[38;5;124m'\u001b[39m\u001b[38;5;124min which a row and/or column of the data \u001b[39m\u001b[38;5;124m'\u001b[39m\n\u001b[1;32m    917\u001b[0m             \u001b[38;5;124m'\u001b[39m\u001b[38;5;124marray is dropped.\u001b[39m\u001b[38;5;124m'\u001b[39m)\n\u001b[1;32m    918\u001b[0m     \u001b[38;5;66;03m# pcolormesh, scatter, maybe others flatten their _A\u001b[39;00m\n\u001b[1;32m    919\u001b[0m     \u001b[38;5;28mself\u001b[39m\u001b[38;5;241m.\u001b[39m_alpha \u001b[38;5;241m=\u001b[39m \u001b[38;5;28mself\u001b[39m\u001b[38;5;241m.\u001b[39m_alpha\u001b[38;5;241m.\u001b[39mreshape(\u001b[38;5;28mself\u001b[39m\u001b[38;5;241m.\u001b[39m_A\u001b[38;5;241m.\u001b[39mshape)\n",
      "\u001b[0;31mValueError\u001b[0m: Data array shape, (2,) is incompatible with alpha array shape, (2, 2). This can occur with the deprecated behavior of the \"flat\" shading option, in which a row and/or column of the data array is dropped."
     ]
    },
    {
     "data": {
      "text/plain": [
       "Canvas(toolbar=Toolbar(toolitems=[('Home', 'Reset original view', 'home', 'home'), ('Back', 'Back to previous view', 'arrow-left', 'back'), ('Forward', 'Forward to next view', 'arrow-right', 'forward'), ('Pan', 'Left button pans, Right button zooms\\nx/y fixes axis, CTRL fixes aspect', 'arrows', 'pan'), ('Zoom', 'Zoom to rectangle\\nx/y fixes axis', 'square-o', 'zoom'), ('Download', 'Download plot', 'floppy-o', 'save_figure')]))"
      ]
     },
     "metadata": {},
     "output_type": "display_data"
    }
   ],
   "source": [
    "import evaluate\n",
    "reload(evaluate)\n",
    "from evaluate.plots import map_animation\n",
    "\n",
    "# target = 'flux'\n",
    "# cmap_label = 'Flux (t/day)'\n",
    "# lim = [5E-1, 5E6]\n",
    "\n",
    "target = 'ssc'\n",
    "cmap_label = 'SSC (mg/L)'\n",
    "lim = [1E0, 1E4]\n",
    "\n",
    "date_range = ['2019-01-01', '2019-12-31']\n",
    "# date_range = ['2020-01-01','2022-12-31']\n",
    "# date_range = ['2020-06-01','2020-06-30']\n",
    "\n",
    "ani = map_animation(cfg, model, dataset, target, cmap_label, date_range, lim, 1)\n",
    "\n",
    "# ani.save(fig_dir / f'{target}_dt0_2019.mp4', writer='ffmpeg', dpi=300)\n",
    "\n",
    "# To save the animation using Pillow as a gif\n",
    "import matplotlib.animation as animation\n",
    "writer = animation.PillowWriter(fps=10, bitrate=1800)\n",
    "ani.save(fig_dir / f'{target}_dt0.gif', writer=writer)"
   ]
  },
  {
   "cell_type": "code",
   "execution_count": null,
   "id": "e7ab9fc1-0f6d-4fa6-a83b-4a193f7b504c",
   "metadata": {},
   "outputs": [],
   "source": []
  },
  {
   "cell_type": "code",
   "execution_count": null,
   "id": "fc982620-c1f3-41c5-b6ac-63c624a00e55",
   "metadata": {},
   "outputs": [],
   "source": [
    "import geopandas as gpd\n",
    "wqp_locs = gpd.read_file(\"/work/pi_kandread_umass_edu/tss-ml/data/NA_WQP/metadata/wqp_sites.shp\")\n",
    "wqp_locs = wqp_locs.set_index('LocationID')\n",
    "wqp_locs = wqp_locs.to_crs(\"EPSG:5070\")"
   ]
  },
  {
   "cell_type": "code",
   "execution_count": null,
   "id": "f0ce1c15-db5f-4ae2-93c8-84670dc3c7d8",
   "metadata": {},
   "outputs": [],
   "source": [
    "date_range = ['2020-01-01','2022-12-31']\n",
    "dataloader_kwargs = dataset.date_batching(date_range) # Return batches where each batch is 1 day\n",
    "cfg.update(dataloader_kwargs)"
   ]
  },
  {
   "cell_type": "code",
   "execution_count": null,
   "id": "6ca6f495-cc5d-4cc4-b235-a08cf4c170a1",
   "metadata": {},
   "outputs": [],
   "source": [
    "cfg['num_workers']=0\n",
    "dataloader = TAPDataLoader(cfg, dataset)\n",
    "for basin, date, y, y_hat, dt in model_iterate(model, dataloader, True):\n",
    "    break"
   ]
  },
  {
   "cell_type": "code",
   "execution_count": null,
   "id": "ed7cf626-19a9-4ea4-a9c7-efcb88f3bb83",
   "metadata": {},
   "outputs": [],
   "source": [
    "def draw_year_progress(ax, date):\n",
    "    year_start = pd.Timestamp(date.year, 1, 1)\n",
    "    year_end = pd.Timestamp(date.year, 12, 31)\n",
    "    progress = (date - year_start).days / (year_end - year_start).days\n",
    "    \n",
    "    ax.add_patch(plt.Rectangle((0.1, 0.05), 0.8, 0.04, fill=False, transform=ax.transAxes))\n",
    "    ax.add_patch(plt.Rectangle((0.1, 0.05), 0.8 * progress, 0.04, facecolor='black', transform=ax.transAxes))\n",
    "    text_str = date.strftime('%Y-%m-%d')\n",
    "    ax.text(0.1, 0.1, text_str, transform=ax.transAxes, fontsize=14, ha='left', va='bottom')\n",
    "    \n",
    "# Create an empty plot\n",
    "plt.close('all')\n",
    "fig, ax = plt.subplots(1, 1, figsize=(8, 4))\n",
    "fig.set_tight_layout(True)\n",
    "\n",
    "# Create text for start and end dates\n",
    "start_date = pd.Timestamp(date_range[0])\n",
    "end_date = pd.Timestamp(date_range[1])\n",
    "\n",
    "\n",
    "min_val = 1E0\n",
    "max_val = 1E4\n",
    "norm = colors.LogNorm(vmin=min_val, vmax=max_val)\n",
    "\n",
    "test_basins = wqp_locs.loc[dataset.all_basins]\n",
    "test_basins['y_hat'] = 0.0 \n",
    "\n",
    "flux_idx = np.where([t == 'ssc' for t in dataset.target])[0]\n",
    "\n",
    "# Add color bar\n",
    "sm = plt.cm.ScalarMappable(cmap='inferno', norm=norm)\n",
    "sm._A = []  # Empty array for the scalar mappable\n",
    "cbar = plt.colorbar(sm, ax=ax, shrink=0.75, aspect=15, label='SSC (mg/L')\n",
    "\n",
    "alpha = np.where(dt_mask, 1, 0.15)\n",
    "\n",
    "# Requires running the block above to get a batch of data\n",
    "test_basins.loc[basin, 'y_hat'] = y_hat[:, flux_idx]\n",
    "test_basins.plot(column='y_hat', cmap='inferno', linewidth=0, alpha=alpha, norm=norm, ax=ax)\n",
    "\n",
    "# Create progress bar\n",
    "# current_date = pd.Timestamp(date[0])\n",
    "current_date = pd.Timestamp('2020-06-01')\n",
    "draw_year_progress(ax, current_date)\n",
    "ax.set_axis_off()\n",
    "\n",
    "    "
   ]
  },
  {
   "cell_type": "code",
   "execution_count": null,
   "id": "05def76e-b2ce-4cde-b750-186d9a8c154b",
   "metadata": {},
   "outputs": [],
   "source": [
    "cfg['num_workers']=0\n",
    "dataloader = TAPDataLoader(cfg, dataset)\n",
    "for basin, date, batch in dataloader:\n",
    "    break\n"
   ]
  },
  {
   "cell_type": "code",
   "execution_count": null,
   "id": "e21f196e-f3db-4365-8fb2-7690cbd9c857",
   "metadata": {},
   "outputs": [],
   "source": [
    "# Simplifying to the first feature, since all features align\n",
    "valid_mask = ~np.isnan(batch['x_di'][:, :, 0])  \n",
    "# Find the last valid index for each sequence in the batch\n",
    "batch_dt_last = np.argmax(valid_mask[:, ::-1], axis=1)\n",
    "\n",
    "seq_length = valid_mask.shape[1]\n",
    "all_nan_mask = ~np.any(valid_mask, axis=1)\n",
    "batch_dt_last[all_nan_mask] = seq_length+1\n",
    "\n",
    "batch_dt_last"
   ]
  },
  {
   "cell_type": "code",
   "execution_count": null,
   "id": "59c42976-f25f-4cb4-88c3-0e995b0d3fae",
   "metadata": {},
   "outputs": [],
   "source": []
  },
  {
   "cell_type": "code",
   "execution_count": null,
   "id": "4569bd16-f802-49e5-8c43-73c915a458ff",
   "metadata": {},
   "outputs": [],
   "source": []
  },
  {
   "cell_type": "code",
   "execution_count": null,
   "id": "98770a2a-58ce-4ae8-aa56-348c43957ca4",
   "metadata": {},
   "outputs": [],
   "source": [
    "key = jax.random.PRNGKey(0)\n",
    "keys = jax.random.split(key, batch['x_s'].shape[0])\n",
    "\n",
    "embedded = jax.vmap(model.static_embedder)(batch['x_s'], keys)"
   ]
  },
  {
   "cell_type": "code",
   "execution_count": null,
   "id": "ac173b7f-bce7-4f90-a0ba-c2abb65d5768",
   "metadata": {},
   "outputs": [],
   "source": [
    "plt.close('all')\n",
    "plt.imshow(embedded[0,...],aspect='auto')"
   ]
  },
  {
   "cell_type": "code",
   "execution_count": null,
   "id": "d983b68a-7ca5-4e26-9d9d-b2e165e91497",
   "metadata": {},
   "outputs": [],
   "source": [
    "plt.close('all')\n",
    "plt.plot(model.head.weight.T, label=cfg['features']['target'])\n",
    "plt.legend()\n"
   ]
  },
  {
   "cell_type": "code",
   "execution_count": null,
   "id": "a907626a-fed0-49bc-8d2b-16161e886372",
   "metadata": {},
   "outputs": [],
   "source": [
    "w"
   ]
  },
  {
   "cell_type": "code",
   "execution_count": null,
   "id": "4c64d58a-5d7f-4732-9bea-4ab93b6d24b9",
   "metadata": {},
   "outputs": [],
   "source": [
    "# weights = model.i_encoder.embedder.dynamic_embedder.weight\n",
    "weights = model.tft.dynamic_vsn.variable_transformers['x_dd'].weight\n",
    "\n",
    "weight_norms = np.linalg.norm(weights, axis=0)\n",
    "\n",
    "order = np.argsort(weight_norms)\n",
    "\n",
    "plt.close('all')\n",
    "bars = plt.barh(np.array(dataset.daily_features)[order], weight_norms[order])\n",
    "plt.tight_layout()\n",
    "plt.show()"
   ]
  },
  {
   "cell_type": "code",
   "execution_count": null,
   "id": "c50ed6c9-d924-4d48-99a3-989b3196abff",
   "metadata": {},
   "outputs": [],
   "source": [
    "model.tft.dynamic_vsn.variable_transformers"
   ]
  },
  {
   "cell_type": "code",
   "execution_count": null,
   "id": "a4ebffc9-01c1-45f9-bebe-77accade1349",
   "metadata": {},
   "outputs": [],
   "source": [
    "dataset"
   ]
  },
  {
   "cell_type": "code",
   "execution_count": null,
   "id": "7e43e9eb-56d2-45b4-9797-9fd4b5057e65",
   "metadata": {},
   "outputs": [],
   "source": []
  },
  {
   "cell_type": "code",
   "execution_count": null,
   "id": "01b285d0-f8f7-49fe-ab76-66d2f4910c85",
   "metadata": {},
   "outputs": [],
   "source": []
  },
  {
   "cell_type": "code",
   "execution_count": null,
   "id": "af3e538a-c2f9-49b8-8e03-0dfc1c1572de",
   "metadata": {},
   "outputs": [],
   "source": [
    "from train import Trainer, make_step\n",
    "\n",
    "cfg['data_subset'] = 'test'\n",
    "cfg['num_workers'] = 2\n",
    "cfg['basin_subset'] = None\n",
    "cfg['log'] = False\n",
    "cfg['quiet'] = False\n",
    "dataloader = TAPDataLoader(cfg, dataset)\n",
    "trainer = Trainer(cfg, dataloader)\n",
    "\n",
    "step_kwargs = cfg['step_kwargs']\n",
    "step_kwargs['max_grad_norm'] = None\n",
    "\n",
    "for basin, date, batch in dataloader:\n",
    "    break\n",
    "\n",
    "key = jax.random.PRNGKey(0)\n",
    "batch_keys = jax.random.split(key, len(basin))\n",
    "\n",
    "loss, grads, model, opt_state = make_step(\n",
    "    model, \n",
    "    batch,\n",
    "    batch_keys,\n",
    "    opt_state, \n",
    "    trainer.optim, \n",
    "    trainer.filter_spec, \n",
    "    **step_kwargs\n",
    "    )"
   ]
  },
  {
   "cell_type": "code",
   "execution_count": null,
   "id": "5134838b-9849-4e49-97ba-42e88deec25c",
   "metadata": {},
   "outputs": [],
   "source": []
  },
  {
   "cell_type": "code",
   "execution_count": null,
   "id": "0190fe76-6531-43dd-9ed5-c56256d64c92",
   "metadata": {},
   "outputs": [],
   "source": [
    "key = jax.random.PRNGKey(0)\n",
    "keys = keys = jax.random.split(key, num=batch['x_s'].shape[0])\n",
    "embedded = jax.vmap(model.static_embedder)(batch['x_s'],keys)\n",
    "\n",
    "plt.close('all')\n",
    "plt.imshow(embedded[0,...])"
   ]
  },
  {
   "cell_type": "code",
   "execution_count": null,
   "id": "961e4e83-d56f-4427-90ad-5b080e5ba407",
   "metadata": {},
   "outputs": [],
   "source": [
    "plt.close('all')\n",
    "plt.hist(model.static_embedder.layernorm.weight)\n",
    "plt.show()"
   ]
  },
  {
   "cell_type": "code",
   "execution_count": null,
   "id": "250c5e56-778d-4a69-b0d1-54d267dbab87",
   "metadata": {},
   "outputs": [],
   "source": [
    "model"
   ]
  },
  {
   "cell_type": "code",
   "execution_count": null,
   "id": "6a497dd0-659b-4fa1-8e4f-a31ef60d8063",
   "metadata": {},
   "outputs": [],
   "source": [
    "model.tft.static_context_vsn.variable_transformers['static']"
   ]
  },
  {
   "cell_type": "code",
   "execution_count": null,
   "id": "c47a0bcf-90dd-41ac-97da-6ab279fb48d1",
   "metadata": {},
   "outputs": [],
   "source": []
  },
  {
   "cell_type": "code",
   "execution_count": null,
   "id": "f0234be8-8e01-4fba-952b-7ce22b315ef1",
   "metadata": {},
   "outputs": [],
   "source": []
  },
  {
   "cell_type": "code",
   "execution_count": null,
   "id": "aedbf4b1-80c6-4bd9-b3cf-fde7ee1ae71a",
   "metadata": {},
   "outputs": [],
   "source": [
    "mat_plot.shape"
   ]
  },
  {
   "cell_type": "code",
   "execution_count": null,
   "id": "4678481b-a16d-40b8-8eba-47a99bf9056d",
   "metadata": {},
   "outputs": [],
   "source": [
    "labels"
   ]
  },
  {
   "cell_type": "code",
   "execution_count": null,
   "id": "89b65f57-18b3-4fb1-9223-decf31470448",
   "metadata": {},
   "outputs": [],
   "source": [
    "mask = ['aet_mm' in k for k in labels]\n",
    "\n",
    "mat_plot =  model.static_embedder.proj.weight.T\n",
    "labels = list(dataset.attributes_scale.keys())\n",
    "embeddings_nd = plot_umap(mat_plot, 16, labels, 3, mask)\n"
   ]
  },
  {
   "cell_type": "code",
   "execution_count": null,
   "id": "ef67e7f8-e974-4c72-9610-eaf45fd3d549",
   "metadata": {},
   "outputs": [],
   "source": [
    "import umap\n",
    "\n",
    "def plot_umap(mat, neighbors, labels=[], components=3, mask=None):\n",
    "    if mask is None:\n",
    "        mask = np.ones(mat.shape[0], dtype='bool')\n",
    "        \n",
    "    reducer = umap.UMAP(n_neighbors=neighbors, n_components=components, metric='euclidean')\n",
    "    embedding_nd = reducer.fit_transform(mat)\n",
    "\n",
    "    # Plot using matplotlib\n",
    "    plt.close('all')\n",
    "    fig, ax = plt.subplots(figsize=(6,6))\n",
    "    \n",
    "    c = embedding_nd[:,2] if components>2 else None\n",
    "    ax.scatter(embedding_nd[:, 0], embedding_nd[:, 1], c=c)\n",
    "    ax.set_title('2D Projection of Embeddings')\n",
    "    ax.set_xlabel('First Dimension')\n",
    "    ax.set_ylabel('Second Dimension')\n",
    "\n",
    "    masked_labels = [l for l, m in zip(labels, mask) if m]\n",
    "    for xy, label in zip(embedding_nd[mask], masked_labels):\n",
    "        ax.text(xy[0], xy[1], label)\n",
    "        \n",
    "    return fig, embedding_nd\n"
   ]
  },
  {
   "cell_type": "code",
   "execution_count": null,
   "id": "8b6dd152-d0c8-42f9-9b18-1796908dfdbe",
   "metadata": {},
   "outputs": [],
   "source": [
    "import equinox as eqx\n",
    "import jax.numpy as jnp\n",
    "from tqdm.auto import tqdm\n",
    "\n",
    "model = eqx.nn.inference_mode(model)\n",
    "key = jax.random.PRNGKey(0)\n",
    "basins = []\n",
    "embeddings = []\n",
    "for basin in tqdm(dataset.train_basins):\n",
    "    basins.append(basin)\n",
    "    static_data = dataset.x_s[basin]\n",
    "    # embeddings.append(model.tealstm_i.cell.input_linear(static_data).flatten())\n",
    "    embeddings.append(model.static_embedder(static_data, key))\n",
    "\n",
    "# embeddings = np.concatenate(embeddings, axis=0)\n",
    "embeddings = np.stack(embeddings, axis=0)"
   ]
  },
  {
   "cell_type": "code",
   "execution_count": null,
   "id": "f3c1d077-ec75-4542-b7ed-29811744ed43",
   "metadata": {},
   "outputs": [],
   "source": [
    "embeddings.shape"
   ]
  },
  {
   "cell_type": "code",
   "execution_count": null,
   "id": "ab123a7d-36bf-48c3-82a8-488fb2e29f0b",
   "metadata": {},
   "outputs": [],
   "source": [
    "from sklearn.preprocessing import MinMaxScaler\n",
    "\n",
    "fig, embedding_nd = plot_umap(embeddings, 64, [], 3)\n",
    "\n",
    "# Normalize the UMAP embeddings to the range [0, 1]\n",
    "scaler = MinMaxScaler()\n",
    "embedding_nd_norm = scaler.fit_transform(embedding_nd)"
   ]
  },
  {
   "cell_type": "code",
   "execution_count": null,
   "id": "e062f2ad-7b67-41bd-b281-61154086314e",
   "metadata": {},
   "outputs": [],
   "source": []
  },
  {
   "cell_type": "code",
   "execution_count": null,
   "id": "93d438f8-6aa3-44cb-8794-7796f125e6d3",
   "metadata": {},
   "outputs": [],
   "source": [
    "columns = [f\"UMAP{i:d}\" for i in range(embedding_nd.shape[1])]\n",
    "df = pd.DataFrame(embedding_nd, columns=columns)\n",
    "df.index = basins\n",
    "\n",
    "gdf_embeddings = wqp_locs.merge(df,left_index=True, right_index=True)"
   ]
  },
  {
   "cell_type": "code",
   "execution_count": null,
   "id": "70435546-eecc-4e25-8002-4dc323fe9129",
   "metadata": {},
   "outputs": [],
   "source": [
    "col = 'UMAP0'\n",
    "gdf_embeddings.plot(col)\n",
    "plt.title(col)"
   ]
  },
  {
   "cell_type": "code",
   "execution_count": null,
   "id": "37933c93-bca2-4e68-abb8-567c592b698d",
   "metadata": {},
   "outputs": [],
   "source": [
    "embed_dir = fig_dir / \"embeddings\"\n",
    "embed_dir.mkdir(exist_ok=True)\n",
    "gdf_embeddings.to_file(embed_dir / \"sites_umap.shp\")"
   ]
  },
  {
   "cell_type": "code",
   "execution_count": null,
   "id": "890d5e8e-6d90-4994-acc9-1aadef16789e",
   "metadata": {},
   "outputs": [],
   "source": [
    "plt.close('all')\n",
    "# plt.imshow(model.tealstm_i.cell.input_linear.weight,aspect='auto')\n",
    "plt.plot(model.tealstm_i.cell.input_linear.bias)"
   ]
  },
  {
   "cell_type": "code",
   "execution_count": null,
   "id": "4640b17a-55f1-4499-b1d6-2c8f5804d0c2",
   "metadata": {},
   "outputs": [],
   "source": []
  },
  {
   "cell_type": "code",
   "execution_count": null,
   "id": "7a3e9c9a-6a77-4382-963e-2f5917270ccf",
   "metadata": {},
   "outputs": [],
   "source": [
    "\n",
    "ms = 'USGS-07289000'\n",
    "ms_t = 'USGS-07288955'\n",
    "\n",
    "oh = 'USGS-03612600'\n",
    "oh_t = 'USGS-03438500'\n",
    "\n",
    "embedder = lambda b: model.tealstm_i.cell.input_linear(dataset.x_s[b])\n",
    "# embedder = lambda b: model.static_embedder(dataset.x_s[b], key)\n",
    "plt.close('all')\n",
    "# plt.plot(embedder(ms))\n",
    "# plt.plot(embedder(oh))\n",
    "\n",
    "plt.plot(embedder(ms) - embedder(ms_t))\n",
    "plt.plot(embedder(oh)- embedder(oh_t))\n",
    "\n"
   ]
  },
  {
   "cell_type": "code",
   "execution_count": null,
   "id": "6d7825aa-28f9-499c-ad08-b5dfe2f32cf8",
   "metadata": {},
   "outputs": [],
   "source": []
  },
  {
   "cell_type": "code",
   "execution_count": null,
   "id": "ffea73c7-e4e4-421d-b729-acb4dc60e1a4",
   "metadata": {},
   "outputs": [],
   "source": []
  },
  {
   "cell_type": "code",
   "execution_count": null,
   "id": "b4010864-b03b-4380-963c-270358914974",
   "metadata": {},
   "outputs": [],
   "source": [
    "model.tft.dynamic_vsn.variable_transformers['x_dd'].weight.shape"
   ]
  },
  {
   "cell_type": "code",
   "execution_count": null,
   "id": "a9478c24-fd40-4679-9859-6bc3549a9feb",
   "metadata": {},
   "outputs": [],
   "source": [
    "mat_plot =  model.tft.dynamic_vsn.variable_transformers['x_dd'].weight.T\n",
    "# mat_plot =  model.ealstm_d.cell.weight_ih[0:64,:].T\n",
    "labels = cfg['features']['daily']\n",
    "plot_umap(mat_plot, 8, labels, 3)\n",
    "plt.show()"
   ]
  },
  {
   "cell_type": "code",
   "execution_count": null,
   "id": "ee188765-3429-4c8d-971b-af18248a29bf",
   "metadata": {},
   "outputs": [],
   "source": [
    "static_sums = np.sum(np.abs(embedded),axis=0)\n",
    "sorted_ids = np.argsort(-static_sums)\n",
    "\n",
    "static_features = list(dataset.attributes_scale.keys())\n",
    "for i in range(25):\n",
    "    idx = sorted_ids[i]\n",
    "    print(f\"{static_features[idx]}: {static_sums[idx]}\")"
   ]
  },
  {
   "cell_type": "code",
   "execution_count": null,
   "id": "39abdc04-9931-414b-967a-52d4c7236515",
   "metadata": {},
   "outputs": [],
   "source": [
    "plt.figure()\n",
    "plt.hist(static_sums)"
   ]
  },
  {
   "cell_type": "code",
   "execution_count": null,
   "id": "14f332d3-d0e6-4feb-a48e-d36abfa032d8",
   "metadata": {},
   "outputs": [],
   "source": []
  },
  {
   "cell_type": "code",
   "execution_count": null,
   "id": "52bc61e0-3fb4-4e0a-b4c4-2a63dc972b53",
   "metadata": {},
   "outputs": [],
   "source": [
    "plt.close('all')\n",
    "plt.imshow(static_embeddings, aspect='auto')\n",
    "plt.show()"
   ]
  },
  {
   "cell_type": "code",
   "execution_count": null,
   "id": "0b23eaa7-8eda-40a8-8b9b-ca2b1ee48842",
   "metadata": {},
   "outputs": [],
   "source": [
    "model.decoder.layers[0].attention_block.attention"
   ]
  },
  {
   "cell_type": "code",
   "execution_count": null,
   "id": "ca0589a2-2d9d-4d55-a202-9270d6f72af6",
   "metadata": {},
   "outputs": [],
   "source": [
    "plt.close('all')\n",
    "\n",
    "fig, ax = plt.subplots(figsize=(6,6))\n",
    "\n",
    "x = results['obs']\n",
    "y = results['pred']\n",
    "z = []\n",
    "\n",
    "dt_max = 10\n",
    "for dt in range(dt_max+1):\n",
    "    if dt < dt_max:\n",
    "        mask = np.abs(results['dt']) == dt\n",
    "    else:\n",
    "        mask = np.abs(results['dt']) >= dt\n",
    "    metrics = get_all_metrics(x[mask], y[mask])\n",
    "    z.append(metrics['lNSE'])\n",
    "\n",
    "ax.plot(z)\n",
    "\n",
    "xticks = range(0,dt_max+1,2)\n",
    "xtick_labels = ax.get_xticklabels()\n",
    "new_labels = [\"≥\" + str(int(tick)) if tick == dt_max else str(int(tick)) for tick in xticks]\n",
    "ax.set_xticks(xticks)\n",
    "ax.set_xticklabels(new_labels)\n",
    "\n",
    "plt.show()"
   ]
  },
  {
   "cell_type": "code",
   "execution_count": null,
   "id": "eedfab50-94bd-42f6-9e7d-820fbb67b927",
   "metadata": {},
   "outputs": [],
   "source": []
  },
  {
   "cell_type": "code",
   "execution_count": null,
   "id": "fc082e3b-b0dd-4b7c-ad22-39be6843c015",
   "metadata": {},
   "outputs": [],
   "source": [
    "import matplotlib.colors as colors\n",
    "\n",
    "gdf_metrics = wqp_locs.merge(basin_metrics['flux'],left_index=True, right_index=True)\n",
    "col = 'R2'\n",
    "gdf_metrics[col] = gdf_metrics[col].astype(float)\n",
    "\n",
    "norm = colors.TwoSlopeNorm(vmin=-1, vcenter=0, vmax=1)\n",
    "\n",
    "fig, ax = plt.subplots(1, 1, figsize=(10, 6))\n",
    "gdf_metrics.plot(column=col, cmap='RdBu', norm=norm, ax=ax)\n",
    "\n",
    "# Add color bar\n",
    "sm = plt.cm.ScalarMappable(cmap='RdBu', norm=norm)\n",
    "sm._A = []  # Empty array for the scalar mappable\n",
    "cbar = plt.colorbar(sm, ax=ax)"
   ]
  }
 ],
 "metadata": {
  "kernelspec": {
   "display_name": "Python [conda env:.conda-tss-ml]",
   "language": "python",
   "name": "conda-env-.conda-tss-ml-py"
  },
  "language_info": {
   "codemirror_mode": {
    "name": "ipython",
    "version": 3
   },
   "file_extension": ".py",
   "mimetype": "text/x-python",
   "name": "python",
   "nbconvert_exporter": "python",
   "pygments_lexer": "ipython3",
   "version": "3.10.14"
  }
 },
 "nbformat": 4,
 "nbformat_minor": 5
}
