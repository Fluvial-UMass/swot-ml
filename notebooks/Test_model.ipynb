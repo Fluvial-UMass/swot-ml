{
 "cells": [
  {
   "cell_type": "raw",
   "id": "d005173a-c81c-42d3-8ccf-f8efb1f0ddf5",
   "metadata": {
    "tags": []
   },
   "source": [
    "from pathlib import Path\n",
    "from netCDF4 import Dataset\n",
    "\n",
    "\n",
    "# Open the NetCDF file\n",
    "file_path = Path('/work/pi_kandread_umass_edu/tss-ml/data/NA_WQP/time_series/USGS-01015000.nc')\n",
    "dataset = Dataset(file_path, 'r')\n",
    "\n",
    "# Print all available variables\n",
    "print(\"Available variables in the NetCDF file:\")\n",
    "for var_name in dataset.variables.keys():\n",
    "    print(var_name)\n",
    "\n",
    "# # Close the dataset\n",
    "# dataset.close()"
   ]
  },
  {
   "cell_type": "code",
   "execution_count": null,
   "id": "d6896bf3-c906-4666-a989-86d65caf7a07",
   "metadata": {},
   "outputs": [],
   "source": [
    "# This is required to run multiple processes on Unity for some reason.\n",
    "from multiprocessing import set_start_method\n",
    "set_start_method('spawn', force=True)\n",
    "\n",
    "import os\n",
    "os.environ['XLA_FLAGS'] = '--xla_gpu_enable_command_buffer='\n",
    "os.environ['XLA_PYTHON_CLIENT_MEM_FRACTION'] = '0.7'\n",
    "# os.environ['JAX_PLATFORMS'] = 'cpu'"
   ]
  },
  {
   "cell_type": "code",
   "execution_count": null,
   "id": "4f9dee3e-38f2-4425-a709-0d216b941d66",
   "metadata": {},
   "outputs": [],
   "source": [
    "%matplotlib widget\n",
    "import sys\n",
    "import pandas as pd\n",
    "import numpy as np\n",
    "import matplotlib.pyplot as plt\n",
    "import jax\n",
    "import pickle\n",
    "from pathlib import Path\n",
    "from importlib import reload\n",
    "\n",
    "src = str(Path('../src').resolve())\n",
    "if src not in sys.path:\n",
    "    sys.path.append(src)\n",
    "\n",
    "from train import load_last_state\n",
    "from data import TAPDataset, TAPDataLoader\n",
    "from evaluate import *"
   ]
  },
  {
   "cell_type": "code",
   "execution_count": null,
   "id": "cd672693-9d15-4349-b8be-17cc150e044c",
   "metadata": {},
   "outputs": [],
   "source": [
    "import data\n",
    "reload(data)\n",
    "from data import TAPDataset, TAPDataLoader\n",
    "\n",
    "run_dir = Path(\"../runs/hybrid_hyperparam_grid/index_0/fold_1\")\n",
    "cfg, model, trainer_state, opt_state, _ = load_last_state(run_dir)\n",
    "cfg['quiet'] = False\n",
    "\n",
    "fig_dir = run_dir / \"figures\"\n",
    "fig_dir.mkdir(exist_ok=True)\n",
    "\n",
    "dataset = TAPDataset(cfg)"
   ]
  },
  {
   "cell_type": "code",
   "execution_count": null,
   "id": "0a4a8987-7108-49f4-87fd-67379b940ac6",
   "metadata": {},
   "outputs": [],
   "source": []
  },
  {
   "cell_type": "code",
   "execution_count": null,
   "id": "c231e872-c9b8-4b97-b626-d56b7a1142bf",
   "metadata": {
    "tags": []
   },
   "outputs": [],
   "source": [
    "cfg['num_workers'] = 1\n",
    "cfg['basin_subset'] = None\n",
    "cfg['batch_size'] = 64\n",
    "\n",
    "\n",
    "def save_results(data_subset):\n",
    "    dataset.update_indices(data_subset)\n",
    "    dataloader = TAPDataLoader(cfg, dataset)\n",
    "    results = predict(model, dataloader)\n",
    "    bulk_metrics = get_all_metrics(results, False)\n",
    "    basin_metrics = get_basin_metrics(results, True)\n",
    "    # with open(run_dir / f\"{data_subset}_data.pkl\", 'wb') as f:\n",
    "    #     pickle.dump((results, bulk_metrics, basin_metrics), f)\n",
    "        \n",
    "    return results, bulk_metrics, basin_metrics\n",
    "\n",
    "\n",
    "results, bulk_metrics, basin_metrics = save_results('test')\n",
    "# save_results('train')"
   ]
  },
  {
   "cell_type": "code",
   "execution_count": null,
   "id": "c25266bb-010d-4b93-a3f8-5b839988049d",
   "metadata": {},
   "outputs": [],
   "source": [
    "stop_trace()"
   ]
  },
  {
   "cell_type": "code",
   "execution_count": null,
   "id": "b67cc315-9e2c-4e82-8e9f-894899487725",
   "metadata": {
    "tags": []
   },
   "outputs": [],
   "source": [
    "cfg['data_subset'] = 'test'\n",
    "cfg['num_workers'] = 0\n",
    "cfg['basin_subset'] = None\n",
    "cfg['batch_size'] = 28\n",
    "dataloader = TAPDataLoader(cfg, dataset)\n",
    "\n",
    "key = jax.random.PRNGKey(0)\n",
    "keys = jax.random.split(key, cfg['batch_size'])\n",
    "for _, _, batch in dataloader:\n",
    "    out = jax.vmap(model, in_axes=(0, 0, None))(batch, keys, True)\n",
    "    break\n",
    "static_vars, dynamic_vsn_context, dynamic_vars, lstm_context, lstm_output, lstm_skip, enrichment_context, enriched, self_attn, attn_skip, decoder_out, decoder_skip, out = out"
   ]
  },
  {
   "cell_type": "code",
   "execution_count": null,
   "id": "23dd83fb-3623-43df-848c-2c2be30d6286",
   "metadata": {
    "tags": []
   },
   "outputs": [],
   "source": [
    "with open(run_dir / \"test_data.pkl\", 'rb') as f:\n",
    "    results, bulk_metrics, basin_metrics = pickle.load(f)"
   ]
  },
  {
   "cell_type": "code",
   "execution_count": null,
   "id": "9b12ad59-74bb-4109-a400-725ede743f2b",
   "metadata": {},
   "outputs": [],
   "source": []
  },
  {
   "cell_type": "code",
   "execution_count": null,
   "id": "72214a6f-a130-4606-b671-71293a639905",
   "metadata": {},
   "outputs": [],
   "source": [
    "from evaluate import mosaic_scatter\n",
    "\n",
    "plt.close('all')\n",
    "fig = mosaic_scatter(cfg, results, bulk_metrics, str(run_dir))\n",
    "\n",
    "plt.show()\n",
    "fig.savefig(fig_dir / f\"{cfg['data_subset']}_density_scatter.png\",  dpi=300)\n"
   ]
  },
  {
   "cell_type": "code",
   "execution_count": null,
   "id": "ece9e3cd-6c67-4c2d-a41a-874506ccbdb4",
   "metadata": {},
   "outputs": [],
   "source": [
    "min_val = 1E-1\n",
    "max_val = 5E6\n",
    "log_min = np.log10(min_val)\n",
    "log_max = np.log10(max_val)\n",
    "\n",
    "\n",
    "x = results['obs']['flux'].values\n",
    "y = results['pred']['flux'].values\n",
    "count = (~np.isnan(x)).sum()\n",
    "\n",
    "mask = ~np.isnan(x) & ~np.isnan(y) & (x>0) & (y>0)\n",
    "x = x[mask]\n",
    "y = y[mask]\n",
    "\n",
    "plt.figure()\n",
    "hb = plt.hexbin(x, y, gridsize=(30,20), bins='log', mincnt=5, \n",
    "                    extent=(log_min, log_max, log_min, log_max),\n",
    "                    xscale='log', yscale='log')\n",
    "\n",
    "ax=plt.gca()\n",
    "ax.axis('square')\n",
    "ax.plot([min_val, max_val], [min_val, max_val], 'r--')\n",
    "ax.set_xlim(min_val, max_val)\n",
    "ax.set_ylim(min_val, max_val)\n",
    "ax.set_title(f\"Flux (n={count})\")\n",
    "\n",
    "plt.show()"
   ]
  },
  {
   "cell_type": "code",
   "execution_count": null,
   "id": "cce1211a-ed26-4503-9cb5-1e33ea4698c0",
   "metadata": {},
   "outputs": [],
   "source": [
    "xl = np.log10(x)\n",
    "yl = np.log10(y)\n",
    "np.corrcoef(xl, yl)[0,1]**2"
   ]
  },
  {
   "cell_type": "code",
   "execution_count": null,
   "id": "968bd731-4a60-46ca-af92-6df8dfd648b8",
   "metadata": {},
   "outputs": [],
   "source": [
    "from evaluate import basin_metric_histograms\n",
    "\n",
    "metric_args = {\n",
    "    'R2': {'range':[-1,1]},\n",
    "    'nBias':{'range':[-1,1]},\n",
    "    'rRMSE':{'range':[0,500]},\n",
    "    'KGE':{'range':[-2,1]},\n",
    "    'NSE':{'range':[-2,1]},\n",
    "    'Agreement':{'range':[0,1]}}\n",
    "\n",
    "figs = basin_metric_histograms(basin_metrics, metric_args)\n",
    "\n",
    "for target, fig in figs.items():\n",
    "    fig.savefig(fig_dir / f\"epoch{trainer_state['epoch']:03d}_{cfg['data_subset']}_{target}_metrics_hist.png\",  dpi=300)\n",
    "    "
   ]
  },
  {
   "cell_type": "code",
   "execution_count": null,
   "id": "6f6d5b78-1e76-483c-9b32-9dbd3000cb23",
   "metadata": {},
   "outputs": [],
   "source": [
    "import matplotlib.gridspec as gridspec\n",
    "\n",
    "def timeseries_plot(results, feature):\n",
    "    pred = results['pred'][feature]\n",
    "    obs = results['obs'][feature]\n",
    "    joint = results[[('obs',feature),('pred',feature)]]\n",
    "    joint = joint.dropna()\n",
    "    \n",
    "    if len(joint) < 2:\n",
    "        return\n",
    "           \n",
    "    # Create a figure\n",
    "    fig = plt.figure(figsize=(10, 4))\n",
    "    gs = gridspec.GridSpec(1, 3, width_ratios=[1, 0.2, 2])\n",
    "    axes = [fig.add_subplot(gs[0, 0]), fig.add_subplot(gs[0, 2])]\n",
    "    \n",
    "    min_val = joint.min().min()\n",
    "    max_val = joint.max().max()\n",
    "\n",
    "    axes[0].loglog(obs, pred, linestyle='None',marker='.', alpha=0.2)\n",
    "    axes[0].plot([min_val, max_val], [min_val, max_val], 'r--')\n",
    "\n",
    "    # Setting axes to be square and equal range\n",
    "    axes[0].axis('square')\n",
    "    axes[0].set_xlabel(f\"Observed {feature}\")\n",
    "    axes[0].set_ylabel(f\"Predicted {feature}\")\n",
    "\n",
    "    axes[0].set_title(f\"Basin: {basin}\")\n",
    "\n",
    "\n",
    "    axes[1].plot(pred)\n",
    "    axes[1].plot(obs, linestyle='None',marker='.',alpha=0.5)\n",
    "    axes[1].set_title(f\"{feature}\")\n",
    "    # axes[1].set_ylim([0,40000])\n",
    "\n",
    "    textstr = '\\n'.join([f\"{key}: {basin_metrics.loc[basin][feature][key]:0.2f}\" for key in ['rRMSE','KGE','NSE','Agreement']])\n",
    "    props = dict(boxstyle='round', facecolor='white', alpha=0.5)\n",
    "    axes[1].text(0.98, 0.97, textstr, transform=axes[1].transAxes, fontsize=10,\n",
    "            va='top', ha='right', bbox=props)\n",
    "\n",
    "    fig.suptitle(str(run_dir))\n",
    "    fig.tight_layout()\n",
    "    fig.autofmt_xdate()\n",
    "    \n",
    "    return fig"
   ]
  },
  {
   "cell_type": "code",
   "execution_count": null,
   "id": "a5148390-05cc-429d-ab56-a25ea365d2de",
   "metadata": {},
   "outputs": [],
   "source": []
  },
  {
   "cell_type": "code",
   "execution_count": null,
   "id": "d5e4ca3e-8936-4f5c-9e94-a3f42caf095c",
   "metadata": {},
   "outputs": [],
   "source": [
    "import evaluate\n",
    "reload(evaluate)\n",
    "from evaluate import predict, get_all_metrics\n",
    "\n",
    "basin = np.random.choice(dataset.test_basins).tolist()\n",
    "# basin = 'USGS-12340500' #Extreme range in flux. \n",
    "# basin = 'USGS-06452000' \n",
    "\n",
    "if basin not in basin_metrics.index:\n",
    "    raise ValueError('Basin not in testing set')\n",
    "\n",
    "cfg['data_subset'] = 'predict'\n",
    "cfg['basin_subset'] =  basin\n",
    "cfg['num_workers'] = 0 # Faster for small runs\n",
    "basin_dataset = TAPDataset(cfg)\n",
    "dataloader = TAPDataLoader(cfg, basin_dataset)\n",
    "\n",
    "results = predict(model, dataloader)\n",
    "results['pred'] = results['pred'] * (results['pred']>0) #Clip predictions to 0\n",
    "\n",
    "results = results.reset_index()\n",
    "results = results.sort_values(by='date')\n",
    "results = results.drop('basin', axis=1, level=0)\n",
    "results.set_index('date', inplace=True)\n",
    "\n",
    "plt.close('all')\n",
    "features = results.columns.get_level_values('Feature').unique()\n",
    "\n",
    "ts_dir = fig_dir / \"timeseries\"\n",
    "ts_dir.mkdir(exist_ok=True)\n",
    "\n",
    "figs = []\n",
    "for feature in features:\n",
    "    fig = timeseries_plot(results, feature)\n",
    "    if fig is None:\n",
    "        continue\n",
    "    # fig.savefig(ts_dir / f\"epoch{trainer_state['epoch']:03d}_{cfg['data_subset']}_{basin}_{feature}_timeseries.png\",  dpi=300)\n",
    "    figs.append(fig)\n",
    "if len(figs)==0:\n",
    "    print(\"No data in basin and period\")"
   ]
  },
  {
   "cell_type": "code",
   "execution_count": null,
   "id": "485a99ef-2d46-4664-8f59-b7839fcf67e2",
   "metadata": {},
   "outputs": [],
   "source": [
    "import evaluate\n",
    "reload(evaluate)\n",
    "from evaluate.plots import map_animation\n",
    "\n",
    "# target = 'flux'\n",
    "# cmap_label = 'Flux (t/day)'\n",
    "# lim = [5E-1, 5E6]\n",
    "\n",
    "target = 'ssc'\n",
    "cmap_label = 'SSC (mg/L)'\n",
    "lim = [1E0, 1E4]\n",
    "\n",
    "date_range = ['2019-01-01', '2019-12-31']\n",
    "# date_range = ['2020-01-01','2022-12-31']\n",
    "# date_range = ['2020-06-01','2020-06-30']\n",
    "\n",
    "ani = map_animation(cfg, model, dataset, target, cmap_label, date_range, lim, 1)\n",
    "\n",
    "# ani.save(fig_dir / f'{target}_dt0_2019.mp4', writer='ffmpeg', dpi=300)\n",
    "\n",
    "# To save the animation using Pillow as a gif\n",
    "import matplotlib.animation as animation\n",
    "writer = animation.PillowWriter(fps=10, bitrate=1800)\n",
    "ani.save(fig_dir / f'{target}_dt0.gif', writer=writer)"
   ]
  },
  {
   "cell_type": "code",
   "execution_count": null,
   "id": "e7ab9fc1-0f6d-4fa6-a83b-4a193f7b504c",
   "metadata": {},
   "outputs": [],
   "source": []
  },
  {
   "cell_type": "code",
   "execution_count": null,
   "id": "fc982620-c1f3-41c5-b6ac-63c624a00e55",
   "metadata": {},
   "outputs": [],
   "source": [
    "import geopandas as gpd\n",
    "wqp_locs = gpd.read_file(\"/work/pi_kandread_umass_edu/tss-ml/data/NA_WQP/metadata/wqp_sites.shp\")\n",
    "wqp_locs = wqp_locs.set_index('LocationID')\n",
    "wqp_locs = wqp_locs.to_crs(\"EPSG:5070\")"
   ]
  },
  {
   "cell_type": "code",
   "execution_count": null,
   "id": "f0ce1c15-db5f-4ae2-93c8-84670dc3c7d8",
   "metadata": {},
   "outputs": [],
   "source": [
    "date_range = ['2020-01-01','2022-12-31']\n",
    "dataloader_kwargs = dataset.date_batching(date_range) # Return batches where each batch is 1 day\n",
    "cfg.update(dataloader_kwargs)"
   ]
  },
  {
   "cell_type": "code",
   "execution_count": null,
   "id": "6ca6f495-cc5d-4cc4-b235-a08cf4c170a1",
   "metadata": {},
   "outputs": [],
   "source": [
    "cfg['num_workers']=0\n",
    "dataloader = TAPDataLoader(cfg, dataset)\n",
    "for basin, date, y, y_hat, dt in model_iterate(model, dataloader, True):\n",
    "    break"
   ]
  },
  {
   "cell_type": "code",
   "execution_count": null,
   "id": "ed7cf626-19a9-4ea4-a9c7-efcb88f3bb83",
   "metadata": {},
   "outputs": [],
   "source": [
    "def draw_year_progress(ax, date):\n",
    "    year_start = pd.Timestamp(date.year, 1, 1)\n",
    "    year_end = pd.Timestamp(date.year, 12, 31)\n",
    "    progress = (date - year_start).days / (year_end - year_start).days\n",
    "    \n",
    "    ax.add_patch(plt.Rectangle((0.1, 0.05), 0.8, 0.04, fill=False, transform=ax.transAxes))\n",
    "    ax.add_patch(plt.Rectangle((0.1, 0.05), 0.8 * progress, 0.04, facecolor='black', transform=ax.transAxes))\n",
    "    text_str = date.strftime('%Y-%m-%d')\n",
    "    ax.text(0.1, 0.1, text_str, transform=ax.transAxes, fontsize=14, ha='left', va='bottom')\n",
    "    \n",
    "# Create an empty plot\n",
    "plt.close('all')\n",
    "fig, ax = plt.subplots(1, 1, figsize=(8, 4))\n",
    "fig.set_tight_layout(True)\n",
    "\n",
    "# Create text for start and end dates\n",
    "start_date = pd.Timestamp(date_range[0])\n",
    "end_date = pd.Timestamp(date_range[1])\n",
    "\n",
    "\n",
    "min_val = 1E0\n",
    "max_val = 1E4\n",
    "norm = colors.LogNorm(vmin=min_val, vmax=max_val)\n",
    "\n",
    "test_basins = wqp_locs.loc[dataset.all_basins]\n",
    "test_basins['y_hat'] = 0.0 \n",
    "\n",
    "flux_idx = np.where([t == 'ssc' for t in dataset.target])[0]\n",
    "\n",
    "# Add color bar\n",
    "sm = plt.cm.ScalarMappable(cmap='inferno', norm=norm)\n",
    "sm._A = []  # Empty array for the scalar mappable\n",
    "cbar = plt.colorbar(sm, ax=ax, shrink=0.75, aspect=15, label='SSC (mg/L')\n",
    "\n",
    "alpha = np.where(dt_mask, 1, 0.15)\n",
    "\n",
    "# Requires running the block above to get a batch of data\n",
    "test_basins.loc[basin, 'y_hat'] = y_hat[:, flux_idx]\n",
    "test_basins.plot(column='y_hat', cmap='inferno', linewidth=0, alpha=alpha, norm=norm, ax=ax)\n",
    "\n",
    "# Create progress bar\n",
    "# current_date = pd.Timestamp(date[0])\n",
    "current_date = pd.Timestamp('2020-06-01')\n",
    "draw_year_progress(ax, current_date)\n",
    "ax.set_axis_off()\n",
    "\n",
    "    "
   ]
  },
  {
   "cell_type": "code",
   "execution_count": null,
   "id": "05def76e-b2ce-4cde-b750-186d9a8c154b",
   "metadata": {},
   "outputs": [],
   "source": [
    "cfg['num_workers']=0\n",
    "dataloader = TAPDataLoader(cfg, dataset)\n",
    "for basin, date, batch in dataloader:\n",
    "    break\n"
   ]
  },
  {
   "cell_type": "code",
   "execution_count": null,
   "id": "e21f196e-f3db-4365-8fb2-7690cbd9c857",
   "metadata": {},
   "outputs": [],
   "source": [
    "# Simplifying to the first feature, since all features align\n",
    "valid_mask = ~np.isnan(batch['x_di'][:, :, 0])  \n",
    "# Find the last valid index for each sequence in the batch\n",
    "batch_dt_last = np.argmax(valid_mask[:, ::-1], axis=1)\n",
    "\n",
    "seq_length = valid_mask.shape[1]\n",
    "all_nan_mask = ~np.any(valid_mask, axis=1)\n",
    "batch_dt_last[all_nan_mask] = seq_length+1\n",
    "\n",
    "batch_dt_last"
   ]
  },
  {
   "cell_type": "code",
   "execution_count": null,
   "id": "59c42976-f25f-4cb4-88c3-0e995b0d3fae",
   "metadata": {},
   "outputs": [],
   "source": []
  },
  {
   "cell_type": "code",
   "execution_count": null,
   "id": "4569bd16-f802-49e5-8c43-73c915a458ff",
   "metadata": {},
   "outputs": [],
   "source": []
  },
  {
   "cell_type": "code",
   "execution_count": null,
   "id": "98770a2a-58ce-4ae8-aa56-348c43957ca4",
   "metadata": {},
   "outputs": [],
   "source": [
    "key = jax.random.PRNGKey(0)\n",
    "keys = jax.random.split(key, batch['x_s'].shape[0])\n",
    "\n",
    "embedded = jax.vmap(model.static_embedder)(batch['x_s'], keys)"
   ]
  },
  {
   "cell_type": "code",
   "execution_count": null,
   "id": "ac173b7f-bce7-4f90-a0ba-c2abb65d5768",
   "metadata": {},
   "outputs": [],
   "source": [
    "plt.close('all')\n",
    "plt.imshow(embedded[0,...],aspect='auto')"
   ]
  },
  {
   "cell_type": "code",
   "execution_count": null,
   "id": "d983b68a-7ca5-4e26-9d9d-b2e165e91497",
   "metadata": {},
   "outputs": [],
   "source": [
    "plt.close('all')\n",
    "plt.plot(model.head.weight.T, label=cfg['features']['target'])\n",
    "plt.legend()\n"
   ]
  },
  {
   "cell_type": "code",
   "execution_count": null,
   "id": "a907626a-fed0-49bc-8d2b-16161e886372",
   "metadata": {},
   "outputs": [],
   "source": [
    "w"
   ]
  },
  {
   "cell_type": "code",
   "execution_count": null,
   "id": "4c64d58a-5d7f-4732-9bea-4ab93b6d24b9",
   "metadata": {},
   "outputs": [],
   "source": [
    "# weights = model.i_encoder.embedder.dynamic_embedder.weight\n",
    "weights = model.tft.dynamic_vsn.variable_transformers['x_dd'].weight\n",
    "\n",
    "weight_norms = np.linalg.norm(weights, axis=0)\n",
    "\n",
    "order = np.argsort(weight_norms)\n",
    "\n",
    "plt.close('all')\n",
    "bars = plt.barh(np.array(dataset.daily_features)[order], weight_norms[order])\n",
    "plt.tight_layout()\n",
    "plt.show()"
   ]
  },
  {
   "cell_type": "code",
   "execution_count": null,
   "id": "c50ed6c9-d924-4d48-99a3-989b3196abff",
   "metadata": {},
   "outputs": [],
   "source": [
    "model.tft.dynamic_vsn.variable_transformers"
   ]
  },
  {
   "cell_type": "code",
   "execution_count": null,
   "id": "a4ebffc9-01c1-45f9-bebe-77accade1349",
   "metadata": {},
   "outputs": [],
   "source": [
    "dataset"
   ]
  },
  {
   "cell_type": "code",
   "execution_count": null,
   "id": "7e43e9eb-56d2-45b4-9797-9fd4b5057e65",
   "metadata": {},
   "outputs": [],
   "source": []
  },
  {
   "cell_type": "code",
   "execution_count": null,
   "id": "01b285d0-f8f7-49fe-ab76-66d2f4910c85",
   "metadata": {},
   "outputs": [],
   "source": []
  },
  {
   "cell_type": "code",
   "execution_count": null,
   "id": "af3e538a-c2f9-49b8-8e03-0dfc1c1572de",
   "metadata": {},
   "outputs": [],
   "source": [
    "from train import Trainer, make_step\n",
    "\n",
    "cfg['data_subset'] = 'test'\n",
    "cfg['num_workers'] = 2\n",
    "cfg['basin_subset'] = None\n",
    "cfg['log'] = False\n",
    "cfg['quiet'] = False\n",
    "dataloader = TAPDataLoader(cfg, dataset)\n",
    "trainer = Trainer(cfg, dataloader)\n",
    "\n",
    "step_kwargs = cfg['step_kwargs']\n",
    "step_kwargs['max_grad_norm'] = None\n",
    "\n",
    "for basin, date, batch in dataloader:\n",
    "    break\n",
    "\n",
    "key = jax.random.PRNGKey(0)\n",
    "batch_keys = jax.random.split(key, len(basin))\n",
    "\n",
    "loss, grads, model, opt_state = make_step(\n",
    "    model, \n",
    "    batch,\n",
    "    batch_keys,\n",
    "    opt_state, \n",
    "    trainer.optim, \n",
    "    trainer.filter_spec, \n",
    "    **step_kwargs\n",
    "    )"
   ]
  },
  {
   "cell_type": "code",
   "execution_count": null,
   "id": "5134838b-9849-4e49-97ba-42e88deec25c",
   "metadata": {},
   "outputs": [],
   "source": []
  },
  {
   "cell_type": "code",
   "execution_count": null,
   "id": "0190fe76-6531-43dd-9ed5-c56256d64c92",
   "metadata": {},
   "outputs": [],
   "source": [
    "key = jax.random.PRNGKey(0)\n",
    "keys = keys = jax.random.split(key, num=batch['x_s'].shape[0])\n",
    "embedded = jax.vmap(model.static_embedder)(batch['x_s'],keys)\n",
    "\n",
    "plt.close('all')\n",
    "plt.imshow(embedded[0,...])"
   ]
  },
  {
   "cell_type": "code",
   "execution_count": null,
   "id": "961e4e83-d56f-4427-90ad-5b080e5ba407",
   "metadata": {},
   "outputs": [],
   "source": [
    "plt.close('all')\n",
    "plt.hist(model.static_embedder.layernorm.weight)\n",
    "plt.show()"
   ]
  },
  {
   "cell_type": "code",
   "execution_count": null,
   "id": "250c5e56-778d-4a69-b0d1-54d267dbab87",
   "metadata": {},
   "outputs": [],
   "source": [
    "model"
   ]
  },
  {
   "cell_type": "code",
   "execution_count": null,
   "id": "6a497dd0-659b-4fa1-8e4f-a31ef60d8063",
   "metadata": {},
   "outputs": [],
   "source": [
    "model.tft.static_context_vsn.variable_transformers['static']"
   ]
  },
  {
   "cell_type": "code",
   "execution_count": null,
   "id": "c47a0bcf-90dd-41ac-97da-6ab279fb48d1",
   "metadata": {},
   "outputs": [],
   "source": []
  },
  {
   "cell_type": "code",
   "execution_count": null,
   "id": "f0234be8-8e01-4fba-952b-7ce22b315ef1",
   "metadata": {},
   "outputs": [],
   "source": []
  },
  {
   "cell_type": "code",
   "execution_count": null,
   "id": "aedbf4b1-80c6-4bd9-b3cf-fde7ee1ae71a",
   "metadata": {},
   "outputs": [],
   "source": [
    "mat_plot.shape"
   ]
  },
  {
   "cell_type": "code",
   "execution_count": null,
   "id": "4678481b-a16d-40b8-8eba-47a99bf9056d",
   "metadata": {},
   "outputs": [],
   "source": [
    "labels"
   ]
  },
  {
   "cell_type": "code",
   "execution_count": null,
   "id": "89b65f57-18b3-4fb1-9223-decf31470448",
   "metadata": {},
   "outputs": [],
   "source": [
    "mask = ['aet_mm' in k for k in labels]\n",
    "\n",
    "mat_plot =  model.static_embedder.proj.weight.T\n",
    "labels = list(dataset.attributes_scale.keys())\n",
    "embeddings_nd = plot_umap(mat_plot, 16, labels, 3, mask)\n"
   ]
  },
  {
   "cell_type": "code",
   "execution_count": null,
   "id": "ef67e7f8-e974-4c72-9610-eaf45fd3d549",
   "metadata": {},
   "outputs": [],
   "source": [
    "import umap\n",
    "\n",
    "def plot_umap(mat, neighbors, labels=[], components=3, mask=None):\n",
    "    if mask is None:\n",
    "        mask = np.ones(mat.shape[0], dtype='bool')\n",
    "        \n",
    "    reducer = umap.UMAP(n_neighbors=neighbors, n_components=components, metric='euclidean')\n",
    "    embedding_nd = reducer.fit_transform(mat)\n",
    "\n",
    "    # Plot using matplotlib\n",
    "    plt.close('all')\n",
    "    fig, ax = plt.subplots(figsize=(6,6))\n",
    "    \n",
    "    c = embedding_nd[:,2] if components>2 else None\n",
    "    ax.scatter(embedding_nd[:, 0], embedding_nd[:, 1], c=c)\n",
    "    ax.set_title('2D Projection of Embeddings')\n",
    "    ax.set_xlabel('First Dimension')\n",
    "    ax.set_ylabel('Second Dimension')\n",
    "\n",
    "    masked_labels = [l for l, m in zip(labels, mask) if m]\n",
    "    for xy, label in zip(embedding_nd[mask], masked_labels):\n",
    "        ax.text(xy[0], xy[1], label)\n",
    "        \n",
    "    return fig, embedding_nd\n"
   ]
  },
  {
   "cell_type": "code",
   "execution_count": null,
   "id": "8b6dd152-d0c8-42f9-9b18-1796908dfdbe",
   "metadata": {},
   "outputs": [],
   "source": [
    "import equinox as eqx\n",
    "import jax.numpy as jnp\n",
    "from tqdm.auto import tqdm\n",
    "\n",
    "model = eqx.nn.inference_mode(model)\n",
    "key = jax.random.PRNGKey(0)\n",
    "basins = []\n",
    "embeddings = []\n",
    "for basin in tqdm(dataset.train_basins):\n",
    "    basins.append(basin)\n",
    "    static_data = dataset.x_s[basin]\n",
    "    # embeddings.append(model.tealstm_i.cell.input_linear(static_data).flatten())\n",
    "    embeddings.append(model.static_embedder(static_data, key))\n",
    "\n",
    "# embeddings = np.concatenate(embeddings, axis=0)\n",
    "embeddings = np.stack(embeddings, axis=0)"
   ]
  },
  {
   "cell_type": "code",
   "execution_count": null,
   "id": "f3c1d077-ec75-4542-b7ed-29811744ed43",
   "metadata": {},
   "outputs": [],
   "source": [
    "embeddings.shape"
   ]
  },
  {
   "cell_type": "code",
   "execution_count": null,
   "id": "ab123a7d-36bf-48c3-82a8-488fb2e29f0b",
   "metadata": {},
   "outputs": [],
   "source": [
    "from sklearn.preprocessing import MinMaxScaler\n",
    "\n",
    "fig, embedding_nd = plot_umap(embeddings, 64, [], 3)\n",
    "\n",
    "# Normalize the UMAP embeddings to the range [0, 1]\n",
    "scaler = MinMaxScaler()\n",
    "embedding_nd_norm = scaler.fit_transform(embedding_nd)"
   ]
  },
  {
   "cell_type": "code",
   "execution_count": null,
   "id": "e062f2ad-7b67-41bd-b281-61154086314e",
   "metadata": {},
   "outputs": [],
   "source": []
  },
  {
   "cell_type": "code",
   "execution_count": null,
   "id": "93d438f8-6aa3-44cb-8794-7796f125e6d3",
   "metadata": {},
   "outputs": [],
   "source": [
    "columns = [f\"UMAP{i:d}\" for i in range(embedding_nd.shape[1])]\n",
    "df = pd.DataFrame(embedding_nd, columns=columns)\n",
    "df.index = basins\n",
    "\n",
    "gdf_embeddings = wqp_locs.merge(df,left_index=True, right_index=True)"
   ]
  },
  {
   "cell_type": "code",
   "execution_count": null,
   "id": "70435546-eecc-4e25-8002-4dc323fe9129",
   "metadata": {},
   "outputs": [],
   "source": [
    "col = 'UMAP0'\n",
    "gdf_embeddings.plot(col)\n",
    "plt.title(col)"
   ]
  },
  {
   "cell_type": "code",
   "execution_count": null,
   "id": "37933c93-bca2-4e68-abb8-567c592b698d",
   "metadata": {},
   "outputs": [],
   "source": [
    "embed_dir = fig_dir / \"embeddings\"\n",
    "embed_dir.mkdir(exist_ok=True)\n",
    "gdf_embeddings.to_file(embed_dir / \"sites_umap.shp\")"
   ]
  },
  {
   "cell_type": "code",
   "execution_count": null,
   "id": "890d5e8e-6d90-4994-acc9-1aadef16789e",
   "metadata": {},
   "outputs": [],
   "source": [
    "plt.close('all')\n",
    "# plt.imshow(model.tealstm_i.cell.input_linear.weight,aspect='auto')\n",
    "plt.plot(model.tealstm_i.cell.input_linear.bias)"
   ]
  },
  {
   "cell_type": "code",
   "execution_count": null,
   "id": "4640b17a-55f1-4499-b1d6-2c8f5804d0c2",
   "metadata": {},
   "outputs": [],
   "source": []
  },
  {
   "cell_type": "code",
   "execution_count": null,
   "id": "7a3e9c9a-6a77-4382-963e-2f5917270ccf",
   "metadata": {},
   "outputs": [],
   "source": [
    "\n",
    "ms = 'USGS-07289000'\n",
    "ms_t = 'USGS-07288955'\n",
    "\n",
    "oh = 'USGS-03612600'\n",
    "oh_t = 'USGS-03438500'\n",
    "\n",
    "embedder = lambda b: model.tealstm_i.cell.input_linear(dataset.x_s[b])\n",
    "# embedder = lambda b: model.static_embedder(dataset.x_s[b], key)\n",
    "plt.close('all')\n",
    "# plt.plot(embedder(ms))\n",
    "# plt.plot(embedder(oh))\n",
    "\n",
    "plt.plot(embedder(ms) - embedder(ms_t))\n",
    "plt.plot(embedder(oh)- embedder(oh_t))\n",
    "\n"
   ]
  },
  {
   "cell_type": "code",
   "execution_count": null,
   "id": "6d7825aa-28f9-499c-ad08-b5dfe2f32cf8",
   "metadata": {},
   "outputs": [],
   "source": []
  },
  {
   "cell_type": "code",
   "execution_count": null,
   "id": "ffea73c7-e4e4-421d-b729-acb4dc60e1a4",
   "metadata": {},
   "outputs": [],
   "source": []
  },
  {
   "cell_type": "code",
   "execution_count": null,
   "id": "b4010864-b03b-4380-963c-270358914974",
   "metadata": {},
   "outputs": [],
   "source": [
    "model.tft.dynamic_vsn.variable_transformers['x_dd'].weight.shape"
   ]
  },
  {
   "cell_type": "code",
   "execution_count": null,
   "id": "a9478c24-fd40-4679-9859-6bc3549a9feb",
   "metadata": {},
   "outputs": [],
   "source": [
    "mat_plot =  model.tft.dynamic_vsn.variable_transformers['x_dd'].weight.T\n",
    "# mat_plot =  model.ealstm_d.cell.weight_ih[0:64,:].T\n",
    "labels = cfg['features']['daily']\n",
    "plot_umap(mat_plot, 8, labels, 3)\n",
    "plt.show()"
   ]
  },
  {
   "cell_type": "code",
   "execution_count": null,
   "id": "ee188765-3429-4c8d-971b-af18248a29bf",
   "metadata": {},
   "outputs": [],
   "source": [
    "static_sums = np.sum(np.abs(embedded),axis=0)\n",
    "sorted_ids = np.argsort(-static_sums)\n",
    "\n",
    "static_features = list(dataset.attributes_scale.keys())\n",
    "for i in range(25):\n",
    "    idx = sorted_ids[i]\n",
    "    print(f\"{static_features[idx]}: {static_sums[idx]}\")"
   ]
  },
  {
   "cell_type": "code",
   "execution_count": null,
   "id": "39abdc04-9931-414b-967a-52d4c7236515",
   "metadata": {},
   "outputs": [],
   "source": [
    "plt.figure()\n",
    "plt.hist(static_sums)"
   ]
  },
  {
   "cell_type": "code",
   "execution_count": null,
   "id": "14f332d3-d0e6-4feb-a48e-d36abfa032d8",
   "metadata": {},
   "outputs": [],
   "source": []
  },
  {
   "cell_type": "code",
   "execution_count": null,
   "id": "52bc61e0-3fb4-4e0a-b4c4-2a63dc972b53",
   "metadata": {},
   "outputs": [],
   "source": [
    "plt.close('all')\n",
    "plt.imshow(static_embeddings, aspect='auto')\n",
    "plt.show()"
   ]
  },
  {
   "cell_type": "code",
   "execution_count": null,
   "id": "0b23eaa7-8eda-40a8-8b9b-ca2b1ee48842",
   "metadata": {},
   "outputs": [],
   "source": [
    "model.decoder.layers[0].attention_block.attention"
   ]
  },
  {
   "cell_type": "code",
   "execution_count": null,
   "id": "ca0589a2-2d9d-4d55-a202-9270d6f72af6",
   "metadata": {},
   "outputs": [],
   "source": [
    "plt.close('all')\n",
    "\n",
    "fig, ax = plt.subplots(figsize=(6,6))\n",
    "\n",
    "x = results['obs']\n",
    "y = results['pred']\n",
    "z = []\n",
    "\n",
    "dt_max = 10\n",
    "for dt in range(dt_max+1):\n",
    "    if dt < dt_max:\n",
    "        mask = np.abs(results['dt']) == dt\n",
    "    else:\n",
    "        mask = np.abs(results['dt']) >= dt\n",
    "    metrics = get_all_metrics(x[mask], y[mask])\n",
    "    z.append(metrics['lNSE'])\n",
    "\n",
    "ax.plot(z)\n",
    "\n",
    "xticks = range(0,dt_max+1,2)\n",
    "xtick_labels = ax.get_xticklabels()\n",
    "new_labels = [\"≥\" + str(int(tick)) if tick == dt_max else str(int(tick)) for tick in xticks]\n",
    "ax.set_xticks(xticks)\n",
    "ax.set_xticklabels(new_labels)\n",
    "\n",
    "plt.show()"
   ]
  },
  {
   "cell_type": "code",
   "execution_count": null,
   "id": "eedfab50-94bd-42f6-9e7d-820fbb67b927",
   "metadata": {},
   "outputs": [],
   "source": []
  },
  {
   "cell_type": "code",
   "execution_count": null,
   "id": "fc082e3b-b0dd-4b7c-ad22-39be6843c015",
   "metadata": {},
   "outputs": [],
   "source": [
    "import matplotlib.colors as colors\n",
    "\n",
    "gdf_metrics = wqp_locs.merge(basin_metrics['flux'],left_index=True, right_index=True)\n",
    "col = 'R2'\n",
    "gdf_metrics[col] = gdf_metrics[col].astype(float)\n",
    "\n",
    "norm = colors.TwoSlopeNorm(vmin=-1, vcenter=0, vmax=1)\n",
    "\n",
    "fig, ax = plt.subplots(1, 1, figsize=(10, 6))\n",
    "gdf_metrics.plot(column=col, cmap='RdBu', norm=norm, ax=ax)\n",
    "\n",
    "# Add color bar\n",
    "sm = plt.cm.ScalarMappable(cmap='RdBu', norm=norm)\n",
    "sm._A = []  # Empty array for the scalar mappable\n",
    "cbar = plt.colorbar(sm, ax=ax)"
   ]
  }
 ],
 "metadata": {
  "kernelspec": {
   "display_name": "Python [conda env:.conda-tss-ml]",
   "language": "python",
   "name": "conda-env-.conda-tss-ml-py"
  },
  "language_info": {
   "codemirror_mode": {
    "name": "ipython",
    "version": 3
   },
   "file_extension": ".py",
   "mimetype": "text/x-python",
   "name": "python",
   "nbconvert_exporter": "python",
   "pygments_lexer": "ipython3",
   "version": "3.10.14"
  }
 },
 "nbformat": 4,
 "nbformat_minor": 5
}
