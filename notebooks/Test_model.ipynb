{
 "cells": [
  {
   "cell_type": "code",
   "execution_count": 1,
   "id": "d6896bf3-c906-4666-a989-86d65caf7a07",
   "metadata": {},
   "outputs": [],
   "source": [
    "# This is required to run multiple processes on Unity for some reason.\n",
    "from multiprocessing import set_start_method\n",
    "try:\n",
    "    set_start_method('spawn')\n",
    "except: #Throws if already set\n",
    "    pass\n",
    "\n",
    "# Disable CUDA graphs\n",
    "import os\n",
    "os.environ['XLA_FLAGS'] = '--xla_gpu_enable_command_buffer='\n"
   ]
  },
  {
   "cell_type": "code",
   "execution_count": 1,
   "id": "4f9dee3e-38f2-4425-a709-0d216b941d66",
   "metadata": {},
   "outputs": [],
   "source": [
    "import sys\n",
    "import pandas as pd\n",
    "import numpy as np\n",
    "import matplotlib.pyplot as plt\n",
    "import jax\n",
    "from pathlib import Path\n",
    "from importlib import reload\n",
    "\n",
    "src = str(Path('../src').resolve())\n",
    "if src not in sys.path:\n",
    "    sys.path.append(src)\n",
    "from train import load_last_state\n",
    "from data import TAPDataset, TAPDataLoader\n",
    "from evaluate import predict, get_all_metrics"
   ]
  },
  {
   "cell_type": "code",
   "execution_count": 2,
   "id": "601f8b62-c507-47cf-9d6a-cd40922a5604",
   "metadata": {},
   "outputs": [
    {
     "name": "stdout",
     "output_type": "stream",
     "text": [
      "Loading model state from ../runs/transformer_layer_tune/6layer_6head_20240606_143502/epoch035\n",
      "Dropping static attributes with 0 variance: ['glc_pc_s03', 'glc_pc_s05', 'glc_pc_s07', 'glc_pc_s08', 'glc_pc_s17', 'glc_pc_s19', 'pnv_pc_s03', 'wet_pc_s05', 'wet_pc_s06', 'wet_pc_s07']\n"
     ]
    },
    {
     "data": {
      "application/vnd.jupyter.widget-view+json": {
       "model_id": "894d56e1f51f41f9a1625ebcd10b3ee9",
       "version_major": 2,
       "version_minor": 0
      },
      "text/plain": [
       "Loading Basins:   0%|          | 0/740 [00:00<?, ?it/s]"
      ]
     },
     "metadata": {},
     "output_type": "display_data"
    }
   ],
   "source": [
    "run_dir = Path(\"../runs/transformer_layer_tune/6layer_6head_20240606_143502\")\n",
    "cfg, model, _, _ = load_last_state(run_dir)\n",
    "cfg['quiet'] = False\n",
    "dataset = TAPDataset(cfg)"
   ]
  },
  {
   "cell_type": "code",
   "execution_count": null,
   "id": "52d24102-e089-4c6d-85fe-9c1ae559e47d",
   "metadata": {},
   "outputs": [],
   "source": [
    "#Update model state using existing dataset.\n",
    "run_dir = Path(\"../runs/transformer_layer_tune/6layer_6head_20240606_143502\")\n",
    "cfg, model, _, _ = load_last_state(run_dir)\n",
    "cfg['quiet'] = False"
   ]
  },
  {
   "cell_type": "code",
   "execution_count": null,
   "id": "46b5f374-8c1d-4fa6-91f7-492150a0510f",
   "metadata": {},
   "outputs": [],
   "source": [
    "cfg['data_subset'] = 'test'\n",
    "cfg['num_workers'] = 2\n",
    "cfg['basin_subset'] = None\n",
    "dataloader = TAPDataLoader(cfg, dataset)\n",
    "\n",
    "results, metrics = predict(model, dataloader, seed=0, denormalize=True, return_dt=True)\n"
   ]
  },
  {
   "cell_type": "code",
   "execution_count": null,
   "id": "f30cd41e-f966-4e16-b350-990a920a6f3a",
   "metadata": {},
   "outputs": [],
   "source": [
    "plt.close('all')\n",
    "\n",
    "reload(evaluate)\n",
    "from evaluate import get_all_metrics\n",
    "\n",
    "def scatter_1to1(ax, x, y, target):\n",
    "    positive_mask = (x > 0) & (y > 0)\n",
    "    x = x[positive_mask]\n",
    "    y = y[positive_mask]\n",
    "\n",
    "    hb = ax.hexbin(x, y, gridsize=(30,20), bins='log', xscale='log', yscale='log')\n",
    "    cb = plt.colorbar(hb, shrink=0.5, aspect=15, anchor=(0,0.1))\n",
    "    \n",
    "    # Adding a 1:1 line over the min and max of x and y\n",
    "    min_val = 5E-3\n",
    "    max_val = 5E6\n",
    "    ax.plot([min_val, max_val], [min_val, max_val], 'r--')\n",
    "    \n",
    "    metrics = get_all_metrics(x,y)\n",
    "    textstr = '\\n'.join([f\"{key}: {metrics[key]:0.2f}\" for key in ['nBias', 'rRMSE', 'lNSE', 'Agreement']])\n",
    "    props = dict(boxstyle='round', facecolor='white', alpha=0.5)\n",
    "    ax.text(1.05, 0.97, textstr, transform=ax.transAxes, fontsize=10,\n",
    "            verticalalignment='top', bbox=props)\n",
    "\n",
    "    # Setting axes to be square and equal range\n",
    "    ax.axis('square')\n",
    "    ax.set_xlim(min_val, max_val)\n",
    "    ax.set_ylim(min_val, max_val)\n",
    "    ax.set_xlabel(f'Observed {target}')\n",
    "    ax.set_ylabel(f'Predicted {target}')\n",
    "    \n",
    "    \n",
    "fig, axes = plt.subplots(1,2, figsize=(12, 4))\n",
    "\n",
    "x = results['obs']\n",
    "y = results['pred']\n",
    "scatter_1to1(axes[0], x, y, cfg['features']['target'])\n",
    "axes[0].set_title('All Observations')\n",
    "\n",
    "mask = results['dt'] == 0\n",
    "x = x[mask]\n",
    "y = y[mask]\n",
    "scatter_1to1(axes[1], x, y, cfg['features']['target'])\n",
    "axes[1].set_title('Satellite matchups')\n",
    "\n",
    "\n",
    "plt.show()\n",
    "fig.savefig(run_dir / \"density_scatter.png\",  dpi=300)"
   ]
  },
  {
   "cell_type": "code",
   "execution_count": null,
   "id": "d25bf049-9b7d-46ee-adcd-74a8634edbde",
   "metadata": {},
   "outputs": [],
   "source": [
    "plt.close('all')\n",
    "\n",
    "plt.hist(results['dt'])"
   ]
  },
  {
   "cell_type": "code",
   "execution_count": null,
   "id": "ca0589a2-2d9d-4d55-a202-9270d6f72af6",
   "metadata": {},
   "outputs": [],
   "source": [
    "plt.close('all')\n",
    "\n",
    "fig, axes = plt.subplots(figsize=(6,6))\n",
    "\n",
    "x = results['obs']\n",
    "y = results['pred']\n",
    "z = []\n",
    "for dt in zip(range(16)):\n",
    "    mask = np.abs(results['dt']) == dt\n",
    "    metrics = get_all_metrics(x[mask], y[mask])\n",
    "    z.append(metrics['lNSE'])\n",
    "\n",
    "plt.plot(z)\n",
    "    \n",
    "    "
   ]
  },
  {
   "cell_type": "code",
   "execution_count": null,
   "id": "b4cc32df-c777-48bb-bdb5-025d164e71f9",
   "metadata": {},
   "outputs": [],
   "source": [
    "import evaluate\n",
    "reload(evaluate)\n",
    "from evaluate import predict, get_all_metrics\n",
    "\n",
    "basin = np.random.choice(dataset.basins).tolist()\n",
    "basin = 'USGS-09367540'\n",
    "\n",
    "cfg['data_subset'] = 'predict'\n",
    "cfg['basin_subset'] =  basin\n",
    "cfg['num_workers'] = 0 # Faster for small runs\n",
    "dataloader = TAPDataLoader(cfg, dataset)\n",
    "\n",
    "results, metrics = predict(model, dataloader, seed=0, denormalize=True, return_features=True)\n",
    "results['pred'] = results['pred'] * (results['pred']>0) #Clip predictions to 0\n",
    "\n",
    "results = results.reset_index()\n",
    "results = results.sort_values(by='date')\n",
    "results = results.drop(columns=['basin'])\n",
    "results.set_index('date', inplace=True)\n"
   ]
  },
  {
   "cell_type": "code",
   "execution_count": null,
   "id": "b97ebdac-b676-470a-8d47-56a607bdaa09",
   "metadata": {},
   "outputs": [],
   "source": [
    "# Plot the true values and predictions\n",
    "plt.close('all')\n",
    "fig, ax = plt.subplots(figsize=(12, 6))\n",
    "fig.subplots_adjust(right=0.75)  # Adjust right margin to make room for text\n",
    "\n",
    "pred = results['pred']\n",
    "obs = results['obs']\n",
    "\n",
    "pred.plot(ax=ax)\n",
    "obs.plot(ax=ax,linestyle='None',marker='.')\n",
    "\n",
    "plt.title(f\"Basin: {basin}\")\n",
    "plt.legend()\n",
    "fig.autofmt_xdate()\n",
    "# plt.ylim([0,30000])\n",
    "plt.show()"
   ]
  }
 ],
 "metadata": {
  "kernelspec": {
   "display_name": "tss-ml",
   "language": "python",
   "name": "python3"
  },
  "language_info": {
   "codemirror_mode": {
    "name": "ipython",
    "version": 3
   },
   "file_extension": ".py",
   "mimetype": "text/x-python",
   "name": "python",
   "nbconvert_exporter": "python",
   "pygments_lexer": "ipython3",
   "version": "3.10.14"
  }
 },
 "nbformat": 4,
 "nbformat_minor": 5
}
