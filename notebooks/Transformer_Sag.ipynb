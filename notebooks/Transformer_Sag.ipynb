{
 "cells": [
  {
   "cell_type": "code",
   "execution_count": 2,
   "id": "d4c2f660-7607-4db7-975e-791971031c47",
   "metadata": {},
   "outputs": [],
   "source": [
    "# This is required to run multiple processes on Unity for some reason.\n",
    "from multiprocessing import set_start_method\n",
    "try:\n",
    "    set_start_method('spawn')\n",
    "except: #Throws if already set\n",
    "    pass\n",
    "\n",
    "import sys\n",
    "import pandas as pd\n",
    "import numpy as np\n",
    "import matplotlib.pyplot as plt\n",
    "import jax\n",
    "from pathlib import Path\n",
    "from importlib import reload\n",
    "\n",
    "src = str(Path('../src').resolve())\n",
    "if src not in sys.path:\n",
    "    sys.path.append(src)\n",
    "\n",
    "import config, data, models, train, evaluate"
   ]
  },
  {
   "cell_type": "code",
   "execution_count": 5,
   "id": "70b471c7-14d2-43cc-a948-7bc3d9f387de",
   "metadata": {},
   "outputs": [],
   "source": [
    "reload(config)\n",
    "from config import format_config\n",
    "\n",
    "cfg = {\n",
    "    # Data\n",
    "    \"data_dir\": \"../data/Sag\",\n",
    "    \"basin_file\": \"sites.txt\",\n",
    "    \"features\": {\"daily\": [\"gage_Q\"],\n",
    "                 \"irregular\": [\"Blue\", \"Green\", \"Red\", \"Nir\", \"Swir1\", \"Swir2\"],\n",
    "                 \"static\": None, # All are used when None\n",
    "                 \"target\": \"tss\"},\n",
    "    \"time_slice\": [\"1979-01-01\", \"2018-12-31\"], \n",
    "    \"split_time\": \"2010-01-01\",\n",
    "    \"sequence_length\": 30,\n",
    "    \"log_norm_cols\": [\"tss\",\"gage_Q\"],\n",
    "    \"clip_target_to_zero\": True,\n",
    "    \n",
    "    # DataLoader\n",
    "    \"shuffle\": True,\n",
    "    \"batch_size\": 16,\n",
    "    \"data_subset\": \"train\",\n",
    "    \"num_workers\": 0,\n",
    "    \"pin_memory\": True,\n",
    "    \"drop_last\": True,\n",
    "    \n",
    "    # Model\n",
    "    \"model\": \"eatransformer\",\n",
    "    \"model_args\": {\"hidden_size\": 64,\n",
    "                   \"intermediate_size\": 64,\n",
    "                   \"num_layers\": 2,\n",
    "                   \"num_heads\": 2,\n",
    "                   \"dropout_p\": 0.1,\n",
    "                   \"seed\": 0}, \n",
    "    \n",
    "    # Trainer\n",
    "    \"num_epochs\": 100,\n",
    "    \"initial_lr\": 0.001,\n",
    "    \"decay_rate\": 0.01,\n",
    "    \"step_kwargs\":{\"loss\": \"mse\",\n",
    "                   \"max_grad_norm\": 2}, \n",
    "    \n",
    "    # Outputs\n",
    "    \"quiet\": False,  # Use to declutter the slurm output (removes tqdm)\n",
    "    \"log\": False,\n",
    "    \"log_interval\": 5\n",
    "}\n",
    "cfg = format_config(cfg)"
   ]
  },
  {
   "cell_type": "code",
   "execution_count": 6,
   "id": "56e66fbb-dc27-436f-a43c-88805520867b",
   "metadata": {},
   "outputs": [
    {
     "data": {
      "application/vnd.jupyter.widget-view+json": {
       "model_id": "02bd10702d4f45558c2d8b03e8eded14",
       "version_major": 2,
       "version_minor": 0
      },
      "text/plain": [
       "Loading Basins:   0%|          | 0/2 [00:00<?, ?it/s]"
      ]
     },
     "metadata": {},
     "output_type": "display_data"
    }
   ],
   "source": [
    "# reload(data)\n",
    "from data import TAPDataset\n",
    "\n",
    "dataset = TAPDataset(cfg)"
   ]
  },
  {
   "cell_type": "code",
   "execution_count": 7,
   "id": "03370777-70fd-4525-bcf8-4e7bab4114ed",
   "metadata": {},
   "outputs": [
    {
     "name": "stdout",
     "output_type": "stream",
     "text": [
      "Dataloader using 0 parallel CPU worker(s).\n",
      "Batch sharding set to 1 cpu(s)\n"
     ]
    },
    {
     "data": {
      "application/vnd.jupyter.widget-view+json": {
       "model_id": "bf219509db114bcfa3ca170f5dcba800",
       "version_major": 2,
       "version_minor": 0
      },
      "text/plain": [
       "Epoch:001:   0%|          | 0/8 [00:00<?, ?it/s]"
      ]
     },
     "metadata": {},
     "output_type": "display_data"
    },
    {
     "data": {
      "application/vnd.jupyter.widget-view+json": {
       "model_id": "07f3e70fd97644778b1b987932bcc15b",
       "version_major": 2,
       "version_minor": 0
      },
      "text/plain": [
       "Epoch:002:   0%|          | 0/8 [00:00<?, ?it/s]"
      ]
     },
     "metadata": {},
     "output_type": "display_data"
    },
    {
     "data": {
      "application/vnd.jupyter.widget-view+json": {
       "model_id": "86a1876e91b5424bb95364de315d4afc",
       "version_major": 2,
       "version_minor": 0
      },
      "text/plain": [
       "Epoch:003:   0%|          | 0/8 [00:00<?, ?it/s]"
      ]
     },
     "metadata": {},
     "output_type": "display_data"
    },
    {
     "data": {
      "application/vnd.jupyter.widget-view+json": {
       "model_id": "9b8258d5cb8449b095e446af92e90048",
       "version_major": 2,
       "version_minor": 0
      },
      "text/plain": [
       "Epoch:004:   0%|          | 0/8 [00:00<?, ?it/s]"
      ]
     },
     "metadata": {},
     "output_type": "display_data"
    },
    {
     "data": {
      "application/vnd.jupyter.widget-view+json": {
       "model_id": "d06f45b01604429cb18765b03273b3cd",
       "version_major": 2,
       "version_minor": 0
      },
      "text/plain": [
       "Epoch:005:   0%|          | 0/8 [00:00<?, ?it/s]"
      ]
     },
     "metadata": {},
     "output_type": "display_data"
    },
    {
     "data": {
      "application/vnd.jupyter.widget-view+json": {
       "model_id": "83841e2516f14452a8320e3de07e97ac",
       "version_major": 2,
       "version_minor": 0
      },
      "text/plain": [
       "Epoch:006:   0%|          | 0/8 [00:00<?, ?it/s]"
      ]
     },
     "metadata": {},
     "output_type": "display_data"
    },
    {
     "data": {
      "application/vnd.jupyter.widget-view+json": {
       "model_id": "96fe071b00ad4dc5ae66821d73fc74c8",
       "version_major": 2,
       "version_minor": 0
      },
      "text/plain": [
       "Epoch:007:   0%|          | 0/8 [00:00<?, ?it/s]"
      ]
     },
     "metadata": {},
     "output_type": "display_data"
    },
    {
     "data": {
      "application/vnd.jupyter.widget-view+json": {
       "model_id": "d361cb2185164bd0abf3d83941e266f2",
       "version_major": 2,
       "version_minor": 0
      },
      "text/plain": [
       "Epoch:008:   0%|          | 0/8 [00:00<?, ?it/s]"
      ]
     },
     "metadata": {},
     "output_type": "display_data"
    },
    {
     "data": {
      "application/vnd.jupyter.widget-view+json": {
       "model_id": "e0e7672d3ddc494badfed814ab53d0b8",
       "version_major": 2,
       "version_minor": 0
      },
      "text/plain": [
       "Epoch:009:   0%|          | 0/8 [00:00<?, ?it/s]"
      ]
     },
     "metadata": {},
     "output_type": "display_data"
    },
    {
     "data": {
      "application/vnd.jupyter.widget-view+json": {
       "model_id": "2b8a328cd7a549639f9d63463ee852ac",
       "version_major": 2,
       "version_minor": 0
      },
      "text/plain": [
       "Epoch:010:   0%|          | 0/8 [00:00<?, ?it/s]"
      ]
     },
     "metadata": {},
     "output_type": "display_data"
    },
    {
     "data": {
      "application/vnd.jupyter.widget-view+json": {
       "model_id": "85c25a02ef48427f936d87daa121ce7e",
       "version_major": 2,
       "version_minor": 0
      },
      "text/plain": [
       "Epoch:011:   0%|          | 0/8 [00:00<?, ?it/s]"
      ]
     },
     "metadata": {},
     "output_type": "display_data"
    },
    {
     "data": {
      "application/vnd.jupyter.widget-view+json": {
       "model_id": "6eb496c5ef1c451784c52141ac9d3efc",
       "version_major": 2,
       "version_minor": 0
      },
      "text/plain": [
       "Epoch:012:   0%|          | 0/8 [00:00<?, ?it/s]"
      ]
     },
     "metadata": {},
     "output_type": "display_data"
    },
    {
     "data": {
      "application/vnd.jupyter.widget-view+json": {
       "model_id": "859097d672c74125966311cf1d54fc5d",
       "version_major": 2,
       "version_minor": 0
      },
      "text/plain": [
       "Epoch:013:   0%|          | 0/8 [00:00<?, ?it/s]"
      ]
     },
     "metadata": {},
     "output_type": "display_data"
    },
    {
     "data": {
      "application/vnd.jupyter.widget-view+json": {
       "model_id": "f31188aa2c5d472eba54a7450f509e95",
       "version_major": 2,
       "version_minor": 0
      },
      "text/plain": [
       "Epoch:014:   0%|          | 0/8 [00:00<?, ?it/s]"
      ]
     },
     "metadata": {},
     "output_type": "display_data"
    },
    {
     "data": {
      "application/vnd.jupyter.widget-view+json": {
       "model_id": "0a01e8e14497426282911838b19a3747",
       "version_major": 2,
       "version_minor": 0
      },
      "text/plain": [
       "Epoch:015:   0%|          | 0/8 [00:00<?, ?it/s]"
      ]
     },
     "metadata": {},
     "output_type": "display_data"
    },
    {
     "data": {
      "application/vnd.jupyter.widget-view+json": {
       "model_id": "edb4ef9e2a144aa298569d5cf007e189",
       "version_major": 2,
       "version_minor": 0
      },
      "text/plain": [
       "Epoch:016:   0%|          | 0/8 [00:00<?, ?it/s]"
      ]
     },
     "metadata": {},
     "output_type": "display_data"
    },
    {
     "data": {
      "application/vnd.jupyter.widget-view+json": {
       "model_id": "c8f50841d0e444dba68fb31c79d35335",
       "version_major": 2,
       "version_minor": 0
      },
      "text/plain": [
       "Epoch:017:   0%|          | 0/8 [00:00<?, ?it/s]"
      ]
     },
     "metadata": {},
     "output_type": "display_data"
    },
    {
     "data": {
      "application/vnd.jupyter.widget-view+json": {
       "model_id": "7167be5869774812ab906145042b7ec4",
       "version_major": 2,
       "version_minor": 0
      },
      "text/plain": [
       "Epoch:018:   0%|          | 0/8 [00:00<?, ?it/s]"
      ]
     },
     "metadata": {},
     "output_type": "display_data"
    },
    {
     "data": {
      "application/vnd.jupyter.widget-view+json": {
       "model_id": "79575c05707747cfa19812e5f936a33a",
       "version_major": 2,
       "version_minor": 0
      },
      "text/plain": [
       "Epoch:019:   0%|          | 0/8 [00:00<?, ?it/s]"
      ]
     },
     "metadata": {},
     "output_type": "display_data"
    },
    {
     "data": {
      "application/vnd.jupyter.widget-view+json": {
       "model_id": "950446f90b974522a1f7d63d47835d9d",
       "version_major": 2,
       "version_minor": 0
      },
      "text/plain": [
       "Epoch:020:   0%|          | 0/8 [00:00<?, ?it/s]"
      ]
     },
     "metadata": {},
     "output_type": "display_data"
    },
    {
     "data": {
      "application/vnd.jupyter.widget-view+json": {
       "model_id": "6589b49e54d445feac4ce7e4753132c3",
       "version_major": 2,
       "version_minor": 0
      },
      "text/plain": [
       "Epoch:021:   0%|          | 0/8 [00:00<?, ?it/s]"
      ]
     },
     "metadata": {},
     "output_type": "display_data"
    },
    {
     "data": {
      "application/vnd.jupyter.widget-view+json": {
       "model_id": "87509c2256e642ceb3c18274da9f0946",
       "version_major": 2,
       "version_minor": 0
      },
      "text/plain": [
       "Epoch:022:   0%|          | 0/8 [00:00<?, ?it/s]"
      ]
     },
     "metadata": {},
     "output_type": "display_data"
    },
    {
     "data": {
      "application/vnd.jupyter.widget-view+json": {
       "model_id": "672b523bc2b2464e8d55d7444283d3c2",
       "version_major": 2,
       "version_minor": 0
      },
      "text/plain": [
       "Epoch:023:   0%|          | 0/8 [00:00<?, ?it/s]"
      ]
     },
     "metadata": {},
     "output_type": "display_data"
    },
    {
     "data": {
      "application/vnd.jupyter.widget-view+json": {
       "model_id": "7e4a1157b42b4bef9cf2ab9a15a021d2",
       "version_major": 2,
       "version_minor": 0
      },
      "text/plain": [
       "Epoch:024:   0%|          | 0/8 [00:00<?, ?it/s]"
      ]
     },
     "metadata": {},
     "output_type": "display_data"
    },
    {
     "data": {
      "application/vnd.jupyter.widget-view+json": {
       "model_id": "63d13f46e949410086af31799e3b46af",
       "version_major": 2,
       "version_minor": 0
      },
      "text/plain": [
       "Epoch:025:   0%|          | 0/8 [00:00<?, ?it/s]"
      ]
     },
     "metadata": {},
     "output_type": "display_data"
    },
    {
     "data": {
      "application/vnd.jupyter.widget-view+json": {
       "model_id": "bcd67744375e4be5aa38d404f1e365b1",
       "version_major": 2,
       "version_minor": 0
      },
      "text/plain": [
       "Epoch:026:   0%|          | 0/8 [00:00<?, ?it/s]"
      ]
     },
     "metadata": {},
     "output_type": "display_data"
    },
    {
     "data": {
      "application/vnd.jupyter.widget-view+json": {
       "model_id": "c9409e7f2fb943da8a3d089551aad547",
       "version_major": 2,
       "version_minor": 0
      },
      "text/plain": [
       "Epoch:027:   0%|          | 0/8 [00:00<?, ?it/s]"
      ]
     },
     "metadata": {},
     "output_type": "display_data"
    },
    {
     "data": {
      "application/vnd.jupyter.widget-view+json": {
       "model_id": "9056f3dea4b64011acaef65ed0a04094",
       "version_major": 2,
       "version_minor": 0
      },
      "text/plain": [
       "Epoch:028:   0%|          | 0/8 [00:00<?, ?it/s]"
      ]
     },
     "metadata": {},
     "output_type": "display_data"
    },
    {
     "data": {
      "application/vnd.jupyter.widget-view+json": {
       "model_id": "1ba7e55d94be4c8ba40fddfba9ee90e5",
       "version_major": 2,
       "version_minor": 0
      },
      "text/plain": [
       "Epoch:029:   0%|          | 0/8 [00:00<?, ?it/s]"
      ]
     },
     "metadata": {},
     "output_type": "display_data"
    },
    {
     "data": {
      "application/vnd.jupyter.widget-view+json": {
       "model_id": "4d7adb420aae41a7bce81e1e0e8cb9dd",
       "version_major": 2,
       "version_minor": 0
      },
      "text/plain": [
       "Epoch:030:   0%|          | 0/8 [00:00<?, ?it/s]"
      ]
     },
     "metadata": {},
     "output_type": "display_data"
    },
    {
     "data": {
      "application/vnd.jupyter.widget-view+json": {
       "model_id": "1317f1873ad44624a83724cdc9c69a0b",
       "version_major": 2,
       "version_minor": 0
      },
      "text/plain": [
       "Epoch:031:   0%|          | 0/8 [00:00<?, ?it/s]"
      ]
     },
     "metadata": {},
     "output_type": "display_data"
    },
    {
     "data": {
      "application/vnd.jupyter.widget-view+json": {
       "model_id": "73c26709732a4bc18f203f279394929d",
       "version_major": 2,
       "version_minor": 0
      },
      "text/plain": [
       "Epoch:032:   0%|          | 0/8 [00:00<?, ?it/s]"
      ]
     },
     "metadata": {},
     "output_type": "display_data"
    },
    {
     "data": {
      "application/vnd.jupyter.widget-view+json": {
       "model_id": "27ff4523ac1e481f84bf1b0a3c4e0222",
       "version_major": 2,
       "version_minor": 0
      },
      "text/plain": [
       "Epoch:033:   0%|          | 0/8 [00:00<?, ?it/s]"
      ]
     },
     "metadata": {},
     "output_type": "display_data"
    },
    {
     "data": {
      "application/vnd.jupyter.widget-view+json": {
       "model_id": "1cabfcb0e72d46438a220762970b8381",
       "version_major": 2,
       "version_minor": 0
      },
      "text/plain": [
       "Epoch:034:   0%|          | 0/8 [00:00<?, ?it/s]"
      ]
     },
     "metadata": {},
     "output_type": "display_data"
    },
    {
     "data": {
      "application/vnd.jupyter.widget-view+json": {
       "model_id": "9c186c4ffe7d42e3bee5d0862ff083c2",
       "version_major": 2,
       "version_minor": 0
      },
      "text/plain": [
       "Epoch:035:   0%|          | 0/8 [00:00<?, ?it/s]"
      ]
     },
     "metadata": {},
     "output_type": "display_data"
    },
    {
     "data": {
      "application/vnd.jupyter.widget-view+json": {
       "model_id": "0a7465031ef8471ebc070035d9976810",
       "version_major": 2,
       "version_minor": 0
      },
      "text/plain": [
       "Epoch:036:   0%|          | 0/8 [00:00<?, ?it/s]"
      ]
     },
     "metadata": {},
     "output_type": "display_data"
    },
    {
     "data": {
      "application/vnd.jupyter.widget-view+json": {
       "model_id": "dba9c7d472d143429f1f7ad7aeb4e5a1",
       "version_major": 2,
       "version_minor": 0
      },
      "text/plain": [
       "Epoch:037:   0%|          | 0/8 [00:00<?, ?it/s]"
      ]
     },
     "metadata": {},
     "output_type": "display_data"
    },
    {
     "data": {
      "application/vnd.jupyter.widget-view+json": {
       "model_id": "0fb5fe714dda47dcae95a19251b2beb9",
       "version_major": 2,
       "version_minor": 0
      },
      "text/plain": [
       "Epoch:038:   0%|          | 0/8 [00:00<?, ?it/s]"
      ]
     },
     "metadata": {},
     "output_type": "display_data"
    },
    {
     "data": {
      "application/vnd.jupyter.widget-view+json": {
       "model_id": "b3b69adb35ad4fa2bbad0c9e078e475c",
       "version_major": 2,
       "version_minor": 0
      },
      "text/plain": [
       "Epoch:039:   0%|          | 0/8 [00:00<?, ?it/s]"
      ]
     },
     "metadata": {},
     "output_type": "display_data"
    },
    {
     "data": {
      "application/vnd.jupyter.widget-view+json": {
       "model_id": "3e6fd3f2bc1049d0803f1b1885e641d9",
       "version_major": 2,
       "version_minor": 0
      },
      "text/plain": [
       "Epoch:040:   0%|          | 0/8 [00:00<?, ?it/s]"
      ]
     },
     "metadata": {},
     "output_type": "display_data"
    },
    {
     "data": {
      "application/vnd.jupyter.widget-view+json": {
       "model_id": "3059a8e6a46e48339abfc2efeea9d394",
       "version_major": 2,
       "version_minor": 0
      },
      "text/plain": [
       "Epoch:041:   0%|          | 0/8 [00:00<?, ?it/s]"
      ]
     },
     "metadata": {},
     "output_type": "display_data"
    },
    {
     "data": {
      "application/vnd.jupyter.widget-view+json": {
       "model_id": "2515ea896e24452d8b4083ae59a3ee39",
       "version_major": 2,
       "version_minor": 0
      },
      "text/plain": [
       "Epoch:042:   0%|          | 0/8 [00:00<?, ?it/s]"
      ]
     },
     "metadata": {},
     "output_type": "display_data"
    },
    {
     "data": {
      "application/vnd.jupyter.widget-view+json": {
       "model_id": "0832990ee16c41eb91f60b062d0b97ac",
       "version_major": 2,
       "version_minor": 0
      },
      "text/plain": [
       "Epoch:043:   0%|          | 0/8 [00:00<?, ?it/s]"
      ]
     },
     "metadata": {},
     "output_type": "display_data"
    },
    {
     "data": {
      "application/vnd.jupyter.widget-view+json": {
       "model_id": "cfe24b8f099a49fea730df67322a38b6",
       "version_major": 2,
       "version_minor": 0
      },
      "text/plain": [
       "Epoch:044:   0%|          | 0/8 [00:00<?, ?it/s]"
      ]
     },
     "metadata": {},
     "output_type": "display_data"
    },
    {
     "data": {
      "application/vnd.jupyter.widget-view+json": {
       "model_id": "a401521dde554d71ba906b8b1a4238a0",
       "version_major": 2,
       "version_minor": 0
      },
      "text/plain": [
       "Epoch:045:   0%|          | 0/8 [00:00<?, ?it/s]"
      ]
     },
     "metadata": {},
     "output_type": "display_data"
    },
    {
     "data": {
      "application/vnd.jupyter.widget-view+json": {
       "model_id": "a1f1bbc7e59242c6bd965692b569100d",
       "version_major": 2,
       "version_minor": 0
      },
      "text/plain": [
       "Epoch:046:   0%|          | 0/8 [00:00<?, ?it/s]"
      ]
     },
     "metadata": {},
     "output_type": "display_data"
    },
    {
     "data": {
      "application/vnd.jupyter.widget-view+json": {
       "model_id": "03a779d2d1384bb09e0f3f2207dc3cf2",
       "version_major": 2,
       "version_minor": 0
      },
      "text/plain": [
       "Epoch:047:   0%|          | 0/8 [00:00<?, ?it/s]"
      ]
     },
     "metadata": {},
     "output_type": "display_data"
    },
    {
     "data": {
      "application/vnd.jupyter.widget-view+json": {
       "model_id": "c07cd1bd9245416395d44cb10c240f90",
       "version_major": 2,
       "version_minor": 0
      },
      "text/plain": [
       "Epoch:048:   0%|          | 0/8 [00:00<?, ?it/s]"
      ]
     },
     "metadata": {},
     "output_type": "display_data"
    },
    {
     "data": {
      "application/vnd.jupyter.widget-view+json": {
       "model_id": "ef5f7e44605f491c8383f0041d09f174",
       "version_major": 2,
       "version_minor": 0
      },
      "text/plain": [
       "Epoch:049:   0%|          | 0/8 [00:00<?, ?it/s]"
      ]
     },
     "metadata": {},
     "output_type": "display_data"
    },
    {
     "data": {
      "application/vnd.jupyter.widget-view+json": {
       "model_id": "851597d391b7415ea387a37e51b7f240",
       "version_major": 2,
       "version_minor": 0
      },
      "text/plain": [
       "Epoch:050:   0%|          | 0/8 [00:00<?, ?it/s]"
      ]
     },
     "metadata": {},
     "output_type": "display_data"
    },
    {
     "data": {
      "application/vnd.jupyter.widget-view+json": {
       "model_id": "64772f7a6361400ab7510fbab1449114",
       "version_major": 2,
       "version_minor": 0
      },
      "text/plain": [
       "Epoch:051:   0%|          | 0/8 [00:00<?, ?it/s]"
      ]
     },
     "metadata": {},
     "output_type": "display_data"
    },
    {
     "data": {
      "application/vnd.jupyter.widget-view+json": {
       "model_id": "3a446c4d153b46bcafb5079523490cb0",
       "version_major": 2,
       "version_minor": 0
      },
      "text/plain": [
       "Epoch:052:   0%|          | 0/8 [00:00<?, ?it/s]"
      ]
     },
     "metadata": {},
     "output_type": "display_data"
    },
    {
     "data": {
      "application/vnd.jupyter.widget-view+json": {
       "model_id": "72e0c4d4f4804ad5a1662a21f175aada",
       "version_major": 2,
       "version_minor": 0
      },
      "text/plain": [
       "Epoch:053:   0%|          | 0/8 [00:00<?, ?it/s]"
      ]
     },
     "metadata": {},
     "output_type": "display_data"
    },
    {
     "data": {
      "application/vnd.jupyter.widget-view+json": {
       "model_id": "b48d1187309b479fb5deb589a9b87f0a",
       "version_major": 2,
       "version_minor": 0
      },
      "text/plain": [
       "Epoch:054:   0%|          | 0/8 [00:00<?, ?it/s]"
      ]
     },
     "metadata": {},
     "output_type": "display_data"
    },
    {
     "data": {
      "application/vnd.jupyter.widget-view+json": {
       "model_id": "bc82ebb47ed64d3581daec2d33f38224",
       "version_major": 2,
       "version_minor": 0
      },
      "text/plain": [
       "Epoch:055:   0%|          | 0/8 [00:00<?, ?it/s]"
      ]
     },
     "metadata": {},
     "output_type": "display_data"
    },
    {
     "data": {
      "application/vnd.jupyter.widget-view+json": {
       "model_id": "053ed43e3ba14591952d6bbdc24c3734",
       "version_major": 2,
       "version_minor": 0
      },
      "text/plain": [
       "Epoch:056:   0%|          | 0/8 [00:00<?, ?it/s]"
      ]
     },
     "metadata": {},
     "output_type": "display_data"
    },
    {
     "data": {
      "application/vnd.jupyter.widget-view+json": {
       "model_id": "a4ffb6ef18434781b40bf0949ea6ff1f",
       "version_major": 2,
       "version_minor": 0
      },
      "text/plain": [
       "Epoch:057:   0%|          | 0/8 [00:00<?, ?it/s]"
      ]
     },
     "metadata": {},
     "output_type": "display_data"
    },
    {
     "data": {
      "application/vnd.jupyter.widget-view+json": {
       "model_id": "ea82068b21b44ca1a9f7fa5c61152a9e",
       "version_major": 2,
       "version_minor": 0
      },
      "text/plain": [
       "Epoch:058:   0%|          | 0/8 [00:00<?, ?it/s]"
      ]
     },
     "metadata": {},
     "output_type": "display_data"
    },
    {
     "data": {
      "application/vnd.jupyter.widget-view+json": {
       "model_id": "d730d81ecbd14526a0cab11bac9482f7",
       "version_major": 2,
       "version_minor": 0
      },
      "text/plain": [
       "Epoch:059:   0%|          | 0/8 [00:00<?, ?it/s]"
      ]
     },
     "metadata": {},
     "output_type": "display_data"
    },
    {
     "data": {
      "application/vnd.jupyter.widget-view+json": {
       "model_id": "906115644c814ef5aeda1f676049db22",
       "version_major": 2,
       "version_minor": 0
      },
      "text/plain": [
       "Epoch:060:   0%|          | 0/8 [00:00<?, ?it/s]"
      ]
     },
     "metadata": {},
     "output_type": "display_data"
    },
    {
     "name": "stdout",
     "output_type": "stream",
     "text": [
      "Training finished or interrupted. Model state saved.\n"
     ]
    },
    {
     "data": {
      "image/png": "[encoded data removed]",
      "text/plain": [
       "<Figure size 640x480 with 1 Axes>"
      ]
     },
     "metadata": {},
     "output_type": "display_data"
    }
   ],
   "source": [
    "# reload(data)\n",
    "from data import TAPDataLoader\n",
    "\n",
    "reload(train)\n",
    "from train import Trainer\n",
    "\n",
    "# Specific to Transformer\n",
    "cfg['model_args']['dynamic_in_size'] = len(dataset.daily_features) + len(dataset.irregular_features)\n",
    "cfg['model_args']['static_in_size'] = len(dataset.static_features)\n",
    "cfg['model_args']['max_length'] = cfg['sequence_length']\n",
    "\n",
    "dataloader = TAPDataLoader(cfg, dataset)\n",
    "trainer = Trainer(cfg, dataloader)\n",
    "trainer.start_training()\n"
   ]
  },
  {
   "cell_type": "code",
   "execution_count": 46,
   "id": "bc4ccab1-b2ae-4e7b-9be9-2d0dfaf26cf5",
   "metadata": {},
   "outputs": [
    {
     "data": {
      "text/plain": [
       "ScaleByAdamState(count=Array(1673, dtype=int32), mu=EATransformer(\n",
       "  encoder=Encoder(\n",
       "    embedder_block=EmbedderBlock(\n",
       "      daily_embedder=Linear(\n",
       "        weight=f32[256,1],\n",
       "        bias=f32[256],\n",
       "        in_features=1,\n",
       "        out_features=256,\n",
       "        use_bias=True\n",
       "      ),\n",
       "      irregular_embedder=Linear(\n",
       "        weight=f32[256,6],\n",
       "        bias=f32[256],\n",
       "        in_features=6,\n",
       "        out_features=256,\n",
       "        use_bias=True\n",
       "      ),\n",
       "      position_embedder=Embedding(\n",
       "        num_embeddings=30,\n",
       "        embedding_size=256,\n",
       "        weight=f32[30,256]\n",
       "      ),\n",
       "      layernorm=LayerNorm(\n",
       "        shape=(256,),\n",
       "        eps=1e-05,\n",
       "        use_weight=True,\n",
       "        use_bias=True,\n",
       "        weight=f32[256],\n",
       "        bias=f32[256]\n",
       "      ),\n",
       "      dropout=Dropout(p=None, inference=None)\n",
       "    ),\n",
       "    layers=[\n",
       "      TransformerLayer(\n",
       "        attention_block=AttentionBlock(\n",
       "          attention=MultiheadAttention(\n",
       "            query_proj=Linear(\n",
       "              weight=f32[256,256],\n",
       "              bias=None,\n",
       "              in_features=256,\n",
       "              out_features=256,\n",
       "              use_bias=False\n",
       "            ),\n",
       "            key_proj=Linear(\n",
       "              weight=f32[256,256],\n",
       "              bias=None,\n",
       "              in_features=256,\n",
       "              out_features=256,\n",
       "              use_bias=False\n",
       "            ),\n",
       "            value_proj=Linear(\n",
       "              weight=f32[256,256],\n",
       "              bias=None,\n",
       "              in_features=256,\n",
       "              out_features=256,\n",
       "              use_bias=False\n",
       "            ),\n",
       "            output_proj=Linear(\n",
       "              weight=f32[256,256],\n",
       "              bias=None,\n",
       "              in_features=256,\n",
       "              out_features=256,\n",
       "              use_bias=False\n",
       "            ),\n",
       "            dropout=Dropout(p=None, inference=None),\n",
       "            num_heads=8,\n",
       "            query_size=256,\n",
       "            key_size=256,\n",
       "            value_size=256,\n",
       "            output_size=256,\n",
       "            qk_size=32,\n",
       "            vo_size=32,\n",
       "            use_query_bias=False,\n",
       "            use_key_bias=False,\n",
       "            use_value_bias=False,\n",
       "            use_output_bias=False\n",
       "          ),\n",
       "          layernorm=LayerNorm(\n",
       "            shape=(256,),\n",
       "            eps=1e-05,\n",
       "            use_weight=True,\n",
       "            use_bias=True,\n",
       "            weight=f32[256],\n",
       "            bias=f32[256]\n",
       "          ),\n",
       "          static_linear=Linear(\n",
       "            weight=f32[256,187],\n",
       "            bias=f32[256],\n",
       "            in_features=187,\n",
       "            out_features=256,\n",
       "            use_bias=True\n",
       "          ),\n",
       "          dropout=Dropout(p=None, inference=None)\n",
       "        ),\n",
       "        ff_block=FeedForwardBlock(\n",
       "          mlp=Linear(\n",
       "            weight=f32[512,256],\n",
       "            bias=f32[512],\n",
       "            in_features=256,\n",
       "            out_features=512,\n",
       "            use_bias=True\n",
       "          ),\n",
       "          output=Linear(\n",
       "            weight=f32[256,512],\n",
       "            bias=f32[256],\n",
       "            in_features=512,\n",
       "            out_features=256,\n",
       "            use_bias=True\n",
       "          ),\n",
       "          layernorm=LayerNorm(\n",
       "            shape=(256,),\n",
       "            eps=1e-05,\n",
       "            use_weight=True,\n",
       "            use_bias=True,\n",
       "            weight=f32[256],\n",
       "            bias=f32[256]\n",
       "          ),\n",
       "          dropout=Dropout(p=None, inference=None)\n",
       "        )\n",
       "      ),\n",
       "      TransformerLayer(\n",
       "        attention_block=AttentionBlock(\n",
       "          attention=MultiheadAttention(\n",
       "            query_proj=Linear(\n",
       "              weight=f32[256,256],\n",
       "              bias=None,\n",
       "              in_features=256,\n",
       "              out_features=256,\n",
       "              use_bias=False\n",
       "            ),\n",
       "            key_proj=Linear(\n",
       "              weight=f32[256,256],\n",
       "              bias=None,\n",
       "              in_features=256,\n",
       "              out_features=256,\n",
       "              use_bias=False\n",
       "            ),\n",
       "            value_proj=Linear(\n",
       "              weight=f32[256,256],\n",
       "              bias=None,\n",
       "              in_features=256,\n",
       "              out_features=256,\n",
       "              use_bias=False\n",
       "            ),\n",
       "            output_proj=Linear(\n",
       "              weight=f32[256,256],\n",
       "              bias=None,\n",
       "              in_features=256,\n",
       "              out_features=256,\n",
       "              use_bias=False\n",
       "            ),\n",
       "            dropout=Dropout(p=None, inference=None),\n",
       "            num_heads=8,\n",
       "            query_size=256,\n",
       "            key_size=256,\n",
       "            value_size=256,\n",
       "            output_size=256,\n",
       "            qk_size=32,\n",
       "            vo_size=32,\n",
       "            use_query_bias=False,\n",
       "            use_key_bias=False,\n",
       "            use_value_bias=False,\n",
       "            use_output_bias=False\n",
       "          ),\n",
       "          layernorm=LayerNorm(\n",
       "            shape=(256,),\n",
       "            eps=1e-05,\n",
       "            use_weight=True,\n",
       "            use_bias=True,\n",
       "            weight=f32[256],\n",
       "            bias=f32[256]\n",
       "          ),\n",
       "          static_linear=Linear(\n",
       "            weight=f32[256,187],\n",
       "            bias=f32[256],\n",
       "            in_features=187,\n",
       "            out_features=256,\n",
       "            use_bias=True\n",
       "          ),\n",
       "          dropout=Dropout(p=None, inference=None)\n",
       "        ),\n",
       "        ff_block=FeedForwardBlock(\n",
       "          mlp=Linear(\n",
       "            weight=f32[512,256],\n",
       "            bias=f32[512],\n",
       "            in_features=256,\n",
       "            out_features=512,\n",
       "            use_bias=True\n",
       "          ),\n",
       "          output=Linear(\n",
       "            weight=f32[256,512],\n",
       "            bias=f32[256],\n",
       "            in_features=512,\n",
       "            out_features=256,\n",
       "            use_bias=True\n",
       "          ),\n",
       "          layernorm=LayerNorm(\n",
       "            shape=(256,),\n",
       "            eps=1e-05,\n",
       "            use_weight=True,\n",
       "            use_bias=True,\n",
       "            weight=f32[256],\n",
       "            bias=f32[256]\n",
       "          ),\n",
       "          dropout=Dropout(p=None, inference=None)\n",
       "        )\n",
       "      )\n",
       "    ],\n",
       "    pooler=Linear(\n",
       "      weight=f32[256,256],\n",
       "      bias=f32[256],\n",
       "      in_features=256,\n",
       "      out_features=256,\n",
       "      use_bias=True\n",
       "    )\n",
       "  ),\n",
       "  head=Linear(\n",
       "    weight=f32[1,256],\n",
       "    bias=f32[1],\n",
       "    in_features=256,\n",
       "    out_features=1,\n",
       "    use_bias=True\n",
       "  )\n",
       "), nu=EATransformer(\n",
       "  encoder=Encoder(\n",
       "    embedder_block=EmbedderBlock(\n",
       "      daily_embedder=Linear(\n",
       "        weight=f32[256,1],\n",
       "        bias=f32[256],\n",
       "        in_features=1,\n",
       "        out_features=256,\n",
       "        use_bias=True\n",
       "      ),\n",
       "      irregular_embedder=Linear(\n",
       "        weight=f32[256,6],\n",
       "        bias=f32[256],\n",
       "        in_features=6,\n",
       "        out_features=256,\n",
       "        use_bias=True\n",
       "      ),\n",
       "      position_embedder=Embedding(\n",
       "        num_embeddings=30,\n",
       "        embedding_size=256,\n",
       "        weight=f32[30,256]\n",
       "      ),\n",
       "      layernorm=LayerNorm(\n",
       "        shape=(256,),\n",
       "        eps=1e-05,\n",
       "        use_weight=True,\n",
       "        use_bias=True,\n",
       "        weight=f32[256],\n",
       "        bias=f32[256]\n",
       "      ),\n",
       "      dropout=Dropout(p=None, inference=None)\n",
       "    ),\n",
       "    layers=[\n",
       "      TransformerLayer(\n",
       "        attention_block=AttentionBlock(\n",
       "          attention=MultiheadAttention(\n",
       "            query_proj=Linear(\n",
       "              weight=f32[256,256],\n",
       "              bias=None,\n",
       "              in_features=256,\n",
       "              out_features=256,\n",
       "              use_bias=False\n",
       "            ),\n",
       "            key_proj=Linear(\n",
       "              weight=f32[256,256],\n",
       "              bias=None,\n",
       "              in_features=256,\n",
       "              out_features=256,\n",
       "              use_bias=False\n",
       "            ),\n",
       "            value_proj=Linear(\n",
       "              weight=f32[256,256],\n",
       "              bias=None,\n",
       "              in_features=256,\n",
       "              out_features=256,\n",
       "              use_bias=False\n",
       "            ),\n",
       "            output_proj=Linear(\n",
       "              weight=f32[256,256],\n",
       "              bias=None,\n",
       "              in_features=256,\n",
       "              out_features=256,\n",
       "              use_bias=False\n",
       "            ),\n",
       "            dropout=Dropout(p=None, inference=None),\n",
       "            num_heads=8,\n",
       "            query_size=256,\n",
       "            key_size=256,\n",
       "            value_size=256,\n",
       "            output_size=256,\n",
       "            qk_size=32,\n",
       "            vo_size=32,\n",
       "            use_query_bias=False,\n",
       "            use_key_bias=False,\n",
       "            use_value_bias=False,\n",
       "            use_output_bias=False\n",
       "          ),\n",
       "          layernorm=LayerNorm(\n",
       "            shape=(256,),\n",
       "            eps=1e-05,\n",
       "            use_weight=True,\n",
       "            use_bias=True,\n",
       "            weight=f32[256],\n",
       "            bias=f32[256]\n",
       "          ),\n",
       "          static_linear=Linear(\n",
       "            weight=f32[256,187],\n",
       "            bias=f32[256],\n",
       "            in_features=187,\n",
       "            out_features=256,\n",
       "            use_bias=True\n",
       "          ),\n",
       "          dropout=Dropout(p=None, inference=None)\n",
       "        ),\n",
       "        ff_block=FeedForwardBlock(\n",
       "          mlp=Linear(\n",
       "            weight=f32[512,256],\n",
       "            bias=f32[512],\n",
       "            in_features=256,\n",
       "            out_features=512,\n",
       "            use_bias=True\n",
       "          ),\n",
       "          output=Linear(\n",
       "            weight=f32[256,512],\n",
       "            bias=f32[256],\n",
       "            in_features=512,\n",
       "            out_features=256,\n",
       "            use_bias=True\n",
       "          ),\n",
       "          layernorm=LayerNorm(\n",
       "            shape=(256,),\n",
       "            eps=1e-05,\n",
       "            use_weight=True,\n",
       "            use_bias=True,\n",
       "            weight=f32[256],\n",
       "            bias=f32[256]\n",
       "          ),\n",
       "          dropout=Dropout(p=None, inference=None)\n",
       "        )\n",
       "      ),\n",
       "      TransformerLayer(\n",
       "        attention_block=AttentionBlock(\n",
       "          attention=MultiheadAttention(\n",
       "            query_proj=Linear(\n",
       "              weight=f32[256,256],\n",
       "              bias=None,\n",
       "              in_features=256,\n",
       "              out_features=256,\n",
       "              use_bias=False\n",
       "            ),\n",
       "            key_proj=Linear(\n",
       "              weight=f32[256,256],\n",
       "              bias=None,\n",
       "              in_features=256,\n",
       "              out_features=256,\n",
       "              use_bias=False\n",
       "            ),\n",
       "            value_proj=Linear(\n",
       "              weight=f32[256,256],\n",
       "              bias=None,\n",
       "              in_features=256,\n",
       "              out_features=256,\n",
       "              use_bias=False\n",
       "            ),\n",
       "            output_proj=Linear(\n",
       "              weight=f32[256,256],\n",
       "              bias=None,\n",
       "              in_features=256,\n",
       "              out_features=256,\n",
       "              use_bias=False\n",
       "            ),\n",
       "            dropout=Dropout(p=None, inference=None),\n",
       "            num_heads=8,\n",
       "            query_size=256,\n",
       "            key_size=256,\n",
       "            value_size=256,\n",
       "            output_size=256,\n",
       "            qk_size=32,\n",
       "            vo_size=32,\n",
       "            use_query_bias=False,\n",
       "            use_key_bias=False,\n",
       "            use_value_bias=False,\n",
       "            use_output_bias=False\n",
       "          ),\n",
       "          layernorm=LayerNorm(\n",
       "            shape=(256,),\n",
       "            eps=1e-05,\n",
       "            use_weight=True,\n",
       "            use_bias=True,\n",
       "            weight=f32[256],\n",
       "            bias=f32[256]\n",
       "          ),\n",
       "          static_linear=Linear(\n",
       "            weight=f32[256,187],\n",
       "            bias=f32[256],\n",
       "            in_features=187,\n",
       "            out_features=256,\n",
       "            use_bias=True\n",
       "          ),\n",
       "          dropout=Dropout(p=None, inference=None)\n",
       "        ),\n",
       "        ff_block=FeedForwardBlock(\n",
       "          mlp=Linear(\n",
       "            weight=f32[512,256],\n",
       "            bias=f32[512],\n",
       "            in_features=256,\n",
       "            out_features=512,\n",
       "            use_bias=True\n",
       "          ),\n",
       "          output=Linear(\n",
       "            weight=f32[256,512],\n",
       "            bias=f32[256],\n",
       "            in_features=512,\n",
       "            out_features=256,\n",
       "            use_bias=True\n",
       "          ),\n",
       "          layernorm=LayerNorm(\n",
       "            shape=(256,),\n",
       "            eps=1e-05,\n",
       "            use_weight=True,\n",
       "            use_bias=True,\n",
       "            weight=f32[256],\n",
       "            bias=f32[256]\n",
       "          ),\n",
       "          dropout=Dropout(p=None, inference=None)\n",
       "        )\n",
       "      )\n",
       "    ],\n",
       "    pooler=Linear(\n",
       "      weight=f32[256,256],\n",
       "      bias=f32[256],\n",
       "      in_features=256,\n",
       "      out_features=256,\n",
       "      use_bias=True\n",
       "    )\n",
       "  ),\n",
       "  head=Linear(\n",
       "    weight=f32[1,256],\n",
       "    bias=f32[1],\n",
       "    in_features=256,\n",
       "    out_features=1,\n",
       "    use_bias=True\n",
       "  )\n",
       "))"
      ]
     },
     "execution_count": 46,
     "metadata": {},
     "output_type": "execute_result"
    }
   ],
   "source": [
    "trainer.opt_state[0].mu.encoder.embedder_block.daily_embedder.weight\n",
    "trainer.opt_state[0]"
   ]
  },
  {
   "cell_type": "code",
   "execution_count": null,
   "id": "dfe339df-1e23-4067-9107-a774c6884a2f",
   "metadata": {},
   "outputs": [],
   "source": [
    "import optax\n",
    "\n",
    "more_epochs = 150\n",
    "\n",
    "trainer.load_state('epoch100')\n",
    "loader_args['data_subset'] = 'train'\n",
    "trainer.dataloader = TAPDataLoader(dataset, **loader_args)\n",
    "trainer.lr_schedule = optax.exponential_decay(0.01, trainer.epoch+more_epochs, 0.001, transition_begin=trainer.epoch)\n",
    "trainer.num_epochs += more_epochs\n",
    "trainer.freeze_components('tealstm_i',True)\n",
    "trainer.start_training() "
   ]
  },
  {
   "cell_type": "code",
   "execution_count": null,
   "id": "e0777957-11f3-49db-b4a4-67d729527ece",
   "metadata": {},
   "outputs": [],
   "source": [
    "lr_schedule = optax.exponential_decay(0.01, trainer.epoch+num_epochs, 0.001, transition_begin=trainer.epoch)\n",
    "x = np.linspace(0,num_epochs*2)\n",
    "y = lr_schedule(x)\n",
    "plt.plot(x,y)"
   ]
  },
  {
   "cell_type": "code",
   "execution_count": 8,
   "id": "7f9ca8c8-9369-4020-8b90-a935d979b87d",
   "metadata": {},
   "outputs": [
    {
     "name": "stdout",
     "output_type": "stream",
     "text": [
      "Dataloader using 0 parallel CPU worker(s).\n",
      "Batch sharding set to 1 cpu(s)\n"
     ]
    },
    {
     "data": {
      "application/vnd.jupyter.widget-view+json": {
       "model_id": "a311f973c1854881bc97f453cc79858d",
       "version_major": 2,
       "version_minor": 0
      },
      "text/plain": [
       "  0%|          | 0/205 [00:00<?, ?it/s]"
      ]
     },
     "metadata": {},
     "output_type": "display_data"
    },
    {
     "data": {
      "text/plain": [
       "{'mae': 0.01314103,\n",
       " 'mse': 0.0005677324,\n",
       " 'rmse': 0.023827136,\n",
       " 'kge': 0.1904338529268529,\n",
       " 'nse': -5.633537769317627}"
      ]
     },
     "execution_count": 8,
     "metadata": {},
     "output_type": "execute_result"
    }
   ],
   "source": [
    "reload(evaluate)\n",
    "from evaluate import predict, get_all_metrics\n",
    "\n",
    "basin = np.random.choice(dataset.basins).tolist()\n",
    "\n",
    "cfg['data_subset'] = 'test'\n",
    "cfg['basin_subset'] =  basin\n",
    "cfg['num_workers'] = 0 # Faster for small runs\n",
    "dataloader = TAPDataLoader(cfg, dataset)\n",
    "\n",
    "results = predict(trainer.model, dataloader, seed=0, denormalize=True)\n",
    "results['pred'] = results['pred'] * (results['pred']>0) #Clip predictions to 0\n",
    "metrics = get_all_metrics(results['obs'],results['pred'])\n",
    "metrics"
   ]
  },
  {
   "cell_type": "code",
   "execution_count": 10,
   "id": "4e119cc9-dc63-411f-a3a8-0a17c5865b01",
   "metadata": {},
   "outputs": [
    {
     "data": {
      "image/png": "[encoded data removed]",
      "text/plain": [
       "<Figure size 1200x600 with 1 Axes>"
      ]
     },
     "metadata": {},
     "output_type": "display_data"
    }
   ],
   "source": [
    "# Plot the true values and predictions\n",
    "fig, ax = plt.subplots(figsize=(12, 6))\n",
    "results['pred'].plot(ax=ax)\n",
    "results['obs'].plot(ax=ax,linestyle='None',marker='.')\n",
    "\n",
    "metrics = get_all_metrics(results['obs'],results['pred'])\n",
    "\n",
    "plt.title(f\"Basin: {basin}, KGE: {metrics['kge']:0.4f}\")\n",
    "plt.legend()\n",
    "# plt.ylim([0,500])\n",
    "plt.show()"
   ]
  },
  {
   "cell_type": "code",
   "execution_count": null,
   "id": "58fec15c-904c-4b45-b531-f36c771772c5",
   "metadata": {},
   "outputs": [],
   "source": [
    "results.plot.scatter('obs','pred')\n",
    "plt.gca().axis('square')\n",
    "plt.xlim([0,20])\n",
    "plt.ylim([0,20])\n",
    "plt.show()"
   ]
  },
  {
   "cell_type": "code",
   "execution_count": null,
   "id": "a2dcf4b4-1d1b-49e1-af29-91faeb56590e",
   "metadata": {},
   "outputs": [],
   "source": []
  },
  {
   "cell_type": "code",
   "execution_count": null,
   "id": "3d973e14-3b94-4f55-b971-e7aebf7887e3",
   "metadata": {},
   "outputs": [],
   "source": []
  },
  {
   "cell_type": "code",
   "execution_count": null,
   "id": "cabe46d7-39ac-421b-94bd-cf015c31e282",
   "metadata": {},
   "outputs": [],
   "source": [
    "from train import make_step\n",
    "from tqdm.notebook import trange\n",
    "\n",
    "# See if we can recreate the error... \n",
    "data = trainer.load_state(\"exceptions/epoch130_exception0\")\n",
    "for i in trange(1000):\n",
    "    make_step(trainer.model, data['batch'], trainer.opt_state, trainer.optim,\n",
    "              trainer.filter_spec, loss_name=\"mse\", max_grad_norm=None, l2_weight=None)"
   ]
  },
  {
   "cell_type": "code",
   "execution_count": null,
   "id": "73b4dcd7-9d86-4b5b-9334-b3bd2ff06494",
   "metadata": {},
   "outputs": [],
   "source": []
  }
 ],
 "metadata": {
  "kernelspec": {
   "display_name": "Python 3 (ipykernel)",
   "language": "python",
   "name": "python3"
  },
  "language_info": {
   "codemirror_mode": {
    "name": "ipython",
    "version": 3
   },
   "file_extension": ".py",
   "mimetype": "text/x-python",
   "name": "python",
   "nbconvert_exporter": "python",
   "pygments_lexer": "ipython3",
   "version": "3.11.9"
  }
 },
 "nbformat": 4,
 "nbformat_minor": 5
}
