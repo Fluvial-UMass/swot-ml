{
 "cells": [
  {
   "cell_type": "code",
   "execution_count": 2,
   "id": "d4c2f660-7607-4db7-975e-791971031c47",
   "metadata": {},
   "outputs": [],
   "source": [
    "# This is required to run multiple processes on Unity for some reason.\n",
    "from multiprocessing import set_start_method\n",
    "try:\n",
    "    set_start_method('spawn')\n",
    "except: #Throws if already set\n",
    "    pass\n",
    "\n",
    "import sys\n",
    "import pandas as pd\n",
    "import numpy as np\n",
    "import matplotlib.pyplot as plt\n",
    "import jax\n",
    "from pathlib import Path\n",
    "from importlib import reload\n",
    "\n",
    "src = str(Path('../src').resolve())\n",
    "if src not in sys.path:\n",
    "    sys.path.append(src)\n",
    "\n",
    "import config, data, models, train, evaluate"
   ]
  },
  {
   "cell_type": "code",
   "execution_count": 20,
   "id": "70b471c7-14d2-43cc-a948-7bc3d9f387de",
   "metadata": {},
   "outputs": [],
   "source": [
    "reload(config)\n",
    "from config import format_config\n",
    "\n",
    "cfg = {\n",
    "    # Data\n",
    "    \"data_dir\": \"../data/Sag\",\n",
    "    \"basin_file\": \"sites.txt\",\n",
    "    \"features\": {\"daily\": [\"gage_Q\"],\n",
    "                 \"irregular\": [\"Blue\", \"Green\", \"Red\", \"Nir\", \"Swir1\", \"Swir2\"],\n",
    "                 \"static\": None, # All are used when None\n",
    "                 \"target\": \"tss\"},\n",
    "    \"time_slice\": [\"1979-01-01\", \"2018-12-31\"], \n",
    "    \"split_time\": \"2010-01-01\",\n",
    "    \"sequence_length\": 30,\n",
    "    \"log_norm_cols\": [\"tss\",\"gage_Q\"],\n",
    "    \"clip_target_to_zero\": True,\n",
    "    \n",
    "    # DataLoader\n",
    "    \"shuffle\": True,\n",
    "    \"batch_size\": 16,\n",
    "    \"data_subset\": \"train\",\n",
    "    \"num_workers\": 0,\n",
    "    \"pin_memory\": True,\n",
    "    \"drop_last\": True,\n",
    "    \n",
    "    # Model\n",
    "    \"model\": \"eatransformer\",\n",
    "    \"model_args\": {\"hidden_size\": 64,\n",
    "                   \"intermediate_size\": 64,\n",
    "                   \"num_layers\": 2,\n",
    "                   \"num_heads\": 2,\n",
    "                   \"dropout_p\": 0.1,\n",
    "                   \"seed\": 0}, \n",
    "    \n",
    "    # Trainer\n",
    "    \"num_epochs\": 100,\n",
    "    \"initial_lr\": 0.001,\n",
    "    \"decay_rate\": 0.01,\n",
    "    \"step_kwargs\":{\"loss\": \"mse\",\n",
    "                   \"max_grad_norm\": 2}, \n",
    "    \n",
    "    # Outputs\n",
    "    \"quiet\": False,  # Use to declutter the slurm output (removes tqdm)\n",
    "    \"log\": False,\n",
    "    \"log_interval\": 5\n",
    "}\n",
    "cfg = format_config(cfg)"
   ]
  },
  {
   "cell_type": "code",
   "execution_count": 21,
   "id": "56e66fbb-dc27-436f-a43c-88805520867b",
   "metadata": {},
   "outputs": [
    {
     "data": {
      "application/vnd.jupyter.widget-view+json": {
       "model_id": "5bc59abbc34145d390c90364e5a662bf",
       "version_major": 2,
       "version_minor": 0
      },
      "text/plain": [
       "Loading Basins:   0%|          | 0/2 [00:00<?, ?it/s]"
      ]
     },
     "metadata": {},
     "output_type": "display_data"
    }
   ],
   "source": [
    "# reload(data)\n",
    "from data import TAPDataset\n",
    "\n",
    "dataset = TAPDataset(cfg)"
   ]
  },
  {
   "cell_type": "code",
   "execution_count": 22,
   "id": "03370777-70fd-4525-bcf8-4e7bab4114ed",
   "metadata": {},
   "outputs": [
    {
     "name": "stdout",
     "output_type": "stream",
     "text": [
      "Dataloader using 0 parallel CPU worker(s).\n",
      "Batch sharding set to 1 cpu(s)\n"
     ]
    },
    {
     "data": {
      "application/vnd.jupyter.widget-view+json": {
       "model_id": "c412b3238b684684b95dedbdc9afac41",
       "version_major": 2,
       "version_minor": 0
      },
      "text/plain": [
       "Epoch:001:   0%|          | 0/8 [00:00<?, ?it/s]"
      ]
     },
     "metadata": {},
     "output_type": "display_data"
    },
    {
     "data": {
      "application/vnd.jupyter.widget-view+json": {
       "model_id": "3911d35127194d15a2c55a3dc68ed87b",
       "version_major": 2,
       "version_minor": 0
      },
      "text/plain": [
       "Epoch:002:   0%|          | 0/8 [00:00<?, ?it/s]"
      ]
     },
     "metadata": {},
     "output_type": "display_data"
    },
    {
     "data": {
      "application/vnd.jupyter.widget-view+json": {
       "model_id": "da8653eea6d6407faada74f9962aea4d",
       "version_major": 2,
       "version_minor": 0
      },
      "text/plain": [
       "Epoch:003:   0%|          | 0/8 [00:00<?, ?it/s]"
      ]
     },
     "metadata": {},
     "output_type": "display_data"
    },
    {
     "data": {
      "application/vnd.jupyter.widget-view+json": {
       "model_id": "ac07f130c3a04e30bfe8761f5fd99324",
       "version_major": 2,
       "version_minor": 0
      },
      "text/plain": [
       "Epoch:004:   0%|          | 0/8 [00:00<?, ?it/s]"
      ]
     },
     "metadata": {},
     "output_type": "display_data"
    },
    {
     "data": {
      "application/vnd.jupyter.widget-view+json": {
       "model_id": "be5ce8fc095d4ae8bfd5d50bf0ba5ef1",
       "version_major": 2,
       "version_minor": 0
      },
      "text/plain": [
       "Epoch:005:   0%|          | 0/8 [00:00<?, ?it/s]"
      ]
     },
     "metadata": {},
     "output_type": "display_data"
    },
    {
     "data": {
      "application/vnd.jupyter.widget-view+json": {
       "model_id": "981d7aabfdb64eec90005b4d8c90c5b1",
       "version_major": 2,
       "version_minor": 0
      },
      "text/plain": [
       "Epoch:006:   0%|          | 0/8 [00:00<?, ?it/s]"
      ]
     },
     "metadata": {},
     "output_type": "display_data"
    },
    {
     "data": {
      "application/vnd.jupyter.widget-view+json": {
       "model_id": "3a03ab6d550343b0a28e2f1e9907ee85",
       "version_major": 2,
       "version_minor": 0
      },
      "text/plain": [
       "Epoch:007:   0%|          | 0/8 [00:00<?, ?it/s]"
      ]
     },
     "metadata": {},
     "output_type": "display_data"
    },
    {
     "data": {
      "application/vnd.jupyter.widget-view+json": {
       "model_id": "394252497d00452d96e8232f6d022e8c",
       "version_major": 2,
       "version_minor": 0
      },
      "text/plain": [
       "Epoch:008:   0%|          | 0/8 [00:00<?, ?it/s]"
      ]
     },
     "metadata": {},
     "output_type": "display_data"
    },
    {
     "data": {
      "application/vnd.jupyter.widget-view+json": {
       "model_id": "c4261278a70b4d0280c329375491128e",
       "version_major": 2,
       "version_minor": 0
      },
      "text/plain": [
       "Epoch:009:   0%|          | 0/8 [00:00<?, ?it/s]"
      ]
     },
     "metadata": {},
     "output_type": "display_data"
    },
    {
     "data": {
      "application/vnd.jupyter.widget-view+json": {
       "model_id": "fe1dc41dc42347d4bfb1ea66e2129d5b",
       "version_major": 2,
       "version_minor": 0
      },
      "text/plain": [
       "Epoch:010:   0%|          | 0/8 [00:00<?, ?it/s]"
      ]
     },
     "metadata": {},
     "output_type": "display_data"
    },
    {
     "data": {
      "application/vnd.jupyter.widget-view+json": {
       "model_id": "3837bf14b7414c13b4c1c829c028844a",
       "version_major": 2,
       "version_minor": 0
      },
      "text/plain": [
       "Epoch:011:   0%|          | 0/8 [00:00<?, ?it/s]"
      ]
     },
     "metadata": {},
     "output_type": "display_data"
    },
    {
     "data": {
      "application/vnd.jupyter.widget-view+json": {
       "model_id": "7b01ae9d64ba4966af26f5c1f2f81e08",
       "version_major": 2,
       "version_minor": 0
      },
      "text/plain": [
       "Epoch:012:   0%|          | 0/8 [00:00<?, ?it/s]"
      ]
     },
     "metadata": {},
     "output_type": "display_data"
    },
    {
     "data": {
      "application/vnd.jupyter.widget-view+json": {
       "model_id": "b7eb96e171584417ac5b6d671a346a2f",
       "version_major": 2,
       "version_minor": 0
      },
      "text/plain": [
       "Epoch:013:   0%|          | 0/8 [00:00<?, ?it/s]"
      ]
     },
     "metadata": {},
     "output_type": "display_data"
    },
    {
     "data": {
      "application/vnd.jupyter.widget-view+json": {
       "model_id": "ad109c864ac5437d85ecba205e908cc7",
       "version_major": 2,
       "version_minor": 0
      },
      "text/plain": [
       "Epoch:014:   0%|          | 0/8 [00:00<?, ?it/s]"
      ]
     },
     "metadata": {},
     "output_type": "display_data"
    },
    {
     "name": "stdout",
     "output_type": "stream",
     "text": [
      "Training finished or interrupted. Model state saved.\n"
     ]
    },
    {
     "data": {
      "image/png": "[encoded data removed]",
      "text/plain": [
       "<Figure size 640x480 with 1 Axes>"
      ]
     },
     "metadata": {},
     "output_type": "display_data"
    }
   ],
   "source": [
    "# reload(data)\n",
    "from data import TAPDataLoader\n",
    "\n",
    "reload(train)\n",
    "from train import Trainer\n",
    "\n",
    "# Specific to Transformer\n",
    "cfg['model_args']['dynamic_in_size'] = len(dataset.daily_features) + len(dataset.irregular_features)\n",
    "cfg['model_args']['static_in_size'] = len(dataset.static_features)\n",
    "cfg['model_args']['max_length'] = cfg['sequence_length']\n",
    "\n",
    "dataloader = TAPDataLoader(cfg, dataset)\n",
    "trainer = Trainer(cfg, dataloader)\n",
    "trainer.start_training()\n"
   ]
  },
  {
   "cell_type": "code",
   "execution_count": 46,
   "id": "bc4ccab1-b2ae-4e7b-9be9-2d0dfaf26cf5",
   "metadata": {},
   "outputs": [
    {
     "data": {
      "text/plain": [
       "ScaleByAdamState(count=Array(1673, dtype=int32), mu=EATransformer(\n",
       "  encoder=Encoder(\n",
       "    embedder_block=EmbedderBlock(\n",
       "      daily_embedder=Linear(\n",
       "        weight=f32[256,1],\n",
       "        bias=f32[256],\n",
       "        in_features=1,\n",
       "        out_features=256,\n",
       "        use_bias=True\n",
       "      ),\n",
       "      irregular_embedder=Linear(\n",
       "        weight=f32[256,6],\n",
       "        bias=f32[256],\n",
       "        in_features=6,\n",
       "        out_features=256,\n",
       "        use_bias=True\n",
       "      ),\n",
       "      position_embedder=Embedding(\n",
       "        num_embeddings=30,\n",
       "        embedding_size=256,\n",
       "        weight=f32[30,256]\n",
       "      ),\n",
       "      layernorm=LayerNorm(\n",
       "        shape=(256,),\n",
       "        eps=1e-05,\n",
       "        use_weight=True,\n",
       "        use_bias=True,\n",
       "        weight=f32[256],\n",
       "        bias=f32[256]\n",
       "      ),\n",
       "      dropout=Dropout(p=None, inference=None)\n",
       "    ),\n",
       "    layers=[\n",
       "      TransformerLayer(\n",
       "        attention_block=AttentionBlock(\n",
       "          attention=MultiheadAttention(\n",
       "            query_proj=Linear(\n",
       "              weight=f32[256,256],\n",
       "              bias=None,\n",
       "              in_features=256,\n",
       "              out_features=256,\n",
       "              use_bias=False\n",
       "            ),\n",
       "            key_proj=Linear(\n",
       "              weight=f32[256,256],\n",
       "              bias=None,\n",
       "              in_features=256,\n",
       "              out_features=256,\n",
       "              use_bias=False\n",
       "            ),\n",
       "            value_proj=Linear(\n",
       "              weight=f32[256,256],\n",
       "              bias=None,\n",
       "              in_features=256,\n",
       "              out_features=256,\n",
       "              use_bias=False\n",
       "            ),\n",
       "            output_proj=Linear(\n",
       "              weight=f32[256,256],\n",
       "              bias=None,\n",
       "              in_features=256,\n",
       "              out_features=256,\n",
       "              use_bias=False\n",
       "            ),\n",
       "            dropout=Dropout(p=None, inference=None),\n",
       "            num_heads=8,\n",
       "            query_size=256,\n",
       "            key_size=256,\n",
       "            value_size=256,\n",
       "            output_size=256,\n",
       "            qk_size=32,\n",
       "            vo_size=32,\n",
       "            use_query_bias=False,\n",
       "            use_key_bias=False,\n",
       "            use_value_bias=False,\n",
       "            use_output_bias=False\n",
       "          ),\n",
       "          layernorm=LayerNorm(\n",
       "            shape=(256,),\n",
       "            eps=1e-05,\n",
       "            use_weight=True,\n",
       "            use_bias=True,\n",
       "            weight=f32[256],\n",
       "            bias=f32[256]\n",
       "          ),\n",
       "          static_linear=Linear(\n",
       "            weight=f32[256,187],\n",
       "            bias=f32[256],\n",
       "            in_features=187,\n",
       "            out_features=256,\n",
       "            use_bias=True\n",
       "          ),\n",
       "          dropout=Dropout(p=None, inference=None)\n",
       "        ),\n",
       "        ff_block=FeedForwardBlock(\n",
       "          mlp=Linear(\n",
       "            weight=f32[512,256],\n",
       "            bias=f32[512],\n",
       "            in_features=256,\n",
       "            out_features=512,\n",
       "            use_bias=True\n",
       "          ),\n",
       "          output=Linear(\n",
       "            weight=f32[256,512],\n",
       "            bias=f32[256],\n",
       "            in_features=512,\n",
       "            out_features=256,\n",
       "            use_bias=True\n",
       "          ),\n",
       "          layernorm=LayerNorm(\n",
       "            shape=(256,),\n",
       "            eps=1e-05,\n",
       "            use_weight=True,\n",
       "            use_bias=True,\n",
       "            weight=f32[256],\n",
       "            bias=f32[256]\n",
       "          ),\n",
       "          dropout=Dropout(p=None, inference=None)\n",
       "        )\n",
       "      ),\n",
       "      TransformerLayer(\n",
       "        attention_block=AttentionBlock(\n",
       "          attention=MultiheadAttention(\n",
       "            query_proj=Linear(\n",
       "              weight=f32[256,256],\n",
       "              bias=None,\n",
       "              in_features=256,\n",
       "              out_features=256,\n",
       "              use_bias=False\n",
       "            ),\n",
       "            key_proj=Linear(\n",
       "              weight=f32[256,256],\n",
       "              bias=None,\n",
       "              in_features=256,\n",
       "              out_features=256,\n",
       "              use_bias=False\n",
       "            ),\n",
       "            value_proj=Linear(\n",
       "              weight=f32[256,256],\n",
       "              bias=None,\n",
       "              in_features=256,\n",
       "              out_features=256,\n",
       "              use_bias=False\n",
       "            ),\n",
       "            output_proj=Linear(\n",
       "              weight=f32[256,256],\n",
       "              bias=None,\n",
       "              in_features=256,\n",
       "              out_features=256,\n",
       "              use_bias=False\n",
       "            ),\n",
       "            dropout=Dropout(p=None, inference=None),\n",
       "            num_heads=8,\n",
       "            query_size=256,\n",
       "            key_size=256,\n",
       "            value_size=256,\n",
       "            output_size=256,\n",
       "            qk_size=32,\n",
       "            vo_size=32,\n",
       "            use_query_bias=False,\n",
       "            use_key_bias=False,\n",
       "            use_value_bias=False,\n",
       "            use_output_bias=False\n",
       "          ),\n",
       "          layernorm=LayerNorm(\n",
       "            shape=(256,),\n",
       "            eps=1e-05,\n",
       "            use_weight=True,\n",
       "            use_bias=True,\n",
       "            weight=f32[256],\n",
       "            bias=f32[256]\n",
       "          ),\n",
       "          static_linear=Linear(\n",
       "            weight=f32[256,187],\n",
       "            bias=f32[256],\n",
       "            in_features=187,\n",
       "            out_features=256,\n",
       "            use_bias=True\n",
       "          ),\n",
       "          dropout=Dropout(p=None, inference=None)\n",
       "        ),\n",
       "        ff_block=FeedForwardBlock(\n",
       "          mlp=Linear(\n",
       "            weight=f32[512,256],\n",
       "            bias=f32[512],\n",
       "            in_features=256,\n",
       "            out_features=512,\n",
       "            use_bias=True\n",
       "          ),\n",
       "          output=Linear(\n",
       "            weight=f32[256,512],\n",
       "            bias=f32[256],\n",
       "            in_features=512,\n",
       "            out_features=256,\n",
       "            use_bias=True\n",
       "          ),\n",
       "          layernorm=LayerNorm(\n",
       "            shape=(256,),\n",
       "            eps=1e-05,\n",
       "            use_weight=True,\n",
       "            use_bias=True,\n",
       "            weight=f32[256],\n",
       "            bias=f32[256]\n",
       "          ),\n",
       "          dropout=Dropout(p=None, inference=None)\n",
       "        )\n",
       "      )\n",
       "    ],\n",
       "    pooler=Linear(\n",
       "      weight=f32[256,256],\n",
       "      bias=f32[256],\n",
       "      in_features=256,\n",
       "      out_features=256,\n",
       "      use_bias=True\n",
       "    )\n",
       "  ),\n",
       "  head=Linear(\n",
       "    weight=f32[1,256],\n",
       "    bias=f32[1],\n",
       "    in_features=256,\n",
       "    out_features=1,\n",
       "    use_bias=True\n",
       "  )\n",
       "), nu=EATransformer(\n",
       "  encoder=Encoder(\n",
       "    embedder_block=EmbedderBlock(\n",
       "      daily_embedder=Linear(\n",
       "        weight=f32[256,1],\n",
       "        bias=f32[256],\n",
       "        in_features=1,\n",
       "        out_features=256,\n",
       "        use_bias=True\n",
       "      ),\n",
       "      irregular_embedder=Linear(\n",
       "        weight=f32[256,6],\n",
       "        bias=f32[256],\n",
       "        in_features=6,\n",
       "        out_features=256,\n",
       "        use_bias=True\n",
       "      ),\n",
       "      position_embedder=Embedding(\n",
       "        num_embeddings=30,\n",
       "        embedding_size=256,\n",
       "        weight=f32[30,256]\n",
       "      ),\n",
       "      layernorm=LayerNorm(\n",
       "        shape=(256,),\n",
       "        eps=1e-05,\n",
       "        use_weight=True,\n",
       "        use_bias=True,\n",
       "        weight=f32[256],\n",
       "        bias=f32[256]\n",
       "      ),\n",
       "      dropout=Dropout(p=None, inference=None)\n",
       "    ),\n",
       "    layers=[\n",
       "      TransformerLayer(\n",
       "        attention_block=AttentionBlock(\n",
       "          attention=MultiheadAttention(\n",
       "            query_proj=Linear(\n",
       "              weight=f32[256,256],\n",
       "              bias=None,\n",
       "              in_features=256,\n",
       "              out_features=256,\n",
       "              use_bias=False\n",
       "            ),\n",
       "            key_proj=Linear(\n",
       "              weight=f32[256,256],\n",
       "              bias=None,\n",
       "              in_features=256,\n",
       "              out_features=256,\n",
       "              use_bias=False\n",
       "            ),\n",
       "            value_proj=Linear(\n",
       "              weight=f32[256,256],\n",
       "              bias=None,\n",
       "              in_features=256,\n",
       "              out_features=256,\n",
       "              use_bias=False\n",
       "            ),\n",
       "            output_proj=Linear(\n",
       "              weight=f32[256,256],\n",
       "              bias=None,\n",
       "              in_features=256,\n",
       "              out_features=256,\n",
       "              use_bias=False\n",
       "            ),\n",
       "            dropout=Dropout(p=None, inference=None),\n",
       "            num_heads=8,\n",
       "            query_size=256,\n",
       "            key_size=256,\n",
       "            value_size=256,\n",
       "            output_size=256,\n",
       "            qk_size=32,\n",
       "            vo_size=32,\n",
       "            use_query_bias=False,\n",
       "            use_key_bias=False,\n",
       "            use_value_bias=False,\n",
       "            use_output_bias=False\n",
       "          ),\n",
       "          layernorm=LayerNorm(\n",
       "            shape=(256,),\n",
       "            eps=1e-05,\n",
       "            use_weight=True,\n",
       "            use_bias=True,\n",
       "            weight=f32[256],\n",
       "            bias=f32[256]\n",
       "          ),\n",
       "          static_linear=Linear(\n",
       "            weight=f32[256,187],\n",
       "            bias=f32[256],\n",
       "            in_features=187,\n",
       "            out_features=256,\n",
       "            use_bias=True\n",
       "          ),\n",
       "          dropout=Dropout(p=None, inference=None)\n",
       "        ),\n",
       "        ff_block=FeedForwardBlock(\n",
       "          mlp=Linear(\n",
       "            weight=f32[512,256],\n",
       "            bias=f32[512],\n",
       "            in_features=256,\n",
       "            out_features=512,\n",
       "            use_bias=True\n",
       "          ),\n",
       "          output=Linear(\n",
       "            weight=f32[256,512],\n",
       "            bias=f32[256],\n",
       "            in_features=512,\n",
       "            out_features=256,\n",
       "            use_bias=True\n",
       "          ),\n",
       "          layernorm=LayerNorm(\n",
       "            shape=(256,),\n",
       "            eps=1e-05,\n",
       "            use_weight=True,\n",
       "            use_bias=True,\n",
       "            weight=f32[256],\n",
       "            bias=f32[256]\n",
       "          ),\n",
       "          dropout=Dropout(p=None, inference=None)\n",
       "        )\n",
       "      ),\n",
       "      TransformerLayer(\n",
       "        attention_block=AttentionBlock(\n",
       "          attention=MultiheadAttention(\n",
       "            query_proj=Linear(\n",
       "              weight=f32[256,256],\n",
       "              bias=None,\n",
       "              in_features=256,\n",
       "              out_features=256,\n",
       "              use_bias=False\n",
       "            ),\n",
       "            key_proj=Linear(\n",
       "              weight=f32[256,256],\n",
       "              bias=None,\n",
       "              in_features=256,\n",
       "              out_features=256,\n",
       "              use_bias=False\n",
       "            ),\n",
       "            value_proj=Linear(\n",
       "              weight=f32[256,256],\n",
       "              bias=None,\n",
       "              in_features=256,\n",
       "              out_features=256,\n",
       "              use_bias=False\n",
       "            ),\n",
       "            output_proj=Linear(\n",
       "              weight=f32[256,256],\n",
       "              bias=None,\n",
       "              in_features=256,\n",
       "              out_features=256,\n",
       "              use_bias=False\n",
       "            ),\n",
       "            dropout=Dropout(p=None, inference=None),\n",
       "            num_heads=8,\n",
       "            query_size=256,\n",
       "            key_size=256,\n",
       "            value_size=256,\n",
       "            output_size=256,\n",
       "            qk_size=32,\n",
       "            vo_size=32,\n",
       "            use_query_bias=False,\n",
       "            use_key_bias=False,\n",
       "            use_value_bias=False,\n",
       "            use_output_bias=False\n",
       "          ),\n",
       "          layernorm=LayerNorm(\n",
       "            shape=(256,),\n",
       "            eps=1e-05,\n",
       "            use_weight=True,\n",
       "            use_bias=True,\n",
       "            weight=f32[256],\n",
       "            bias=f32[256]\n",
       "          ),\n",
       "          static_linear=Linear(\n",
       "            weight=f32[256,187],\n",
       "            bias=f32[256],\n",
       "            in_features=187,\n",
       "            out_features=256,\n",
       "            use_bias=True\n",
       "          ),\n",
       "          dropout=Dropout(p=None, inference=None)\n",
       "        ),\n",
       "        ff_block=FeedForwardBlock(\n",
       "          mlp=Linear(\n",
       "            weight=f32[512,256],\n",
       "            bias=f32[512],\n",
       "            in_features=256,\n",
       "            out_features=512,\n",
       "            use_bias=True\n",
       "          ),\n",
       "          output=Linear(\n",
       "            weight=f32[256,512],\n",
       "            bias=f32[256],\n",
       "            in_features=512,\n",
       "            out_features=256,\n",
       "            use_bias=True\n",
       "          ),\n",
       "          layernorm=LayerNorm(\n",
       "            shape=(256,),\n",
       "            eps=1e-05,\n",
       "            use_weight=True,\n",
       "            use_bias=True,\n",
       "            weight=f32[256],\n",
       "            bias=f32[256]\n",
       "          ),\n",
       "          dropout=Dropout(p=None, inference=None)\n",
       "        )\n",
       "      )\n",
       "    ],\n",
       "    pooler=Linear(\n",
       "      weight=f32[256,256],\n",
       "      bias=f32[256],\n",
       "      in_features=256,\n",
       "      out_features=256,\n",
       "      use_bias=True\n",
       "    )\n",
       "  ),\n",
       "  head=Linear(\n",
       "    weight=f32[1,256],\n",
       "    bias=f32[1],\n",
       "    in_features=256,\n",
       "    out_features=1,\n",
       "    use_bias=True\n",
       "  )\n",
       "))"
      ]
     },
     "execution_count": 46,
     "metadata": {},
     "output_type": "execute_result"
    }
   ],
   "source": [
    "trainer.opt_state[0].mu.encoder.embedder_block.daily_embedder.weight\n",
    "trainer.opt_state[0]"
   ]
  },
  {
   "cell_type": "code",
   "execution_count": null,
   "id": "dfe339df-1e23-4067-9107-a774c6884a2f",
   "metadata": {},
   "outputs": [],
   "source": [
    "import optax\n",
    "\n",
    "more_epochs = 150\n",
    "\n",
    "trainer.load_state('epoch100')\n",
    "loader_args['data_subset'] = 'train'\n",
    "trainer.dataloader = TAPDataLoader(dataset, **loader_args)\n",
    "trainer.lr_schedule = optax.exponential_decay(0.01, trainer.epoch+more_epochs, 0.001, transition_begin=trainer.epoch)\n",
    "trainer.num_epochs += more_epochs\n",
    "trainer.freeze_components('tealstm_i',True)\n",
    "trainer.start_training() "
   ]
  },
  {
   "cell_type": "code",
   "execution_count": null,
   "id": "e0777957-11f3-49db-b4a4-67d729527ece",
   "metadata": {},
   "outputs": [],
   "source": [
    "lr_schedule = optax.exponential_decay(0.01, trainer.epoch+num_epochs, 0.001, transition_begin=trainer.epoch)\n",
    "x = np.linspace(0,num_epochs*2)\n",
    "y = lr_schedule(x)\n",
    "plt.plot(x,y)"
   ]
  },
  {
   "cell_type": "code",
   "execution_count": 23,
   "id": "7f9ca8c8-9369-4020-8b90-a935d979b87d",
   "metadata": {},
   "outputs": [
    {
     "name": "stdout",
     "output_type": "stream",
     "text": [
      "Dataloader using 0 parallel CPU worker(s).\n",
      "Batch sharding set to 1 cpu(s)\n"
     ]
    },
    {
     "data": {
      "application/vnd.jupyter.widget-view+json": {
       "model_id": "5777fa3f41384f99a9ff7d782164297e",
       "version_major": 2,
       "version_minor": 0
      },
      "text/plain": [
       "  0%|          | 0/205 [00:00<?, ?it/s]"
      ]
     },
     "metadata": {},
     "output_type": "display_data"
    },
    {
     "data": {
      "text/plain": [
       "{'mae': 0.014445226,\n",
       " 'mse': 0.0006026662,\n",
       " 'rmse': 0.02454926,\n",
       " 'kge': 0.14056879117188037,\n",
       " 'nse': -9.538877487182617}"
      ]
     },
     "execution_count": 23,
     "metadata": {},
     "output_type": "execute_result"
    }
   ],
   "source": [
    "reload(evaluate)\n",
    "from evaluate import predict, get_all_metrics\n",
    "\n",
    "basin = np.random.choice(dataset.basins).tolist()\n",
    "\n",
    "test_cfg = cfg\n",
    "test_cfg['data_subset'] = 'test'\n",
    "test_cfg['basin_subset'] =  basin\n",
    "test_cfg['num_workers'] = 0 # Faster for small runs\n",
    "dataloader = TAPDataLoader(test_cfg, dataset)\n",
    "\n",
    "results = predict(trainer.model, dataloader, seed=0, denormalize=True)\n",
    "results['pred'] = results['pred'] * (results['pred']>0) #Clip predictions to 0\n",
    "metrics = get_all_metrics(results['obs'],results['pred'])\n",
    "metrics"
   ]
  },
  {
   "cell_type": "code",
   "execution_count": 24,
   "id": "4e119cc9-dc63-411f-a3a8-0a17c5865b01",
   "metadata": {},
   "outputs": [
    {
     "data": {
      "image/png": "[encoded data removed]",
      "text/plain": [
       "<Figure size 1200x600 with 1 Axes>"
      ]
     },
     "metadata": {},
     "output_type": "display_data"
    }
   ],
   "source": [
    "# Plot the true values and predictions\n",
    "fig, ax = plt.subplots(figsize=(12, 6))\n",
    "results['pred'].plot(ax=ax)\n",
    "results['obs'].plot(ax=ax,linestyle='None',marker='.')\n",
    "\n",
    "metrics = get_all_metrics(results['obs'],results['pred'])\n",
    "\n",
    "plt.title(f\"Basin: {basin}, KGE: {metrics['kge']:0.4f}\")\n",
    "plt.legend()\n",
    "# plt.ylim([0,500])\n",
    "plt.show()"
   ]
  },
  {
   "cell_type": "code",
   "execution_count": null,
   "id": "58fec15c-904c-4b45-b531-f36c771772c5",
   "metadata": {},
   "outputs": [],
   "source": [
    "results.plot.scatter('obs','pred')\n",
    "plt.gca().axis('square')\n",
    "plt.xlim([0,20])\n",
    "plt.ylim([0,20])\n",
    "plt.show()"
   ]
  },
  {
   "cell_type": "code",
   "execution_count": null,
   "id": "a2dcf4b4-1d1b-49e1-af29-91faeb56590e",
   "metadata": {},
   "outputs": [],
   "source": []
  },
  {
   "cell_type": "code",
   "execution_count": null,
   "id": "3d973e14-3b94-4f55-b971-e7aebf7887e3",
   "metadata": {},
   "outputs": [],
   "source": []
  },
  {
   "cell_type": "code",
   "execution_count": null,
   "id": "cabe46d7-39ac-421b-94bd-cf015c31e282",
   "metadata": {},
   "outputs": [],
   "source": [
    "from train import make_step\n",
    "from tqdm.notebook import trange\n",
    "\n",
    "# See if we can recreate the error... \n",
    "data = trainer.load_state(\"exceptions/epoch130_exception0\")\n",
    "for i in trange(1000):\n",
    "    make_step(trainer.model, data['batch'], trainer.opt_state, trainer.optim,\n",
    "              trainer.filter_spec, loss_name=\"mse\", max_grad_norm=None, l2_weight=None)"
   ]
  },
  {
   "cell_type": "code",
   "execution_count": null,
   "id": "73b4dcd7-9d86-4b5b-9334-b3bd2ff06494",
   "metadata": {},
   "outputs": [],
   "source": []
  }
 ],
 "metadata": {
  "kernelspec": {
   "display_name": "Python 3 (ipykernel)",
   "language": "python",
   "name": "python3"
  },
  "language_info": {
   "codemirror_mode": {
    "name": "ipython",
    "version": 3
   },
   "file_extension": ".py",
   "mimetype": "text/x-python",
   "name": "python",
   "nbconvert_exporter": "python",
   "pygments_lexer": "ipython3",
   "version": "3.11.9"
  }
 },
 "nbformat": 4,
 "nbformat_minor": 5
}
