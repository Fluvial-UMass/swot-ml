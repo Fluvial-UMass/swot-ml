{
 "cells": [
  {
   "cell_type": "code",
   "execution_count": 1,
   "id": "d4c2f660-7607-4db7-975e-791971031c47",
   "metadata": {},
   "outputs": [],
   "source": [
    "# This is required to run multiple processes on Unity for some reason.\n",
    "from multiprocessing import set_start_method\n",
    "try:\n",
    "    set_start_method('spawn')\n",
    "except: #Throws if already set\n",
    "    pass\n",
    "\n",
    "import sys\n",
    "import pandas as pd\n",
    "import numpy as np\n",
    "import matplotlib.pyplot as plt\n",
    "import jax\n",
    "from pathlib import Path\n",
    "from importlib import reload\n",
    "\n",
    "src = str(Path('../src').resolve())\n",
    "if src not in sys.path:\n",
    "    sys.path.append(src)\n",
    "\n",
    "import config, data, models, train, evaluate"
   ]
  },
  {
   "cell_type": "code",
<<<<<<< Updated upstream
   "execution_count": 20,
=======
   "execution_count": 8,
   "id": "32887f43-8fee-4a25-b92d-411f92699926",
   "metadata": {},
   "outputs": [
    {
     "name": "stdout",
     "output_type": "stream",
     "text": [
      "2 2 2 2\n"
     ]
    }
   ],
   "source": [
    "print(*((2,)*4))"
   ]
  },
  {
   "cell_type": "code",
   "execution_count": 9,
>>>>>>> Stashed changes
   "id": "70b471c7-14d2-43cc-a948-7bc3d9f387de",
   "metadata": {},
   "outputs": [],
   "source": [
    "reload(config)\n",
    "from config import format_config\n",
    "\n",
    "cfg = {\n",
    "    # Data\n",
    "    \"data_dir\": \"../data/Sag\",\n",
    "    \"basin_file\": \"sites.txt\",\n",
    "    \"features\": {\"daily\": [\"gage_Q\"],\n",
    "                 \"irregular\": [\"Blue\", \"Green\", \"Red\", \"Nir\", \"Swir1\", \"Swir2\"],\n",
    "                 \"static\": None, # All are used when None\n",
    "                 \"target\": \"tss\"},\n",
    "    \"time_slice\": [\"1979-01-01\", \"2018-12-31\"], \n",
    "    \"split_time\": \"2010-01-01\",\n",
    "    \"sequence_length\": 30,\n",
    "    \"log_norm_cols\": [\"tss\",\"gage_Q\"],\n",
    "    \"clip_target_to_zero\": True,\n",
    "    \n",
    "    # DataLoader\n",
    "    \"shuffle\": True,\n",
    "    \"batch_size\": 8,\n",
    "    \"data_subset\": \"train\",\n",
    "    \"num_workers\": 0,\n",
    "    \"pin_memory\": True,\n",
    "    \"drop_last\": True,\n",
    "    \n",
    "    # Model\n",
    "    \"model\": \"eatransformer\",\n",
    "    \"model_args\": {\"hidden_size\": 16,\n",
    "                   \"intermediate_size\": 16,\n",
    "                   \"num_layers\": 1,\n",
    "                   \"num_heads\": 1,\n",
    "                   \"dropout_p\": 0.1,\n",
    "                   \"seed\": 0}, \n",
    "    \n",
    "    # Trainer\n",
    "    \"num_epochs\": 15,\n",
    "    \"initial_lr\": 0.01,\n",
    "    \"decay_rate\": 0.01,\n",
    "    \"step_kwargs\":{\"loss\": \"mse\",\n",
    "                   \"max_grad_norm\": 2}, \n",
    "    \n",
    "    # Outputs\n",
    "    \"quiet\": False,  # Use to declutter the slurm output (removes tqdm)\n",
    "    \"log\": False,\n",
    "    \"log_interval\": 5\n",
    "}\n",
    "cfg = format_config(cfg)"
   ]
  },
  {
   "cell_type": "code",
<<<<<<< Updated upstream
   "execution_count": 21,
=======
   "execution_count": 10,
>>>>>>> Stashed changes
   "id": "56e66fbb-dc27-436f-a43c-88805520867b",
   "metadata": {},
   "outputs": [
    {
     "data": {
      "application/vnd.jupyter.widget-view+json": {
<<<<<<< Updated upstream
       "model_id": "5bc59abbc34145d390c90364e5a662bf",
=======
       "model_id": "206901ded24548ec8118a9030b9a239d",
>>>>>>> Stashed changes
       "version_major": 2,
       "version_minor": 0
      },
      "text/plain": [
       "Loading Basins:   0%|          | 0/2 [00:00<?, ?it/s]"
      ]
     },
     "metadata": {},
     "output_type": "display_data"
    }
   ],
   "source": [
    "# reload(data)\n",
    "from data import TAPDataset\n",
    "\n",
    "dataset = TAPDataset(cfg)"
   ]
  },
  {
   "cell_type": "code",
<<<<<<< Updated upstream
   "execution_count": 22,
=======
   "execution_count": 16,
>>>>>>> Stashed changes
   "id": "03370777-70fd-4525-bcf8-4e7bab4114ed",
   "metadata": {},
   "outputs": [
    {
     "name": "stdout",
     "output_type": "stream",
     "text": [
      "Dataloader using 0 parallel CPU worker(s).\n",
      "Batch sharding set to 1 cpu(s)\n"
     ]
    },
    {
     "data": {
      "application/vnd.jupyter.widget-view+json": {
<<<<<<< Updated upstream
       "model_id": "c412b3238b684684b95dedbdc9afac41",
=======
       "model_id": "45c1fd9549d34c81bc3990df395a78bd",
>>>>>>> Stashed changes
       "version_major": 2,
       "version_minor": 0
      },
      "text/plain": [
       "Epoch:001:   0%|          | 0/17 [00:00<?, ?it/s]"
      ]
     },
     "metadata": {},
     "output_type": "display_data"
    },
    {
     "data": {
      "application/vnd.jupyter.widget-view+json": {
<<<<<<< Updated upstream
       "model_id": "3911d35127194d15a2c55a3dc68ed87b",
=======
       "model_id": "cc371d89ae364d51afc7ae6426d2ab1b",
>>>>>>> Stashed changes
       "version_major": 2,
       "version_minor": 0
      },
      "text/plain": [
       "Epoch:002:   0%|          | 0/17 [00:00<?, ?it/s]"
      ]
     },
     "metadata": {},
     "output_type": "display_data"
    },
    {
     "data": {
      "application/vnd.jupyter.widget-view+json": {
<<<<<<< Updated upstream
       "model_id": "da8653eea6d6407faada74f9962aea4d",
=======
       "model_id": "919f005d0a87485e812369e3ce54b75b",
>>>>>>> Stashed changes
       "version_major": 2,
       "version_minor": 0
      },
      "text/plain": [
       "Epoch:003:   0%|          | 0/17 [00:00<?, ?it/s]"
      ]
     },
     "metadata": {},
     "output_type": "display_data"
    },
    {
     "data": {
      "application/vnd.jupyter.widget-view+json": {
<<<<<<< Updated upstream
       "model_id": "ac07f130c3a04e30bfe8761f5fd99324",
=======
       "model_id": "510b2cb11cbc404c88d1e5bb0633dd61",
>>>>>>> Stashed changes
       "version_major": 2,
       "version_minor": 0
      },
      "text/plain": [
       "Epoch:004:   0%|          | 0/17 [00:00<?, ?it/s]"
      ]
     },
     "metadata": {},
     "output_type": "display_data"
    },
    {
     "data": {
      "application/vnd.jupyter.widget-view+json": {
<<<<<<< Updated upstream
       "model_id": "be5ce8fc095d4ae8bfd5d50bf0ba5ef1",
=======
       "model_id": "3698b9ec20ca4d1c8dd2b16dbcf967b3",
>>>>>>> Stashed changes
       "version_major": 2,
       "version_minor": 0
      },
      "text/plain": [
       "Epoch:005:   0%|          | 0/17 [00:00<?, ?it/s]"
      ]
     },
     "metadata": {},
     "output_type": "display_data"
    },
    {
     "data": {
      "application/vnd.jupyter.widget-view+json": {
<<<<<<< Updated upstream
       "model_id": "981d7aabfdb64eec90005b4d8c90c5b1",
=======
       "model_id": "f1171e57f1db4bf6b86bc72fcaaec1a9",
>>>>>>> Stashed changes
       "version_major": 2,
       "version_minor": 0
      },
      "text/plain": [
       "Epoch:006:   0%|          | 0/17 [00:00<?, ?it/s]"
      ]
     },
     "metadata": {},
     "output_type": "display_data"
    },
    {
     "data": {
      "application/vnd.jupyter.widget-view+json": {
<<<<<<< Updated upstream
       "model_id": "3a03ab6d550343b0a28e2f1e9907ee85",
=======
       "model_id": "09044cc4ea1a4fac866068a2ed71f1db",
>>>>>>> Stashed changes
       "version_major": 2,
       "version_minor": 0
      },
      "text/plain": [
       "Epoch:007:   0%|          | 0/17 [00:00<?, ?it/s]"
      ]
     },
     "metadata": {},
     "output_type": "display_data"
    },
    {
     "data": {
      "application/vnd.jupyter.widget-view+json": {
<<<<<<< Updated upstream
       "model_id": "394252497d00452d96e8232f6d022e8c",
=======
       "model_id": "6ac56d8df20e4f2a90d8307341266f2a",
>>>>>>> Stashed changes
       "version_major": 2,
       "version_minor": 0
      },
      "text/plain": [
       "Epoch:008:   0%|          | 0/17 [00:00<?, ?it/s]"
      ]
     },
     "metadata": {},
     "output_type": "display_data"
    },
    {
     "data": {
      "application/vnd.jupyter.widget-view+json": {
<<<<<<< Updated upstream
       "model_id": "c4261278a70b4d0280c329375491128e",
=======
       "model_id": "e6b620f63e3e4a5f8c7f5def63d20281",
>>>>>>> Stashed changes
       "version_major": 2,
       "version_minor": 0
      },
      "text/plain": [
       "Epoch:009:   0%|          | 0/17 [00:00<?, ?it/s]"
      ]
     },
     "metadata": {},
     "output_type": "display_data"
    },
    {
     "data": {
      "application/vnd.jupyter.widget-view+json": {
<<<<<<< Updated upstream
       "model_id": "fe1dc41dc42347d4bfb1ea66e2129d5b",
=======
       "model_id": "406abe43fe4047368ca1c0af1505b086",
>>>>>>> Stashed changes
       "version_major": 2,
       "version_minor": 0
      },
      "text/plain": [
       "Epoch:010:   0%|          | 0/17 [00:00<?, ?it/s]"
      ]
     },
     "metadata": {},
     "output_type": "display_data"
    },
    {
     "data": {
      "application/vnd.jupyter.widget-view+json": {
<<<<<<< Updated upstream
       "model_id": "3837bf14b7414c13b4c1c829c028844a",
=======
       "model_id": "74e846875cc74d90bbf9ac34ffd21cf5",
>>>>>>> Stashed changes
       "version_major": 2,
       "version_minor": 0
      },
      "text/plain": [
       "Epoch:011:   0%|          | 0/17 [00:00<?, ?it/s]"
      ]
     },
     "metadata": {},
     "output_type": "display_data"
    },
    {
     "data": {
      "application/vnd.jupyter.widget-view+json": {
<<<<<<< Updated upstream
       "model_id": "7b01ae9d64ba4966af26f5c1f2f81e08",
=======
       "model_id": "910e30b9615a411abb507615289117ba",
>>>>>>> Stashed changes
       "version_major": 2,
       "version_minor": 0
      },
      "text/plain": [
       "Epoch:012:   0%|          | 0/17 [00:00<?, ?it/s]"
      ]
     },
     "metadata": {},
     "output_type": "display_data"
    },
    {
     "data": {
      "application/vnd.jupyter.widget-view+json": {
<<<<<<< Updated upstream
       "model_id": "b7eb96e171584417ac5b6d671a346a2f",
=======
       "model_id": "74fcb897269b4d7f9c012d30388384e9",
>>>>>>> Stashed changes
       "version_major": 2,
       "version_minor": 0
      },
      "text/plain": [
       "Epoch:013:   0%|          | 0/17 [00:00<?, ?it/s]"
      ]
     },
     "metadata": {},
     "output_type": "display_data"
    },
    {
     "data": {
      "application/vnd.jupyter.widget-view+json": {
<<<<<<< Updated upstream
       "model_id": "ad109c864ac5437d85ecba205e908cc7",
=======
       "model_id": "2041819c33b94f19bcd7ed8b517da9e5",
>>>>>>> Stashed changes
       "version_major": 2,
       "version_minor": 0
      },
      "text/plain": [
       "Epoch:014:   0%|          | 0/17 [00:00<?, ?it/s]"
      ]
     },
     "metadata": {},
     "output_type": "display_data"
    },
    {
<<<<<<< Updated upstream
=======
     "name": "stdout",
     "output_type": "stream",
     "text": [
      "vanishing gradients detected:\n",
      "\t.i_encoder.layers[0].attention_block.attention.query_proj.weight: 1\n",
      "\t.i_encoder.layers[0].attention_block.attention.key_proj.weight: 1\n",
      "\t.decoder.layers[0].attention_block.attention.query_proj.weight: 1\n",
      "\t.decoder.layers[0].attention_block.attention.key_proj.weight: 1\n"
     ]
    },
    {
     "data": {
      "application/vnd.jupyter.widget-view+json": {
       "model_id": "f9504bc076fc4236aa65dfd76bbbec9d",
       "version_major": 2,
       "version_minor": 0
      },
      "text/plain": [
       "Epoch:015:   0%|          | 0/17 [00:00<?, ?it/s]"
      ]
     },
     "metadata": {},
     "output_type": "display_data"
    },
    {
>>>>>>> Stashed changes
     "name": "stdout",
     "output_type": "stream",
     "text": [
      "Training finished or interrupted. Model state saved.\n"
     ]
    },
    {
     "data": {
<<<<<<< Updated upstream
      "image/png": "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",
=======
      "image/png": "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",
>>>>>>> Stashed changes
      "text/plain": [
       "<Figure size 640x480 with 1 Axes>"
      ]
     },
     "metadata": {},
     "output_type": "display_data"
    }
   ],
   "source": [
    "# reload(data)\n",
    "from data import TAPDataLoader\n",
    "\n",
    "reload(train)\n",
    "from train import Trainer\n",
    "\n",
    "# Specific to Transformer\n",
    "cfg['model_args']['daily_in_size'] = len(dataset.daily_features) \n",
    "cfg['model_args']['irregular_in_size'] = len(dataset.irregular_features)\n",
    "cfg['model_args']['static_in_size'] = len(dataset.static_features)\n",
    "cfg['model_args']['seq_length'] = cfg['sequence_length']\n",
    "\n",
    "dataloader = TAPDataLoader(cfg, dataset)\n",
    "trainer = Trainer(cfg, dataloader)\n",
    "trainer.start_training()\n"
   ]
  },
  {
   "cell_type": "code",
<<<<<<< Updated upstream
   "execution_count": 46,
   "id": "bc4ccab1-b2ae-4e7b-9be9-2d0dfaf26cf5",
   "metadata": {},
   "outputs": [
    {
     "data": {
      "text/plain": [
       "ScaleByAdamState(count=Array(1673, dtype=int32), mu=EATransformer(\n",
       "  encoder=Encoder(\n",
       "    embedder_block=EmbedderBlock(\n",
       "      daily_embedder=Linear(\n",
       "        weight=f32[256,1],\n",
       "        bias=f32[256],\n",
       "        in_features=1,\n",
       "        out_features=256,\n",
       "        use_bias=True\n",
       "      ),\n",
       "      irregular_embedder=Linear(\n",
       "        weight=f32[256,6],\n",
       "        bias=f32[256],\n",
       "        in_features=6,\n",
       "        out_features=256,\n",
       "        use_bias=True\n",
       "      ),\n",
       "      position_embedder=Embedding(\n",
       "        num_embeddings=30,\n",
       "        embedding_size=256,\n",
       "        weight=f32[30,256]\n",
       "      ),\n",
       "      layernorm=LayerNorm(\n",
       "        shape=(256,),\n",
       "        eps=1e-05,\n",
       "        use_weight=True,\n",
       "        use_bias=True,\n",
       "        weight=f32[256],\n",
       "        bias=f32[256]\n",
       "      ),\n",
       "      dropout=Dropout(p=None, inference=None)\n",
       "    ),\n",
       "    layers=[\n",
       "      TransformerLayer(\n",
       "        attention_block=AttentionBlock(\n",
       "          attention=MultiheadAttention(\n",
       "            query_proj=Linear(\n",
       "              weight=f32[256,256],\n",
       "              bias=None,\n",
       "              in_features=256,\n",
       "              out_features=256,\n",
       "              use_bias=False\n",
       "            ),\n",
       "            key_proj=Linear(\n",
       "              weight=f32[256,256],\n",
       "              bias=None,\n",
       "              in_features=256,\n",
       "              out_features=256,\n",
       "              use_bias=False\n",
       "            ),\n",
       "            value_proj=Linear(\n",
       "              weight=f32[256,256],\n",
       "              bias=None,\n",
       "              in_features=256,\n",
       "              out_features=256,\n",
       "              use_bias=False\n",
       "            ),\n",
       "            output_proj=Linear(\n",
       "              weight=f32[256,256],\n",
       "              bias=None,\n",
       "              in_features=256,\n",
       "              out_features=256,\n",
       "              use_bias=False\n",
       "            ),\n",
       "            dropout=Dropout(p=None, inference=None),\n",
       "            num_heads=8,\n",
       "            query_size=256,\n",
       "            key_size=256,\n",
       "            value_size=256,\n",
       "            output_size=256,\n",
       "            qk_size=32,\n",
       "            vo_size=32,\n",
       "            use_query_bias=False,\n",
       "            use_key_bias=False,\n",
       "            use_value_bias=False,\n",
       "            use_output_bias=False\n",
       "          ),\n",
       "          layernorm=LayerNorm(\n",
       "            shape=(256,),\n",
       "            eps=1e-05,\n",
       "            use_weight=True,\n",
       "            use_bias=True,\n",
       "            weight=f32[256],\n",
       "            bias=f32[256]\n",
       "          ),\n",
       "          static_linear=Linear(\n",
       "            weight=f32[256,187],\n",
       "            bias=f32[256],\n",
       "            in_features=187,\n",
       "            out_features=256,\n",
       "            use_bias=True\n",
       "          ),\n",
       "          dropout=Dropout(p=None, inference=None)\n",
       "        ),\n",
       "        ff_block=FeedForwardBlock(\n",
       "          mlp=Linear(\n",
       "            weight=f32[512,256],\n",
       "            bias=f32[512],\n",
       "            in_features=256,\n",
       "            out_features=512,\n",
       "            use_bias=True\n",
       "          ),\n",
       "          output=Linear(\n",
       "            weight=f32[256,512],\n",
       "            bias=f32[256],\n",
       "            in_features=512,\n",
       "            out_features=256,\n",
       "            use_bias=True\n",
       "          ),\n",
       "          layernorm=LayerNorm(\n",
       "            shape=(256,),\n",
       "            eps=1e-05,\n",
       "            use_weight=True,\n",
       "            use_bias=True,\n",
       "            weight=f32[256],\n",
       "            bias=f32[256]\n",
       "          ),\n",
       "          dropout=Dropout(p=None, inference=None)\n",
       "        )\n",
       "      ),\n",
       "      TransformerLayer(\n",
       "        attention_block=AttentionBlock(\n",
       "          attention=MultiheadAttention(\n",
       "            query_proj=Linear(\n",
       "              weight=f32[256,256],\n",
       "              bias=None,\n",
       "              in_features=256,\n",
       "              out_features=256,\n",
       "              use_bias=False\n",
       "            ),\n",
       "            key_proj=Linear(\n",
       "              weight=f32[256,256],\n",
       "              bias=None,\n",
       "              in_features=256,\n",
       "              out_features=256,\n",
       "              use_bias=False\n",
       "            ),\n",
       "            value_proj=Linear(\n",
       "              weight=f32[256,256],\n",
       "              bias=None,\n",
       "              in_features=256,\n",
       "              out_features=256,\n",
       "              use_bias=False\n",
       "            ),\n",
       "            output_proj=Linear(\n",
       "              weight=f32[256,256],\n",
       "              bias=None,\n",
       "              in_features=256,\n",
       "              out_features=256,\n",
       "              use_bias=False\n",
       "            ),\n",
       "            dropout=Dropout(p=None, inference=None),\n",
       "            num_heads=8,\n",
       "            query_size=256,\n",
       "            key_size=256,\n",
       "            value_size=256,\n",
       "            output_size=256,\n",
       "            qk_size=32,\n",
       "            vo_size=32,\n",
       "            use_query_bias=False,\n",
       "            use_key_bias=False,\n",
       "            use_value_bias=False,\n",
       "            use_output_bias=False\n",
       "          ),\n",
       "          layernorm=LayerNorm(\n",
       "            shape=(256,),\n",
       "            eps=1e-05,\n",
       "            use_weight=True,\n",
       "            use_bias=True,\n",
       "            weight=f32[256],\n",
       "            bias=f32[256]\n",
       "          ),\n",
       "          static_linear=Linear(\n",
       "            weight=f32[256,187],\n",
       "            bias=f32[256],\n",
       "            in_features=187,\n",
       "            out_features=256,\n",
       "            use_bias=True\n",
       "          ),\n",
       "          dropout=Dropout(p=None, inference=None)\n",
       "        ),\n",
       "        ff_block=FeedForwardBlock(\n",
       "          mlp=Linear(\n",
       "            weight=f32[512,256],\n",
       "            bias=f32[512],\n",
       "            in_features=256,\n",
       "            out_features=512,\n",
       "            use_bias=True\n",
       "          ),\n",
       "          output=Linear(\n",
       "            weight=f32[256,512],\n",
       "            bias=f32[256],\n",
       "            in_features=512,\n",
       "            out_features=256,\n",
       "            use_bias=True\n",
       "          ),\n",
       "          layernorm=LayerNorm(\n",
       "            shape=(256,),\n",
       "            eps=1e-05,\n",
       "            use_weight=True,\n",
       "            use_bias=True,\n",
       "            weight=f32[256],\n",
       "            bias=f32[256]\n",
       "          ),\n",
       "          dropout=Dropout(p=None, inference=None)\n",
       "        )\n",
       "      )\n",
       "    ],\n",
       "    pooler=Linear(\n",
       "      weight=f32[256,256],\n",
       "      bias=f32[256],\n",
       "      in_features=256,\n",
       "      out_features=256,\n",
       "      use_bias=True\n",
       "    )\n",
       "  ),\n",
       "  head=Linear(\n",
       "    weight=f32[1,256],\n",
       "    bias=f32[1],\n",
       "    in_features=256,\n",
       "    out_features=1,\n",
       "    use_bias=True\n",
       "  )\n",
       "), nu=EATransformer(\n",
       "  encoder=Encoder(\n",
       "    embedder_block=EmbedderBlock(\n",
       "      daily_embedder=Linear(\n",
       "        weight=f32[256,1],\n",
       "        bias=f32[256],\n",
       "        in_features=1,\n",
       "        out_features=256,\n",
       "        use_bias=True\n",
       "      ),\n",
       "      irregular_embedder=Linear(\n",
       "        weight=f32[256,6],\n",
       "        bias=f32[256],\n",
       "        in_features=6,\n",
       "        out_features=256,\n",
       "        use_bias=True\n",
       "      ),\n",
       "      position_embedder=Embedding(\n",
       "        num_embeddings=30,\n",
       "        embedding_size=256,\n",
       "        weight=f32[30,256]\n",
       "      ),\n",
       "      layernorm=LayerNorm(\n",
       "        shape=(256,),\n",
       "        eps=1e-05,\n",
       "        use_weight=True,\n",
       "        use_bias=True,\n",
       "        weight=f32[256],\n",
       "        bias=f32[256]\n",
       "      ),\n",
       "      dropout=Dropout(p=None, inference=None)\n",
       "    ),\n",
       "    layers=[\n",
       "      TransformerLayer(\n",
       "        attention_block=AttentionBlock(\n",
       "          attention=MultiheadAttention(\n",
       "            query_proj=Linear(\n",
       "              weight=f32[256,256],\n",
       "              bias=None,\n",
       "              in_features=256,\n",
       "              out_features=256,\n",
       "              use_bias=False\n",
       "            ),\n",
       "            key_proj=Linear(\n",
       "              weight=f32[256,256],\n",
       "              bias=None,\n",
       "              in_features=256,\n",
       "              out_features=256,\n",
       "              use_bias=False\n",
       "            ),\n",
       "            value_proj=Linear(\n",
       "              weight=f32[256,256],\n",
       "              bias=None,\n",
       "              in_features=256,\n",
       "              out_features=256,\n",
       "              use_bias=False\n",
       "            ),\n",
       "            output_proj=Linear(\n",
       "              weight=f32[256,256],\n",
       "              bias=None,\n",
       "              in_features=256,\n",
       "              out_features=256,\n",
       "              use_bias=False\n",
       "            ),\n",
       "            dropout=Dropout(p=None, inference=None),\n",
       "            num_heads=8,\n",
       "            query_size=256,\n",
       "            key_size=256,\n",
       "            value_size=256,\n",
       "            output_size=256,\n",
       "            qk_size=32,\n",
       "            vo_size=32,\n",
       "            use_query_bias=False,\n",
       "            use_key_bias=False,\n",
       "            use_value_bias=False,\n",
       "            use_output_bias=False\n",
       "          ),\n",
       "          layernorm=LayerNorm(\n",
       "            shape=(256,),\n",
       "            eps=1e-05,\n",
       "            use_weight=True,\n",
       "            use_bias=True,\n",
       "            weight=f32[256],\n",
       "            bias=f32[256]\n",
       "          ),\n",
       "          static_linear=Linear(\n",
       "            weight=f32[256,187],\n",
       "            bias=f32[256],\n",
       "            in_features=187,\n",
       "            out_features=256,\n",
       "            use_bias=True\n",
       "          ),\n",
       "          dropout=Dropout(p=None, inference=None)\n",
       "        ),\n",
       "        ff_block=FeedForwardBlock(\n",
       "          mlp=Linear(\n",
       "            weight=f32[512,256],\n",
       "            bias=f32[512],\n",
       "            in_features=256,\n",
       "            out_features=512,\n",
       "            use_bias=True\n",
       "          ),\n",
       "          output=Linear(\n",
       "            weight=f32[256,512],\n",
       "            bias=f32[256],\n",
       "            in_features=512,\n",
       "            out_features=256,\n",
       "            use_bias=True\n",
       "          ),\n",
       "          layernorm=LayerNorm(\n",
       "            shape=(256,),\n",
       "            eps=1e-05,\n",
       "            use_weight=True,\n",
       "            use_bias=True,\n",
       "            weight=f32[256],\n",
       "            bias=f32[256]\n",
       "          ),\n",
       "          dropout=Dropout(p=None, inference=None)\n",
       "        )\n",
       "      ),\n",
       "      TransformerLayer(\n",
       "        attention_block=AttentionBlock(\n",
       "          attention=MultiheadAttention(\n",
       "            query_proj=Linear(\n",
       "              weight=f32[256,256],\n",
       "              bias=None,\n",
       "              in_features=256,\n",
       "              out_features=256,\n",
       "              use_bias=False\n",
       "            ),\n",
       "            key_proj=Linear(\n",
       "              weight=f32[256,256],\n",
       "              bias=None,\n",
       "              in_features=256,\n",
       "              out_features=256,\n",
       "              use_bias=False\n",
       "            ),\n",
       "            value_proj=Linear(\n",
       "              weight=f32[256,256],\n",
       "              bias=None,\n",
       "              in_features=256,\n",
       "              out_features=256,\n",
       "              use_bias=False\n",
       "            ),\n",
       "            output_proj=Linear(\n",
       "              weight=f32[256,256],\n",
       "              bias=None,\n",
       "              in_features=256,\n",
       "              out_features=256,\n",
       "              use_bias=False\n",
       "            ),\n",
       "            dropout=Dropout(p=None, inference=None),\n",
       "            num_heads=8,\n",
       "            query_size=256,\n",
       "            key_size=256,\n",
       "            value_size=256,\n",
       "            output_size=256,\n",
       "            qk_size=32,\n",
       "            vo_size=32,\n",
       "            use_query_bias=False,\n",
       "            use_key_bias=False,\n",
       "            use_value_bias=False,\n",
       "            use_output_bias=False\n",
       "          ),\n",
       "          layernorm=LayerNorm(\n",
       "            shape=(256,),\n",
       "            eps=1e-05,\n",
       "            use_weight=True,\n",
       "            use_bias=True,\n",
       "            weight=f32[256],\n",
       "            bias=f32[256]\n",
       "          ),\n",
       "          static_linear=Linear(\n",
       "            weight=f32[256,187],\n",
       "            bias=f32[256],\n",
       "            in_features=187,\n",
       "            out_features=256,\n",
       "            use_bias=True\n",
       "          ),\n",
       "          dropout=Dropout(p=None, inference=None)\n",
       "        ),\n",
       "        ff_block=FeedForwardBlock(\n",
       "          mlp=Linear(\n",
       "            weight=f32[512,256],\n",
       "            bias=f32[512],\n",
       "            in_features=256,\n",
       "            out_features=512,\n",
       "            use_bias=True\n",
       "          ),\n",
       "          output=Linear(\n",
       "            weight=f32[256,512],\n",
       "            bias=f32[256],\n",
       "            in_features=512,\n",
       "            out_features=256,\n",
       "            use_bias=True\n",
       "          ),\n",
       "          layernorm=LayerNorm(\n",
       "            shape=(256,),\n",
       "            eps=1e-05,\n",
       "            use_weight=True,\n",
       "            use_bias=True,\n",
       "            weight=f32[256],\n",
       "            bias=f32[256]\n",
       "          ),\n",
       "          dropout=Dropout(p=None, inference=None)\n",
       "        )\n",
       "      )\n",
       "    ],\n",
       "    pooler=Linear(\n",
       "      weight=f32[256,256],\n",
       "      bias=f32[256],\n",
       "      in_features=256,\n",
       "      out_features=256,\n",
       "      use_bias=True\n",
       "    )\n",
       "  ),\n",
       "  head=Linear(\n",
       "    weight=f32[1,256],\n",
       "    bias=f32[1],\n",
       "    in_features=256,\n",
       "    out_features=1,\n",
       "    use_bias=True\n",
       "  )\n",
       "))"
      ]
     },
     "execution_count": 46,
     "metadata": {},
     "output_type": "execute_result"
    }
   ],
   "source": [
    "trainer.opt_state[0].mu.encoder.embedder_block.daily_embedder.weight\n",
    "trainer.opt_state[0]"
   ]
  },
  {
   "cell_type": "code",
   "execution_count": null,
   "id": "dfe339df-1e23-4067-9107-a774c6884a2f",
   "metadata": {},
   "outputs": [],
   "source": [
    "import optax\n",
    "\n",
    "more_epochs = 150\n",
    "\n",
    "trainer.load_state('epoch100')\n",
    "loader_args['data_subset'] = 'train'\n",
    "trainer.dataloader = TAPDataLoader(dataset, **loader_args)\n",
    "trainer.lr_schedule = optax.exponential_decay(0.01, trainer.epoch+more_epochs, 0.001, transition_begin=trainer.epoch)\n",
    "trainer.num_epochs += more_epochs\n",
    "trainer.freeze_components('tealstm_i',True)\n",
    "trainer.start_training() "
   ]
  },
  {
   "cell_type": "code",
   "execution_count": null,
   "id": "e0777957-11f3-49db-b4a4-67d729527ece",
   "metadata": {},
   "outputs": [],
   "source": [
    "lr_schedule = optax.exponential_decay(0.01, trainer.epoch+num_epochs, 0.001, transition_begin=trainer.epoch)\n",
    "x = np.linspace(0,num_epochs*2)\n",
    "y = lr_schedule(x)\n",
    "plt.plot(x,y)"
   ]
  },
  {
   "cell_type": "code",
   "execution_count": 23,
=======
   "execution_count": 25,
>>>>>>> Stashed changes
   "id": "7f9ca8c8-9369-4020-8b90-a935d979b87d",
   "metadata": {},
   "outputs": [
    {
     "name": "stdout",
     "output_type": "stream",
     "text": [
      "Dataloader using 0 parallel CPU worker(s).\n",
      "Batch sharding set to 1 cpu(s)\n"
     ]
    },
    {
     "data": {
      "application/vnd.jupyter.widget-view+json": {
<<<<<<< Updated upstream
       "model_id": "5777fa3f41384f99a9ff7d782164297e",
=======
       "model_id": "dd3b717faf5b4c28965ee11ae6a349cd",
>>>>>>> Stashed changes
       "version_major": 2,
       "version_minor": 0
      },
      "text/plain": [
       "  0%|          | 0/410 [00:00<?, ?it/s]"
      ]
     },
     "metadata": {},
     "output_type": "display_data"
    },
    {
     "data": {
      "text/plain": [
<<<<<<< Updated upstream
       "{'mae': 0.014445226,\n",
       " 'mse': 0.0006026662,\n",
       " 'rmse': 0.02454926,\n",
       " 'kge': 0.14056879117188037,\n",
       " 'nse': -9.538877487182617}"
      ]
     },
     "execution_count": 23,
=======
       "{'mae': 0.01052704,\n",
       " 'mse': 0.0003721847,\n",
       " 'rmse': 0.019292088,\n",
       " 'kge': 0.4410978032076315,\n",
       " 'nse': -0.7846291065216064}"
      ]
     },
     "execution_count": 25,
>>>>>>> Stashed changes
     "metadata": {},
     "output_type": "execute_result"
    }
   ],
   "source": [
    "reload(evaluate)\n",
    "from evaluate import predict, get_all_metrics\n",
    "\n",
    "basin = [\"sag_daily_data\"]\n",
    "\n",
    "test_cfg = cfg\n",
    "test_cfg['data_subset'] = 'test'\n",
    "test_cfg['basin_subset'] =  basin\n",
    "test_cfg['num_workers'] = 0 # Faster for small runs\n",
    "dataloader = TAPDataLoader(test_cfg, dataset)\n",
    "\n",
    "results = predict(trainer.model, dataloader, seed=0, denormalize=True)\n",
    "results['pred'] = results['pred'] * (results['pred']>0) #Clip predictions to 0\n",
    "metrics = get_all_metrics(results['obs'],results['pred'])\n",
    "metrics"
   ]
  },
  {
   "cell_type": "code",
<<<<<<< Updated upstream
   "execution_count": 24,
=======
   "execution_count": 26,
>>>>>>> Stashed changes
   "id": "4e119cc9-dc63-411f-a3a8-0a17c5865b01",
   "metadata": {},
   "outputs": [
    {
     "data": {
<<<<<<< Updated upstream
      "image/png": "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",
=======
      "image/png": "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",
>>>>>>> Stashed changes
      "text/plain": [
       "<Figure size 1200x600 with 1 Axes>"
      ]
     },
     "metadata": {},
     "output_type": "display_data"
    }
   ],
   "source": [
    "results = results.reset_index()\n",
    "results = results.sort_values(by='date')\n",
    "results = results.drop(columns=['basin'])\n",
    "results.set_index('date', inplace=True)\n",
    "\n",
    "# Plot the true values and predictions\n",
    "fig, ax = plt.subplots(figsize=(12, 6))\n",
    "results['pred'].plot(ax=ax)\n",
    "results['obs'].plot(ax=ax,linestyle='None',marker='.')\n",
    "\n",
    "metrics = get_all_metrics(results['obs'],results['pred'])\n",
    "\n",
    "plt.title(f\"Basin: {basin}, KGE: {metrics['kge']:0.4f}\")\n",
    "plt.legend()\n",
    "plt.show()"
   ]
  },
  {
   "cell_type": "code",
   "execution_count": null,
   "id": "58fec15c-904c-4b45-b531-f36c771772c5",
   "metadata": {},
   "outputs": [],
   "source": [
    "results.plot.scatter('obs','pred')\n",
    "plt.gca().axis('square')\n",
    "plt.show()"
   ]
  },
  {
   "cell_type": "code",
   "execution_count": null,
   "id": "a2dcf4b4-1d1b-49e1-af29-91faeb56590e",
   "metadata": {},
   "outputs": [],
   "source": []
  },
  {
   "cell_type": "code",
   "execution_count": null,
   "id": "3d973e14-3b94-4f55-b971-e7aebf7887e3",
   "metadata": {},
   "outputs": [],
   "source": []
  },
  {
   "cell_type": "code",
   "execution_count": null,
   "id": "cabe46d7-39ac-421b-94bd-cf015c31e282",
   "metadata": {},
   "outputs": [],
   "source": [
    "from train import make_step\n",
    "from tqdm.notebook import trange\n",
    "\n",
    "# See if we can recreate the error... \n",
    "data = trainer.load_state(\"exceptions/epoch130_exception0\")\n",
    "for i in trange(1000):\n",
    "    make_step(trainer.model, data['batch'], trainer.opt_state, trainer.optim,\n",
    "              trainer.filter_spec, loss_name=\"mse\", max_grad_norm=None, l2_weight=None)"
   ]
  },
  {
   "cell_type": "code",
   "execution_count": null,
   "id": "73b4dcd7-9d86-4b5b-9334-b3bd2ff06494",
   "metadata": {},
   "outputs": [],
   "source": []
  }
 ],
 "metadata": {
  "kernelspec": {
   "display_name": "Python 3 (ipykernel)",
   "language": "python",
   "name": "python3"
  },
  "language_info": {
   "codemirror_mode": {
    "name": "ipython",
    "version": 3
   },
   "file_extension": ".py",
   "mimetype": "text/x-python",
   "name": "python",
   "nbconvert_exporter": "python",
   "pygments_lexer": "ipython3",
   "version": "3.11.9"
  }
 },
 "nbformat": 4,
 "nbformat_minor": 5
}
