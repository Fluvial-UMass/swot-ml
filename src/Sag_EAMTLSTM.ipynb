{
 "cells": [
  {
   "cell_type": "code",
   "execution_count": 278,
   "id": "1f020388-58f0-4da9-933a-6a02129cd624",
   "metadata": {},
   "outputs": [
    {
     "data": {
      "text/plain": [
       "(176, 1)"
      ]
     },
     "execution_count": 278,
     "metadata": {},
     "output_type": "execute_result"
    }
   ],
   "source": [
    "import pandas as pd\n",
    "import numpy as np\n",
    "from tqdm.notebook import trange, tqdm\n",
    "import jax\n",
    "import optax\n",
    "import matplotlib.pyplot as plt\n",
    "import importlib\n",
    "from pathlib import Path\n",
    "\n",
    "# Force reload of project files\n",
    "import data, train, models, metrics\n",
    "importlib.reload(data)\n",
    "from data import DataLoader\n",
    "\n",
    "\n",
    "# Params\n",
    "feature_labels = ['gage_Q','Blue','Green','Red','Nir','Swir1','Swir2'] #Must be list, even for 1 value\n",
    "target_label = 'tss'\n",
    "time_slice = slice('2008-01-01', None)\n",
    "split_time =  np.datetime64('2017-01-01')\n",
    "num_samples = 10000\n",
    "sequence_length = 90\n",
    "batch_size = 256\n",
    "num_epochs = 50\n",
    "hidden_size = 16\n",
    "feature_size = len(feature_labels)\n",
    "output_size = 1\n",
    "\n",
    "data_dir = Path(\"../data/Sag\")\n",
    "\n",
    "dataloader = DataLoader(data_dir = data_dir,\n",
    "                        basins = ['sag_daily_data','sag_daily_data_2'],\n",
    "                        features = feature_labels,\n",
    "                        target = target_label,\n",
    "                        time_slice = time_slice,\n",
    "                        split_time = split_time,\n",
    "                        batch_size = batch_size, \n",
    "                        sequence_length = sequence_length,\n",
    "                        train = True,\n",
    "                        discharge_col = 'gage_Q',\n",
    "                        calc_dt=True)\n",
    "\n",
    "for d in dataloader:\n",
    "    continue\n",
    "\n",
    "d['xs'].shape"
   ]
  }
 ],
 "metadata": {
  "kernelspec": {
   "display_name": "Python 3 (ipykernel)",
   "language": "python",
   "name": "python3"
  },
  "language_info": {
   "codemirror_mode": {
    "name": "ipython",
    "version": 3
   },
   "file_extension": ".py",
   "mimetype": "text/x-python",
   "name": "python",
   "nbconvert_exporter": "python",
   "pygments_lexer": "ipython3",
   "version": "3.12.2"
  }
 },
 "nbformat": 4,
 "nbformat_minor": 5
}
