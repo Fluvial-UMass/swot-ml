{
 "cells": [
  {
   "cell_type": "code",
   "execution_count": 283,
   "id": "1f020388-58f0-4da9-933a-6a02129cd624",
   "metadata": {},
   "outputs": [
    {
     "data": {
      "text/plain": [
       "(176, 1)"
      ]
     },
     "execution_count": 283,
     "metadata": {},
     "output_type": "execute_result"
    }
   ],
   "source": [
    "import pandas as pd\n",
    "import numpy as np\n",
    "from tqdm.notebook import trange, tqdm\n",
    "import jax\n",
    "import optax\n",
    "import matplotlib.pyplot as plt\n",
    "import importlib\n",
    "from pathlib import Path\n",
    "\n",
    "# Force reload of project files\n",
    "import data, train, models, metrics\n",
    "importlib.reload(data)\n",
    "from data import DataLoader\n",
    "\n",
    "\n",
    "# Params\n",
    "feature_labels = ['gage_Q','Blue','Green','Red','Nir','Swir1','Swir2'] #Must be list, even for 1 value\n",
    "target_label = 'tss'\n",
    "time_slice = slice('2008-01-01', None)\n",
    "split_time =  np.datetime64('2017-01-01')\n",
    "num_samples = 10000\n",
    "sequence_length = 90\n",
    "batch_size = 256\n",
    "num_epochs = 50\n",
    "hidden_size = 16\n",
    "feature_size = len(feature_labels)\n",
    "output_size = 1\n",
    "\n",
    "data_dir = Path(\"../data/Sag\")\n",
    "\n",
    "dataloader = DataLoader(data_dir = data_dir,\n",
    "                        basins = ['sag_daily_data','sag_daily_data_2'],\n",
    "                        features = feature_labels,\n",
    "                        target = target_label,\n",
    "                        time_slice = time_slice,\n",
    "                        split_time = split_time,\n",
    "                        batch_size = batch_size, \n",
    "                        sequence_length = sequence_length,\n",
    "                        train = True,\n",
    "                        discharge_col = 'gage_Q',\n",
    "                        zero_scale_cols = ['gage_Q','tss'],\n",
    "                        calc_dt=True)\n",
    "\n",
    "for d in dataloader:\n",
    "    continue\n",
    "\n",
    "d['xs'].shape"
   ]
  },
  {
   "cell_type": "code",
   "execution_count": 311,
   "id": "44952b37-a906-4aaf-bba2-860b60a6995a",
   "metadata": {},
   "outputs": [
    {
     "name": "stdout",
     "output_type": "stream",
     "text": [
      "Filled DataFrame:\n",
      "     A    B    C  A_dt  B_dt  C_dt\n",
      "0  1.0  NaN  1.0     0     1     0\n",
      "1  NaN  2.0  NaN     1     0     1\n",
      "2  NaN  NaN  3.0     2     1     0\n",
      "3  4.0  NaN  NaN     0     2     1\n",
      "4  NaN  5.0  NaN     1     0     2\n",
      "5  6.0  NaN  NaN     0     1     3\n",
      "\n",
      "dt DataFrame:\n",
      "0    0\n",
      "1    1\n",
      "2    0\n",
      "3    1\n",
      "4    2\n",
      "5    3\n",
      "Name: C, dtype: int64\n"
     ]
    }
   ],
   "source": [
    "df = pd.DataFrame({\n",
    "    'A': [1, np.nan, np.nan, 4, np.nan, 6],\n",
    "    'B': [np.nan, 2, np.nan, np.nan, 5, np.nan],\n",
    "    'C': [1, np.nan, 3, np.nan, np.nan, np.nan]\n",
    "})\n",
    "\n",
    "# Subset of columns to process\n",
    "columns_to_process = ['A','B','C']\n",
    "\n",
    "# df.isnull().groupby((df.notnull().cumsum() == 0).cumsum()).sum()\n",
    "\n",
    "# Fill in missing values for the subset of columns\n",
    "# df_filled = df.copy()\n",
    "\n",
    "for col in columns_to_process:\n",
    "    # Create a mask for NaN values\n",
    "    nan_mask = df[col].isna()\n",
    "    \n",
    "    # Calculate the number of missing measurements since a valid measurement\n",
    "    df[col+\"_dt\"] = nan_mask.groupby((nan_mask == False).cumsum()).cumsum()\n",
    "\n",
    "    # df[col] = df[col].ffill()\n",
    "\n",
    "    # df[.rename(col+\"_dt\")]\n",
    "\n",
    "# # Add the missing_since_last_valid information as new columns\n",
    "# for col in columns_to_process:\n",
    "#     df_filled[col + '_dt'] = missing_since_last_valid[col]\n",
    "\n",
    "print(\"Filled DataFrame:\")\n",
    "print(df)\n",
    "print(\"\\ndt DataFrame:\")\n",
    "print(dt)"
   ]
  }
 ],
 "metadata": {
  "kernelspec": {
   "display_name": "Python 3 (ipykernel)",
   "language": "python",
   "name": "python3"
  },
  "language_info": {
   "codemirror_mode": {
    "name": "ipython",
    "version": 3
   },
   "file_extension": ".py",
   "mimetype": "text/x-python",
   "name": "python",
   "nbconvert_exporter": "python",
   "pygments_lexer": "ipython3",
   "version": "3.12.2"
  }
 },
 "nbformat": 4,
 "nbformat_minor": 5
}
