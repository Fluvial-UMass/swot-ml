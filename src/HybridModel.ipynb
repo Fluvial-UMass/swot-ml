{
 "cells": [
  {
   "cell_type": "code",
   "execution_count": 144,
   "id": "1f020388-58f0-4da9-933a-6a02129cd624",
   "metadata": {},
   "outputs": [
    {
     "name": "stdout",
     "output_type": "stream",
     "text": [
      "Dropping static attributes with 0 variance: ['glc_pc_s03', 'glc_pc_s05', 'glc_pc_s07', 'glc_pc_s08', 'glc_pc_s17', 'glc_pc_s19', 'pnv_pc_s03', 'wet_pc_s05', 'wet_pc_s06', 'wet_pc_s07']\n"
     ]
    },
    {
     "data": {
      "application/vnd.jupyter.widget-view+json": {
       "model_id": "31b7e393264940938e874ae7b8f11fab",
       "version_major": 2,
       "version_minor": 0
      },
      "text/plain": [
       "Loading Basins:   0%|          | 0/1867 [00:00<?, ?it/s]"
      ]
     },
     "metadata": {},
     "output_type": "display_data"
    }
   ],
   "source": [
    "import os\n",
    "import pandas as pd\n",
    "import numpy as np\n",
    "from tqdm.notebook import trange, tqdm\n",
    "import jax\n",
    "import optax\n",
    "import matplotlib.pyplot as plt\n",
    "import importlib\n",
    "from pathlib import Path\n",
    "\n",
    "# Force reload of project files\n",
    "import data, train, models, evaluate, metrics\n",
    "importlib.reload(data)\n",
    "from data import TAPDataset, TAPDataLoader\n",
    "\n",
    "data_dir = Path(\"../data/wqp\")\n",
    "basin_list_file = data_dir / \"metadata\" / \"site_lists\" / \"sites_all.txt\"\n",
    "# basin_list_file = data_dir / \"metadata\" / \"site_lists\" / \"sites_ssc_area1000_n10.txt\"\n",
    "sequence_length = 30\n",
    "batch_size = 16\n",
    "\n",
    "with open(basin_list_file, 'r') as file:\n",
    "    basin_list = file.readlines()\n",
    "    basin_list = [basin.strip() for basin in basin_list]\n",
    "\n",
    "data_params = {'data_dir': data_dir,\n",
    "               'basin_list': basin_list,\n",
    "               'features_dict': {'daily':['grfr_q'],\n",
    "                                 'irregular':['turbidity']},#['Blue','Green','Red','Nir','Swir1','Swir2']},\n",
    "               'target': 'turbidity',\n",
    "               'time_slice': slice('1979-01-01', '2018-12-31'),\n",
    "               'split_time': np.datetime64('2010-01-01'),\n",
    "               'train': True,\n",
    "               'sequence_length': sequence_length,\n",
    "               'log_norm_cols': ['turbidity', 'grfr_q'],\n",
    "               'clip_target_to_zero': True,\n",
    "               'discharge_col': 'grfr_q'}\n",
    "\n",
    "dataset = TAPDataset(**data_params)"
   ]
  },
  {
   "cell_type": "code",
   "execution_count": 145,
   "id": "5ad9d620-e483-414b-8e05-48a51ed80e87",
   "metadata": {},
   "outputs": [
    {
     "name": "stdout",
     "output_type": "stream",
     "text": [
      "Dataloader using 0 parallel CPU worker(s).\n",
      "Batch sharding set to 1 cpu(s)\n"
     ]
    }
   ],
   "source": [
    "loader_params = {'suffle': True,\n",
    "                 'batch_size': 16,\n",
    "                 'num_workers': 0,\n",
    "                 'pin_memory': True} \n",
    "\n",
    "dataloader = TAPDataLoader(dataset, **loader_params)"
   ]
  },
  {
   "cell_type": "code",
   "execution_count": null,
   "id": "6dd9e66e-0054-4dab-8dc5-0c6434c17fa4",
   "metadata": {},
   "outputs": [],
   "source": [
    "importlib.reload(models)\n",
    "importlib.reload(train)\n",
    "from models import simpleANN, ANN, HybridModel\n",
    "from train import Trainer\n",
    "\n",
    "\n",
    "daily_in_size = len(data_params['features_dict']['daily'])\n",
    "irregular_in_size = len(data_params['features_dict']['irregular'])\n",
    "static_in_size = dataloader.dataset.x_s[basin_list[0]].shape[0]\n",
    "output_size = 1\n",
    "hidden_size = 256\n",
    "dropout = 0.4\n",
    "key = jax.random.PRNGKey(0)\n",
    "\n",
    "num_epochs = 250\n",
    "# lr_schedule = optax.polynomial_schedule(0.01, 0.0001, 2, num_epochs)\n",
    "lr_schedule = optax.exponential_decay(0.01, num_epochs, 0.3)\n",
    "\n",
    "# model_args = {'dynamic_in_size': irregular_in_size+daily_in_size, \n",
    "#               'dynamic_hidden_size': 64, \n",
    "#               'num_dynamic_layers': 2,\n",
    "#               'static_in_size': static_in_size,\n",
    "#               'static_hidden_size': 8,\n",
    "#               'num_static_layers': 2,\n",
    "#               'output_size': 1,\n",
    "#               'key': jax.random.PRNGKey(0), \n",
    "#               'dropout': 0}\n",
    "# ann = ANN(**model_args)\n",
    "\n",
    "\n",
    "model_args = {'in_size': irregular_in_size,\n",
    "              # 'in_size': irregular_in_size+daily_in_size+static_in_size, \n",
    "              'hidden_size': 64, \n",
    "              'num_hidden_layers': 1,\n",
    "              'output_size': 1,\n",
    "              'key': jax.random.PRNGKey(0), \n",
    "              'dropout': 0}\n",
    "ann = simpleANN(**model_args)\n",
    "# model = HybridModel((irregular_in_size, hidden_size, hidden_size, output_size), daily_in_size, static_in_size, output_size, hidden_size, key=key, dropout=dropout)\n",
    "\n",
    "dataloader.set_mode(train=True, sequence=False, end2end=False)\n",
    "trainer = Trainer(ann, dataloader, lr_schedule, num_epochs, max_grad_norm=2)\n",
    "model = trainer.start_training()\n"
   ]
  },
  {
   "cell_type": "code",
   "execution_count": 3,
   "id": "0fff4187-22dd-4eab-83c6-469b6af10cfc",
   "metadata": {},
   "outputs": [
    {
     "data": {
      "application/vnd.jupyter.widget-view+json": {
       "model_id": "fa4c0eccfd1849e4a165cf2a508e0b7f",
       "version_major": 2,
       "version_minor": 0
      },
      "text/plain": [
       "Output()"
      ]
     },
     "metadata": {},
     "output_type": "display_data"
    },
    {
     "data": {
      "text/html": [
       "<pre style=\"white-space:pre;overflow-x:auto;line-height:normal;font-family:Menlo,'DejaVu Sans Mono',consolas,'Courier New',monospace\"></pre>\n"
      ],
      "text/plain": []
     },
     "metadata": {},
     "output_type": "display_data"
    },
    {
     "data": {
      "text/html": [
       "<pre style=\"white-space:pre;overflow-x:auto;line-height:normal;font-family:Menlo,'DejaVu Sans Mono',consolas,'Courier New',monospace\">\n",
       "</pre>\n"
      ],
      "text/plain": [
       "\n"
      ]
     },
     "metadata": {},
     "output_type": "display_data"
    },
    {
     "name": "stdout",
     "output_type": "stream",
     "text": [
      "Training finished or interrupted. Model state saved.\n"
     ]
    },
    {
     "data": {
      "image/png": "[encoded data removed]",
      "text/plain": [
       "<Figure size 640x480 with 1 Axes>"
      ]
     },
     "metadata": {},
     "output_type": "display_data"
    }
   ],
   "source": [
    "trainer.num_epochs=1000\n",
    "model = trainer.start_training()"
   ]
  },
  {
   "cell_type": "code",
   "execution_count": 177,
   "id": "a71449c1-1ab1-482a-b892-1084638e4eff",
   "metadata": {},
   "outputs": [
    {
     "data": {
      "application/vnd.jupyter.widget-view+json": {
       "model_id": "908df61fb45a4adeb631b4b7a2496e66",
       "version_major": 2,
       "version_minor": 0
      },
      "text/plain": [
       "  0%|          | 0/12163 [00:00<?, ?it/s]"
      ]
     },
     "metadata": {},
     "output_type": "display_data"
    },
    {
     "data": {
      "text/plain": [
       "{'mse': 2.1345446,\n",
       " 'rmse': 1.4610081,\n",
       " 'kge': -138.5683537406244,\n",
       " 'nse': -1250.393310546875}"
      ]
     },
     "execution_count": 177,
     "metadata": {},
     "output_type": "execute_result"
    }
   ],
   "source": [
    "from metrics import get_all_metrics\n",
    "\n",
    "importlib.reload(evaluate)\n",
    "from evaluate import predict\n",
    "\n",
    "#Need a sr evaluate mode. Maybe just rethink the entire indexing scheme.\n",
    "dataloader.set_mode(train=False, sequence=False)\n",
    "results = predict(ann, dataloader, denormalize=True)\n",
    "results['pred'] = results['pred'] * (results['pred']>0) #Clip predictions to 0\n",
    "metrics = get_all_metrics(results['obs'],results['pred'])\n",
    "metrics"
   ]
  },
  {
   "cell_type": "code",
   "execution_count": 179,
   "id": "f6b70ef1-d691-4395-8f92-f4b534cf0132",
   "metadata": {},
   "outputs": [
    {
     "data": {
      "text/plain": [
       "0.00029654047"
      ]
     },
     "execution_count": 179,
     "metadata": {},
     "output_type": "execute_result"
    }
   ],
   "source": [
    "results.obs.mean()"
   ]
  },
  {
   "cell_type": "code",
   "execution_count": 175,
   "id": "a2d3454d-d67b-4812-b907-a0ceba1c8fc1",
   "metadata": {},
   "outputs": [
    {
     "data": {
      "text/plain": [
       "{'grfr_q': {'offset': 0.9424365, 'scale': 1, 'log_norm': True},\n",
       " 'turbidity': {'offset': 2.408318424440369, 'scale': 1, 'log_norm': True}}"
      ]
     },
     "execution_count": 175,
     "metadata": {},
     "output_type": "execute_result"
    }
   ],
   "source": [
    "dataset.scale"
   ]
  },
  {
   "cell_type": "code",
   "execution_count": 183,
   "id": "4e7f74fc-c539-4037-bf13-405607ec877e",
   "metadata": {},
   "outputs": [
    {
     "data": {
      "text/plain": [
       "(array([5.1430e+04, 4.2802e+04, 9.6950e+03, 4.7231e+04, 3.6695e+04,\n",
       "        4.3000e+03, 1.7890e+03, 5.6900e+02, 7.8000e+01, 1.6000e+01]),\n",
       " array([-0.09892274, -0.07465982, -0.05039692, -0.02613401, -0.0018711 ,\n",
       "         0.02239181,  0.04665472,  0.07091762,  0.09518053,  0.11944345,\n",
       "         0.14370635]),\n",
       " <BarContainer object of 10 artists>)"
      ]
     },
     "execution_count": 183,
     "metadata": {},
     "output_type": "execute_result"
    },
    {
     "data": {
      "image/png": "[encoded data removed]",
      "text/plain": [
       "<Figure size 640x480 with 1 Axes>"
      ]
     },
     "metadata": {},
     "output_type": "display_data"
    }
   ],
   "source": [
    "plt.hist(results.pred)"
   ]
  },
  {
   "cell_type": "code",
   "execution_count": 185,
   "id": "1029d39f-a61f-4720-9cd7-b633a6a53531",
   "metadata": {},
   "outputs": [
    {
     "data": {
      "image/png": "[encoded data removed]",
      "text/plain": [
       "<Figure size 640x480 with 1 Axes>"
      ]
     },
     "metadata": {},
     "output_type": "display_data"
    }
   ],
   "source": [
    "results.plot.scatter('obs','pred')\n",
    "plt.gca().set_aspect('equal')\n",
    "# plt.xlim([0,200])\n",
    "# plt.ylim([0,200])\n",
    "plt.show()"
   ]
  },
  {
   "cell_type": "code",
   "execution_count": null,
   "id": "b24a1de1-bacd-4325-85a7-6e2f88e248ab",
   "metadata": {},
   "outputs": [],
   "source": [
    "for _, _, batch in dataloader:\n",
    "    break\n",
    "jax.vmap(ann)(batch)"
   ]
  },
  {
   "cell_type": "code",
   "execution_count": 94,
   "id": "a32c4c3b-1656-4019-817b-192d055a0628",
   "metadata": {},
   "outputs": [
    {
     "data": {
      "text/plain": [
       "Array([-1.4290591 ,  0.32053804], dtype=float32)"
      ]
     },
     "execution_count": 94,
     "metadata": {},
     "output_type": "execute_result"
    }
   ],
   "source": []
  },
  {
   "cell_type": "code",
   "execution_count": 143,
   "id": "e1c4809f-7d13-4137-b230-a9afbadc5269",
   "metadata": {},
   "outputs": [
    {
     "data": {
      "application/vnd.jupyter.widget-view+json": {
       "model_id": "840b168f6547446ab15ce27856f44255",
       "version_major": 2,
       "version_minor": 0
      },
      "text/plain": [
       "  0%|          | 0/575 [00:00<?, ?it/s]"
      ]
     },
     "metadata": {},
     "output_type": "display_data"
    },
    {
     "data": {
      "text/plain": [
       "(array([2.770e+02, 1.359e+03, 9.930e+02, 4.960e+02, 1.650e+02, 8.500e+01,\n",
       "        5.000e+01, 1.400e+01, 1.000e+01, 1.000e+00]),\n",
       " array([-1.88365138, -1.14916539, -0.41467944,  0.31980655,  1.05429256,\n",
       "         1.78877854,  2.52326441,  3.25775051,  3.99223638,  4.72672224,\n",
       "         5.46120834]),\n",
       " <BarContainer object of 10 artists>)"
      ]
     },
     "execution_count": 143,
     "metadata": {},
     "output_type": "execute_result"
    },
    {
     "data": {
      "image/png": "[encoded data removed]",
      "text/plain": [
       "<Figure size 640x480 with 1 Axes>"
      ]
     },
     "metadata": {},
     "output_type": "display_data"
    }
   ],
   "source": [
    "dataloader.set_mode(train=True, sequence=False, end2end=False)\n",
    "x = []\n",
    "for _, _, batch in tqdm(dataloader):\n",
    "    x.extend(batch['x_di'][5,:])\n",
    "xt = np.array(x).flatten()\n",
    "# xt = dataloader.dataset.denormalize_target(xt)\n",
    "plt.hist(xt)"
   ]
  },
  {
   "cell_type": "code",
   "execution_count": 137,
   "id": "42942063-ec8d-4f76-ad91-f79c7df490f4",
   "metadata": {},
   "outputs": [
    {
     "data": {
      "text/plain": [
       "Array([-0.87810177, -0.7692972 , -0.86223024, -0.8211173 , -0.9552031 ,\n",
       "       -0.908461  ], dtype=float32)"
      ]
     },
     "execution_count": 137,
     "metadata": {},
     "output_type": "execute_result"
    }
   ],
   "source": [
    "batch['x_di'][17,:]"
   ]
  },
  {
   "cell_type": "code",
   "execution_count": 32,
   "id": "df2d28cf-c5a3-415c-93ce-c929561a9a68",
   "metadata": {},
   "outputs": [
    {
     "data": {
      "text/plain": [
       "(array([6.000e+00, 0.000e+00, 2.000e+00, 8.400e+01, 1.147e+03, 4.448e+03,\n",
       "        2.655e+03, 7.080e+02, 1.250e+02, 1.300e+01]),\n",
       " array([-9.31607342, -7.72350121, -6.13092852, -4.5383563 , -2.94578409,\n",
       "        -1.35321164,  0.23936072,  1.83193302,  3.42450547,  5.01707792,\n",
       "         6.60965014]),\n",
       " <BarContainer object of 10 artists>)"
      ]
     },
     "execution_count": 32,
     "metadata": {},
     "output_type": "execute_result"
    },
    {
     "data": {
      "image/png": "[encoded data removed]",
      "text/plain": [
       "<Figure size 640x480 with 1 Axes>"
      ]
     },
     "metadata": {},
     "output_type": "display_data"
    }
   ],
   "source": [
    "xt = np.array(x).flatten()\n",
    "# xt = dataloader.dataset.denormalize_target(xt)\n",
    "plt.hist(xt)"
   ]
  },
  {
   "cell_type": "code",
   "execution_count": null,
   "id": "525b55f7-a9a7-4c29-802a-024fae1b604c",
   "metadata": {},
   "outputs": [],
   "source": [
    "dataloader.dataset.scale"
   ]
  }
 ],
 "metadata": {
  "kernelspec": {
   "display_name": "Python 3 (ipykernel)",
   "language": "python",
   "name": "python3"
  },
  "language_info": {
   "codemirror_mode": {
    "name": "ipython",
    "version": 3
   },
   "file_extension": ".py",
   "mimetype": "text/x-python",
   "name": "python",
   "nbconvert_exporter": "python",
   "pygments_lexer": "ipython3",
   "version": "3.12.2"
  }
 },
 "nbformat": 4,
 "nbformat_minor": 5
}
