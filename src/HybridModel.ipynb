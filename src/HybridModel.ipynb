{
 "cells": [
  {
   "cell_type": "code",
   "execution_count": 1,
   "id": "1f020388-58f0-4da9-933a-6a02129cd624",
   "metadata": {},
   "outputs": [
    {
     "data": {
      "application/vnd.jupyter.widget-view+json": {
       "model_id": "fe8866601a4045a9b014b4a3e1d198ff",
       "version_major": 2,
       "version_minor": 0
      },
      "text/plain": [
       "Loading Basins:   0%|          | 0/1867 [00:00<?, ?it/s]"
      ]
     },
     "metadata": {},
     "output_type": "display_data"
    },
    {
     "name": "stdout",
     "output_type": "stream",
     "text": [
      "Dataloader using 1 parallel CPU worker(s).\n",
      "Batch sharding set to 1 cpu(s)\n"
     ]
    }
   ],
   "source": [
    "import os\n",
    "import pandas as pd\n",
    "import numpy as np\n",
    "from tqdm.notebook import trange, tqdm\n",
    "import jax\n",
    "import optax\n",
    "import matplotlib.pyplot as plt\n",
    "import importlib\n",
    "from pathlib import Path\n",
    "\n",
    "# Force reload of project files\n",
    "import data, train, models, evaluate, metrics\n",
    "importlib.reload(data)\n",
    "from data import TAPDataLoader\n",
    "\n",
    "data_dir = Path(\"../data/wqp\")\n",
    "basin_list_file = data_dir / \"metadata\" / \"site_lists\" / \"sites_all.txt\"\n",
    "# basin_list_file = data_dir / \"metadata\" / \"site_lists\" / \"sites_ssc_area1000_n10.txt\"\n",
    "sequence_length = 30\n",
    "batch_size = 16\n",
    "\n",
    "with open(basin_list_file, 'r') as file:\n",
    "    basin_list = file.readlines()\n",
    "    basin_list = [basin.strip() for basin in basin_list]\n",
    "\n",
    "data_params = {'data_dir': data_dir,\n",
    "               'basin_list': basin_list,\n",
    "               'features_dict': {'daily':['grfr_q'],\n",
    "                                 'irregular':['Blue','Green','Red','Nir','Swir1','Swir2']},\n",
    "               'target': 'turbidity',\n",
    "               'time_slice': slice('1979-01-01', '2018-12-31'),\n",
    "               'split_time': np.datetime64('2010-01-01'),\n",
    "               'train': True,\n",
    "               'batch_size': batch_size,\n",
    "               'sequence_length': sequence_length,\n",
    "               'log_norm_cols': ['turbidity'],\n",
    "               'discharge_col': 'grfr_q',\n",
    "               'num_workers':1}\n",
    "\n",
    "dataloader = TAPDataLoader(**data_params)"
   ]
  },
  {
   "cell_type": "code",
   "execution_count": 2,
   "id": "6dd9e66e-0054-4dab-8dc5-0c6434c17fa4",
   "metadata": {},
   "outputs": [
    {
     "data": {
      "application/vnd.jupyter.widget-view+json": {
       "model_id": "27beda49c3544e649c6a078f8b765452",
       "version_major": 2,
       "version_minor": 0
      },
      "text/plain": [
       "Output()"
      ]
     },
     "metadata": {},
     "output_type": "display_data"
    },
    {
     "data": {
      "text/html": [
       "<pre style=\"white-space:pre;overflow-x:auto;line-height:normal;font-family:Menlo,'DejaVu Sans Mono',consolas,'Courier New',monospace\"></pre>\n"
      ],
      "text/plain": []
     },
     "metadata": {},
     "output_type": "display_data"
    },
    {
     "data": {
      "text/html": [
       "<pre style=\"white-space:pre;overflow-x:auto;line-height:normal;font-family:Menlo,'DejaVu Sans Mono',consolas,'Courier New',monospace\">\n",
       "</pre>\n"
      ],
      "text/plain": [
       "\n"
      ]
     },
     "metadata": {},
     "output_type": "display_data"
    },
    {
     "name": "stdout",
     "output_type": "stream",
     "text": [
      "Training finished or interrupted. Model state saved.\n"
     ]
    },
    {
     "data": {
      "image/png": "[encoded data removed]",
      "text/plain": [
       "<Figure size 640x480 with 1 Axes>"
      ]
     },
     "metadata": {},
     "output_type": "display_data"
    }
   ],
   "source": [
    "importlib.reload(models)\n",
    "importlib.reload(train)\n",
    "from models import ANN, HybridModel, TAPLSTM, EALSTM, LSTM\n",
    "from train import Trainer\n",
    "\n",
    "\n",
    "daily_in_size = len(data_params['features_dict']['daily'])\n",
    "irregular_in_size = len(data_params['features_dict']['irregular'])\n",
    "static_in_size = dataloader.dataset.x_s[basin_list[0]].shape[0]\n",
    "output_size = 1\n",
    "hidden_size = 256\n",
    "dropout = 0.4\n",
    "key = jax.random.PRNGKey(0)\n",
    "\n",
    "num_epochs = 250\n",
    "# lr_schedule = optax.polynomial_schedule(0.01, 0.0001, 2, num_epochs)\n",
    "lr_schedule = optax.exponential_decay(0.01, num_epochs, 0.3)\n",
    "\n",
    "model_args = {'dynamic_in_size': irregular_in_size+daily_in_size, \n",
    "              'dynamic_hidden_size': 64, \n",
    "              'num_dynamic_layers': 4,\n",
    "              'static_in_size': static_in_size,\n",
    "              'static_hidden_size': 8,\n",
    "              'num_static_layers': 2,\n",
    "              'output_size': 1,\n",
    "              'key': jax.random.PRNGKey(0), \n",
    "              'dropout': 0.2}\n",
    "\n",
    "ann = ANN(**model_args)\n",
    "# model = HybridModel((irregular_in_size, hidden_size, hidden_size, output_size), daily_in_size, static_in_size, output_size, hidden_size, key=key, dropout=dropout)\n",
    "\n",
    "dataloader.set_mode(train=True, sequence=False, end2end=False)\n",
    "trainer = Trainer(ann, dataloader, lr_schedule, num_epochs, max_grad_norm=2)\n",
    "model = trainer.start_training()\n"
   ]
  },
  {
   "cell_type": "code",
   "execution_count": 3,
   "id": "0fff4187-22dd-4eab-83c6-469b6af10cfc",
   "metadata": {},
   "outputs": [
    {
     "data": {
      "application/vnd.jupyter.widget-view+json": {
       "model_id": "fa4c0eccfd1849e4a165cf2a508e0b7f",
       "version_major": 2,
       "version_minor": 0
      },
      "text/plain": [
       "Output()"
      ]
     },
     "metadata": {},
     "output_type": "display_data"
    },
    {
     "data": {
      "text/html": [
       "<pre style=\"white-space:pre;overflow-x:auto;line-height:normal;font-family:Menlo,'DejaVu Sans Mono',consolas,'Courier New',monospace\"></pre>\n"
      ],
      "text/plain": []
     },
     "metadata": {},
     "output_type": "display_data"
    },
    {
     "data": {
      "text/html": [
       "<pre style=\"white-space:pre;overflow-x:auto;line-height:normal;font-family:Menlo,'DejaVu Sans Mono',consolas,'Courier New',monospace\">\n",
       "</pre>\n"
      ],
      "text/plain": [
       "\n"
      ]
     },
     "metadata": {},
     "output_type": "display_data"
    },
    {
     "name": "stdout",
     "output_type": "stream",
     "text": [
      "Training finished or interrupted. Model state saved.\n"
     ]
    },
    {
     "data": {
      "image/png": "[encoded data removed]",
      "text/plain": [
       "<Figure size 640x480 with 1 Axes>"
      ]
     },
     "metadata": {},
     "output_type": "display_data"
    }
   ],
   "source": [
    "trainer.num_epochs=1000\n",
    "model = trainer.start_training()"
   ]
  },
  {
   "cell_type": "code",
   "execution_count": 4,
   "id": "a71449c1-1ab1-482a-b892-1084638e4eff",
   "metadata": {},
   "outputs": [
    {
     "data": {
      "application/vnd.jupyter.widget-view+json": {
       "model_id": "995718d0465a4222bb31eeb08cce1fc0",
       "version_major": 2,
       "version_minor": 0
      },
      "text/plain": [
       "  0%|          | 0/356 [00:00<?, ?it/s]"
      ]
     },
     "metadata": {},
     "output_type": "display_data"
    },
    {
     "data": {
      "text/plain": [
       "{'mse': 63332.285,\n",
       " 'rmse': 251.65907,\n",
       " 'kge': -0.5262250695583015,\n",
       " 'nse': -919053.0}"
      ]
     },
     "execution_count": 4,
     "metadata": {},
     "output_type": "execute_result"
    }
   ],
   "source": [
    "from metrics import get_all_metrics\n",
    "\n",
    "importlib.reload(evaluate)\n",
    "from evaluate import predict\n",
    "\n",
    "#Need a sr evaluate mode. Maybe just rethink the entire indexing scheme.\n",
    "dataloader.set_mode(train=False, sequence=False)\n",
    "results = predict(ann, dataloader)\n",
    "results['pred'] = results['pred'] * (results['pred']>0) #Clip predictions to 0\n",
    "metrics = get_all_metrics(results['obs'],results['pred'])\n",
    "metrics"
   ]
  },
  {
   "cell_type": "code",
   "execution_count": 10,
   "id": "f6b70ef1-d691-4395-8f92-f4b534cf0132",
   "metadata": {},
   "outputs": [
    {
     "data": {
      "text/html": [
       "<div>\n",
       "<style scoped>\n",
       "    .dataframe tbody tr th:only-of-type {\n",
       "        vertical-align: middle;\n",
       "    }\n",
       "\n",
       "    .dataframe tbody tr th {\n",
       "        vertical-align: top;\n",
       "    }\n",
       "\n",
       "    .dataframe thead th {\n",
       "        text-align: right;\n",
       "    }\n",
       "</style>\n",
       "<table border=\"1\" class=\"dataframe\">\n",
       "  <thead>\n",
       "    <tr style=\"text-align: right;\">\n",
       "      <th></th>\n",
       "      <th></th>\n",
       "      <th>obs</th>\n",
       "      <th>pred</th>\n",
       "    </tr>\n",
       "    <tr>\n",
       "      <th>basin</th>\n",
       "      <th>date</th>\n",
       "      <th></th>\n",
       "      <th></th>\n",
       "    </tr>\n",
       "  </thead>\n",
       "  <tbody>\n",
       "    <tr>\n",
       "      <th>7120640640</th>\n",
       "      <th>2009-02-02</th>\n",
       "      <td>8.400000</td>\n",
       "      <td>10.815063</td>\n",
       "    </tr>\n",
       "    <tr>\n",
       "      <th>7120676550</th>\n",
       "      <th>2004-01-28</th>\n",
       "      <td>10.000001</td>\n",
       "      <td>10.821022</td>\n",
       "    </tr>\n",
       "    <tr>\n",
       "      <th>7120522040</th>\n",
       "      <th>2005-03-16</th>\n",
       "      <td>15.999999</td>\n",
       "      <td>10.690677</td>\n",
       "    </tr>\n",
       "    <tr>\n",
       "      <th>7120641700</th>\n",
       "      <th>2004-05-05</th>\n",
       "      <td>18.000002</td>\n",
       "      <td>10.722279</td>\n",
       "    </tr>\n",
       "    <tr>\n",
       "      <th>7120640980</th>\n",
       "      <th>1999-10-14</th>\n",
       "      <td>65.400009</td>\n",
       "      <td>10.680709</td>\n",
       "    </tr>\n",
       "    <tr>\n",
       "      <th>...</th>\n",
       "      <th>...</th>\n",
       "      <td>...</td>\n",
       "      <td>...</td>\n",
       "    </tr>\n",
       "    <tr>\n",
       "      <th>7120653990</th>\n",
       "      <th>1999-11-08</th>\n",
       "      <td>5.100001</td>\n",
       "      <td>10.753312</td>\n",
       "    </tr>\n",
       "    <tr>\n",
       "      <th>7120568540</th>\n",
       "      <th>2006-06-29</th>\n",
       "      <td>122.000031</td>\n",
       "      <td>10.956944</td>\n",
       "    </tr>\n",
       "    <tr>\n",
       "      <th>7120456910</th>\n",
       "      <th>1996-03-28</th>\n",
       "      <td>240.000031</td>\n",
       "      <td>11.044060</td>\n",
       "    </tr>\n",
       "    <tr>\n",
       "      <th>7120540900</th>\n",
       "      <th>2008-09-16</th>\n",
       "      <td>107.999985</td>\n",
       "      <td>11.247911</td>\n",
       "    </tr>\n",
       "    <tr>\n",
       "      <th>7120678170</th>\n",
       "      <th>2002-11-06</th>\n",
       "      <td>15.000002</td>\n",
       "      <td>10.898754</td>\n",
       "    </tr>\n",
       "  </tbody>\n",
       "</table>\n",
       "<p>5688 rows × 2 columns</p>\n",
       "</div>"
      ],
      "text/plain": [
       "                              obs       pred\n",
       "basin      date                             \n",
       "7120640640 2009-02-02    8.400000  10.815063\n",
       "7120676550 2004-01-28   10.000001  10.821022\n",
       "7120522040 2005-03-16   15.999999  10.690677\n",
       "7120641700 2004-05-05   18.000002  10.722279\n",
       "7120640980 1999-10-14   65.400009  10.680709\n",
       "...                           ...        ...\n",
       "7120653990 1999-11-08    5.100001  10.753312\n",
       "7120568540 2006-06-29  122.000031  10.956944\n",
       "7120456910 1996-03-28  240.000031  11.044060\n",
       "7120540900 2008-09-16  107.999985  11.247911\n",
       "7120678170 2002-11-06   15.000002  10.898754\n",
       "\n",
       "[5688 rows x 2 columns]"
      ]
     },
     "execution_count": 10,
     "metadata": {},
     "output_type": "execute_result"
    }
   ],
   "source": [
    "results"
   ]
  },
  {
   "cell_type": "code",
   "execution_count": 6,
   "id": "1029d39f-a61f-4720-9cd7-b633a6a53531",
   "metadata": {},
   "outputs": [
    {
     "data": {
      "image/png": "[encoded data removed]",
      "text/plain": [
       "<Figure size 640x480 with 1 Axes>"
      ]
     },
     "metadata": {},
     "output_type": "display_data"
    }
   ],
   "source": [
    "results.plot.scatter('obs','pred')\n",
    "plt.gca().set_aspect('equal')\n",
    "plt.xlim([0,200])\n",
    "plt.ylim([0,200])\n",
    "plt.show()"
   ]
  },
  {
   "cell_type": "code",
   "execution_count": null,
   "id": "b24a1de1-bacd-4325-85a7-6e2f88e248ab",
   "metadata": {},
   "outputs": [],
   "source": [
    "for _, _, batch in dataloader:\n",
    "    break\n",
    "jax.vmap(ann)(batch)"
   ]
  },
  {
   "cell_type": "code",
   "execution_count": null,
   "id": "e1c4809f-7d13-4137-b230-a9afbadc5269",
   "metadata": {},
   "outputs": [],
   "source": [
    "dataloader.set_mode(train=True, sequence=False, end2end=False)\n",
    "x = []\n",
    "for _, _, batch in tqdm(dataloader):\n",
    "    x.extend(batch['y'])\n",
    "# x = np.array(x).flatten()\n",
    "# x = dataloader.dataset.denormalize_target(x)\n",
    "# plt.hist(x)"
   ]
  },
  {
   "cell_type": "code",
   "execution_count": null,
   "id": "42942063-ec8d-4f76-ad91-f79c7df490f4",
   "metadata": {},
   "outputs": [],
   "source": [
    "batch['x_s'].shape"
   ]
  },
  {
   "cell_type": "code",
   "execution_count": null,
   "id": "df2d28cf-c5a3-415c-93ce-c929561a9a68",
   "metadata": {},
   "outputs": [],
   "source": [
    "xt = np.array(x).flatten()\n",
    "# xt = dataloader.dataset.denormalize_target(xt)\n",
    "plt.hist(xt)"
   ]
  },
  {
   "cell_type": "code",
   "execution_count": null,
   "id": "525b55f7-a9a7-4c29-802a-024fae1b604c",
   "metadata": {},
   "outputs": [],
   "source": [
    "dataloader.dataset.scale"
   ]
  }
 ],
 "metadata": {
  "kernelspec": {
   "display_name": "Python 3 (ipykernel)",
   "language": "python",
   "name": "python3"
  },
  "language_info": {
   "codemirror_mode": {
    "name": "ipython",
    "version": 3
   },
   "file_extension": ".py",
   "mimetype": "text/x-python",
   "name": "python",
   "nbconvert_exporter": "python",
   "pygments_lexer": "ipython3",
   "version": "3.12.2"
  }
 },
 "nbformat": 4,
 "nbformat_minor": 5
}
