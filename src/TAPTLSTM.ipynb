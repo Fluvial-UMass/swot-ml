{
 "cells": [
  {
   "cell_type": "code",
   "execution_count": 38,
   "id": "1f020388-58f0-4da9-933a-6a02129cd624",
   "metadata": {},
   "outputs": [
    {
     "name": "stdout",
     "output_type": "stream",
     "text": [
      "Batch loading set to 1 cpu(s)\n"
     ]
    },
    {
     "data": {
      "application/vnd.jupyter.widget-view+json": {
       "model_id": "81e8d666375249289a8103f8cb749e7f",
       "version_major": 2,
       "version_minor": 0
      },
      "text/plain": [
       "Loading Basins:   0%|          | 0/113 [00:00<?, ?it/s]"
      ]
     },
     "metadata": {},
     "output_type": "display_data"
    }
   ],
   "source": [
    "import os\n",
    "import pandas as pd\n",
    "import numpy as np\n",
    "from tqdm.notebook import trange, tqdm\n",
    "import jax\n",
    "import optax\n",
    "import matplotlib.pyplot as plt\n",
    "import importlib\n",
    "from pathlib import Path\n",
    "\n",
    "# Force reload of project files\n",
    "import data, train, models, evaluate, metrics\n",
    "importlib.reload(data)\n",
    "from data import DataLoader\n",
    "\n",
    "data_dir = Path(\"../data/wqp\")\n",
    "basin_list_file = data_dir / \"metadata\" / \"site_lists\" / \"sites_flux_area1000_n10.txt\"\n",
    "\n",
    "sequence_length = 30\n",
    "batch_size = 512\n",
    "\n",
    "with open(basin_list_file, 'r') as file:\n",
    "    basin_list = file.readlines()\n",
    "    basin_list = [basin.strip() for basin in basin_list]\n",
    "\n",
    "data_params = {'data_dir': data_dir,\n",
    "               'basins': basin_list,\n",
    "               'features_dict': {'daily':['grfr_q'],\n",
    "                                 'irregular':['Blue','Green','Red','Nir','Swir1','Swir2']},\n",
    "               'target': 'flux',\n",
    "               'time_slice': slice('1979-01-01', '2018-12-31'),\n",
    "               'split_time': np.datetime64('2010-01-01'),\n",
    "               'batch_size': batch_size,\n",
    "               'sequence_length': sequence_length,\n",
    "               'discharge_col': 'grfr_q'}\n",
    "\n",
    "dataloader = DataLoader(**data_params)"
   ]
  },
  {
   "cell_type": "code",
   "execution_count": null,
   "id": "6dd9e66e-0054-4dab-8dc5-0c6434c17fa4",
   "metadata": {},
   "outputs": [
    {
     "data": {
      "application/vnd.jupyter.widget-view+json": {
       "model_id": "62d98641754d41128247c25a6f58f349",
       "version_major": 2,
       "version_minor": 0
      },
      "text/plain": [
       "Epoch:1 LR:0.0050:   0%|          | 0/55 [00:00<?, ?it/s]"
      ]
     },
     "metadata": {},
     "output_type": "display_data"
    },
    {
     "data": {
      "application/vnd.jupyter.widget-view+json": {
       "model_id": "901f54aac1eb420e8bee43c5ec6e948c",
       "version_major": 2,
       "version_minor": 0
      },
      "text/plain": [
       "Epoch:2 LR:0.0050:   0%|          | 0/55 [00:00<?, ?it/s]"
      ]
     },
     "metadata": {},
     "output_type": "display_data"
    },
    {
     "data": {
      "application/vnd.jupyter.widget-view+json": {
       "model_id": "f732d990ec9941e0842d8b96ed8eac3e",
       "version_major": 2,
       "version_minor": 0
      },
      "text/plain": [
       "Epoch:3 LR:0.0050:   0%|          | 0/55 [00:00<?, ?it/s]"
      ]
     },
     "metadata": {},
     "output_type": "display_data"
    },
    {
     "data": {
      "application/vnd.jupyter.widget-view+json": {
       "model_id": "b4b151c9bcfe4885985f38f750839997",
       "version_major": 2,
       "version_minor": 0
      },
      "text/plain": [
       "Epoch:4 LR:0.0049:   0%|          | 0/55 [00:00<?, ?it/s]"
      ]
     },
     "metadata": {},
     "output_type": "display_data"
    },
    {
     "data": {
      "application/vnd.jupyter.widget-view+json": {
       "model_id": "48cf34d4f87c48fca0a7254761a40270",
       "version_major": 2,
       "version_minor": 0
      },
      "text/plain": [
       "Epoch:5 LR:0.0049:   0%|          | 0/55 [00:00<?, ?it/s]"
      ]
     },
     "metadata": {},
     "output_type": "display_data"
    },
    {
     "data": {
      "application/vnd.jupyter.widget-view+json": {
       "model_id": "e9bd35617ec54d8db55344fa5a6c65f7",
       "version_major": 2,
       "version_minor": 0
      },
      "text/plain": [
       "Epoch:6 LR:0.0049:   0%|          | 0/55 [00:00<?, ?it/s]"
      ]
     },
     "metadata": {},
     "output_type": "display_data"
    },
    {
     "data": {
      "application/vnd.jupyter.widget-view+json": {
       "model_id": "341fa54e68a34a07928a77864ee1754e",
       "version_major": 2,
       "version_minor": 0
      },
      "text/plain": [
       "Epoch:7 LR:0.0049:   0%|          | 0/55 [00:00<?, ?it/s]"
      ]
     },
     "metadata": {},
     "output_type": "display_data"
    },
    {
     "data": {
      "application/vnd.jupyter.widget-view+json": {
       "model_id": "2dcfc00c9b634ab6b832bdcf4bdf0056",
       "version_major": 2,
       "version_minor": 0
      },
      "text/plain": [
       "Epoch:8 LR:0.0049:   0%|          | 0/55 [00:00<?, ?it/s]"
      ]
     },
     "metadata": {},
     "output_type": "display_data"
    },
    {
     "data": {
      "application/vnd.jupyter.widget-view+json": {
       "model_id": "1f2fcb5c7dd14f18a6a3994268dbb935",
       "version_major": 2,
       "version_minor": 0
      },
      "text/plain": [
       "Epoch:9 LR:0.0049:   0%|          | 0/55 [00:00<?, ?it/s]"
      ]
     },
     "metadata": {},
     "output_type": "display_data"
    },
    {
     "data": {
      "application/vnd.jupyter.widget-view+json": {
       "model_id": "f406aa9823324615ba6ce4bc38525af5",
       "version_major": 2,
       "version_minor": 0
      },
      "text/plain": [
       "Epoch:10 LR:0.0049:   0%|          | 0/55 [00:00<?, ?it/s]"
      ]
     },
     "metadata": {},
     "output_type": "display_data"
    },
    {
     "data": {
      "application/vnd.jupyter.widget-view+json": {
       "model_id": "cfc651b7cdc54480a9162f1c1a69173a",
       "version_major": 2,
       "version_minor": 0
      },
      "text/plain": [
       "Epoch:11 LR:0.0048:   0%|          | 0/55 [00:00<?, ?it/s]"
      ]
     },
     "metadata": {},
     "output_type": "display_data"
    },
    {
     "data": {
      "application/vnd.jupyter.widget-view+json": {
       "model_id": "af864f656d0f4584a09caf85eb86d2a6",
       "version_major": 2,
       "version_minor": 0
      },
      "text/plain": [
       "Epoch:12 LR:0.0048:   0%|          | 0/55 [00:00<?, ?it/s]"
      ]
     },
     "metadata": {},
     "output_type": "display_data"
    },
    {
     "data": {
      "application/vnd.jupyter.widget-view+json": {
       "model_id": "98f2e3b9a4444a9f9eca28c0d7ecf84c",
       "version_major": 2,
       "version_minor": 0
      },
      "text/plain": [
       "Epoch:13 LR:0.0048:   0%|          | 0/55 [00:00<?, ?it/s]"
      ]
     },
     "metadata": {},
     "output_type": "display_data"
    },
    {
     "data": {
      "application/vnd.jupyter.widget-view+json": {
       "model_id": "523bb4fc710f4638addd40c673c8afa3",
       "version_major": 2,
       "version_minor": 0
      },
      "text/plain": [
       "Epoch:14 LR:0.0048:   0%|          | 0/55 [00:00<?, ?it/s]"
      ]
     },
     "metadata": {},
     "output_type": "display_data"
    },
    {
     "data": {
      "application/vnd.jupyter.widget-view+json": {
       "model_id": "964f9f02d0314ce092fe7a6491e569f0",
       "version_major": 2,
       "version_minor": 0
      },
      "text/plain": [
       "Epoch:15 LR:0.0048:   0%|          | 0/55 [00:00<?, ?it/s]"
      ]
     },
     "metadata": {},
     "output_type": "display_data"
    },
    {
     "data": {
      "application/vnd.jupyter.widget-view+json": {
       "model_id": "74f766a8e91641a18324814311f7dcfc",
       "version_major": 2,
       "version_minor": 0
      },
      "text/plain": [
       "Epoch:16 LR:0.0048:   0%|          | 0/55 [00:00<?, ?it/s]"
      ]
     },
     "metadata": {},
     "output_type": "display_data"
    },
    {
     "data": {
      "application/vnd.jupyter.widget-view+json": {
       "model_id": "071a966d92744b9da674961e1378a7db",
       "version_major": 2,
       "version_minor": 0
      },
      "text/plain": [
       "Epoch:17 LR:0.0048:   0%|          | 0/55 [00:00<?, ?it/s]"
      ]
     },
     "metadata": {},
     "output_type": "display_data"
    },
    {
     "data": {
      "application/vnd.jupyter.widget-view+json": {
       "model_id": "d9deaad89e754cc3a9097c9ad6091b6a",
       "version_major": 2,
       "version_minor": 0
      },
      "text/plain": [
       "Epoch:18 LR:0.0048:   0%|          | 0/55 [00:00<?, ?it/s]"
      ]
     },
     "metadata": {},
     "output_type": "display_data"
    },
    {
     "data": {
      "application/vnd.jupyter.widget-view+json": {
       "model_id": "82abe6e6ab6844debf2ed71d006add3f",
       "version_major": 2,
       "version_minor": 0
      },
      "text/plain": [
       "Epoch:19 LR:0.0047:   0%|          | 0/55 [00:00<?, ?it/s]"
      ]
     },
     "metadata": {},
     "output_type": "display_data"
    },
    {
     "data": {
      "application/vnd.jupyter.widget-view+json": {
       "model_id": "cf422b551836492a853a045d337a2f72",
       "version_major": 2,
       "version_minor": 0
      },
      "text/plain": [
       "Epoch:20 LR:0.0047:   0%|          | 0/55 [00:00<?, ?it/s]"
      ]
     },
     "metadata": {},
     "output_type": "display_data"
    },
    {
     "data": {
      "application/vnd.jupyter.widget-view+json": {
       "model_id": "d37f33243786429bbe6e1460ff349831",
       "version_major": 2,
       "version_minor": 0
      },
      "text/plain": [
       "Epoch:21 LR:0.0047:   0%|          | 0/55 [00:00<?, ?it/s]"
      ]
     },
     "metadata": {},
     "output_type": "display_data"
    },
    {
     "data": {
      "application/vnd.jupyter.widget-view+json": {
       "model_id": "6d32370f8619439dac86d01cf1c44bbd",
       "version_major": 2,
       "version_minor": 0
      },
      "text/plain": [
       "Epoch:22 LR:0.0047:   0%|          | 0/55 [00:00<?, ?it/s]"
      ]
     },
     "metadata": {},
     "output_type": "display_data"
    },
    {
     "data": {
      "application/vnd.jupyter.widget-view+json": {
       "model_id": "d6be733d84344b609a41775fdc39e4b6",
       "version_major": 2,
       "version_minor": 0
      },
      "text/plain": [
       "Epoch:23 LR:0.0047:   0%|          | 0/55 [00:00<?, ?it/s]"
      ]
     },
     "metadata": {},
     "output_type": "display_data"
    },
    {
     "data": {
      "application/vnd.jupyter.widget-view+json": {
       "model_id": "8a74edbb26b04ab8b0f76759dfd93c4e",
       "version_major": 2,
       "version_minor": 0
      },
      "text/plain": [
       "Epoch:24 LR:0.0047:   0%|          | 0/55 [00:00<?, ?it/s]"
      ]
     },
     "metadata": {},
     "output_type": "display_data"
    },
    {
     "data": {
      "application/vnd.jupyter.widget-view+json": {
       "model_id": "e473b6966e174aafa9d5c2aca26e2998",
       "version_major": 2,
       "version_minor": 0
      },
      "text/plain": [
       "Epoch:25 LR:0.0047:   0%|          | 0/55 [00:00<?, ?it/s]"
      ]
     },
     "metadata": {},
     "output_type": "display_data"
    }
   ],
   "source": [
    "importlib.reload(models)\n",
    "importlib.reload(train)\n",
    "from models import TAPLSTM, EALSTM, LSTM\n",
    "from train import start_training\n",
    "\n",
    "\n",
    "daily_in_size = len(data_params['features_dict']['daily'])\n",
    "irregular_in_size = len(data_params['features_dict']['irregular'])\n",
    "static_in_size = dataloader.x_s[basin_list[0]].shape[0]\n",
    "output_size = 1\n",
    "hidden_size = 64\n",
    "dropout = 0.4\n",
    "key = jax.random.PRNGKey(0)\n",
    "\n",
    "num_epochs =  250\n",
    "# lr_schedule = optax.polynomial_schedule(0.01, 0.0001, 2, num_epochs)\n",
    "lr_schedule = optax.exponential_decay(0.005, num_epochs, 0.5)\n",
    "\n",
    "model = TAPLSTM(daily_in_size, irregular_in_size, static_in_size, output_size, hidden_size, key=key, dropout=dropout)\n",
    "# model = LSTM(daily_in_size, output_size, hidden_size, key=key, dropout=dropout)\n",
    "# model = EALSTM(daily_in_size, static_in_size, output_size, hidden_size, key=key, dropout=dropout)\n",
    "\n",
    "model = start_training(model, dataloader, lr_schedule, num_epochs)\n"
   ]
  },
  {
   "cell_type": "code",
   "execution_count": 21,
   "id": "4e119cc9-dc63-411f-a3a8-0a17c5865b01",
   "metadata": {},
   "outputs": [
    {
     "data": {
      "application/vnd.jupyter.widget-view+json": {
       "model_id": "8f9c3fd8130c491189a27bd308d0bfa1",
       "version_major": 2,
       "version_minor": 0
      },
      "text/plain": [
       "  0%|          | 0/726 [00:00<?, ?it/s]"
      ]
     },
     "metadata": {},
     "output_type": "display_data"
    },
    {
     "data": {
      "image/png": "[encoded data removed]",
      "text/plain": [
       "<Figure size 1200x600 with 1 Axes>"
      ]
     },
     "metadata": {},
     "output_type": "display_data"
    }
   ],
   "source": [
    "from metrics import get_all_metrics\n",
    "from matplotlib.dates import YearLocator, DateFormatter\n",
    "import datetime \n",
    "\n",
    "importlib.reload(evaluate)\n",
    "from evaluate import predict\n",
    "\n",
    "basin_subset = np.random.choice(basin_list).tolist()\n",
    "results = predict(model, dataloader, basin_subset=basin_subset)\n",
    "results['pred'] = results['pred'] * (results['pred']>0) #Clip predictions to 0\n",
    "metrics = get_all_metrics(results['obs'],results['pred'])\n",
    "\n",
    "# Plot the true values and predictions\n",
    "fig, ax = plt.subplots(figsize=(12, 6))\n",
    "results['pred'].plot(ax=ax)\n",
    "results['obs'].plot(ax=ax,linestyle='None',marker='o')\n",
    "\n",
    "plt.title(f\"Basin: {basin_subset}, KGE: {metrics['kge']:0.4f}\")\n",
    "plt.legend()\n",
    "plt.show()"
   ]
  },
  {
   "cell_type": "code",
   "execution_count": 22,
   "id": "58fec15c-904c-4b45-b531-f36c771772c5",
   "metadata": {},
   "outputs": [
    {
     "data": {
      "image/png": "[encoded data removed]",
      "text/plain": [
       "<Figure size 640x480 with 1 Axes>"
      ]
     },
     "metadata": {},
     "output_type": "display_data"
    }
   ],
   "source": [
    "results.plot.scatter('obs','pred')\n",
    "plt.gca().axis('square')\n",
    "plt.show()"
   ]
  }
 ],
 "metadata": {
  "kernelspec": {
   "display_name": "Python 3 (ipykernel)",
   "language": "python",
   "name": "python3"
  },
  "language_info": {
   "codemirror_mode": {
    "name": "ipython",
    "version": 3
   },
   "file_extension": ".py",
   "mimetype": "text/x-python",
   "name": "python",
   "nbconvert_exporter": "python",
   "pygments_lexer": "ipython3",
   "version": "3.12.2"
  }
 },
 "nbformat": 4,
 "nbformat_minor": 5
}
