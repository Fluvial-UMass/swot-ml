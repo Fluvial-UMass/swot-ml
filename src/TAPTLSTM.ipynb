{
 "cells": [
  {
   "cell_type": "code",
   "execution_count": 143,
   "id": "1f020388-58f0-4da9-933a-6a02129cd624",
   "metadata": {},
   "outputs": [],
   "source": [
    "import os\n",
    "import pandas as pd\n",
    "import numpy as np\n",
    "from tqdm.notebook import trange, tqdm\n",
    "import jax\n",
    "import optax\n",
    "import matplotlib.pyplot as plt\n",
    "import importlib\n",
    "from pathlib import Path\n",
    "\n",
    "# Force reload of project files\n",
    "import data, train, models, evaluate, metrics\n",
    "importlib.reload(data)\n",
    "from data import DataLoader\n",
    "\n",
    "data_dir = Path(\"../data/wqp\")\n",
    "basin_list_file = data_dir / \"metadata\" / \"site_lists\" / \"sites_ssc_area10000_range10_qcorr0.1_redcorr0.1_n10.txt\"\n",
    "\n",
    "sequence_length = 30\n",
    "batch_size = 256\n",
    "\n",
    "with open(basin_list_file, 'r') as file:\n",
    "    basin_list = file.readlines()\n",
    "    basin_list = [basin.strip() for basin in basin_list]\n",
    "\n",
    "data_params = {'data_dir': data_dir,\n",
    "               'basins': basin_list,\n",
    "               'features_dict': {'daily':['grfr_q'],\n",
    "                                 'irregular':['Blue','Green','Red','Nir','Swir1','Swir2']},\n",
    "               'target': 'ssc',\n",
    "               'time_slice': slice('1979-01-01', '2018-12-31'),\n",
    "               'split_time': np.datetime64('2010-01-01'),\n",
    "               'batch_size': batch_size,\n",
    "               'sequence_length': sequence_length,\n",
    "               'discharge_col': 'grfr_q'}\n",
    "\n",
    "dataloader = DataLoader(**data_params)"
   ]
  },
  {
   "cell_type": "code",
   "execution_count": 153,
   "id": "6dd9e66e-0054-4dab-8dc5-0c6434c17fa4",
   "metadata": {},
   "outputs": [
    {
     "data": {
      "application/vnd.jupyter.widget-view+json": {
       "model_id": "a2623aa4d86647e0b6cba06ecce8ff95",
       "version_major": 2,
       "version_minor": 0
      },
      "text/plain": [
       "Epoch:0 LR:0.0100:   0%|          | 0/18 [00:00<?, ?it/s]"
      ]
     },
     "metadata": {},
     "output_type": "display_data"
    },
    {
     "data": {
      "application/vnd.jupyter.widget-view+json": {
       "model_id": "961da43f2b8b404aa6a25e92e2264ecc",
       "version_major": 2,
       "version_minor": 0
      },
      "text/plain": [
       "Epoch:1 LR:0.0095:   0%|          | 0/18 [00:00<?, ?it/s]"
      ]
     },
     "metadata": {},
     "output_type": "display_data"
    },
    {
     "data": {
      "application/vnd.jupyter.widget-view+json": {
       "model_id": "a36b83461a6b4054b9c3da9c3ad3195f",
       "version_major": 2,
       "version_minor": 0
      },
      "text/plain": [
       "Epoch:2 LR:0.0091:   0%|          | 0/18 [00:00<?, ?it/s]"
      ]
     },
     "metadata": {},
     "output_type": "display_data"
    },
    {
     "data": {
      "application/vnd.jupyter.widget-view+json": {
       "model_id": "8f4fdf0cd6e942ceb0f9e35407f14890",
       "version_major": 2,
       "version_minor": 0
      },
      "text/plain": [
       "Epoch:3 LR:0.0087:   0%|          | 0/18 [00:00<?, ?it/s]"
      ]
     },
     "metadata": {},
     "output_type": "display_data"
    },
    {
     "data": {
      "application/vnd.jupyter.widget-view+json": {
       "model_id": "092ad4296e5c42348265a511e9fc6fd5",
       "version_major": 2,
       "version_minor": 0
      },
      "text/plain": [
       "Epoch:4 LR:0.0083:   0%|          | 0/18 [00:00<?, ?it/s]"
      ]
     },
     "metadata": {},
     "output_type": "display_data"
    },
    {
     "data": {
      "application/vnd.jupyter.widget-view+json": {
       "model_id": "dc9132f80e834e1498cc62c7c1515d68",
       "version_major": 2,
       "version_minor": 0
      },
      "text/plain": [
       "Epoch:5 LR:0.0079:   0%|          | 0/18 [00:00<?, ?it/s]"
      ]
     },
     "metadata": {},
     "output_type": "display_data"
    },
    {
     "data": {
      "application/vnd.jupyter.widget-view+json": {
       "model_id": "d0592bebc3a24dc0a4d8055445830015",
       "version_major": 2,
       "version_minor": 0
      },
      "text/plain": [
       "Epoch:6 LR:0.0076:   0%|          | 0/18 [00:00<?, ?it/s]"
      ]
     },
     "metadata": {},
     "output_type": "display_data"
    },
    {
     "data": {
      "application/vnd.jupyter.widget-view+json": {
       "model_id": "ac5d65234697467b863db65cedf84bdf",
       "version_major": 2,
       "version_minor": 0
      },
      "text/plain": [
       "Epoch:7 LR:0.0072:   0%|          | 0/18 [00:00<?, ?it/s]"
      ]
     },
     "metadata": {},
     "output_type": "display_data"
    },
    {
     "data": {
      "application/vnd.jupyter.widget-view+json": {
       "model_id": "39dd161a12cc4442b7adcb669f6a2e51",
       "version_major": 2,
       "version_minor": 0
      },
      "text/plain": [
       "Epoch:8 LR:0.0069:   0%|          | 0/18 [00:00<?, ?it/s]"
      ]
     },
     "metadata": {},
     "output_type": "display_data"
    },
    {
     "data": {
      "application/vnd.jupyter.widget-view+json": {
       "model_id": "0f48603a0e6f4e6da8037f286d262660",
       "version_major": 2,
       "version_minor": 0
      },
      "text/plain": [
       "Epoch:9 LR:0.0066:   0%|          | 0/18 [00:00<?, ?it/s]"
      ]
     },
     "metadata": {},
     "output_type": "display_data"
    },
    {
     "data": {
      "application/vnd.jupyter.widget-view+json": {
       "model_id": "ae3bb72135254f74b096003a9eb7a5e2",
       "version_major": 2,
       "version_minor": 0
      },
      "text/plain": [
       "Epoch:10 LR:0.0063:   0%|          | 0/18 [00:00<?, ?it/s]"
      ]
     },
     "metadata": {},
     "output_type": "display_data"
    },
    {
     "data": {
      "application/vnd.jupyter.widget-view+json": {
       "model_id": "fc27ee7934f44a2498d18df59d1ef464",
       "version_major": 2,
       "version_minor": 0
      },
      "text/plain": [
       "Epoch:11 LR:0.0060:   0%|          | 0/18 [00:00<?, ?it/s]"
      ]
     },
     "metadata": {},
     "output_type": "display_data"
    },
    {
     "data": {
      "application/vnd.jupyter.widget-view+json": {
       "model_id": "84cf7ea6a9234cbfa45aa32eb850f8a9",
       "version_major": 2,
       "version_minor": 0
      },
      "text/plain": [
       "Epoch:12 LR:0.0058:   0%|          | 0/18 [00:00<?, ?it/s]"
      ]
     },
     "metadata": {},
     "output_type": "display_data"
    },
    {
     "data": {
      "application/vnd.jupyter.widget-view+json": {
       "model_id": "74d902c43792447ca064e702ca98b0e0",
       "version_major": 2,
       "version_minor": 0
      },
      "text/plain": [
       "Epoch:13 LR:0.0055:   0%|          | 0/18 [00:00<?, ?it/s]"
      ]
     },
     "metadata": {},
     "output_type": "display_data"
    },
    {
     "data": {
      "application/vnd.jupyter.widget-view+json": {
       "model_id": "11641580578743769a53cdc7fc199111",
       "version_major": 2,
       "version_minor": 0
      },
      "text/plain": [
       "Epoch:14 LR:0.0052:   0%|          | 0/18 [00:00<?, ?it/s]"
      ]
     },
     "metadata": {},
     "output_type": "display_data"
    },
    {
     "data": {
      "application/vnd.jupyter.widget-view+json": {
       "model_id": "302ec267bbeb4295be4e7d89cc30b3c9",
       "version_major": 2,
       "version_minor": 0
      },
      "text/plain": [
       "Epoch:15 LR:0.0050:   0%|          | 0/18 [00:00<?, ?it/s]"
      ]
     },
     "metadata": {},
     "output_type": "display_data"
    },
    {
     "data": {
      "application/vnd.jupyter.widget-view+json": {
       "model_id": "c2f8b2b90193422db5516c575deec73e",
       "version_major": 2,
       "version_minor": 0
      },
      "text/plain": [
       "Epoch:16 LR:0.0048:   0%|          | 0/18 [00:00<?, ?it/s]"
      ]
     },
     "metadata": {},
     "output_type": "display_data"
    },
    {
     "data": {
      "application/vnd.jupyter.widget-view+json": {
       "model_id": "ac96145b3bf1443bb2267adbc09a6611",
       "version_major": 2,
       "version_minor": 0
      },
      "text/plain": [
       "Epoch:17 LR:0.0046:   0%|          | 0/18 [00:00<?, ?it/s]"
      ]
     },
     "metadata": {},
     "output_type": "display_data"
    },
    {
     "data": {
      "application/vnd.jupyter.widget-view+json": {
       "model_id": "4453dc2cb84747438687e39bd9e0192f",
       "version_major": 2,
       "version_minor": 0
      },
      "text/plain": [
       "Epoch:18 LR:0.0044:   0%|          | 0/18 [00:00<?, ?it/s]"
      ]
     },
     "metadata": {},
     "output_type": "display_data"
    },
    {
     "data": {
      "application/vnd.jupyter.widget-view+json": {
       "model_id": "0701e744e48b42e5965887849dde5177",
       "version_major": 2,
       "version_minor": 0
      },
      "text/plain": [
       "Epoch:19 LR:0.0042:   0%|          | 0/18 [00:00<?, ?it/s]"
      ]
     },
     "metadata": {},
     "output_type": "display_data"
    },
    {
     "data": {
      "application/vnd.jupyter.widget-view+json": {
       "model_id": "3f5b02c2d0c942cb9d75269752e8f8f1",
       "version_major": 2,
       "version_minor": 0
      },
      "text/plain": [
       "Epoch:20 LR:0.0040:   0%|          | 0/18 [00:00<?, ?it/s]"
      ]
     },
     "metadata": {},
     "output_type": "display_data"
    },
    {
     "data": {
      "application/vnd.jupyter.widget-view+json": {
       "model_id": "8e62f0da38d5442597b9e1b769802dba",
       "version_major": 2,
       "version_minor": 0
      },
      "text/plain": [
       "Epoch:21 LR:0.0038:   0%|          | 0/18 [00:00<?, ?it/s]"
      ]
     },
     "metadata": {},
     "output_type": "display_data"
    },
    {
     "data": {
      "application/vnd.jupyter.widget-view+json": {
       "model_id": "b5cbcb8a79c7411f9c058b06ba3d3ea6",
       "version_major": 2,
       "version_minor": 0
      },
      "text/plain": [
       "Epoch:22 LR:0.0036:   0%|          | 0/18 [00:00<?, ?it/s]"
      ]
     },
     "metadata": {},
     "output_type": "display_data"
    },
    {
     "data": {
      "application/vnd.jupyter.widget-view+json": {
       "model_id": "d70714b4d66e40cdb55c602c5307fbce",
       "version_major": 2,
       "version_minor": 0
      },
      "text/plain": [
       "Epoch:23 LR:0.0035:   0%|          | 0/18 [00:00<?, ?it/s]"
      ]
     },
     "metadata": {},
     "output_type": "display_data"
    },
    {
     "data": {
      "application/vnd.jupyter.widget-view+json": {
       "model_id": "171b7f9d8488429ab6f5bbf2accd197a",
       "version_major": 2,
       "version_minor": 0
      },
      "text/plain": [
       "Epoch:24 LR:0.0033:   0%|          | 0/18 [00:00<?, ?it/s]"
      ]
     },
     "metadata": {},
     "output_type": "display_data"
    },
    {
     "data": {
      "application/vnd.jupyter.widget-view+json": {
       "model_id": "74b8c074df68420aa85c33a1fd9a2950",
       "version_major": 2,
       "version_minor": 0
      },
      "text/plain": [
       "Epoch:25 LR:0.0032:   0%|          | 0/18 [00:00<?, ?it/s]"
      ]
     },
     "metadata": {},
     "output_type": "display_data"
    },
    {
     "data": {
      "application/vnd.jupyter.widget-view+json": {
       "model_id": "d42915704616448b84c44682ef97c424",
       "version_major": 2,
       "version_minor": 0
      },
      "text/plain": [
       "Epoch:26 LR:0.0030:   0%|          | 0/18 [00:00<?, ?it/s]"
      ]
     },
     "metadata": {},
     "output_type": "display_data"
    },
    {
     "data": {
      "application/vnd.jupyter.widget-view+json": {
       "model_id": "622dcd5acde44d5db516089e2f73faec",
       "version_major": 2,
       "version_minor": 0
      },
      "text/plain": [
       "Epoch:27 LR:0.0029:   0%|          | 0/18 [00:00<?, ?it/s]"
      ]
     },
     "metadata": {},
     "output_type": "display_data"
    },
    {
     "data": {
      "application/vnd.jupyter.widget-view+json": {
       "model_id": "6616ae2c4522433187432e4c3905a82e",
       "version_major": 2,
       "version_minor": 0
      },
      "text/plain": [
       "Epoch:28 LR:0.0028:   0%|          | 0/18 [00:00<?, ?it/s]"
      ]
     },
     "metadata": {},
     "output_type": "display_data"
    },
    {
     "data": {
      "application/vnd.jupyter.widget-view+json": {
       "model_id": "1b242422895346f7b583ae1ca23d98f7",
       "version_major": 2,
       "version_minor": 0
      },
      "text/plain": [
       "Epoch:29 LR:0.0026:   0%|          | 0/18 [00:00<?, ?it/s]"
      ]
     },
     "metadata": {},
     "output_type": "display_data"
    },
    {
     "data": {
      "application/vnd.jupyter.widget-view+json": {
       "model_id": "b2887c1761024e3eba100a5ced8101a3",
       "version_major": 2,
       "version_minor": 0
      },
      "text/plain": [
       "Epoch:30 LR:0.0025:   0%|          | 0/18 [00:00<?, ?it/s]"
      ]
     },
     "metadata": {},
     "output_type": "display_data"
    },
    {
     "data": {
      "application/vnd.jupyter.widget-view+json": {
       "model_id": "9e56891b5ef540c8b1bc3d4c7de43a6a",
       "version_major": 2,
       "version_minor": 0
      },
      "text/plain": [
       "Epoch:31 LR:0.0024:   0%|          | 0/18 [00:00<?, ?it/s]"
      ]
     },
     "metadata": {},
     "output_type": "display_data"
    },
    {
     "data": {
      "application/vnd.jupyter.widget-view+json": {
       "model_id": "1f08ee543fe3492fa5393bfd8eeaf9a7",
       "version_major": 2,
       "version_minor": 0
      },
      "text/plain": [
       "Epoch:32 LR:0.0023:   0%|          | 0/18 [00:00<?, ?it/s]"
      ]
     },
     "metadata": {},
     "output_type": "display_data"
    },
    {
     "data": {
      "application/vnd.jupyter.widget-view+json": {
       "model_id": "7ba366e0e8a1482fa5fb9da824fc0026",
       "version_major": 2,
       "version_minor": 0
      },
      "text/plain": [
       "Epoch:33 LR:0.0022:   0%|          | 0/18 [00:00<?, ?it/s]"
      ]
     },
     "metadata": {},
     "output_type": "display_data"
    },
    {
     "data": {
      "application/vnd.jupyter.widget-view+json": {
       "model_id": "19c1f2f366a3426e874dce6fa5d5af14",
       "version_major": 2,
       "version_minor": 0
      },
      "text/plain": [
       "Epoch:34 LR:0.0021:   0%|          | 0/18 [00:00<?, ?it/s]"
      ]
     },
     "metadata": {},
     "output_type": "display_data"
    },
    {
     "data": {
      "application/vnd.jupyter.widget-view+json": {
       "model_id": "238c17f7d2374e3ba5074c1716b729d9",
       "version_major": 2,
       "version_minor": 0
      },
      "text/plain": [
       "Epoch:35 LR:0.0020:   0%|          | 0/18 [00:00<?, ?it/s]"
      ]
     },
     "metadata": {},
     "output_type": "display_data"
    },
    {
     "data": {
      "application/vnd.jupyter.widget-view+json": {
       "model_id": "fdb7d588ff3f4aaeb6ca624651ce79f5",
       "version_major": 2,
       "version_minor": 0
      },
      "text/plain": [
       "Epoch:36 LR:0.0019:   0%|          | 0/18 [00:00<?, ?it/s]"
      ]
     },
     "metadata": {},
     "output_type": "display_data"
    },
    {
     "data": {
      "application/vnd.jupyter.widget-view+json": {
       "model_id": "1881417e3a5e436fa5e0aa37907d2324",
       "version_major": 2,
       "version_minor": 0
      },
      "text/plain": [
       "Epoch:37 LR:0.0018:   0%|          | 0/18 [00:00<?, ?it/s]"
      ]
     },
     "metadata": {},
     "output_type": "display_data"
    },
    {
     "data": {
      "application/vnd.jupyter.widget-view+json": {
       "model_id": "fe80bcaf486044138fd894344ab1f7b4",
       "version_major": 2,
       "version_minor": 0
      },
      "text/plain": [
       "Epoch:38 LR:0.0017:   0%|          | 0/18 [00:00<?, ?it/s]"
      ]
     },
     "metadata": {},
     "output_type": "display_data"
    },
    {
     "ename": "KeyboardInterrupt",
     "evalue": "",
     "output_type": "error",
     "traceback": [
      "\u001b[0;31m---------------------------------------------------------------------------\u001b[0m",
      "\u001b[0;31mKeyboardInterrupt\u001b[0m                         Traceback (most recent call last)",
      "Cell \u001b[0;32mIn[153], line 45\u001b[0m\n\u001b[1;32m     40\u001b[0m \u001b[38;5;250m\u001b[39m\u001b[38;5;124;03m\"\"\"\u001b[39;00m\n\u001b[1;32m     41\u001b[0m \u001b[38;5;124;03mTry except block right now to try and diagnose the infrequent runtime error with jnp.where in TEALSTMCell.\u001b[39;00m\n\u001b[1;32m     42\u001b[0m \u001b[38;5;124;03mSee Notion for notes on issue.\u001b[39;00m\n\u001b[1;32m     43\u001b[0m \u001b[38;5;124;03m\"\"\"\u001b[39;00m\n\u001b[1;32m     44\u001b[0m \u001b[38;5;28;01mtry\u001b[39;00m:\n\u001b[0;32m---> 45\u001b[0m     loss, model, opt_state \u001b[38;5;241m=\u001b[39m \u001b[43mmake_step\u001b[49m\u001b[43m(\u001b[49m\u001b[43mmodel\u001b[49m\u001b[43m,\u001b[49m\u001b[43m \u001b[49m\u001b[43mbatch\u001b[49m\u001b[43m,\u001b[49m\u001b[43m \u001b[49m\u001b[43mopt_state\u001b[49m\u001b[43m,\u001b[49m\u001b[43m \u001b[49m\u001b[43moptim\u001b[49m\u001b[43m,\u001b[49m\n\u001b[1;32m     46\u001b[0m \u001b[43m                                       \u001b[49m\u001b[43mloss_name\u001b[49m\u001b[38;5;241;43m=\u001b[39;49m\u001b[38;5;124;43m\"\u001b[39;49m\u001b[38;5;124;43mmse\u001b[39;49m\u001b[38;5;124;43m\"\u001b[39;49m\u001b[43m,\u001b[49m\n\u001b[1;32m     47\u001b[0m \u001b[43m                                       \u001b[49m\u001b[43mmax_grad_norm\u001b[49m\u001b[38;5;241;43m=\u001b[39;49m\u001b[38;5;241;43m3\u001b[39;49m\u001b[43m)\u001b[49m\n\u001b[1;32m     48\u001b[0m                                        \u001b[38;5;66;03m# l2_weight = 1E-4)\u001b[39;00m\n\u001b[1;32m     49\u001b[0m     total_loss \u001b[38;5;241m+\u001b[39m\u001b[38;5;241m=\u001b[39m loss\n",
      "    \u001b[0;31m[... skipping hidden 3 frame]\u001b[0m\n",
      "File \u001b[0;32m~/Library/Caches/pypoetry/virtualenvs/tssml-WvnpDPLB-py3.12/lib/python3.12/site-packages/equinox/_module.py:792\u001b[0m, in \u001b[0;36m_unflatten_module\u001b[0;34m(cls, aux, dynamic_field_values)\u001b[0m\n\u001b[1;32m    782\u001b[0m     aux \u001b[38;5;241m=\u001b[39m _FlattenedData(\n\u001b[1;32m    783\u001b[0m         \u001b[38;5;28mtuple\u001b[39m(dynamic_field_names),\n\u001b[1;32m    784\u001b[0m         \u001b[38;5;28mtuple\u001b[39m(static_field_names),\n\u001b[0;32m   (...)\u001b[0m\n\u001b[1;32m    787\u001b[0m         \u001b[38;5;28mtuple\u001b[39m(wrapper_field_values),\n\u001b[1;32m    788\u001b[0m     )\n\u001b[1;32m    789\u001b[0m     \u001b[38;5;28;01mreturn\u001b[39;00m \u001b[38;5;28mtuple\u001b[39m(dynamic_field_values), aux\n\u001b[0;32m--> 792\u001b[0m \u001b[38;5;28;01mdef\u001b[39;00m \u001b[38;5;21m_unflatten_module\u001b[39m(\u001b[38;5;28mcls\u001b[39m: \u001b[38;5;28mtype\u001b[39m[\u001b[38;5;124m\"\u001b[39m\u001b[38;5;124mModule\u001b[39m\u001b[38;5;124m\"\u001b[39m], aux: _FlattenedData, dynamic_field_values):\n\u001b[1;32m    793\u001b[0m     \u001b[38;5;66;03m# This doesn't go via `__init__`. A user may have done something nontrivial there,\u001b[39;00m\n\u001b[1;32m    794\u001b[0m     \u001b[38;5;66;03m# and the field values may be dummy values as used in various places throughout JAX.\u001b[39;00m\n\u001b[1;32m    795\u001b[0m     \u001b[38;5;66;03m# See also\u001b[39;00m\n\u001b[1;32m    796\u001b[0m     \u001b[38;5;66;03m# https://jax.readthedocs.io/en/latest/pytrees.html#custom-pytrees-and-initialization,\u001b[39;00m\n\u001b[1;32m    797\u001b[0m     \u001b[38;5;66;03m# which was (I believe) inspired by Equinox's approach here.\u001b[39;00m\n\u001b[1;32m    798\u001b[0m     module \u001b[38;5;241m=\u001b[39m \u001b[38;5;28mobject\u001b[39m\u001b[38;5;241m.\u001b[39m\u001b[38;5;21m__new__\u001b[39m(\u001b[38;5;28mcls\u001b[39m)\n\u001b[1;32m    799\u001b[0m     \u001b[38;5;28;01mfor\u001b[39;00m name, value \u001b[38;5;129;01min\u001b[39;00m \u001b[38;5;28mzip\u001b[39m(aux\u001b[38;5;241m.\u001b[39mdynamic_field_names, dynamic_field_values):\n",
      "\u001b[0;31mKeyboardInterrupt\u001b[0m: "
     ]
    }
   ],
   "source": [
    "importlib.reload(models)\n",
    "importlib.reload(train)\n",
    "from models import TAPLSTM, EALSTM, LSTM\n",
    "from train import make_step\n",
    "\n",
    "daily_in_size = len(data_params['features_dict']['daily'])\n",
    "irregular_in_size = len(data_params['features_dict']['irregular'])\n",
    "static_in_size = dataloader.x_s[basin_list[0]].shape[0]\n",
    "out_size = 1\n",
    "hidden_size = 128\n",
    "dropout = 0.4\n",
    "key = jax.random.PRNGKey(0)\n",
    "\n",
    "num_epochs =  100\n",
    "# lr_schedule = optax.polynomial_schedule(0.01, 0.0001, 2, num_epochs)\n",
    "lr_schedule = optax.exponential_decay(0.01, num_epochs/2, 0.1)\n",
    "\n",
    "model = TAPLSTM(daily_in_size, irregular_in_size, static_in_size, out_size, hidden_size, key=key, dropout=dropout)\n",
    "# model = LSTM(daily_in_size, output_size, hidden_size, key=key, dropout=dropout)\n",
    "# model = EALSTM(daily_in_size, static_in_size, output_size, hidden_size, key=key, dropout=dropout)\n",
    "\n",
    "# Initialize optimizer \n",
    "current_lr = lr_schedule(0)\n",
    "optim = optax.adam(current_lr)\n",
    "opt_state = optim.init(model)\n",
    "\n",
    "# Training loop\n",
    "loss_list = []\n",
    "# pbar = trange(num_epochs, desc=\"Epoch\")\n",
    "# for epoch in pbar:\n",
    "for epoch in range(num_epochs):\n",
    "    # jax.profiler.start_trace(f\"/Users/Ted/Documents/GitHub/tss-ml/tmp/profile_{epoch}\") \n",
    "    current_lr = lr_schedule(epoch)\n",
    "    optim = optax.adam(current_lr)\n",
    "    total_loss = 0\n",
    "    num_batches = 0\n",
    "    dataloader.train = True\n",
    "    pbar = tqdm(dataloader, desc=f\"Epoch:{epoch} LR:{current_lr:0.4f}\")\n",
    "    for basins, _, batch in pbar:\n",
    "        \"\"\"\n",
    "        Try except block right now to try and diagnose the infrequent runtime error with jnp.where in TEALSTMCell.\n",
    "        See Notion for notes on issue.\n",
    "        \"\"\"\n",
    "        try:\n",
    "            loss, model, opt_state = make_step(model, batch, opt_state, optim,\n",
    "                                               loss_name=\"mse\",\n",
    "                                               max_grad_norm=3)\n",
    "                                               # l2_weight = 1E-4)\n",
    "            total_loss += loss\n",
    "            num_batches += 1\n",
    "            pbar.set_postfix_str(f\"Loss: {total_loss/num_batches:.4f}\")\n",
    "        except Exception:\n",
    "            print(f\"Broken model run at epoch {epoch}\")\n",
    "            continue\n",
    "            \n",
    "    current_loss = total_loss / num_batches\n",
    "    loss_list.append(current_loss)\n",
    "    # pbar.set_postfix_str(f\"Loss: {current_loss:.4f}\")\n",
    "\n",
    "    # jax.profiler.stop_trace()\n",
    "\n",
    "plt.plot(loss_list)\n",
    "plt.ylabel(\"Loss\")\n",
    "plt.xlabel(\"Epoch\")"
   ]
  },
  {
   "cell_type": "code",
   "execution_count": 160,
   "id": "4e119cc9-dc63-411f-a3a8-0a17c5865b01",
   "metadata": {},
   "outputs": [
    {
     "data": {
      "application/vnd.jupyter.widget-view+json": {
       "model_id": "009573a32ef94ebbbff8fdd5f266f730",
       "version_major": 2,
       "version_minor": 0
      },
      "text/plain": [
       "  0%|          | 0/296 [00:00<?, ?it/s]"
      ]
     },
     "metadata": {},
     "output_type": "display_data"
    },
    {
     "name": "stderr",
     "output_type": "stream",
     "text": [
      "/Users/Ted/Documents/GitHub/tss-ml/src/metrics.py:13: RuntimeWarning: Mean of empty slice\n",
      "  return np.nanmean((y - y_hat)**2)\n",
      "/Users/Ted/Library/Caches/pypoetry/virtualenvs/tssml-WvnpDPLB-py3.12/lib/python3.12/site-packages/numpy/lib/function_base.py:520: RuntimeWarning: Mean of empty slice.\n",
      "  avg = a.mean(axis, **keepdims_kw)\n",
      "/Users/Ted/Library/Caches/pypoetry/virtualenvs/tssml-WvnpDPLB-py3.12/lib/python3.12/site-packages/numpy/core/_methods.py:121: RuntimeWarning: invalid value encountered in divide\n",
      "  ret = um.true_divide(\n",
      "/Users/Ted/Library/Caches/pypoetry/virtualenvs/tssml-WvnpDPLB-py3.12/lib/python3.12/site-packages/numpy/lib/function_base.py:2889: RuntimeWarning: Degrees of freedom <= 0 for slice\n",
      "  c = cov(x, y, rowvar, dtype=dtype)\n",
      "/Users/Ted/Library/Caches/pypoetry/virtualenvs/tssml-WvnpDPLB-py3.12/lib/python3.12/site-packages/numpy/lib/function_base.py:2748: RuntimeWarning: divide by zero encountered in divide\n",
      "  c *= np.true_divide(1, fact)\n",
      "/Users/Ted/Library/Caches/pypoetry/virtualenvs/tssml-WvnpDPLB-py3.12/lib/python3.12/site-packages/numpy/lib/function_base.py:2748: RuntimeWarning: invalid value encountered in multiply\n",
      "  c *= np.true_divide(1, fact)\n",
      "/Users/Ted/Documents/GitHub/tss-ml/src/metrics.py:41: RuntimeWarning: invalid value encountered in scalar divide\n",
      "  value = 1 - numerator / denominator\n"
     ]
    },
    {
     "data": {
      "image/png": "[encoded data removed]",
      "text/plain": [
       "<Figure size 1200x600 with 1 Axes>"
      ]
     },
     "metadata": {},
     "output_type": "display_data"
    }
   ],
   "source": [
    "from metrics import get_all_metrics\n",
    "from matplotlib.dates import YearLocator, DateFormatter\n",
    "import datetime \n",
    "\n",
    "importlib.reload(evaluate)\n",
    "from evaluate import predict\n",
    "\n",
    "basin_subset = np.random.choice(basin_list).tolist()\n",
    "results = predict(model, dataloader, basin_subset=basin_subset)\n",
    "results['pred'] = results['pred'] * (results['pred']>0) #Clip predictions to 0\n",
    "metrics = get_all_metrics(results['obs'],results['pred'])\n",
    "\n",
    "# Plot the true values and predictions\n",
    "fig, ax = plt.subplots(figsize=(12, 6))\n",
    "results['pred'].plot(ax=ax)\n",
    "results['obs'].plot(ax=ax,linestyle='None',marker='o')\n",
    "\n",
    "plt.title(f\"Basin: {basin_id}, KGE: {metrics['kge']:0.4f}\")\n",
    "plt.legend()\n",
    "plt.show()"
   ]
  },
  {
   "cell_type": "code",
   "execution_count": 95,
   "id": "7ee811fb-f9ee-4985-877d-88f9fea8b81a",
   "metadata": {},
   "outputs": [
    {
     "data": {
      "text/html": [
       "<div>\n",
       "<style scoped>\n",
       "    .dataframe tbody tr th:only-of-type {\n",
       "        vertical-align: middle;\n",
       "    }\n",
       "\n",
       "    .dataframe tbody tr th {\n",
       "        vertical-align: top;\n",
       "    }\n",
       "\n",
       "    .dataframe thead th {\n",
       "        text-align: right;\n",
       "    }\n",
       "</style>\n",
       "<table border=\"1\" class=\"dataframe\">\n",
       "  <thead>\n",
       "    <tr style=\"text-align: right;\">\n",
       "      <th></th>\n",
       "      <th></th>\n",
       "      <th>obs</th>\n",
       "      <th>pred</th>\n",
       "    </tr>\n",
       "    <tr>\n",
       "      <th>basin</th>\n",
       "      <th>date</th>\n",
       "      <th></th>\n",
       "      <th></th>\n",
       "    </tr>\n",
       "  </thead>\n",
       "  <tbody>\n",
       "    <tr>\n",
       "      <th rowspan=\"11\" valign=\"top\">7121116600</th>\n",
       "      <th>2010-01-01</th>\n",
       "      <td>NaN</td>\n",
       "      <td>426.182892</td>\n",
       "    </tr>\n",
       "    <tr>\n",
       "      <th>2010-01-02</th>\n",
       "      <td>NaN</td>\n",
       "      <td>427.045074</td>\n",
       "    </tr>\n",
       "    <tr>\n",
       "      <th>2010-01-03</th>\n",
       "      <td>NaN</td>\n",
       "      <td>428.252380</td>\n",
       "    </tr>\n",
       "    <tr>\n",
       "      <th>2010-01-04</th>\n",
       "      <td>NaN</td>\n",
       "      <td>430.064178</td>\n",
       "    </tr>\n",
       "    <tr>\n",
       "      <th>2010-01-05</th>\n",
       "      <td>NaN</td>\n",
       "      <td>433.085846</td>\n",
       "    </tr>\n",
       "    <tr>\n",
       "      <th>...</th>\n",
       "      <td>...</td>\n",
       "      <td>...</td>\n",
       "    </tr>\n",
       "    <tr>\n",
       "      <th>2018-12-27</th>\n",
       "      <td>NaN</td>\n",
       "      <td>9.037933</td>\n",
       "    </tr>\n",
       "    <tr>\n",
       "      <th>2018-12-28</th>\n",
       "      <td>NaN</td>\n",
       "      <td>10.495056</td>\n",
       "    </tr>\n",
       "    <tr>\n",
       "      <th>2018-12-29</th>\n",
       "      <td>NaN</td>\n",
       "      <td>12.929474</td>\n",
       "    </tr>\n",
       "    <tr>\n",
       "      <th>2018-12-30</th>\n",
       "      <td>NaN</td>\n",
       "      <td>17.807617</td>\n",
       "    </tr>\n",
       "    <tr>\n",
       "      <th>2018-12-31</th>\n",
       "      <td>NaN</td>\n",
       "      <td>32.569336</td>\n",
       "    </tr>\n",
       "  </tbody>\n",
       "</table>\n",
       "<p>3287 rows × 2 columns</p>\n",
       "</div>"
      ],
      "text/plain": [
       "                       obs        pred\n",
       "basin      date                       \n",
       "7121116600 2010-01-01  NaN  426.182892\n",
       "           2010-01-02  NaN  427.045074\n",
       "           2010-01-03  NaN  428.252380\n",
       "           2010-01-04  NaN  430.064178\n",
       "           2010-01-05  NaN  433.085846\n",
       "...                    ...         ...\n",
       "           2018-12-27  NaN    9.037933\n",
       "           2018-12-28  NaN   10.495056\n",
       "           2018-12-29  NaN   12.929474\n",
       "           2018-12-30  NaN   17.807617\n",
       "           2018-12-31  NaN   32.569336\n",
       "\n",
       "[3287 rows x 2 columns]"
      ]
     },
     "execution_count": 95,
     "metadata": {},
     "output_type": "execute_result"
    }
   ],
   "source": [
    "results"
   ]
  },
  {
   "cell_type": "code",
   "execution_count": 78,
   "id": "58fec15c-904c-4b45-b531-f36c771772c5",
   "metadata": {},
   "outputs": [
    {
     "data": {
      "text/plain": [
       "(-0.05500000000000001,\n",
       " 0.05500000000000001,\n",
       " -0.05500000000000001,\n",
       " 0.05500000000000001)"
      ]
     },
     "execution_count": 78,
     "metadata": {},
     "output_type": "execute_result"
    },
    {
     "data": {
      "image/png": "[encoded data removed]",
      "text/plain": [
       "<Figure size 600x600 with 1 Axes>"
      ]
     },
     "metadata": {},
     "output_type": "display_data"
    },
    {
     "data": {
      "image/png": "[encoded data removed]",
      "text/plain": [
       "<Figure size 640x480 with 1 Axes>"
      ]
     },
     "metadata": {},
     "output_type": "display_data"
    }
   ],
   "source": [
    "fig, ax = plt.subplots(figsize=(6, 6))\n",
    "basin_results.plot.scatter('obs','pred')\n",
    "# plt.xlim([-0.005,0.12])\n",
    "# plt.ylim([-0.005,0.12])\n",
    "plt.gca().axis('square')\n",
    "plt.show()"
   ]
  }
 ],
 "metadata": {
  "kernelspec": {
   "display_name": "Python 3 (ipykernel)",
   "language": "python",
   "name": "python3"
  },
  "language_info": {
   "codemirror_mode": {
    "name": "ipython",
    "version": 3
   },
   "file_extension": ".py",
   "mimetype": "text/x-python",
   "name": "python",
   "nbconvert_exporter": "python",
   "pygments_lexer": "ipython3",
   "version": "3.12.2"
  }
 },
 "nbformat": 4,
 "nbformat_minor": 5
}
