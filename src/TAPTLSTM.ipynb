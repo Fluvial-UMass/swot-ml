{
 "cells": [
  {
   "cell_type": "code",
   "execution_count": 1,
   "id": "1f020388-58f0-4da9-933a-6a02129cd624",
   "metadata": {},
   "outputs": [
    {
     "name": "stdout",
     "output_type": "stream",
     "text": [
      "JAX devices: [CpuDevice(id=0)]\n"
     ]
    },
    {
     "data": {
      "application/vnd.jupyter.widget-view+json": {
       "model_id": "3305b5e1637e4c39836caaf1c02d7217",
       "version_major": 2,
       "version_minor": 0
      },
      "text/plain": [
       "Loading Basins:   0%|          | 0/650 [00:00<?, ?it/s]"
      ]
     },
     "metadata": {},
     "output_type": "display_data"
    }
   ],
   "source": [
    "import os\n",
    "import pandas as pd\n",
    "import numpy as np\n",
    "from tqdm.notebook import trange, tqdm\n",
    "import jax\n",
    "import optax\n",
    "import matplotlib.pyplot as plt\n",
    "import importlib\n",
    "from pathlib import Path\n",
    "print(f\"JAX devices: {jax.devices()}\")\n",
    "\n",
    "# Force reload of project files\n",
    "import data, train, models, evaluate, metrics\n",
    "importlib.reload(data)\n",
    "from data import DataLoader\n",
    "\n",
    "data_dir = Path(\"../data/wqp\")\n",
    "basin_list_file = data_dir / \"metadata\" / \"site_lists\" / \"sites_ssc_area1000_n10.txt\"\n",
    "\n",
    "sequence_length = 30\n",
    "batch_size = 512\n",
    "\n",
    "with open(basin_list_file, 'r') as file:\n",
    "    basin_list = file.readlines()\n",
    "    basin_list = [basin.strip() for basin in basin_list]\n",
    "\n",
    "data_params = {'data_dir': data_dir,\n",
    "               'basins': basin_list,\n",
    "               'features_dict': {'daily':['grfr_q'],\n",
    "                                 'irregular':['Blue','Green','Red','Nir','Swir1','Swir2']},\n",
    "               'target': 'ssc',\n",
    "               'time_slice': slice('1979-01-01', '2018-12-31'),\n",
    "               'split_time': np.datetime64('2010-01-01'),\n",
    "               'batch_size': batch_size,\n",
    "               'sequence_length': sequence_length,\n",
    "               'discharge_col': 'grfr_q'}\n",
    "\n",
    "dataloader = DataLoader(**data_params)"
   ]
  },
  {
   "cell_type": "code",
   "execution_count": null,
   "id": "6dd9e66e-0054-4dab-8dc5-0c6434c17fa4",
   "metadata": {},
   "outputs": [
    {
     "data": {
      "application/vnd.jupyter.widget-view+json": {
       "model_id": "31b7d9ea887c48c29361b7b9c747b402",
       "version_major": 2,
       "version_minor": 0
      },
      "text/plain": [
       "Epoch:1 LR:0.0097:   0%|          | 0/336 [00:00<?, ?it/s]"
      ]
     },
     "metadata": {},
     "output_type": "display_data"
    },
    {
     "data": {
      "application/vnd.jupyter.widget-view+json": {
       "model_id": "086eddb12fcd4080b3796def3fe768f4",
       "version_major": 2,
       "version_minor": 0
      },
      "text/plain": [
       "Epoch:2 LR:0.0095:   0%|          | 0/336 [00:00<?, ?it/s]"
      ]
     },
     "metadata": {},
     "output_type": "display_data"
    },
    {
     "data": {
      "application/vnd.jupyter.widget-view+json": {
       "model_id": "1132b648472342da838eb6d506213bcd",
       "version_major": 2,
       "version_minor": 0
      },
      "text/plain": [
       "Epoch:3 LR:0.0092:   0%|          | 0/336 [00:00<?, ?it/s]"
      ]
     },
     "metadata": {},
     "output_type": "display_data"
    },
    {
     "data": {
      "application/vnd.jupyter.widget-view+json": {
       "model_id": "0f2f90b551674f6d868b70706fa4d122",
       "version_major": 2,
       "version_minor": 0
      },
      "text/plain": [
       "Epoch:4 LR:0.0090:   0%|          | 0/336 [00:00<?, ?it/s]"
      ]
     },
     "metadata": {},
     "output_type": "display_data"
    },
    {
     "data": {
      "application/vnd.jupyter.widget-view+json": {
       "model_id": "5b06b3d8a4b84d37a126d9a1dce508ae",
       "version_major": 2,
       "version_minor": 0
      },
      "text/plain": [
       "Epoch:5 LR:0.0087:   0%|          | 0/336 [00:00<?, ?it/s]"
      ]
     },
     "metadata": {},
     "output_type": "display_data"
    },
    {
     "data": {
      "application/vnd.jupyter.widget-view+json": {
       "model_id": "9d110dd74aeb40bbac22b3bf62625ff5",
       "version_major": 2,
       "version_minor": 0
      },
      "text/plain": [
       "Epoch:6 LR:0.0085:   0%|          | 0/336 [00:00<?, ?it/s]"
      ]
     },
     "metadata": {},
     "output_type": "display_data"
    },
    {
     "data": {
      "application/vnd.jupyter.widget-view+json": {
       "model_id": "049aea1abfcb44dd9f2864cfefd583ff",
       "version_major": 2,
       "version_minor": 0
      },
      "text/plain": [
       "Epoch:7 LR:0.0082:   0%|          | 0/336 [00:00<?, ?it/s]"
      ]
     },
     "metadata": {},
     "output_type": "display_data"
    },
    {
     "data": {
      "application/vnd.jupyter.widget-view+json": {
       "model_id": "5af441c2f95a4f5db2d7b7205532e60d",
       "version_major": 2,
       "version_minor": 0
      },
      "text/plain": [
       "Epoch:8 LR:0.0080:   0%|          | 0/336 [00:00<?, ?it/s]"
      ]
     },
     "metadata": {},
     "output_type": "display_data"
    },
    {
     "data": {
      "application/vnd.jupyter.widget-view+json": {
       "model_id": "594c4d2aea4348ee8e98e0796bf176d4",
       "version_major": 2,
       "version_minor": 0
      },
      "text/plain": [
       "Epoch:9 LR:0.0078:   0%|          | 0/336 [00:00<?, ?it/s]"
      ]
     },
     "metadata": {},
     "output_type": "display_data"
    },
    {
     "data": {
      "application/vnd.jupyter.widget-view+json": {
       "model_id": "5adc4390c01144c8bd6a2da77907b0e1",
       "version_major": 2,
       "version_minor": 0
      },
      "text/plain": [
       "Epoch:10 LR:0.0076:   0%|          | 0/336 [00:00<?, ?it/s]"
      ]
     },
     "metadata": {},
     "output_type": "display_data"
    },
    {
     "data": {
      "application/vnd.jupyter.widget-view+json": {
       "model_id": "8bde7b86a0824913b726225369a0c707",
       "version_major": 2,
       "version_minor": 0
      },
      "text/plain": [
       "Epoch:11 LR:0.0074:   0%|          | 0/336 [00:00<?, ?it/s]"
      ]
     },
     "metadata": {},
     "output_type": "display_data"
    },
    {
     "data": {
      "application/vnd.jupyter.widget-view+json": {
       "model_id": "6b8a654ebce045298180692734a1d6b6",
       "version_major": 2,
       "version_minor": 0
      },
      "text/plain": [
       "Epoch:12 LR:0.0072:   0%|          | 0/336 [00:00<?, ?it/s]"
      ]
     },
     "metadata": {},
     "output_type": "display_data"
    },
    {
     "data": {
      "application/vnd.jupyter.widget-view+json": {
       "model_id": "e4c6c93270214d03bf801dd6a8da646d",
       "version_major": 2,
       "version_minor": 0
      },
      "text/plain": [
       "Epoch:13 LR:0.0070:   0%|          | 0/336 [00:00<?, ?it/s]"
      ]
     },
     "metadata": {},
     "output_type": "display_data"
    },
    {
     "data": {
      "application/vnd.jupyter.widget-view+json": {
       "model_id": "a5ced5ffea09440aaaa12234309e4e99",
       "version_major": 2,
       "version_minor": 0
      },
      "text/plain": [
       "Epoch:14 LR:0.0068:   0%|          | 0/336 [00:00<?, ?it/s]"
      ]
     },
     "metadata": {},
     "output_type": "display_data"
    },
    {
     "data": {
      "application/vnd.jupyter.widget-view+json": {
       "model_id": "be1defe2aed04b0c9580f7e6b16aadf8",
       "version_major": 2,
       "version_minor": 0
      },
      "text/plain": [
       "Epoch:15 LR:0.0066:   0%|          | 0/336 [00:00<?, ?it/s]"
      ]
     },
     "metadata": {},
     "output_type": "display_data"
    },
    {
     "data": {
      "application/vnd.jupyter.widget-view+json": {
       "model_id": "4cf611f3a8f44391b94ca19088787edf",
       "version_major": 2,
       "version_minor": 0
      },
      "text/plain": [
       "Epoch:16 LR:0.0064:   0%|          | 0/336 [00:00<?, ?it/s]"
      ]
     },
     "metadata": {},
     "output_type": "display_data"
    },
    {
     "data": {
      "application/vnd.jupyter.widget-view+json": {
       "model_id": "b9e18e897aeb4e9ba51fd3561560b30e",
       "version_major": 2,
       "version_minor": 0
      },
      "text/plain": [
       "Epoch:17 LR:0.0062:   0%|          | 0/336 [00:00<?, ?it/s]"
      ]
     },
     "metadata": {},
     "output_type": "display_data"
    },
    {
     "data": {
      "application/vnd.jupyter.widget-view+json": {
       "model_id": "350d764a726c406c90625cc7151aebab",
       "version_major": 2,
       "version_minor": 0
      },
      "text/plain": [
       "Epoch:18 LR:0.0061:   0%|          | 0/336 [00:00<?, ?it/s]"
      ]
     },
     "metadata": {},
     "output_type": "display_data"
    },
    {
     "data": {
      "application/vnd.jupyter.widget-view+json": {
       "model_id": "f429ee8660c94f35ba9a865edaeff374",
       "version_major": 2,
       "version_minor": 0
      },
      "text/plain": [
       "Epoch:19 LR:0.0059:   0%|          | 0/336 [00:00<?, ?it/s]"
      ]
     },
     "metadata": {},
     "output_type": "display_data"
    },
    {
     "name": "stdout",
     "output_type": "stream",
     "text": [
      "Model broke in epoch 19! Logged data and states to ../logs/20240411_1841/error0_data.pkl\n"
     ]
    },
    {
     "data": {
      "application/vnd.jupyter.widget-view+json": {
       "model_id": "50ded33caf164d33afb7e2b1eeb9f1f6",
       "version_major": 2,
       "version_minor": 0
      },
      "text/plain": [
       "Epoch:20 LR:0.0057:   0%|          | 0/336 [00:00<?, ?it/s]"
      ]
     },
     "metadata": {},
     "output_type": "display_data"
    },
    {
     "data": {
      "application/vnd.jupyter.widget-view+json": {
       "model_id": "43024cb2069342e99a19a98052379cfe",
       "version_major": 2,
       "version_minor": 0
      },
      "text/plain": [
       "Epoch:21 LR:0.0056:   0%|          | 0/336 [00:00<?, ?it/s]"
      ]
     },
     "metadata": {},
     "output_type": "display_data"
    },
    {
     "data": {
      "application/vnd.jupyter.widget-view+json": {
       "model_id": "9caebcfc4f1c46c09187c5077e8d1f11",
       "version_major": 2,
       "version_minor": 0
      },
      "text/plain": [
       "Epoch:22 LR:0.0054:   0%|          | 0/336 [00:00<?, ?it/s]"
      ]
     },
     "metadata": {},
     "output_type": "display_data"
    }
   ],
   "source": [
    "importlib.reload(models)\n",
    "importlib.reload(train)\n",
    "from models import TAPLSTM, EALSTM, LSTM\n",
    "from train import start_training\n",
    "\n",
    "\n",
    "daily_in_size = len(data_params['features_dict']['daily'])\n",
    "irregular_in_size = len(data_params['features_dict']['irregular'])\n",
    "static_in_size = dataloader.x_s[basin_list[0]].shape[0]\n",
    "output_size = 1\n",
    "hidden_size = 64\n",
    "dropout = 0.4\n",
    "key = jax.random.PRNGKey(0)\n",
    "\n",
    "num_epochs =  50\n",
    "# lr_schedule = optax.polynomial_schedule(0.01, 0.0001, 2, num_epochs)\n",
    "lr_schedule = optax.exponential_decay(0.01, num_epochs/2, 0.5)\n",
    "\n",
    "model = TAPLSTM(daily_in_size, irregular_in_size, static_in_size, output_size, hidden_size, key=key, dropout=dropout)\n",
    "# model = LSTM(daily_in_size, output_size, hidden_size, key=key, dropout=dropout)\n",
    "# model = EALSTM(daily_in_size, static_in_size, output_size, hidden_size, key=key, dropout=dropout)\n",
    "\n",
    "model = start_training(model, dataloader, lr_schedule, num_epochs)\n"
   ]
  },
  {
   "cell_type": "code",
   "execution_count": null,
   "id": "4e119cc9-dc63-411f-a3a8-0a17c5865b01",
   "metadata": {},
   "outputs": [],
   "source": [
    "from metrics import get_all_metrics\n",
    "from matplotlib.dates import YearLocator, DateFormatter\n",
    "import datetime \n",
    "\n",
    "importlib.reload(evaluate)\n",
    "from evaluate import predict\n",
    "\n",
    "basin_subset = np.random.choice(basin_list).tolist()\n",
    "results = predict(model, dataloader, basin_subset=basin_subset)\n",
    "results['pred'] = results['pred'] * (results['pred']>0) #Clip predictions to 0\n",
    "metrics = get_all_metrics(results['obs'],results['pred'])\n",
    "\n",
    "# Plot the true values and predictions\n",
    "fig, ax = plt.subplots(figsize=(12, 6))\n",
    "results['pred'].plot(ax=ax)\n",
    "results['obs'].plot(ax=ax,linestyle='None',marker='o')\n",
    "\n",
    "plt.title(f\"Basin: {basin_id}, KGE: {metrics['kge']:0.4f}\")\n",
    "plt.legend()\n",
    "plt.show()"
   ]
  },
  {
   "cell_type": "code",
   "execution_count": null,
   "id": "58fec15c-904c-4b45-b531-f36c771772c5",
   "metadata": {},
   "outputs": [],
   "source": [
    "fig, ax = plt.subplots(figsize=(6, 6))\n",
    "basin_results.plot.scatter('obs','pred')\n",
    "plt.gca().axis('square')\n",
    "plt.show()"
   ]
  }
 ],
 "metadata": {
  "kernelspec": {
   "display_name": "Python 3 (ipykernel)",
   "language": "python",
   "name": "python3"
  },
  "language_info": {
   "codemirror_mode": {
    "name": "ipython",
    "version": 3
   },
   "file_extension": ".py",
   "mimetype": "text/x-python",
   "name": "python",
   "nbconvert_exporter": "python",
   "pygments_lexer": "ipython3",
   "version": "3.12.2"
  }
 },
 "nbformat": 4,
 "nbformat_minor": 5
}
